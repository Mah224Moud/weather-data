{
 "cells": [
  {
   "cell_type": "code",
   "execution_count": 1,
   "metadata": {
    "execution": {
     "iopub.execute_input": "2025-02-01T23:23:26.838753Z",
     "iopub.status.busy": "2025-02-01T23:23:26.838541Z",
     "iopub.status.idle": "2025-02-01T23:23:26.900809Z",
     "shell.execute_reply": "2025-02-01T23:23:26.899966Z"
    }
   },
   "outputs": [],
   "source": [
    "import time\n",
    "import datetime\n",
    "from selenium import webdriver\n",
    "from selenium.webdriver.chrome.service import Service\n",
    "from selenium.webdriver.chrome.options import Options\n",
    "from selenium.webdriver.common.by import By"
   ]
  },
  {
   "cell_type": "markdown",
   "metadata": {},
   "source": [
    "# CONSTS"
   ]
  },
  {
   "cell_type": "code",
   "execution_count": 2,
   "metadata": {
    "execution": {
     "iopub.execute_input": "2025-02-01T23:23:26.903725Z",
     "iopub.status.busy": "2025-02-01T23:23:26.903127Z",
     "iopub.status.idle": "2025-02-01T23:23:26.906571Z",
     "shell.execute_reply": "2025-02-01T23:23:26.905963Z"
    }
   },
   "outputs": [],
   "source": [
    "CHROME_DRIVER_PATH = \"./chromedriver-linux/chromedriver\"\n",
    "BRAVE_PATH = \"/usr/bin/brave-browser\"\n",
    "DOWNLOAD_DIRECTORY = \"/home/mamoudou/dossier_partage/donnees-meteo/download\"\n",
    "ARCHIVE_DIRECTORY = \"/home/mamoudou/dossier_partage/donnees-meteo/archive/daily\""
   ]
  },
  {
   "cell_type": "code",
   "execution_count": 3,
   "metadata": {
    "execution": {
     "iopub.execute_input": "2025-02-01T23:23:26.908994Z",
     "iopub.status.busy": "2025-02-01T23:23:26.908549Z",
     "iopub.status.idle": "2025-02-01T23:23:26.913109Z",
     "shell.execute_reply": "2025-02-01T23:23:26.912438Z"
    }
   },
   "outputs": [
    {
     "name": "stdout",
     "output_type": "stream",
     "text": [
      "Voici la date du jour recuperer: ['20250202', '00'].\n",
      "Après répartiton, on a une date: 20250201 et une heure: 21\n",
      "L'URL formée après, devient: https://donneespubliques.meteofrance.fr/?fond=donnee_libre&prefixe=Txt%2FSynop%2Fsynop&extension=csv&date=20250201&reseau=21\n"
     ]
    }
   ],
   "source": [
    "now = datetime.datetime.now()\n",
    "\n",
    "formatted_date = now.strftime(\"%Y%m%d %H\").split(\" \")\n",
    "#DATE, HEURE = formatted_date[0], \"{:02d}\".format(int(formatted_date[1])-2)\n",
    "DATE, HEURE = \"20250201\", \"21\"\n",
    "\n",
    "print(f\"Voici la date du jour recuperer: {formatted_date}.\\nAprès répartiton, on a une date: {DATE} et une heure: {HEURE}\")\n",
    "\n",
    "URL = f\"https://donneespubliques.meteofrance.fr/?fond=donnee_libre&prefixe=Txt%2FSynop%2Fsynop&extension=csv&date={DATE}&reseau={HEURE}\"\n",
    "\n",
    "print(f\"L'URL formée après, devient: {URL}\")"
   ]
  },
  {
   "cell_type": "markdown",
   "metadata": {},
   "source": [
    "## Browser Configs"
   ]
  },
  {
   "cell_type": "code",
   "execution_count": 4,
   "metadata": {
    "execution": {
     "iopub.execute_input": "2025-02-01T23:23:26.956695Z",
     "iopub.status.busy": "2025-02-01T23:23:26.956477Z",
     "iopub.status.idle": "2025-02-01T23:23:26.960656Z",
     "shell.execute_reply": "2025-02-01T23:23:26.959982Z"
    }
   },
   "outputs": [],
   "source": [
    "options = Options()\n",
    "options.binary_location = BRAVE_PATH  \n",
    "options.add_argument(\"--headless=new\")\n",
    "options.add_argument(\"--disable-gpu\")\n",
    "options.add_argument(\"--nosandbox\")\n",
    "options.add_argument(\"--disable-dev-shm-usage\")\n",
    "\n",
    "prefs = {\n",
    "    \"download.default_directory\": DOWNLOAD_DIRECTORY,\n",
    "    \"download.prompt_for_download\": False,\n",
    "    \"download.directory_upgrade\": True,\n",
    "    \"safebrowsing.enabled\": True \n",
    "}\n",
    "options.add_experimental_option(\"prefs\", prefs)"
   ]
  },
  {
   "cell_type": "code",
   "execution_count": 5,
   "metadata": {
    "execution": {
     "iopub.execute_input": "2025-02-01T23:23:26.962677Z",
     "iopub.status.busy": "2025-02-01T23:23:26.962473Z",
     "iopub.status.idle": "2025-02-01T23:23:33.110175Z",
     "shell.execute_reply": "2025-02-01T23:23:33.109266Z"
    }
   },
   "outputs": [
    {
     "name": "stdout",
     "output_type": "stream",
     "text": [
      "Téléchargement pour la date : 20250201\n"
     ]
    },
    {
     "name": "stdout",
     "output_type": "stream",
     "text": [
      "Téléchargement terminé !!!\n"
     ]
    }
   ],
   "source": [
    "service = Service(executable_path=CHROME_DRIVER_PATH)\n",
    "\n",
    "driver = webdriver.Chrome(service=service, options=options)\n",
    "\n",
    "try:\n",
    "    print(f\"Téléchargement pour la date : {DATE}\")\n",
    "    driver.get(URL)\n",
    "    time.sleep(5)\n",
    "    print(f\"Téléchargement terminé !!!\")\n",
    "\n",
    "except Exception as e:\n",
    "    print(f\"Erreur lors du téléchargement de {DATE}: {e}\")\n",
    "\n",
    "driver.close()\n",
    "driver.quit()"
   ]
  },
  {
   "cell_type": "markdown",
   "metadata": {},
   "source": [
    "## Fixing the file extension problem"
   ]
  },
  {
   "cell_type": "code",
   "execution_count": 6,
   "metadata": {
    "execution": {
     "iopub.execute_input": "2025-02-01T23:23:33.112915Z",
     "iopub.status.busy": "2025-02-01T23:23:33.112357Z",
     "iopub.status.idle": "2025-02-01T23:23:33.117291Z",
     "shell.execute_reply": "2025-02-01T23:23:33.116650Z"
    }
   },
   "outputs": [
    {
     "name": "stdout",
     "output_type": "stream",
     "text": [
      "Le fichier a été renommé : /home/mamoudou/dossier_partage/donnees-meteo/download/synop.2025020121.txt -> /home/mamoudou/dossier_partage/donnees-meteo/download/synop.2025020121.csv\n",
      "The file I'm working with: /home/mamoudou/dossier_partage/donnees-meteo/download/synop.2025020121.csv\n"
     ]
    }
   ],
   "source": [
    "from file_management import change_file_extension\n",
    "\n",
    "cvs_file = change_file_extension(DOWNLOAD_DIRECTORY)\n",
    "print(f\"The file I'm working with: {cvs_file}\")"
   ]
  },
  {
   "cell_type": "markdown",
   "metadata": {},
   "source": [
    "# Starting the ELT"
   ]
  },
  {
   "cell_type": "code",
   "execution_count": 7,
   "metadata": {
    "execution": {
     "iopub.execute_input": "2025-02-01T23:23:33.119446Z",
     "iopub.status.busy": "2025-02-01T23:23:33.118890Z",
     "iopub.status.idle": "2025-02-01T23:23:33.447190Z",
     "shell.execute_reply": "2025-02-01T23:23:33.446515Z"
    }
   },
   "outputs": [
    {
     "name": "stdout",
     "output_type": "stream",
     "text": [
      "    numer_sta            date    pmer  tend cod_tend   dd         ff           t          td    u     vv  ww  w1  w2    n nbas  hbas  cl  cm  ch    pres niv_bar geop tend24        tn12        tn24        tx12        tx24     tminsol  sw  tw      raf10     rafper  per etat_sol  ht_neige    ssfrai perssfrai        rr1       rr3       rr6       rr12       rr24 phenspe1 phenspe2 phenspe3 phenspe4 nnuage1 ctype1 hnuage1 nnuage2 ctype2 hnuage2 nnuage3 ctype3 hnuage3 nnuage4 ctype4 hnuage4  Unnamed: 59\n",
      "0        7005  20250201210000  102820   -60        7   80   2.000000  273.950000  272.450000   90  18580   0  mq  mq   mq   mq    mq  mq  mq  mq  101900      mq   mq   -110          mq          mq          mq          mq  273.750000  mq  mq   3.000000   3.400000  -10        4  0.000000        mq        mq   0.000000  0.000000  0.000000   0.000000   0.000000       mq       mq       mq       mq      mq     mq      mq      mq     mq      mq      mq     mq      mq      mq     mq      mq          NaN\n",
      "1        7015  20250201210000  102850   -80        6   80   2.700000  273.950000  271.850000   86   8490   0  mq  mq   mq    0    mq  mq  mq  mq  102250      mq   mq   -200          mq          mq          mq          mq  272.850000  mq  mq   3.100000   4.000000  -10        0  0.000000        mq        mq   0.000000  0.000000  0.000000   0.200000   0.200000       mq       mq       mq       mq      mq     mq      mq      mq     mq      mq      mq     mq      mq      mq     mq      mq          NaN\n",
      "2        7020  20250201210000  102540  -150        8  120   4.200000  277.550000  275.850000   89     mq  mq  mq  mq   mq   mq    mq  mq  mq  mq  102430      mq   mq   -190          mq          mq          mq          mq          mq  mq  mq   6.000000   6.000000  -10       mq        mq        mq        mq   0.000000  0.000000  0.000000   0.400000   0.400000       mq       mq       mq       mq      mq     mq      mq      mq     mq      mq      mq     mq      mq      mq     mq      mq          NaN\n",
      "3        7027  20250201210000  102690  -100        8  120   2.600000  273.050000  272.650000   97   3590  10  mq  mq   mq    0    mq  mq  mq  mq  101840      mq   mq     10          mq          mq          mq          mq  277.550000  mq  mq   3.600000   3.700000  -10        0  0.000000        mq        mq   0.000000  0.000000  0.000000   0.000000   0.000000       mq       mq       mq       mq      mq     mq      mq      mq     mq      mq      mq     mq      mq      mq     mq      mq          NaN\n",
      "4        7037  20250201210000  102780   -50        8   60   2.300000  273.350000  272.050000   91  14880   0  mq  mq   mq    0    mq  mq  mq  mq  100790      mq   mq    -90          mq          mq          mq          mq  275.050000  mq  mq   2.900000   2.900000  -10       mq  0.000000        mq        mq   0.000000  0.000000  0.000000   0.000000   0.200000       mq       mq       mq       mq      mq     mq      mq      mq     mq      mq      mq     mq      mq      mq     mq      mq          NaN\n",
      "5        7072  20250201210000  102810   -50        8  110   1.800000  271.850000  270.550000   91  20000   0  mq  mq   mq    0    mq  mq  mq  mq  101590      mq   mq   -260          mq          mq          mq          mq  273.550000  mq  mq   2.500000   3.300000  -10        4  0.000000        mq        mq   0.000000  0.000000  0.000000   0.000000   0.000000       mq       mq       mq       mq      mq     mq      mq      mq     mq      mq      mq     mq      mq      mq     mq      mq          NaN\n",
      "6        7110  20250201210000  102440  -120        8  180   6.500000  278.350000  276.050000   85  59390   0  mq  mq  100    8   450  mq  mq  mq  101220      mq   mq   -300          mq          mq          mq          mq  272.650000  mq  mq  10.300000  10.300000  -10       mq  0.000000        mq        mq   0.000000  0.000000  0.000000   0.200000   0.400000       mq       mq       mq       mq       8     mq     450      mq     mq      mq      mq     mq      mq      mq     mq      mq          NaN\n",
      "7        7117  20250201210000  102490  -110        6  170   2.200000  277.750000  275.650000   86     mq  mq  mq  mq   mq   mq    mq  mq  mq  mq  101760      mq   mq   -260          mq          mq          mq          mq          mq  mq  mq   5.500000   6.600000  -10       mq        mq        mq        mq   0.000000  0.000000  0.000000   0.000000   0.000000       mq       mq       mq       mq      mq     mq      mq      mq     mq      mq      mq     mq      mq      mq     mq      mq          NaN\n",
      "8        7130  20250201210000  102630  -100        6  110   1.100000  273.650000  273.250000   97    570  44  mq  mq   mq    0    mq  mq  mq  mq  102160      mq   mq    -60          mq          mq          mq          mq  271.250000  mq  mq   1.500000   2.500000  -10        0  0.000000        mq        mq   0.000000  0.000000  0.000000   0.000000   0.000000       mq       mq       mq       mq      mq     mq      mq      mq     mq      mq      mq     mq      mq      mq     mq      mq          NaN\n",
      "9        7139  20250201210000  102740   -20        8  360   1.200000  272.350000  271.950000   97   6760   0  mq  mq   mq    0    mq  mq  mq  mq  100900      mq   mq    -30          mq          mq          mq          mq  278.450000  mq  mq   1.600000   2.100000  -10        0  0.000000        mq        mq   0.000000  0.000000  0.000000   0.000000   0.200000       mq       mq       mq       mq      mq     mq      mq      mq     mq      mq      mq     mq      mq      mq     mq      mq          NaN\n",
      "10       7149  20250201210000  102750   -50        8   70   2.700000  275.350000  272.450000   81  17000   2   0   0    0    0    mq  30  20  10  101610      mq   mq   -230          mq          mq          mq          mq          mq  mq  mq   3.500000   4.000000  -10        1  0.000000  0.000000       -30   0.000000  0.000000  0.000000   0.000000   0.200000       mq       mq       mq       mq      mq     mq      mq      mq     mq      mq      mq     mq      mq      mq     mq      mq          NaN\n",
      "11       7168  20250201210000  102720   -40        8   90   2.000000  273.950000  271.750000   85  20000   0  mq  mq   mq    0    mq  mq  mq  mq  101230      mq   mq   -270          mq          mq          mq          mq  272.750000  mq  mq   3.100000   3.100000  -10        5  0.000000        mq        mq   0.000000  0.000000  0.000000   0.000000   0.000000       mq       mq       mq       mq      mq     mq      mq      mq     mq      mq      mq     mq      mq      mq     mq      mq          NaN\n",
      "12       7181  20250201210000  102800   -40        8   30   2.100000  272.750000  270.050000   82  29430   0  mq  mq   mq    0    mq  mq  mq  mq   98420      mq   mq   -290          mq          mq          mq          mq  271.050000  mq  mq   3.300000   4.400000  -10       mq        mq        mq        mq   0.000000  0.000000  0.000000   0.000000   0.000000       mq       mq       mq       mq      mq     mq      mq      mq     mq      mq      mq     mq      mq      mq     mq      mq          NaN\n",
      "13       7190  20250201210000  102800   -70        8    0   0.000000  272.950000  271.350000   89  15650   0  mq  mq   mq    0    mq  mq  mq  mq  100880      mq   mq   -300          mq          mq          mq          mq  270.950000  mq  mq   0.500000   2.900000  -10        0  0.000000        mq        mq   0.000000  0.000000  0.000000   0.000000   0.000000       mq       mq       mq       mq      mq     mq      mq      mq     mq      mq      mq     mq      mq      mq     mq      mq          NaN\n",
      "14       7207  20250201210000      mq    mq       mq  150   6.200000  279.950000          mq   mq  15000   2   2  mq  100    8  1250  35  mq  mq      mq      mq   mq     mq          mq          mq          mq          mq          mq  mq  mq   9.400000   9.400000  -10        2        mq        mq        mq   0.000000  0.000000  0.000000   0.000000  -0.100000       mq       mq       mq       mq       8      6    1200      mq     mq      mq      mq     mq      mq      mq     mq      mq          NaN\n",
      "15       7222  20250201210000  102560  -120        8   80   3.300000  274.150000  272.950000   92  11210   0  mq  mq   mq    0    mq  mq  mq  mq  102230      mq   mq     20          mq          mq          mq          mq  274.650000  mq  mq   4.700000   6.100000  -10        5  0.000000        mq        mq   0.000000  0.000000  0.000000   0.000000   0.000000       mq       mq       mq       mq      mq     mq      mq      mq     mq      mq      mq     mq      mq      mq     mq      mq          NaN\n",
      "16       7240  20250201210000  102630   -90        8   70   2.800000  274.350000  273.950000   97   8280   0  mq  mq   mq    0    mq  mq  mq  mq  101210      mq   mq   -110          mq          mq          mq          mq  276.050000  mq  mq   3.900000   4.500000  -10        0  0.000000        mq        mq   0.000000  0.400000  0.400000   0.400000   0.800000       mq       mq       mq       mq      mq     mq      mq      mq     mq      mq      mq     mq      mq      mq     mq      mq          NaN\n",
      "17       7255  20250201210000  102640   -80        6   90   2.200000  273.750000  272.750000   93   8570   0  mq  mq   mq   mq    mq  mq  mq  mq  100550      mq   mq   -300          mq          mq          mq          mq  275.150000  mq  mq   2.600000   2.600000  -10       mq  0.000000        mq        mq   0.000000  0.000000  0.000000   0.000000  -0.100000       mq       mq       mq       mq      mq     mq      mq      mq     mq      mq      mq     mq      mq      mq     mq      mq          NaN\n",
      "18       7280  20250201210000  102680   -20        8   20   2.100000  274.150000  271.750000   84   9660   0  mq  mq   mq    1  4080  mq  mq  mq   99920      mq   mq   -260          mq          mq          mq          mq  270.850000  mq  mq   3.000000   3.900000  -10        0  0.000000        mq        mq   0.000000  0.000000  0.000000   0.000000   0.000000       mq       mq       mq       mq       1     mq    4080      mq     mq      mq      mq     mq      mq      mq     mq      mq          NaN\n",
      "19       7299  20250201210000  102760   -50        7  100   2.000000  276.150000  273.050000   80  25960   0  mq  mq  100    8   800  mq  mq  mq   99370      mq   mq   -200          mq          mq          mq          mq  276.550000  mq  mq   3.500000   3.500000  -10        0  0.000000        mq        mq   0.000000  0.000000  0.000000   0.000000   0.000000       mq       mq       mq       mq       8     mq     720      mq     mq      mq      mq     mq      mq      mq     mq      mq          NaN\n",
      "20       7314  20250201210000  102530   -30        8   70   5.100000  278.950000  275.550000   79  15000   1   0  mq   10    1   800  35  20  10  102240      mq   mq     60          mq          mq          mq          mq          mq  mq  mq   8.700000   9.300000  -10        2        mq        mq        mq   0.000000  0.000000  0.000000   0.000000   2.000000       mq       mq       mq       mq       1      6     700      mq     mq      mq      mq     mq      mq      mq     mq      mq          NaN\n",
      "21       7335  20250201210000  102590   -60        8   60   2.100000  274.250000  273.550000   95   8980   0  mq  mq   mq    0    mq  mq  mq  mq  101070      mq   mq    -90          mq          mq          mq          mq  277.850000  mq  mq   3.500000   5.700000  -10        5  0.000000        mq        mq   0.000000  0.000000  0.000000   0.000000   0.600000       mq       mq       mq       mq      mq     mq      mq      mq     mq      mq      mq     mq      mq      mq     mq      mq          NaN\n",
      "22       7434  20250201210000  102470   -50        8   60   4.100000  274.650000  273.150000   90  12130   0  mq  mq   mq    0    mq  mq  mq  mq   97500      mq   mq   -390          mq          mq          mq          mq  274.950000  mq  mq   6.000000   6.200000  -10        0  0.000000        mq        mq   0.000000  0.000000  0.000000   0.000000   6.700000       mq       mq       mq       mq      mq     mq      mq      mq     mq      mq      mq     mq      mq      mq     mq      mq          NaN\n",
      "23       7460  20250201210000  102680     0        0  240   1.100000  273.850000  272.350000   90   7840   0  mq  mq  100    8   450  mq  mq  mq   98550      mq   mq   -270          mq          mq          mq          mq  269.950000  mq  mq   1.600000   1.600000  -10       mq  0.000000        mq        mq   0.000000        mq        mq         mq         mq       mq       mq       mq       mq       8     mq     570      mq     mq      mq      mq     mq      mq      mq     mq      mq          NaN\n",
      "24       7471  20250201210000      mq   -20        5   50   1.100000  272.650000  271.950000   95   8340   0  mq  mq  100    8   150  mq  mq  mq   92580   92500  840   -260          mq          mq          mq          mq  272.850000  mq  mq   2.100000   2.600000  -10        0  0.000000        mq        mq   0.000000  0.000000  0.000000   0.000000   0.000000       mq       mq       mq       mq       8     mq     120      mq     mq      mq      mq     mq      mq      mq     mq      mq          NaN\n",
      "25       7481  20250201210000  102620   -20        7  310   2.100000  276.950000  273.650000   79  25000   2   2   2  100    8   800  35  mq  mq   99640      mq   mq   -200          mq          mq          mq          mq          mq  mq  mq   3.300000   4.200000  -10        0  0.000000  0.000000       -30   0.000000  0.000000  0.000000   0.000000   0.000000       mq       mq       mq       mq       8      6     720      mq     mq      mq      mq     mq      mq      mq     mq      mq          NaN\n",
      "26       7510  20250201210000  102500   -10        6  260   0.800000  275.650000  274.750000   94   7240   0  mq  mq   mq    0    mq  mq  mq  mq  101890      mq   mq   -250          mq          mq          mq          mq  273.950000  mq  mq   1.200000   2.800000  -10        0  0.000000        mq        mq   0.000000  0.000000  0.000000   0.000000  14.300000       mq       mq       mq       mq      mq     mq      mq      mq     mq      mq      mq     mq      mq      mq     mq      mq          NaN\n",
      "27       7535  20250201210000  102490    10        3  130   2.400000  274.050000  272.550000   90  20000   0  mq  mq   mq    0    mq  mq  mq  mq   99230      mq   mq   -430          mq          mq          mq          mq  276.750000  mq  mq   3.400000   3.400000  -10        0  0.000000        mq        mq   0.000000  0.000000  0.000000   0.000000   3.600000       mq       mq       mq       mq      mq     mq      mq      mq     mq      mq      mq     mq      mq      mq     mq      mq          NaN\n",
      "28       7558  20250201210000  102310   -10        6  310   1.300000  276.450000  273.850000   83  20000   0  mq  mq   mq   mq    mq  mq  mq  mq   93780      mq   mq   -310          mq          mq          mq          mq  273.750000  mq  mq   2.100000   2.200000  -10       mq  0.000000        mq        mq   0.000000  0.000000  0.000000   0.000000   0.000000       mq       mq       mq       mq      mq     mq      mq      mq     mq      mq      mq     mq      mq      mq     mq      mq          NaN\n",
      "29       7577  20250201210000  102420   -10        8   20   4.500000  279.250000  274.550000   72  20000   0  mq  mq   mq   mq    mq  mq  mq  mq  101500      mq   mq   -180          mq          mq          mq          mq  278.150000  mq  mq   7.700000   9.800000  -10        0  0.000000        mq        mq   0.000000  0.000000  0.000000   0.000000   0.600000       mq       mq       mq       mq      mq     mq      mq      mq     mq      mq      mq     mq      mq      mq     mq      mq          NaN\n",
      "30       7591  20250201210000      mq    70        2  360   6.200000  280.150000  270.650000   51     mq  mq  mq  mq   mq   mq    mq  mq  mq  mq   91930   92500  823   -120          mq  274.550000          mq  284.550000          mq  mq  mq  10.400000  11.900000  -10       mq  0.000000        mq        mq   0.000000  0.000000  0.000000   0.000000   2.200000       mq       mq       mq       mq      mq     mq      mq      mq     mq      mq      mq     mq      mq      mq     mq      mq          NaN\n",
      "31       7607  20250201210000  102490     0        0    0   0.000000  274.550000  273.950000   96  33620   0  mq  mq   mq    0    mq  mq  mq  mq  101740      mq   mq   -410          mq          mq          mq          mq  278.750000  mq  mq   0.500000   1.300000  -10       mq        mq        mq        mq   0.000000  0.000000  0.000000   0.000000   5.800000       mq       mq       mq       mq      mq     mq      mq      mq     mq      mq      mq     mq      mq      mq     mq      mq          NaN\n",
      "32       7621  20250201210000  102480    10        3    0   0.000000  277.950000  277.050000   94  19000   0  mq  mq  100    8  1250  mq  mq  mq   98030      mq   mq   -480          mq          mq          mq          mq  275.850000  mq  mq   0.500000   1.700000  -10       mq        mq        mq        mq   0.000000  0.000000  0.000000  -0.100000  -0.100000       mq       mq       mq       mq       8     mq    1170      mq     mq      mq      mq     mq      mq      mq     mq      mq          NaN\n",
      "33       7627  20250201210000  102500    20        3    0   0.000000  276.850000  275.350000   90  20000   0  mq  mq   90    7   800  mq  mq  mq   97420      mq   mq   -490          mq  274.150000          mq  281.950000  277.250000  mq  mq   0.700000   1.600000  -10        0  0.000000        mq        mq   0.000000  0.000000  0.000000         mq         mq       mq       mq       mq       mq       6     mq     790       7     mq    1280      mq     mq      mq      mq     mq      mq          NaN\n",
      "34       7630  20250201210000  102460    20        3  280   1.200000  277.150000  273.650000   78  34930   0  mq  mq   mq    0    mq  mq  mq  mq  100590      mq   mq   -440          mq          mq          mq          mq  276.050000  mq  mq   1.900000   2.600000  -10        0  0.000000        mq        mq   0.000000  0.000000  0.000000   0.000000   0.000000       mq       mq       mq       mq      mq     mq      mq      mq     mq      mq      mq     mq      mq      mq     mq      mq          NaN\n",
      "35       7643  20250201210000  102350    80        3   30   3.900000  279.150000  277.950000   92   9090  63  mq  mq  100    7  1250  mq  mq  mq  102250      mq   mq   -210          mq          mq          mq          mq  279.450000  mq  mq   5.800000   7.000000  -10       mq  0.000000        mq        mq   2.000000  3.000000  3.000000   3.800000   3.800000       mq       mq       mq       mq       7     mq    1470       8     mq    1680      mq      9      mq      mq     mq      mq          NaN\n",
      "36       7650  20250201210000  102190   -10        8  340   4.900000  281.250000  279.850000   91  26010   0  mq  mq  100    6   250  mq  mq  mq  101800      mq   mq   -150          mq          mq          mq          mq  281.650000  mq  mq   6.400000   7.600000  -10        2  0.000000        mq        mq  -0.100000  2.400000  4.600000   8.600000  10.400000       mq       mq       mq       mq       1     mq     210       6     mq    1350       8     mq    1740      mq      8      mq          NaN\n",
      "37       7661  20250201210000      mq    mq       mq   50   8.300000          mq          mq   mq     mq  mq  mq  mq   mq   mq    mq  mq  mq  mq      mq      mq   mq     mq          mq          mq          mq          mq          mq  mq  mq  13.300000  13.900000  -10       mq        mq        mq        mq         mq        mq        mq         mq         mq       mq       mq       mq       mq      mq     mq      mq      mq     mq      mq      mq     mq      mq      mq     mq      mq          NaN\n",
      "38       7690  20250201210000  102160    20        0  320   3.000000  283.050000  281.150000   88  20000   2   2   2  100    8    mq  35  mq  mq  101840      mq   mq    -80          mq          mq          mq          mq  282.350000  mq  mq   3.900000   5.400000  -10        2  0.000000        mq        mq   0.000000  0.400000  0.400000   1.600000   5.000000       mq       mq       mq       mq       7      6    2000      mq     mq      mq      mq     mq      mq      mq     mq      mq          NaN\n",
      "39       7747  20250201210000  102300    30        1  310   4.200000  280.950000  276.450000   73  60000   0  mq  mq  100    8  1250  mq  mq  mq  101760      mq   mq   -430          mq          mq          mq          mq  280.150000  mq  mq   6.800000   7.300000  -10        2  0.000000        mq        mq   0.400000  0.400000  0.800000   0.800000   0.800000       mq       mq       mq       mq       7     mq    1260       8     mq    1500      mq      8      mq      mq     mq      mq          NaN\n",
      "40       7761  20250201210000  101930   -50        8   40   1.700000  282.550000  281.450000   93  14770   0  mq  mq  100    8  3300  mq  mq  mq  101820      mq   mq   -410          mq          mq          mq          mq  281.650000  mq  mq   2.300000   4.000000  -10       mq  0.000000        mq        mq   0.000000  0.000000  0.600000   0.600000   0.600000       mq       mq       mq       mq       7     mq    3300       8     mq    3960      mq     mq      mq      mq     mq      mq          NaN\n",
      "41       7790  20250201210000  102120    20        0  290   1.600000  283.950000  283.350000   96  19570   0  mq  mq  100    7   450  mq  mq  mq  101970      mq   mq   -220          mq          mq          mq          mq  283.950000  mq  mq   2.300000   4.100000  -10       mq  0.000000        mq        mq   0.000000  2.600000  3.600000   6.200000   6.200000       mq       mq       mq       mq       1     mq     570       5     mq     930       7     mq    1200      mq      9      mq          NaN\n",
      "42      61968  20250201210000  100780    80        8  280   5.600000          mq          mq   mq     mq  mq  mq  mq   mq   mq    mq  mq  mq  mq  100730      mq   mq   -140          mq          mq          mq          mq          mq  mq  mq         mq  11.700000  -10       mq        mq        mq        mq   0.000000  0.000000  0.000000   0.000000   0.000000       mq       mq       mq       mq      mq     mq      mq      mq     mq      mq      mq     mq      mq      mq     mq      mq          NaN\n",
      "43      61970  20250201210000  100810    50        1  340   1.000000  301.650000  299.450000   88     mq  mq  mq  mq   mq   mq    mq  mq  mq  mq  100700      mq   mq      0          mq  301.250000          mq  306.850000          mq  mq  mq         mq   4.500000  -10       mq        mq        mq        mq   0.000000  0.000000  0.000000   0.000000   0.000000       mq       mq       mq       mq      mq     mq      mq      mq     mq      mq      mq     mq      mq      mq     mq      mq          NaN\n",
      "44      61972  20250201210000  100920    40        0  140   5.700000  300.150000  295.150000   74     mq  mq  mq  mq   mq   mq    mq  mq  mq  mq  100850      mq   mq    130          mq  300.150000          mq  304.150000          mq  mq  mq         mq  11.200000  -10       mq        mq        mq        mq   0.000000  0.000000  0.000000   0.000000   0.200000       mq       mq       mq       mq      mq     mq      mq      mq     mq      mq      mq     mq      mq      mq     mq      mq          NaN\n",
      "45      61976  20250201210000  100580   160        8   mq         mq  302.250000  298.050000   78     mq  mq  mq  mq   mq   mq    mq  mq  mq  mq  100490      mq   mq   -170          mq  299.750000          mq  306.250000          mq  mq  mq         mq         mq  -10       mq        mq        mq        mq   0.000000  0.000000  0.000000   0.000000   0.200000       mq       mq       mq       mq      mq     mq      mq      mq     mq      mq      mq     mq      mq      mq     mq      mq          NaN\n",
      "46      61980  20250201210000  100630  -150        8  180   2.900000  301.050000  295.950000   74  60000   0  mq  mq   mq    2  1250  mq  mq  mq  100480      mq   mq   -220          mq          mq          mq          mq          mq  mq  mq   3.800000   6.800000  -10       mq        mq        mq        mq   0.000000  0.000000  0.000000   0.000000   0.000000       mq       mq       mq       mq       2     mq    1410      mq     mq      mq      mq     mq      mq      mq     mq      mq          NaN\n",
      "47      61996  20250201210000  101870   130        8  340   3.800000  290.650000  287.150000   80     mq  mq  mq  mq   mq   mq    mq  mq  mq  mq  101530      mq   mq    -70          mq  287.650000          mq  296.950000          mq  mq  mq         mq   5.600000  -10       mq        mq        mq        mq   0.000000  0.000000  0.000000   0.000000   0.000000       mq       mq       mq       mq      mq     mq      mq      mq     mq      mq      mq     mq      mq      mq     mq      mq          NaN\n",
      "48      61997  20250201210000   98660   180        6  160   1.300000  282.250000  282.250000  100     mq  mq  mq  mq   mq   mq    mq  mq  mq  mq   96940      mq   mq  -2450          mq  278.850000          mq  285.150000          mq  mq  mq         mq   3.900000  -10       mq        mq        mq        mq   0.600000  2.200000  2.800000  12.800000  18.800000       mq       mq       mq       mq      mq     mq      mq      mq     mq      mq      mq     mq      mq      mq     mq      mq          NaN\n",
      "49      61998  20250201210000  100900  -280        8   20   5.100000  278.350000  275.350000   81     mq  mq  mq  mq   mq   mq    mq  mq  mq  mq  100530      mq   mq    380          mq          mq          mq          mq          mq  mq  mq         mq   8.700000  -10       mq        mq        mq        mq   0.000000  0.000000        mq         mq         mq       mq       mq       mq       mq      mq     mq      mq      mq     mq      mq      mq     mq      mq      mq     mq      mq          NaN\n",
      "50      67005  20250201210000  100820   -70        5  290   3.200000  299.750000  297.450000   87  20000   0  mq  mq   mq    0    mq  mq  mq  mq  100740      mq   mq   -120          mq          mq          mq          mq          mq  mq  mq   4.300000   4.900000  -10       mq        mq        mq        mq   0.000000  0.000000  0.400000   8.300000   8.300000       mq       mq       mq       mq      mq     mq      mq      mq     mq      mq      mq     mq      mq      mq     mq      mq          NaN\n",
      "51      71805  20250201210000  100230    20        1  340   5.700000  267.550000  263.150000   71  51810   0  mq  mq  100    3   800  mq  mq  mq  100140      mq   mq   -970          mq          mq          mq          mq  273.350000  mq  mq  10.400000  10.400000  -10       mq        mq        mq        mq   0.000000  0.000000  0.000000   0.000000   0.400000       mq       mq       mq       mq       3     mq     690       4     mq    3300       8     mq    3960      mq     mq      mq          NaN\n",
      "52      78890  20250201210000  101480    80        5   80  10.000000  300.550000  294.350000   69     mq  mq  mq  mq   mq   mq    mq  mq  mq  mq  101160      mq   mq    -90          mq  298.150000          mq  302.050000          mq  mq  mq         mq  14.200000  -10       mq        mq        mq        mq   0.000000  0.000000  0.000000   0.000000   0.200000       mq       mq       mq       mq      mq     mq      mq      mq     mq      mq      mq     mq      mq      mq     mq      mq          NaN\n",
      "53      78897  20250201210000  101510   -40        5   60   4.400000  300.350000  292.950000   64  32950  mq  mq  mq   mq   mq    mq  mq  mq  mq  101420      mq   mq    -90          mq          mq          mq          mq          mq  mq  mq         mq         mq   mq       mq        mq        mq        mq   0.000000  0.200000  0.200000   0.200000   0.200000       mq       mq       mq       mq      mq     mq      mq      mq     mq      mq      mq     mq      mq      mq     mq      mq          NaN\n",
      "54      78925  20250201210000  101370   -70        5  110   6.300000  301.150000  293.450000   63  19820   0  mq  mq   mq    3  1250  mq  mq  mq  101280      mq   mq   -120          mq          mq          mq          mq          mq  mq  mq   9.600000  11.200000  -10       mq        mq        mq        mq   0.000000  0.000000  0.000000   0.000000   0.600000       mq       mq       mq       mq       2     mq    1020       3     mq    1230      mq     mq      mq      mq     mq      mq          NaN\n",
      "55      81401  20250201210000  101020    50        5   50   1.700000  301.350000  295.350000   70     mq  mq  mq  mq   mq   mq    mq  mq  mq  mq  100960      mq   mq    -10          mq  295.250000          mq  304.950000          mq  mq  mq   5.200000   7.100000  -10       mq        mq        mq        mq   0.000000  0.000000  0.000000   0.000000   0.400000       mq       mq       mq       mq      mq     mq      mq      mq     mq      mq      mq     mq      mq      mq     mq      mq          NaN\n",
      "56      81405  20250201210000  101070   -40        5   30   4.600000  300.950000  295.850000   74  21280   0  mq  mq   mq    3   800  mq  mq  mq  100980      mq   mq    -20          mq          mq          mq          mq  297.850000  mq  mq   8.200000   8.700000  -10       mq        mq        mq        mq   0.000000  0.000000  0.000000   0.000000   0.200000       mq       mq       mq       mq       3     mq     720      mq      8      mq      mq     mq      mq      mq     mq      mq          NaN\n",
      "57      81408  20250201210000  100950    20        5   10   3.700000  301.450000  295.950000   72     mq  mq  mq  mq   mq   mq    mq  mq  mq  mq  100870      mq   mq    -30          mq  295.150000          mq  304.950000          mq  mq  mq   6.200000   7.300000  -10       mq        mq        mq        mq   0.000000  0.000000  0.000000   0.200000   0.200000       mq       mq       mq       mq      mq     mq      mq      mq     mq      mq      mq     mq      mq      mq     mq      mq          NaN\n",
      "58      81415  20250201210000  100920   100        5   40   1.600000  302.050000  295.350000   67     mq  mq  mq  mq   mq   mq    mq  mq  mq  mq   99720      mq   mq    -70          mq  295.850000          mq  305.550000          mq  mq  mq   2.600000   5.400000  -10       mq        mq        mq        mq   0.000000  0.000000  0.000000   0.000000   0.000000       mq       mq       mq       mq      mq     mq      mq      mq     mq      mq      mq     mq      mq      mq     mq      mq          NaN\n",
      "59      89642  20250201210000   98620  -130        6  130   6.200000  269.650000  260.450000   45  30000   2   1   1    0   mq    mq  mq  mq  mq   98090      mq   mq     mq  268.550000          mq  273.350000          mq          mq  mq  mq         mq         mq   mq       mq        mq        mq        mq         mq        mq        mq         mq         mq       mq       mq       mq       mq      mq     mq      mq      mq     mq      mq      mq     mq      mq      mq     mq      mq          NaN\n"
     ]
    }
   ],
   "source": [
    "import pandas as pd\n",
    "import numpy as np\n",
    "df = pd.read_csv(cvs_file, sep=\";\", dtype={\"date\": str})\n",
    "\n",
    "print(df.to_string())"
   ]
  },
  {
   "cell_type": "markdown",
   "metadata": {},
   "source": [
    "# Récupération des informations importantes à savoir :\n",
    "1. Indicatif OMM station : numéro de station `numer_sta` -> `int`\n",
    "2. Date (UTC) : `date` -> `datetime`\n",
    "3. Pression au niveau mer : `pmer` -> `int`\n",
    "4. Variation de pression en 3 heures : `tend` -> `int`\n",
    "5. Type de tendance barométrique : `cod_tend` -> `int`\n",
    "6. Direction du vent moyen 10 mn : `dd` -> `int`\n",
    "7. Vitesse du vent moyen 10 mn : `ff` -> `float`\n",
    "8. Température : `t` -> `float`\n",
    "9. Point de rosée : `td` -> `float`\n",
    "10. Humidité : `u` -> `int`\n",
    "11. Visibilité horizontale : `vv` -> `float`\n",
    "12. Temps présent : `ww` -> `int`\n",
    "13. Nébulosité totale : `n` -> `float`\n",
    "14. Nébulosité des nuages de l'étage inférieur : `nbas` -> `int`\n",
    "15. Hauteur de la base des nuages de l'étage inférieur : `hbas` -> `int`\n",
    "16. Pression station : `pres` -> `int`\n",
    "17. Variation de pression en 24 heures : `tend24` -> `int`\n",
    "18. Température minimale sur N heures : `tn12` -> `float`\n",
    "19. Température maximale sur N heures : `tx12` -> `float`\n",
    "20. Température minimale du sol sur 12 heures : `tminsol` -> `float`\n",
    "21. Rafales sur les 10 dernières minutes : `raf10` -> `float`\n",
    "22. Rafales sur une période : `rafper` -> `float`\n",
    "23. Période de mesure des rafales : `per` -> `float`\n",
    "24. Précipitations dans les N dernières heures : `rr12` -> `float`"
   ]
  },
  {
   "cell_type": "code",
   "execution_count": 8,
   "metadata": {
    "execution": {
     "iopub.execute_input": "2025-02-01T23:23:33.449733Z",
     "iopub.status.busy": "2025-02-01T23:23:33.449176Z",
     "iopub.status.idle": "2025-02-01T23:23:33.466399Z",
     "shell.execute_reply": "2025-02-01T23:23:33.465714Z"
    }
   },
   "outputs": [
    {
     "name": "stdout",
     "output_type": "stream",
     "text": [
      "    numer_sta            date    pmer  tend cod_tend   dd         ff           t          td    u     vv  ww    n nbas  hbas    pres tend24        tn12        tx12     tminsol      raf10     rafper  per       rr12\n",
      "0        7005  20250201210000  102820   -60        7   80   2.000000  273.950000  272.450000   90  18580   0   mq   mq    mq  101900   -110          mq          mq  273.750000   3.000000   3.400000  -10   0.000000\n",
      "1        7015  20250201210000  102850   -80        6   80   2.700000  273.950000  271.850000   86   8490   0   mq    0    mq  102250   -200          mq          mq  272.850000   3.100000   4.000000  -10   0.200000\n",
      "2        7020  20250201210000  102540  -150        8  120   4.200000  277.550000  275.850000   89     mq  mq   mq   mq    mq  102430   -190          mq          mq          mq   6.000000   6.000000  -10   0.400000\n",
      "3        7027  20250201210000  102690  -100        8  120   2.600000  273.050000  272.650000   97   3590  10   mq    0    mq  101840     10          mq          mq  277.550000   3.600000   3.700000  -10   0.000000\n",
      "4        7037  20250201210000  102780   -50        8   60   2.300000  273.350000  272.050000   91  14880   0   mq    0    mq  100790    -90          mq          mq  275.050000   2.900000   2.900000  -10   0.000000\n",
      "5        7072  20250201210000  102810   -50        8  110   1.800000  271.850000  270.550000   91  20000   0   mq    0    mq  101590   -260          mq          mq  273.550000   2.500000   3.300000  -10   0.000000\n",
      "6        7110  20250201210000  102440  -120        8  180   6.500000  278.350000  276.050000   85  59390   0  100    8   450  101220   -300          mq          mq  272.650000  10.300000  10.300000  -10   0.200000\n",
      "7        7117  20250201210000  102490  -110        6  170   2.200000  277.750000  275.650000   86     mq  mq   mq   mq    mq  101760   -260          mq          mq          mq   5.500000   6.600000  -10   0.000000\n",
      "8        7130  20250201210000  102630  -100        6  110   1.100000  273.650000  273.250000   97    570  44   mq    0    mq  102160    -60          mq          mq  271.250000   1.500000   2.500000  -10   0.000000\n",
      "9        7139  20250201210000  102740   -20        8  360   1.200000  272.350000  271.950000   97   6760   0   mq    0    mq  100900    -30          mq          mq  278.450000   1.600000   2.100000  -10   0.000000\n",
      "10       7149  20250201210000  102750   -50        8   70   2.700000  275.350000  272.450000   81  17000   2    0    0    mq  101610   -230          mq          mq          mq   3.500000   4.000000  -10   0.000000\n",
      "11       7168  20250201210000  102720   -40        8   90   2.000000  273.950000  271.750000   85  20000   0   mq    0    mq  101230   -270          mq          mq  272.750000   3.100000   3.100000  -10   0.000000\n",
      "12       7181  20250201210000  102800   -40        8   30   2.100000  272.750000  270.050000   82  29430   0   mq    0    mq   98420   -290          mq          mq  271.050000   3.300000   4.400000  -10   0.000000\n",
      "13       7190  20250201210000  102800   -70        8    0   0.000000  272.950000  271.350000   89  15650   0   mq    0    mq  100880   -300          mq          mq  270.950000   0.500000   2.900000  -10   0.000000\n",
      "14       7207  20250201210000      mq    mq       mq  150   6.200000  279.950000          mq   mq  15000   2  100    8  1250      mq     mq          mq          mq          mq   9.400000   9.400000  -10   0.000000\n",
      "15       7222  20250201210000  102560  -120        8   80   3.300000  274.150000  272.950000   92  11210   0   mq    0    mq  102230     20          mq          mq  274.650000   4.700000   6.100000  -10   0.000000\n",
      "16       7240  20250201210000  102630   -90        8   70   2.800000  274.350000  273.950000   97   8280   0   mq    0    mq  101210   -110          mq          mq  276.050000   3.900000   4.500000  -10   0.400000\n",
      "17       7255  20250201210000  102640   -80        6   90   2.200000  273.750000  272.750000   93   8570   0   mq   mq    mq  100550   -300          mq          mq  275.150000   2.600000   2.600000  -10   0.000000\n",
      "18       7280  20250201210000  102680   -20        8   20   2.100000  274.150000  271.750000   84   9660   0   mq    1  4080   99920   -260          mq          mq  270.850000   3.000000   3.900000  -10   0.000000\n",
      "19       7299  20250201210000  102760   -50        7  100   2.000000  276.150000  273.050000   80  25960   0  100    8   800   99370   -200          mq          mq  276.550000   3.500000   3.500000  -10   0.000000\n",
      "20       7314  20250201210000  102530   -30        8   70   5.100000  278.950000  275.550000   79  15000   1   10    1   800  102240     60          mq          mq          mq   8.700000   9.300000  -10   0.000000\n",
      "21       7335  20250201210000  102590   -60        8   60   2.100000  274.250000  273.550000   95   8980   0   mq    0    mq  101070    -90          mq          mq  277.850000   3.500000   5.700000  -10   0.000000\n",
      "22       7434  20250201210000  102470   -50        8   60   4.100000  274.650000  273.150000   90  12130   0   mq    0    mq   97500   -390          mq          mq  274.950000   6.000000   6.200000  -10   0.000000\n",
      "23       7460  20250201210000  102680     0        0  240   1.100000  273.850000  272.350000   90   7840   0  100    8   450   98550   -270          mq          mq  269.950000   1.600000   1.600000  -10         mq\n",
      "24       7471  20250201210000      mq   -20        5   50   1.100000  272.650000  271.950000   95   8340   0  100    8   150   92580   -260          mq          mq  272.850000   2.100000   2.600000  -10   0.000000\n",
      "25       7481  20250201210000  102620   -20        7  310   2.100000  276.950000  273.650000   79  25000   2  100    8   800   99640   -200          mq          mq          mq   3.300000   4.200000  -10   0.000000\n",
      "26       7510  20250201210000  102500   -10        6  260   0.800000  275.650000  274.750000   94   7240   0   mq    0    mq  101890   -250          mq          mq  273.950000   1.200000   2.800000  -10   0.000000\n",
      "27       7535  20250201210000  102490    10        3  130   2.400000  274.050000  272.550000   90  20000   0   mq    0    mq   99230   -430          mq          mq  276.750000   3.400000   3.400000  -10   0.000000\n",
      "28       7558  20250201210000  102310   -10        6  310   1.300000  276.450000  273.850000   83  20000   0   mq   mq    mq   93780   -310          mq          mq  273.750000   2.100000   2.200000  -10   0.000000\n",
      "29       7577  20250201210000  102420   -10        8   20   4.500000  279.250000  274.550000   72  20000   0   mq   mq    mq  101500   -180          mq          mq  278.150000   7.700000   9.800000  -10   0.000000\n",
      "30       7591  20250201210000      mq    70        2  360   6.200000  280.150000  270.650000   51     mq  mq   mq   mq    mq   91930   -120          mq          mq          mq  10.400000  11.900000  -10   0.000000\n",
      "31       7607  20250201210000  102490     0        0    0   0.000000  274.550000  273.950000   96  33620   0   mq    0    mq  101740   -410          mq          mq  278.750000   0.500000   1.300000  -10   0.000000\n",
      "32       7621  20250201210000  102480    10        3    0   0.000000  277.950000  277.050000   94  19000   0  100    8  1250   98030   -480          mq          mq  275.850000   0.500000   1.700000  -10  -0.100000\n",
      "33       7627  20250201210000  102500    20        3    0   0.000000  276.850000  275.350000   90  20000   0   90    7   800   97420   -490          mq          mq  277.250000   0.700000   1.600000  -10         mq\n",
      "34       7630  20250201210000  102460    20        3  280   1.200000  277.150000  273.650000   78  34930   0   mq    0    mq  100590   -440          mq          mq  276.050000   1.900000   2.600000  -10   0.000000\n",
      "35       7643  20250201210000  102350    80        3   30   3.900000  279.150000  277.950000   92   9090  63  100    7  1250  102250   -210          mq          mq  279.450000   5.800000   7.000000  -10   3.800000\n",
      "36       7650  20250201210000  102190   -10        8  340   4.900000  281.250000  279.850000   91  26010   0  100    6   250  101800   -150          mq          mq  281.650000   6.400000   7.600000  -10   8.600000\n",
      "37       7661  20250201210000      mq    mq       mq   50   8.300000          mq          mq   mq     mq  mq   mq   mq    mq      mq     mq          mq          mq          mq  13.300000  13.900000  -10         mq\n",
      "38       7690  20250201210000  102160    20        0  320   3.000000  283.050000  281.150000   88  20000   2  100    8    mq  101840    -80          mq          mq  282.350000   3.900000   5.400000  -10   1.600000\n",
      "39       7747  20250201210000  102300    30        1  310   4.200000  280.950000  276.450000   73  60000   0  100    8  1250  101760   -430          mq          mq  280.150000   6.800000   7.300000  -10   0.800000\n",
      "40       7761  20250201210000  101930   -50        8   40   1.700000  282.550000  281.450000   93  14770   0  100    8  3300  101820   -410          mq          mq  281.650000   2.300000   4.000000  -10   0.600000\n",
      "41       7790  20250201210000  102120    20        0  290   1.600000  283.950000  283.350000   96  19570   0  100    7   450  101970   -220          mq          mq  283.950000   2.300000   4.100000  -10   6.200000\n",
      "42      61968  20250201210000  100780    80        8  280   5.600000          mq          mq   mq     mq  mq   mq   mq    mq  100730   -140          mq          mq          mq         mq  11.700000  -10   0.000000\n",
      "43      61970  20250201210000  100810    50        1  340   1.000000  301.650000  299.450000   88     mq  mq   mq   mq    mq  100700      0          mq          mq          mq         mq   4.500000  -10   0.000000\n",
      "44      61972  20250201210000  100920    40        0  140   5.700000  300.150000  295.150000   74     mq  mq   mq   mq    mq  100850    130          mq          mq          mq         mq  11.200000  -10   0.000000\n",
      "45      61976  20250201210000  100580   160        8   mq         mq  302.250000  298.050000   78     mq  mq   mq   mq    mq  100490   -170          mq          mq          mq         mq         mq  -10   0.000000\n",
      "46      61980  20250201210000  100630  -150        8  180   2.900000  301.050000  295.950000   74  60000   0   mq    2  1250  100480   -220          mq          mq          mq   3.800000   6.800000  -10   0.000000\n",
      "47      61996  20250201210000  101870   130        8  340   3.800000  290.650000  287.150000   80     mq  mq   mq   mq    mq  101530    -70          mq          mq          mq         mq   5.600000  -10   0.000000\n",
      "48      61997  20250201210000   98660   180        6  160   1.300000  282.250000  282.250000  100     mq  mq   mq   mq    mq   96940  -2450          mq          mq          mq         mq   3.900000  -10  12.800000\n",
      "49      61998  20250201210000  100900  -280        8   20   5.100000  278.350000  275.350000   81     mq  mq   mq   mq    mq  100530    380          mq          mq          mq         mq   8.700000  -10         mq\n",
      "50      67005  20250201210000  100820   -70        5  290   3.200000  299.750000  297.450000   87  20000   0   mq    0    mq  100740   -120          mq          mq          mq   4.300000   4.900000  -10   8.300000\n",
      "51      71805  20250201210000  100230    20        1  340   5.700000  267.550000  263.150000   71  51810   0  100    3   800  100140   -970          mq          mq  273.350000  10.400000  10.400000  -10   0.000000\n",
      "52      78890  20250201210000  101480    80        5   80  10.000000  300.550000  294.350000   69     mq  mq   mq   mq    mq  101160    -90          mq          mq          mq         mq  14.200000  -10   0.000000\n",
      "53      78897  20250201210000  101510   -40        5   60   4.400000  300.350000  292.950000   64  32950  mq   mq   mq    mq  101420    -90          mq          mq          mq         mq         mq   mq   0.200000\n",
      "54      78925  20250201210000  101370   -70        5  110   6.300000  301.150000  293.450000   63  19820   0   mq    3  1250  101280   -120          mq          mq          mq   9.600000  11.200000  -10   0.000000\n",
      "55      81401  20250201210000  101020    50        5   50   1.700000  301.350000  295.350000   70     mq  mq   mq   mq    mq  100960    -10          mq          mq          mq   5.200000   7.100000  -10   0.000000\n",
      "56      81405  20250201210000  101070   -40        5   30   4.600000  300.950000  295.850000   74  21280   0   mq    3   800  100980    -20          mq          mq  297.850000   8.200000   8.700000  -10   0.000000\n",
      "57      81408  20250201210000  100950    20        5   10   3.700000  301.450000  295.950000   72     mq  mq   mq   mq    mq  100870    -30          mq          mq          mq   6.200000   7.300000  -10   0.200000\n",
      "58      81415  20250201210000  100920   100        5   40   1.600000  302.050000  295.350000   67     mq  mq   mq   mq    mq   99720    -70          mq          mq          mq   2.600000   5.400000  -10   0.000000\n",
      "59      89642  20250201210000   98620  -130        6  130   6.200000  269.650000  260.450000   45  30000   2    0   mq    mq   98090     mq  268.550000  273.350000          mq         mq         mq   mq         mq\n"
     ]
    }
   ],
   "source": [
    "df = df[['numer_sta', 'date', \"pmer\", \"tend\", \"cod_tend\", \"dd\", \"ff\", \"t\", \"td\", \"u\", \"vv\", \"ww\", \"n\", \"nbas\", \"hbas\",\"pres\", \"tend24\", \"tn12\", \"tx12\", \"tminsol\", \"raf10\", \"rafper\", \"per\", \"rr12\" ]]\n",
    "\n",
    "\n",
    "print(df.to_string())\n"
   ]
  },
  {
   "cell_type": "markdown",
   "metadata": {},
   "source": [
    "## Remplacer les valeurs manquantes `mq` par `NaN`"
   ]
  },
  {
   "cell_type": "code",
   "execution_count": 9,
   "metadata": {
    "execution": {
     "iopub.execute_input": "2025-02-01T23:23:33.468433Z",
     "iopub.status.busy": "2025-02-01T23:23:33.468167Z",
     "iopub.status.idle": "2025-02-01T23:23:33.484862Z",
     "shell.execute_reply": "2025-02-01T23:23:33.484133Z"
    }
   },
   "outputs": [
    {
     "name": "stdout",
     "output_type": "stream",
     "text": [
      "    numer_sta            date    pmer  tend cod_tend   dd         ff           t          td    u     vv   ww    n nbas  hbas    pres tend24        tn12        tx12     tminsol      raf10     rafper  per       rr12\n",
      "0        7005  20250201210000  102820   -60        7   80   2.000000  273.950000  272.450000   90  18580    0  NaN  NaN   NaN  101900   -110         NaN         NaN  273.750000   3.000000   3.400000  -10   0.000000\n",
      "1        7015  20250201210000  102850   -80        6   80   2.700000  273.950000  271.850000   86   8490    0  NaN    0   NaN  102250   -200         NaN         NaN  272.850000   3.100000   4.000000  -10   0.200000\n",
      "2        7020  20250201210000  102540  -150        8  120   4.200000  277.550000  275.850000   89    NaN  NaN  NaN  NaN   NaN  102430   -190         NaN         NaN         NaN   6.000000   6.000000  -10   0.400000\n",
      "3        7027  20250201210000  102690  -100        8  120   2.600000  273.050000  272.650000   97   3590   10  NaN    0   NaN  101840     10         NaN         NaN  277.550000   3.600000   3.700000  -10   0.000000\n",
      "4        7037  20250201210000  102780   -50        8   60   2.300000  273.350000  272.050000   91  14880    0  NaN    0   NaN  100790    -90         NaN         NaN  275.050000   2.900000   2.900000  -10   0.000000\n",
      "5        7072  20250201210000  102810   -50        8  110   1.800000  271.850000  270.550000   91  20000    0  NaN    0   NaN  101590   -260         NaN         NaN  273.550000   2.500000   3.300000  -10   0.000000\n",
      "6        7110  20250201210000  102440  -120        8  180   6.500000  278.350000  276.050000   85  59390    0  100    8   450  101220   -300         NaN         NaN  272.650000  10.300000  10.300000  -10   0.200000\n",
      "7        7117  20250201210000  102490  -110        6  170   2.200000  277.750000  275.650000   86    NaN  NaN  NaN  NaN   NaN  101760   -260         NaN         NaN         NaN   5.500000   6.600000  -10   0.000000\n",
      "8        7130  20250201210000  102630  -100        6  110   1.100000  273.650000  273.250000   97    570   44  NaN    0   NaN  102160    -60         NaN         NaN  271.250000   1.500000   2.500000  -10   0.000000\n",
      "9        7139  20250201210000  102740   -20        8  360   1.200000  272.350000  271.950000   97   6760    0  NaN    0   NaN  100900    -30         NaN         NaN  278.450000   1.600000   2.100000  -10   0.000000\n",
      "10       7149  20250201210000  102750   -50        8   70   2.700000  275.350000  272.450000   81  17000    2    0    0   NaN  101610   -230         NaN         NaN         NaN   3.500000   4.000000  -10   0.000000\n",
      "11       7168  20250201210000  102720   -40        8   90   2.000000  273.950000  271.750000   85  20000    0  NaN    0   NaN  101230   -270         NaN         NaN  272.750000   3.100000   3.100000  -10   0.000000\n",
      "12       7181  20250201210000  102800   -40        8   30   2.100000  272.750000  270.050000   82  29430    0  NaN    0   NaN   98420   -290         NaN         NaN  271.050000   3.300000   4.400000  -10   0.000000\n",
      "13       7190  20250201210000  102800   -70        8    0   0.000000  272.950000  271.350000   89  15650    0  NaN    0   NaN  100880   -300         NaN         NaN  270.950000   0.500000   2.900000  -10   0.000000\n",
      "14       7207  20250201210000     NaN   NaN      NaN  150   6.200000  279.950000         NaN  NaN  15000    2  100    8  1250     NaN    NaN         NaN         NaN         NaN   9.400000   9.400000  -10   0.000000\n",
      "15       7222  20250201210000  102560  -120        8   80   3.300000  274.150000  272.950000   92  11210    0  NaN    0   NaN  102230     20         NaN         NaN  274.650000   4.700000   6.100000  -10   0.000000\n",
      "16       7240  20250201210000  102630   -90        8   70   2.800000  274.350000  273.950000   97   8280    0  NaN    0   NaN  101210   -110         NaN         NaN  276.050000   3.900000   4.500000  -10   0.400000\n",
      "17       7255  20250201210000  102640   -80        6   90   2.200000  273.750000  272.750000   93   8570    0  NaN  NaN   NaN  100550   -300         NaN         NaN  275.150000   2.600000   2.600000  -10   0.000000\n",
      "18       7280  20250201210000  102680   -20        8   20   2.100000  274.150000  271.750000   84   9660    0  NaN    1  4080   99920   -260         NaN         NaN  270.850000   3.000000   3.900000  -10   0.000000\n",
      "19       7299  20250201210000  102760   -50        7  100   2.000000  276.150000  273.050000   80  25960    0  100    8   800   99370   -200         NaN         NaN  276.550000   3.500000   3.500000  -10   0.000000\n",
      "20       7314  20250201210000  102530   -30        8   70   5.100000  278.950000  275.550000   79  15000    1   10    1   800  102240     60         NaN         NaN         NaN   8.700000   9.300000  -10   0.000000\n",
      "21       7335  20250201210000  102590   -60        8   60   2.100000  274.250000  273.550000   95   8980    0  NaN    0   NaN  101070    -90         NaN         NaN  277.850000   3.500000   5.700000  -10   0.000000\n",
      "22       7434  20250201210000  102470   -50        8   60   4.100000  274.650000  273.150000   90  12130    0  NaN    0   NaN   97500   -390         NaN         NaN  274.950000   6.000000   6.200000  -10   0.000000\n",
      "23       7460  20250201210000  102680     0        0  240   1.100000  273.850000  272.350000   90   7840    0  100    8   450   98550   -270         NaN         NaN  269.950000   1.600000   1.600000  -10        NaN\n",
      "24       7471  20250201210000     NaN   -20        5   50   1.100000  272.650000  271.950000   95   8340    0  100    8   150   92580   -260         NaN         NaN  272.850000   2.100000   2.600000  -10   0.000000\n",
      "25       7481  20250201210000  102620   -20        7  310   2.100000  276.950000  273.650000   79  25000    2  100    8   800   99640   -200         NaN         NaN         NaN   3.300000   4.200000  -10   0.000000\n",
      "26       7510  20250201210000  102500   -10        6  260   0.800000  275.650000  274.750000   94   7240    0  NaN    0   NaN  101890   -250         NaN         NaN  273.950000   1.200000   2.800000  -10   0.000000\n",
      "27       7535  20250201210000  102490    10        3  130   2.400000  274.050000  272.550000   90  20000    0  NaN    0   NaN   99230   -430         NaN         NaN  276.750000   3.400000   3.400000  -10   0.000000\n",
      "28       7558  20250201210000  102310   -10        6  310   1.300000  276.450000  273.850000   83  20000    0  NaN  NaN   NaN   93780   -310         NaN         NaN  273.750000   2.100000   2.200000  -10   0.000000\n",
      "29       7577  20250201210000  102420   -10        8   20   4.500000  279.250000  274.550000   72  20000    0  NaN  NaN   NaN  101500   -180         NaN         NaN  278.150000   7.700000   9.800000  -10   0.000000\n",
      "30       7591  20250201210000     NaN    70        2  360   6.200000  280.150000  270.650000   51    NaN  NaN  NaN  NaN   NaN   91930   -120         NaN         NaN         NaN  10.400000  11.900000  -10   0.000000\n",
      "31       7607  20250201210000  102490     0        0    0   0.000000  274.550000  273.950000   96  33620    0  NaN    0   NaN  101740   -410         NaN         NaN  278.750000   0.500000   1.300000  -10   0.000000\n",
      "32       7621  20250201210000  102480    10        3    0   0.000000  277.950000  277.050000   94  19000    0  100    8  1250   98030   -480         NaN         NaN  275.850000   0.500000   1.700000  -10  -0.100000\n",
      "33       7627  20250201210000  102500    20        3    0   0.000000  276.850000  275.350000   90  20000    0   90    7   800   97420   -490         NaN         NaN  277.250000   0.700000   1.600000  -10        NaN\n",
      "34       7630  20250201210000  102460    20        3  280   1.200000  277.150000  273.650000   78  34930    0  NaN    0   NaN  100590   -440         NaN         NaN  276.050000   1.900000   2.600000  -10   0.000000\n",
      "35       7643  20250201210000  102350    80        3   30   3.900000  279.150000  277.950000   92   9090   63  100    7  1250  102250   -210         NaN         NaN  279.450000   5.800000   7.000000  -10   3.800000\n",
      "36       7650  20250201210000  102190   -10        8  340   4.900000  281.250000  279.850000   91  26010    0  100    6   250  101800   -150         NaN         NaN  281.650000   6.400000   7.600000  -10   8.600000\n",
      "37       7661  20250201210000     NaN   NaN      NaN   50   8.300000         NaN         NaN  NaN    NaN  NaN  NaN  NaN   NaN     NaN    NaN         NaN         NaN         NaN  13.300000  13.900000  -10        NaN\n",
      "38       7690  20250201210000  102160    20        0  320   3.000000  283.050000  281.150000   88  20000    2  100    8   NaN  101840    -80         NaN         NaN  282.350000   3.900000   5.400000  -10   1.600000\n",
      "39       7747  20250201210000  102300    30        1  310   4.200000  280.950000  276.450000   73  60000    0  100    8  1250  101760   -430         NaN         NaN  280.150000   6.800000   7.300000  -10   0.800000\n",
      "40       7761  20250201210000  101930   -50        8   40   1.700000  282.550000  281.450000   93  14770    0  100    8  3300  101820   -410         NaN         NaN  281.650000   2.300000   4.000000  -10   0.600000\n",
      "41       7790  20250201210000  102120    20        0  290   1.600000  283.950000  283.350000   96  19570    0  100    7   450  101970   -220         NaN         NaN  283.950000   2.300000   4.100000  -10   6.200000\n",
      "42      61968  20250201210000  100780    80        8  280   5.600000         NaN         NaN  NaN    NaN  NaN  NaN  NaN   NaN  100730   -140         NaN         NaN         NaN        NaN  11.700000  -10   0.000000\n",
      "43      61970  20250201210000  100810    50        1  340   1.000000  301.650000  299.450000   88    NaN  NaN  NaN  NaN   NaN  100700      0         NaN         NaN         NaN        NaN   4.500000  -10   0.000000\n",
      "44      61972  20250201210000  100920    40        0  140   5.700000  300.150000  295.150000   74    NaN  NaN  NaN  NaN   NaN  100850    130         NaN         NaN         NaN        NaN  11.200000  -10   0.000000\n",
      "45      61976  20250201210000  100580   160        8  NaN        NaN  302.250000  298.050000   78    NaN  NaN  NaN  NaN   NaN  100490   -170         NaN         NaN         NaN        NaN        NaN  -10   0.000000\n",
      "46      61980  20250201210000  100630  -150        8  180   2.900000  301.050000  295.950000   74  60000    0  NaN    2  1250  100480   -220         NaN         NaN         NaN   3.800000   6.800000  -10   0.000000\n",
      "47      61996  20250201210000  101870   130        8  340   3.800000  290.650000  287.150000   80    NaN  NaN  NaN  NaN   NaN  101530    -70         NaN         NaN         NaN        NaN   5.600000  -10   0.000000\n",
      "48      61997  20250201210000   98660   180        6  160   1.300000  282.250000  282.250000  100    NaN  NaN  NaN  NaN   NaN   96940  -2450         NaN         NaN         NaN        NaN   3.900000  -10  12.800000\n",
      "49      61998  20250201210000  100900  -280        8   20   5.100000  278.350000  275.350000   81    NaN  NaN  NaN  NaN   NaN  100530    380         NaN         NaN         NaN        NaN   8.700000  -10        NaN\n",
      "50      67005  20250201210000  100820   -70        5  290   3.200000  299.750000  297.450000   87  20000    0  NaN    0   NaN  100740   -120         NaN         NaN         NaN   4.300000   4.900000  -10   8.300000\n",
      "51      71805  20250201210000  100230    20        1  340   5.700000  267.550000  263.150000   71  51810    0  100    3   800  100140   -970         NaN         NaN  273.350000  10.400000  10.400000  -10   0.000000\n",
      "52      78890  20250201210000  101480    80        5   80  10.000000  300.550000  294.350000   69    NaN  NaN  NaN  NaN   NaN  101160    -90         NaN         NaN         NaN        NaN  14.200000  -10   0.000000\n",
      "53      78897  20250201210000  101510   -40        5   60   4.400000  300.350000  292.950000   64  32950  NaN  NaN  NaN   NaN  101420    -90         NaN         NaN         NaN        NaN        NaN  NaN   0.200000\n",
      "54      78925  20250201210000  101370   -70        5  110   6.300000  301.150000  293.450000   63  19820    0  NaN    3  1250  101280   -120         NaN         NaN         NaN   9.600000  11.200000  -10   0.000000\n",
      "55      81401  20250201210000  101020    50        5   50   1.700000  301.350000  295.350000   70    NaN  NaN  NaN  NaN   NaN  100960    -10         NaN         NaN         NaN   5.200000   7.100000  -10   0.000000\n",
      "56      81405  20250201210000  101070   -40        5   30   4.600000  300.950000  295.850000   74  21280    0  NaN    3   800  100980    -20         NaN         NaN  297.850000   8.200000   8.700000  -10   0.000000\n",
      "57      81408  20250201210000  100950    20        5   10   3.700000  301.450000  295.950000   72    NaN  NaN  NaN  NaN   NaN  100870    -30         NaN         NaN         NaN   6.200000   7.300000  -10   0.200000\n",
      "58      81415  20250201210000  100920   100        5   40   1.600000  302.050000  295.350000   67    NaN  NaN  NaN  NaN   NaN   99720    -70         NaN         NaN         NaN   2.600000   5.400000  -10   0.000000\n",
      "59      89642  20250201210000   98620  -130        6  130   6.200000  269.650000  260.450000   45  30000    2    0  NaN   NaN   98090    NaN  268.550000  273.350000         NaN        NaN        NaN  NaN        NaN\n"
     ]
    }
   ],
   "source": [
    "df.replace(\"mq\", np.nan, inplace=True)\n",
    "print(df.to_string())"
   ]
  },
  {
   "cell_type": "markdown",
   "metadata": {},
   "source": [
    "## Nettoyages de colonnes non renseignées \n",
    "\n",
    "1. Informations générales\n",
    "\t-\tNuméro de station : `numer_sta` -> int\n",
    "\t-\tDate (UTC) : `date` -> datetime\n",
    "2. Pression\n",
    "\t-\tPression au niveau mer : `pmer` -> int\n",
    "\t-\tVariation de pression en 3 heures : `tend` -> int\n",
    "\t-\tType de tendance barométrique : `cod_tend` -> int\n",
    "\t-\tPression station : `pres` -> int\n",
    "\t-\tVariation de pression en 24 heures : `tend24` -> int\n",
    "3. Vent\n",
    "\t-\tDirection du vent moyen 10 mn : `dd` -> int\n",
    "\t-\tVitesse du vent moyen 10 mn : `ff` -> float\n",
    "\t-\tRafales sur les 10 dernières minutes : `raf10` -> float\n",
    "\t-\tRafales sur une période : `rafper` -> float\n",
    "\t-\tPériode de mesure des rafales : `per` -> float\n",
    "4. Température\n",
    "\t-\tTempérature : `t` -> float\n",
    "\t-\tPoint de rosée : `td` -> float\n",
    "\t-\tTempérature minimale sur N heures : `tn12` -> float\n",
    "\t-\tTempérature maximale sur N heures : `tx12` -> float\n",
    "\t-\tTempérature minimale du sol sur 12 heures : `tminsol` -> float\n",
    "5. Humidité\n",
    "\t-\tHumidité : `u` -> int\n",
    "6. Visibilité\n",
    "\t-\tVisibilité horizontale : `vv` -> float\n",
    "7. Nébulosité et nuages\n",
    "\t-\tNébulosité totale : `n` -> float\n",
    "\t-\tNébulosité des nuages de l’étage inférieur : `nbas` -> int\n",
    "\t-\tHauteur de la base des nuages de l’étage inférieur : `hbas` -> int\n",
    "8. Précipitations\n",
    "\t-\tPrécipitations dans les N dernières heures : `rr12` -> float\n",
    "9. Temps présent\n",
    "\t-\tTemps présent : `ww` -> int"
   ]
  },
  {
   "cell_type": "code",
   "execution_count": 10,
   "metadata": {
    "execution": {
     "iopub.execute_input": "2025-02-01T23:23:33.486959Z",
     "iopub.status.busy": "2025-02-01T23:23:33.486709Z",
     "iopub.status.idle": "2025-02-01T23:23:33.523118Z",
     "shell.execute_reply": "2025-02-01T23:23:33.522416Z"
    }
   },
   "outputs": [
    {
     "name": "stdout",
     "output_type": "stream",
     "text": [
      "    numer_sta            date           pmer        tend  cod_tend   dd         ff          t          td           u            vv         ww           n      nbas         hbas           pres      tend24    tn12    tx12     tminsol      raf10     rafper  per       rr12\n",
      "0        7005  20250201210000  102820.000000  -60.000000   7.00000   80   2.000000  273.95000  272.450000   90.000000  18580.000000   0.000000   83.333333  3.076923  1127.894737  101900.000000  -110.00000  268.55  273.35  273.750000   3.000000   3.400000  -10   0.000000\n",
      "1        7015  20250201210000  102850.000000  -80.000000   6.00000   80   2.700000  273.95000  271.850000   86.000000   8490.000000   0.000000   83.333333  0.000000  1127.894737  102250.000000  -200.00000  268.55  273.35  272.850000   3.100000   4.000000  -10   0.200000\n",
      "2        7020  20250201210000  102540.000000 -150.000000   8.00000  120   4.200000  277.55000  275.850000   89.000000  20675.555556   2.909091   83.333333  3.076923  1127.894737  102430.000000  -190.00000  268.55  273.35  276.377778   6.000000   6.000000  -10   0.400000\n",
      "3        7027  20250201210000  102690.000000 -100.000000   8.00000  120   2.600000  273.05000  272.650000   97.000000   3590.000000  10.000000   83.333333  0.000000  1127.894737  101840.000000    10.00000  268.55  273.35  277.550000   3.600000   3.700000  -10   0.000000\n",
      "4        7037  20250201210000  102780.000000  -50.000000   8.00000   60   2.300000  273.35000  272.050000   91.000000  14880.000000   0.000000   83.333333  0.000000  1127.894737  100790.000000   -90.00000  268.55  273.35  275.050000   2.900000   2.900000  -10   0.000000\n",
      "5        7072  20250201210000  102810.000000  -50.000000   8.00000  110   1.800000  271.85000  270.550000   91.000000  20000.000000   0.000000   83.333333  0.000000  1127.894737  101590.000000  -260.00000  268.55  273.35  273.550000   2.500000   3.300000  -10   0.000000\n",
      "6        7110  20250201210000  102440.000000 -120.000000   8.00000  180   6.500000  278.35000  276.050000   85.000000  59390.000000   0.000000  100.000000  8.000000   450.000000  101220.000000  -300.00000  268.55  273.35  272.650000  10.300000  10.300000  -10   0.200000\n",
      "7        7117  20250201210000  102490.000000 -110.000000   6.00000  170   2.200000  277.75000  275.650000   86.000000  20675.555556   2.909091   83.333333  3.076923  1127.894737  101760.000000  -260.00000  268.55  273.35  276.377778   5.500000   6.600000  -10   0.000000\n",
      "8        7130  20250201210000  102630.000000 -100.000000   6.00000  110   1.100000  273.65000  273.250000   97.000000    570.000000  44.000000   83.333333  0.000000  1127.894737  102160.000000   -60.00000  268.55  273.35  271.250000   1.500000   2.500000  -10   0.000000\n",
      "9        7139  20250201210000  102740.000000  -20.000000   8.00000  360   1.200000  272.35000  271.950000   97.000000   6760.000000   0.000000   83.333333  0.000000  1127.894737  100900.000000   -30.00000  268.55  273.35  278.450000   1.600000   2.100000  -10   0.000000\n",
      "10       7149  20250201210000  102750.000000  -50.000000   8.00000   70   2.700000  275.35000  272.450000   81.000000  17000.000000   2.000000    0.000000  0.000000  1127.894737  101610.000000  -230.00000  268.55  273.35  276.377778   3.500000   4.000000  -10   0.000000\n",
      "11       7168  20250201210000  102720.000000  -40.000000   8.00000   90   2.000000  273.95000  271.750000   85.000000  20000.000000   0.000000   83.333333  0.000000  1127.894737  101230.000000  -270.00000  268.55  273.35  272.750000   3.100000   3.100000  -10   0.000000\n",
      "12       7181  20250201210000  102800.000000  -40.000000   8.00000   30   2.100000  272.75000  270.050000   82.000000  29430.000000   0.000000   83.333333  0.000000  1127.894737   98420.000000  -290.00000  268.55  273.35  271.050000   3.300000   4.400000  -10   0.000000\n",
      "13       7190  20250201210000  102800.000000  -70.000000   8.00000    0   0.000000  272.95000  271.350000   89.000000  15650.000000   0.000000   83.333333  0.000000  1127.894737  100880.000000  -300.00000  268.55  273.35  270.950000   0.500000   2.900000  -10   0.000000\n",
      "14       7207  20250201210000  101961.785714  -21.724138   5.62069  150   6.200000  279.95000  278.714912   83.473684  15000.000000   2.000000  100.000000  8.000000  1250.000000  100327.586207  -232.45614  268.55  273.35  276.377778   9.400000   9.400000  -10   0.000000\n",
      "15       7222  20250201210000  102560.000000 -120.000000   8.00000   80   3.300000  274.15000  272.950000   92.000000  11210.000000   0.000000   83.333333  0.000000  1127.894737  102230.000000    20.00000  268.55  273.35  274.650000   4.700000   6.100000  -10   0.000000\n",
      "16       7240  20250201210000  102630.000000  -90.000000   8.00000   70   2.800000  274.35000  273.950000   97.000000   8280.000000   0.000000   83.333333  0.000000  1127.894737  101210.000000  -110.00000  268.55  273.35  276.050000   3.900000   4.500000  -10   0.400000\n",
      "17       7255  20250201210000  102640.000000  -80.000000   6.00000   90   2.200000  273.75000  272.750000   93.000000   8570.000000   0.000000   83.333333  3.076923  1127.894737  100550.000000  -300.00000  268.55  273.35  275.150000   2.600000   2.600000  -10   0.000000\n",
      "18       7280  20250201210000  102680.000000  -20.000000   8.00000   20   2.100000  274.15000  271.750000   84.000000   9660.000000   0.000000   83.333333  1.000000  4080.000000   99920.000000  -260.00000  268.55  273.35  270.850000   3.000000   3.900000  -10   0.000000\n",
      "19       7299  20250201210000  102760.000000  -50.000000   7.00000  100   2.000000  276.15000  273.050000   80.000000  25960.000000   0.000000  100.000000  8.000000   800.000000   99370.000000  -200.00000  268.55  273.35  276.550000   3.500000   3.500000  -10   0.000000\n",
      "20       7314  20250201210000  102530.000000  -30.000000   8.00000   70   5.100000  278.95000  275.550000   79.000000  15000.000000   1.000000   10.000000  1.000000   800.000000  102240.000000    60.00000  268.55  273.35  276.377778   8.700000   9.300000  -10   0.000000\n",
      "21       7335  20250201210000  102590.000000  -60.000000   8.00000   60   2.100000  274.25000  273.550000   95.000000   8980.000000   0.000000   83.333333  0.000000  1127.894737  101070.000000   -90.00000  268.55  273.35  277.850000   3.500000   5.700000  -10   0.000000\n",
      "22       7434  20250201210000  102470.000000  -50.000000   8.00000   60   4.100000  274.65000  273.150000   90.000000  12130.000000   0.000000   83.333333  0.000000  1127.894737   97500.000000  -390.00000  268.55  273.35  274.950000   6.000000   6.200000  -10   0.000000\n",
      "23       7460  20250201210000  102680.000000    0.000000   0.00000  240   1.100000  273.85000  272.350000   90.000000   7840.000000   0.000000  100.000000  8.000000   450.000000   98550.000000  -270.00000  268.55  273.35  269.950000   1.600000   1.600000  -10          0\n",
      "24       7471  20250201210000  101961.785714  -20.000000   5.00000   50   1.100000  272.65000  271.950000   95.000000   8340.000000   0.000000  100.000000  8.000000   150.000000   92580.000000  -260.00000  268.55  273.35  272.850000   2.100000   2.600000  -10   0.000000\n",
      "25       7481  20250201210000  102620.000000  -20.000000   7.00000  310   2.100000  276.95000  273.650000   79.000000  25000.000000   2.000000  100.000000  8.000000   800.000000   99640.000000  -200.00000  268.55  273.35  276.377778   3.300000   4.200000  -10   0.000000\n",
      "26       7510  20250201210000  102500.000000  -10.000000   6.00000  260   0.800000  275.65000  274.750000   94.000000   7240.000000   0.000000   83.333333  0.000000  1127.894737  101890.000000  -250.00000  268.55  273.35  273.950000   1.200000   2.800000  -10   0.000000\n",
      "27       7535  20250201210000  102490.000000   10.000000   3.00000  130   2.400000  274.05000  272.550000   90.000000  20000.000000   0.000000   83.333333  0.000000  1127.894737   99230.000000  -430.00000  268.55  273.35  276.750000   3.400000   3.400000  -10   0.000000\n",
      "28       7558  20250201210000  102310.000000  -10.000000   6.00000  310   1.300000  276.45000  273.850000   83.000000  20000.000000   0.000000   83.333333  3.076923  1127.894737   93780.000000  -310.00000  268.55  273.35  273.750000   2.100000   2.200000  -10   0.000000\n",
      "29       7577  20250201210000  102420.000000  -10.000000   8.00000   20   4.500000  279.25000  274.550000   72.000000  20000.000000   0.000000   83.333333  3.076923  1127.894737  101500.000000  -180.00000  268.55  273.35  278.150000   7.700000   9.800000  -10   0.000000\n",
      "30       7591  20250201210000  101961.785714   70.000000   2.00000  360   6.200000  280.15000  270.650000   51.000000  20675.555556   2.909091   83.333333  3.076923  1127.894737   91930.000000  -120.00000  268.55  273.35  276.377778  10.400000  11.900000  -10   0.000000\n",
      "31       7607  20250201210000  102490.000000    0.000000   0.00000    0   0.000000  274.55000  273.950000   96.000000  33620.000000   0.000000   83.333333  0.000000  1127.894737  101740.000000  -410.00000  268.55  273.35  278.750000   0.500000   1.300000  -10   0.000000\n",
      "32       7621  20250201210000  102480.000000   10.000000   3.00000    0   0.000000  277.95000  277.050000   94.000000  19000.000000   0.000000  100.000000  8.000000  1250.000000   98030.000000  -480.00000  268.55  273.35  275.850000   0.500000   1.700000  -10  -0.100000\n",
      "33       7627  20250201210000  102500.000000   20.000000   3.00000    0   0.000000  276.85000  275.350000   90.000000  20000.000000   0.000000   90.000000  7.000000   800.000000   97420.000000  -490.00000  268.55  273.35  277.250000   0.700000   1.600000  -10          0\n",
      "34       7630  20250201210000  102460.000000   20.000000   3.00000  280   1.200000  277.15000  273.650000   78.000000  34930.000000   0.000000   83.333333  0.000000  1127.894737  100590.000000  -440.00000  268.55  273.35  276.050000   1.900000   2.600000  -10   0.000000\n",
      "35       7643  20250201210000  102350.000000   80.000000   3.00000   30   3.900000  279.15000  277.950000   92.000000   9090.000000  63.000000  100.000000  7.000000  1250.000000  102250.000000  -210.00000  268.55  273.35  279.450000   5.800000   7.000000  -10   3.800000\n",
      "36       7650  20250201210000  102190.000000  -10.000000   8.00000  340   4.900000  281.25000  279.850000   91.000000  26010.000000   0.000000  100.000000  6.000000   250.000000  101800.000000  -150.00000  268.55  273.35  281.650000   6.400000   7.600000  -10   8.600000\n",
      "37       7661  20250201210000  101961.785714  -21.724138   5.62069   50   8.300000  281.52931  278.714912   83.473684  20675.555556   2.909091   83.333333  3.076923  1127.894737  100327.586207  -232.45614  268.55  273.35  276.377778  13.300000  13.900000  -10          0\n",
      "38       7690  20250201210000  102160.000000   20.000000   0.00000  320   3.000000  283.05000  281.150000   88.000000  20000.000000   2.000000  100.000000  8.000000  1127.894737  101840.000000   -80.00000  268.55  273.35  282.350000   3.900000   5.400000  -10   1.600000\n",
      "39       7747  20250201210000  102300.000000   30.000000   1.00000  310   4.200000  280.95000  276.450000   73.000000  60000.000000   0.000000  100.000000  8.000000  1250.000000  101760.000000  -430.00000  268.55  273.35  280.150000   6.800000   7.300000  -10   0.800000\n",
      "40       7761  20250201210000  101930.000000  -50.000000   8.00000   40   1.700000  282.55000  281.450000   93.000000  14770.000000   0.000000  100.000000  8.000000  3300.000000  101820.000000  -410.00000  268.55  273.35  281.650000   2.300000   4.000000  -10   0.600000\n",
      "41       7790  20250201210000  102120.000000   20.000000   0.00000  290   1.600000  283.95000  283.350000   96.000000  19570.000000   0.000000  100.000000  7.000000   450.000000  101970.000000  -220.00000  268.55  273.35  283.950000   2.300000   4.100000  -10   6.200000\n",
      "42      61968  20250201210000  100780.000000   80.000000   8.00000  280   5.600000  281.52931  278.714912   83.473684  20675.555556   2.909091   83.333333  3.076923  1127.894737  100730.000000  -140.00000  268.55  273.35  276.377778          0  11.700000  -10   0.000000\n",
      "43      61970  20250201210000  100810.000000   50.000000   1.00000  340   1.000000  301.65000  299.450000   88.000000  20675.555556   2.909091   83.333333  3.076923  1127.894737  100700.000000     0.00000  268.55  273.35  276.377778          0   4.500000  -10   0.000000\n",
      "44      61972  20250201210000  100920.000000   40.000000   0.00000  140   5.700000  300.15000  295.150000   74.000000  20675.555556   2.909091   83.333333  3.076923  1127.894737  100850.000000   130.00000  268.55  273.35  276.377778          0  11.200000  -10   0.000000\n",
      "45      61976  20250201210000  100580.000000  160.000000   8.00000    0          0  302.25000  298.050000   78.000000  20675.555556   2.909091   83.333333  3.076923  1127.894737  100490.000000  -170.00000  268.55  273.35  276.377778          0          0  -10   0.000000\n",
      "46      61980  20250201210000  100630.000000 -150.000000   8.00000  180   2.900000  301.05000  295.950000   74.000000  60000.000000   0.000000   83.333333  2.000000  1250.000000  100480.000000  -220.00000  268.55  273.35  276.377778   3.800000   6.800000  -10   0.000000\n",
      "47      61996  20250201210000  101870.000000  130.000000   8.00000  340   3.800000  290.65000  287.150000   80.000000  20675.555556   2.909091   83.333333  3.076923  1127.894737  101530.000000   -70.00000  268.55  273.35  276.377778          0   5.600000  -10   0.000000\n",
      "48      61997  20250201210000   98660.000000  180.000000   6.00000  160   1.300000  282.25000  282.250000  100.000000  20675.555556   2.909091   83.333333  3.076923  1127.894737   96940.000000 -2450.00000  268.55  273.35  276.377778          0   3.900000  -10  12.800000\n",
      "49      61998  20250201210000  100900.000000 -280.000000   8.00000   20   5.100000  278.35000  275.350000   81.000000  20675.555556   2.909091   83.333333  3.076923  1127.894737  100530.000000   380.00000  268.55  273.35  276.377778          0   8.700000  -10          0\n",
      "50      67005  20250201210000  100820.000000  -70.000000   5.00000  290   3.200000  299.75000  297.450000   87.000000  20000.000000   0.000000   83.333333  0.000000  1127.894737  100740.000000  -120.00000  268.55  273.35  276.377778   4.300000   4.900000  -10   8.300000\n",
      "51      71805  20250201210000  100230.000000   20.000000   1.00000  340   5.700000  267.55000  263.150000   71.000000  51810.000000   0.000000  100.000000  3.000000   800.000000  100140.000000  -970.00000  268.55  273.35  273.350000  10.400000  10.400000  -10   0.000000\n",
      "52      78890  20250201210000  101480.000000   80.000000   5.00000   80  10.000000  300.55000  294.350000   69.000000  20675.555556   2.909091   83.333333  3.076923  1127.894737  101160.000000   -90.00000  268.55  273.35  276.377778          0  14.200000  -10   0.000000\n",
      "53      78897  20250201210000  101510.000000  -40.000000   5.00000   60   4.400000  300.35000  292.950000   64.000000  32950.000000   2.909091   83.333333  3.076923  1127.894737  101420.000000   -90.00000  268.55  273.35  276.377778          0          0    0   0.200000\n",
      "54      78925  20250201210000  101370.000000  -70.000000   5.00000  110   6.300000  301.15000  293.450000   63.000000  19820.000000   0.000000   83.333333  3.000000  1250.000000  101280.000000  -120.00000  268.55  273.35  276.377778   9.600000  11.200000  -10   0.000000\n",
      "55      81401  20250201210000  101020.000000   50.000000   5.00000   50   1.700000  301.35000  295.350000   70.000000  20675.555556   2.909091   83.333333  3.076923  1127.894737  100960.000000   -10.00000  268.55  273.35  276.377778   5.200000   7.100000  -10   0.000000\n",
      "56      81405  20250201210000  101070.000000  -40.000000   5.00000   30   4.600000  300.95000  295.850000   74.000000  21280.000000   0.000000   83.333333  3.000000   800.000000  100980.000000   -20.00000  268.55  273.35  297.850000   8.200000   8.700000  -10   0.000000\n",
      "57      81408  20250201210000  100950.000000   20.000000   5.00000   10   3.700000  301.45000  295.950000   72.000000  20675.555556   2.909091   83.333333  3.076923  1127.894737  100870.000000   -30.00000  268.55  273.35  276.377778   6.200000   7.300000  -10   0.200000\n",
      "58      81415  20250201210000  100920.000000  100.000000   5.00000   40   1.600000  302.05000  295.350000   67.000000  20675.555556   2.909091   83.333333  3.076923  1127.894737   99720.000000   -70.00000  268.55  273.35  276.377778   2.600000   5.400000  -10   0.000000\n",
      "59      89642  20250201210000   98620.000000 -130.000000   6.00000  130   6.200000  269.65000  260.450000   45.000000  30000.000000   2.000000    0.000000  3.076923  1127.894737   98090.000000  -232.45614  268.55  273.35  276.377778          0          0    0          0\n"
     ]
    }
   ],
   "source": [
    "df[['dd', 'ff', 'raf10', 'rafper', 'rr12', \"per\"]] = df[['dd', 'ff', 'raf10', 'rafper', 'rr12', \"per\"]].fillna(0)\n",
    "\n",
    "moyenne = [\"pmer\", \"tend\", \"cod_tend\", \"pres\", \"tend24\", \"t\", \"td\", \"tn12\", \"tx12\", \"tminsol\", \"u\", \"vv\", \"n\", \"nbas\", \"hbas\", \"ww\"]\n",
    "df[moyenne] = df[moyenne].apply(pd.to_numeric, errors='coerce')\n",
    "\n",
    "for col in moyenne:\n",
    "    df[col] = df[col].fillna(df[col].mean())\n",
    "\n",
    "print(df.to_string())\n",
    "\n"
   ]
  },
  {
   "cell_type": "markdown",
   "metadata": {},
   "source": [
    "## Typages des colonnes"
   ]
  },
  {
   "cell_type": "code",
   "execution_count": 11,
   "metadata": {
    "execution": {
     "iopub.execute_input": "2025-02-01T23:23:33.525348Z",
     "iopub.status.busy": "2025-02-01T23:23:33.525097Z",
     "iopub.status.idle": "2025-02-01T23:23:33.540730Z",
     "shell.execute_reply": "2025-02-01T23:23:33.540040Z"
    }
   },
   "outputs": [
    {
     "name": "stdout",
     "output_type": "stream",
     "text": [
      "numer_sta -> int64\n",
      "numer_sta -> int64\n",
      "\n",
      "pmer -> float64\n",
      "pmer -> int64\n",
      "\n",
      "tend -> float64\n",
      "tend -> int64\n",
      "\n",
      "cod_tend -> float64\n",
      "cod_tend -> int64\n",
      "\n",
      "dd -> object\n",
      "dd -> int64\n",
      "\n",
      "u -> float64\n",
      "u -> int64\n",
      "\n",
      "ww -> float64\n",
      "ww -> int64\n",
      "\n",
      "nbas -> float64\n",
      "nbas -> int64\n",
      "\n",
      "hbas -> float64\n",
      "hbas -> int64\n",
      "\n",
      "pres -> float64\n",
      "pres -> int64\n",
      "\n",
      "tend24 -> float64\n",
      "tend24 -> int64\n",
      "\n",
      "dd -> int64\n",
      "dd -> float64\n",
      "\n",
      "ff -> object\n",
      "ff -> float64\n",
      "\n",
      "raf10 -> object\n",
      "raf10 -> float64\n",
      "\n",
      "rafper -> object\n",
      "rafper -> float64\n",
      "\n",
      "rr12 -> object\n",
      "rr12 -> float64\n",
      "\n",
      "per -> object\n",
      "per -> float64\n",
      "\n",
      "t -> float64\n",
      "t -> float64\n",
      "\n",
      "td -> float64\n",
      "td -> float64\n",
      "\n",
      "tn12 -> float64\n",
      "tn12 -> float64\n",
      "\n",
      "tx12 -> float64\n",
      "tx12 -> float64\n",
      "\n",
      "tminsol -> float64\n",
      "tminsol -> float64\n",
      "\n",
      "n -> float64\n",
      "n -> float64\n",
      "\n",
      "vv -> float64\n",
      "vv -> float64\n",
      "\n"
     ]
    }
   ],
   "source": [
    "df[\"date\"] = pd.to_datetime(df[\"date\"], format='%Y%m%d%H%M%S')\n",
    "df['date'] = df['date'].dt.strftime(\"%Y-%m-%d %H:%M:%S\")\n",
    "\n",
    "entier = [\"numer_sta\", \"pmer\", \"tend\", \"cod_tend\", \"dd\", \"u\", \"ww\", \"nbas\", \"hbas\", \"pres\", \"tend24\"]\n",
    "for i in entier:\n",
    "    print(f\"{i} -> {df[i].dtype}\")\n",
    "    df[i] = df[i].astype(int)\n",
    "    print(f\"{i} -> {df[i].dtype}\")\n",
    "    print(\"\")\n",
    "\n",
    "double = ['dd', 'ff', 'raf10', 'rafper', 'rr12', \"per\", \"t\", \"td\", \"tn12\", \"tx12\", \"tminsol\", \"n\", \"vv\"]\n",
    "for i in double:\n",
    "    print(f\"{i} -> {df[i].dtype}\")\n",
    "    df[i] = df[i].astype(float)\n",
    "    print(f\"{i} -> {df[i].dtype}\")\n",
    "    print(\"\")"
   ]
  },
  {
   "cell_type": "code",
   "execution_count": 12,
   "metadata": {
    "execution": {
     "iopub.execute_input": "2025-02-01T23:23:33.543412Z",
     "iopub.status.busy": "2025-02-01T23:23:33.542916Z",
     "iopub.status.idle": "2025-02-01T23:23:33.569668Z",
     "shell.execute_reply": "2025-02-01T23:23:33.568962Z"
    }
   },
   "outputs": [
    {
     "name": "stdout",
     "output_type": "stream",
     "text": [
      "    numer_sta                 date    pmer  tend  cod_tend     dd    ff          t          td    u            vv  ww           n  nbas  hbas    pres  tend24    tn12    tx12     tminsol  raf10  rafper   per  rr12\n",
      "0        7005  2025-02-01 21:00:00  102820   -60         7   80.0   2.0  273.95000  272.450000   90  18580.000000   0   83.333333     3  1127  101900    -110  268.55  273.35  273.750000    3.0     3.4 -10.0   0.0\n",
      "1        7015  2025-02-01 21:00:00  102850   -80         6   80.0   2.7  273.95000  271.850000   86   8490.000000   0   83.333333     0  1127  102250    -200  268.55  273.35  272.850000    3.1     4.0 -10.0   0.2\n",
      "2        7020  2025-02-01 21:00:00  102540  -150         8  120.0   4.2  277.55000  275.850000   89  20675.555556   2   83.333333     3  1127  102430    -190  268.55  273.35  276.377778    6.0     6.0 -10.0   0.4\n",
      "3        7027  2025-02-01 21:00:00  102690  -100         8  120.0   2.6  273.05000  272.650000   97   3590.000000  10   83.333333     0  1127  101840      10  268.55  273.35  277.550000    3.6     3.7 -10.0   0.0\n",
      "4        7037  2025-02-01 21:00:00  102780   -50         8   60.0   2.3  273.35000  272.050000   91  14880.000000   0   83.333333     0  1127  100790     -90  268.55  273.35  275.050000    2.9     2.9 -10.0   0.0\n",
      "5        7072  2025-02-01 21:00:00  102810   -50         8  110.0   1.8  271.85000  270.550000   91  20000.000000   0   83.333333     0  1127  101590    -260  268.55  273.35  273.550000    2.5     3.3 -10.0   0.0\n",
      "6        7110  2025-02-01 21:00:00  102440  -120         8  180.0   6.5  278.35000  276.050000   85  59390.000000   0  100.000000     8   450  101220    -300  268.55  273.35  272.650000   10.3    10.3 -10.0   0.2\n",
      "7        7117  2025-02-01 21:00:00  102490  -110         6  170.0   2.2  277.75000  275.650000   86  20675.555556   2   83.333333     3  1127  101760    -260  268.55  273.35  276.377778    5.5     6.6 -10.0   0.0\n",
      "8        7130  2025-02-01 21:00:00  102630  -100         6  110.0   1.1  273.65000  273.250000   97    570.000000  44   83.333333     0  1127  102160     -60  268.55  273.35  271.250000    1.5     2.5 -10.0   0.0\n",
      "9        7139  2025-02-01 21:00:00  102740   -20         8  360.0   1.2  272.35000  271.950000   97   6760.000000   0   83.333333     0  1127  100900     -30  268.55  273.35  278.450000    1.6     2.1 -10.0   0.0\n",
      "10       7149  2025-02-01 21:00:00  102750   -50         8   70.0   2.7  275.35000  272.450000   81  17000.000000   2    0.000000     0  1127  101610    -230  268.55  273.35  276.377778    3.5     4.0 -10.0   0.0\n",
      "11       7168  2025-02-01 21:00:00  102720   -40         8   90.0   2.0  273.95000  271.750000   85  20000.000000   0   83.333333     0  1127  101230    -270  268.55  273.35  272.750000    3.1     3.1 -10.0   0.0\n",
      "12       7181  2025-02-01 21:00:00  102800   -40         8   30.0   2.1  272.75000  270.050000   82  29430.000000   0   83.333333     0  1127   98420    -290  268.55  273.35  271.050000    3.3     4.4 -10.0   0.0\n",
      "13       7190  2025-02-01 21:00:00  102800   -70         8    0.0   0.0  272.95000  271.350000   89  15650.000000   0   83.333333     0  1127  100880    -300  268.55  273.35  270.950000    0.5     2.9 -10.0   0.0\n",
      "14       7207  2025-02-01 21:00:00  101961   -21         5  150.0   6.2  279.95000  278.714912   83  15000.000000   2  100.000000     8  1250  100327    -232  268.55  273.35  276.377778    9.4     9.4 -10.0   0.0\n",
      "15       7222  2025-02-01 21:00:00  102560  -120         8   80.0   3.3  274.15000  272.950000   92  11210.000000   0   83.333333     0  1127  102230      20  268.55  273.35  274.650000    4.7     6.1 -10.0   0.0\n",
      "16       7240  2025-02-01 21:00:00  102630   -90         8   70.0   2.8  274.35000  273.950000   97   8280.000000   0   83.333333     0  1127  101210    -110  268.55  273.35  276.050000    3.9     4.5 -10.0   0.4\n",
      "17       7255  2025-02-01 21:00:00  102640   -80         6   90.0   2.2  273.75000  272.750000   93   8570.000000   0   83.333333     3  1127  100550    -300  268.55  273.35  275.150000    2.6     2.6 -10.0   0.0\n",
      "18       7280  2025-02-01 21:00:00  102680   -20         8   20.0   2.1  274.15000  271.750000   84   9660.000000   0   83.333333     1  4080   99920    -260  268.55  273.35  270.850000    3.0     3.9 -10.0   0.0\n",
      "19       7299  2025-02-01 21:00:00  102760   -50         7  100.0   2.0  276.15000  273.050000   80  25960.000000   0  100.000000     8   800   99370    -200  268.55  273.35  276.550000    3.5     3.5 -10.0   0.0\n",
      "20       7314  2025-02-01 21:00:00  102530   -30         8   70.0   5.1  278.95000  275.550000   79  15000.000000   1   10.000000     1   800  102240      60  268.55  273.35  276.377778    8.7     9.3 -10.0   0.0\n",
      "21       7335  2025-02-01 21:00:00  102590   -60         8   60.0   2.1  274.25000  273.550000   95   8980.000000   0   83.333333     0  1127  101070     -90  268.55  273.35  277.850000    3.5     5.7 -10.0   0.0\n",
      "22       7434  2025-02-01 21:00:00  102470   -50         8   60.0   4.1  274.65000  273.150000   90  12130.000000   0   83.333333     0  1127   97500    -390  268.55  273.35  274.950000    6.0     6.2 -10.0   0.0\n",
      "23       7460  2025-02-01 21:00:00  102680     0         0  240.0   1.1  273.85000  272.350000   90   7840.000000   0  100.000000     8   450   98550    -270  268.55  273.35  269.950000    1.6     1.6 -10.0   0.0\n",
      "24       7471  2025-02-01 21:00:00  101961   -20         5   50.0   1.1  272.65000  271.950000   95   8340.000000   0  100.000000     8   150   92580    -260  268.55  273.35  272.850000    2.1     2.6 -10.0   0.0\n",
      "25       7481  2025-02-01 21:00:00  102620   -20         7  310.0   2.1  276.95000  273.650000   79  25000.000000   2  100.000000     8   800   99640    -200  268.55  273.35  276.377778    3.3     4.2 -10.0   0.0\n",
      "26       7510  2025-02-01 21:00:00  102500   -10         6  260.0   0.8  275.65000  274.750000   94   7240.000000   0   83.333333     0  1127  101890    -250  268.55  273.35  273.950000    1.2     2.8 -10.0   0.0\n",
      "27       7535  2025-02-01 21:00:00  102490    10         3  130.0   2.4  274.05000  272.550000   90  20000.000000   0   83.333333     0  1127   99230    -430  268.55  273.35  276.750000    3.4     3.4 -10.0   0.0\n",
      "28       7558  2025-02-01 21:00:00  102310   -10         6  310.0   1.3  276.45000  273.850000   83  20000.000000   0   83.333333     3  1127   93780    -310  268.55  273.35  273.750000    2.1     2.2 -10.0   0.0\n",
      "29       7577  2025-02-01 21:00:00  102420   -10         8   20.0   4.5  279.25000  274.550000   72  20000.000000   0   83.333333     3  1127  101500    -180  268.55  273.35  278.150000    7.7     9.8 -10.0   0.0\n",
      "30       7591  2025-02-01 21:00:00  101961    70         2  360.0   6.2  280.15000  270.650000   51  20675.555556   2   83.333333     3  1127   91930    -120  268.55  273.35  276.377778   10.4    11.9 -10.0   0.0\n",
      "31       7607  2025-02-01 21:00:00  102490     0         0    0.0   0.0  274.55000  273.950000   96  33620.000000   0   83.333333     0  1127  101740    -410  268.55  273.35  278.750000    0.5     1.3 -10.0   0.0\n",
      "32       7621  2025-02-01 21:00:00  102480    10         3    0.0   0.0  277.95000  277.050000   94  19000.000000   0  100.000000     8  1250   98030    -480  268.55  273.35  275.850000    0.5     1.7 -10.0  -0.1\n",
      "33       7627  2025-02-01 21:00:00  102500    20         3    0.0   0.0  276.85000  275.350000   90  20000.000000   0   90.000000     7   800   97420    -490  268.55  273.35  277.250000    0.7     1.6 -10.0   0.0\n",
      "34       7630  2025-02-01 21:00:00  102460    20         3  280.0   1.2  277.15000  273.650000   78  34930.000000   0   83.333333     0  1127  100590    -440  268.55  273.35  276.050000    1.9     2.6 -10.0   0.0\n",
      "35       7643  2025-02-01 21:00:00  102350    80         3   30.0   3.9  279.15000  277.950000   92   9090.000000  63  100.000000     7  1250  102250    -210  268.55  273.35  279.450000    5.8     7.0 -10.0   3.8\n",
      "36       7650  2025-02-01 21:00:00  102190   -10         8  340.0   4.9  281.25000  279.850000   91  26010.000000   0  100.000000     6   250  101800    -150  268.55  273.35  281.650000    6.4     7.6 -10.0   8.6\n",
      "37       7661  2025-02-01 21:00:00  101961   -21         5   50.0   8.3  281.52931  278.714912   83  20675.555556   2   83.333333     3  1127  100327    -232  268.55  273.35  276.377778   13.3    13.9 -10.0   0.0\n",
      "38       7690  2025-02-01 21:00:00  102160    20         0  320.0   3.0  283.05000  281.150000   88  20000.000000   2  100.000000     8  1127  101840     -80  268.55  273.35  282.350000    3.9     5.4 -10.0   1.6\n",
      "39       7747  2025-02-01 21:00:00  102300    30         1  310.0   4.2  280.95000  276.450000   73  60000.000000   0  100.000000     8  1250  101760    -430  268.55  273.35  280.150000    6.8     7.3 -10.0   0.8\n",
      "40       7761  2025-02-01 21:00:00  101930   -50         8   40.0   1.7  282.55000  281.450000   93  14770.000000   0  100.000000     8  3300  101820    -410  268.55  273.35  281.650000    2.3     4.0 -10.0   0.6\n",
      "41       7790  2025-02-01 21:00:00  102120    20         0  290.0   1.6  283.95000  283.350000   96  19570.000000   0  100.000000     7   450  101970    -220  268.55  273.35  283.950000    2.3     4.1 -10.0   6.2\n",
      "42      61968  2025-02-01 21:00:00  100780    80         8  280.0   5.6  281.52931  278.714912   83  20675.555556   2   83.333333     3  1127  100730    -140  268.55  273.35  276.377778    0.0    11.7 -10.0   0.0\n",
      "43      61970  2025-02-01 21:00:00  100810    50         1  340.0   1.0  301.65000  299.450000   88  20675.555556   2   83.333333     3  1127  100700       0  268.55  273.35  276.377778    0.0     4.5 -10.0   0.0\n",
      "44      61972  2025-02-01 21:00:00  100920    40         0  140.0   5.7  300.15000  295.150000   74  20675.555556   2   83.333333     3  1127  100850     130  268.55  273.35  276.377778    0.0    11.2 -10.0   0.0\n",
      "45      61976  2025-02-01 21:00:00  100580   160         8    0.0   0.0  302.25000  298.050000   78  20675.555556   2   83.333333     3  1127  100490    -170  268.55  273.35  276.377778    0.0     0.0 -10.0   0.0\n",
      "46      61980  2025-02-01 21:00:00  100630  -150         8  180.0   2.9  301.05000  295.950000   74  60000.000000   0   83.333333     2  1250  100480    -220  268.55  273.35  276.377778    3.8     6.8 -10.0   0.0\n",
      "47      61996  2025-02-01 21:00:00  101870   130         8  340.0   3.8  290.65000  287.150000   80  20675.555556   2   83.333333     3  1127  101530     -70  268.55  273.35  276.377778    0.0     5.6 -10.0   0.0\n",
      "48      61997  2025-02-01 21:00:00   98660   180         6  160.0   1.3  282.25000  282.250000  100  20675.555556   2   83.333333     3  1127   96940   -2450  268.55  273.35  276.377778    0.0     3.9 -10.0  12.8\n",
      "49      61998  2025-02-01 21:00:00  100900  -280         8   20.0   5.1  278.35000  275.350000   81  20675.555556   2   83.333333     3  1127  100530     380  268.55  273.35  276.377778    0.0     8.7 -10.0   0.0\n",
      "50      67005  2025-02-01 21:00:00  100820   -70         5  290.0   3.2  299.75000  297.450000   87  20000.000000   0   83.333333     0  1127  100740    -120  268.55  273.35  276.377778    4.3     4.9 -10.0   8.3\n",
      "51      71805  2025-02-01 21:00:00  100230    20         1  340.0   5.7  267.55000  263.150000   71  51810.000000   0  100.000000     3   800  100140    -970  268.55  273.35  273.350000   10.4    10.4 -10.0   0.0\n",
      "52      78890  2025-02-01 21:00:00  101480    80         5   80.0  10.0  300.55000  294.350000   69  20675.555556   2   83.333333     3  1127  101160     -90  268.55  273.35  276.377778    0.0    14.2 -10.0   0.0\n",
      "53      78897  2025-02-01 21:00:00  101510   -40         5   60.0   4.4  300.35000  292.950000   64  32950.000000   2   83.333333     3  1127  101420     -90  268.55  273.35  276.377778    0.0     0.0   0.0   0.2\n",
      "54      78925  2025-02-01 21:00:00  101370   -70         5  110.0   6.3  301.15000  293.450000   63  19820.000000   0   83.333333     3  1250  101280    -120  268.55  273.35  276.377778    9.6    11.2 -10.0   0.0\n",
      "55      81401  2025-02-01 21:00:00  101020    50         5   50.0   1.7  301.35000  295.350000   70  20675.555556   2   83.333333     3  1127  100960     -10  268.55  273.35  276.377778    5.2     7.1 -10.0   0.0\n",
      "56      81405  2025-02-01 21:00:00  101070   -40         5   30.0   4.6  300.95000  295.850000   74  21280.000000   0   83.333333     3   800  100980     -20  268.55  273.35  297.850000    8.2     8.7 -10.0   0.0\n",
      "57      81408  2025-02-01 21:00:00  100950    20         5   10.0   3.7  301.45000  295.950000   72  20675.555556   2   83.333333     3  1127  100870     -30  268.55  273.35  276.377778    6.2     7.3 -10.0   0.2\n",
      "58      81415  2025-02-01 21:00:00  100920   100         5   40.0   1.6  302.05000  295.350000   67  20675.555556   2   83.333333     3  1127   99720     -70  268.55  273.35  276.377778    2.6     5.4 -10.0   0.0\n",
      "59      89642  2025-02-01 21:00:00   98620  -130         6  130.0   6.2  269.65000  260.450000   45  30000.000000   2    0.000000     3  1127   98090    -232  268.55  273.35  276.377778    0.0     0.0   0.0   0.0\n"
     ]
    }
   ],
   "source": [
    "print(df.to_string())"
   ]
  },
  {
   "cell_type": "markdown",
   "metadata": {},
   "source": [
    "## Conversion des températures de Kelvin en Celcuis"
   ]
  },
  {
   "cell_type": "code",
   "execution_count": 13,
   "metadata": {
    "execution": {
     "iopub.execute_input": "2025-02-01T23:23:33.572347Z",
     "iopub.status.busy": "2025-02-01T23:23:33.571864Z",
     "iopub.status.idle": "2025-02-01T23:23:33.599279Z",
     "shell.execute_reply": "2025-02-01T23:23:33.598589Z"
    }
   },
   "outputs": [
    {
     "name": "stdout",
     "output_type": "stream",
     "text": [
      "    numer_sta                 date    pmer  tend  cod_tend     dd    ff         t         td    u            vv  ww           n  nbas  hbas    pres  tend24  tn12  tx12    tminsol  raf10  rafper   per  rr12\n",
      "0        7005  2025-02-01 21:00:00  102820   -60         7   80.0   2.0   0.80000  -0.700000   90  18580.000000   0   83.333333     3  1127  101900    -110  -4.6   0.2   0.600000    3.0     3.4 -10.0   0.0\n",
      "1        7015  2025-02-01 21:00:00  102850   -80         6   80.0   2.7   0.80000  -1.300000   86   8490.000000   0   83.333333     0  1127  102250    -200  -4.6   0.2  -0.300000    3.1     4.0 -10.0   0.2\n",
      "2        7020  2025-02-01 21:00:00  102540  -150         8  120.0   4.2   4.40000   2.700000   89  20675.555556   2   83.333333     3  1127  102430    -190  -4.6   0.2   3.227778    6.0     6.0 -10.0   0.4\n",
      "3        7027  2025-02-01 21:00:00  102690  -100         8  120.0   2.6  -0.10000  -0.500000   97   3590.000000  10   83.333333     0  1127  101840      10  -4.6   0.2   4.400000    3.6     3.7 -10.0   0.0\n",
      "4        7037  2025-02-01 21:00:00  102780   -50         8   60.0   2.3   0.20000  -1.100000   91  14880.000000   0   83.333333     0  1127  100790     -90  -4.6   0.2   1.900000    2.9     2.9 -10.0   0.0\n",
      "5        7072  2025-02-01 21:00:00  102810   -50         8  110.0   1.8  -1.30000  -2.600000   91  20000.000000   0   83.333333     0  1127  101590    -260  -4.6   0.2   0.400000    2.5     3.3 -10.0   0.0\n",
      "6        7110  2025-02-01 21:00:00  102440  -120         8  180.0   6.5   5.20000   2.900000   85  59390.000000   0  100.000000     8   450  101220    -300  -4.6   0.2  -0.500000   10.3    10.3 -10.0   0.2\n",
      "7        7117  2025-02-01 21:00:00  102490  -110         6  170.0   2.2   4.60000   2.500000   86  20675.555556   2   83.333333     3  1127  101760    -260  -4.6   0.2   3.227778    5.5     6.6 -10.0   0.0\n",
      "8        7130  2025-02-01 21:00:00  102630  -100         6  110.0   1.1   0.50000   0.100000   97    570.000000  44   83.333333     0  1127  102160     -60  -4.6   0.2  -1.900000    1.5     2.5 -10.0   0.0\n",
      "9        7139  2025-02-01 21:00:00  102740   -20         8  360.0   1.2  -0.80000  -1.200000   97   6760.000000   0   83.333333     0  1127  100900     -30  -4.6   0.2   5.300000    1.6     2.1 -10.0   0.0\n",
      "10       7149  2025-02-01 21:00:00  102750   -50         8   70.0   2.7   2.20000  -0.700000   81  17000.000000   2    0.000000     0  1127  101610    -230  -4.6   0.2   3.227778    3.5     4.0 -10.0   0.0\n",
      "11       7168  2025-02-01 21:00:00  102720   -40         8   90.0   2.0   0.80000  -1.400000   85  20000.000000   0   83.333333     0  1127  101230    -270  -4.6   0.2  -0.400000    3.1     3.1 -10.0   0.0\n",
      "12       7181  2025-02-01 21:00:00  102800   -40         8   30.0   2.1  -0.40000  -3.100000   82  29430.000000   0   83.333333     0  1127   98420    -290  -4.6   0.2  -2.100000    3.3     4.4 -10.0   0.0\n",
      "13       7190  2025-02-01 21:00:00  102800   -70         8    0.0   0.0  -0.20000  -1.800000   89  15650.000000   0   83.333333     0  1127  100880    -300  -4.6   0.2  -2.200000    0.5     2.9 -10.0   0.0\n",
      "14       7207  2025-02-01 21:00:00  101961   -21         5  150.0   6.2   6.80000   5.564912   83  15000.000000   2  100.000000     8  1250  100327    -232  -4.6   0.2   3.227778    9.4     9.4 -10.0   0.0\n",
      "15       7222  2025-02-01 21:00:00  102560  -120         8   80.0   3.3   1.00000  -0.200000   92  11210.000000   0   83.333333     0  1127  102230      20  -4.6   0.2   1.500000    4.7     6.1 -10.0   0.0\n",
      "16       7240  2025-02-01 21:00:00  102630   -90         8   70.0   2.8   1.20000   0.800000   97   8280.000000   0   83.333333     0  1127  101210    -110  -4.6   0.2   2.900000    3.9     4.5 -10.0   0.4\n",
      "17       7255  2025-02-01 21:00:00  102640   -80         6   90.0   2.2   0.60000  -0.400000   93   8570.000000   0   83.333333     3  1127  100550    -300  -4.6   0.2   2.000000    2.6     2.6 -10.0   0.0\n",
      "18       7280  2025-02-01 21:00:00  102680   -20         8   20.0   2.1   1.00000  -1.400000   84   9660.000000   0   83.333333     1  4080   99920    -260  -4.6   0.2  -2.300000    3.0     3.9 -10.0   0.0\n",
      "19       7299  2025-02-01 21:00:00  102760   -50         7  100.0   2.0   3.00000  -0.100000   80  25960.000000   0  100.000000     8   800   99370    -200  -4.6   0.2   3.400000    3.5     3.5 -10.0   0.0\n",
      "20       7314  2025-02-01 21:00:00  102530   -30         8   70.0   5.1   5.80000   2.400000   79  15000.000000   1   10.000000     1   800  102240      60  -4.6   0.2   3.227778    8.7     9.3 -10.0   0.0\n",
      "21       7335  2025-02-01 21:00:00  102590   -60         8   60.0   2.1   1.10000   0.400000   95   8980.000000   0   83.333333     0  1127  101070     -90  -4.6   0.2   4.700000    3.5     5.7 -10.0   0.0\n",
      "22       7434  2025-02-01 21:00:00  102470   -50         8   60.0   4.1   1.50000   0.000000   90  12130.000000   0   83.333333     0  1127   97500    -390  -4.6   0.2   1.800000    6.0     6.2 -10.0   0.0\n",
      "23       7460  2025-02-01 21:00:00  102680     0         0  240.0   1.1   0.70000  -0.800000   90   7840.000000   0  100.000000     8   450   98550    -270  -4.6   0.2  -3.200000    1.6     1.6 -10.0   0.0\n",
      "24       7471  2025-02-01 21:00:00  101961   -20         5   50.0   1.1  -0.50000  -1.200000   95   8340.000000   0  100.000000     8   150   92580    -260  -4.6   0.2  -0.300000    2.1     2.6 -10.0   0.0\n",
      "25       7481  2025-02-01 21:00:00  102620   -20         7  310.0   2.1   3.80000   0.500000   79  25000.000000   2  100.000000     8   800   99640    -200  -4.6   0.2   3.227778    3.3     4.2 -10.0   0.0\n",
      "26       7510  2025-02-01 21:00:00  102500   -10         6  260.0   0.8   2.50000   1.600000   94   7240.000000   0   83.333333     0  1127  101890    -250  -4.6   0.2   0.800000    1.2     2.8 -10.0   0.0\n",
      "27       7535  2025-02-01 21:00:00  102490    10         3  130.0   2.4   0.90000  -0.600000   90  20000.000000   0   83.333333     0  1127   99230    -430  -4.6   0.2   3.600000    3.4     3.4 -10.0   0.0\n",
      "28       7558  2025-02-01 21:00:00  102310   -10         6  310.0   1.3   3.30000   0.700000   83  20000.000000   0   83.333333     3  1127   93780    -310  -4.6   0.2   0.600000    2.1     2.2 -10.0   0.0\n",
      "29       7577  2025-02-01 21:00:00  102420   -10         8   20.0   4.5   6.10000   1.400000   72  20000.000000   0   83.333333     3  1127  101500    -180  -4.6   0.2   5.000000    7.7     9.8 -10.0   0.0\n",
      "30       7591  2025-02-01 21:00:00  101961    70         2  360.0   6.2   7.00000  -2.500000   51  20675.555556   2   83.333333     3  1127   91930    -120  -4.6   0.2   3.227778   10.4    11.9 -10.0   0.0\n",
      "31       7607  2025-02-01 21:00:00  102490     0         0    0.0   0.0   1.40000   0.800000   96  33620.000000   0   83.333333     0  1127  101740    -410  -4.6   0.2   5.600000    0.5     1.3 -10.0   0.0\n",
      "32       7621  2025-02-01 21:00:00  102480    10         3    0.0   0.0   4.80000   3.900000   94  19000.000000   0  100.000000     8  1250   98030    -480  -4.6   0.2   2.700000    0.5     1.7 -10.0  -0.1\n",
      "33       7627  2025-02-01 21:00:00  102500    20         3    0.0   0.0   3.70000   2.200000   90  20000.000000   0   90.000000     7   800   97420    -490  -4.6   0.2   4.100000    0.7     1.6 -10.0   0.0\n",
      "34       7630  2025-02-01 21:00:00  102460    20         3  280.0   1.2   4.00000   0.500000   78  34930.000000   0   83.333333     0  1127  100590    -440  -4.6   0.2   2.900000    1.9     2.6 -10.0   0.0\n",
      "35       7643  2025-02-01 21:00:00  102350    80         3   30.0   3.9   6.00000   4.800000   92   9090.000000  63  100.000000     7  1250  102250    -210  -4.6   0.2   6.300000    5.8     7.0 -10.0   3.8\n",
      "36       7650  2025-02-01 21:00:00  102190   -10         8  340.0   4.9   8.10000   6.700000   91  26010.000000   0  100.000000     6   250  101800    -150  -4.6   0.2   8.500000    6.4     7.6 -10.0   8.6\n",
      "37       7661  2025-02-01 21:00:00  101961   -21         5   50.0   8.3   8.37931   5.564912   83  20675.555556   2   83.333333     3  1127  100327    -232  -4.6   0.2   3.227778   13.3    13.9 -10.0   0.0\n",
      "38       7690  2025-02-01 21:00:00  102160    20         0  320.0   3.0   9.90000   8.000000   88  20000.000000   2  100.000000     8  1127  101840     -80  -4.6   0.2   9.200000    3.9     5.4 -10.0   1.6\n",
      "39       7747  2025-02-01 21:00:00  102300    30         1  310.0   4.2   7.80000   3.300000   73  60000.000000   0  100.000000     8  1250  101760    -430  -4.6   0.2   7.000000    6.8     7.3 -10.0   0.8\n",
      "40       7761  2025-02-01 21:00:00  101930   -50         8   40.0   1.7   9.40000   8.300000   93  14770.000000   0  100.000000     8  3300  101820    -410  -4.6   0.2   8.500000    2.3     4.0 -10.0   0.6\n",
      "41       7790  2025-02-01 21:00:00  102120    20         0  290.0   1.6  10.80000  10.200000   96  19570.000000   0  100.000000     7   450  101970    -220  -4.6   0.2  10.800000    2.3     4.1 -10.0   6.2\n",
      "42      61968  2025-02-01 21:00:00  100780    80         8  280.0   5.6   8.37931   5.564912   83  20675.555556   2   83.333333     3  1127  100730    -140  -4.6   0.2   3.227778    0.0    11.7 -10.0   0.0\n",
      "43      61970  2025-02-01 21:00:00  100810    50         1  340.0   1.0  28.50000  26.300000   88  20675.555556   2   83.333333     3  1127  100700       0  -4.6   0.2   3.227778    0.0     4.5 -10.0   0.0\n",
      "44      61972  2025-02-01 21:00:00  100920    40         0  140.0   5.7  27.00000  22.000000   74  20675.555556   2   83.333333     3  1127  100850     130  -4.6   0.2   3.227778    0.0    11.2 -10.0   0.0\n",
      "45      61976  2025-02-01 21:00:00  100580   160         8    0.0   0.0  29.10000  24.900000   78  20675.555556   2   83.333333     3  1127  100490    -170  -4.6   0.2   3.227778    0.0     0.0 -10.0   0.0\n",
      "46      61980  2025-02-01 21:00:00  100630  -150         8  180.0   2.9  27.90000  22.800000   74  60000.000000   0   83.333333     2  1250  100480    -220  -4.6   0.2   3.227778    3.8     6.8 -10.0   0.0\n",
      "47      61996  2025-02-01 21:00:00  101870   130         8  340.0   3.8  17.50000  14.000000   80  20675.555556   2   83.333333     3  1127  101530     -70  -4.6   0.2   3.227778    0.0     5.6 -10.0   0.0\n",
      "48      61997  2025-02-01 21:00:00   98660   180         6  160.0   1.3   9.10000   9.100000  100  20675.555556   2   83.333333     3  1127   96940   -2450  -4.6   0.2   3.227778    0.0     3.9 -10.0  12.8\n",
      "49      61998  2025-02-01 21:00:00  100900  -280         8   20.0   5.1   5.20000   2.200000   81  20675.555556   2   83.333333     3  1127  100530     380  -4.6   0.2   3.227778    0.0     8.7 -10.0   0.0\n",
      "50      67005  2025-02-01 21:00:00  100820   -70         5  290.0   3.2  26.60000  24.300000   87  20000.000000   0   83.333333     0  1127  100740    -120  -4.6   0.2   3.227778    4.3     4.9 -10.0   8.3\n",
      "51      71805  2025-02-01 21:00:00  100230    20         1  340.0   5.7  -5.60000 -10.000000   71  51810.000000   0  100.000000     3   800  100140    -970  -4.6   0.2   0.200000   10.4    10.4 -10.0   0.0\n",
      "52      78890  2025-02-01 21:00:00  101480    80         5   80.0  10.0  27.40000  21.200000   69  20675.555556   2   83.333333     3  1127  101160     -90  -4.6   0.2   3.227778    0.0    14.2 -10.0   0.0\n",
      "53      78897  2025-02-01 21:00:00  101510   -40         5   60.0   4.4  27.20000  19.800000   64  32950.000000   2   83.333333     3  1127  101420     -90  -4.6   0.2   3.227778    0.0     0.0   0.0   0.2\n",
      "54      78925  2025-02-01 21:00:00  101370   -70         5  110.0   6.3  28.00000  20.300000   63  19820.000000   0   83.333333     3  1250  101280    -120  -4.6   0.2   3.227778    9.6    11.2 -10.0   0.0\n",
      "55      81401  2025-02-01 21:00:00  101020    50         5   50.0   1.7  28.20000  22.200000   70  20675.555556   2   83.333333     3  1127  100960     -10  -4.6   0.2   3.227778    5.2     7.1 -10.0   0.0\n",
      "56      81405  2025-02-01 21:00:00  101070   -40         5   30.0   4.6  27.80000  22.700000   74  21280.000000   0   83.333333     3   800  100980     -20  -4.6   0.2  24.700000    8.2     8.7 -10.0   0.0\n",
      "57      81408  2025-02-01 21:00:00  100950    20         5   10.0   3.7  28.30000  22.800000   72  20675.555556   2   83.333333     3  1127  100870     -30  -4.6   0.2   3.227778    6.2     7.3 -10.0   0.2\n",
      "58      81415  2025-02-01 21:00:00  100920   100         5   40.0   1.6  28.90000  22.200000   67  20675.555556   2   83.333333     3  1127   99720     -70  -4.6   0.2   3.227778    2.6     5.4 -10.0   0.0\n",
      "59      89642  2025-02-01 21:00:00   98620  -130         6  130.0   6.2  -3.50000 -12.700000   45  30000.000000   2    0.000000     3  1127   98090    -232  -4.6   0.2   3.227778    0.0     0.0   0.0   0.0\n"
     ]
    }
   ],
   "source": [
    "celcuis = [\"t\", \"td\", \"tn12\", \"tx12\", \"tminsol\"]\n",
    "for i in celcuis:\n",
    "    df[i] = df[i] - 273.15\n",
    "\n",
    "print(df.to_string())"
   ]
  },
  {
   "cell_type": "markdown",
   "metadata": {},
   "source": [
    "## Arrondir tous les decimaux à 2chiffres après la virgules"
   ]
  },
  {
   "cell_type": "code",
   "execution_count": 14,
   "metadata": {
    "execution": {
     "iopub.execute_input": "2025-02-01T23:23:33.601668Z",
     "iopub.status.busy": "2025-02-01T23:23:33.601423Z",
     "iopub.status.idle": "2025-02-01T23:23:33.633591Z",
     "shell.execute_reply": "2025-02-01T23:23:33.632890Z"
    }
   },
   "outputs": [
    {
     "name": "stdout",
     "output_type": "stream",
     "text": [
      "    numer_sta                 date    pmer  tend  cod_tend     dd    ff      t     td    u        vv  ww       n  nbas  hbas    pres  tend24  tn12  tx12  tminsol  raf10  rafper   per  rr12\n",
      "0        7005  2025-02-01 21:00:00  102820   -60         7   80.0   2.0   0.80  -0.70   90  18580.00   0   83.33     3  1127  101900    -110  -4.6   0.2     0.60    3.0     3.4 -10.0   0.0\n",
      "1        7015  2025-02-01 21:00:00  102850   -80         6   80.0   2.7   0.80  -1.30   86   8490.00   0   83.33     0  1127  102250    -200  -4.6   0.2    -0.30    3.1     4.0 -10.0   0.2\n",
      "2        7020  2025-02-01 21:00:00  102540  -150         8  120.0   4.2   4.40   2.70   89  20675.56   2   83.33     3  1127  102430    -190  -4.6   0.2     3.23    6.0     6.0 -10.0   0.4\n",
      "3        7027  2025-02-01 21:00:00  102690  -100         8  120.0   2.6  -0.10  -0.50   97   3590.00  10   83.33     0  1127  101840      10  -4.6   0.2     4.40    3.6     3.7 -10.0   0.0\n",
      "4        7037  2025-02-01 21:00:00  102780   -50         8   60.0   2.3   0.20  -1.10   91  14880.00   0   83.33     0  1127  100790     -90  -4.6   0.2     1.90    2.9     2.9 -10.0   0.0\n",
      "5        7072  2025-02-01 21:00:00  102810   -50         8  110.0   1.8  -1.30  -2.60   91  20000.00   0   83.33     0  1127  101590    -260  -4.6   0.2     0.40    2.5     3.3 -10.0   0.0\n",
      "6        7110  2025-02-01 21:00:00  102440  -120         8  180.0   6.5   5.20   2.90   85  59390.00   0  100.00     8   450  101220    -300  -4.6   0.2    -0.50   10.3    10.3 -10.0   0.2\n",
      "7        7117  2025-02-01 21:00:00  102490  -110         6  170.0   2.2   4.60   2.50   86  20675.56   2   83.33     3  1127  101760    -260  -4.6   0.2     3.23    5.5     6.6 -10.0   0.0\n",
      "8        7130  2025-02-01 21:00:00  102630  -100         6  110.0   1.1   0.50   0.10   97    570.00  44   83.33     0  1127  102160     -60  -4.6   0.2    -1.90    1.5     2.5 -10.0   0.0\n",
      "9        7139  2025-02-01 21:00:00  102740   -20         8  360.0   1.2  -0.80  -1.20   97   6760.00   0   83.33     0  1127  100900     -30  -4.6   0.2     5.30    1.6     2.1 -10.0   0.0\n",
      "10       7149  2025-02-01 21:00:00  102750   -50         8   70.0   2.7   2.20  -0.70   81  17000.00   2    0.00     0  1127  101610    -230  -4.6   0.2     3.23    3.5     4.0 -10.0   0.0\n",
      "11       7168  2025-02-01 21:00:00  102720   -40         8   90.0   2.0   0.80  -1.40   85  20000.00   0   83.33     0  1127  101230    -270  -4.6   0.2    -0.40    3.1     3.1 -10.0   0.0\n",
      "12       7181  2025-02-01 21:00:00  102800   -40         8   30.0   2.1  -0.40  -3.10   82  29430.00   0   83.33     0  1127   98420    -290  -4.6   0.2    -2.10    3.3     4.4 -10.0   0.0\n",
      "13       7190  2025-02-01 21:00:00  102800   -70         8    0.0   0.0  -0.20  -1.80   89  15650.00   0   83.33     0  1127  100880    -300  -4.6   0.2    -2.20    0.5     2.9 -10.0   0.0\n",
      "14       7207  2025-02-01 21:00:00  101961   -21         5  150.0   6.2   6.80   5.56   83  15000.00   2  100.00     8  1250  100327    -232  -4.6   0.2     3.23    9.4     9.4 -10.0   0.0\n",
      "15       7222  2025-02-01 21:00:00  102560  -120         8   80.0   3.3   1.00  -0.20   92  11210.00   0   83.33     0  1127  102230      20  -4.6   0.2     1.50    4.7     6.1 -10.0   0.0\n",
      "16       7240  2025-02-01 21:00:00  102630   -90         8   70.0   2.8   1.20   0.80   97   8280.00   0   83.33     0  1127  101210    -110  -4.6   0.2     2.90    3.9     4.5 -10.0   0.4\n",
      "17       7255  2025-02-01 21:00:00  102640   -80         6   90.0   2.2   0.60  -0.40   93   8570.00   0   83.33     3  1127  100550    -300  -4.6   0.2     2.00    2.6     2.6 -10.0   0.0\n",
      "18       7280  2025-02-01 21:00:00  102680   -20         8   20.0   2.1   1.00  -1.40   84   9660.00   0   83.33     1  4080   99920    -260  -4.6   0.2    -2.30    3.0     3.9 -10.0   0.0\n",
      "19       7299  2025-02-01 21:00:00  102760   -50         7  100.0   2.0   3.00  -0.10   80  25960.00   0  100.00     8   800   99370    -200  -4.6   0.2     3.40    3.5     3.5 -10.0   0.0\n",
      "20       7314  2025-02-01 21:00:00  102530   -30         8   70.0   5.1   5.80   2.40   79  15000.00   1   10.00     1   800  102240      60  -4.6   0.2     3.23    8.7     9.3 -10.0   0.0\n",
      "21       7335  2025-02-01 21:00:00  102590   -60         8   60.0   2.1   1.10   0.40   95   8980.00   0   83.33     0  1127  101070     -90  -4.6   0.2     4.70    3.5     5.7 -10.0   0.0\n",
      "22       7434  2025-02-01 21:00:00  102470   -50         8   60.0   4.1   1.50   0.00   90  12130.00   0   83.33     0  1127   97500    -390  -4.6   0.2     1.80    6.0     6.2 -10.0   0.0\n",
      "23       7460  2025-02-01 21:00:00  102680     0         0  240.0   1.1   0.70  -0.80   90   7840.00   0  100.00     8   450   98550    -270  -4.6   0.2    -3.20    1.6     1.6 -10.0   0.0\n",
      "24       7471  2025-02-01 21:00:00  101961   -20         5   50.0   1.1  -0.50  -1.20   95   8340.00   0  100.00     8   150   92580    -260  -4.6   0.2    -0.30    2.1     2.6 -10.0   0.0\n",
      "25       7481  2025-02-01 21:00:00  102620   -20         7  310.0   2.1   3.80   0.50   79  25000.00   2  100.00     8   800   99640    -200  -4.6   0.2     3.23    3.3     4.2 -10.0   0.0\n",
      "26       7510  2025-02-01 21:00:00  102500   -10         6  260.0   0.8   2.50   1.60   94   7240.00   0   83.33     0  1127  101890    -250  -4.6   0.2     0.80    1.2     2.8 -10.0   0.0\n",
      "27       7535  2025-02-01 21:00:00  102490    10         3  130.0   2.4   0.90  -0.60   90  20000.00   0   83.33     0  1127   99230    -430  -4.6   0.2     3.60    3.4     3.4 -10.0   0.0\n",
      "28       7558  2025-02-01 21:00:00  102310   -10         6  310.0   1.3   3.30   0.70   83  20000.00   0   83.33     3  1127   93780    -310  -4.6   0.2     0.60    2.1     2.2 -10.0   0.0\n",
      "29       7577  2025-02-01 21:00:00  102420   -10         8   20.0   4.5   6.10   1.40   72  20000.00   0   83.33     3  1127  101500    -180  -4.6   0.2     5.00    7.7     9.8 -10.0   0.0\n",
      "30       7591  2025-02-01 21:00:00  101961    70         2  360.0   6.2   7.00  -2.50   51  20675.56   2   83.33     3  1127   91930    -120  -4.6   0.2     3.23   10.4    11.9 -10.0   0.0\n",
      "31       7607  2025-02-01 21:00:00  102490     0         0    0.0   0.0   1.40   0.80   96  33620.00   0   83.33     0  1127  101740    -410  -4.6   0.2     5.60    0.5     1.3 -10.0   0.0\n",
      "32       7621  2025-02-01 21:00:00  102480    10         3    0.0   0.0   4.80   3.90   94  19000.00   0  100.00     8  1250   98030    -480  -4.6   0.2     2.70    0.5     1.7 -10.0  -0.1\n",
      "33       7627  2025-02-01 21:00:00  102500    20         3    0.0   0.0   3.70   2.20   90  20000.00   0   90.00     7   800   97420    -490  -4.6   0.2     4.10    0.7     1.6 -10.0   0.0\n",
      "34       7630  2025-02-01 21:00:00  102460    20         3  280.0   1.2   4.00   0.50   78  34930.00   0   83.33     0  1127  100590    -440  -4.6   0.2     2.90    1.9     2.6 -10.0   0.0\n",
      "35       7643  2025-02-01 21:00:00  102350    80         3   30.0   3.9   6.00   4.80   92   9090.00  63  100.00     7  1250  102250    -210  -4.6   0.2     6.30    5.8     7.0 -10.0   3.8\n",
      "36       7650  2025-02-01 21:00:00  102190   -10         8  340.0   4.9   8.10   6.70   91  26010.00   0  100.00     6   250  101800    -150  -4.6   0.2     8.50    6.4     7.6 -10.0   8.6\n",
      "37       7661  2025-02-01 21:00:00  101961   -21         5   50.0   8.3   8.38   5.56   83  20675.56   2   83.33     3  1127  100327    -232  -4.6   0.2     3.23   13.3    13.9 -10.0   0.0\n",
      "38       7690  2025-02-01 21:00:00  102160    20         0  320.0   3.0   9.90   8.00   88  20000.00   2  100.00     8  1127  101840     -80  -4.6   0.2     9.20    3.9     5.4 -10.0   1.6\n",
      "39       7747  2025-02-01 21:00:00  102300    30         1  310.0   4.2   7.80   3.30   73  60000.00   0  100.00     8  1250  101760    -430  -4.6   0.2     7.00    6.8     7.3 -10.0   0.8\n",
      "40       7761  2025-02-01 21:00:00  101930   -50         8   40.0   1.7   9.40   8.30   93  14770.00   0  100.00     8  3300  101820    -410  -4.6   0.2     8.50    2.3     4.0 -10.0   0.6\n",
      "41       7790  2025-02-01 21:00:00  102120    20         0  290.0   1.6  10.80  10.20   96  19570.00   0  100.00     7   450  101970    -220  -4.6   0.2    10.80    2.3     4.1 -10.0   6.2\n",
      "42      61968  2025-02-01 21:00:00  100780    80         8  280.0   5.6   8.38   5.56   83  20675.56   2   83.33     3  1127  100730    -140  -4.6   0.2     3.23    0.0    11.7 -10.0   0.0\n",
      "43      61970  2025-02-01 21:00:00  100810    50         1  340.0   1.0  28.50  26.30   88  20675.56   2   83.33     3  1127  100700       0  -4.6   0.2     3.23    0.0     4.5 -10.0   0.0\n",
      "44      61972  2025-02-01 21:00:00  100920    40         0  140.0   5.7  27.00  22.00   74  20675.56   2   83.33     3  1127  100850     130  -4.6   0.2     3.23    0.0    11.2 -10.0   0.0\n",
      "45      61976  2025-02-01 21:00:00  100580   160         8    0.0   0.0  29.10  24.90   78  20675.56   2   83.33     3  1127  100490    -170  -4.6   0.2     3.23    0.0     0.0 -10.0   0.0\n",
      "46      61980  2025-02-01 21:00:00  100630  -150         8  180.0   2.9  27.90  22.80   74  60000.00   0   83.33     2  1250  100480    -220  -4.6   0.2     3.23    3.8     6.8 -10.0   0.0\n",
      "47      61996  2025-02-01 21:00:00  101870   130         8  340.0   3.8  17.50  14.00   80  20675.56   2   83.33     3  1127  101530     -70  -4.6   0.2     3.23    0.0     5.6 -10.0   0.0\n",
      "48      61997  2025-02-01 21:00:00   98660   180         6  160.0   1.3   9.10   9.10  100  20675.56   2   83.33     3  1127   96940   -2450  -4.6   0.2     3.23    0.0     3.9 -10.0  12.8\n",
      "49      61998  2025-02-01 21:00:00  100900  -280         8   20.0   5.1   5.20   2.20   81  20675.56   2   83.33     3  1127  100530     380  -4.6   0.2     3.23    0.0     8.7 -10.0   0.0\n",
      "50      67005  2025-02-01 21:00:00  100820   -70         5  290.0   3.2  26.60  24.30   87  20000.00   0   83.33     0  1127  100740    -120  -4.6   0.2     3.23    4.3     4.9 -10.0   8.3\n",
      "51      71805  2025-02-01 21:00:00  100230    20         1  340.0   5.7  -5.60 -10.00   71  51810.00   0  100.00     3   800  100140    -970  -4.6   0.2     0.20   10.4    10.4 -10.0   0.0\n",
      "52      78890  2025-02-01 21:00:00  101480    80         5   80.0  10.0  27.40  21.20   69  20675.56   2   83.33     3  1127  101160     -90  -4.6   0.2     3.23    0.0    14.2 -10.0   0.0\n",
      "53      78897  2025-02-01 21:00:00  101510   -40         5   60.0   4.4  27.20  19.80   64  32950.00   2   83.33     3  1127  101420     -90  -4.6   0.2     3.23    0.0     0.0   0.0   0.2\n",
      "54      78925  2025-02-01 21:00:00  101370   -70         5  110.0   6.3  28.00  20.30   63  19820.00   0   83.33     3  1250  101280    -120  -4.6   0.2     3.23    9.6    11.2 -10.0   0.0\n",
      "55      81401  2025-02-01 21:00:00  101020    50         5   50.0   1.7  28.20  22.20   70  20675.56   2   83.33     3  1127  100960     -10  -4.6   0.2     3.23    5.2     7.1 -10.0   0.0\n",
      "56      81405  2025-02-01 21:00:00  101070   -40         5   30.0   4.6  27.80  22.70   74  21280.00   0   83.33     3   800  100980     -20  -4.6   0.2    24.70    8.2     8.7 -10.0   0.0\n",
      "57      81408  2025-02-01 21:00:00  100950    20         5   10.0   3.7  28.30  22.80   72  20675.56   2   83.33     3  1127  100870     -30  -4.6   0.2     3.23    6.2     7.3 -10.0   0.2\n",
      "58      81415  2025-02-01 21:00:00  100920   100         5   40.0   1.6  28.90  22.20   67  20675.56   2   83.33     3  1127   99720     -70  -4.6   0.2     3.23    2.6     5.4 -10.0   0.0\n",
      "59      89642  2025-02-01 21:00:00   98620  -130         6  130.0   6.2  -3.50 -12.70   45  30000.00   2    0.00     3  1127   98090    -232  -4.6   0.2     3.23    0.0     0.0   0.0   0.0\n"
     ]
    }
   ],
   "source": [
    "df[double] = df[double].round(2)\n",
    "print(df.to_string())"
   ]
  },
  {
   "cell_type": "markdown",
   "metadata": {},
   "source": [
    "# Add verif to check is all values"
   ]
  },
  {
   "cell_type": "code",
   "execution_count": 15,
   "metadata": {
    "execution": {
     "iopub.execute_input": "2025-02-01T23:23:33.635929Z",
     "iopub.status.busy": "2025-02-01T23:23:33.635685Z",
     "iopub.status.idle": "2025-02-01T23:23:33.669727Z",
     "shell.execute_reply": "2025-02-01T23:23:33.668925Z"
    }
   },
   "outputs": [
    {
     "name": "stdout",
     "output_type": "stream",
     "text": [
      "    numer_sta                 date    pmer  tend  cod_tend     dd    ff      t     td    u        vv  ww       n  nbas  hbas    pres  tend24  tn12  tx12  tminsol  raf10  rafper   per  rr12\n",
      "0        7005  2025-02-01 21:00:00  102820   -60         7   80.0   2.0   0.80  -0.70   90  18580.00   0   83.33     3  1127  101900    -110  -4.6   0.2     0.60    3.0     3.4 -10.0   0.0\n",
      "1        7015  2025-02-01 21:00:00  102850   -80         6   80.0   2.7   0.80  -1.30   86   8490.00   0   83.33     0  1127  102250    -200  -4.6   0.2    -0.30    3.1     4.0 -10.0   0.2\n",
      "2        7020  2025-02-01 21:00:00  102540  -150         8  120.0   4.2   4.40   2.70   89  20675.56   2   83.33     3  1127  102430    -190  -4.6   0.2     3.23    6.0     6.0 -10.0   0.4\n",
      "3        7027  2025-02-01 21:00:00  102690  -100         8  120.0   2.6  -0.10  -0.50   97   3590.00  10   83.33     0  1127  101840      10  -4.6   0.2     4.40    3.6     3.7 -10.0   0.0\n",
      "4        7037  2025-02-01 21:00:00  102780   -50         8   60.0   2.3   0.20  -1.10   91  14880.00   0   83.33     0  1127  100790     -90  -4.6   0.2     1.90    2.9     2.9 -10.0   0.0\n",
      "5        7072  2025-02-01 21:00:00  102810   -50         8  110.0   1.8  -1.30  -2.60   91  20000.00   0   83.33     0  1127  101590    -260  -4.6   0.2     0.40    2.5     3.3 -10.0   0.0\n",
      "6        7110  2025-02-01 21:00:00  102440  -120         8  180.0   6.5   5.20   2.90   85  59390.00   0  100.00     8   450  101220    -300  -4.6   0.2    -0.50   10.3    10.3 -10.0   0.2\n",
      "7        7117  2025-02-01 21:00:00  102490  -110         6  170.0   2.2   4.60   2.50   86  20675.56   2   83.33     3  1127  101760    -260  -4.6   0.2     3.23    5.5     6.6 -10.0   0.0\n",
      "8        7130  2025-02-01 21:00:00  102630  -100         6  110.0   1.1   0.50   0.10   97    570.00  44   83.33     0  1127  102160     -60  -4.6   0.2    -1.90    1.5     2.5 -10.0   0.0\n",
      "9        7139  2025-02-01 21:00:00  102740   -20         8  360.0   1.2  -0.80  -1.20   97   6760.00   0   83.33     0  1127  100900     -30  -4.6   0.2     5.30    1.6     2.1 -10.0   0.0\n",
      "10       7149  2025-02-01 21:00:00  102750   -50         8   70.0   2.7   2.20  -0.70   81  17000.00   2    0.00     0  1127  101610    -230  -4.6   0.2     3.23    3.5     4.0 -10.0   0.0\n",
      "11       7168  2025-02-01 21:00:00  102720   -40         8   90.0   2.0   0.80  -1.40   85  20000.00   0   83.33     0  1127  101230    -270  -4.6   0.2    -0.40    3.1     3.1 -10.0   0.0\n",
      "12       7181  2025-02-01 21:00:00  102800   -40         8   30.0   2.1  -0.40  -3.10   82  29430.00   0   83.33     0  1127   98420    -290  -4.6   0.2    -2.10    3.3     4.4 -10.0   0.0\n",
      "13       7190  2025-02-01 21:00:00  102800   -70         8    0.0   0.0  -0.20  -1.80   89  15650.00   0   83.33     0  1127  100880    -300  -4.6   0.2    -2.20    0.5     2.9 -10.0   0.0\n",
      "14       7207  2025-02-01 21:00:00  101961   -21         5  150.0   6.2   6.80   5.56   83  15000.00   2  100.00     8  1250  100327    -232  -4.6   0.2     3.23    9.4     9.4 -10.0   0.0\n",
      "15       7222  2025-02-01 21:00:00  102560  -120         8   80.0   3.3   1.00  -0.20   92  11210.00   0   83.33     0  1127  102230      20  -4.6   0.2     1.50    4.7     6.1 -10.0   0.0\n",
      "16       7240  2025-02-01 21:00:00  102630   -90         8   70.0   2.8   1.20   0.80   97   8280.00   0   83.33     0  1127  101210    -110  -4.6   0.2     2.90    3.9     4.5 -10.0   0.4\n",
      "17       7255  2025-02-01 21:00:00  102640   -80         6   90.0   2.2   0.60  -0.40   93   8570.00   0   83.33     3  1127  100550    -300  -4.6   0.2     2.00    2.6     2.6 -10.0   0.0\n",
      "18       7280  2025-02-01 21:00:00  102680   -20         8   20.0   2.1   1.00  -1.40   84   9660.00   0   83.33     1  4080   99920    -260  -4.6   0.2    -2.30    3.0     3.9 -10.0   0.0\n",
      "19       7299  2025-02-01 21:00:00  102760   -50         7  100.0   2.0   3.00  -0.10   80  25960.00   0  100.00     8   800   99370    -200  -4.6   0.2     3.40    3.5     3.5 -10.0   0.0\n",
      "20       7314  2025-02-01 21:00:00  102530   -30         8   70.0   5.1   5.80   2.40   79  15000.00   1   10.00     1   800  102240      60  -4.6   0.2     3.23    8.7     9.3 -10.0   0.0\n",
      "21       7335  2025-02-01 21:00:00  102590   -60         8   60.0   2.1   1.10   0.40   95   8980.00   0   83.33     0  1127  101070     -90  -4.6   0.2     4.70    3.5     5.7 -10.0   0.0\n",
      "22       7434  2025-02-01 21:00:00  102470   -50         8   60.0   4.1   1.50   0.00   90  12130.00   0   83.33     0  1127   97500    -390  -4.6   0.2     1.80    6.0     6.2 -10.0   0.0\n",
      "23       7460  2025-02-01 21:00:00  102680     0         0  240.0   1.1   0.70  -0.80   90   7840.00   0  100.00     8   450   98550    -270  -4.6   0.2    -3.20    1.6     1.6 -10.0   0.0\n",
      "24       7471  2025-02-01 21:00:00  101961   -20         5   50.0   1.1  -0.50  -1.20   95   8340.00   0  100.00     8   150   92580    -260  -4.6   0.2    -0.30    2.1     2.6 -10.0   0.0\n",
      "25       7481  2025-02-01 21:00:00  102620   -20         7  310.0   2.1   3.80   0.50   79  25000.00   2  100.00     8   800   99640    -200  -4.6   0.2     3.23    3.3     4.2 -10.0   0.0\n",
      "26       7510  2025-02-01 21:00:00  102500   -10         6  260.0   0.8   2.50   1.60   94   7240.00   0   83.33     0  1127  101890    -250  -4.6   0.2     0.80    1.2     2.8 -10.0   0.0\n",
      "27       7535  2025-02-01 21:00:00  102490    10         3  130.0   2.4   0.90  -0.60   90  20000.00   0   83.33     0  1127   99230    -430  -4.6   0.2     3.60    3.4     3.4 -10.0   0.0\n",
      "28       7558  2025-02-01 21:00:00  102310   -10         6  310.0   1.3   3.30   0.70   83  20000.00   0   83.33     3  1127   93780    -310  -4.6   0.2     0.60    2.1     2.2 -10.0   0.0\n",
      "29       7577  2025-02-01 21:00:00  102420   -10         8   20.0   4.5   6.10   1.40   72  20000.00   0   83.33     3  1127  101500    -180  -4.6   0.2     5.00    7.7     9.8 -10.0   0.0\n",
      "30       7591  2025-02-01 21:00:00  101961    70         2  360.0   6.2   7.00  -2.50   51  20675.56   2   83.33     3  1127   91930    -120  -4.6   0.2     3.23   10.4    11.9 -10.0   0.0\n",
      "31       7607  2025-02-01 21:00:00  102490     0         0    0.0   0.0   1.40   0.80   96  33620.00   0   83.33     0  1127  101740    -410  -4.6   0.2     5.60    0.5     1.3 -10.0   0.0\n",
      "32       7621  2025-02-01 21:00:00  102480    10         3    0.0   0.0   4.80   3.90   94  19000.00   0  100.00     8  1250   98030    -480  -4.6   0.2     2.70    0.5     1.7 -10.0  -0.1\n",
      "33       7627  2025-02-01 21:00:00  102500    20         3    0.0   0.0   3.70   2.20   90  20000.00   0   90.00     7   800   97420    -490  -4.6   0.2     4.10    0.7     1.6 -10.0   0.0\n",
      "34       7630  2025-02-01 21:00:00  102460    20         3  280.0   1.2   4.00   0.50   78  34930.00   0   83.33     0  1127  100590    -440  -4.6   0.2     2.90    1.9     2.6 -10.0   0.0\n",
      "35       7643  2025-02-01 21:00:00  102350    80         3   30.0   3.9   6.00   4.80   92   9090.00  63  100.00     7  1250  102250    -210  -4.6   0.2     6.30    5.8     7.0 -10.0   3.8\n",
      "36       7650  2025-02-01 21:00:00  102190   -10         8  340.0   4.9   8.10   6.70   91  26010.00   0  100.00     6   250  101800    -150  -4.6   0.2     8.50    6.4     7.6 -10.0   8.6\n",
      "37       7661  2025-02-01 21:00:00  101961   -21         5   50.0   8.3   8.38   5.56   83  20675.56   2   83.33     3  1127  100327    -232  -4.6   0.2     3.23   13.3    13.9 -10.0   0.0\n",
      "38       7690  2025-02-01 21:00:00  102160    20         0  320.0   3.0   9.90   8.00   88  20000.00   2  100.00     8  1127  101840     -80  -4.6   0.2     9.20    3.9     5.4 -10.0   1.6\n",
      "39       7747  2025-02-01 21:00:00  102300    30         1  310.0   4.2   7.80   3.30   73  60000.00   0  100.00     8  1250  101760    -430  -4.6   0.2     7.00    6.8     7.3 -10.0   0.8\n",
      "40       7761  2025-02-01 21:00:00  101930   -50         8   40.0   1.7   9.40   8.30   93  14770.00   0  100.00     8  3300  101820    -410  -4.6   0.2     8.50    2.3     4.0 -10.0   0.6\n",
      "41       7790  2025-02-01 21:00:00  102120    20         0  290.0   1.6  10.80  10.20   96  19570.00   0  100.00     7   450  101970    -220  -4.6   0.2    10.80    2.3     4.1 -10.0   6.2\n",
      "42      61968  2025-02-01 21:00:00  100780    80         8  280.0   5.6   8.38   5.56   83  20675.56   2   83.33     3  1127  100730    -140  -4.6   0.2     3.23    0.0    11.7 -10.0   0.0\n",
      "43      61970  2025-02-01 21:00:00  100810    50         1  340.0   1.0  28.50  26.30   88  20675.56   2   83.33     3  1127  100700       0  -4.6   0.2     3.23    0.0     4.5 -10.0   0.0\n",
      "44      61972  2025-02-01 21:00:00  100920    40         0  140.0   5.7  27.00  22.00   74  20675.56   2   83.33     3  1127  100850     130  -4.6   0.2     3.23    0.0    11.2 -10.0   0.0\n",
      "45      61976  2025-02-01 21:00:00  100580   160         8    0.0   0.0  29.10  24.90   78  20675.56   2   83.33     3  1127  100490    -170  -4.6   0.2     3.23    0.0     0.0 -10.0   0.0\n",
      "46      61980  2025-02-01 21:00:00  100630  -150         8  180.0   2.9  27.90  22.80   74  60000.00   0   83.33     2  1250  100480    -220  -4.6   0.2     3.23    3.8     6.8 -10.0   0.0\n",
      "47      61996  2025-02-01 21:00:00  101870   130         8  340.0   3.8  17.50  14.00   80  20675.56   2   83.33     3  1127  101530     -70  -4.6   0.2     3.23    0.0     5.6 -10.0   0.0\n",
      "48      61997  2025-02-01 21:00:00   98660   180         6  160.0   1.3   9.10   9.10  100  20675.56   2   83.33     3  1127   96940   -2450  -4.6   0.2     3.23    0.0     3.9 -10.0  12.8\n",
      "49      61998  2025-02-01 21:00:00  100900  -280         8   20.0   5.1   5.20   2.20   81  20675.56   2   83.33     3  1127  100530     380  -4.6   0.2     3.23    0.0     8.7 -10.0   0.0\n",
      "50      67005  2025-02-01 21:00:00  100820   -70         5  290.0   3.2  26.60  24.30   87  20000.00   0   83.33     0  1127  100740    -120  -4.6   0.2     3.23    4.3     4.9 -10.0   8.3\n",
      "51      71805  2025-02-01 21:00:00  100230    20         1  340.0   5.7  -5.60 -10.00   71  51810.00   0  100.00     3   800  100140    -970  -4.6   0.2     0.20   10.4    10.4 -10.0   0.0\n",
      "52      78890  2025-02-01 21:00:00  101480    80         5   80.0  10.0  27.40  21.20   69  20675.56   2   83.33     3  1127  101160     -90  -4.6   0.2     3.23    0.0    14.2 -10.0   0.0\n",
      "53      78897  2025-02-01 21:00:00  101510   -40         5   60.0   4.4  27.20  19.80   64  32950.00   2   83.33     3  1127  101420     -90  -4.6   0.2     3.23    0.0     0.0   0.0   0.2\n",
      "54      78925  2025-02-01 21:00:00  101370   -70         5  110.0   6.3  28.00  20.30   63  19820.00   0   83.33     3  1250  101280    -120  -4.6   0.2     3.23    9.6    11.2 -10.0   0.0\n",
      "55      81401  2025-02-01 21:00:00  101020    50         5   50.0   1.7  28.20  22.20   70  20675.56   2   83.33     3  1127  100960     -10  -4.6   0.2     3.23    5.2     7.1 -10.0   0.0\n",
      "56      81405  2025-02-01 21:00:00  101070   -40         5   30.0   4.6  27.80  22.70   74  21280.00   0   83.33     3   800  100980     -20  -4.6   0.2    24.70    8.2     8.7 -10.0   0.0\n",
      "57      81408  2025-02-01 21:00:00  100950    20         5   10.0   3.7  28.30  22.80   72  20675.56   2   83.33     3  1127  100870     -30  -4.6   0.2     3.23    6.2     7.3 -10.0   0.2\n",
      "58      81415  2025-02-01 21:00:00  100920   100         5   40.0   1.6  28.90  22.20   67  20675.56   2   83.33     3  1127   99720     -70  -4.6   0.2     3.23    2.6     5.4 -10.0   0.0\n",
      "59      89642  2025-02-01 21:00:00   98620  -130         6  130.0   6.2  -3.50 -12.70   45  30000.00   2    0.00     3  1127   98090    -232  -4.6   0.2     3.23    0.0     0.0   0.0   0.0\n"
     ]
    }
   ],
   "source": [
    "verif = [\"pmer\", \"tend\", \"cod_tend\", \"pres\", \"tend24\", \"t\", \"td\", \"tn12\", \"tx12\", \"tminsol\", \"u\", \"vv\", \"n\", \"nbas\", \"hbas\", \"ww\"]\n",
    "\n",
    "for col in verif:\n",
    "    if df[col].isna().all() :\n",
    "        df[col].fillna(0.0,inplace=True)\n",
    "\n",
    "print(df.to_string())"
   ]
  },
  {
   "cell_type": "markdown",
   "metadata": {},
   "source": [
    "# Archive file"
   ]
  },
  {
   "cell_type": "code",
   "execution_count": 16,
   "metadata": {
    "execution": {
     "iopub.execute_input": "2025-02-01T23:23:33.672107Z",
     "iopub.status.busy": "2025-02-01T23:23:33.671858Z",
     "iopub.status.idle": "2025-02-01T23:23:33.675705Z",
     "shell.execute_reply": "2025-02-01T23:23:33.675046Z"
    }
   },
   "outputs": [
    {
     "name": "stdout",
     "output_type": "stream",
     "text": [
      "Le fichier a été déplacé de /home/mamoudou/dossier_partage/donnees-meteo/download/synop.2025020121.csv à /home/mamoudou/dossier_partage/donnees-meteo/archive/daily/synop.2025020121.csv\n"
     ]
    }
   ],
   "source": [
    "from file_management import move_file\n",
    "\n",
    "move_file(cvs_file, ARCHIVE_DIRECTORY)"
   ]
  },
  {
   "cell_type": "markdown",
   "metadata": {},
   "source": [
    "# Sending data to API"
   ]
  },
  {
   "cell_type": "code",
   "execution_count": 17,
   "metadata": {
    "execution": {
     "iopub.execute_input": "2025-02-01T23:23:33.678236Z",
     "iopub.status.busy": "2025-02-01T23:23:33.677669Z",
     "iopub.status.idle": "2025-02-01T23:23:33.749836Z",
     "shell.execute_reply": "2025-02-01T23:23:33.749100Z"
    }
   },
   "outputs": [],
   "source": [
    "import requests\n",
    "from api import send_data"
   ]
  },
  {
   "cell_type": "code",
   "execution_count": 18,
   "metadata": {
    "execution": {
     "iopub.execute_input": "2025-02-01T23:23:33.752255Z",
     "iopub.status.busy": "2025-02-01T23:23:33.751999Z",
     "iopub.status.idle": "2025-02-01T23:23:33.937792Z",
     "shell.execute_reply": "2025-02-01T23:23:33.937090Z"
    }
   },
   "outputs": [
    {
     "name": "stdout",
     "output_type": "stream",
     "text": [
      "{'numer_sta': 7005, 'date': '2025-02-01 21:00:00', 'pmer': 102820, 'tend': -60, 'cod_tend': 7, 'dd': 80.0, 'ff': 2.0, 't': 0.8, 'td': -0.7, 'u': 90, 'vv': 18580.0, 'ww': 0, 'n': 83.33, 'nbas': 3, 'hbas': 1127, 'pres': 101900, 'tend24': -110, 'tn12': -4.6, 'tx12': 0.2, 'tminsol': 0.6, 'raf10': 3.0, 'rafper': 3.4, 'per': -10.0, 'rr12': 0.0}\n",
      "Données ajoutées avec succès!\n",
      "{'numer_sta': 7015, 'date': '2025-02-01 21:00:00', 'pmer': 102850, 'tend': -80, 'cod_tend': 6, 'dd': 80.0, 'ff': 2.7, 't': 0.8, 'td': -1.3, 'u': 86, 'vv': 8490.0, 'ww': 0, 'n': 83.33, 'nbas': 0, 'hbas': 1127, 'pres': 102250, 'tend24': -200, 'tn12': -4.6, 'tx12': 0.2, 'tminsol': -0.3, 'raf10': 3.1, 'rafper': 4.0, 'per': -10.0, 'rr12': 0.2}\n",
      "Données ajoutées avec succès!\n",
      "{'numer_sta': 7020, 'date': '2025-02-01 21:00:00', 'pmer': 102540, 'tend': -150, 'cod_tend': 8, 'dd': 120.0, 'ff': 4.2, 't': 4.4, 'td': 2.7, 'u': 89, 'vv': 20675.56, 'ww': 2, 'n': 83.33, 'nbas': 3, 'hbas': 1127, 'pres': 102430, 'tend24': -190, 'tn12': -4.6, 'tx12': 0.2, 'tminsol': 3.23, 'raf10': 6.0, 'rafper': 6.0, 'per': -10.0, 'rr12': 0.4}\n"
     ]
    },
    {
     "name": "stdout",
     "output_type": "stream",
     "text": [
      "Données ajoutées avec succès!\n",
      "{'numer_sta': 7027, 'date': '2025-02-01 21:00:00', 'pmer': 102690, 'tend': -100, 'cod_tend': 8, 'dd': 120.0, 'ff': 2.6, 't': -0.1, 'td': -0.5, 'u': 97, 'vv': 3590.0, 'ww': 10, 'n': 83.33, 'nbas': 0, 'hbas': 1127, 'pres': 101840, 'tend24': 10, 'tn12': -4.6, 'tx12': 0.2, 'tminsol': 4.4, 'raf10': 3.6, 'rafper': 3.7, 'per': -10.0, 'rr12': 0.0}\n",
      "Données ajoutées avec succès!\n",
      "{'numer_sta': 7037, 'date': '2025-02-01 21:00:00', 'pmer': 102780, 'tend': -50, 'cod_tend': 8, 'dd': 60.0, 'ff': 2.3, 't': 0.2, 'td': -1.1, 'u': 91, 'vv': 14880.0, 'ww': 0, 'n': 83.33, 'nbas': 0, 'hbas': 1127, 'pres': 100790, 'tend24': -90, 'tn12': -4.6, 'tx12': 0.2, 'tminsol': 1.9, 'raf10': 2.9, 'rafper': 2.9, 'per': -10.0, 'rr12': 0.0}\n",
      "Données ajoutées avec succès!\n",
      "{'numer_sta': 7072, 'date': '2025-02-01 21:00:00', 'pmer': 102810, 'tend': -50, 'cod_tend': 8, 'dd': 110.0, 'ff': 1.8, 't': -1.3, 'td': -2.6, 'u': 91, 'vv': 20000.0, 'ww': 0, 'n': 83.33, 'nbas': 0, 'hbas': 1127, 'pres': 101590, 'tend24': -260, 'tn12': -4.6, 'tx12': 0.2, 'tminsol': 0.4, 'raf10': 2.5, 'rafper': 3.3, 'per': -10.0, 'rr12': 0.0}\n",
      "Données ajoutées avec succès!\n",
      "{'numer_sta': 7110, 'date': '2025-02-01 21:00:00', 'pmer': 102440, 'tend': -120, 'cod_tend': 8, 'dd': 180.0, 'ff': 6.5, 't': 5.2, 'td': 2.9, 'u': 85, 'vv': 59390.0, 'ww': 0, 'n': 100.0, 'nbas': 8, 'hbas': 450, 'pres': 101220, 'tend24': -300, 'tn12': -4.6, 'tx12': 0.2, 'tminsol': -0.5, 'raf10': 10.3, 'rafper': 10.3, 'per': -10.0, 'rr12': 0.2}\n",
      "Données ajoutées avec succès!\n",
      "{'numer_sta': 7117, 'date': '2025-02-01 21:00:00', 'pmer': 102490, 'tend': -110, 'cod_tend': 6, 'dd': 170.0, 'ff': 2.2, 't': 4.6, 'td': 2.5, 'u': 86, 'vv': 20675.56, 'ww': 2, 'n': 83.33, 'nbas': 3, 'hbas': 1127, 'pres': 101760, 'tend24': -260, 'tn12': -4.6, 'tx12': 0.2, 'tminsol': 3.23, 'raf10': 5.5, 'rafper': 6.6, 'per': -10.0, 'rr12': 0.0}\n",
      "Données ajoutées avec succès!\n",
      "{'numer_sta': 7130, 'date': '2025-02-01 21:00:00', 'pmer': 102630, 'tend': -100, 'cod_tend': 6, 'dd': 110.0, 'ff': 1.1, 't': 0.5, 'td': 0.1, 'u': 97, 'vv': 570.0, 'ww': 44, 'n': 83.33, 'nbas': 0, 'hbas': 1127, 'pres': 102160, 'tend24': -60, 'tn12': -4.6, 'tx12': 0.2, 'tminsol': -1.9, 'raf10': 1.5, 'rafper': 2.5, 'per': -10.0, 'rr12': 0.0}\n",
      "Données ajoutées avec succès!\n",
      "{'numer_sta': 7139, 'date': '2025-02-01 21:00:00', 'pmer': 102740, 'tend': -20, 'cod_tend': 8, 'dd': 360.0, 'ff': 1.2, 't': -0.8, 'td': -1.2, 'u': 97, 'vv': 6760.0, 'ww': 0, 'n': 83.33, 'nbas': 0, 'hbas': 1127, 'pres': 100900, 'tend24': -30, 'tn12': -4.6, 'tx12': 0.2, 'tminsol': 5.3, 'raf10': 1.6, 'rafper': 2.1, 'per': -10.0, 'rr12': 0.0}\n",
      "Données ajoutées avec succès!\n",
      "{'numer_sta': 7149, 'date': '2025-02-01 21:00:00', 'pmer': 102750, 'tend': -50, 'cod_tend': 8, 'dd': 70.0, 'ff': 2.7, 't': 2.2, 'td': -0.7, 'u': 81, 'vv': 17000.0, 'ww': 2, 'n': 0.0, 'nbas': 0, 'hbas': 1127, 'pres': 101610, 'tend24': -230, 'tn12': -4.6, 'tx12': 0.2, 'tminsol': 3.23, 'raf10': 3.5, 'rafper': 4.0, 'per': -10.0, 'rr12': 0.0}\n",
      "Données ajoutées avec succès!\n",
      "{'numer_sta': 7168, 'date': '2025-02-01 21:00:00', 'pmer': 102720, 'tend': -40, 'cod_tend': 8, 'dd': 90.0, 'ff': 2.0, 't': 0.8, 'td': -1.4, 'u': 85, 'vv': 20000.0, 'ww': 0, 'n': 83.33, 'nbas': 0, 'hbas': 1127, 'pres': 101230, 'tend24': -270, 'tn12': -4.6, 'tx12': 0.2, 'tminsol': -0.4, 'raf10': 3.1, 'rafper': 3.1, 'per': -10.0, 'rr12': 0.0}\n",
      "Données ajoutées avec succès!\n",
      "{'numer_sta': 7181, 'date': '2025-02-01 21:00:00', 'pmer': 102800, 'tend': -40, 'cod_tend': 8, 'dd': 30.0, 'ff': 2.1, 't': -0.4, 'td': -3.1, 'u': 82, 'vv': 29430.0, 'ww': 0, 'n': 83.33, 'nbas': 0, 'hbas': 1127, 'pres': 98420, 'tend24': -290, 'tn12': -4.6, 'tx12': 0.2, 'tminsol': -2.1, 'raf10': 3.3, 'rafper': 4.4, 'per': -10.0, 'rr12': 0.0}\n"
     ]
    },
    {
     "name": "stdout",
     "output_type": "stream",
     "text": [
      "Données ajoutées avec succès!\n",
      "{'numer_sta': 7190, 'date': '2025-02-01 21:00:00', 'pmer': 102800, 'tend': -70, 'cod_tend': 8, 'dd': 0.0, 'ff': 0.0, 't': -0.2, 'td': -1.8, 'u': 89, 'vv': 15650.0, 'ww': 0, 'n': 83.33, 'nbas': 0, 'hbas': 1127, 'pres': 100880, 'tend24': -300, 'tn12': -4.6, 'tx12': 0.2, 'tminsol': -2.2, 'raf10': 0.5, 'rafper': 2.9, 'per': -10.0, 'rr12': 0.0}\n",
      "Données ajoutées avec succès!\n",
      "{'numer_sta': 7207, 'date': '2025-02-01 21:00:00', 'pmer': 101961, 'tend': -21, 'cod_tend': 5, 'dd': 150.0, 'ff': 6.2, 't': 6.8, 'td': 5.56, 'u': 83, 'vv': 15000.0, 'ww': 2, 'n': 100.0, 'nbas': 8, 'hbas': 1250, 'pres': 100327, 'tend24': -232, 'tn12': -4.6, 'tx12': 0.2, 'tminsol': 3.23, 'raf10': 9.4, 'rafper': 9.4, 'per': -10.0, 'rr12': 0.0}\n",
      "Données ajoutées avec succès!\n",
      "{'numer_sta': 7222, 'date': '2025-02-01 21:00:00', 'pmer': 102560, 'tend': -120, 'cod_tend': 8, 'dd': 80.0, 'ff': 3.3, 't': 1.0, 'td': -0.2, 'u': 92, 'vv': 11210.0, 'ww': 0, 'n': 83.33, 'nbas': 0, 'hbas': 1127, 'pres': 102230, 'tend24': 20, 'tn12': -4.6, 'tx12': 0.2, 'tminsol': 1.5, 'raf10': 4.7, 'rafper': 6.1, 'per': -10.0, 'rr12': 0.0}\n",
      "Données ajoutées avec succès!\n",
      "{'numer_sta': 7240, 'date': '2025-02-01 21:00:00', 'pmer': 102630, 'tend': -90, 'cod_tend': 8, 'dd': 70.0, 'ff': 2.8, 't': 1.2, 'td': 0.8, 'u': 97, 'vv': 8280.0, 'ww': 0, 'n': 83.33, 'nbas': 0, 'hbas': 1127, 'pres': 101210, 'tend24': -110, 'tn12': -4.6, 'tx12': 0.2, 'tminsol': 2.9, 'raf10': 3.9, 'rafper': 4.5, 'per': -10.0, 'rr12': 0.4}\n",
      "Données ajoutées avec succès!\n",
      "{'numer_sta': 7255, 'date': '2025-02-01 21:00:00', 'pmer': 102640, 'tend': -80, 'cod_tend': 6, 'dd': 90.0, 'ff': 2.2, 't': 0.6, 'td': -0.4, 'u': 93, 'vv': 8570.0, 'ww': 0, 'n': 83.33, 'nbas': 3, 'hbas': 1127, 'pres': 100550, 'tend24': -300, 'tn12': -4.6, 'tx12': 0.2, 'tminsol': 2.0, 'raf10': 2.6, 'rafper': 2.6, 'per': -10.0, 'rr12': 0.0}\n",
      "Données ajoutées avec succès!\n",
      "{'numer_sta': 7280, 'date': '2025-02-01 21:00:00', 'pmer': 102680, 'tend': -20, 'cod_tend': 8, 'dd': 20.0, 'ff': 2.1, 't': 1.0, 'td': -1.4, 'u': 84, 'vv': 9660.0, 'ww': 0, 'n': 83.33, 'nbas': 1, 'hbas': 4080, 'pres': 99920, 'tend24': -260, 'tn12': -4.6, 'tx12': 0.2, 'tminsol': -2.3, 'raf10': 3.0, 'rafper': 3.9, 'per': -10.0, 'rr12': 0.0}\n",
      "Données ajoutées avec succès!\n",
      "{'numer_sta': 7299, 'date': '2025-02-01 21:00:00', 'pmer': 102760, 'tend': -50, 'cod_tend': 7, 'dd': 100.0, 'ff': 2.0, 't': 3.0, 'td': -0.1, 'u': 80, 'vv': 25960.0, 'ww': 0, 'n': 100.0, 'nbas': 8, 'hbas': 800, 'pres': 99370, 'tend24': -200, 'tn12': -4.6, 'tx12': 0.2, 'tminsol': 3.4, 'raf10': 3.5, 'rafper': 3.5, 'per': -10.0, 'rr12': 0.0}\n",
      "Données ajoutées avec succès!\n",
      "{'numer_sta': 7314, 'date': '2025-02-01 21:00:00', 'pmer': 102530, 'tend': -30, 'cod_tend': 8, 'dd': 70.0, 'ff': 5.1, 't': 5.8, 'td': 2.4, 'u': 79, 'vv': 15000.0, 'ww': 1, 'n': 10.0, 'nbas': 1, 'hbas': 800, 'pres': 102240, 'tend24': 60, 'tn12': -4.6, 'tx12': 0.2, 'tminsol': 3.23, 'raf10': 8.7, 'rafper': 9.3, 'per': -10.0, 'rr12': 0.0}\n",
      "Données ajoutées avec succès!\n",
      "{'numer_sta': 7335, 'date': '2025-02-01 21:00:00', 'pmer': 102590, 'tend': -60, 'cod_tend': 8, 'dd': 60.0, 'ff': 2.1, 't': 1.1, 'td': 0.4, 'u': 95, 'vv': 8980.0, 'ww': 0, 'n': 83.33, 'nbas': 0, 'hbas': 1127, 'pres': 101070, 'tend24': -90, 'tn12': -4.6, 'tx12': 0.2, 'tminsol': 4.7, 'raf10': 3.5, 'rafper': 5.7, 'per': -10.0, 'rr12': 0.0}\n",
      "Données ajoutées avec succès!\n",
      "{'numer_sta': 7434, 'date': '2025-02-01 21:00:00', 'pmer': 102470, 'tend': -50, 'cod_tend': 8, 'dd': 60.0, 'ff': 4.1, 't': 1.5, 'td': 0.0, 'u': 90, 'vv': 12130.0, 'ww': 0, 'n': 83.33, 'nbas': 0, 'hbas': 1127, 'pres': 97500, 'tend24': -390, 'tn12': -4.6, 'tx12': 0.2, 'tminsol': 1.8, 'raf10': 6.0, 'rafper': 6.2, 'per': -10.0, 'rr12': 0.0}\n",
      "Données ajoutées avec succès!\n",
      "{'numer_sta': 7460, 'date': '2025-02-01 21:00:00', 'pmer': 102680, 'tend': 0, 'cod_tend': 0, 'dd': 240.0, 'ff': 1.1, 't': 0.7, 'td': -0.8, 'u': 90, 'vv': 7840.0, 'ww': 0, 'n': 100.0, 'nbas': 8, 'hbas': 450, 'pres': 98550, 'tend24': -270, 'tn12': -4.6, 'tx12': 0.2, 'tminsol': -3.2, 'raf10': 1.6, 'rafper': 1.6, 'per': -10.0, 'rr12': 0.0}\n"
     ]
    },
    {
     "name": "stdout",
     "output_type": "stream",
     "text": [
      "Données ajoutées avec succès!\n",
      "{'numer_sta': 7471, 'date': '2025-02-01 21:00:00', 'pmer': 101961, 'tend': -20, 'cod_tend': 5, 'dd': 50.0, 'ff': 1.1, 't': -0.5, 'td': -1.2, 'u': 95, 'vv': 8340.0, 'ww': 0, 'n': 100.0, 'nbas': 8, 'hbas': 150, 'pres': 92580, 'tend24': -260, 'tn12': -4.6, 'tx12': 0.2, 'tminsol': -0.3, 'raf10': 2.1, 'rafper': 2.6, 'per': -10.0, 'rr12': 0.0}\n",
      "Données ajoutées avec succès!\n",
      "{'numer_sta': 7481, 'date': '2025-02-01 21:00:00', 'pmer': 102620, 'tend': -20, 'cod_tend': 7, 'dd': 310.0, 'ff': 2.1, 't': 3.8, 'td': 0.5, 'u': 79, 'vv': 25000.0, 'ww': 2, 'n': 100.0, 'nbas': 8, 'hbas': 800, 'pres': 99640, 'tend24': -200, 'tn12': -4.6, 'tx12': 0.2, 'tminsol': 3.23, 'raf10': 3.3, 'rafper': 4.2, 'per': -10.0, 'rr12': 0.0}\n",
      "Données ajoutées avec succès!\n",
      "{'numer_sta': 7510, 'date': '2025-02-01 21:00:00', 'pmer': 102500, 'tend': -10, 'cod_tend': 6, 'dd': 260.0, 'ff': 0.8, 't': 2.5, 'td': 1.6, 'u': 94, 'vv': 7240.0, 'ww': 0, 'n': 83.33, 'nbas': 0, 'hbas': 1127, 'pres': 101890, 'tend24': -250, 'tn12': -4.6, 'tx12': 0.2, 'tminsol': 0.8, 'raf10': 1.2, 'rafper': 2.8, 'per': -10.0, 'rr12': 0.0}\n",
      "Données ajoutées avec succès!\n",
      "{'numer_sta': 7535, 'date': '2025-02-01 21:00:00', 'pmer': 102490, 'tend': 10, 'cod_tend': 3, 'dd': 130.0, 'ff': 2.4, 't': 0.9, 'td': -0.6, 'u': 90, 'vv': 20000.0, 'ww': 0, 'n': 83.33, 'nbas': 0, 'hbas': 1127, 'pres': 99230, 'tend24': -430, 'tn12': -4.6, 'tx12': 0.2, 'tminsol': 3.6, 'raf10': 3.4, 'rafper': 3.4, 'per': -10.0, 'rr12': 0.0}\n",
      "Données ajoutées avec succès!\n",
      "{'numer_sta': 7558, 'date': '2025-02-01 21:00:00', 'pmer': 102310, 'tend': -10, 'cod_tend': 6, 'dd': 310.0, 'ff': 1.3, 't': 3.3, 'td': 0.7, 'u': 83, 'vv': 20000.0, 'ww': 0, 'n': 83.33, 'nbas': 3, 'hbas': 1127, 'pres': 93780, 'tend24': -310, 'tn12': -4.6, 'tx12': 0.2, 'tminsol': 0.6, 'raf10': 2.1, 'rafper': 2.2, 'per': -10.0, 'rr12': 0.0}\n",
      "Données ajoutées avec succès!\n",
      "{'numer_sta': 7577, 'date': '2025-02-01 21:00:00', 'pmer': 102420, 'tend': -10, 'cod_tend': 8, 'dd': 20.0, 'ff': 4.5, 't': 6.1, 'td': 1.4, 'u': 72, 'vv': 20000.0, 'ww': 0, 'n': 83.33, 'nbas': 3, 'hbas': 1127, 'pres': 101500, 'tend24': -180, 'tn12': -4.6, 'tx12': 0.2, 'tminsol': 5.0, 'raf10': 7.7, 'rafper': 9.8, 'per': -10.0, 'rr12': 0.0}\n",
      "Données ajoutées avec succès!\n",
      "{'numer_sta': 7591, 'date': '2025-02-01 21:00:00', 'pmer': 101961, 'tend': 70, 'cod_tend': 2, 'dd': 360.0, 'ff': 6.2, 't': 7.0, 'td': -2.5, 'u': 51, 'vv': 20675.56, 'ww': 2, 'n': 83.33, 'nbas': 3, 'hbas': 1127, 'pres': 91930, 'tend24': -120, 'tn12': -4.6, 'tx12': 0.2, 'tminsol': 3.23, 'raf10': 10.4, 'rafper': 11.9, 'per': -10.0, 'rr12': 0.0}\n",
      "Données ajoutées avec succès!\n",
      "{'numer_sta': 7607, 'date': '2025-02-01 21:00:00', 'pmer': 102490, 'tend': 0, 'cod_tend': 0, 'dd': 0.0, 'ff': 0.0, 't': 1.4, 'td': 0.8, 'u': 96, 'vv': 33620.0, 'ww': 0, 'n': 83.33, 'nbas': 0, 'hbas': 1127, 'pres': 101740, 'tend24': -410, 'tn12': -4.6, 'tx12': 0.2, 'tminsol': 5.6, 'raf10': 0.5, 'rafper': 1.3, 'per': -10.0, 'rr12': 0.0}\n",
      "Données ajoutées avec succès!\n",
      "{'numer_sta': 7621, 'date': '2025-02-01 21:00:00', 'pmer': 102480, 'tend': 10, 'cod_tend': 3, 'dd': 0.0, 'ff': 0.0, 't': 4.8, 'td': 3.9, 'u': 94, 'vv': 19000.0, 'ww': 0, 'n': 100.0, 'nbas': 8, 'hbas': 1250, 'pres': 98030, 'tend24': -480, 'tn12': -4.6, 'tx12': 0.2, 'tminsol': 2.7, 'raf10': 0.5, 'rafper': 1.7, 'per': -10.0, 'rr12': -0.1}\n",
      "Données ajoutées avec succès!\n",
      "{'numer_sta': 7627, 'date': '2025-02-01 21:00:00', 'pmer': 102500, 'tend': 20, 'cod_tend': 3, 'dd': 0.0, 'ff': 0.0, 't': 3.7, 'td': 2.2, 'u': 90, 'vv': 20000.0, 'ww': 0, 'n': 90.0, 'nbas': 7, 'hbas': 800, 'pres': 97420, 'tend24': -490, 'tn12': -4.6, 'tx12': 0.2, 'tminsol': 4.1, 'raf10': 0.7, 'rafper': 1.6, 'per': -10.0, 'rr12': 0.0}\n",
      "Données ajoutées avec succès!\n",
      "{'numer_sta': 7630, 'date': '2025-02-01 21:00:00', 'pmer': 102460, 'tend': 20, 'cod_tend': 3, 'dd': 280.0, 'ff': 1.2, 't': 4.0, 'td': 0.5, 'u': 78, 'vv': 34930.0, 'ww': 0, 'n': 83.33, 'nbas': 0, 'hbas': 1127, 'pres': 100590, 'tend24': -440, 'tn12': -4.6, 'tx12': 0.2, 'tminsol': 2.9, 'raf10': 1.9, 'rafper': 2.6, 'per': -10.0, 'rr12': 0.0}\n",
      "Données ajoutées avec succès!\n",
      "{'numer_sta': 7643, 'date': '2025-02-01 21:00:00', 'pmer': 102350, 'tend': 80, 'cod_tend': 3, 'dd': 30.0, 'ff': 3.9, 't': 6.0, 'td': 4.8, 'u': 92, 'vv': 9090.0, 'ww': 63, 'n': 100.0, 'nbas': 7, 'hbas': 1250, 'pres': 102250, 'tend24': -210, 'tn12': -4.6, 'tx12': 0.2, 'tminsol': 6.3, 'raf10': 5.8, 'rafper': 7.0, 'per': -10.0, 'rr12': 3.8}\n",
      "Données ajoutées avec succès!\n",
      "{'numer_sta': 7650, 'date': '2025-02-01 21:00:00', 'pmer': 102190, 'tend': -10, 'cod_tend': 8, 'dd': 340.0, 'ff': 4.9, 't': 8.1, 'td': 6.7, 'u': 91, 'vv': 26010.0, 'ww': 0, 'n': 100.0, 'nbas': 6, 'hbas': 250, 'pres': 101800, 'tend24': -150, 'tn12': -4.6, 'tx12': 0.2, 'tminsol': 8.5, 'raf10': 6.4, 'rafper': 7.6, 'per': -10.0, 'rr12': 8.6}\n"
     ]
    },
    {
     "name": "stdout",
     "output_type": "stream",
     "text": [
      "Données ajoutées avec succès!\n",
      "{'numer_sta': 7661, 'date': '2025-02-01 21:00:00', 'pmer': 101961, 'tend': -21, 'cod_tend': 5, 'dd': 50.0, 'ff': 8.3, 't': 8.38, 'td': 5.56, 'u': 83, 'vv': 20675.56, 'ww': 2, 'n': 83.33, 'nbas': 3, 'hbas': 1127, 'pres': 100327, 'tend24': -232, 'tn12': -4.6, 'tx12': 0.2, 'tminsol': 3.23, 'raf10': 13.3, 'rafper': 13.9, 'per': -10.0, 'rr12': 0.0}\n",
      "Données ajoutées avec succès!\n",
      "{'numer_sta': 7690, 'date': '2025-02-01 21:00:00', 'pmer': 102160, 'tend': 20, 'cod_tend': 0, 'dd': 320.0, 'ff': 3.0, 't': 9.9, 'td': 8.0, 'u': 88, 'vv': 20000.0, 'ww': 2, 'n': 100.0, 'nbas': 8, 'hbas': 1127, 'pres': 101840, 'tend24': -80, 'tn12': -4.6, 'tx12': 0.2, 'tminsol': 9.2, 'raf10': 3.9, 'rafper': 5.4, 'per': -10.0, 'rr12': 1.6}\n"
     ]
    },
    {
     "name": "stdout",
     "output_type": "stream",
     "text": [
      "Données ajoutées avec succès!\n",
      "{'numer_sta': 7747, 'date': '2025-02-01 21:00:00', 'pmer': 102300, 'tend': 30, 'cod_tend': 1, 'dd': 310.0, 'ff': 4.2, 't': 7.8, 'td': 3.3, 'u': 73, 'vv': 60000.0, 'ww': 0, 'n': 100.0, 'nbas': 8, 'hbas': 1250, 'pres': 101760, 'tend24': -430, 'tn12': -4.6, 'tx12': 0.2, 'tminsol': 7.0, 'raf10': 6.8, 'rafper': 7.3, 'per': -10.0, 'rr12': 0.8}\n",
      "Données ajoutées avec succès!\n",
      "{'numer_sta': 7761, 'date': '2025-02-01 21:00:00', 'pmer': 101930, 'tend': -50, 'cod_tend': 8, 'dd': 40.0, 'ff': 1.7, 't': 9.4, 'td': 8.3, 'u': 93, 'vv': 14770.0, 'ww': 0, 'n': 100.0, 'nbas': 8, 'hbas': 3300, 'pres': 101820, 'tend24': -410, 'tn12': -4.6, 'tx12': 0.2, 'tminsol': 8.5, 'raf10': 2.3, 'rafper': 4.0, 'per': -10.0, 'rr12': 0.6}\n",
      "Données ajoutées avec succès!\n",
      "{'numer_sta': 7790, 'date': '2025-02-01 21:00:00', 'pmer': 102120, 'tend': 20, 'cod_tend': 0, 'dd': 290.0, 'ff': 1.6, 't': 10.8, 'td': 10.2, 'u': 96, 'vv': 19570.0, 'ww': 0, 'n': 100.0, 'nbas': 7, 'hbas': 450, 'pres': 101970, 'tend24': -220, 'tn12': -4.6, 'tx12': 0.2, 'tminsol': 10.8, 'raf10': 2.3, 'rafper': 4.1, 'per': -10.0, 'rr12': 6.2}\n",
      "Données ajoutées avec succès!\n",
      "{'numer_sta': 61968, 'date': '2025-02-01 21:00:00', 'pmer': 100780, 'tend': 80, 'cod_tend': 8, 'dd': 280.0, 'ff': 5.6, 't': 8.38, 'td': 5.56, 'u': 83, 'vv': 20675.56, 'ww': 2, 'n': 83.33, 'nbas': 3, 'hbas': 1127, 'pres': 100730, 'tend24': -140, 'tn12': -4.6, 'tx12': 0.2, 'tminsol': 3.23, 'raf10': 0.0, 'rafper': 11.7, 'per': -10.0, 'rr12': 0.0}\n",
      "Données ajoutées avec succès!\n",
      "{'numer_sta': 61970, 'date': '2025-02-01 21:00:00', 'pmer': 100810, 'tend': 50, 'cod_tend': 1, 'dd': 340.0, 'ff': 1.0, 't': 28.5, 'td': 26.3, 'u': 88, 'vv': 20675.56, 'ww': 2, 'n': 83.33, 'nbas': 3, 'hbas': 1127, 'pres': 100700, 'tend24': 0, 'tn12': -4.6, 'tx12': 0.2, 'tminsol': 3.23, 'raf10': 0.0, 'rafper': 4.5, 'per': -10.0, 'rr12': 0.0}\n",
      "Données ajoutées avec succès!\n",
      "{'numer_sta': 61972, 'date': '2025-02-01 21:00:00', 'pmer': 100920, 'tend': 40, 'cod_tend': 0, 'dd': 140.0, 'ff': 5.7, 't': 27.0, 'td': 22.0, 'u': 74, 'vv': 20675.56, 'ww': 2, 'n': 83.33, 'nbas': 3, 'hbas': 1127, 'pres': 100850, 'tend24': 130, 'tn12': -4.6, 'tx12': 0.2, 'tminsol': 3.23, 'raf10': 0.0, 'rafper': 11.2, 'per': -10.0, 'rr12': 0.0}\n",
      "Données ajoutées avec succès!\n",
      "{'numer_sta': 61976, 'date': '2025-02-01 21:00:00', 'pmer': 100580, 'tend': 160, 'cod_tend': 8, 'dd': 0.0, 'ff': 0.0, 't': 29.1, 'td': 24.9, 'u': 78, 'vv': 20675.56, 'ww': 2, 'n': 83.33, 'nbas': 3, 'hbas': 1127, 'pres': 100490, 'tend24': -170, 'tn12': -4.6, 'tx12': 0.2, 'tminsol': 3.23, 'raf10': 0.0, 'rafper': 0.0, 'per': -10.0, 'rr12': 0.0}\n",
      "Données ajoutées avec succès!\n",
      "{'numer_sta': 61980, 'date': '2025-02-01 21:00:00', 'pmer': 100630, 'tend': -150, 'cod_tend': 8, 'dd': 180.0, 'ff': 2.9, 't': 27.9, 'td': 22.8, 'u': 74, 'vv': 60000.0, 'ww': 0, 'n': 83.33, 'nbas': 2, 'hbas': 1250, 'pres': 100480, 'tend24': -220, 'tn12': -4.6, 'tx12': 0.2, 'tminsol': 3.23, 'raf10': 3.8, 'rafper': 6.8, 'per': -10.0, 'rr12': 0.0}\n",
      "Données ajoutées avec succès!\n",
      "{'numer_sta': 61996, 'date': '2025-02-01 21:00:00', 'pmer': 101870, 'tend': 130, 'cod_tend': 8, 'dd': 340.0, 'ff': 3.8, 't': 17.5, 'td': 14.0, 'u': 80, 'vv': 20675.56, 'ww': 2, 'n': 83.33, 'nbas': 3, 'hbas': 1127, 'pres': 101530, 'tend24': -70, 'tn12': -4.6, 'tx12': 0.2, 'tminsol': 3.23, 'raf10': 0.0, 'rafper': 5.6, 'per': -10.0, 'rr12': 0.0}\n",
      "Données ajoutées avec succès!\n",
      "{'numer_sta': 61997, 'date': '2025-02-01 21:00:00', 'pmer': 98660, 'tend': 180, 'cod_tend': 6, 'dd': 160.0, 'ff': 1.3, 't': 9.1, 'td': 9.1, 'u': 100, 'vv': 20675.56, 'ww': 2, 'n': 83.33, 'nbas': 3, 'hbas': 1127, 'pres': 96940, 'tend24': -2450, 'tn12': -4.6, 'tx12': 0.2, 'tminsol': 3.23, 'raf10': 0.0, 'rafper': 3.9, 'per': -10.0, 'rr12': 12.8}\n",
      "Données ajoutées avec succès!\n",
      "{'numer_sta': 61998, 'date': '2025-02-01 21:00:00', 'pmer': 100900, 'tend': -280, 'cod_tend': 8, 'dd': 20.0, 'ff': 5.1, 't': 5.2, 'td': 2.2, 'u': 81, 'vv': 20675.56, 'ww': 2, 'n': 83.33, 'nbas': 3, 'hbas': 1127, 'pres': 100530, 'tend24': 380, 'tn12': -4.6, 'tx12': 0.2, 'tminsol': 3.23, 'raf10': 0.0, 'rafper': 8.7, 'per': -10.0, 'rr12': 0.0}\n",
      "Données ajoutées avec succès!\n",
      "{'numer_sta': 67005, 'date': '2025-02-01 21:00:00', 'pmer': 100820, 'tend': -70, 'cod_tend': 5, 'dd': 290.0, 'ff': 3.2, 't': 26.6, 'td': 24.3, 'u': 87, 'vv': 20000.0, 'ww': 0, 'n': 83.33, 'nbas': 0, 'hbas': 1127, 'pres': 100740, 'tend24': -120, 'tn12': -4.6, 'tx12': 0.2, 'tminsol': 3.23, 'raf10': 4.3, 'rafper': 4.9, 'per': -10.0, 'rr12': 8.3}\n",
      "Données ajoutées avec succès!\n",
      "{'numer_sta': 71805, 'date': '2025-02-01 21:00:00', 'pmer': 100230, 'tend': 20, 'cod_tend': 1, 'dd': 340.0, 'ff': 5.7, 't': -5.6, 'td': -10.0, 'u': 71, 'vv': 51810.0, 'ww': 0, 'n': 100.0, 'nbas': 3, 'hbas': 800, 'pres': 100140, 'tend24': -970, 'tn12': -4.6, 'tx12': 0.2, 'tminsol': 0.2, 'raf10': 10.4, 'rafper': 10.4, 'per': -10.0, 'rr12': 0.0}\n",
      "Données ajoutées avec succès!\n",
      "{'numer_sta': 78890, 'date': '2025-02-01 21:00:00', 'pmer': 101480, 'tend': 80, 'cod_tend': 5, 'dd': 80.0, 'ff': 10.0, 't': 27.4, 'td': 21.2, 'u': 69, 'vv': 20675.56, 'ww': 2, 'n': 83.33, 'nbas': 3, 'hbas': 1127, 'pres': 101160, 'tend24': -90, 'tn12': -4.6, 'tx12': 0.2, 'tminsol': 3.23, 'raf10': 0.0, 'rafper': 14.2, 'per': -10.0, 'rr12': 0.0}\n",
      "Données ajoutées avec succès!\n",
      "{'numer_sta': 78897, 'date': '2025-02-01 21:00:00', 'pmer': 101510, 'tend': -40, 'cod_tend': 5, 'dd': 60.0, 'ff': 4.4, 't': 27.2, 'td': 19.8, 'u': 64, 'vv': 32950.0, 'ww': 2, 'n': 83.33, 'nbas': 3, 'hbas': 1127, 'pres': 101420, 'tend24': -90, 'tn12': -4.6, 'tx12': 0.2, 'tminsol': 3.23, 'raf10': 0.0, 'rafper': 0.0, 'per': 0.0, 'rr12': 0.2}\n",
      "Données ajoutées avec succès!\n",
      "{'numer_sta': 78925, 'date': '2025-02-01 21:00:00', 'pmer': 101370, 'tend': -70, 'cod_tend': 5, 'dd': 110.0, 'ff': 6.3, 't': 28.0, 'td': 20.3, 'u': 63, 'vv': 19820.0, 'ww': 0, 'n': 83.33, 'nbas': 3, 'hbas': 1250, 'pres': 101280, 'tend24': -120, 'tn12': -4.6, 'tx12': 0.2, 'tminsol': 3.23, 'raf10': 9.6, 'rafper': 11.2, 'per': -10.0, 'rr12': 0.0}\n",
      "Données ajoutées avec succès!\n",
      "{'numer_sta': 81401, 'date': '2025-02-01 21:00:00', 'pmer': 101020, 'tend': 50, 'cod_tend': 5, 'dd': 50.0, 'ff': 1.7, 't': 28.2, 'td': 22.2, 'u': 70, 'vv': 20675.56, 'ww': 2, 'n': 83.33, 'nbas': 3, 'hbas': 1127, 'pres': 100960, 'tend24': -10, 'tn12': -4.6, 'tx12': 0.2, 'tminsol': 3.23, 'raf10': 5.2, 'rafper': 7.1, 'per': -10.0, 'rr12': 0.0}\n",
      "Données ajoutées avec succès!\n",
      "{'numer_sta': 81405, 'date': '2025-02-01 21:00:00', 'pmer': 101070, 'tend': -40, 'cod_tend': 5, 'dd': 30.0, 'ff': 4.6, 't': 27.8, 'td': 22.7, 'u': 74, 'vv': 21280.0, 'ww': 0, 'n': 83.33, 'nbas': 3, 'hbas': 800, 'pres': 100980, 'tend24': -20, 'tn12': -4.6, 'tx12': 0.2, 'tminsol': 24.7, 'raf10': 8.2, 'rafper': 8.7, 'per': -10.0, 'rr12': 0.0}\n",
      "Données ajoutées avec succès!\n",
      "{'numer_sta': 81408, 'date': '2025-02-01 21:00:00', 'pmer': 100950, 'tend': 20, 'cod_tend': 5, 'dd': 10.0, 'ff': 3.7, 't': 28.3, 'td': 22.8, 'u': 72, 'vv': 20675.56, 'ww': 2, 'n': 83.33, 'nbas': 3, 'hbas': 1127, 'pres': 100870, 'tend24': -30, 'tn12': -4.6, 'tx12': 0.2, 'tminsol': 3.23, 'raf10': 6.2, 'rafper': 7.3, 'per': -10.0, 'rr12': 0.2}\n",
      "Données ajoutées avec succès!\n",
      "{'numer_sta': 81415, 'date': '2025-02-01 21:00:00', 'pmer': 100920, 'tend': 100, 'cod_tend': 5, 'dd': 40.0, 'ff': 1.6, 't': 28.9, 'td': 22.2, 'u': 67, 'vv': 20675.56, 'ww': 2, 'n': 83.33, 'nbas': 3, 'hbas': 1127, 'pres': 99720, 'tend24': -70, 'tn12': -4.6, 'tx12': 0.2, 'tminsol': 3.23, 'raf10': 2.6, 'rafper': 5.4, 'per': -10.0, 'rr12': 0.0}\n",
      "Données ajoutées avec succès!\n",
      "{'numer_sta': 89642, 'date': '2025-02-01 21:00:00', 'pmer': 98620, 'tend': -130, 'cod_tend': 6, 'dd': 130.0, 'ff': 6.2, 't': -3.5, 'td': -12.7, 'u': 45, 'vv': 30000.0, 'ww': 2, 'n': 0.0, 'nbas': 3, 'hbas': 1127, 'pres': 98090, 'tend24': -232, 'tn12': -4.6, 'tx12': 0.2, 'tminsol': 3.23, 'raf10': 0.0, 'rafper': 0.0, 'per': 0.0, 'rr12': 0.0}\n",
      "Données ajoutées avec succès!\n"
     ]
    }
   ],
   "source": [
    "API_URL = \"http://127.0.0.1:8080/api/donnees-climatiques\" \n",
    "\n",
    "dict_data = df.to_dict(orient=\"records\")\n",
    "\n",
    "for row in dict_data:\n",
    "    print(row)\n",
    "    send_data(API_URL, row, requests)"
   ]
  }
 ],
 "metadata": {
  "kernelspec": {
   "display_name": "venv",
   "language": "python",
   "name": "python3"
  },
  "language_info": {
   "codemirror_mode": {
    "name": "ipython",
    "version": 3
   },
   "file_extension": ".py",
   "mimetype": "text/x-python",
   "name": "python",
   "nbconvert_exporter": "python",
   "pygments_lexer": "ipython3",
   "version": "3.11.2"
  }
 },
 "nbformat": 4,
 "nbformat_minor": 2
}
