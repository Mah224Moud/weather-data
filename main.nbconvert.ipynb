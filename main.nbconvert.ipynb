{
 "cells": [
  {
   "cell_type": "code",
   "execution_count": 1,
   "metadata": {
    "execution": {
     "iopub.execute_input": "2025-02-02T10:05:03.842204Z",
     "iopub.status.busy": "2025-02-02T10:05:03.841996Z",
     "iopub.status.idle": "2025-02-02T10:05:03.906029Z",
     "shell.execute_reply": "2025-02-02T10:05:03.905262Z"
    }
   },
   "outputs": [],
   "source": [
    "import time\n",
    "import datetime\n",
    "from selenium import webdriver\n",
    "from selenium.webdriver.chrome.service import Service\n",
    "from selenium.webdriver.chrome.options import Options\n",
    "from selenium.webdriver.common.by import By"
   ]
  },
  {
   "cell_type": "markdown",
   "metadata": {},
   "source": [
    "# CONSTS"
   ]
  },
  {
   "cell_type": "code",
   "execution_count": 2,
   "metadata": {
    "execution": {
     "iopub.execute_input": "2025-02-02T10:05:03.908913Z",
     "iopub.status.busy": "2025-02-02T10:05:03.908602Z",
     "iopub.status.idle": "2025-02-02T10:05:03.912452Z",
     "shell.execute_reply": "2025-02-02T10:05:03.911745Z"
    }
   },
   "outputs": [],
   "source": [
    "CHROME_DRIVER_PATH = \"./chromedriver-linux/chromedriver\"\n",
    "BRAVE_PATH = \"/usr/bin/brave-browser\"\n",
    "DOWNLOAD_DIRECTORY = \"/home/mamoudou/dossier_partage/donnees-meteo/download\"\n",
    "ARCHIVE_DIRECTORY = \"/home/mamoudou/dossier_partage/donnees-meteo/archive/daily\""
   ]
  },
  {
   "cell_type": "code",
   "execution_count": 3,
   "metadata": {
    "execution": {
     "iopub.execute_input": "2025-02-02T10:05:03.914621Z",
     "iopub.status.busy": "2025-02-02T10:05:03.914383Z",
     "iopub.status.idle": "2025-02-02T10:05:03.919818Z",
     "shell.execute_reply": "2025-02-02T10:05:03.919171Z"
    }
   },
   "outputs": [
    {
     "name": "stdout",
     "output_type": "stream",
     "text": [
      "Voici la date du jour recuperer: ['20250202', '11'].\n",
      "Après répartiton, on a une date: 20250202 et une heure: 09\n",
      "L'URL formée après, devient: https://donneespubliques.meteofrance.fr/?fond=donnee_libre&prefixe=Txt%2FSynop%2Fsynop&extension=csv&date=20250202&reseau=09\n"
     ]
    }
   ],
   "source": [
    "now = datetime.datetime.now()\n",
    "\n",
    "formatted_date = now.strftime(\"%Y%m%d %H\").split(\" \")\n",
    "\n",
    "DATE, HEURE = formatted_date[0], \"{:02d}\".format(int(formatted_date[1])-2)\n",
    "print(f\"Voici la date du jour recuperer: {formatted_date}.\\nAprès répartiton, on a une date: {DATE} et une heure: {HEURE}\")\n",
    "\n",
    "URL = f\"https://donneespubliques.meteofrance.fr/?fond=donnee_libre&prefixe=Txt%2FSynop%2Fsynop&extension=csv&date={DATE}&reseau={HEURE}\"\n",
    "\n",
    "print(f\"L'URL formée après, devient: {URL}\")"
   ]
  },
  {
   "cell_type": "markdown",
   "metadata": {},
   "source": [
    "## Browser Configs"
   ]
  },
  {
   "cell_type": "code",
   "execution_count": 4,
   "metadata": {
    "execution": {
     "iopub.execute_input": "2025-02-02T10:05:03.958137Z",
     "iopub.status.busy": "2025-02-02T10:05:03.957816Z",
     "iopub.status.idle": "2025-02-02T10:05:03.963069Z",
     "shell.execute_reply": "2025-02-02T10:05:03.962171Z"
    }
   },
   "outputs": [],
   "source": [
    "options = Options()\n",
    "options.binary_location = BRAVE_PATH  \n",
    "options.add_argument(\"--headless=new\")\n",
    "options.add_argument(\"--disable-gpu\")\n",
    "options.add_argument(\"--nosandbox\")\n",
    "options.add_argument(\"--disable-dev-shm-usage\")\n",
    "\n",
    "prefs = {\n",
    "    \"download.default_directory\": DOWNLOAD_DIRECTORY,\n",
    "    \"download.prompt_for_download\": False,\n",
    "    \"download.directory_upgrade\": True,\n",
    "    \"safebrowsing.enabled\": True \n",
    "}\n",
    "options.add_experimental_option(\"prefs\", prefs)"
   ]
  },
  {
   "cell_type": "code",
   "execution_count": 5,
   "metadata": {
    "execution": {
     "iopub.execute_input": "2025-02-02T10:05:03.965330Z",
     "iopub.status.busy": "2025-02-02T10:05:03.965118Z",
     "iopub.status.idle": "2025-02-02T10:05:13.197308Z",
     "shell.execute_reply": "2025-02-02T10:05:13.196279Z"
    }
   },
   "outputs": [
    {
     "name": "stdout",
     "output_type": "stream",
     "text": [
      "Téléchargement pour la date : 20250202\n"
     ]
    },
    {
     "name": "stdout",
     "output_type": "stream",
     "text": [
      "Téléchargement terminé !!!\n"
     ]
    }
   ],
   "source": [
    "service = Service(executable_path=CHROME_DRIVER_PATH)\n",
    "\n",
    "driver = webdriver.Chrome(service=service, options=options)\n",
    "\n",
    "try:\n",
    "    print(f\"Téléchargement pour la date : {DATE}\")\n",
    "    driver.get(URL)\n",
    "    time.sleep(5)\n",
    "    print(f\"Téléchargement terminé !!!\")\n",
    "\n",
    "except Exception as e:\n",
    "    print(f\"Erreur lors du téléchargement de {DATE}: {e}\")\n",
    "\n",
    "driver.close()\n",
    "driver.quit()"
   ]
  },
  {
   "cell_type": "markdown",
   "metadata": {},
   "source": [
    "## Fixing the file extension problem"
   ]
  },
  {
   "cell_type": "code",
   "execution_count": 6,
   "metadata": {
    "execution": {
     "iopub.execute_input": "2025-02-02T10:05:13.199959Z",
     "iopub.status.busy": "2025-02-02T10:05:13.199741Z",
     "iopub.status.idle": "2025-02-02T10:05:13.204597Z",
     "shell.execute_reply": "2025-02-02T10:05:13.204019Z"
    }
   },
   "outputs": [
    {
     "name": "stdout",
     "output_type": "stream",
     "text": [
      "Le fichier a été renommé : /home/mamoudou/dossier_partage/donnees-meteo/download/synop.2025020209.txt -> /home/mamoudou/dossier_partage/donnees-meteo/download/synop.2025020209.csv\n",
      "The file I'm working with: /home/mamoudou/dossier_partage/donnees-meteo/download/synop.2025020209.csv\n"
     ]
    }
   ],
   "source": [
    "from file_management import change_file_extension\n",
    "\n",
    "cvs_file = change_file_extension(DOWNLOAD_DIRECTORY)\n",
    "print(f\"The file I'm working with: {cvs_file}\")"
   ]
  },
  {
   "cell_type": "markdown",
   "metadata": {},
   "source": [
    "# Starting the ELT"
   ]
  },
  {
   "cell_type": "code",
   "execution_count": 7,
   "metadata": {
    "execution": {
     "iopub.execute_input": "2025-02-02T10:05:13.206581Z",
     "iopub.status.busy": "2025-02-02T10:05:13.206386Z",
     "iopub.status.idle": "2025-02-02T10:05:13.537502Z",
     "shell.execute_reply": "2025-02-02T10:05:13.536655Z"
    }
   },
   "outputs": [
    {
     "name": "stdout",
     "output_type": "stream",
     "text": [
      "    numer_sta            date    pmer  tend cod_tend   dd         ff           t          td    u     vv  ww  w1  w2    n nbas  hbas  cl  cm  ch    pres niv_bar geop tend24 tn12        tn24 tx12        tx24     tminsol  sw  tw      raf10     rafper  per etat_sol  ht_neige    ssfrai perssfrai        rr1        rr3        rr6       rr12       rr24 phenspe1 phenspe2 phenspe3 phenspe4 nnuage1 ctype1 hnuage1 nnuage2 ctype2 hnuage2 nnuage3 ctype3 hnuage3 nnuage4 ctype4 hnuage4  Unnamed: 59\n",
      "0        7005  20250202090000  102380    20        2  120   2.100000  273.150000  271.550000   89  13180   0  mq  mq   mq   mq    mq  mq  mq  mq  101470      mq   mq   -790   mq          mq   mq          mq  271.950000  mq  mq   4.600000   4.600000  -10       mq  0.000000        mq        mq   0.000000   0.000000   0.000000   0.000000   0.000000       mq       mq       mq       mq      mq     mq      mq      mq     mq      mq      mq     mq      mq      mq     mq      mq          NaN\n",
      "1        7015  20250202090000  102450     0        5  110   2.100000  272.450000  271.850000   96   5980   0  mq  mq   mq    0    mq  mq  mq  mq  101850      mq   mq   -780   mq          mq   mq          mq  269.750000  mq  mq   2.600000   2.600000  -10        0  0.000000        mq        mq   0.000000   0.000000   0.000000   0.000000   0.200000       mq       mq       mq       mq      mq     mq      mq      mq     mq      mq      mq     mq      mq      mq     mq      mq          NaN\n",
      "2        7020  20250202090000  102040   -10        8  170   4.600000  276.850000  275.350000   90  15000   1   0  mq   10    1   450  31  20  10  101930      mq   mq   -820   mq          mq   mq          mq          mq  mq  mq   7.000000   7.400000  -10       mq        mq        mq        mq   0.000000   0.000000   0.000000   0.000000   0.400000       mq       mq       mq       mq       1      8     500      mq     mq      mq      mq     mq      mq      mq     mq      mq          NaN\n",
      "3        7027  20250202090000  102210   -10        5  150   1.800000  273.050000  272.350000   95   3200  10  mq  mq   mq    0    mq  mq  mq  mq  101360      mq   mq   -780   mq          mq   mq          mq  275.450000  mq  mq   2.500000   5.800000  -10       mq  0.000000        mq        mq   0.000000   0.000000   0.000000   0.000000   0.000000       mq       mq       mq       mq      mq     mq      mq      mq     mq      mq      mq     mq      mq      mq     mq      mq          NaN\n",
      "4        7037  20250202090000  102330    20        0  120   2.500000  272.950000  271.850000   92   6720   0  mq  mq   mq    0    mq  mq  mq  mq  100350      mq   mq   -800   mq          mq   mq          mq  273.750000  mq  mq   3.700000   4.100000  -10       mq  0.000000        mq        mq   0.000000   0.000000   0.000000   0.000000   0.000000       mq       mq       mq       mq      mq     mq      mq      mq     mq      mq      mq     mq      mq      mq     mq      mq          NaN\n",
      "5        7072  20250202090000  102460    20        2  110   1.500000  272.450000  271.050000   90  13450   0  mq  mq   mq    0    mq  mq  mq  mq  101250      mq   mq   -670   mq          mq   mq          mq  272.550000  mq  mq   2.300000   2.600000  -10        4  0.000000        mq        mq   0.000000   0.000000   0.000000   0.000000   0.000000       mq       mq       mq       mq      mq     mq      mq      mq     mq      mq      mq     mq      mq      mq     mq      mq          NaN\n",
      "6        7110  20250202090000  101730    30        3  150   7.200000  279.250000  278.050000   92  19590   0  mq  mq  100    8   250  mq  mq  mq  100520      mq   mq  -1130   mq          mq   mq          mq  277.650000  mq  mq  10.600000  11.700000  -10       mq  0.000000        mq        mq   0.000000   0.000000   0.000000   0.000000   0.200000       mq       mq       mq       mq       2     mq     270       7     mq     750       8     mq     930      mq     mq      mq          NaN\n",
      "7        7117  20250202090000  101830   -60        6  100   3.300000  276.850000  275.250000   89  20000   1   0  mq   40    3  1250  35  20  17  101110      mq   mq   -990   mq          mq   mq          mq          mq  mq  mq   7.000000   7.900000  -10       mq        mq        mq        mq   0.000000   0.000000   0.000000   0.000000   0.000000       mq       mq       mq       mq       2      6    1000       2      0    5000      mq     mq      mq      mq     mq      mq          NaN\n",
      "8        7130  20250202090000  102180    60        3  120   2.300000  272.350000  272.350000  100    240  49  mq  mq  101    9    30  mq  mq  mq  101710      mq   mq   -780   mq          mq   mq          mq  269.150000  mq  mq   3.400000   4.800000  -10       mq  0.000000        mq        mq   0.000000   0.000000   0.000000   0.000000   0.000000       mq       mq       mq       mq       0      0      mq      mq     mq      mq      mq     mq      mq      mq     mq      mq          NaN\n",
      "9        7139  20250202090000  102260   -20        8   20   1.800000  271.950000  271.850000   99   3640  10  mq  mq   mq    0    mq  mq  mq  mq  100420      mq   mq   -790   mq          mq   mq          mq  277.050000  mq  mq   2.800000   2.800000  -10        0  0.000000        mq        mq   0.000000   0.000000   0.000000   0.000000   0.000000       mq       mq       mq       mq      mq     mq      mq      mq     mq      mq      mq     mq      mq      mq     mq      mq          NaN\n",
      "10       7149  20250202090000  102370    30        0   60   0.800000  273.850000  271.950000   87   7800   0  mq  mq   mq    0    mq  mq  mq  mq  101230      mq   mq   -690   mq          mq   mq          mq          mq  mq  mq   1.700000   2.000000  -10       mq        mq        mq        mq   0.000000   0.000000   0.000000   0.000000   0.000000       mq       mq       mq       mq      mq     mq      mq      mq     mq      mq      mq     mq      mq      mq     mq      mq          NaN\n",
      "11       7168  20250202090000  102430     0        4  110   2.000000  272.450000  271.350000   92   8710   0  mq  mq   mq    0    mq  mq  mq  mq  100930      mq   mq   -590   mq          mq   mq          mq  270.150000  mq  mq   2.900000   2.900000  -10        1  0.000000        mq        mq   0.000000   0.000000   0.000000   0.000000   0.000000       mq       mq       mq       mq      mq     mq      mq      mq     mq      mq      mq     mq      mq      mq     mq      mq          NaN\n",
      "12       7181  20250202090000  102490    50        0  220   0.700000  273.550000  272.250000   91  10330   0  mq  mq   mq    0    mq  mq  mq  mq   98140      mq   mq   -490   mq          mq   mq          mq  267.650000  mq  mq   1.500000   1.700000  -10       mq        mq        mq        mq   0.000000   0.000000   0.000000   0.000000   0.000000       mq       mq       mq       mq      mq     mq      mq      mq     mq      mq      mq     mq      mq      mq     mq      mq          NaN\n",
      "13       7190  20250202090000  102570    80        0   20   1.700000  272.950000  271.550000   90   8880   0  mq  mq  100    8   800  mq  mq  mq  100660      mq   mq   -480   mq          mq   mq          mq  269.550000  mq  mq   2.700000   3.600000  -10        0  0.000000        mq        mq   0.000000   0.000000   0.000000   0.000000   0.000000       mq       mq       mq       mq       8     mq     660      mq     mq      mq      mq     mq      mq      mq     mq      mq          NaN\n",
      "14       7207  20250202090000      mq    mq       mq  140   9.900000  280.950000          mq   mq     mq  mq   2  mq   mq   mq    mq  mq  mq  mq      mq      mq   mq     mq   mq          mq   mq          mq          mq  mq  mq  16.900000  16.900000  -10       mq        mq        mq        mq   0.000000   0.000000   0.000000   0.000000   0.000000       mq       mq       mq       mq      mq     mq      mq      mq     mq      mq      mq     mq      mq      mq     mq      mq          NaN\n",
      "15       7222  20250202090000  102120    30        0   60   1.100000  270.150000  269.850000   98    800  49  mq  mq  101    9    30  mq  mq  mq  101790      mq   mq   -680   mq          mq   mq          mq  271.350000  mq  mq   1.800000   2.200000  -10       mq  0.000000        mq        mq   0.000000   0.000000   0.000000   0.000000   0.000000       mq       mq       mq       mq       0      0      mq      mq     mq      mq      mq     mq      mq      mq     mq      mq          NaN\n",
      "16       7240  20250202090000  102190   -30        8  100   3.000000  273.750000  272.750000   93   5710   0  mq  mq   mq    0    mq  mq  mq  mq  100780      mq   mq   -750   mq          mq   mq          mq  274.450000  mq  mq   4.600000   4.600000  -10        0  0.000000        mq        mq   0.000000   0.000000   0.400000   0.600000   1.000000       mq       mq       mq       mq      mq     mq      mq      mq     mq      mq      mq     mq      mq      mq     mq      mq          NaN\n",
      "17       7255  20250202090000  102300    20        2  100   3.200000  274.150000  273.150000   93   9320   0  mq  mq   mq   mq    mq  mq  mq  mq  100220      mq   mq   -610   mq          mq   mq          mq  273.250000  mq  mq   4.400000   4.400000  -10       mq  0.000000        mq        mq   0.000000   0.000000   0.000000   0.000000   0.000000       mq       mq       mq       mq      mq     mq      mq      mq     mq      mq      mq     mq      mq      mq     mq      mq          NaN\n",
      "18       7280  20250202090000  102400    10        0   30   0.600000  274.750000  272.950000   88   7800   0  mq  mq  100    8   450  mq  mq  mq   99650      mq   mq   -400   mq          mq   mq          mq  267.850000  mq  mq   1.600000   2.600000  -10        0  0.000000        mq        mq   0.000000   0.000000   0.000000   0.000000   0.000000       mq       mq       mq       mq       8     mq     480      mq     mq      mq      mq     mq      mq      mq     mq      mq          NaN\n",
      "19       7299  20250202090000  102440    30        0   90   3.700000  276.150000  273.350000   82  16210   0  mq  mq  100    8   450  mq  mq  mq   99060      mq   mq   -470   mq          mq   mq          mq  276.950000  mq  mq   5.700000   6.800000  -10        0  0.000000        mq        mq   0.000000   0.000000   0.000000   0.000000   0.000000       mq       mq       mq       mq       8     mq     450      mq     mq      mq      mq     mq      mq      mq     mq      mq          NaN\n",
      "20       7314  20250202090000  102110   -40        6  140   2.000000  276.250000  275.250000   93  10000   1   0  mq   10    1  2250  30  24  10  101820      mq   mq   -610   mq          mq   mq          mq          mq  mq  mq   3.100000   3.200000  -10        2        mq        mq        mq   0.000000   0.000000   0.000000   0.000000   0.000000       mq       mq       mq       mq       1      3    2100      mq     mq      mq      mq     mq      mq      mq     mq      mq          NaN\n",
      "21       7335  20250202090000  102190   -20        8  160   0.900000  272.350000  272.250000   99    190  49  mq  mq  101    9    30  mq  mq  mq  100670      mq   mq   -650   mq          mq   mq          mq  276.250000  mq  mq   1.700000   2.200000  -10        1  0.000000        mq        mq   0.000000   0.000000   0.000000   0.000000   0.000000       mq       mq       mq       mq       0      0      mq      mq     mq      mq      mq     mq      mq      mq     mq      mq          NaN\n",
      "22       7434  20250202090000  102220    20        2   30   2.200000  274.550000  273.050000   90  14400   0  mq  mq   mq    0    mq  mq  mq  mq   97260      mq   mq   -480   mq          mq   mq          mq  273.650000  mq  mq   2.700000   2.800000  -10       mq  0.000000        mq        mq   0.000000   0.000000   0.000000   0.000000   0.000000       mq       mq       mq       mq      mq     mq      mq      mq     mq      mq      mq     mq      mq      mq     mq      mq          NaN\n",
      "23       7460  20250202090000  102300   -10        8  160   2.900000  275.050000  272.750000   85  10870   0  mq  mq   mq    4   250  mq  mq  mq   98210      mq   mq   -490   mq          mq   mq          mq  273.350000  mq  mq   4.300000   5.900000  -10        0  0.000000        mq        mq   0.000000   0.000000   0.000000   0.000000         mq       mq       mq       mq       mq       4     mq     270      mq     mq      mq      mq     mq      mq      mq     mq      mq          NaN\n",
      "24       7471  20250202090000      mq    20        0  190   0.900000  269.850000  269.450000   97   3930  10  mq  mq  101    9    30  mq  mq  mq   92310   92500  817   -370   mq          mq   mq          mq  271.950000  mq  mq   1.600000   1.900000  -10        0  0.000000        mq        mq   0.000000   0.000000   0.000000   0.000000   0.000000       mq       mq       mq       mq       0      0      mq      mq     mq      mq      mq     mq      mq      mq     mq      mq          NaN\n",
      "25       7481  20250202090000  102330    30        0  360   1.400000  276.950000  274.350000   83  18000   3   2   2  100    8   800  35  mq  mq   99360      mq   mq   -370   mq          mq   mq          mq          mq  mq  mq   2.200000   3.000000  -10        0  0.000000  0.000000       -30   0.000000   0.000000   0.000000   0.000000   0.000000       mq       mq       mq       mq       8      6     630      mq     mq      mq      mq     mq      mq      mq     mq      mq          NaN\n",
      "26       7510  20250202090000  102150   -30        7  180   0.800000  274.150000  274.150000  100   2810  10  mq  mq  101    9    30  mq  mq  mq  101540      mq   mq   -460   mq          mq   mq          mq  271.850000  mq  mq   1.400000   3.400000  -10        1  0.000000        mq        mq   0.000000   0.000000   0.000000   0.000000   0.000000       mq       mq       mq       mq       0      0      mq      mq     mq      mq      mq     mq      mq      mq     mq      mq          NaN\n",
      "27       7535  20250202090000  102230     0        0   40   1.000000  274.850000  273.050000   88  19820   0  mq  mq   mq    0    mq  mq  mq  mq   98990      mq   mq   -350   mq          mq   mq          mq  274.450000  mq  mq   1.700000   2.200000  -10        0  0.000000        mq        mq   0.000000   0.000000   0.000000   0.000000   0.000000       mq       mq       mq       mq      mq     mq      mq      mq     mq      mq      mq     mq      mq      mq     mq      mq          NaN\n",
      "28       7558  20250202090000  102130    60        1  170   0.600000  274.950000  274.350000   96   1610  10  mq  mq   mq   mq    mq  mq  mq  mq   93570      mq   mq   -250   mq          mq   mq          mq  272.450000  mq  mq   1.500000   2.400000  -10       mq  0.000000        mq        mq   0.000000   0.000000  -0.100000  -0.100000  -0.100000       mq       mq       mq       mq      mq     mq      mq      mq     mq      mq      mq     mq      mq      mq     mq      mq          NaN\n",
      "29       7577  20250202090000  102200    40        0   10   3.900000  279.550000  275.250000   74  19820   0  mq  mq   mq   mq    mq  mq  mq  mq  101280      mq   mq   -320   mq          mq   mq          mq  276.450000  mq  mq   7.700000   7.700000  -10        0  0.000000        mq        mq   0.000000   0.000000   0.000000   0.000000   0.000000       mq       mq       mq       mq      mq     mq      mq      mq     mq      mq      mq     mq      mq      mq     mq      mq          NaN\n",
      "30       7591  20250202090000      mq    50        1   70   3.700000  280.750000  272.050000   54     mq  mq  mq  mq   mq   mq    mq  mq  mq  mq   91730   92500  805   -250   mq  278.550000   mq  284.550000          mq  mq  mq   8.800000   8.800000  -10       mq  0.000000        mq        mq   0.000000   0.000000   0.000000   0.000000   0.000000       mq       mq       mq       mq      mq     mq      mq      mq     mq      mq      mq     mq      mq      mq     mq      mq          NaN\n",
      "31       7607  20250202090000  102130   -60        8   90   1.600000  274.450000  274.450000  100  19410   0  mq  mq   mq    0    mq  mq  mq  mq  101390      mq   mq   -370   mq          mq   mq          mq  275.650000  mq  mq   2.600000   3.100000  -10       mq        mq        mq        mq   0.000000   0.000000   0.000000   0.000000   0.000000       mq       mq       mq       mq      mq     mq      mq      mq     mq      mq      mq     mq      mq      mq     mq      mq          NaN\n",
      "32       7621  20250202090000  102130   -40        8  130   1.000000  277.750000  275.650000   86  32860   0  mq  mq   mq    0    mq  mq  mq  mq   97690      mq   mq   -320   mq          mq   mq          mq  271.850000  mq  mq   2.200000   2.200000  -10       mq        mq        mq        mq   0.000000   0.000000   0.000000   0.000000  -0.100000       mq       mq       mq       mq      mq     mq      mq      mq     mq      mq      mq     mq      mq      mq     mq      mq          NaN\n",
      "33       7627  20250202090000  102240    20        8  200   0.600000  274.150000  274.150000  100  20000  28  mq  mq   10    0  6310  mq  mq  mq   97130      mq   mq   -250   mq  270.750000   mq  281.950000  273.850000  mq  mq   1.400000   1.600000  -10        0  0.000000        mq        mq   0.000000   0.000000   0.000000   0.000000         mq       mq       mq       mq       mq       1     mq    6310      mq     mq      mq      mq     mq      mq      mq     mq      mq          NaN\n",
      "34       7630  20250202090000  102210     0        0  200   1.900000  276.250000  274.650000   89  16730   0  mq  mq   mq    0    mq  mq  mq  mq  100340      mq   mq   -280   mq          mq   mq          mq  274.450000  mq  mq   2.900000   4.300000  -10        0  0.000000        mq        mq   0.000000   0.000000   0.000000   0.000000   0.000000       mq       mq       mq       mq      mq     mq      mq      mq     mq      mq      mq     mq      mq      mq     mq      mq          NaN\n",
      "35       7650  20250202090000  101930    20        3  350   1.200000  280.950000  279.450000   90  16400   0  mq  mq  100    8  1750  mq  mq  mq  101540      mq   mq   -290   mq          mq   mq          mq  280.850000  mq  mq   1.800000   2.700000  -10        2  0.000000        mq        mq   0.000000  -0.100000   0.600000   3.000000  11.600000       mq       mq       mq       mq       7     mq    1860       8     mq    2640      mq     mq      mq      mq     mq      mq          NaN\n",
      "36       7661  20250202090000      mq    mq       mq   60   5.400000          mq          mq   mq     mq  mq  mq  mq   mq   mq    mq  mq  mq  mq      mq      mq   mq     mq   mq          mq   mq          mq          mq  mq  mq   8.100000   8.700000  -10       mq        mq        mq        mq         mq         mq         mq         mq         mq       mq       mq       mq       mq      mq     mq      mq      mq     mq      mq      mq     mq      mq      mq     mq      mq          NaN\n",
      "37       7690  20250202090000  101830    50        3  330   6.400000  282.950000  277.950000   71  50000   2   2   2   90    0    mq  30  20  12  101510      mq   mq   -460   mq          mq   mq          mq  280.950000  mq  mq   9.800000   9.800000  -10        1  0.000000        mq        mq   0.000000   0.000000  -0.100000  -0.100000   1.600000       mq       mq       mq       mq       7      0    8000      mq     mq      mq      mq     mq      mq      mq     mq      mq          NaN\n",
      "38       7747  20250202090000  102020    10        2  300   3.900000  282.050000  274.950000   61  60000   0  mq  mq   mq    1  1250  mq  mq  mq  101480      mq   mq   -390   mq          mq   mq          mq  279.350000  mq  mq   6.100000   7.000000  -10        0  0.000000        mq        mq   0.000000   0.000000   0.000000   0.600000   1.400000       mq       mq       mq       mq       1     mq    1440       3     mq    2460      mq     mq      mq      mq     mq      mq          NaN\n",
      "39       7761  20250202090000  101490   -40        7  270   0.500000  282.950000  281.550000   91  33610   0  mq  mq   75    6  2250  mq  mq  mq  101380      mq   mq   -740   mq          mq   mq          mq  280.050000  mq  mq   0.800000   2.400000  -10       mq  0.000000        mq        mq   0.000000   0.000000   0.000000   0.000000   0.600000       mq       mq       mq       mq       1     mq    2160       6     mq    2880      mq     mq      mq      mq     mq      mq          NaN\n",
      "40       7790  20250202090000  101740   -10        8  230   1.100000  283.350000  282.750000   96  22370   0  mq  mq   mq    1  1250  mq  mq  mq  101590      mq   mq   -470   mq          mq   mq          mq  282.950000  mq  mq   1.700000   2.000000  -10       mq  0.000000        mq        mq   0.000000   0.000000   0.000000   0.200000   6.400000       mq       mq       mq       mq       1     mq    1170       5     mq    7320      mq     mq      mq      mq     mq      mq          NaN\n",
      "41      61968  20250202090000  100900   100        6  290   7.600000          mq          mq   mq     mq  mq  mq  mq   mq   mq    mq  mq  mq  mq  100850      mq   mq     20   mq          mq   mq          mq          mq  mq  mq         mq  11.300000  -10       mq        mq        mq        mq   0.000000   0.000000   0.000000   0.000000   0.000000       mq       mq       mq       mq      mq     mq      mq      mq     mq      mq      mq     mq      mq      mq     mq      mq          NaN\n",
      "42      61970  20250202090000  100810    80        8  260   2.100000  306.950000  298.950000   63     mq  mq  mq  mq   mq   mq    mq  mq  mq  mq  100700      mq   mq    -50   mq  300.550000   mq  307.150000          mq  mq  mq         mq   3.800000  -10       mq        mq        mq        mq   0.000000   0.000000   0.000000   0.000000   0.000000       mq       mq       mq       mq      mq     mq      mq      mq     mq      mq      mq     mq      mq      mq     mq      mq          NaN\n",
      "43      61972  20250202090000  100940    70        7  150   5.800000  304.250000  296.850000   65     mq  mq  mq  mq   mq   mq    mq  mq  mq  mq  100870      mq   mq     70   mq  299.550000   mq  304.950000          mq  mq  mq         mq  10.500000  -10       mq        mq        mq        mq   0.000000   0.000000   0.000000   0.000000   0.000000       mq       mq       mq       mq      mq     mq      mq      mq     mq      mq      mq     mq      mq      mq     mq      mq          NaN\n",
      "44      61976  20250202090000  100560    30        8   mq         mq  301.450000  298.250000   83     mq  mq  mq  mq   mq   mq    mq  mq  mq  mq  100470      mq   mq   -130   mq  299.850000   mq  306.250000          mq  mq  mq         mq         mq  -10       mq        mq        mq        mq   0.000000   0.000000   9.600000  10.600000  10.600000       mq       mq       mq       mq      mq     mq      mq      mq     mq      mq      mq     mq      mq      mq     mq      mq          NaN\n",
      "45      61980  20250202090000  100320  -210        6  110  12.500000  306.650000  297.550000   59  19190   0  mq  mq   mq    0    mq  mq  mq  mq  100180      mq   mq   -340   mq          mq   mq          mq          mq  mq  mq  17.700000  20.000000  -10       mq        mq        mq        mq   0.000000   0.200000   0.400000   0.400000   0.400000       mq       mq       mq       mq      mq     mq      mq      mq     mq      mq      mq     mq      mq      mq     mq      mq          NaN\n",
      "46      61996  20250202090000  101330   180        8  330   6.900000  295.950000  290.150000   70     mq  mq  mq  mq   mq   mq    mq  mq  mq  mq  100990      mq   mq   -630   mq  287.650000   mq  296.950000          mq  mq  mq         mq   9.800000  -10       mq        mq        mq        mq   0.000000   0.000000   0.000000   0.000000   0.000000       mq       mq       mq       mq      mq     mq      mq      mq     mq      mq      mq     mq      mq      mq     mq      mq          NaN\n",
      "47      61997  20250202090000   99230   350        3  220  17.500000  280.050000  279.650000   97     mq  mq  mq  mq   mq   mq    mq  mq  mq  mq   97490      mq   mq   -540   mq  277.750000   mq  285.150000          mq  mq  mq         mq  28.700000  -10       mq        mq        mq        mq   0.000000   0.200000   0.800000   1.600000  14.400000       mq       mq       mq       mq      mq     mq      mq      mq     mq      mq      mq     mq      mq      mq     mq      mq          NaN\n",
      "48      61998  20250202090000   98250  -860        6  110  17.500000  278.550000  278.250000   98     mq  mq  mq  mq   mq   mq    mq  mq  mq  mq   97890      mq   mq     mq   mq          mq   mq          mq          mq  mq  mq         mq  25.200000  -10       mq        mq        mq        mq   4.000000  11.000000         mq         mq         mq       mq       mq       mq       mq      mq     mq      mq      mq     mq      mq      mq     mq      mq      mq     mq      mq          NaN\n",
      "49      67005  20250202090000  100970   -30        8  270   5.800000  298.850000  296.550000   87  20000  61  mq  mq  100    8  1750  mq  mq  mq  100890      mq   mq    110   mq          mq   mq          mq          mq  mq  mq   7.600000  11.200000  -10       mq        mq        mq        mq   0.400000  51.200000  54.200000  54.200000  62.500000       mq       mq       mq       mq       8     mq    1620      mq     mq      mq      mq     mq      mq      mq     mq      mq          NaN\n",
      "50      71805  20250202090000  101280   460        3  340   7.800000  266.050000  260.950000   67  41940   0  mq  mq  100    8   800  mq  mq  mq  101190      mq   mq   1040   mq          mq   mq          mq  273.050000  mq  mq  11.600000  12.900000  -10       mq        mq        mq        mq   0.000000  -0.100000  -0.100000  -0.100000  -0.100000       mq       mq       mq       mq       8     mq     930      mq     mq      mq      mq     mq      mq      mq     mq      mq          NaN\n",
      "51      78890  20250202090000  101450    70        5   80  11.200000  298.950000  294.650000   77     mq  mq  mq  mq   mq   mq    mq  mq  mq  mq  101130      mq   mq   -100   mq  296.050000   mq  302.050000          mq  mq  mq         mq  14.300000  -10       mq        mq        mq        mq   0.000000   0.600000   4.000000   4.200000   4.200000       mq       mq       mq       mq      mq     mq      mq      mq     mq      mq      mq     mq      mq      mq     mq      mq          NaN\n",
      "52      78897  20250202090000  101470   -70        5  230   0.800000  296.250000  294.150000   88  22550  mq  mq  mq   mq   mq    mq  mq  mq  mq  101380      mq   mq   -100   mq          mq   mq          mq          mq  mq  mq         mq         mq   mq       mq        mq        mq        mq   0.000000   0.000000   1.200000   1.200000   1.400000       mq       mq       mq       mq      mq     mq      mq      mq     mq      mq      mq     mq      mq      mq     mq      mq          NaN\n",
      "53      78922  20250202090000  101460     0        5   90   6.500000  295.350000  293.950000   92     mq  mq  mq  mq   mq   mq    mq  mq  mq  mq  101010      mq   mq    -60   mq  295.250000   mq  301.850000          mq  mq  mq  11.100000  15.700000  -10       mq        mq        mq        mq   0.600000   3.000000   5.600000   5.600000   5.600000       mq       mq       mq       mq      mq     mq      mq      mq     mq      mq      mq     mq      mq      mq     mq      mq          NaN\n",
      "54      78925  20250202090000  101400   -10        5   40   1.500000  296.650000  295.050000   91  33880   0  mq  mq  100    8   800  mq  mq  mq  101310      mq   mq    -50   mq          mq   mq          mq          mq  mq  mq   4.200000   4.600000  -10       mq        mq        mq        mq  -0.100000   1.400000   1.400000   1.600000   1.600000       mq       mq       mq       mq       7     mq     810       7     mq    1020       8     mq    1230      mq     mq      mq          NaN\n",
      "55      81401  20250202090000  101040    60        3  140   1.300000  296.250000  295.550000   96     mq  mq  mq  mq   mq   mq    mq  mq  mq  mq  100980      mq   mq    -80   mq  295.150000   mq  304.950000          mq  mq  mq   2.500000   3.100000  -10       mq        mq        mq        mq   0.400000   0.400000   0.600000   0.600000   0.600000       mq       mq       mq       mq      mq     mq      mq      mq     mq      mq      mq     mq      mq      mq     mq      mq          NaN\n",
      "56      81405  20250202090000  101000    20        3  220   0.900000  297.650000  296.750000   95   8820   0  mq  mq  100    7   800  mq  mq  mq  100910      mq   mq   -130   mq          mq   mq          mq  299.050000  mq  mq   1.600000   2.000000  -10       mq        mq        mq        mq   0.000000  -0.100000  -0.100000   2.400000   2.400000       mq       mq       mq       mq       5     mq     720       6     mq     930       7     mq    1110      mq     mq      mq          NaN\n",
      "57      81408  20250202090000  100950    30        3  330   0.700000  297.050000  296.750000   98     mq  mq  mq  mq   mq   mq    mq  mq  mq  mq  100870      mq   mq   -110   mq  295.150000   mq  304.950000          mq  mq  mq   2.000000   2.000000  -10       mq        mq        mq        mq   0.200000   1.800000   3.200000   3.200000   3.400000       mq       mq       mq       mq      mq     mq      mq      mq     mq      mq      mq     mq      mq      mq     mq      mq          NaN\n",
      "58      81415  20250202090000  101110    40        3  250   0.900000  295.750000  294.950000   95     mq  mq  mq  mq   mq   mq    mq  mq  mq  mq   99880      mq   mq   -110   mq          mq   mq          mq          mq  mq  mq   1.500000   1.500000  -10       mq        mq        mq        mq   0.000000   0.000000   0.000000         mq         mq       mq       mq       mq       mq      mq     mq      mq      mq     mq      mq      mq     mq      mq      mq     mq      mq          NaN\n",
      "59      89642  20250202090000   98500    60        3  280   4.100000  273.850000  269.150000   71  30000   2   1   1    0   mq    mq  mq  mq  mq   97970      mq   mq     mq   mq          mq   mq          mq          mq  mq  mq         mq         mq   mq       mq        mq        mq        mq         mq         mq         mq         mq         mq       mq       mq       mq       mq      mq     mq      mq      mq     mq      mq      mq     mq      mq      mq     mq      mq          NaN\n"
     ]
    }
   ],
   "source": [
    "import pandas as pd\n",
    "import numpy as np\n",
    "df = pd.read_csv(cvs_file, sep=\";\", dtype={\"date\": str})\n",
    "\n",
    "print(df.to_string())"
   ]
  },
  {
   "cell_type": "markdown",
   "metadata": {},
   "source": [
    "# Récupération des informations importantes à savoir :\n",
    "1. Indicatif OMM station : numéro de station `numer_sta` -> `int`\n",
    "2. Date (UTC) : `date` -> `datetime`\n",
    "3. Pression au niveau mer : `pmer` -> `int`\n",
    "4. Variation de pression en 3 heures : `tend` -> `int`\n",
    "5. Type de tendance barométrique : `cod_tend` -> `int`\n",
    "6. Direction du vent moyen 10 mn : `dd` -> `int`\n",
    "7. Vitesse du vent moyen 10 mn : `ff` -> `float`\n",
    "8. Température : `t` -> `float`\n",
    "9. Point de rosée : `td` -> `float`\n",
    "10. Humidité : `u` -> `int`\n",
    "11. Visibilité horizontale : `vv` -> `float`\n",
    "12. Temps présent : `ww` -> `int`\n",
    "13. Nébulosité totale : `n` -> `float`\n",
    "14. Nébulosité des nuages de l'étage inférieur : `nbas` -> `int`\n",
    "15. Hauteur de la base des nuages de l'étage inférieur : `hbas` -> `int`\n",
    "16. Pression station : `pres` -> `int`\n",
    "17. Variation de pression en 24 heures : `tend24` -> `int`\n",
    "18. Température minimale sur N heures : `tn12` -> `float`\n",
    "19. Température maximale sur N heures : `tx12` -> `float`\n",
    "20. Température minimale du sol sur 12 heures : `tminsol` -> `float`\n",
    "21. Rafales sur les 10 dernières minutes : `raf10` -> `float`\n",
    "22. Rafales sur une période : `rafper` -> `float`\n",
    "23. Période de mesure des rafales : `per` -> `float`\n",
    "24. Précipitations dans les N dernières heures : `rr12` -> `float`"
   ]
  },
  {
   "cell_type": "code",
   "execution_count": 8,
   "metadata": {
    "execution": {
     "iopub.execute_input": "2025-02-02T10:05:13.540789Z",
     "iopub.status.busy": "2025-02-02T10:05:13.540529Z",
     "iopub.status.idle": "2025-02-02T10:05:13.555384Z",
     "shell.execute_reply": "2025-02-02T10:05:13.554772Z"
    }
   },
   "outputs": [
    {
     "name": "stdout",
     "output_type": "stream",
     "text": [
      "    numer_sta            date    pmer  tend cod_tend   dd         ff           t          td    u     vv  ww    n nbas  hbas    pres tend24 tn12 tx12     tminsol      raf10     rafper  per       rr12\n",
      "0        7005  20250202090000  102380    20        2  120   2.100000  273.150000  271.550000   89  13180   0   mq   mq    mq  101470   -790   mq   mq  271.950000   4.600000   4.600000  -10   0.000000\n",
      "1        7015  20250202090000  102450     0        5  110   2.100000  272.450000  271.850000   96   5980   0   mq    0    mq  101850   -780   mq   mq  269.750000   2.600000   2.600000  -10   0.000000\n",
      "2        7020  20250202090000  102040   -10        8  170   4.600000  276.850000  275.350000   90  15000   1   10    1   450  101930   -820   mq   mq          mq   7.000000   7.400000  -10   0.000000\n",
      "3        7027  20250202090000  102210   -10        5  150   1.800000  273.050000  272.350000   95   3200  10   mq    0    mq  101360   -780   mq   mq  275.450000   2.500000   5.800000  -10   0.000000\n",
      "4        7037  20250202090000  102330    20        0  120   2.500000  272.950000  271.850000   92   6720   0   mq    0    mq  100350   -800   mq   mq  273.750000   3.700000   4.100000  -10   0.000000\n",
      "5        7072  20250202090000  102460    20        2  110   1.500000  272.450000  271.050000   90  13450   0   mq    0    mq  101250   -670   mq   mq  272.550000   2.300000   2.600000  -10   0.000000\n",
      "6        7110  20250202090000  101730    30        3  150   7.200000  279.250000  278.050000   92  19590   0  100    8   250  100520  -1130   mq   mq  277.650000  10.600000  11.700000  -10   0.000000\n",
      "7        7117  20250202090000  101830   -60        6  100   3.300000  276.850000  275.250000   89  20000   1   40    3  1250  101110   -990   mq   mq          mq   7.000000   7.900000  -10   0.000000\n",
      "8        7130  20250202090000  102180    60        3  120   2.300000  272.350000  272.350000  100    240  49  101    9    30  101710   -780   mq   mq  269.150000   3.400000   4.800000  -10   0.000000\n",
      "9        7139  20250202090000  102260   -20        8   20   1.800000  271.950000  271.850000   99   3640  10   mq    0    mq  100420   -790   mq   mq  277.050000   2.800000   2.800000  -10   0.000000\n",
      "10       7149  20250202090000  102370    30        0   60   0.800000  273.850000  271.950000   87   7800   0   mq    0    mq  101230   -690   mq   mq          mq   1.700000   2.000000  -10   0.000000\n",
      "11       7168  20250202090000  102430     0        4  110   2.000000  272.450000  271.350000   92   8710   0   mq    0    mq  100930   -590   mq   mq  270.150000   2.900000   2.900000  -10   0.000000\n",
      "12       7181  20250202090000  102490    50        0  220   0.700000  273.550000  272.250000   91  10330   0   mq    0    mq   98140   -490   mq   mq  267.650000   1.500000   1.700000  -10   0.000000\n",
      "13       7190  20250202090000  102570    80        0   20   1.700000  272.950000  271.550000   90   8880   0  100    8   800  100660   -480   mq   mq  269.550000   2.700000   3.600000  -10   0.000000\n",
      "14       7207  20250202090000      mq    mq       mq  140   9.900000  280.950000          mq   mq     mq  mq   mq   mq    mq      mq     mq   mq   mq          mq  16.900000  16.900000  -10   0.000000\n",
      "15       7222  20250202090000  102120    30        0   60   1.100000  270.150000  269.850000   98    800  49  101    9    30  101790   -680   mq   mq  271.350000   1.800000   2.200000  -10   0.000000\n",
      "16       7240  20250202090000  102190   -30        8  100   3.000000  273.750000  272.750000   93   5710   0   mq    0    mq  100780   -750   mq   mq  274.450000   4.600000   4.600000  -10   0.600000\n",
      "17       7255  20250202090000  102300    20        2  100   3.200000  274.150000  273.150000   93   9320   0   mq   mq    mq  100220   -610   mq   mq  273.250000   4.400000   4.400000  -10   0.000000\n",
      "18       7280  20250202090000  102400    10        0   30   0.600000  274.750000  272.950000   88   7800   0  100    8   450   99650   -400   mq   mq  267.850000   1.600000   2.600000  -10   0.000000\n",
      "19       7299  20250202090000  102440    30        0   90   3.700000  276.150000  273.350000   82  16210   0  100    8   450   99060   -470   mq   mq  276.950000   5.700000   6.800000  -10   0.000000\n",
      "20       7314  20250202090000  102110   -40        6  140   2.000000  276.250000  275.250000   93  10000   1   10    1  2250  101820   -610   mq   mq          mq   3.100000   3.200000  -10   0.000000\n",
      "21       7335  20250202090000  102190   -20        8  160   0.900000  272.350000  272.250000   99    190  49  101    9    30  100670   -650   mq   mq  276.250000   1.700000   2.200000  -10   0.000000\n",
      "22       7434  20250202090000  102220    20        2   30   2.200000  274.550000  273.050000   90  14400   0   mq    0    mq   97260   -480   mq   mq  273.650000   2.700000   2.800000  -10   0.000000\n",
      "23       7460  20250202090000  102300   -10        8  160   2.900000  275.050000  272.750000   85  10870   0   mq    4   250   98210   -490   mq   mq  273.350000   4.300000   5.900000  -10   0.000000\n",
      "24       7471  20250202090000      mq    20        0  190   0.900000  269.850000  269.450000   97   3930  10  101    9    30   92310   -370   mq   mq  271.950000   1.600000   1.900000  -10   0.000000\n",
      "25       7481  20250202090000  102330    30        0  360   1.400000  276.950000  274.350000   83  18000   3  100    8   800   99360   -370   mq   mq          mq   2.200000   3.000000  -10   0.000000\n",
      "26       7510  20250202090000  102150   -30        7  180   0.800000  274.150000  274.150000  100   2810  10  101    9    30  101540   -460   mq   mq  271.850000   1.400000   3.400000  -10   0.000000\n",
      "27       7535  20250202090000  102230     0        0   40   1.000000  274.850000  273.050000   88  19820   0   mq    0    mq   98990   -350   mq   mq  274.450000   1.700000   2.200000  -10   0.000000\n",
      "28       7558  20250202090000  102130    60        1  170   0.600000  274.950000  274.350000   96   1610  10   mq   mq    mq   93570   -250   mq   mq  272.450000   1.500000   2.400000  -10  -0.100000\n",
      "29       7577  20250202090000  102200    40        0   10   3.900000  279.550000  275.250000   74  19820   0   mq   mq    mq  101280   -320   mq   mq  276.450000   7.700000   7.700000  -10   0.000000\n",
      "30       7591  20250202090000      mq    50        1   70   3.700000  280.750000  272.050000   54     mq  mq   mq   mq    mq   91730   -250   mq   mq          mq   8.800000   8.800000  -10   0.000000\n",
      "31       7607  20250202090000  102130   -60        8   90   1.600000  274.450000  274.450000  100  19410   0   mq    0    mq  101390   -370   mq   mq  275.650000   2.600000   3.100000  -10   0.000000\n",
      "32       7621  20250202090000  102130   -40        8  130   1.000000  277.750000  275.650000   86  32860   0   mq    0    mq   97690   -320   mq   mq  271.850000   2.200000   2.200000  -10   0.000000\n",
      "33       7627  20250202090000  102240    20        8  200   0.600000  274.150000  274.150000  100  20000  28   10    0  6310   97130   -250   mq   mq  273.850000   1.400000   1.600000  -10   0.000000\n",
      "34       7630  20250202090000  102210     0        0  200   1.900000  276.250000  274.650000   89  16730   0   mq    0    mq  100340   -280   mq   mq  274.450000   2.900000   4.300000  -10   0.000000\n",
      "35       7650  20250202090000  101930    20        3  350   1.200000  280.950000  279.450000   90  16400   0  100    8  1750  101540   -290   mq   mq  280.850000   1.800000   2.700000  -10   3.000000\n",
      "36       7661  20250202090000      mq    mq       mq   60   5.400000          mq          mq   mq     mq  mq   mq   mq    mq      mq     mq   mq   mq          mq   8.100000   8.700000  -10         mq\n",
      "37       7690  20250202090000  101830    50        3  330   6.400000  282.950000  277.950000   71  50000   2   90    0    mq  101510   -460   mq   mq  280.950000   9.800000   9.800000  -10  -0.100000\n",
      "38       7747  20250202090000  102020    10        2  300   3.900000  282.050000  274.950000   61  60000   0   mq    1  1250  101480   -390   mq   mq  279.350000   6.100000   7.000000  -10   0.600000\n",
      "39       7761  20250202090000  101490   -40        7  270   0.500000  282.950000  281.550000   91  33610   0   75    6  2250  101380   -740   mq   mq  280.050000   0.800000   2.400000  -10   0.000000\n",
      "40       7790  20250202090000  101740   -10        8  230   1.100000  283.350000  282.750000   96  22370   0   mq    1  1250  101590   -470   mq   mq  282.950000   1.700000   2.000000  -10   0.200000\n",
      "41      61968  20250202090000  100900   100        6  290   7.600000          mq          mq   mq     mq  mq   mq   mq    mq  100850     20   mq   mq          mq         mq  11.300000  -10   0.000000\n",
      "42      61970  20250202090000  100810    80        8  260   2.100000  306.950000  298.950000   63     mq  mq   mq   mq    mq  100700    -50   mq   mq          mq         mq   3.800000  -10   0.000000\n",
      "43      61972  20250202090000  100940    70        7  150   5.800000  304.250000  296.850000   65     mq  mq   mq   mq    mq  100870     70   mq   mq          mq         mq  10.500000  -10   0.000000\n",
      "44      61976  20250202090000  100560    30        8   mq         mq  301.450000  298.250000   83     mq  mq   mq   mq    mq  100470   -130   mq   mq          mq         mq         mq  -10  10.600000\n",
      "45      61980  20250202090000  100320  -210        6  110  12.500000  306.650000  297.550000   59  19190   0   mq    0    mq  100180   -340   mq   mq          mq  17.700000  20.000000  -10   0.400000\n",
      "46      61996  20250202090000  101330   180        8  330   6.900000  295.950000  290.150000   70     mq  mq   mq   mq    mq  100990   -630   mq   mq          mq         mq   9.800000  -10   0.000000\n",
      "47      61997  20250202090000   99230   350        3  220  17.500000  280.050000  279.650000   97     mq  mq   mq   mq    mq   97490   -540   mq   mq          mq         mq  28.700000  -10   1.600000\n",
      "48      61998  20250202090000   98250  -860        6  110  17.500000  278.550000  278.250000   98     mq  mq   mq   mq    mq   97890     mq   mq   mq          mq         mq  25.200000  -10         mq\n",
      "49      67005  20250202090000  100970   -30        8  270   5.800000  298.850000  296.550000   87  20000  61  100    8  1750  100890    110   mq   mq          mq   7.600000  11.200000  -10  54.200000\n",
      "50      71805  20250202090000  101280   460        3  340   7.800000  266.050000  260.950000   67  41940   0  100    8   800  101190   1040   mq   mq  273.050000  11.600000  12.900000  -10  -0.100000\n",
      "51      78890  20250202090000  101450    70        5   80  11.200000  298.950000  294.650000   77     mq  mq   mq   mq    mq  101130   -100   mq   mq          mq         mq  14.300000  -10   4.200000\n",
      "52      78897  20250202090000  101470   -70        5  230   0.800000  296.250000  294.150000   88  22550  mq   mq   mq    mq  101380   -100   mq   mq          mq         mq         mq   mq   1.200000\n",
      "53      78922  20250202090000  101460     0        5   90   6.500000  295.350000  293.950000   92     mq  mq   mq   mq    mq  101010    -60   mq   mq          mq  11.100000  15.700000  -10   5.600000\n",
      "54      78925  20250202090000  101400   -10        5   40   1.500000  296.650000  295.050000   91  33880   0  100    8   800  101310    -50   mq   mq          mq   4.200000   4.600000  -10   1.600000\n",
      "55      81401  20250202090000  101040    60        3  140   1.300000  296.250000  295.550000   96     mq  mq   mq   mq    mq  100980    -80   mq   mq          mq   2.500000   3.100000  -10   0.600000\n",
      "56      81405  20250202090000  101000    20        3  220   0.900000  297.650000  296.750000   95   8820   0  100    7   800  100910   -130   mq   mq  299.050000   1.600000   2.000000  -10   2.400000\n",
      "57      81408  20250202090000  100950    30        3  330   0.700000  297.050000  296.750000   98     mq  mq   mq   mq    mq  100870   -110   mq   mq          mq   2.000000   2.000000  -10   3.200000\n",
      "58      81415  20250202090000  101110    40        3  250   0.900000  295.750000  294.950000   95     mq  mq   mq   mq    mq   99880   -110   mq   mq          mq   1.500000   1.500000  -10         mq\n",
      "59      89642  20250202090000   98500    60        3  280   4.100000  273.850000  269.150000   71  30000   2    0   mq    mq   97970     mq   mq   mq          mq         mq         mq   mq         mq\n"
     ]
    }
   ],
   "source": [
    "df = df[['numer_sta', 'date', \"pmer\", \"tend\", \"cod_tend\", \"dd\", \"ff\", \"t\", \"td\", \"u\", \"vv\", \"ww\", \"n\", \"nbas\", \"hbas\",\"pres\", \"tend24\", \"tn12\", \"tx12\", \"tminsol\", \"raf10\", \"rafper\", \"per\", \"rr12\" ]]\n",
    "\n",
    "\n",
    "print(df.to_string())\n"
   ]
  },
  {
   "cell_type": "markdown",
   "metadata": {},
   "source": [
    "## Remplacer les valeurs manquantes `mq` par `NaN`"
   ]
  },
  {
   "cell_type": "code",
   "execution_count": 9,
   "metadata": {
    "execution": {
     "iopub.execute_input": "2025-02-02T10:05:13.557528Z",
     "iopub.status.busy": "2025-02-02T10:05:13.557313Z",
     "iopub.status.idle": "2025-02-02T10:05:13.571891Z",
     "shell.execute_reply": "2025-02-02T10:05:13.571333Z"
    }
   },
   "outputs": [
    {
     "name": "stdout",
     "output_type": "stream",
     "text": [
      "    numer_sta            date    pmer  tend cod_tend   dd         ff           t          td    u     vv   ww    n nbas  hbas    pres tend24  tn12  tx12     tminsol      raf10     rafper  per       rr12\n",
      "0        7005  20250202090000  102380    20        2  120   2.100000  273.150000  271.550000   89  13180    0  NaN  NaN   NaN  101470   -790   NaN   NaN  271.950000   4.600000   4.600000  -10   0.000000\n",
      "1        7015  20250202090000  102450     0        5  110   2.100000  272.450000  271.850000   96   5980    0  NaN    0   NaN  101850   -780   NaN   NaN  269.750000   2.600000   2.600000  -10   0.000000\n",
      "2        7020  20250202090000  102040   -10        8  170   4.600000  276.850000  275.350000   90  15000    1   10    1   450  101930   -820   NaN   NaN         NaN   7.000000   7.400000  -10   0.000000\n",
      "3        7027  20250202090000  102210   -10        5  150   1.800000  273.050000  272.350000   95   3200   10  NaN    0   NaN  101360   -780   NaN   NaN  275.450000   2.500000   5.800000  -10   0.000000\n",
      "4        7037  20250202090000  102330    20        0  120   2.500000  272.950000  271.850000   92   6720    0  NaN    0   NaN  100350   -800   NaN   NaN  273.750000   3.700000   4.100000  -10   0.000000\n",
      "5        7072  20250202090000  102460    20        2  110   1.500000  272.450000  271.050000   90  13450    0  NaN    0   NaN  101250   -670   NaN   NaN  272.550000   2.300000   2.600000  -10   0.000000\n",
      "6        7110  20250202090000  101730    30        3  150   7.200000  279.250000  278.050000   92  19590    0  100    8   250  100520  -1130   NaN   NaN  277.650000  10.600000  11.700000  -10   0.000000\n",
      "7        7117  20250202090000  101830   -60        6  100   3.300000  276.850000  275.250000   89  20000    1   40    3  1250  101110   -990   NaN   NaN         NaN   7.000000   7.900000  -10   0.000000\n",
      "8        7130  20250202090000  102180    60        3  120   2.300000  272.350000  272.350000  100    240   49  101    9    30  101710   -780   NaN   NaN  269.150000   3.400000   4.800000  -10   0.000000\n",
      "9        7139  20250202090000  102260   -20        8   20   1.800000  271.950000  271.850000   99   3640   10  NaN    0   NaN  100420   -790   NaN   NaN  277.050000   2.800000   2.800000  -10   0.000000\n",
      "10       7149  20250202090000  102370    30        0   60   0.800000  273.850000  271.950000   87   7800    0  NaN    0   NaN  101230   -690   NaN   NaN         NaN   1.700000   2.000000  -10   0.000000\n",
      "11       7168  20250202090000  102430     0        4  110   2.000000  272.450000  271.350000   92   8710    0  NaN    0   NaN  100930   -590   NaN   NaN  270.150000   2.900000   2.900000  -10   0.000000\n",
      "12       7181  20250202090000  102490    50        0  220   0.700000  273.550000  272.250000   91  10330    0  NaN    0   NaN   98140   -490   NaN   NaN  267.650000   1.500000   1.700000  -10   0.000000\n",
      "13       7190  20250202090000  102570    80        0   20   1.700000  272.950000  271.550000   90   8880    0  100    8   800  100660   -480   NaN   NaN  269.550000   2.700000   3.600000  -10   0.000000\n",
      "14       7207  20250202090000     NaN   NaN      NaN  140   9.900000  280.950000         NaN  NaN    NaN  NaN  NaN  NaN   NaN     NaN    NaN   NaN   NaN         NaN  16.900000  16.900000  -10   0.000000\n",
      "15       7222  20250202090000  102120    30        0   60   1.100000  270.150000  269.850000   98    800   49  101    9    30  101790   -680   NaN   NaN  271.350000   1.800000   2.200000  -10   0.000000\n",
      "16       7240  20250202090000  102190   -30        8  100   3.000000  273.750000  272.750000   93   5710    0  NaN    0   NaN  100780   -750   NaN   NaN  274.450000   4.600000   4.600000  -10   0.600000\n",
      "17       7255  20250202090000  102300    20        2  100   3.200000  274.150000  273.150000   93   9320    0  NaN  NaN   NaN  100220   -610   NaN   NaN  273.250000   4.400000   4.400000  -10   0.000000\n",
      "18       7280  20250202090000  102400    10        0   30   0.600000  274.750000  272.950000   88   7800    0  100    8   450   99650   -400   NaN   NaN  267.850000   1.600000   2.600000  -10   0.000000\n",
      "19       7299  20250202090000  102440    30        0   90   3.700000  276.150000  273.350000   82  16210    0  100    8   450   99060   -470   NaN   NaN  276.950000   5.700000   6.800000  -10   0.000000\n",
      "20       7314  20250202090000  102110   -40        6  140   2.000000  276.250000  275.250000   93  10000    1   10    1  2250  101820   -610   NaN   NaN         NaN   3.100000   3.200000  -10   0.000000\n",
      "21       7335  20250202090000  102190   -20        8  160   0.900000  272.350000  272.250000   99    190   49  101    9    30  100670   -650   NaN   NaN  276.250000   1.700000   2.200000  -10   0.000000\n",
      "22       7434  20250202090000  102220    20        2   30   2.200000  274.550000  273.050000   90  14400    0  NaN    0   NaN   97260   -480   NaN   NaN  273.650000   2.700000   2.800000  -10   0.000000\n",
      "23       7460  20250202090000  102300   -10        8  160   2.900000  275.050000  272.750000   85  10870    0  NaN    4   250   98210   -490   NaN   NaN  273.350000   4.300000   5.900000  -10   0.000000\n",
      "24       7471  20250202090000     NaN    20        0  190   0.900000  269.850000  269.450000   97   3930   10  101    9    30   92310   -370   NaN   NaN  271.950000   1.600000   1.900000  -10   0.000000\n",
      "25       7481  20250202090000  102330    30        0  360   1.400000  276.950000  274.350000   83  18000    3  100    8   800   99360   -370   NaN   NaN         NaN   2.200000   3.000000  -10   0.000000\n",
      "26       7510  20250202090000  102150   -30        7  180   0.800000  274.150000  274.150000  100   2810   10  101    9    30  101540   -460   NaN   NaN  271.850000   1.400000   3.400000  -10   0.000000\n",
      "27       7535  20250202090000  102230     0        0   40   1.000000  274.850000  273.050000   88  19820    0  NaN    0   NaN   98990   -350   NaN   NaN  274.450000   1.700000   2.200000  -10   0.000000\n",
      "28       7558  20250202090000  102130    60        1  170   0.600000  274.950000  274.350000   96   1610   10  NaN  NaN   NaN   93570   -250   NaN   NaN  272.450000   1.500000   2.400000  -10  -0.100000\n",
      "29       7577  20250202090000  102200    40        0   10   3.900000  279.550000  275.250000   74  19820    0  NaN  NaN   NaN  101280   -320   NaN   NaN  276.450000   7.700000   7.700000  -10   0.000000\n",
      "30       7591  20250202090000     NaN    50        1   70   3.700000  280.750000  272.050000   54    NaN  NaN  NaN  NaN   NaN   91730   -250   NaN   NaN         NaN   8.800000   8.800000  -10   0.000000\n",
      "31       7607  20250202090000  102130   -60        8   90   1.600000  274.450000  274.450000  100  19410    0  NaN    0   NaN  101390   -370   NaN   NaN  275.650000   2.600000   3.100000  -10   0.000000\n",
      "32       7621  20250202090000  102130   -40        8  130   1.000000  277.750000  275.650000   86  32860    0  NaN    0   NaN   97690   -320   NaN   NaN  271.850000   2.200000   2.200000  -10   0.000000\n",
      "33       7627  20250202090000  102240    20        8  200   0.600000  274.150000  274.150000  100  20000   28   10    0  6310   97130   -250   NaN   NaN  273.850000   1.400000   1.600000  -10   0.000000\n",
      "34       7630  20250202090000  102210     0        0  200   1.900000  276.250000  274.650000   89  16730    0  NaN    0   NaN  100340   -280   NaN   NaN  274.450000   2.900000   4.300000  -10   0.000000\n",
      "35       7650  20250202090000  101930    20        3  350   1.200000  280.950000  279.450000   90  16400    0  100    8  1750  101540   -290   NaN   NaN  280.850000   1.800000   2.700000  -10   3.000000\n",
      "36       7661  20250202090000     NaN   NaN      NaN   60   5.400000         NaN         NaN  NaN    NaN  NaN  NaN  NaN   NaN     NaN    NaN   NaN   NaN         NaN   8.100000   8.700000  -10        NaN\n",
      "37       7690  20250202090000  101830    50        3  330   6.400000  282.950000  277.950000   71  50000    2   90    0   NaN  101510   -460   NaN   NaN  280.950000   9.800000   9.800000  -10  -0.100000\n",
      "38       7747  20250202090000  102020    10        2  300   3.900000  282.050000  274.950000   61  60000    0  NaN    1  1250  101480   -390   NaN   NaN  279.350000   6.100000   7.000000  -10   0.600000\n",
      "39       7761  20250202090000  101490   -40        7  270   0.500000  282.950000  281.550000   91  33610    0   75    6  2250  101380   -740   NaN   NaN  280.050000   0.800000   2.400000  -10   0.000000\n",
      "40       7790  20250202090000  101740   -10        8  230   1.100000  283.350000  282.750000   96  22370    0  NaN    1  1250  101590   -470   NaN   NaN  282.950000   1.700000   2.000000  -10   0.200000\n",
      "41      61968  20250202090000  100900   100        6  290   7.600000         NaN         NaN  NaN    NaN  NaN  NaN  NaN   NaN  100850     20   NaN   NaN         NaN        NaN  11.300000  -10   0.000000\n",
      "42      61970  20250202090000  100810    80        8  260   2.100000  306.950000  298.950000   63    NaN  NaN  NaN  NaN   NaN  100700    -50   NaN   NaN         NaN        NaN   3.800000  -10   0.000000\n",
      "43      61972  20250202090000  100940    70        7  150   5.800000  304.250000  296.850000   65    NaN  NaN  NaN  NaN   NaN  100870     70   NaN   NaN         NaN        NaN  10.500000  -10   0.000000\n",
      "44      61976  20250202090000  100560    30        8  NaN        NaN  301.450000  298.250000   83    NaN  NaN  NaN  NaN   NaN  100470   -130   NaN   NaN         NaN        NaN        NaN  -10  10.600000\n",
      "45      61980  20250202090000  100320  -210        6  110  12.500000  306.650000  297.550000   59  19190    0  NaN    0   NaN  100180   -340   NaN   NaN         NaN  17.700000  20.000000  -10   0.400000\n",
      "46      61996  20250202090000  101330   180        8  330   6.900000  295.950000  290.150000   70    NaN  NaN  NaN  NaN   NaN  100990   -630   NaN   NaN         NaN        NaN   9.800000  -10   0.000000\n",
      "47      61997  20250202090000   99230   350        3  220  17.500000  280.050000  279.650000   97    NaN  NaN  NaN  NaN   NaN   97490   -540   NaN   NaN         NaN        NaN  28.700000  -10   1.600000\n",
      "48      61998  20250202090000   98250  -860        6  110  17.500000  278.550000  278.250000   98    NaN  NaN  NaN  NaN   NaN   97890    NaN   NaN   NaN         NaN        NaN  25.200000  -10        NaN\n",
      "49      67005  20250202090000  100970   -30        8  270   5.800000  298.850000  296.550000   87  20000   61  100    8  1750  100890    110   NaN   NaN         NaN   7.600000  11.200000  -10  54.200000\n",
      "50      71805  20250202090000  101280   460        3  340   7.800000  266.050000  260.950000   67  41940    0  100    8   800  101190   1040   NaN   NaN  273.050000  11.600000  12.900000  -10  -0.100000\n",
      "51      78890  20250202090000  101450    70        5   80  11.200000  298.950000  294.650000   77    NaN  NaN  NaN  NaN   NaN  101130   -100   NaN   NaN         NaN        NaN  14.300000  -10   4.200000\n",
      "52      78897  20250202090000  101470   -70        5  230   0.800000  296.250000  294.150000   88  22550  NaN  NaN  NaN   NaN  101380   -100   NaN   NaN         NaN        NaN        NaN  NaN   1.200000\n",
      "53      78922  20250202090000  101460     0        5   90   6.500000  295.350000  293.950000   92    NaN  NaN  NaN  NaN   NaN  101010    -60   NaN   NaN         NaN  11.100000  15.700000  -10   5.600000\n",
      "54      78925  20250202090000  101400   -10        5   40   1.500000  296.650000  295.050000   91  33880    0  100    8   800  101310    -50   NaN   NaN         NaN   4.200000   4.600000  -10   1.600000\n",
      "55      81401  20250202090000  101040    60        3  140   1.300000  296.250000  295.550000   96    NaN  NaN  NaN  NaN   NaN  100980    -80   NaN   NaN         NaN   2.500000   3.100000  -10   0.600000\n",
      "56      81405  20250202090000  101000    20        3  220   0.900000  297.650000  296.750000   95   8820    0  100    7   800  100910   -130   NaN   NaN  299.050000   1.600000   2.000000  -10   2.400000\n",
      "57      81408  20250202090000  100950    30        3  330   0.700000  297.050000  296.750000   98    NaN  NaN  NaN  NaN   NaN  100870   -110   NaN   NaN         NaN   2.000000   2.000000  -10   3.200000\n",
      "58      81415  20250202090000  101110    40        3  250   0.900000  295.750000  294.950000   95    NaN  NaN  NaN  NaN   NaN   99880   -110   NaN   NaN         NaN   1.500000   1.500000  -10        NaN\n",
      "59      89642  20250202090000   98500    60        3  280   4.100000  273.850000  269.150000   71  30000    2    0  NaN   NaN   97970    NaN   NaN   NaN         NaN        NaN        NaN  NaN        NaN\n"
     ]
    },
    {
     "name": "stderr",
     "output_type": "stream",
     "text": [
      "/tmp/ipykernel_1820102/3864656540.py:1: FutureWarning: Downcasting behavior in `replace` is deprecated and will be removed in a future version. To retain the old behavior, explicitly call `result.infer_objects(copy=False)`. To opt-in to the future behavior, set `pd.set_option('future.no_silent_downcasting', True)`\n",
      "  df.replace(\"mq\", np.nan, inplace=True)\n"
     ]
    }
   ],
   "source": [
    "df.replace(\"mq\", np.nan, inplace=True)\n",
    "print(df.to_string())"
   ]
  },
  {
   "cell_type": "markdown",
   "metadata": {},
   "source": [
    "## Nettoyages de colonnes non renseignées \n",
    "\n",
    "1. Informations générales\n",
    "\t-\tNuméro de station : `numer_sta` -> int\n",
    "\t-\tDate (UTC) : `date` -> datetime\n",
    "2. Pression\n",
    "\t-\tPression au niveau mer : `pmer` -> int\n",
    "\t-\tVariation de pression en 3 heures : `tend` -> int\n",
    "\t-\tType de tendance barométrique : `cod_tend` -> int\n",
    "\t-\tPression station : `pres` -> int\n",
    "\t-\tVariation de pression en 24 heures : `tend24` -> int\n",
    "3. Vent\n",
    "\t-\tDirection du vent moyen 10 mn : `dd` -> int\n",
    "\t-\tVitesse du vent moyen 10 mn : `ff` -> float\n",
    "\t-\tRafales sur les 10 dernières minutes : `raf10` -> float\n",
    "\t-\tRafales sur une période : `rafper` -> float\n",
    "\t-\tPériode de mesure des rafales : `per` -> float\n",
    "4. Température\n",
    "\t-\tTempérature : `t` -> float\n",
    "\t-\tPoint de rosée : `td` -> float\n",
    "\t-\tTempérature minimale sur N heures : `tn12` -> float\n",
    "\t-\tTempérature maximale sur N heures : `tx12` -> float\n",
    "\t-\tTempérature minimale du sol sur 12 heures : `tminsol` -> float\n",
    "5. Humidité\n",
    "\t-\tHumidité : `u` -> int\n",
    "6. Visibilité\n",
    "\t-\tVisibilité horizontale : `vv` -> float\n",
    "7. Nébulosité et nuages\n",
    "\t-\tNébulosité totale : `n` -> float\n",
    "\t-\tNébulosité des nuages de l’étage inférieur : `nbas` -> int\n",
    "\t-\tHauteur de la base des nuages de l’étage inférieur : `hbas` -> int\n",
    "8. Précipitations\n",
    "\t-\tPrécipitations dans les N dernières heures : `rr12` -> float\n",
    "9. Temps présent\n",
    "\t-\tTemps présent : `ww` -> int"
   ]
  },
  {
   "cell_type": "code",
   "execution_count": 10,
   "metadata": {
    "execution": {
     "iopub.execute_input": "2025-02-02T10:05:13.573894Z",
     "iopub.status.busy": "2025-02-02T10:05:13.573683Z",
     "iopub.status.idle": "2025-02-02T10:05:13.602384Z",
     "shell.execute_reply": "2025-02-02T10:05:13.601799Z"
    }
   },
   "outputs": [
    {
     "name": "stdout",
     "output_type": "stream",
     "text": [
      "    numer_sta            date       pmer        tend  cod_tend   dd         ff           t          td           u            vv         ww           n      nbas         hbas           pres       tend24  tn12  tx12     tminsol      raf10     rafper  per       rr12\n",
      "0        7005  20250202090000  102380.00   20.000000  2.000000  120   2.100000  273.150000  271.550000   89.000000  13180.000000   0.000000   79.090909  3.615385  1046.086957  101470.000000  -790.000000   NaN   NaN  271.950000   4.600000   4.600000  -10   0.000000\n",
      "1        7015  20250202090000  102450.00    0.000000  5.000000  110   2.100000  272.450000  271.850000   96.000000   5980.000000   0.000000   79.090909  0.000000  1046.086957  101850.000000  -780.000000   NaN   NaN  269.750000   2.600000   2.600000  -10   0.000000\n",
      "2        7020  20250202090000  102040.00  -10.000000  8.000000  170   4.600000  276.850000  275.350000   90.000000  15000.000000   1.000000   10.000000  1.000000   450.000000  101930.000000  -820.000000   NaN   NaN  274.884286   7.000000   7.400000  -10   0.000000\n",
      "3        7027  20250202090000  102210.00  -10.000000  5.000000  150   1.800000  273.050000  272.350000   95.000000   3200.000000  10.000000   79.090909  0.000000  1046.086957  101360.000000  -780.000000   NaN   NaN  275.450000   2.500000   5.800000  -10   0.000000\n",
      "4        7037  20250202090000  102330.00   20.000000  0.000000  120   2.500000  272.950000  271.850000   92.000000   6720.000000   0.000000   79.090909  0.000000  1046.086957  100350.000000  -800.000000   NaN   NaN  273.750000   3.700000   4.100000  -10   0.000000\n",
      "5        7072  20250202090000  102460.00   20.000000  2.000000  110   1.500000  272.450000  271.050000   90.000000  13450.000000   0.000000   79.090909  0.000000  1046.086957  101250.000000  -670.000000   NaN   NaN  272.550000   2.300000   2.600000  -10   0.000000\n",
      "6        7110  20250202090000  101730.00   30.000000  3.000000  150   7.200000  279.250000  278.050000   92.000000  19590.000000   0.000000  100.000000  8.000000   250.000000  100520.000000 -1130.000000   NaN   NaN  277.650000  10.600000  11.700000  -10   0.000000\n",
      "7        7117  20250202090000  101830.00  -60.000000  6.000000  100   3.300000  276.850000  275.250000   89.000000  20000.000000   1.000000   40.000000  3.000000  1250.000000  101110.000000  -990.000000   NaN   NaN  274.884286   7.000000   7.900000  -10   0.000000\n",
      "8        7130  20250202090000  102180.00   60.000000  3.000000  120   2.300000  272.350000  272.350000  100.000000    240.000000  49.000000  101.000000  9.000000    30.000000  101710.000000  -780.000000   NaN   NaN  269.150000   3.400000   4.800000  -10   0.000000\n",
      "9        7139  20250202090000  102260.00  -20.000000  8.000000   20   1.800000  271.950000  271.850000   99.000000   3640.000000  10.000000   79.090909  0.000000  1046.086957  100420.000000  -790.000000   NaN   NaN  277.050000   2.800000   2.800000  -10   0.000000\n",
      "10       7149  20250202090000  102370.00   30.000000  0.000000   60   0.800000  273.850000  271.950000   87.000000   7800.000000   0.000000   79.090909  0.000000  1046.086957  101230.000000  -690.000000   NaN   NaN  274.884286   1.700000   2.000000  -10   0.000000\n",
      "11       7168  20250202090000  102430.00    0.000000  4.000000  110   2.000000  272.450000  271.350000   92.000000   8710.000000   0.000000   79.090909  0.000000  1046.086957  100930.000000  -590.000000   NaN   NaN  270.150000   2.900000   2.900000  -10   0.000000\n",
      "12       7181  20250202090000  102490.00   50.000000  0.000000  220   0.700000  273.550000  272.250000   91.000000  10330.000000   0.000000   79.090909  0.000000  1046.086957   98140.000000  -490.000000   NaN   NaN  267.650000   1.500000   1.700000  -10   0.000000\n",
      "13       7190  20250202090000  102570.00   80.000000  0.000000   20   1.700000  272.950000  271.550000   90.000000   8880.000000   0.000000  100.000000  8.000000   800.000000  100660.000000  -480.000000   NaN   NaN  269.550000   2.700000   3.600000  -10   0.000000\n",
      "14       7207  20250202090000  101673.75   12.241379  4.034483  140   9.900000  280.950000  279.127193   87.385965  16128.222222   6.727273   79.090909  3.615385  1046.086957  100037.586207  -408.035714   NaN   NaN  274.884286  16.900000  16.900000  -10   0.000000\n",
      "15       7222  20250202090000  102120.00   30.000000  0.000000   60   1.100000  270.150000  269.850000   98.000000    800.000000  49.000000  101.000000  9.000000    30.000000  101790.000000  -680.000000   NaN   NaN  271.350000   1.800000   2.200000  -10   0.000000\n",
      "16       7240  20250202090000  102190.00  -30.000000  8.000000  100   3.000000  273.750000  272.750000   93.000000   5710.000000   0.000000   79.090909  0.000000  1046.086957  100780.000000  -750.000000   NaN   NaN  274.450000   4.600000   4.600000  -10   0.600000\n",
      "17       7255  20250202090000  102300.00   20.000000  2.000000  100   3.200000  274.150000  273.150000   93.000000   9320.000000   0.000000   79.090909  3.615385  1046.086957  100220.000000  -610.000000   NaN   NaN  273.250000   4.400000   4.400000  -10   0.000000\n",
      "18       7280  20250202090000  102400.00   10.000000  0.000000   30   0.600000  274.750000  272.950000   88.000000   7800.000000   0.000000  100.000000  8.000000   450.000000   99650.000000  -400.000000   NaN   NaN  267.850000   1.600000   2.600000  -10   0.000000\n",
      "19       7299  20250202090000  102440.00   30.000000  0.000000   90   3.700000  276.150000  273.350000   82.000000  16210.000000   0.000000  100.000000  8.000000   450.000000   99060.000000  -470.000000   NaN   NaN  276.950000   5.700000   6.800000  -10   0.000000\n",
      "20       7314  20250202090000  102110.00  -40.000000  6.000000  140   2.000000  276.250000  275.250000   93.000000  10000.000000   1.000000   10.000000  1.000000  2250.000000  101820.000000  -610.000000   NaN   NaN  274.884286   3.100000   3.200000  -10   0.000000\n",
      "21       7335  20250202090000  102190.00  -20.000000  8.000000  160   0.900000  272.350000  272.250000   99.000000    190.000000  49.000000  101.000000  9.000000    30.000000  100670.000000  -650.000000   NaN   NaN  276.250000   1.700000   2.200000  -10   0.000000\n",
      "22       7434  20250202090000  102220.00   20.000000  2.000000   30   2.200000  274.550000  273.050000   90.000000  14400.000000   0.000000   79.090909  0.000000  1046.086957   97260.000000  -480.000000   NaN   NaN  273.650000   2.700000   2.800000  -10   0.000000\n",
      "23       7460  20250202090000  102300.00  -10.000000  8.000000  160   2.900000  275.050000  272.750000   85.000000  10870.000000   0.000000   79.090909  4.000000   250.000000   98210.000000  -490.000000   NaN   NaN  273.350000   4.300000   5.900000  -10   0.000000\n",
      "24       7471  20250202090000  101673.75   20.000000  0.000000  190   0.900000  269.850000  269.450000   97.000000   3930.000000  10.000000  101.000000  9.000000    30.000000   92310.000000  -370.000000   NaN   NaN  271.950000   1.600000   1.900000  -10   0.000000\n",
      "25       7481  20250202090000  102330.00   30.000000  0.000000  360   1.400000  276.950000  274.350000   83.000000  18000.000000   3.000000  100.000000  8.000000   800.000000   99360.000000  -370.000000   NaN   NaN  274.884286   2.200000   3.000000  -10   0.000000\n",
      "26       7510  20250202090000  102150.00  -30.000000  7.000000  180   0.800000  274.150000  274.150000  100.000000   2810.000000  10.000000  101.000000  9.000000    30.000000  101540.000000  -460.000000   NaN   NaN  271.850000   1.400000   3.400000  -10   0.000000\n",
      "27       7535  20250202090000  102230.00    0.000000  0.000000   40   1.000000  274.850000  273.050000   88.000000  19820.000000   0.000000   79.090909  0.000000  1046.086957   98990.000000  -350.000000   NaN   NaN  274.450000   1.700000   2.200000  -10   0.000000\n",
      "28       7558  20250202090000  102130.00   60.000000  1.000000  170   0.600000  274.950000  274.350000   96.000000   1610.000000  10.000000   79.090909  3.615385  1046.086957   93570.000000  -250.000000   NaN   NaN  272.450000   1.500000   2.400000  -10  -0.100000\n",
      "29       7577  20250202090000  102200.00   40.000000  0.000000   10   3.900000  279.550000  275.250000   74.000000  19820.000000   0.000000   79.090909  3.615385  1046.086957  101280.000000  -320.000000   NaN   NaN  276.450000   7.700000   7.700000  -10   0.000000\n",
      "30       7591  20250202090000  101673.75   50.000000  1.000000   70   3.700000  280.750000  272.050000   54.000000  16128.222222   6.727273   79.090909  3.615385  1046.086957   91730.000000  -250.000000   NaN   NaN  274.884286   8.800000   8.800000  -10   0.000000\n",
      "31       7607  20250202090000  102130.00  -60.000000  8.000000   90   1.600000  274.450000  274.450000  100.000000  19410.000000   0.000000   79.090909  0.000000  1046.086957  101390.000000  -370.000000   NaN   NaN  275.650000   2.600000   3.100000  -10   0.000000\n",
      "32       7621  20250202090000  102130.00  -40.000000  8.000000  130   1.000000  277.750000  275.650000   86.000000  32860.000000   0.000000   79.090909  0.000000  1046.086957   97690.000000  -320.000000   NaN   NaN  271.850000   2.200000   2.200000  -10   0.000000\n",
      "33       7627  20250202090000  102240.00   20.000000  8.000000  200   0.600000  274.150000  274.150000  100.000000  20000.000000  28.000000   10.000000  0.000000  6310.000000   97130.000000  -250.000000   NaN   NaN  273.850000   1.400000   1.600000  -10   0.000000\n",
      "34       7630  20250202090000  102210.00    0.000000  0.000000  200   1.900000  276.250000  274.650000   89.000000  16730.000000   0.000000   79.090909  0.000000  1046.086957  100340.000000  -280.000000   NaN   NaN  274.450000   2.900000   4.300000  -10   0.000000\n",
      "35       7650  20250202090000  101930.00   20.000000  3.000000  350   1.200000  280.950000  279.450000   90.000000  16400.000000   0.000000  100.000000  8.000000  1750.000000  101540.000000  -290.000000   NaN   NaN  280.850000   1.800000   2.700000  -10   3.000000\n",
      "36       7661  20250202090000  101673.75   12.241379  4.034483   60   5.400000  281.286207  279.127193   87.385965  16128.222222   6.727273   79.090909  3.615385  1046.086957  100037.586207  -408.035714   NaN   NaN  274.884286   8.100000   8.700000  -10          0\n",
      "37       7690  20250202090000  101830.00   50.000000  3.000000  330   6.400000  282.950000  277.950000   71.000000  50000.000000   2.000000   90.000000  0.000000  1046.086957  101510.000000  -460.000000   NaN   NaN  280.950000   9.800000   9.800000  -10  -0.100000\n",
      "38       7747  20250202090000  102020.00   10.000000  2.000000  300   3.900000  282.050000  274.950000   61.000000  60000.000000   0.000000   79.090909  1.000000  1250.000000  101480.000000  -390.000000   NaN   NaN  279.350000   6.100000   7.000000  -10   0.600000\n",
      "39       7761  20250202090000  101490.00  -40.000000  7.000000  270   0.500000  282.950000  281.550000   91.000000  33610.000000   0.000000   75.000000  6.000000  2250.000000  101380.000000  -740.000000   NaN   NaN  280.050000   0.800000   2.400000  -10   0.000000\n",
      "40       7790  20250202090000  101740.00  -10.000000  8.000000  230   1.100000  283.350000  282.750000   96.000000  22370.000000   0.000000   79.090909  1.000000  1250.000000  101590.000000  -470.000000   NaN   NaN  282.950000   1.700000   2.000000  -10   0.200000\n",
      "41      61968  20250202090000  100900.00  100.000000  6.000000  290   7.600000  281.286207  279.127193   87.385965  16128.222222   6.727273   79.090909  3.615385  1046.086957  100850.000000    20.000000   NaN   NaN  274.884286          0  11.300000  -10   0.000000\n",
      "42      61970  20250202090000  100810.00   80.000000  8.000000  260   2.100000  306.950000  298.950000   63.000000  16128.222222   6.727273   79.090909  3.615385  1046.086957  100700.000000   -50.000000   NaN   NaN  274.884286          0   3.800000  -10   0.000000\n",
      "43      61972  20250202090000  100940.00   70.000000  7.000000  150   5.800000  304.250000  296.850000   65.000000  16128.222222   6.727273   79.090909  3.615385  1046.086957  100870.000000    70.000000   NaN   NaN  274.884286          0  10.500000  -10   0.000000\n",
      "44      61976  20250202090000  100560.00   30.000000  8.000000    0          0  301.450000  298.250000   83.000000  16128.222222   6.727273   79.090909  3.615385  1046.086957  100470.000000  -130.000000   NaN   NaN  274.884286          0          0  -10  10.600000\n",
      "45      61980  20250202090000  100320.00 -210.000000  6.000000  110  12.500000  306.650000  297.550000   59.000000  19190.000000   0.000000   79.090909  0.000000  1046.086957  100180.000000  -340.000000   NaN   NaN  274.884286  17.700000  20.000000  -10   0.400000\n",
      "46      61996  20250202090000  101330.00  180.000000  8.000000  330   6.900000  295.950000  290.150000   70.000000  16128.222222   6.727273   79.090909  3.615385  1046.086957  100990.000000  -630.000000   NaN   NaN  274.884286          0   9.800000  -10   0.000000\n",
      "47      61997  20250202090000   99230.00  350.000000  3.000000  220  17.500000  280.050000  279.650000   97.000000  16128.222222   6.727273   79.090909  3.615385  1046.086957   97490.000000  -540.000000   NaN   NaN  274.884286          0  28.700000  -10   1.600000\n",
      "48      61998  20250202090000   98250.00 -860.000000  6.000000  110  17.500000  278.550000  278.250000   98.000000  16128.222222   6.727273   79.090909  3.615385  1046.086957   97890.000000  -408.035714   NaN   NaN  274.884286          0  25.200000  -10          0\n",
      "49      67005  20250202090000  100970.00  -30.000000  8.000000  270   5.800000  298.850000  296.550000   87.000000  20000.000000  61.000000  100.000000  8.000000  1750.000000  100890.000000   110.000000   NaN   NaN  274.884286   7.600000  11.200000  -10  54.200000\n",
      "50      71805  20250202090000  101280.00  460.000000  3.000000  340   7.800000  266.050000  260.950000   67.000000  41940.000000   0.000000  100.000000  8.000000   800.000000  101190.000000  1040.000000   NaN   NaN  273.050000  11.600000  12.900000  -10  -0.100000\n",
      "51      78890  20250202090000  101450.00   70.000000  5.000000   80  11.200000  298.950000  294.650000   77.000000  16128.222222   6.727273   79.090909  3.615385  1046.086957  101130.000000  -100.000000   NaN   NaN  274.884286          0  14.300000  -10   4.200000\n",
      "52      78897  20250202090000  101470.00  -70.000000  5.000000  230   0.800000  296.250000  294.150000   88.000000  22550.000000   6.727273   79.090909  3.615385  1046.086957  101380.000000  -100.000000   NaN   NaN  274.884286          0          0    0   1.200000\n",
      "53      78922  20250202090000  101460.00    0.000000  5.000000   90   6.500000  295.350000  293.950000   92.000000  16128.222222   6.727273   79.090909  3.615385  1046.086957  101010.000000   -60.000000   NaN   NaN  274.884286  11.100000  15.700000  -10   5.600000\n",
      "54      78925  20250202090000  101400.00  -10.000000  5.000000   40   1.500000  296.650000  295.050000   91.000000  33880.000000   0.000000  100.000000  8.000000   800.000000  101310.000000   -50.000000   NaN   NaN  274.884286   4.200000   4.600000  -10   1.600000\n",
      "55      81401  20250202090000  101040.00   60.000000  3.000000  140   1.300000  296.250000  295.550000   96.000000  16128.222222   6.727273   79.090909  3.615385  1046.086957  100980.000000   -80.000000   NaN   NaN  274.884286   2.500000   3.100000  -10   0.600000\n",
      "56      81405  20250202090000  101000.00   20.000000  3.000000  220   0.900000  297.650000  296.750000   95.000000   8820.000000   0.000000  100.000000  7.000000   800.000000  100910.000000  -130.000000   NaN   NaN  299.050000   1.600000   2.000000  -10   2.400000\n",
      "57      81408  20250202090000  100950.00   30.000000  3.000000  330   0.700000  297.050000  296.750000   98.000000  16128.222222   6.727273   79.090909  3.615385  1046.086957  100870.000000  -110.000000   NaN   NaN  274.884286   2.000000   2.000000  -10   3.200000\n",
      "58      81415  20250202090000  101110.00   40.000000  3.000000  250   0.900000  295.750000  294.950000   95.000000  16128.222222   6.727273   79.090909  3.615385  1046.086957   99880.000000  -110.000000   NaN   NaN  274.884286   1.500000   1.500000  -10          0\n",
      "59      89642  20250202090000   98500.00   60.000000  3.000000  280   4.100000  273.850000  269.150000   71.000000  30000.000000   2.000000    0.000000  3.615385  1046.086957   97970.000000  -408.035714   NaN   NaN  274.884286          0          0    0          0\n"
     ]
    }
   ],
   "source": [
    "df[['dd', 'ff', 'raf10', 'rafper', 'rr12', \"per\"]] = df[['dd', 'ff', 'raf10', 'rafper', 'rr12', \"per\"]].fillna(0)\n",
    "\n",
    "moyenne = [\"pmer\", \"tend\", \"cod_tend\", \"pres\", \"tend24\", \"t\", \"td\", \"tn12\", \"tx12\", \"tminsol\", \"u\", \"vv\", \"n\", \"nbas\", \"hbas\", \"ww\"]\n",
    "df[moyenne] = df[moyenne].apply(pd.to_numeric, errors='coerce')\n",
    "\n",
    "for col in moyenne:\n",
    "    df[col] = df[col].fillna(df[col].mean())\n",
    "\n",
    "print(df.to_string())\n",
    "\n"
   ]
  },
  {
   "cell_type": "markdown",
   "metadata": {},
   "source": [
    "## Typages des colonnes"
   ]
  },
  {
   "cell_type": "code",
   "execution_count": 11,
   "metadata": {
    "execution": {
     "iopub.execute_input": "2025-02-02T10:05:13.604428Z",
     "iopub.status.busy": "2025-02-02T10:05:13.604192Z",
     "iopub.status.idle": "2025-02-02T10:05:13.618031Z",
     "shell.execute_reply": "2025-02-02T10:05:13.617487Z"
    }
   },
   "outputs": [
    {
     "name": "stdout",
     "output_type": "stream",
     "text": [
      "numer_sta -> int64\n",
      "numer_sta -> int64\n",
      "\n",
      "pmer -> float64\n",
      "pmer -> int64\n",
      "\n",
      "tend -> float64\n",
      "tend -> int64\n",
      "\n",
      "cod_tend -> float64\n",
      "cod_tend -> int64\n",
      "\n",
      "dd -> object\n",
      "dd -> int64\n",
      "\n",
      "u -> float64\n",
      "u -> int64\n",
      "\n",
      "ww -> float64\n",
      "ww -> int64\n",
      "\n",
      "nbas -> float64\n",
      "nbas -> int64\n",
      "\n",
      "hbas -> float64\n",
      "hbas -> int64\n",
      "\n",
      "pres -> float64\n",
      "pres -> int64\n",
      "\n",
      "tend24 -> float64\n",
      "tend24 -> int64\n",
      "\n",
      "dd -> int64\n",
      "dd -> float64\n",
      "\n",
      "ff -> object\n",
      "ff -> float64\n",
      "\n",
      "raf10 -> object\n",
      "raf10 -> float64\n",
      "\n",
      "rafper -> object\n",
      "rafper -> float64\n",
      "\n",
      "rr12 -> object\n",
      "rr12 -> float64\n",
      "\n",
      "per -> object\n",
      "per -> float64\n",
      "\n",
      "t -> float64\n",
      "t -> float64\n",
      "\n",
      "td -> float64\n",
      "td -> float64\n",
      "\n",
      "tn12 -> float64\n",
      "tn12 -> float64\n",
      "\n",
      "tx12 -> float64\n",
      "tx12 -> float64\n",
      "\n",
      "tminsol -> float64\n",
      "tminsol -> float64\n",
      "\n",
      "n -> float64\n",
      "n -> float64\n",
      "\n",
      "vv -> float64\n",
      "vv -> float64\n",
      "\n"
     ]
    }
   ],
   "source": [
    "df[\"date\"] = pd.to_datetime(df[\"date\"], format='%Y%m%d%H%M%S')\n",
    "df['date'] = df['date'].dt.strftime(\"%Y-%m-%d %H:%M:%S\")\n",
    "\n",
    "entier = [\"numer_sta\", \"pmer\", \"tend\", \"cod_tend\", \"dd\", \"u\", \"ww\", \"nbas\", \"hbas\", \"pres\", \"tend24\"]\n",
    "for i in entier:\n",
    "    print(f\"{i} -> {df[i].dtype}\")\n",
    "    df[i] = df[i].astype(int)\n",
    "    print(f\"{i} -> {df[i].dtype}\")\n",
    "    print(\"\")\n",
    "\n",
    "double = ['dd', 'ff', 'raf10', 'rafper', 'rr12', \"per\", \"t\", \"td\", \"tn12\", \"tx12\", \"tminsol\", \"n\", \"vv\"]\n",
    "for i in double:\n",
    "    print(f\"{i} -> {df[i].dtype}\")\n",
    "    df[i] = df[i].astype(float)\n",
    "    print(f\"{i} -> {df[i].dtype}\")\n",
    "    print(\"\")"
   ]
  },
  {
   "cell_type": "code",
   "execution_count": 12,
   "metadata": {
    "execution": {
     "iopub.execute_input": "2025-02-02T10:05:13.619913Z",
     "iopub.status.busy": "2025-02-02T10:05:13.619706Z",
     "iopub.status.idle": "2025-02-02T10:05:13.638826Z",
     "shell.execute_reply": "2025-02-02T10:05:13.638283Z"
    }
   },
   "outputs": [
    {
     "name": "stdout",
     "output_type": "stream",
     "text": [
      "    numer_sta                 date    pmer  tend  cod_tend     dd    ff           t          td    u            vv  ww           n  nbas  hbas    pres  tend24  tn12  tx12     tminsol  raf10  rafper   per  rr12\n",
      "0        7005  2025-02-02 09:00:00  102380    20         2  120.0   2.1  273.150000  271.550000   89  13180.000000   0   79.090909     3  1046  101470    -790   NaN   NaN  271.950000    4.6     4.6 -10.0   0.0\n",
      "1        7015  2025-02-02 09:00:00  102450     0         5  110.0   2.1  272.450000  271.850000   96   5980.000000   0   79.090909     0  1046  101850    -780   NaN   NaN  269.750000    2.6     2.6 -10.0   0.0\n",
      "2        7020  2025-02-02 09:00:00  102040   -10         8  170.0   4.6  276.850000  275.350000   90  15000.000000   1   10.000000     1   450  101930    -820   NaN   NaN  274.884286    7.0     7.4 -10.0   0.0\n",
      "3        7027  2025-02-02 09:00:00  102210   -10         5  150.0   1.8  273.050000  272.350000   95   3200.000000  10   79.090909     0  1046  101360    -780   NaN   NaN  275.450000    2.5     5.8 -10.0   0.0\n",
      "4        7037  2025-02-02 09:00:00  102330    20         0  120.0   2.5  272.950000  271.850000   92   6720.000000   0   79.090909     0  1046  100350    -800   NaN   NaN  273.750000    3.7     4.1 -10.0   0.0\n",
      "5        7072  2025-02-02 09:00:00  102460    20         2  110.0   1.5  272.450000  271.050000   90  13450.000000   0   79.090909     0  1046  101250    -670   NaN   NaN  272.550000    2.3     2.6 -10.0   0.0\n",
      "6        7110  2025-02-02 09:00:00  101730    30         3  150.0   7.2  279.250000  278.050000   92  19590.000000   0  100.000000     8   250  100520   -1130   NaN   NaN  277.650000   10.6    11.7 -10.0   0.0\n",
      "7        7117  2025-02-02 09:00:00  101830   -60         6  100.0   3.3  276.850000  275.250000   89  20000.000000   1   40.000000     3  1250  101110    -990   NaN   NaN  274.884286    7.0     7.9 -10.0   0.0\n",
      "8        7130  2025-02-02 09:00:00  102180    60         3  120.0   2.3  272.350000  272.350000  100    240.000000  49  101.000000     9    30  101710    -780   NaN   NaN  269.150000    3.4     4.8 -10.0   0.0\n",
      "9        7139  2025-02-02 09:00:00  102260   -20         8   20.0   1.8  271.950000  271.850000   99   3640.000000  10   79.090909     0  1046  100420    -790   NaN   NaN  277.050000    2.8     2.8 -10.0   0.0\n",
      "10       7149  2025-02-02 09:00:00  102370    30         0   60.0   0.8  273.850000  271.950000   87   7800.000000   0   79.090909     0  1046  101230    -690   NaN   NaN  274.884286    1.7     2.0 -10.0   0.0\n",
      "11       7168  2025-02-02 09:00:00  102430     0         4  110.0   2.0  272.450000  271.350000   92   8710.000000   0   79.090909     0  1046  100930    -590   NaN   NaN  270.150000    2.9     2.9 -10.0   0.0\n",
      "12       7181  2025-02-02 09:00:00  102490    50         0  220.0   0.7  273.550000  272.250000   91  10330.000000   0   79.090909     0  1046   98140    -490   NaN   NaN  267.650000    1.5     1.7 -10.0   0.0\n",
      "13       7190  2025-02-02 09:00:00  102570    80         0   20.0   1.7  272.950000  271.550000   90   8880.000000   0  100.000000     8   800  100660    -480   NaN   NaN  269.550000    2.7     3.6 -10.0   0.0\n",
      "14       7207  2025-02-02 09:00:00  101673    12         4  140.0   9.9  280.950000  279.127193   87  16128.222222   6   79.090909     3  1046  100037    -408   NaN   NaN  274.884286   16.9    16.9 -10.0   0.0\n",
      "15       7222  2025-02-02 09:00:00  102120    30         0   60.0   1.1  270.150000  269.850000   98    800.000000  49  101.000000     9    30  101790    -680   NaN   NaN  271.350000    1.8     2.2 -10.0   0.0\n",
      "16       7240  2025-02-02 09:00:00  102190   -30         8  100.0   3.0  273.750000  272.750000   93   5710.000000   0   79.090909     0  1046  100780    -750   NaN   NaN  274.450000    4.6     4.6 -10.0   0.6\n",
      "17       7255  2025-02-02 09:00:00  102300    20         2  100.0   3.2  274.150000  273.150000   93   9320.000000   0   79.090909     3  1046  100220    -610   NaN   NaN  273.250000    4.4     4.4 -10.0   0.0\n",
      "18       7280  2025-02-02 09:00:00  102400    10         0   30.0   0.6  274.750000  272.950000   88   7800.000000   0  100.000000     8   450   99650    -400   NaN   NaN  267.850000    1.6     2.6 -10.0   0.0\n",
      "19       7299  2025-02-02 09:00:00  102440    30         0   90.0   3.7  276.150000  273.350000   82  16210.000000   0  100.000000     8   450   99060    -470   NaN   NaN  276.950000    5.7     6.8 -10.0   0.0\n",
      "20       7314  2025-02-02 09:00:00  102110   -40         6  140.0   2.0  276.250000  275.250000   93  10000.000000   1   10.000000     1  2250  101820    -610   NaN   NaN  274.884286    3.1     3.2 -10.0   0.0\n",
      "21       7335  2025-02-02 09:00:00  102190   -20         8  160.0   0.9  272.350000  272.250000   99    190.000000  49  101.000000     9    30  100670    -650   NaN   NaN  276.250000    1.7     2.2 -10.0   0.0\n",
      "22       7434  2025-02-02 09:00:00  102220    20         2   30.0   2.2  274.550000  273.050000   90  14400.000000   0   79.090909     0  1046   97260    -480   NaN   NaN  273.650000    2.7     2.8 -10.0   0.0\n",
      "23       7460  2025-02-02 09:00:00  102300   -10         8  160.0   2.9  275.050000  272.750000   85  10870.000000   0   79.090909     4   250   98210    -490   NaN   NaN  273.350000    4.3     5.9 -10.0   0.0\n",
      "24       7471  2025-02-02 09:00:00  101673    20         0  190.0   0.9  269.850000  269.450000   97   3930.000000  10  101.000000     9    30   92310    -370   NaN   NaN  271.950000    1.6     1.9 -10.0   0.0\n",
      "25       7481  2025-02-02 09:00:00  102330    30         0  360.0   1.4  276.950000  274.350000   83  18000.000000   3  100.000000     8   800   99360    -370   NaN   NaN  274.884286    2.2     3.0 -10.0   0.0\n",
      "26       7510  2025-02-02 09:00:00  102150   -30         7  180.0   0.8  274.150000  274.150000  100   2810.000000  10  101.000000     9    30  101540    -460   NaN   NaN  271.850000    1.4     3.4 -10.0   0.0\n",
      "27       7535  2025-02-02 09:00:00  102230     0         0   40.0   1.0  274.850000  273.050000   88  19820.000000   0   79.090909     0  1046   98990    -350   NaN   NaN  274.450000    1.7     2.2 -10.0   0.0\n",
      "28       7558  2025-02-02 09:00:00  102130    60         1  170.0   0.6  274.950000  274.350000   96   1610.000000  10   79.090909     3  1046   93570    -250   NaN   NaN  272.450000    1.5     2.4 -10.0  -0.1\n",
      "29       7577  2025-02-02 09:00:00  102200    40         0   10.0   3.9  279.550000  275.250000   74  19820.000000   0   79.090909     3  1046  101280    -320   NaN   NaN  276.450000    7.7     7.7 -10.0   0.0\n",
      "30       7591  2025-02-02 09:00:00  101673    50         1   70.0   3.7  280.750000  272.050000   54  16128.222222   6   79.090909     3  1046   91730    -250   NaN   NaN  274.884286    8.8     8.8 -10.0   0.0\n",
      "31       7607  2025-02-02 09:00:00  102130   -60         8   90.0   1.6  274.450000  274.450000  100  19410.000000   0   79.090909     0  1046  101390    -370   NaN   NaN  275.650000    2.6     3.1 -10.0   0.0\n",
      "32       7621  2025-02-02 09:00:00  102130   -40         8  130.0   1.0  277.750000  275.650000   86  32860.000000   0   79.090909     0  1046   97690    -320   NaN   NaN  271.850000    2.2     2.2 -10.0   0.0\n",
      "33       7627  2025-02-02 09:00:00  102240    20         8  200.0   0.6  274.150000  274.150000  100  20000.000000  28   10.000000     0  6310   97130    -250   NaN   NaN  273.850000    1.4     1.6 -10.0   0.0\n",
      "34       7630  2025-02-02 09:00:00  102210     0         0  200.0   1.9  276.250000  274.650000   89  16730.000000   0   79.090909     0  1046  100340    -280   NaN   NaN  274.450000    2.9     4.3 -10.0   0.0\n",
      "35       7650  2025-02-02 09:00:00  101930    20         3  350.0   1.2  280.950000  279.450000   90  16400.000000   0  100.000000     8  1750  101540    -290   NaN   NaN  280.850000    1.8     2.7 -10.0   3.0\n",
      "36       7661  2025-02-02 09:00:00  101673    12         4   60.0   5.4  281.286207  279.127193   87  16128.222222   6   79.090909     3  1046  100037    -408   NaN   NaN  274.884286    8.1     8.7 -10.0   0.0\n",
      "37       7690  2025-02-02 09:00:00  101830    50         3  330.0   6.4  282.950000  277.950000   71  50000.000000   2   90.000000     0  1046  101510    -460   NaN   NaN  280.950000    9.8     9.8 -10.0  -0.1\n",
      "38       7747  2025-02-02 09:00:00  102020    10         2  300.0   3.9  282.050000  274.950000   61  60000.000000   0   79.090909     1  1250  101480    -390   NaN   NaN  279.350000    6.1     7.0 -10.0   0.6\n",
      "39       7761  2025-02-02 09:00:00  101490   -40         7  270.0   0.5  282.950000  281.550000   91  33610.000000   0   75.000000     6  2250  101380    -740   NaN   NaN  280.050000    0.8     2.4 -10.0   0.0\n",
      "40       7790  2025-02-02 09:00:00  101740   -10         8  230.0   1.1  283.350000  282.750000   96  22370.000000   0   79.090909     1  1250  101590    -470   NaN   NaN  282.950000    1.7     2.0 -10.0   0.2\n",
      "41      61968  2025-02-02 09:00:00  100900   100         6  290.0   7.6  281.286207  279.127193   87  16128.222222   6   79.090909     3  1046  100850      20   NaN   NaN  274.884286    0.0    11.3 -10.0   0.0\n",
      "42      61970  2025-02-02 09:00:00  100810    80         8  260.0   2.1  306.950000  298.950000   63  16128.222222   6   79.090909     3  1046  100700     -50   NaN   NaN  274.884286    0.0     3.8 -10.0   0.0\n",
      "43      61972  2025-02-02 09:00:00  100940    70         7  150.0   5.8  304.250000  296.850000   65  16128.222222   6   79.090909     3  1046  100870      70   NaN   NaN  274.884286    0.0    10.5 -10.0   0.0\n",
      "44      61976  2025-02-02 09:00:00  100560    30         8    0.0   0.0  301.450000  298.250000   83  16128.222222   6   79.090909     3  1046  100470    -130   NaN   NaN  274.884286    0.0     0.0 -10.0  10.6\n",
      "45      61980  2025-02-02 09:00:00  100320  -210         6  110.0  12.5  306.650000  297.550000   59  19190.000000   0   79.090909     0  1046  100180    -340   NaN   NaN  274.884286   17.7    20.0 -10.0   0.4\n",
      "46      61996  2025-02-02 09:00:00  101330   180         8  330.0   6.9  295.950000  290.150000   70  16128.222222   6   79.090909     3  1046  100990    -630   NaN   NaN  274.884286    0.0     9.8 -10.0   0.0\n",
      "47      61997  2025-02-02 09:00:00   99230   350         3  220.0  17.5  280.050000  279.650000   97  16128.222222   6   79.090909     3  1046   97490    -540   NaN   NaN  274.884286    0.0    28.7 -10.0   1.6\n",
      "48      61998  2025-02-02 09:00:00   98250  -860         6  110.0  17.5  278.550000  278.250000   98  16128.222222   6   79.090909     3  1046   97890    -408   NaN   NaN  274.884286    0.0    25.2 -10.0   0.0\n",
      "49      67005  2025-02-02 09:00:00  100970   -30         8  270.0   5.8  298.850000  296.550000   87  20000.000000  61  100.000000     8  1750  100890     110   NaN   NaN  274.884286    7.6    11.2 -10.0  54.2\n",
      "50      71805  2025-02-02 09:00:00  101280   460         3  340.0   7.8  266.050000  260.950000   67  41940.000000   0  100.000000     8   800  101190    1040   NaN   NaN  273.050000   11.6    12.9 -10.0  -0.1\n",
      "51      78890  2025-02-02 09:00:00  101450    70         5   80.0  11.2  298.950000  294.650000   77  16128.222222   6   79.090909     3  1046  101130    -100   NaN   NaN  274.884286    0.0    14.3 -10.0   4.2\n",
      "52      78897  2025-02-02 09:00:00  101470   -70         5  230.0   0.8  296.250000  294.150000   88  22550.000000   6   79.090909     3  1046  101380    -100   NaN   NaN  274.884286    0.0     0.0   0.0   1.2\n",
      "53      78922  2025-02-02 09:00:00  101460     0         5   90.0   6.5  295.350000  293.950000   92  16128.222222   6   79.090909     3  1046  101010     -60   NaN   NaN  274.884286   11.1    15.7 -10.0   5.6\n",
      "54      78925  2025-02-02 09:00:00  101400   -10         5   40.0   1.5  296.650000  295.050000   91  33880.000000   0  100.000000     8   800  101310     -50   NaN   NaN  274.884286    4.2     4.6 -10.0   1.6\n",
      "55      81401  2025-02-02 09:00:00  101040    60         3  140.0   1.3  296.250000  295.550000   96  16128.222222   6   79.090909     3  1046  100980     -80   NaN   NaN  274.884286    2.5     3.1 -10.0   0.6\n",
      "56      81405  2025-02-02 09:00:00  101000    20         3  220.0   0.9  297.650000  296.750000   95   8820.000000   0  100.000000     7   800  100910    -130   NaN   NaN  299.050000    1.6     2.0 -10.0   2.4\n",
      "57      81408  2025-02-02 09:00:00  100950    30         3  330.0   0.7  297.050000  296.750000   98  16128.222222   6   79.090909     3  1046  100870    -110   NaN   NaN  274.884286    2.0     2.0 -10.0   3.2\n",
      "58      81415  2025-02-02 09:00:00  101110    40         3  250.0   0.9  295.750000  294.950000   95  16128.222222   6   79.090909     3  1046   99880    -110   NaN   NaN  274.884286    1.5     1.5 -10.0   0.0\n",
      "59      89642  2025-02-02 09:00:00   98500    60         3  280.0   4.1  273.850000  269.150000   71  30000.000000   2    0.000000     3  1046   97970    -408   NaN   NaN  274.884286    0.0     0.0   0.0   0.0\n"
     ]
    }
   ],
   "source": [
    "print(df.to_string())"
   ]
  },
  {
   "cell_type": "markdown",
   "metadata": {},
   "source": [
    "## Conversion des températures de Kelvin en Celcuis"
   ]
  },
  {
   "cell_type": "code",
   "execution_count": 13,
   "metadata": {
    "execution": {
     "iopub.execute_input": "2025-02-02T10:05:13.640746Z",
     "iopub.status.busy": "2025-02-02T10:05:13.640524Z",
     "iopub.status.idle": "2025-02-02T10:05:13.660905Z",
     "shell.execute_reply": "2025-02-02T10:05:13.660352Z"
    }
   },
   "outputs": [
    {
     "name": "stdout",
     "output_type": "stream",
     "text": [
      "    numer_sta                 date    pmer  tend  cod_tend     dd    ff          t         td    u            vv  ww           n  nbas  hbas    pres  tend24  tn12  tx12    tminsol  raf10  rafper   per  rr12\n",
      "0        7005  2025-02-02 09:00:00  102380    20         2  120.0   2.1   0.000000  -1.600000   89  13180.000000   0   79.090909     3  1046  101470    -790   NaN   NaN  -1.200000    4.6     4.6 -10.0   0.0\n",
      "1        7015  2025-02-02 09:00:00  102450     0         5  110.0   2.1  -0.700000  -1.300000   96   5980.000000   0   79.090909     0  1046  101850    -780   NaN   NaN  -3.400000    2.6     2.6 -10.0   0.0\n",
      "2        7020  2025-02-02 09:00:00  102040   -10         8  170.0   4.6   3.700000   2.200000   90  15000.000000   1   10.000000     1   450  101930    -820   NaN   NaN   1.734286    7.0     7.4 -10.0   0.0\n",
      "3        7027  2025-02-02 09:00:00  102210   -10         5  150.0   1.8  -0.100000  -0.800000   95   3200.000000  10   79.090909     0  1046  101360    -780   NaN   NaN   2.300000    2.5     5.8 -10.0   0.0\n",
      "4        7037  2025-02-02 09:00:00  102330    20         0  120.0   2.5  -0.200000  -1.300000   92   6720.000000   0   79.090909     0  1046  100350    -800   NaN   NaN   0.600000    3.7     4.1 -10.0   0.0\n",
      "5        7072  2025-02-02 09:00:00  102460    20         2  110.0   1.5  -0.700000  -2.100000   90  13450.000000   0   79.090909     0  1046  101250    -670   NaN   NaN  -0.600000    2.3     2.6 -10.0   0.0\n",
      "6        7110  2025-02-02 09:00:00  101730    30         3  150.0   7.2   6.100000   4.900000   92  19590.000000   0  100.000000     8   250  100520   -1130   NaN   NaN   4.500000   10.6    11.7 -10.0   0.0\n",
      "7        7117  2025-02-02 09:00:00  101830   -60         6  100.0   3.3   3.700000   2.100000   89  20000.000000   1   40.000000     3  1250  101110    -990   NaN   NaN   1.734286    7.0     7.9 -10.0   0.0\n",
      "8        7130  2025-02-02 09:00:00  102180    60         3  120.0   2.3  -0.800000  -0.800000  100    240.000000  49  101.000000     9    30  101710    -780   NaN   NaN  -4.000000    3.4     4.8 -10.0   0.0\n",
      "9        7139  2025-02-02 09:00:00  102260   -20         8   20.0   1.8  -1.200000  -1.300000   99   3640.000000  10   79.090909     0  1046  100420    -790   NaN   NaN   3.900000    2.8     2.8 -10.0   0.0\n",
      "10       7149  2025-02-02 09:00:00  102370    30         0   60.0   0.8   0.700000  -1.200000   87   7800.000000   0   79.090909     0  1046  101230    -690   NaN   NaN   1.734286    1.7     2.0 -10.0   0.0\n",
      "11       7168  2025-02-02 09:00:00  102430     0         4  110.0   2.0  -0.700000  -1.800000   92   8710.000000   0   79.090909     0  1046  100930    -590   NaN   NaN  -3.000000    2.9     2.9 -10.0   0.0\n",
      "12       7181  2025-02-02 09:00:00  102490    50         0  220.0   0.7   0.400000  -0.900000   91  10330.000000   0   79.090909     0  1046   98140    -490   NaN   NaN  -5.500000    1.5     1.7 -10.0   0.0\n",
      "13       7190  2025-02-02 09:00:00  102570    80         0   20.0   1.7  -0.200000  -1.600000   90   8880.000000   0  100.000000     8   800  100660    -480   NaN   NaN  -3.600000    2.7     3.6 -10.0   0.0\n",
      "14       7207  2025-02-02 09:00:00  101673    12         4  140.0   9.9   7.800000   5.977193   87  16128.222222   6   79.090909     3  1046  100037    -408   NaN   NaN   1.734286   16.9    16.9 -10.0   0.0\n",
      "15       7222  2025-02-02 09:00:00  102120    30         0   60.0   1.1  -3.000000  -3.300000   98    800.000000  49  101.000000     9    30  101790    -680   NaN   NaN  -1.800000    1.8     2.2 -10.0   0.0\n",
      "16       7240  2025-02-02 09:00:00  102190   -30         8  100.0   3.0   0.600000  -0.400000   93   5710.000000   0   79.090909     0  1046  100780    -750   NaN   NaN   1.300000    4.6     4.6 -10.0   0.6\n",
      "17       7255  2025-02-02 09:00:00  102300    20         2  100.0   3.2   1.000000   0.000000   93   9320.000000   0   79.090909     3  1046  100220    -610   NaN   NaN   0.100000    4.4     4.4 -10.0   0.0\n",
      "18       7280  2025-02-02 09:00:00  102400    10         0   30.0   0.6   1.600000  -0.200000   88   7800.000000   0  100.000000     8   450   99650    -400   NaN   NaN  -5.300000    1.6     2.6 -10.0   0.0\n",
      "19       7299  2025-02-02 09:00:00  102440    30         0   90.0   3.7   3.000000   0.200000   82  16210.000000   0  100.000000     8   450   99060    -470   NaN   NaN   3.800000    5.7     6.8 -10.0   0.0\n",
      "20       7314  2025-02-02 09:00:00  102110   -40         6  140.0   2.0   3.100000   2.100000   93  10000.000000   1   10.000000     1  2250  101820    -610   NaN   NaN   1.734286    3.1     3.2 -10.0   0.0\n",
      "21       7335  2025-02-02 09:00:00  102190   -20         8  160.0   0.9  -0.800000  -0.900000   99    190.000000  49  101.000000     9    30  100670    -650   NaN   NaN   3.100000    1.7     2.2 -10.0   0.0\n",
      "22       7434  2025-02-02 09:00:00  102220    20         2   30.0   2.2   1.400000  -0.100000   90  14400.000000   0   79.090909     0  1046   97260    -480   NaN   NaN   0.500000    2.7     2.8 -10.0   0.0\n",
      "23       7460  2025-02-02 09:00:00  102300   -10         8  160.0   2.9   1.900000  -0.400000   85  10870.000000   0   79.090909     4   250   98210    -490   NaN   NaN   0.200000    4.3     5.9 -10.0   0.0\n",
      "24       7471  2025-02-02 09:00:00  101673    20         0  190.0   0.9  -3.300000  -3.700000   97   3930.000000  10  101.000000     9    30   92310    -370   NaN   NaN  -1.200000    1.6     1.9 -10.0   0.0\n",
      "25       7481  2025-02-02 09:00:00  102330    30         0  360.0   1.4   3.800000   1.200000   83  18000.000000   3  100.000000     8   800   99360    -370   NaN   NaN   1.734286    2.2     3.0 -10.0   0.0\n",
      "26       7510  2025-02-02 09:00:00  102150   -30         7  180.0   0.8   1.000000   1.000000  100   2810.000000  10  101.000000     9    30  101540    -460   NaN   NaN  -1.300000    1.4     3.4 -10.0   0.0\n",
      "27       7535  2025-02-02 09:00:00  102230     0         0   40.0   1.0   1.700000  -0.100000   88  19820.000000   0   79.090909     0  1046   98990    -350   NaN   NaN   1.300000    1.7     2.2 -10.0   0.0\n",
      "28       7558  2025-02-02 09:00:00  102130    60         1  170.0   0.6   1.800000   1.200000   96   1610.000000  10   79.090909     3  1046   93570    -250   NaN   NaN  -0.700000    1.5     2.4 -10.0  -0.1\n",
      "29       7577  2025-02-02 09:00:00  102200    40         0   10.0   3.9   6.400000   2.100000   74  19820.000000   0   79.090909     3  1046  101280    -320   NaN   NaN   3.300000    7.7     7.7 -10.0   0.0\n",
      "30       7591  2025-02-02 09:00:00  101673    50         1   70.0   3.7   7.600000  -1.100000   54  16128.222222   6   79.090909     3  1046   91730    -250   NaN   NaN   1.734286    8.8     8.8 -10.0   0.0\n",
      "31       7607  2025-02-02 09:00:00  102130   -60         8   90.0   1.6   1.300000   1.300000  100  19410.000000   0   79.090909     0  1046  101390    -370   NaN   NaN   2.500000    2.6     3.1 -10.0   0.0\n",
      "32       7621  2025-02-02 09:00:00  102130   -40         8  130.0   1.0   4.600000   2.500000   86  32860.000000   0   79.090909     0  1046   97690    -320   NaN   NaN  -1.300000    2.2     2.2 -10.0   0.0\n",
      "33       7627  2025-02-02 09:00:00  102240    20         8  200.0   0.6   1.000000   1.000000  100  20000.000000  28   10.000000     0  6310   97130    -250   NaN   NaN   0.700000    1.4     1.6 -10.0   0.0\n",
      "34       7630  2025-02-02 09:00:00  102210     0         0  200.0   1.9   3.100000   1.500000   89  16730.000000   0   79.090909     0  1046  100340    -280   NaN   NaN   1.300000    2.9     4.3 -10.0   0.0\n",
      "35       7650  2025-02-02 09:00:00  101930    20         3  350.0   1.2   7.800000   6.300000   90  16400.000000   0  100.000000     8  1750  101540    -290   NaN   NaN   7.700000    1.8     2.7 -10.0   3.0\n",
      "36       7661  2025-02-02 09:00:00  101673    12         4   60.0   5.4   8.136207   5.977193   87  16128.222222   6   79.090909     3  1046  100037    -408   NaN   NaN   1.734286    8.1     8.7 -10.0   0.0\n",
      "37       7690  2025-02-02 09:00:00  101830    50         3  330.0   6.4   9.800000   4.800000   71  50000.000000   2   90.000000     0  1046  101510    -460   NaN   NaN   7.800000    9.8     9.8 -10.0  -0.1\n",
      "38       7747  2025-02-02 09:00:00  102020    10         2  300.0   3.9   8.900000   1.800000   61  60000.000000   0   79.090909     1  1250  101480    -390   NaN   NaN   6.200000    6.1     7.0 -10.0   0.6\n",
      "39       7761  2025-02-02 09:00:00  101490   -40         7  270.0   0.5   9.800000   8.400000   91  33610.000000   0   75.000000     6  2250  101380    -740   NaN   NaN   6.900000    0.8     2.4 -10.0   0.0\n",
      "40       7790  2025-02-02 09:00:00  101740   -10         8  230.0   1.1  10.200000   9.600000   96  22370.000000   0   79.090909     1  1250  101590    -470   NaN   NaN   9.800000    1.7     2.0 -10.0   0.2\n",
      "41      61968  2025-02-02 09:00:00  100900   100         6  290.0   7.6   8.136207   5.977193   87  16128.222222   6   79.090909     3  1046  100850      20   NaN   NaN   1.734286    0.0    11.3 -10.0   0.0\n",
      "42      61970  2025-02-02 09:00:00  100810    80         8  260.0   2.1  33.800000  25.800000   63  16128.222222   6   79.090909     3  1046  100700     -50   NaN   NaN   1.734286    0.0     3.8 -10.0   0.0\n",
      "43      61972  2025-02-02 09:00:00  100940    70         7  150.0   5.8  31.100000  23.700000   65  16128.222222   6   79.090909     3  1046  100870      70   NaN   NaN   1.734286    0.0    10.5 -10.0   0.0\n",
      "44      61976  2025-02-02 09:00:00  100560    30         8    0.0   0.0  28.300000  25.100000   83  16128.222222   6   79.090909     3  1046  100470    -130   NaN   NaN   1.734286    0.0     0.0 -10.0  10.6\n",
      "45      61980  2025-02-02 09:00:00  100320  -210         6  110.0  12.5  33.500000  24.400000   59  19190.000000   0   79.090909     0  1046  100180    -340   NaN   NaN   1.734286   17.7    20.0 -10.0   0.4\n",
      "46      61996  2025-02-02 09:00:00  101330   180         8  330.0   6.9  22.800000  17.000000   70  16128.222222   6   79.090909     3  1046  100990    -630   NaN   NaN   1.734286    0.0     9.8 -10.0   0.0\n",
      "47      61997  2025-02-02 09:00:00   99230   350         3  220.0  17.5   6.900000   6.500000   97  16128.222222   6   79.090909     3  1046   97490    -540   NaN   NaN   1.734286    0.0    28.7 -10.0   1.6\n",
      "48      61998  2025-02-02 09:00:00   98250  -860         6  110.0  17.5   5.400000   5.100000   98  16128.222222   6   79.090909     3  1046   97890    -408   NaN   NaN   1.734286    0.0    25.2 -10.0   0.0\n",
      "49      67005  2025-02-02 09:00:00  100970   -30         8  270.0   5.8  25.700000  23.400000   87  20000.000000  61  100.000000     8  1750  100890     110   NaN   NaN   1.734286    7.6    11.2 -10.0  54.2\n",
      "50      71805  2025-02-02 09:00:00  101280   460         3  340.0   7.8  -7.100000 -12.200000   67  41940.000000   0  100.000000     8   800  101190    1040   NaN   NaN  -0.100000   11.6    12.9 -10.0  -0.1\n",
      "51      78890  2025-02-02 09:00:00  101450    70         5   80.0  11.2  25.800000  21.500000   77  16128.222222   6   79.090909     3  1046  101130    -100   NaN   NaN   1.734286    0.0    14.3 -10.0   4.2\n",
      "52      78897  2025-02-02 09:00:00  101470   -70         5  230.0   0.8  23.100000  21.000000   88  22550.000000   6   79.090909     3  1046  101380    -100   NaN   NaN   1.734286    0.0     0.0   0.0   1.2\n",
      "53      78922  2025-02-02 09:00:00  101460     0         5   90.0   6.5  22.200000  20.800000   92  16128.222222   6   79.090909     3  1046  101010     -60   NaN   NaN   1.734286   11.1    15.7 -10.0   5.6\n",
      "54      78925  2025-02-02 09:00:00  101400   -10         5   40.0   1.5  23.500000  21.900000   91  33880.000000   0  100.000000     8   800  101310     -50   NaN   NaN   1.734286    4.2     4.6 -10.0   1.6\n",
      "55      81401  2025-02-02 09:00:00  101040    60         3  140.0   1.3  23.100000  22.400000   96  16128.222222   6   79.090909     3  1046  100980     -80   NaN   NaN   1.734286    2.5     3.1 -10.0   0.6\n",
      "56      81405  2025-02-02 09:00:00  101000    20         3  220.0   0.9  24.500000  23.600000   95   8820.000000   0  100.000000     7   800  100910    -130   NaN   NaN  25.900000    1.6     2.0 -10.0   2.4\n",
      "57      81408  2025-02-02 09:00:00  100950    30         3  330.0   0.7  23.900000  23.600000   98  16128.222222   6   79.090909     3  1046  100870    -110   NaN   NaN   1.734286    2.0     2.0 -10.0   3.2\n",
      "58      81415  2025-02-02 09:00:00  101110    40         3  250.0   0.9  22.600000  21.800000   95  16128.222222   6   79.090909     3  1046   99880    -110   NaN   NaN   1.734286    1.5     1.5 -10.0   0.0\n",
      "59      89642  2025-02-02 09:00:00   98500    60         3  280.0   4.1   0.700000  -4.000000   71  30000.000000   2    0.000000     3  1046   97970    -408   NaN   NaN   1.734286    0.0     0.0   0.0   0.0\n"
     ]
    }
   ],
   "source": [
    "celcuis = [\"t\", \"td\", \"tn12\", \"tx12\", \"tminsol\"]\n",
    "for i in celcuis:\n",
    "    df[i] = df[i] - 273.15\n",
    "\n",
    "print(df.to_string())"
   ]
  },
  {
   "cell_type": "markdown",
   "metadata": {},
   "source": [
    "## Arrondir tous les decimaux à 2chiffres après la virgules"
   ]
  },
  {
   "cell_type": "code",
   "execution_count": 14,
   "metadata": {
    "execution": {
     "iopub.execute_input": "2025-02-02T10:05:13.662861Z",
     "iopub.status.busy": "2025-02-02T10:05:13.662660Z",
     "iopub.status.idle": "2025-02-02T10:05:13.686672Z",
     "shell.execute_reply": "2025-02-02T10:05:13.686120Z"
    }
   },
   "outputs": [
    {
     "name": "stdout",
     "output_type": "stream",
     "text": [
      "    numer_sta                 date    pmer  tend  cod_tend     dd    ff      t     td    u        vv  ww       n  nbas  hbas    pres  tend24  tn12  tx12  tminsol  raf10  rafper   per  rr12\n",
      "0        7005  2025-02-02 09:00:00  102380    20         2  120.0   2.1   0.00  -1.60   89  13180.00   0   79.09     3  1046  101470    -790   NaN   NaN    -1.20    4.6     4.6 -10.0   0.0\n",
      "1        7015  2025-02-02 09:00:00  102450     0         5  110.0   2.1  -0.70  -1.30   96   5980.00   0   79.09     0  1046  101850    -780   NaN   NaN    -3.40    2.6     2.6 -10.0   0.0\n",
      "2        7020  2025-02-02 09:00:00  102040   -10         8  170.0   4.6   3.70   2.20   90  15000.00   1   10.00     1   450  101930    -820   NaN   NaN     1.73    7.0     7.4 -10.0   0.0\n",
      "3        7027  2025-02-02 09:00:00  102210   -10         5  150.0   1.8  -0.10  -0.80   95   3200.00  10   79.09     0  1046  101360    -780   NaN   NaN     2.30    2.5     5.8 -10.0   0.0\n",
      "4        7037  2025-02-02 09:00:00  102330    20         0  120.0   2.5  -0.20  -1.30   92   6720.00   0   79.09     0  1046  100350    -800   NaN   NaN     0.60    3.7     4.1 -10.0   0.0\n",
      "5        7072  2025-02-02 09:00:00  102460    20         2  110.0   1.5  -0.70  -2.10   90  13450.00   0   79.09     0  1046  101250    -670   NaN   NaN    -0.60    2.3     2.6 -10.0   0.0\n",
      "6        7110  2025-02-02 09:00:00  101730    30         3  150.0   7.2   6.10   4.90   92  19590.00   0  100.00     8   250  100520   -1130   NaN   NaN     4.50   10.6    11.7 -10.0   0.0\n",
      "7        7117  2025-02-02 09:00:00  101830   -60         6  100.0   3.3   3.70   2.10   89  20000.00   1   40.00     3  1250  101110    -990   NaN   NaN     1.73    7.0     7.9 -10.0   0.0\n",
      "8        7130  2025-02-02 09:00:00  102180    60         3  120.0   2.3  -0.80  -0.80  100    240.00  49  101.00     9    30  101710    -780   NaN   NaN    -4.00    3.4     4.8 -10.0   0.0\n",
      "9        7139  2025-02-02 09:00:00  102260   -20         8   20.0   1.8  -1.20  -1.30   99   3640.00  10   79.09     0  1046  100420    -790   NaN   NaN     3.90    2.8     2.8 -10.0   0.0\n",
      "10       7149  2025-02-02 09:00:00  102370    30         0   60.0   0.8   0.70  -1.20   87   7800.00   0   79.09     0  1046  101230    -690   NaN   NaN     1.73    1.7     2.0 -10.0   0.0\n",
      "11       7168  2025-02-02 09:00:00  102430     0         4  110.0   2.0  -0.70  -1.80   92   8710.00   0   79.09     0  1046  100930    -590   NaN   NaN    -3.00    2.9     2.9 -10.0   0.0\n",
      "12       7181  2025-02-02 09:00:00  102490    50         0  220.0   0.7   0.40  -0.90   91  10330.00   0   79.09     0  1046   98140    -490   NaN   NaN    -5.50    1.5     1.7 -10.0   0.0\n",
      "13       7190  2025-02-02 09:00:00  102570    80         0   20.0   1.7  -0.20  -1.60   90   8880.00   0  100.00     8   800  100660    -480   NaN   NaN    -3.60    2.7     3.6 -10.0   0.0\n",
      "14       7207  2025-02-02 09:00:00  101673    12         4  140.0   9.9   7.80   5.98   87  16128.22   6   79.09     3  1046  100037    -408   NaN   NaN     1.73   16.9    16.9 -10.0   0.0\n",
      "15       7222  2025-02-02 09:00:00  102120    30         0   60.0   1.1  -3.00  -3.30   98    800.00  49  101.00     9    30  101790    -680   NaN   NaN    -1.80    1.8     2.2 -10.0   0.0\n",
      "16       7240  2025-02-02 09:00:00  102190   -30         8  100.0   3.0   0.60  -0.40   93   5710.00   0   79.09     0  1046  100780    -750   NaN   NaN     1.30    4.6     4.6 -10.0   0.6\n",
      "17       7255  2025-02-02 09:00:00  102300    20         2  100.0   3.2   1.00   0.00   93   9320.00   0   79.09     3  1046  100220    -610   NaN   NaN     0.10    4.4     4.4 -10.0   0.0\n",
      "18       7280  2025-02-02 09:00:00  102400    10         0   30.0   0.6   1.60  -0.20   88   7800.00   0  100.00     8   450   99650    -400   NaN   NaN    -5.30    1.6     2.6 -10.0   0.0\n",
      "19       7299  2025-02-02 09:00:00  102440    30         0   90.0   3.7   3.00   0.20   82  16210.00   0  100.00     8   450   99060    -470   NaN   NaN     3.80    5.7     6.8 -10.0   0.0\n",
      "20       7314  2025-02-02 09:00:00  102110   -40         6  140.0   2.0   3.10   2.10   93  10000.00   1   10.00     1  2250  101820    -610   NaN   NaN     1.73    3.1     3.2 -10.0   0.0\n",
      "21       7335  2025-02-02 09:00:00  102190   -20         8  160.0   0.9  -0.80  -0.90   99    190.00  49  101.00     9    30  100670    -650   NaN   NaN     3.10    1.7     2.2 -10.0   0.0\n",
      "22       7434  2025-02-02 09:00:00  102220    20         2   30.0   2.2   1.40  -0.10   90  14400.00   0   79.09     0  1046   97260    -480   NaN   NaN     0.50    2.7     2.8 -10.0   0.0\n",
      "23       7460  2025-02-02 09:00:00  102300   -10         8  160.0   2.9   1.90  -0.40   85  10870.00   0   79.09     4   250   98210    -490   NaN   NaN     0.20    4.3     5.9 -10.0   0.0\n",
      "24       7471  2025-02-02 09:00:00  101673    20         0  190.0   0.9  -3.30  -3.70   97   3930.00  10  101.00     9    30   92310    -370   NaN   NaN    -1.20    1.6     1.9 -10.0   0.0\n",
      "25       7481  2025-02-02 09:00:00  102330    30         0  360.0   1.4   3.80   1.20   83  18000.00   3  100.00     8   800   99360    -370   NaN   NaN     1.73    2.2     3.0 -10.0   0.0\n",
      "26       7510  2025-02-02 09:00:00  102150   -30         7  180.0   0.8   1.00   1.00  100   2810.00  10  101.00     9    30  101540    -460   NaN   NaN    -1.30    1.4     3.4 -10.0   0.0\n",
      "27       7535  2025-02-02 09:00:00  102230     0         0   40.0   1.0   1.70  -0.10   88  19820.00   0   79.09     0  1046   98990    -350   NaN   NaN     1.30    1.7     2.2 -10.0   0.0\n",
      "28       7558  2025-02-02 09:00:00  102130    60         1  170.0   0.6   1.80   1.20   96   1610.00  10   79.09     3  1046   93570    -250   NaN   NaN    -0.70    1.5     2.4 -10.0  -0.1\n",
      "29       7577  2025-02-02 09:00:00  102200    40         0   10.0   3.9   6.40   2.10   74  19820.00   0   79.09     3  1046  101280    -320   NaN   NaN     3.30    7.7     7.7 -10.0   0.0\n",
      "30       7591  2025-02-02 09:00:00  101673    50         1   70.0   3.7   7.60  -1.10   54  16128.22   6   79.09     3  1046   91730    -250   NaN   NaN     1.73    8.8     8.8 -10.0   0.0\n",
      "31       7607  2025-02-02 09:00:00  102130   -60         8   90.0   1.6   1.30   1.30  100  19410.00   0   79.09     0  1046  101390    -370   NaN   NaN     2.50    2.6     3.1 -10.0   0.0\n",
      "32       7621  2025-02-02 09:00:00  102130   -40         8  130.0   1.0   4.60   2.50   86  32860.00   0   79.09     0  1046   97690    -320   NaN   NaN    -1.30    2.2     2.2 -10.0   0.0\n",
      "33       7627  2025-02-02 09:00:00  102240    20         8  200.0   0.6   1.00   1.00  100  20000.00  28   10.00     0  6310   97130    -250   NaN   NaN     0.70    1.4     1.6 -10.0   0.0\n",
      "34       7630  2025-02-02 09:00:00  102210     0         0  200.0   1.9   3.10   1.50   89  16730.00   0   79.09     0  1046  100340    -280   NaN   NaN     1.30    2.9     4.3 -10.0   0.0\n",
      "35       7650  2025-02-02 09:00:00  101930    20         3  350.0   1.2   7.80   6.30   90  16400.00   0  100.00     8  1750  101540    -290   NaN   NaN     7.70    1.8     2.7 -10.0   3.0\n",
      "36       7661  2025-02-02 09:00:00  101673    12         4   60.0   5.4   8.14   5.98   87  16128.22   6   79.09     3  1046  100037    -408   NaN   NaN     1.73    8.1     8.7 -10.0   0.0\n",
      "37       7690  2025-02-02 09:00:00  101830    50         3  330.0   6.4   9.80   4.80   71  50000.00   2   90.00     0  1046  101510    -460   NaN   NaN     7.80    9.8     9.8 -10.0  -0.1\n",
      "38       7747  2025-02-02 09:00:00  102020    10         2  300.0   3.9   8.90   1.80   61  60000.00   0   79.09     1  1250  101480    -390   NaN   NaN     6.20    6.1     7.0 -10.0   0.6\n",
      "39       7761  2025-02-02 09:00:00  101490   -40         7  270.0   0.5   9.80   8.40   91  33610.00   0   75.00     6  2250  101380    -740   NaN   NaN     6.90    0.8     2.4 -10.0   0.0\n",
      "40       7790  2025-02-02 09:00:00  101740   -10         8  230.0   1.1  10.20   9.60   96  22370.00   0   79.09     1  1250  101590    -470   NaN   NaN     9.80    1.7     2.0 -10.0   0.2\n",
      "41      61968  2025-02-02 09:00:00  100900   100         6  290.0   7.6   8.14   5.98   87  16128.22   6   79.09     3  1046  100850      20   NaN   NaN     1.73    0.0    11.3 -10.0   0.0\n",
      "42      61970  2025-02-02 09:00:00  100810    80         8  260.0   2.1  33.80  25.80   63  16128.22   6   79.09     3  1046  100700     -50   NaN   NaN     1.73    0.0     3.8 -10.0   0.0\n",
      "43      61972  2025-02-02 09:00:00  100940    70         7  150.0   5.8  31.10  23.70   65  16128.22   6   79.09     3  1046  100870      70   NaN   NaN     1.73    0.0    10.5 -10.0   0.0\n",
      "44      61976  2025-02-02 09:00:00  100560    30         8    0.0   0.0  28.30  25.10   83  16128.22   6   79.09     3  1046  100470    -130   NaN   NaN     1.73    0.0     0.0 -10.0  10.6\n",
      "45      61980  2025-02-02 09:00:00  100320  -210         6  110.0  12.5  33.50  24.40   59  19190.00   0   79.09     0  1046  100180    -340   NaN   NaN     1.73   17.7    20.0 -10.0   0.4\n",
      "46      61996  2025-02-02 09:00:00  101330   180         8  330.0   6.9  22.80  17.00   70  16128.22   6   79.09     3  1046  100990    -630   NaN   NaN     1.73    0.0     9.8 -10.0   0.0\n",
      "47      61997  2025-02-02 09:00:00   99230   350         3  220.0  17.5   6.90   6.50   97  16128.22   6   79.09     3  1046   97490    -540   NaN   NaN     1.73    0.0    28.7 -10.0   1.6\n",
      "48      61998  2025-02-02 09:00:00   98250  -860         6  110.0  17.5   5.40   5.10   98  16128.22   6   79.09     3  1046   97890    -408   NaN   NaN     1.73    0.0    25.2 -10.0   0.0\n",
      "49      67005  2025-02-02 09:00:00  100970   -30         8  270.0   5.8  25.70  23.40   87  20000.00  61  100.00     8  1750  100890     110   NaN   NaN     1.73    7.6    11.2 -10.0  54.2\n",
      "50      71805  2025-02-02 09:00:00  101280   460         3  340.0   7.8  -7.10 -12.20   67  41940.00   0  100.00     8   800  101190    1040   NaN   NaN    -0.10   11.6    12.9 -10.0  -0.1\n",
      "51      78890  2025-02-02 09:00:00  101450    70         5   80.0  11.2  25.80  21.50   77  16128.22   6   79.09     3  1046  101130    -100   NaN   NaN     1.73    0.0    14.3 -10.0   4.2\n",
      "52      78897  2025-02-02 09:00:00  101470   -70         5  230.0   0.8  23.10  21.00   88  22550.00   6   79.09     3  1046  101380    -100   NaN   NaN     1.73    0.0     0.0   0.0   1.2\n",
      "53      78922  2025-02-02 09:00:00  101460     0         5   90.0   6.5  22.20  20.80   92  16128.22   6   79.09     3  1046  101010     -60   NaN   NaN     1.73   11.1    15.7 -10.0   5.6\n",
      "54      78925  2025-02-02 09:00:00  101400   -10         5   40.0   1.5  23.50  21.90   91  33880.00   0  100.00     8   800  101310     -50   NaN   NaN     1.73    4.2     4.6 -10.0   1.6\n",
      "55      81401  2025-02-02 09:00:00  101040    60         3  140.0   1.3  23.10  22.40   96  16128.22   6   79.09     3  1046  100980     -80   NaN   NaN     1.73    2.5     3.1 -10.0   0.6\n",
      "56      81405  2025-02-02 09:00:00  101000    20         3  220.0   0.9  24.50  23.60   95   8820.00   0  100.00     7   800  100910    -130   NaN   NaN    25.90    1.6     2.0 -10.0   2.4\n",
      "57      81408  2025-02-02 09:00:00  100950    30         3  330.0   0.7  23.90  23.60   98  16128.22   6   79.09     3  1046  100870    -110   NaN   NaN     1.73    2.0     2.0 -10.0   3.2\n",
      "58      81415  2025-02-02 09:00:00  101110    40         3  250.0   0.9  22.60  21.80   95  16128.22   6   79.09     3  1046   99880    -110   NaN   NaN     1.73    1.5     1.5 -10.0   0.0\n",
      "59      89642  2025-02-02 09:00:00   98500    60         3  280.0   4.1   0.70  -4.00   71  30000.00   2    0.00     3  1046   97970    -408   NaN   NaN     1.73    0.0     0.0   0.0   0.0\n"
     ]
    }
   ],
   "source": [
    "df[double] = df[double].round(2)\n",
    "print(df.to_string())"
   ]
  },
  {
   "cell_type": "markdown",
   "metadata": {},
   "source": [
    "# Add verif to check is all values"
   ]
  },
  {
   "cell_type": "code",
   "execution_count": 15,
   "metadata": {
    "execution": {
     "iopub.execute_input": "2025-02-02T10:05:13.688580Z",
     "iopub.status.busy": "2025-02-02T10:05:13.688375Z",
     "iopub.status.idle": "2025-02-02T10:05:13.717192Z",
     "shell.execute_reply": "2025-02-02T10:05:13.716578Z"
    }
   },
   "outputs": [
    {
     "name": "stdout",
     "output_type": "stream",
     "text": [
      "    numer_sta                 date    pmer  tend  cod_tend     dd    ff      t     td    u        vv  ww       n  nbas  hbas    pres  tend24  tn12  tx12  tminsol  raf10  rafper   per  rr12\n",
      "0        7005  2025-02-02 09:00:00  102380    20         2  120.0   2.1   0.00  -1.60   89  13180.00   0   79.09     3  1046  101470    -790   0.0   0.0    -1.20    4.6     4.6 -10.0   0.0\n",
      "1        7015  2025-02-02 09:00:00  102450     0         5  110.0   2.1  -0.70  -1.30   96   5980.00   0   79.09     0  1046  101850    -780   0.0   0.0    -3.40    2.6     2.6 -10.0   0.0\n",
      "2        7020  2025-02-02 09:00:00  102040   -10         8  170.0   4.6   3.70   2.20   90  15000.00   1   10.00     1   450  101930    -820   0.0   0.0     1.73    7.0     7.4 -10.0   0.0\n",
      "3        7027  2025-02-02 09:00:00  102210   -10         5  150.0   1.8  -0.10  -0.80   95   3200.00  10   79.09     0  1046  101360    -780   0.0   0.0     2.30    2.5     5.8 -10.0   0.0\n",
      "4        7037  2025-02-02 09:00:00  102330    20         0  120.0   2.5  -0.20  -1.30   92   6720.00   0   79.09     0  1046  100350    -800   0.0   0.0     0.60    3.7     4.1 -10.0   0.0\n",
      "5        7072  2025-02-02 09:00:00  102460    20         2  110.0   1.5  -0.70  -2.10   90  13450.00   0   79.09     0  1046  101250    -670   0.0   0.0    -0.60    2.3     2.6 -10.0   0.0\n",
      "6        7110  2025-02-02 09:00:00  101730    30         3  150.0   7.2   6.10   4.90   92  19590.00   0  100.00     8   250  100520   -1130   0.0   0.0     4.50   10.6    11.7 -10.0   0.0\n",
      "7        7117  2025-02-02 09:00:00  101830   -60         6  100.0   3.3   3.70   2.10   89  20000.00   1   40.00     3  1250  101110    -990   0.0   0.0     1.73    7.0     7.9 -10.0   0.0\n",
      "8        7130  2025-02-02 09:00:00  102180    60         3  120.0   2.3  -0.80  -0.80  100    240.00  49  101.00     9    30  101710    -780   0.0   0.0    -4.00    3.4     4.8 -10.0   0.0\n",
      "9        7139  2025-02-02 09:00:00  102260   -20         8   20.0   1.8  -1.20  -1.30   99   3640.00  10   79.09     0  1046  100420    -790   0.0   0.0     3.90    2.8     2.8 -10.0   0.0\n",
      "10       7149  2025-02-02 09:00:00  102370    30         0   60.0   0.8   0.70  -1.20   87   7800.00   0   79.09     0  1046  101230    -690   0.0   0.0     1.73    1.7     2.0 -10.0   0.0\n",
      "11       7168  2025-02-02 09:00:00  102430     0         4  110.0   2.0  -0.70  -1.80   92   8710.00   0   79.09     0  1046  100930    -590   0.0   0.0    -3.00    2.9     2.9 -10.0   0.0\n",
      "12       7181  2025-02-02 09:00:00  102490    50         0  220.0   0.7   0.40  -0.90   91  10330.00   0   79.09     0  1046   98140    -490   0.0   0.0    -5.50    1.5     1.7 -10.0   0.0\n",
      "13       7190  2025-02-02 09:00:00  102570    80         0   20.0   1.7  -0.20  -1.60   90   8880.00   0  100.00     8   800  100660    -480   0.0   0.0    -3.60    2.7     3.6 -10.0   0.0\n",
      "14       7207  2025-02-02 09:00:00  101673    12         4  140.0   9.9   7.80   5.98   87  16128.22   6   79.09     3  1046  100037    -408   0.0   0.0     1.73   16.9    16.9 -10.0   0.0\n",
      "15       7222  2025-02-02 09:00:00  102120    30         0   60.0   1.1  -3.00  -3.30   98    800.00  49  101.00     9    30  101790    -680   0.0   0.0    -1.80    1.8     2.2 -10.0   0.0\n",
      "16       7240  2025-02-02 09:00:00  102190   -30         8  100.0   3.0   0.60  -0.40   93   5710.00   0   79.09     0  1046  100780    -750   0.0   0.0     1.30    4.6     4.6 -10.0   0.6\n",
      "17       7255  2025-02-02 09:00:00  102300    20         2  100.0   3.2   1.00   0.00   93   9320.00   0   79.09     3  1046  100220    -610   0.0   0.0     0.10    4.4     4.4 -10.0   0.0\n",
      "18       7280  2025-02-02 09:00:00  102400    10         0   30.0   0.6   1.60  -0.20   88   7800.00   0  100.00     8   450   99650    -400   0.0   0.0    -5.30    1.6     2.6 -10.0   0.0\n",
      "19       7299  2025-02-02 09:00:00  102440    30         0   90.0   3.7   3.00   0.20   82  16210.00   0  100.00     8   450   99060    -470   0.0   0.0     3.80    5.7     6.8 -10.0   0.0\n",
      "20       7314  2025-02-02 09:00:00  102110   -40         6  140.0   2.0   3.10   2.10   93  10000.00   1   10.00     1  2250  101820    -610   0.0   0.0     1.73    3.1     3.2 -10.0   0.0\n",
      "21       7335  2025-02-02 09:00:00  102190   -20         8  160.0   0.9  -0.80  -0.90   99    190.00  49  101.00     9    30  100670    -650   0.0   0.0     3.10    1.7     2.2 -10.0   0.0\n",
      "22       7434  2025-02-02 09:00:00  102220    20         2   30.0   2.2   1.40  -0.10   90  14400.00   0   79.09     0  1046   97260    -480   0.0   0.0     0.50    2.7     2.8 -10.0   0.0\n",
      "23       7460  2025-02-02 09:00:00  102300   -10         8  160.0   2.9   1.90  -0.40   85  10870.00   0   79.09     4   250   98210    -490   0.0   0.0     0.20    4.3     5.9 -10.0   0.0\n",
      "24       7471  2025-02-02 09:00:00  101673    20         0  190.0   0.9  -3.30  -3.70   97   3930.00  10  101.00     9    30   92310    -370   0.0   0.0    -1.20    1.6     1.9 -10.0   0.0\n",
      "25       7481  2025-02-02 09:00:00  102330    30         0  360.0   1.4   3.80   1.20   83  18000.00   3  100.00     8   800   99360    -370   0.0   0.0     1.73    2.2     3.0 -10.0   0.0\n",
      "26       7510  2025-02-02 09:00:00  102150   -30         7  180.0   0.8   1.00   1.00  100   2810.00  10  101.00     9    30  101540    -460   0.0   0.0    -1.30    1.4     3.4 -10.0   0.0\n",
      "27       7535  2025-02-02 09:00:00  102230     0         0   40.0   1.0   1.70  -0.10   88  19820.00   0   79.09     0  1046   98990    -350   0.0   0.0     1.30    1.7     2.2 -10.0   0.0\n",
      "28       7558  2025-02-02 09:00:00  102130    60         1  170.0   0.6   1.80   1.20   96   1610.00  10   79.09     3  1046   93570    -250   0.0   0.0    -0.70    1.5     2.4 -10.0  -0.1\n",
      "29       7577  2025-02-02 09:00:00  102200    40         0   10.0   3.9   6.40   2.10   74  19820.00   0   79.09     3  1046  101280    -320   0.0   0.0     3.30    7.7     7.7 -10.0   0.0\n",
      "30       7591  2025-02-02 09:00:00  101673    50         1   70.0   3.7   7.60  -1.10   54  16128.22   6   79.09     3  1046   91730    -250   0.0   0.0     1.73    8.8     8.8 -10.0   0.0\n",
      "31       7607  2025-02-02 09:00:00  102130   -60         8   90.0   1.6   1.30   1.30  100  19410.00   0   79.09     0  1046  101390    -370   0.0   0.0     2.50    2.6     3.1 -10.0   0.0\n",
      "32       7621  2025-02-02 09:00:00  102130   -40         8  130.0   1.0   4.60   2.50   86  32860.00   0   79.09     0  1046   97690    -320   0.0   0.0    -1.30    2.2     2.2 -10.0   0.0\n",
      "33       7627  2025-02-02 09:00:00  102240    20         8  200.0   0.6   1.00   1.00  100  20000.00  28   10.00     0  6310   97130    -250   0.0   0.0     0.70    1.4     1.6 -10.0   0.0\n",
      "34       7630  2025-02-02 09:00:00  102210     0         0  200.0   1.9   3.10   1.50   89  16730.00   0   79.09     0  1046  100340    -280   0.0   0.0     1.30    2.9     4.3 -10.0   0.0\n",
      "35       7650  2025-02-02 09:00:00  101930    20         3  350.0   1.2   7.80   6.30   90  16400.00   0  100.00     8  1750  101540    -290   0.0   0.0     7.70    1.8     2.7 -10.0   3.0\n",
      "36       7661  2025-02-02 09:00:00  101673    12         4   60.0   5.4   8.14   5.98   87  16128.22   6   79.09     3  1046  100037    -408   0.0   0.0     1.73    8.1     8.7 -10.0   0.0\n",
      "37       7690  2025-02-02 09:00:00  101830    50         3  330.0   6.4   9.80   4.80   71  50000.00   2   90.00     0  1046  101510    -460   0.0   0.0     7.80    9.8     9.8 -10.0  -0.1\n",
      "38       7747  2025-02-02 09:00:00  102020    10         2  300.0   3.9   8.90   1.80   61  60000.00   0   79.09     1  1250  101480    -390   0.0   0.0     6.20    6.1     7.0 -10.0   0.6\n",
      "39       7761  2025-02-02 09:00:00  101490   -40         7  270.0   0.5   9.80   8.40   91  33610.00   0   75.00     6  2250  101380    -740   0.0   0.0     6.90    0.8     2.4 -10.0   0.0\n",
      "40       7790  2025-02-02 09:00:00  101740   -10         8  230.0   1.1  10.20   9.60   96  22370.00   0   79.09     1  1250  101590    -470   0.0   0.0     9.80    1.7     2.0 -10.0   0.2\n",
      "41      61968  2025-02-02 09:00:00  100900   100         6  290.0   7.6   8.14   5.98   87  16128.22   6   79.09     3  1046  100850      20   0.0   0.0     1.73    0.0    11.3 -10.0   0.0\n",
      "42      61970  2025-02-02 09:00:00  100810    80         8  260.0   2.1  33.80  25.80   63  16128.22   6   79.09     3  1046  100700     -50   0.0   0.0     1.73    0.0     3.8 -10.0   0.0\n",
      "43      61972  2025-02-02 09:00:00  100940    70         7  150.0   5.8  31.10  23.70   65  16128.22   6   79.09     3  1046  100870      70   0.0   0.0     1.73    0.0    10.5 -10.0   0.0\n",
      "44      61976  2025-02-02 09:00:00  100560    30         8    0.0   0.0  28.30  25.10   83  16128.22   6   79.09     3  1046  100470    -130   0.0   0.0     1.73    0.0     0.0 -10.0  10.6\n",
      "45      61980  2025-02-02 09:00:00  100320  -210         6  110.0  12.5  33.50  24.40   59  19190.00   0   79.09     0  1046  100180    -340   0.0   0.0     1.73   17.7    20.0 -10.0   0.4\n",
      "46      61996  2025-02-02 09:00:00  101330   180         8  330.0   6.9  22.80  17.00   70  16128.22   6   79.09     3  1046  100990    -630   0.0   0.0     1.73    0.0     9.8 -10.0   0.0\n",
      "47      61997  2025-02-02 09:00:00   99230   350         3  220.0  17.5   6.90   6.50   97  16128.22   6   79.09     3  1046   97490    -540   0.0   0.0     1.73    0.0    28.7 -10.0   1.6\n",
      "48      61998  2025-02-02 09:00:00   98250  -860         6  110.0  17.5   5.40   5.10   98  16128.22   6   79.09     3  1046   97890    -408   0.0   0.0     1.73    0.0    25.2 -10.0   0.0\n",
      "49      67005  2025-02-02 09:00:00  100970   -30         8  270.0   5.8  25.70  23.40   87  20000.00  61  100.00     8  1750  100890     110   0.0   0.0     1.73    7.6    11.2 -10.0  54.2\n",
      "50      71805  2025-02-02 09:00:00  101280   460         3  340.0   7.8  -7.10 -12.20   67  41940.00   0  100.00     8   800  101190    1040   0.0   0.0    -0.10   11.6    12.9 -10.0  -0.1\n",
      "51      78890  2025-02-02 09:00:00  101450    70         5   80.0  11.2  25.80  21.50   77  16128.22   6   79.09     3  1046  101130    -100   0.0   0.0     1.73    0.0    14.3 -10.0   4.2\n",
      "52      78897  2025-02-02 09:00:00  101470   -70         5  230.0   0.8  23.10  21.00   88  22550.00   6   79.09     3  1046  101380    -100   0.0   0.0     1.73    0.0     0.0   0.0   1.2\n",
      "53      78922  2025-02-02 09:00:00  101460     0         5   90.0   6.5  22.20  20.80   92  16128.22   6   79.09     3  1046  101010     -60   0.0   0.0     1.73   11.1    15.7 -10.0   5.6\n",
      "54      78925  2025-02-02 09:00:00  101400   -10         5   40.0   1.5  23.50  21.90   91  33880.00   0  100.00     8   800  101310     -50   0.0   0.0     1.73    4.2     4.6 -10.0   1.6\n",
      "55      81401  2025-02-02 09:00:00  101040    60         3  140.0   1.3  23.10  22.40   96  16128.22   6   79.09     3  1046  100980     -80   0.0   0.0     1.73    2.5     3.1 -10.0   0.6\n",
      "56      81405  2025-02-02 09:00:00  101000    20         3  220.0   0.9  24.50  23.60   95   8820.00   0  100.00     7   800  100910    -130   0.0   0.0    25.90    1.6     2.0 -10.0   2.4\n",
      "57      81408  2025-02-02 09:00:00  100950    30         3  330.0   0.7  23.90  23.60   98  16128.22   6   79.09     3  1046  100870    -110   0.0   0.0     1.73    2.0     2.0 -10.0   3.2\n",
      "58      81415  2025-02-02 09:00:00  101110    40         3  250.0   0.9  22.60  21.80   95  16128.22   6   79.09     3  1046   99880    -110   0.0   0.0     1.73    1.5     1.5 -10.0   0.0\n",
      "59      89642  2025-02-02 09:00:00   98500    60         3  280.0   4.1   0.70  -4.00   71  30000.00   2    0.00     3  1046   97970    -408   0.0   0.0     1.73    0.0     0.0   0.0   0.0\n"
     ]
    },
    {
     "name": "stderr",
     "output_type": "stream",
     "text": [
      "/tmp/ipykernel_1820102/555783230.py:5: FutureWarning: A value is trying to be set on a copy of a DataFrame or Series through chained assignment using an inplace method.\n",
      "The behavior will change in pandas 3.0. This inplace method will never work because the intermediate object on which we are setting values always behaves as a copy.\n",
      "\n",
      "For example, when doing 'df[col].method(value, inplace=True)', try using 'df.method({col: value}, inplace=True)' or df[col] = df[col].method(value) instead, to perform the operation inplace on the original object.\n",
      "\n",
      "\n",
      "  df[col].fillna(0.0,inplace=True)\n"
     ]
    }
   ],
   "source": [
    "verif = [\"pmer\", \"tend\", \"cod_tend\", \"pres\", \"tend24\", \"t\", \"td\", \"tn12\", \"tx12\", \"tminsol\", \"u\", \"vv\", \"n\", \"nbas\", \"hbas\", \"ww\"]\n",
    "\n",
    "for col in verif:\n",
    "    if df[col].isna().all() :\n",
    "        df[col].fillna(0.0,inplace=True)\n",
    "\n",
    "print(df.to_string())"
   ]
  },
  {
   "cell_type": "markdown",
   "metadata": {},
   "source": [
    "# Archive file"
   ]
  },
  {
   "cell_type": "code",
   "execution_count": 16,
   "metadata": {
    "execution": {
     "iopub.execute_input": "2025-02-02T10:05:13.719261Z",
     "iopub.status.busy": "2025-02-02T10:05:13.719044Z",
     "iopub.status.idle": "2025-02-02T10:05:13.722896Z",
     "shell.execute_reply": "2025-02-02T10:05:13.722194Z"
    }
   },
   "outputs": [
    {
     "name": "stdout",
     "output_type": "stream",
     "text": [
      "Le fichier a été déplacé de /home/mamoudou/dossier_partage/donnees-meteo/download/synop.2025020209.csv à /home/mamoudou/dossier_partage/donnees-meteo/archive/daily/synop.2025020209.csv\n"
     ]
    }
   ],
   "source": [
    "from file_management import move_file\n",
    "\n",
    "move_file(cvs_file, ARCHIVE_DIRECTORY)"
   ]
  },
  {
   "cell_type": "markdown",
   "metadata": {},
   "source": [
    "# Sending data to API"
   ]
  },
  {
   "cell_type": "code",
   "execution_count": 17,
   "metadata": {
    "execution": {
     "iopub.execute_input": "2025-02-02T10:05:13.724886Z",
     "iopub.status.busy": "2025-02-02T10:05:13.724690Z",
     "iopub.status.idle": "2025-02-02T10:05:13.783812Z",
     "shell.execute_reply": "2025-02-02T10:05:13.783065Z"
    }
   },
   "outputs": [],
   "source": [
    "import requests\n",
    "from api import send_data"
   ]
  },
  {
   "cell_type": "code",
   "execution_count": 18,
   "metadata": {
    "execution": {
     "iopub.execute_input": "2025-02-02T10:05:13.786087Z",
     "iopub.status.busy": "2025-02-02T10:05:13.785877Z",
     "iopub.status.idle": "2025-02-02T10:05:13.963480Z",
     "shell.execute_reply": "2025-02-02T10:05:13.962894Z"
    }
   },
   "outputs": [
    {
     "name": "stdout",
     "output_type": "stream",
     "text": [
      "{'numer_sta': 7005, 'date': '2025-02-02 09:00:00', 'pmer': 102380, 'tend': 20, 'cod_tend': 2, 'dd': 120.0, 'ff': 2.1, 't': 0.0, 'td': -1.6, 'u': 89, 'vv': 13180.0, 'ww': 0, 'n': 79.09, 'nbas': 3, 'hbas': 1046, 'pres': 101470, 'tend24': -790, 'tn12': 0.0, 'tx12': 0.0, 'tminsol': -1.2, 'raf10': 4.6, 'rafper': 4.6, 'per': -10.0, 'rr12': 0.0}\n"
     ]
    },
    {
     "name": "stdout",
     "output_type": "stream",
     "text": [
      "Données ajoutées avec succès!\n",
      "{'numer_sta': 7015, 'date': '2025-02-02 09:00:00', 'pmer': 102450, 'tend': 0, 'cod_tend': 5, 'dd': 110.0, 'ff': 2.1, 't': -0.7, 'td': -1.3, 'u': 96, 'vv': 5980.0, 'ww': 0, 'n': 79.09, 'nbas': 0, 'hbas': 1046, 'pres': 101850, 'tend24': -780, 'tn12': 0.0, 'tx12': 0.0, 'tminsol': -3.4, 'raf10': 2.6, 'rafper': 2.6, 'per': -10.0, 'rr12': 0.0}\n",
      "Données ajoutées avec succès!\n",
      "{'numer_sta': 7020, 'date': '2025-02-02 09:00:00', 'pmer': 102040, 'tend': -10, 'cod_tend': 8, 'dd': 170.0, 'ff': 4.6, 't': 3.7, 'td': 2.2, 'u': 90, 'vv': 15000.0, 'ww': 1, 'n': 10.0, 'nbas': 1, 'hbas': 450, 'pres': 101930, 'tend24': -820, 'tn12': 0.0, 'tx12': 0.0, 'tminsol': 1.73, 'raf10': 7.0, 'rafper': 7.4, 'per': -10.0, 'rr12': 0.0}\n",
      "Données ajoutées avec succès!\n",
      "{'numer_sta': 7027, 'date': '2025-02-02 09:00:00', 'pmer': 102210, 'tend': -10, 'cod_tend': 5, 'dd': 150.0, 'ff': 1.8, 't': -0.1, 'td': -0.8, 'u': 95, 'vv': 3200.0, 'ww': 10, 'n': 79.09, 'nbas': 0, 'hbas': 1046, 'pres': 101360, 'tend24': -780, 'tn12': 0.0, 'tx12': 0.0, 'tminsol': 2.3, 'raf10': 2.5, 'rafper': 5.8, 'per': -10.0, 'rr12': 0.0}\n",
      "Données ajoutées avec succès!\n"
     ]
    },
    {
     "name": "stdout",
     "output_type": "stream",
     "text": [
      "{'numer_sta': 7037, 'date': '2025-02-02 09:00:00', 'pmer': 102330, 'tend': 20, 'cod_tend': 0, 'dd': 120.0, 'ff': 2.5, 't': -0.2, 'td': -1.3, 'u': 92, 'vv': 6720.0, 'ww': 0, 'n': 79.09, 'nbas': 0, 'hbas': 1046, 'pres': 100350, 'tend24': -800, 'tn12': 0.0, 'tx12': 0.0, 'tminsol': 0.6, 'raf10': 3.7, 'rafper': 4.1, 'per': -10.0, 'rr12': 0.0}\n",
      "Données ajoutées avec succès!\n",
      "{'numer_sta': 7072, 'date': '2025-02-02 09:00:00', 'pmer': 102460, 'tend': 20, 'cod_tend': 2, 'dd': 110.0, 'ff': 1.5, 't': -0.7, 'td': -2.1, 'u': 90, 'vv': 13450.0, 'ww': 0, 'n': 79.09, 'nbas': 0, 'hbas': 1046, 'pres': 101250, 'tend24': -670, 'tn12': 0.0, 'tx12': 0.0, 'tminsol': -0.6, 'raf10': 2.3, 'rafper': 2.6, 'per': -10.0, 'rr12': 0.0}\n",
      "Données ajoutées avec succès!\n",
      "{'numer_sta': 7110, 'date': '2025-02-02 09:00:00', 'pmer': 101730, 'tend': 30, 'cod_tend': 3, 'dd': 150.0, 'ff': 7.2, 't': 6.1, 'td': 4.9, 'u': 92, 'vv': 19590.0, 'ww': 0, 'n': 100.0, 'nbas': 8, 'hbas': 250, 'pres': 100520, 'tend24': -1130, 'tn12': 0.0, 'tx12': 0.0, 'tminsol': 4.5, 'raf10': 10.6, 'rafper': 11.7, 'per': -10.0, 'rr12': 0.0}\n",
      "Données ajoutées avec succès!\n",
      "{'numer_sta': 7117, 'date': '2025-02-02 09:00:00', 'pmer': 101830, 'tend': -60, 'cod_tend': 6, 'dd': 100.0, 'ff': 3.3, 't': 3.7, 'td': 2.1, 'u': 89, 'vv': 20000.0, 'ww': 1, 'n': 40.0, 'nbas': 3, 'hbas': 1250, 'pres': 101110, 'tend24': -990, 'tn12': 0.0, 'tx12': 0.0, 'tminsol': 1.73, 'raf10': 7.0, 'rafper': 7.9, 'per': -10.0, 'rr12': 0.0}\n",
      "Données ajoutées avec succès!\n",
      "{'numer_sta': 7130, 'date': '2025-02-02 09:00:00', 'pmer': 102180, 'tend': 60, 'cod_tend': 3, 'dd': 120.0, 'ff': 2.3, 't': -0.8, 'td': -0.8, 'u': 100, 'vv': 240.0, 'ww': 49, 'n': 101.0, 'nbas': 9, 'hbas': 30, 'pres': 101710, 'tend24': -780, 'tn12': 0.0, 'tx12': 0.0, 'tminsol': -4.0, 'raf10': 3.4, 'rafper': 4.8, 'per': -10.0, 'rr12': 0.0}\n",
      "Données ajoutées avec succès!\n",
      "{'numer_sta': 7139, 'date': '2025-02-02 09:00:00', 'pmer': 102260, 'tend': -20, 'cod_tend': 8, 'dd': 20.0, 'ff': 1.8, 't': -1.2, 'td': -1.3, 'u': 99, 'vv': 3640.0, 'ww': 10, 'n': 79.09, 'nbas': 0, 'hbas': 1046, 'pres': 100420, 'tend24': -790, 'tn12': 0.0, 'tx12': 0.0, 'tminsol': 3.9, 'raf10': 2.8, 'rafper': 2.8, 'per': -10.0, 'rr12': 0.0}\n",
      "Données ajoutées avec succès!\n",
      "{'numer_sta': 7149, 'date': '2025-02-02 09:00:00', 'pmer': 102370, 'tend': 30, 'cod_tend': 0, 'dd': 60.0, 'ff': 0.8, 't': 0.7, 'td': -1.2, 'u': 87, 'vv': 7800.0, 'ww': 0, 'n': 79.09, 'nbas': 0, 'hbas': 1046, 'pres': 101230, 'tend24': -690, 'tn12': 0.0, 'tx12': 0.0, 'tminsol': 1.73, 'raf10': 1.7, 'rafper': 2.0, 'per': -10.0, 'rr12': 0.0}\n",
      "Données ajoutées avec succès!\n",
      "{'numer_sta': 7168, 'date': '2025-02-02 09:00:00', 'pmer': 102430, 'tend': 0, 'cod_tend': 4, 'dd': 110.0, 'ff': 2.0, 't': -0.7, 'td': -1.8, 'u': 92, 'vv': 8710.0, 'ww': 0, 'n': 79.09, 'nbas': 0, 'hbas': 1046, 'pres': 100930, 'tend24': -590, 'tn12': 0.0, 'tx12': 0.0, 'tminsol': -3.0, 'raf10': 2.9, 'rafper': 2.9, 'per': -10.0, 'rr12': 0.0}\n"
     ]
    },
    {
     "name": "stdout",
     "output_type": "stream",
     "text": [
      "Données ajoutées avec succès!\n",
      "{'numer_sta': 7181, 'date': '2025-02-02 09:00:00', 'pmer': 102490, 'tend': 50, 'cod_tend': 0, 'dd': 220.0, 'ff': 0.7, 't': 0.4, 'td': -0.9, 'u': 91, 'vv': 10330.0, 'ww': 0, 'n': 79.09, 'nbas': 0, 'hbas': 1046, 'pres': 98140, 'tend24': -490, 'tn12': 0.0, 'tx12': 0.0, 'tminsol': -5.5, 'raf10': 1.5, 'rafper': 1.7, 'per': -10.0, 'rr12': 0.0}\n",
      "Données ajoutées avec succès!\n",
      "{'numer_sta': 7190, 'date': '2025-02-02 09:00:00', 'pmer': 102570, 'tend': 80, 'cod_tend': 0, 'dd': 20.0, 'ff': 1.7, 't': -0.2, 'td': -1.6, 'u': 90, 'vv': 8880.0, 'ww': 0, 'n': 100.0, 'nbas': 8, 'hbas': 800, 'pres': 100660, 'tend24': -480, 'tn12': 0.0, 'tx12': 0.0, 'tminsol': -3.6, 'raf10': 2.7, 'rafper': 3.6, 'per': -10.0, 'rr12': 0.0}\n",
      "Données ajoutées avec succès!\n",
      "{'numer_sta': 7207, 'date': '2025-02-02 09:00:00', 'pmer': 101673, 'tend': 12, 'cod_tend': 4, 'dd': 140.0, 'ff': 9.9, 't': 7.8, 'td': 5.98, 'u': 87, 'vv': 16128.22, 'ww': 6, 'n': 79.09, 'nbas': 3, 'hbas': 1046, 'pres': 100037, 'tend24': -408, 'tn12': 0.0, 'tx12': 0.0, 'tminsol': 1.73, 'raf10': 16.9, 'rafper': 16.9, 'per': -10.0, 'rr12': 0.0}\n",
      "Données ajoutées avec succès!\n",
      "{'numer_sta': 7222, 'date': '2025-02-02 09:00:00', 'pmer': 102120, 'tend': 30, 'cod_tend': 0, 'dd': 60.0, 'ff': 1.1, 't': -3.0, 'td': -3.3, 'u': 98, 'vv': 800.0, 'ww': 49, 'n': 101.0, 'nbas': 9, 'hbas': 30, 'pres': 101790, 'tend24': -680, 'tn12': 0.0, 'tx12': 0.0, 'tminsol': -1.8, 'raf10': 1.8, 'rafper': 2.2, 'per': -10.0, 'rr12': 0.0}\n",
      "Données ajoutées avec succès!\n",
      "{'numer_sta': 7240, 'date': '2025-02-02 09:00:00', 'pmer': 102190, 'tend': -30, 'cod_tend': 8, 'dd': 100.0, 'ff': 3.0, 't': 0.6, 'td': -0.4, 'u': 93, 'vv': 5710.0, 'ww': 0, 'n': 79.09, 'nbas': 0, 'hbas': 1046, 'pres': 100780, 'tend24': -750, 'tn12': 0.0, 'tx12': 0.0, 'tminsol': 1.3, 'raf10': 4.6, 'rafper': 4.6, 'per': -10.0, 'rr12': 0.6}\n",
      "Données ajoutées avec succès!\n",
      "{'numer_sta': 7255, 'date': '2025-02-02 09:00:00', 'pmer': 102300, 'tend': 20, 'cod_tend': 2, 'dd': 100.0, 'ff': 3.2, 't': 1.0, 'td': 0.0, 'u': 93, 'vv': 9320.0, 'ww': 0, 'n': 79.09, 'nbas': 3, 'hbas': 1046, 'pres': 100220, 'tend24': -610, 'tn12': 0.0, 'tx12': 0.0, 'tminsol': 0.1, 'raf10': 4.4, 'rafper': 4.4, 'per': -10.0, 'rr12': 0.0}\n",
      "Données ajoutées avec succès!\n",
      "{'numer_sta': 7280, 'date': '2025-02-02 09:00:00', 'pmer': 102400, 'tend': 10, 'cod_tend': 0, 'dd': 30.0, 'ff': 0.6, 't': 1.6, 'td': -0.2, 'u': 88, 'vv': 7800.0, 'ww': 0, 'n': 100.0, 'nbas': 8, 'hbas': 450, 'pres': 99650, 'tend24': -400, 'tn12': 0.0, 'tx12': 0.0, 'tminsol': -5.3, 'raf10': 1.6, 'rafper': 2.6, 'per': -10.0, 'rr12': 0.0}\n",
      "Données ajoutées avec succès!\n",
      "{'numer_sta': 7299, 'date': '2025-02-02 09:00:00', 'pmer': 102440, 'tend': 30, 'cod_tend': 0, 'dd': 90.0, 'ff': 3.7, 't': 3.0, 'td': 0.2, 'u': 82, 'vv': 16210.0, 'ww': 0, 'n': 100.0, 'nbas': 8, 'hbas': 450, 'pres': 99060, 'tend24': -470, 'tn12': 0.0, 'tx12': 0.0, 'tminsol': 3.8, 'raf10': 5.7, 'rafper': 6.8, 'per': -10.0, 'rr12': 0.0}\n",
      "Données ajoutées avec succès!\n"
     ]
    },
    {
     "name": "stdout",
     "output_type": "stream",
     "text": [
      "{'numer_sta': 7314, 'date': '2025-02-02 09:00:00', 'pmer': 102110, 'tend': -40, 'cod_tend': 6, 'dd': 140.0, 'ff': 2.0, 't': 3.1, 'td': 2.1, 'u': 93, 'vv': 10000.0, 'ww': 1, 'n': 10.0, 'nbas': 1, 'hbas': 2250, 'pres': 101820, 'tend24': -610, 'tn12': 0.0, 'tx12': 0.0, 'tminsol': 1.73, 'raf10': 3.1, 'rafper': 3.2, 'per': -10.0, 'rr12': 0.0}\n",
      "Données ajoutées avec succès!\n",
      "{'numer_sta': 7335, 'date': '2025-02-02 09:00:00', 'pmer': 102190, 'tend': -20, 'cod_tend': 8, 'dd': 160.0, 'ff': 0.9, 't': -0.8, 'td': -0.9, 'u': 99, 'vv': 190.0, 'ww': 49, 'n': 101.0, 'nbas': 9, 'hbas': 30, 'pres': 100670, 'tend24': -650, 'tn12': 0.0, 'tx12': 0.0, 'tminsol': 3.1, 'raf10': 1.7, 'rafper': 2.2, 'per': -10.0, 'rr12': 0.0}\n",
      "Données ajoutées avec succès!\n",
      "{'numer_sta': 7434, 'date': '2025-02-02 09:00:00', 'pmer': 102220, 'tend': 20, 'cod_tend': 2, 'dd': 30.0, 'ff': 2.2, 't': 1.4, 'td': -0.1, 'u': 90, 'vv': 14400.0, 'ww': 0, 'n': 79.09, 'nbas': 0, 'hbas': 1046, 'pres': 97260, 'tend24': -480, 'tn12': 0.0, 'tx12': 0.0, 'tminsol': 0.5, 'raf10': 2.7, 'rafper': 2.8, 'per': -10.0, 'rr12': 0.0}\n",
      "Données ajoutées avec succès!\n",
      "{'numer_sta': 7460, 'date': '2025-02-02 09:00:00', 'pmer': 102300, 'tend': -10, 'cod_tend': 8, 'dd': 160.0, 'ff': 2.9, 't': 1.9, 'td': -0.4, 'u': 85, 'vv': 10870.0, 'ww': 0, 'n': 79.09, 'nbas': 4, 'hbas': 250, 'pres': 98210, 'tend24': -490, 'tn12': 0.0, 'tx12': 0.0, 'tminsol': 0.2, 'raf10': 4.3, 'rafper': 5.9, 'per': -10.0, 'rr12': 0.0}\n",
      "Données ajoutées avec succès!\n",
      "{'numer_sta': 7471, 'date': '2025-02-02 09:00:00', 'pmer': 101673, 'tend': 20, 'cod_tend': 0, 'dd': 190.0, 'ff': 0.9, 't': -3.3, 'td': -3.7, 'u': 97, 'vv': 3930.0, 'ww': 10, 'n': 101.0, 'nbas': 9, 'hbas': 30, 'pres': 92310, 'tend24': -370, 'tn12': 0.0, 'tx12': 0.0, 'tminsol': -1.2, 'raf10': 1.6, 'rafper': 1.9, 'per': -10.0, 'rr12': 0.0}\n",
      "Données ajoutées avec succès!\n",
      "{'numer_sta': 7481, 'date': '2025-02-02 09:00:00', 'pmer': 102330, 'tend': 30, 'cod_tend': 0, 'dd': 360.0, 'ff': 1.4, 't': 3.8, 'td': 1.2, 'u': 83, 'vv': 18000.0, 'ww': 3, 'n': 100.0, 'nbas': 8, 'hbas': 800, 'pres': 99360, 'tend24': -370, 'tn12': 0.0, 'tx12': 0.0, 'tminsol': 1.73, 'raf10': 2.2, 'rafper': 3.0, 'per': -10.0, 'rr12': 0.0}\n",
      "Données ajoutées avec succès!\n",
      "{'numer_sta': 7510, 'date': '2025-02-02 09:00:00', 'pmer': 102150, 'tend': -30, 'cod_tend': 7, 'dd': 180.0, 'ff': 0.8, 't': 1.0, 'td': 1.0, 'u': 100, 'vv': 2810.0, 'ww': 10, 'n': 101.0, 'nbas': 9, 'hbas': 30, 'pres': 101540, 'tend24': -460, 'tn12': 0.0, 'tx12': 0.0, 'tminsol': -1.3, 'raf10': 1.4, 'rafper': 3.4, 'per': -10.0, 'rr12': 0.0}\n",
      "Données ajoutées avec succès!\n",
      "{'numer_sta': 7535, 'date': '2025-02-02 09:00:00', 'pmer': 102230, 'tend': 0, 'cod_tend': 0, 'dd': 40.0, 'ff': 1.0, 't': 1.7, 'td': -0.1, 'u': 88, 'vv': 19820.0, 'ww': 0, 'n': 79.09, 'nbas': 0, 'hbas': 1046, 'pres': 98990, 'tend24': -350, 'tn12': 0.0, 'tx12': 0.0, 'tminsol': 1.3, 'raf10': 1.7, 'rafper': 2.2, 'per': -10.0, 'rr12': 0.0}\n",
      "Données ajoutées avec succès!\n",
      "{'numer_sta': 7558, 'date': '2025-02-02 09:00:00', 'pmer': 102130, 'tend': 60, 'cod_tend': 1, 'dd': 170.0, 'ff': 0.6, 't': 1.8, 'td': 1.2, 'u': 96, 'vv': 1610.0, 'ww': 10, 'n': 79.09, 'nbas': 3, 'hbas': 1046, 'pres': 93570, 'tend24': -250, 'tn12': 0.0, 'tx12': 0.0, 'tminsol': -0.7, 'raf10': 1.5, 'rafper': 2.4, 'per': -10.0, 'rr12': -0.1}\n",
      "Données ajoutées avec succès!\n",
      "{'numer_sta': 7577, 'date': '2025-02-02 09:00:00', 'pmer': 102200, 'tend': 40, 'cod_tend': 0, 'dd': 10.0, 'ff': 3.9, 't': 6.4, 'td': 2.1, 'u': 74, 'vv': 19820.0, 'ww': 0, 'n': 79.09, 'nbas': 3, 'hbas': 1046, 'pres': 101280, 'tend24': -320, 'tn12': 0.0, 'tx12': 0.0, 'tminsol': 3.3, 'raf10': 7.7, 'rafper': 7.7, 'per': -10.0, 'rr12': 0.0}\n",
      "Données ajoutées avec succès!\n"
     ]
    },
    {
     "name": "stdout",
     "output_type": "stream",
     "text": [
      "{'numer_sta': 7591, 'date': '2025-02-02 09:00:00', 'pmer': 101673, 'tend': 50, 'cod_tend': 1, 'dd': 70.0, 'ff': 3.7, 't': 7.6, 'td': -1.1, 'u': 54, 'vv': 16128.22, 'ww': 6, 'n': 79.09, 'nbas': 3, 'hbas': 1046, 'pres': 91730, 'tend24': -250, 'tn12': 0.0, 'tx12': 0.0, 'tminsol': 1.73, 'raf10': 8.8, 'rafper': 8.8, 'per': -10.0, 'rr12': 0.0}\n",
      "Données ajoutées avec succès!\n",
      "{'numer_sta': 7607, 'date': '2025-02-02 09:00:00', 'pmer': 102130, 'tend': -60, 'cod_tend': 8, 'dd': 90.0, 'ff': 1.6, 't': 1.3, 'td': 1.3, 'u': 100, 'vv': 19410.0, 'ww': 0, 'n': 79.09, 'nbas': 0, 'hbas': 1046, 'pres': 101390, 'tend24': -370, 'tn12': 0.0, 'tx12': 0.0, 'tminsol': 2.5, 'raf10': 2.6, 'rafper': 3.1, 'per': -10.0, 'rr12': 0.0}\n",
      "Données ajoutées avec succès!\n",
      "{'numer_sta': 7621, 'date': '2025-02-02 09:00:00', 'pmer': 102130, 'tend': -40, 'cod_tend': 8, 'dd': 130.0, 'ff': 1.0, 't': 4.6, 'td': 2.5, 'u': 86, 'vv': 32860.0, 'ww': 0, 'n': 79.09, 'nbas': 0, 'hbas': 1046, 'pres': 97690, 'tend24': -320, 'tn12': 0.0, 'tx12': 0.0, 'tminsol': -1.3, 'raf10': 2.2, 'rafper': 2.2, 'per': -10.0, 'rr12': 0.0}\n",
      "Données ajoutées avec succès!\n",
      "{'numer_sta': 7627, 'date': '2025-02-02 09:00:00', 'pmer': 102240, 'tend': 20, 'cod_tend': 8, 'dd': 200.0, 'ff': 0.6, 't': 1.0, 'td': 1.0, 'u': 100, 'vv': 20000.0, 'ww': 28, 'n': 10.0, 'nbas': 0, 'hbas': 6310, 'pres': 97130, 'tend24': -250, 'tn12': 0.0, 'tx12': 0.0, 'tminsol': 0.7, 'raf10': 1.4, 'rafper': 1.6, 'per': -10.0, 'rr12': 0.0}\n",
      "Données ajoutées avec succès!\n",
      "{'numer_sta': 7630, 'date': '2025-02-02 09:00:00', 'pmer': 102210, 'tend': 0, 'cod_tend': 0, 'dd': 200.0, 'ff': 1.9, 't': 3.1, 'td': 1.5, 'u': 89, 'vv': 16730.0, 'ww': 0, 'n': 79.09, 'nbas': 0, 'hbas': 1046, 'pres': 100340, 'tend24': -280, 'tn12': 0.0, 'tx12': 0.0, 'tminsol': 1.3, 'raf10': 2.9, 'rafper': 4.3, 'per': -10.0, 'rr12': 0.0}\n",
      "Données ajoutées avec succès!\n",
      "{'numer_sta': 7650, 'date': '2025-02-02 09:00:00', 'pmer': 101930, 'tend': 20, 'cod_tend': 3, 'dd': 350.0, 'ff': 1.2, 't': 7.8, 'td': 6.3, 'u': 90, 'vv': 16400.0, 'ww': 0, 'n': 100.0, 'nbas': 8, 'hbas': 1750, 'pres': 101540, 'tend24': -290, 'tn12': 0.0, 'tx12': 0.0, 'tminsol': 7.7, 'raf10': 1.8, 'rafper': 2.7, 'per': -10.0, 'rr12': 3.0}\n",
      "Données ajoutées avec succès!\n",
      "{'numer_sta': 7661, 'date': '2025-02-02 09:00:00', 'pmer': 101673, 'tend': 12, 'cod_tend': 4, 'dd': 60.0, 'ff': 5.4, 't': 8.14, 'td': 5.98, 'u': 87, 'vv': 16128.22, 'ww': 6, 'n': 79.09, 'nbas': 3, 'hbas': 1046, 'pres': 100037, 'tend24': -408, 'tn12': 0.0, 'tx12': 0.0, 'tminsol': 1.73, 'raf10': 8.1, 'rafper': 8.7, 'per': -10.0, 'rr12': 0.0}\n",
      "Données ajoutées avec succès!\n",
      "{'numer_sta': 7690, 'date': '2025-02-02 09:00:00', 'pmer': 101830, 'tend': 50, 'cod_tend': 3, 'dd': 330.0, 'ff': 6.4, 't': 9.8, 'td': 4.8, 'u': 71, 'vv': 50000.0, 'ww': 2, 'n': 90.0, 'nbas': 0, 'hbas': 1046, 'pres': 101510, 'tend24': -460, 'tn12': 0.0, 'tx12': 0.0, 'tminsol': 7.8, 'raf10': 9.8, 'rafper': 9.8, 'per': -10.0, 'rr12': -0.1}\n",
      "Données ajoutées avec succès!\n",
      "{'numer_sta': 7747, 'date': '2025-02-02 09:00:00', 'pmer': 102020, 'tend': 10, 'cod_tend': 2, 'dd': 300.0, 'ff': 3.9, 't': 8.9, 'td': 1.8, 'u': 61, 'vv': 60000.0, 'ww': 0, 'n': 79.09, 'nbas': 1, 'hbas': 1250, 'pres': 101480, 'tend24': -390, 'tn12': 0.0, 'tx12': 0.0, 'tminsol': 6.2, 'raf10': 6.1, 'rafper': 7.0, 'per': -10.0, 'rr12': 0.6}\n",
      "Données ajoutées avec succès!\n",
      "{'numer_sta': 7761, 'date': '2025-02-02 09:00:00', 'pmer': 101490, 'tend': -40, 'cod_tend': 7, 'dd': 270.0, 'ff': 0.5, 't': 9.8, 'td': 8.4, 'u': 91, 'vv': 33610.0, 'ww': 0, 'n': 75.0, 'nbas': 6, 'hbas': 2250, 'pres': 101380, 'tend24': -740, 'tn12': 0.0, 'tx12': 0.0, 'tminsol': 6.9, 'raf10': 0.8, 'rafper': 2.4, 'per': -10.0, 'rr12': 0.0}\n",
      "Données ajoutées avec succès!\n",
      "{'numer_sta': 7790, 'date': '2025-02-02 09:00:00', 'pmer': 101740, 'tend': -10, 'cod_tend': 8, 'dd': 230.0, 'ff': 1.1, 't': 10.2, 'td': 9.6, 'u': 96, 'vv': 22370.0, 'ww': 0, 'n': 79.09, 'nbas': 1, 'hbas': 1250, 'pres': 101590, 'tend24': -470, 'tn12': 0.0, 'tx12': 0.0, 'tminsol': 9.8, 'raf10': 1.7, 'rafper': 2.0, 'per': -10.0, 'rr12': 0.2}\n",
      "Données ajoutées avec succès!\n",
      "{'numer_sta': 61968, 'date': '2025-02-02 09:00:00', 'pmer': 100900, 'tend': 100, 'cod_tend': 6, 'dd': 290.0, 'ff': 7.6, 't': 8.14, 'td': 5.98, 'u': 87, 'vv': 16128.22, 'ww': 6, 'n': 79.09, 'nbas': 3, 'hbas': 1046, 'pres': 100850, 'tend24': 20, 'tn12': 0.0, 'tx12': 0.0, 'tminsol': 1.73, 'raf10': 0.0, 'rafper': 11.3, 'per': -10.0, 'rr12': 0.0}\n",
      "Données ajoutées avec succès!\n"
     ]
    },
    {
     "name": "stdout",
     "output_type": "stream",
     "text": [
      "{'numer_sta': 61970, 'date': '2025-02-02 09:00:00', 'pmer': 100810, 'tend': 80, 'cod_tend': 8, 'dd': 260.0, 'ff': 2.1, 't': 33.8, 'td': 25.8, 'u': 63, 'vv': 16128.22, 'ww': 6, 'n': 79.09, 'nbas': 3, 'hbas': 1046, 'pres': 100700, 'tend24': -50, 'tn12': 0.0, 'tx12': 0.0, 'tminsol': 1.73, 'raf10': 0.0, 'rafper': 3.8, 'per': -10.0, 'rr12': 0.0}\n",
      "Données ajoutées avec succès!\n",
      "{'numer_sta': 61972, 'date': '2025-02-02 09:00:00', 'pmer': 100940, 'tend': 70, 'cod_tend': 7, 'dd': 150.0, 'ff': 5.8, 't': 31.1, 'td': 23.7, 'u': 65, 'vv': 16128.22, 'ww': 6, 'n': 79.09, 'nbas': 3, 'hbas': 1046, 'pres': 100870, 'tend24': 70, 'tn12': 0.0, 'tx12': 0.0, 'tminsol': 1.73, 'raf10': 0.0, 'rafper': 10.5, 'per': -10.0, 'rr12': 0.0}\n",
      "Données ajoutées avec succès!\n"
     ]
    },
    {
     "name": "stdout",
     "output_type": "stream",
     "text": [
      "{'numer_sta': 61976, 'date': '2025-02-02 09:00:00', 'pmer': 100560, 'tend': 30, 'cod_tend': 8, 'dd': 0.0, 'ff': 0.0, 't': 28.3, 'td': 25.1, 'u': 83, 'vv': 16128.22, 'ww': 6, 'n': 79.09, 'nbas': 3, 'hbas': 1046, 'pres': 100470, 'tend24': -130, 'tn12': 0.0, 'tx12': 0.0, 'tminsol': 1.73, 'raf10': 0.0, 'rafper': 0.0, 'per': -10.0, 'rr12': 10.6}\n",
      "Données ajoutées avec succès!\n",
      "{'numer_sta': 61980, 'date': '2025-02-02 09:00:00', 'pmer': 100320, 'tend': -210, 'cod_tend': 6, 'dd': 110.0, 'ff': 12.5, 't': 33.5, 'td': 24.4, 'u': 59, 'vv': 19190.0, 'ww': 0, 'n': 79.09, 'nbas': 0, 'hbas': 1046, 'pres': 100180, 'tend24': -340, 'tn12': 0.0, 'tx12': 0.0, 'tminsol': 1.73, 'raf10': 17.7, 'rafper': 20.0, 'per': -10.0, 'rr12': 0.4}\n",
      "Données ajoutées avec succès!\n",
      "{'numer_sta': 61996, 'date': '2025-02-02 09:00:00', 'pmer': 101330, 'tend': 180, 'cod_tend': 8, 'dd': 330.0, 'ff': 6.9, 't': 22.8, 'td': 17.0, 'u': 70, 'vv': 16128.22, 'ww': 6, 'n': 79.09, 'nbas': 3, 'hbas': 1046, 'pres': 100990, 'tend24': -630, 'tn12': 0.0, 'tx12': 0.0, 'tminsol': 1.73, 'raf10': 0.0, 'rafper': 9.8, 'per': -10.0, 'rr12': 0.0}\n",
      "Données ajoutées avec succès!\n",
      "{'numer_sta': 61997, 'date': '2025-02-02 09:00:00', 'pmer': 99230, 'tend': 350, 'cod_tend': 3, 'dd': 220.0, 'ff': 17.5, 't': 6.9, 'td': 6.5, 'u': 97, 'vv': 16128.22, 'ww': 6, 'n': 79.09, 'nbas': 3, 'hbas': 1046, 'pres': 97490, 'tend24': -540, 'tn12': 0.0, 'tx12': 0.0, 'tminsol': 1.73, 'raf10': 0.0, 'rafper': 28.7, 'per': -10.0, 'rr12': 1.6}\n",
      "Données ajoutées avec succès!\n",
      "{'numer_sta': 61998, 'date': '2025-02-02 09:00:00', 'pmer': 98250, 'tend': -860, 'cod_tend': 6, 'dd': 110.0, 'ff': 17.5, 't': 5.4, 'td': 5.1, 'u': 98, 'vv': 16128.22, 'ww': 6, 'n': 79.09, 'nbas': 3, 'hbas': 1046, 'pres': 97890, 'tend24': -408, 'tn12': 0.0, 'tx12': 0.0, 'tminsol': 1.73, 'raf10': 0.0, 'rafper': 25.2, 'per': -10.0, 'rr12': 0.0}\n",
      "Données ajoutées avec succès!\n",
      "{'numer_sta': 67005, 'date': '2025-02-02 09:00:00', 'pmer': 100970, 'tend': -30, 'cod_tend': 8, 'dd': 270.0, 'ff': 5.8, 't': 25.7, 'td': 23.4, 'u': 87, 'vv': 20000.0, 'ww': 61, 'n': 100.0, 'nbas': 8, 'hbas': 1750, 'pres': 100890, 'tend24': 110, 'tn12': 0.0, 'tx12': 0.0, 'tminsol': 1.73, 'raf10': 7.6, 'rafper': 11.2, 'per': -10.0, 'rr12': 54.2}\n",
      "Données ajoutées avec succès!\n",
      "{'numer_sta': 71805, 'date': '2025-02-02 09:00:00', 'pmer': 101280, 'tend': 460, 'cod_tend': 3, 'dd': 340.0, 'ff': 7.8, 't': -7.1, 'td': -12.2, 'u': 67, 'vv': 41940.0, 'ww': 0, 'n': 100.0, 'nbas': 8, 'hbas': 800, 'pres': 101190, 'tend24': 1040, 'tn12': 0.0, 'tx12': 0.0, 'tminsol': -0.1, 'raf10': 11.6, 'rafper': 12.9, 'per': -10.0, 'rr12': -0.1}\n",
      "Données ajoutées avec succès!\n",
      "{'numer_sta': 78890, 'date': '2025-02-02 09:00:00', 'pmer': 101450, 'tend': 70, 'cod_tend': 5, 'dd': 80.0, 'ff': 11.2, 't': 25.8, 'td': 21.5, 'u': 77, 'vv': 16128.22, 'ww': 6, 'n': 79.09, 'nbas': 3, 'hbas': 1046, 'pres': 101130, 'tend24': -100, 'tn12': 0.0, 'tx12': 0.0, 'tminsol': 1.73, 'raf10': 0.0, 'rafper': 14.3, 'per': -10.0, 'rr12': 4.2}\n",
      "Données ajoutées avec succès!\n",
      "{'numer_sta': 78897, 'date': '2025-02-02 09:00:00', 'pmer': 101470, 'tend': -70, 'cod_tend': 5, 'dd': 230.0, 'ff': 0.8, 't': 23.1, 'td': 21.0, 'u': 88, 'vv': 22550.0, 'ww': 6, 'n': 79.09, 'nbas': 3, 'hbas': 1046, 'pres': 101380, 'tend24': -100, 'tn12': 0.0, 'tx12': 0.0, 'tminsol': 1.73, 'raf10': 0.0, 'rafper': 0.0, 'per': 0.0, 'rr12': 1.2}\n",
      "Données ajoutées avec succès!\n",
      "{'numer_sta': 78922, 'date': '2025-02-02 09:00:00', 'pmer': 101460, 'tend': 0, 'cod_tend': 5, 'dd': 90.0, 'ff': 6.5, 't': 22.2, 'td': 20.8, 'u': 92, 'vv': 16128.22, 'ww': 6, 'n': 79.09, 'nbas': 3, 'hbas': 1046, 'pres': 101010, 'tend24': -60, 'tn12': 0.0, 'tx12': 0.0, 'tminsol': 1.73, 'raf10': 11.1, 'rafper': 15.7, 'per': -10.0, 'rr12': 5.6}\n",
      "Données ajoutées avec succès!\n",
      "{'numer_sta': 78925, 'date': '2025-02-02 09:00:00', 'pmer': 101400, 'tend': -10, 'cod_tend': 5, 'dd': 40.0, 'ff': 1.5, 't': 23.5, 'td': 21.9, 'u': 91, 'vv': 33880.0, 'ww': 0, 'n': 100.0, 'nbas': 8, 'hbas': 800, 'pres': 101310, 'tend24': -50, 'tn12': 0.0, 'tx12': 0.0, 'tminsol': 1.73, 'raf10': 4.2, 'rafper': 4.6, 'per': -10.0, 'rr12': 1.6}\n",
      "Données ajoutées avec succès!\n",
      "{'numer_sta': 81401, 'date': '2025-02-02 09:00:00', 'pmer': 101040, 'tend': 60, 'cod_tend': 3, 'dd': 140.0, 'ff': 1.3, 't': 23.1, 'td': 22.4, 'u': 96, 'vv': 16128.22, 'ww': 6, 'n': 79.09, 'nbas': 3, 'hbas': 1046, 'pres': 100980, 'tend24': -80, 'tn12': 0.0, 'tx12': 0.0, 'tminsol': 1.73, 'raf10': 2.5, 'rafper': 3.1, 'per': -10.0, 'rr12': 0.6}\n",
      "Données ajoutées avec succès!\n",
      "{'numer_sta': 81405, 'date': '2025-02-02 09:00:00', 'pmer': 101000, 'tend': 20, 'cod_tend': 3, 'dd': 220.0, 'ff': 0.9, 't': 24.5, 'td': 23.6, 'u': 95, 'vv': 8820.0, 'ww': 0, 'n': 100.0, 'nbas': 7, 'hbas': 800, 'pres': 100910, 'tend24': -130, 'tn12': 0.0, 'tx12': 0.0, 'tminsol': 25.9, 'raf10': 1.6, 'rafper': 2.0, 'per': -10.0, 'rr12': 2.4}\n",
      "Données ajoutées avec succès!\n",
      "{'numer_sta': 81408, 'date': '2025-02-02 09:00:00', 'pmer': 100950, 'tend': 30, 'cod_tend': 3, 'dd': 330.0, 'ff': 0.7, 't': 23.9, 'td': 23.6, 'u': 98, 'vv': 16128.22, 'ww': 6, 'n': 79.09, 'nbas': 3, 'hbas': 1046, 'pres': 100870, 'tend24': -110, 'tn12': 0.0, 'tx12': 0.0, 'tminsol': 1.73, 'raf10': 2.0, 'rafper': 2.0, 'per': -10.0, 'rr12': 3.2}\n",
      "Données ajoutées avec succès!\n",
      "{'numer_sta': 81415, 'date': '2025-02-02 09:00:00', 'pmer': 101110, 'tend': 40, 'cod_tend': 3, 'dd': 250.0, 'ff': 0.9, 't': 22.6, 'td': 21.8, 'u': 95, 'vv': 16128.22, 'ww': 6, 'n': 79.09, 'nbas': 3, 'hbas': 1046, 'pres': 99880, 'tend24': -110, 'tn12': 0.0, 'tx12': 0.0, 'tminsol': 1.73, 'raf10': 1.5, 'rafper': 1.5, 'per': -10.0, 'rr12': 0.0}\n",
      "Données ajoutées avec succès!\n",
      "{'numer_sta': 89642, 'date': '2025-02-02 09:00:00', 'pmer': 98500, 'tend': 60, 'cod_tend': 3, 'dd': 280.0, 'ff': 4.1, 't': 0.7, 'td': -4.0, 'u': 71, 'vv': 30000.0, 'ww': 2, 'n': 0.0, 'nbas': 3, 'hbas': 1046, 'pres': 97970, 'tend24': -408, 'tn12': 0.0, 'tx12': 0.0, 'tminsol': 1.73, 'raf10': 0.0, 'rafper': 0.0, 'per': 0.0, 'rr12': 0.0}\n",
      "Données ajoutées avec succès!\n"
     ]
    }
   ],
   "source": [
    "API_URL = \"http://127.0.0.1:8080/api/donnees-climatiques\" \n",
    "\n",
    "dict_data = df.to_dict(orient=\"records\")\n",
    "\n",
    "for row in dict_data:\n",
    "    print(row)\n",
    "    send_data(API_URL, row, requests)"
   ]
  }
 ],
 "metadata": {
  "kernelspec": {
   "display_name": "venv",
   "language": "python",
   "name": "python3"
  },
  "language_info": {
   "codemirror_mode": {
    "name": "ipython",
    "version": 3
   },
   "file_extension": ".py",
   "mimetype": "text/x-python",
   "name": "python",
   "nbconvert_exporter": "python",
   "pygments_lexer": "ipython3",
   "version": "3.11.2"
  }
 },
 "nbformat": 4,
 "nbformat_minor": 2
}
