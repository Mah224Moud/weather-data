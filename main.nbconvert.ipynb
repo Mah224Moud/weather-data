{
 "cells": [
  {
   "cell_type": "code",
   "execution_count": 1,
   "metadata": {
    "execution": {
     "iopub.execute_input": "2025-02-01T13:52:04.099308Z",
     "iopub.status.busy": "2025-02-01T13:52:04.099056Z",
     "iopub.status.idle": "2025-02-01T13:52:04.163673Z",
     "shell.execute_reply": "2025-02-01T13:52:04.162746Z"
    }
   },
   "outputs": [],
   "source": [
    "import time\n",
    "import datetime\n",
    "from selenium import webdriver\n",
    "from selenium.webdriver.chrome.service import Service\n",
    "from selenium.webdriver.chrome.options import Options\n",
    "from selenium.webdriver.common.by import By"
   ]
  },
  {
   "cell_type": "markdown",
   "metadata": {},
   "source": [
    "# CONSTS"
   ]
  },
  {
   "cell_type": "code",
   "execution_count": 2,
   "metadata": {
    "execution": {
     "iopub.execute_input": "2025-02-01T13:52:04.167165Z",
     "iopub.status.busy": "2025-02-01T13:52:04.166344Z",
     "iopub.status.idle": "2025-02-01T13:52:04.170425Z",
     "shell.execute_reply": "2025-02-01T13:52:04.169688Z"
    }
   },
   "outputs": [],
   "source": [
    "CHROME_DRIVER_PATH = \"./chromedriver-linux/chromedriver\"\n",
    "BRAVE_PATH = \"/usr/bin/brave-browser\"\n",
    "DOWNLOAD_DIRECTORY = \"/home/mamoudou/dossier_partage/donnees-meteo/download\"\n",
    "ARCHIVE_DIRECTORY = \"/home/mamoudou/dossier_partage/donnees-meteo/archive/daily\""
   ]
  },
  {
   "cell_type": "code",
   "execution_count": 3,
   "metadata": {
    "execution": {
     "iopub.execute_input": "2025-02-01T13:52:04.172985Z",
     "iopub.status.busy": "2025-02-01T13:52:04.172521Z",
     "iopub.status.idle": "2025-02-01T13:52:04.177749Z",
     "shell.execute_reply": "2025-02-01T13:52:04.177079Z"
    }
   },
   "outputs": [
    {
     "name": "stdout",
     "output_type": "stream",
     "text": [
      "Voici la date du jour recuperer: ['20250201', '14'].\n",
      "Après répartiton, on a une date: 20250201 et une heure: 12\n",
      "L'URL formée après, devient: https://donneespubliques.meteofrance.fr/?fond=donnee_libre&prefixe=Txt%2FSynop%2Fsynop&extension=csv&date=20250201&reseau=12\n"
     ]
    }
   ],
   "source": [
    "now = datetime.datetime.now()\n",
    "\n",
    "formatted_date = now.strftime(\"%Y%m%d %H\").split(\" \")\n",
    "\n",
    "DATE, HEURE = formatted_date[0], \"{:02d}\".format(int(formatted_date[1])-2)\n",
    "print(f\"Voici la date du jour recuperer: {formatted_date}.\\nAprès répartiton, on a une date: {DATE} et une heure: {HEURE}\")\n",
    "\n",
    "URL = f\"https://donneespubliques.meteofrance.fr/?fond=donnee_libre&prefixe=Txt%2FSynop%2Fsynop&extension=csv&date={DATE}&reseau={HEURE}\"\n",
    "\n",
    "print(f\"L'URL formée après, devient: {URL}\")"
   ]
  },
  {
   "cell_type": "markdown",
   "metadata": {},
   "source": [
    "## Browser Configs"
   ]
  },
  {
   "cell_type": "code",
   "execution_count": 4,
   "metadata": {
    "execution": {
     "iopub.execute_input": "2025-02-01T13:52:04.214063Z",
     "iopub.status.busy": "2025-02-01T13:52:04.213479Z",
     "iopub.status.idle": "2025-02-01T13:52:04.218107Z",
     "shell.execute_reply": "2025-02-01T13:52:04.217440Z"
    }
   },
   "outputs": [],
   "source": [
    "options = Options()\n",
    "options.binary_location = BRAVE_PATH  \n",
    "options.add_argument(\"--headless=new\")\n",
    "options.add_argument(\"--disable-gpu\")\n",
    "options.add_argument(\"--nosandbox\")\n",
    "options.add_argument(\"--disable-dev-shm-usage\")\n",
    "\n",
    "prefs = {\n",
    "    \"download.default_directory\": DOWNLOAD_DIRECTORY,\n",
    "    \"download.prompt_for_download\": False,\n",
    "    \"download.directory_upgrade\": True,\n",
    "    \"safebrowsing.enabled\": True \n",
    "}\n",
    "options.add_experimental_option(\"prefs\", prefs)"
   ]
  },
  {
   "cell_type": "code",
   "execution_count": 5,
   "metadata": {
    "execution": {
     "iopub.execute_input": "2025-02-01T13:52:04.220122Z",
     "iopub.status.busy": "2025-02-01T13:52:04.219859Z",
     "iopub.status.idle": "2025-02-01T13:52:10.218897Z",
     "shell.execute_reply": "2025-02-01T13:52:10.218141Z"
    }
   },
   "outputs": [
    {
     "name": "stdout",
     "output_type": "stream",
     "text": [
      "Téléchargement pour la date : 20250201\n"
     ]
    },
    {
     "name": "stdout",
     "output_type": "stream",
     "text": [
      "Téléchargement terminé !!!\n"
     ]
    }
   ],
   "source": [
    "service = Service(executable_path=CHROME_DRIVER_PATH)\n",
    "\n",
    "driver = webdriver.Chrome(service=service, options=options)\n",
    "\n",
    "try:\n",
    "    print(f\"Téléchargement pour la date : {DATE}\")\n",
    "    driver.get(URL)\n",
    "    time.sleep(5)\n",
    "    print(f\"Téléchargement terminé !!!\")\n",
    "\n",
    "except Exception as e:\n",
    "    print(f\"Erreur lors du téléchargement de {DATE}: {e}\")\n",
    "\n",
    "driver.close()\n",
    "driver.quit()"
   ]
  },
  {
   "cell_type": "markdown",
   "metadata": {},
   "source": [
    "## Fixing the file extension problem"
   ]
  },
  {
   "cell_type": "code",
   "execution_count": 6,
   "metadata": {
    "execution": {
     "iopub.execute_input": "2025-02-01T13:52:10.221545Z",
     "iopub.status.busy": "2025-02-01T13:52:10.221330Z",
     "iopub.status.idle": "2025-02-01T13:52:10.226368Z",
     "shell.execute_reply": "2025-02-01T13:52:10.225414Z"
    }
   },
   "outputs": [
    {
     "name": "stdout",
     "output_type": "stream",
     "text": [
      "Le fichier a été renommé : /home/mamoudou/dossier_partage/donnees-meteo/download/synop.2025020112.txt -> /home/mamoudou/dossier_partage/donnees-meteo/download/synop.2025020112.csv\n",
      "The file I'm working with: /home/mamoudou/dossier_partage/donnees-meteo/download/synop.2025020112.csv\n"
     ]
    }
   ],
   "source": [
    "from file_management import change_file_extension\n",
    "\n",
    "cvs_file = change_file_extension(DOWNLOAD_DIRECTORY)\n",
    "print(f\"The file I'm working with: {cvs_file}\")"
   ]
  },
  {
   "cell_type": "markdown",
   "metadata": {},
   "source": [
    "# Starting the ELT"
   ]
  },
  {
   "cell_type": "code",
   "execution_count": 7,
   "metadata": {
    "execution": {
     "iopub.execute_input": "2025-02-01T13:52:10.229083Z",
     "iopub.status.busy": "2025-02-01T13:52:10.228427Z",
     "iopub.status.idle": "2025-02-01T13:52:10.573797Z",
     "shell.execute_reply": "2025-02-01T13:52:10.572987Z"
    }
   },
   "outputs": [
    {
     "name": "stdout",
     "output_type": "stream",
     "text": [
      "    numer_sta            date    pmer  tend cod_tend   dd         ff           t          td    u     vv  ww  w1  w2    n nbas  hbas  cl  cm  ch    pres niv_bar geop tend24        tn12        tn24 tx12        tx24     tminsol  sw  tw      raf10     rafper  per etat_sol  ht_neige    ssfrai perssfrai        rr1        rr3        rr6       rr12       rr24 phenspe1 phenspe2 phenspe3 phenspe4 nnuage1 ctype1 hnuage1 nnuage2 ctype2 hnuage2 nnuage3 ctype3 hnuage3 nnuage4 ctype4 hnuage4  Unnamed: 59\n",
      "0        7005  20250201120000  103070  -100        8  190   0.700000  275.950000  275.950000  100   1710  10  mq  mq   mq   mq    mq  mq  mq  mq  102160      mq   mq    410          mq          mq   mq          mq  273.450000  mq  mq   2.300000   2.900000  -10       mq  0.000000        mq        mq   0.000000   0.000000   0.000000   0.000000   3.800000       mq       mq       mq       mq      mq     mq      mq      mq     mq      mq      mq     mq      mq      mq     mq      mq          NaN\n",
      "1        7015  20250201120000  103110  -110        8  140   2.100000  279.850000  274.350000   68   8670   0  mq  mq   mq    0    mq  mq  mq  mq  102520      mq   mq    380          mq          mq   mq          mq  271.550000  mq  mq   3.500000   3.600000  -10        0  0.000000        mq        mq   0.000000   0.200000   0.200000   0.200000   0.200000       mq       mq       mq       mq      mq     mq      mq      mq     mq      mq      mq     mq      mq      mq     mq      mq          NaN\n",
      "2        7020  20250201120000  102830   -30        8  180   5.100000  280.750000  279.250000   90  11000   2   2  mq  100    8   450  35  mq  mq  102720      mq   mq    430          mq          mq   mq          mq          mq  mq  mq   7.200000   7.600000  -10       mq        mq        mq        mq   0.000000   0.400000   0.400000   0.400000   0.400000       mq       mq       mq       mq       8      6     500      mq     mq      mq      mq     mq      mq      mq     mq      mq          NaN\n",
      "3        7027  20250201120000  102970   -10        8  150   4.600000  277.250000  275.450000   88  29760   0  mq  mq  100    8   450  mq  mq  mq  102130      mq   mq    490          mq          mq   mq          mq  278.250000  mq  mq   6.500000   6.500000  -10        0  0.000000        mq        mq   0.000000   0.000000   0.000000   0.000000   0.200000       mq       mq       mq       mq       8     mq     300      mq     mq      mq      mq     mq      mq      mq     mq      mq          NaN\n",
      "4        7037  20250201120000  103050   -80        8   90   2.400000  275.050000  275.050000  100   7420   0  mq  mq   75    6   150  mq  mq  mq  101070      mq   mq    360          mq          mq   mq          mq  276.450000  mq  mq   3.900000   4.300000  -10       mq  0.000000        mq        mq   0.000000   0.000000   0.000000   0.000000   3.800000       mq       mq       mq       mq       6     mq     120      mq     mq      mq      mq     mq      mq      mq     mq      mq          NaN\n",
      "5        7072  20250201120000  103000  -110        8   60   4.100000  277.950000  273.550000   73  19830   0  mq  mq   mq    0    mq  mq  mq  mq  101810      mq   mq     50          mq          mq   mq          mq  273.150000  mq  mq   6.300000   6.300000  -10       mq  0.000000        mq        mq   0.000000   0.000000   0.000000   0.000000   0.000000       mq       mq       mq       mq      mq     mq      mq      mq     mq      mq      mq     mq      mq      mq     mq      mq          NaN\n",
      "6        7110  20250201120000  102760   -90        8  140   3.100000  283.050000  277.450000   68  20000   0  mq  mq   mq    0    mq  mq  mq  mq  101560      mq   mq    130          mq          mq   mq          mq  272.050000  mq  mq   4.600000   5.700000  -10       mq  0.000000        mq        mq   0.000000   0.200000   0.200000   0.200000   1.200000       mq       mq       mq       mq      mq     mq      mq      mq     mq      mq      mq     mq      mq      mq     mq      mq          NaN\n",
      "7        7117  20250201120000  102780   -40        8  100   1.900000  281.750000  276.950000   72     mq  mq   2  mq   mq   mq    mq  mq  mq  mq  102060      mq   mq    170          mq          mq   mq          mq          mq  mq  mq   4.000000   4.400000  -10       mq        mq        mq        mq   0.000000   0.000000   0.000000   0.000000  -0.100000       mq       mq       mq       mq      mq     mq      mq      mq     mq      mq      mq     mq      mq      mq     mq      mq          NaN\n",
      "8        7130  20250201120000  102900   -50        8  140   2.800000  278.450000  275.950000   84  60000   0  mq  mq  100    8   450  mq  mq  mq  102440      mq   mq    210          mq          mq   mq          mq  276.350000  mq  mq   5.400000   6.200000  -10        0  0.000000        mq        mq   0.000000   0.000000   0.000000   0.000000   2.400000       mq       mq       mq       mq       8     mq     420      mq     mq      mq      mq     mq      mq      mq     mq      mq          NaN\n",
      "9        7139  20250201120000  102990   -40        8   40   1.700000  276.750000  274.750000   87  19960   0  mq  mq  100    8   450  mq  mq  mq  101170      mq   mq    240          mq          mq   mq          mq  278.450000  mq  mq   3.300000   3.600000  -10        0  0.000000        mq        mq   0.000000   0.000000   0.000000   0.000000   3.400000       mq       mq       mq       mq       8     mq     300      mq     mq      mq      mq     mq      mq      mq     mq      mq          NaN\n",
      "10       7149  20250201120000  102950   -90        8   60   3.900000  278.850000  273.950000   71  15000   1   0   0    0    0    mq  30  20  10  101830      mq   mq     30          mq          mq   mq          mq          mq  mq  mq   5.700000   5.900000  -10        1  0.000000  0.000000       -60   0.000000   0.000000   0.000000   0.000000   2.600000       mq       mq       mq       mq      mq     mq      mq      mq     mq      mq      mq     mq      mq      mq     mq      mq          NaN\n",
      "11       7168  20250201120000  102920   -80        8   70   3.100000  277.250000  272.450000   71  19270   0  mq  mq   mq    0    mq  mq  mq  mq  101440      mq   mq    -90          mq          mq   mq          mq  271.050000  mq  mq   5.000000   6.500000  -10        1  0.000000        mq        mq   0.000000   0.000000   0.000000   0.000000   0.000000       mq       mq       mq       mq      mq     mq      mq      mq     mq      mq      mq     mq      mq      mq     mq      mq          NaN\n",
      "12       7181  20250201120000  102870   -70        8   60   5.400000  277.250000  270.350000   61  30890   0  mq  mq   mq    0    mq  mq  mq  mq   98560      mq   mq   -120          mq          mq   mq          mq  268.450000  mq  mq   7.800000   9.400000  -10       mq        mq        mq        mq   0.000000   0.000000   0.000000   0.000000   0.000000       mq       mq       mq       mq      mq     mq      mq      mq     mq      mq      mq     mq      mq      mq     mq      mq          NaN\n",
      "13       7190  20250201120000  102900  -120        8  360   4.700000  277.850000  272.450000   68  15660   0  mq  mq   mq    0    mq  mq  mq  mq  101020      mq   mq    -90          mq          mq   mq          mq  270.150000  mq  mq   6.200000   7.200000  -10        0  0.000000        mq        mq   0.000000   0.000000   0.000000   0.000000   0.000000       mq       mq       mq       mq      mq     mq      mq      mq     mq      mq      mq     mq      mq      mq     mq      mq          NaN\n",
      "14       7207  20250201120000      mq    mq       mq  100   2.500000  278.750000          mq   mq     mq  mq   2  mq   mq   mq    mq  mq  mq  mq      mq      mq   mq     mq          mq          mq   mq          mq          mq  mq  mq   7.000000   8.900000  -10       mq        mq        mq        mq   0.000000   0.000000   0.000000   0.000000   3.200000       mq       mq       mq       mq      mq     mq      mq      mq     mq      mq      mq     mq      mq      mq     mq      mq          NaN\n",
      "15       7222  20250201120000  102800     0        0  110   4.100000  277.850000  275.550000   85  49370   0  mq  mq  100    8   450  mq  mq  mq  102470      mq   mq    -80          mq          mq   mq          mq  277.350000  mq  mq   6.600000   8.000000  -10       mq  0.000000        mq        mq   0.000000   0.000000   0.000000   0.000000   5.100000       mq       mq       mq       mq       8     mq     390      mq     mq      mq      mq     mq      mq      mq     mq      mq          NaN\n",
      "16       7240  20250201120000  102910   -30        8   40   2.200000  275.950000  275.050000   94  18050   0  mq  mq  100    8   150  mq  mq  mq  101500      mq   mq    -70          mq          mq   mq          mq  276.650000  mq  mq   5.400000   5.400000  -10        0  0.000000        mq        mq   0.000000   0.000000   0.000000   0.200000   7.700000       mq       mq       mq       mq       8     mq     150      mq     mq      mq      mq     mq      mq      mq     mq      mq          NaN\n",
      "17       7255  20250201120000  102790  -110        8  190   0.700000  276.750000  276.350000   97   9260   0  mq  mq   mq   mq    mq  mq  mq  mq  100720      mq   mq   -270          mq          mq   mq          mq  274.750000  mq  mq   1.900000   2.100000  -10       mq  0.000000        mq        mq   0.000000   0.000000   0.000000   0.000000   2.800000       mq       mq       mq       mq      mq     mq      mq      mq     mq      mq      mq     mq      mq      mq     mq      mq          NaN\n",
      "18       7280  20250201120000  102710   -50        8   50   3.700000  279.050000  273.750000   69  31980   0  mq  mq   mq    1   800  mq  mq  mq  100000      mq   mq   -230          mq          mq   mq          mq  271.350000  mq  mq   5.900000   8.500000  -10        0  0.000000        mq        mq   0.000000   0.000000   0.000000   0.000000   0.000000       mq       mq       mq       mq       1     mq     690      mq     mq      mq      mq     mq      mq      mq     mq      mq          NaN\n",
      "19       7299  20250201120000  102900   -50        8  360   1.900000  274.150000  272.350000   88  11010   0  mq  mq  100    8   250  mq  mq  mq   99480      mq   mq    -60          mq          mq   mq          mq  276.450000  mq  mq   3.800000   4.600000  -10        0  0.000000        mq        mq   0.000000   0.000000   0.000000   0.000000  -0.100000       mq       mq       mq       mq       1     mq     270       8     mq     690      mq     mq      mq      mq     mq      mq          NaN\n",
      "20       7314  20250201120000  102730    10        0   60   3.400000  280.550000  277.650000   82     mq  mq   0  mq   mq   mq    mq  mq  mq  mq  102440      mq   mq   -380          mq          mq   mq          mq          mq  mq  mq   5.800000   6.500000  -10       mq        mq        mq        mq   0.000000   0.000000   0.000000   0.000000   3.200000       mq       mq       mq       mq      mq     mq      mq      mq     mq      mq      mq     mq      mq      mq     mq      mq          NaN\n",
      "21       7335  20250201120000  102790   -20        8   70   3.400000  279.750000  276.150000   78  60000   0  mq  mq   mq    2   450  mq  mq  mq  101300      mq   mq   -310          mq          mq   mq          mq  278.650000  mq  mq   6.100000   6.800000  -10       mq  0.000000        mq        mq   0.000000   0.000000   0.000000   0.000000   8.700000       mq       mq       mq       mq       2     mq     510      mq     mq      mq      mq     mq      mq      mq     mq      mq          NaN\n",
      "22       7434  20250201120000  102610   -70        8   50   5.500000  277.050000  273.250000   76  21400   0  mq  mq   mq    0    mq  mq  mq  mq   97670      mq   mq   -480          mq          mq   mq          mq  275.750000  mq  mq   8.700000   8.700000  -10        2  0.000000        mq        mq   0.000000   0.000000   0.000000   3.100000   7.700000       mq       mq       mq       mq      mq     mq      mq      mq     mq      mq      mq     mq      mq      mq     mq      mq          NaN\n",
      "23       7460  20250201120000  102800     0        0   50   2.400000  275.650000  273.350000   85   8430   0  mq  mq  100    8   450  mq  mq  mq   98700      mq   mq   -230          mq          mq   mq          mq  272.650000  mq  mq   3.400000   5.100000  -10        0  0.000000        mq        mq   0.000000   0.000000   0.000000   0.000000   0.000000       mq       mq       mq       mq       8     mq     570      mq     mq      mq      mq     mq      mq      mq     mq      mq          NaN\n",
      "24       7471  20250201120000      mq   -10        0   40   1.100000  273.250000  270.250000   80  20000   0  mq  mq  100    8   450  mq  mq  mq   92670   92500  848   -220          mq          mq   mq          mq  270.150000  mq  mq   2.800000   2.800000  -10        0  0.000000        mq        mq   0.000000   0.000000   0.000000   0.000000  -0.100000       mq       mq       mq       mq       8     mq     330      mq     mq      mq      mq     mq      mq      mq     mq      mq          NaN\n",
      "25       7481  20250201120000  102700   -10        0  350   3.800000  277.050000  274.450000   83  14000   2   2   2   90    7   450  36  mq  mq   99720      mq   mq   -180          mq          mq   mq          mq          mq  mq  mq   5.500000   5.500000  -10        0  0.000000  0.000000       -60   0.000000   0.000000   0.000000   0.000000  -0.100000       mq       mq       mq       mq       7      7     360      mq     mq      mq      mq     mq      mq      mq     mq      mq          NaN\n",
      "26       7510  20250201120000  102610    20        0   80   2.100000  281.750000  277.350000   74  37620   0  mq  mq   mq    5   450  mq  mq  mq  102020      mq   mq   -580          mq          mq   mq          mq  277.950000  mq  mq   3.900000   5.000000  -10        0  0.000000        mq        mq   0.000000   0.000000   0.000000  14.100000  14.300000       mq       mq       mq       mq       5     mq     510      mq     mq      mq      mq     mq      mq      mq     mq      mq          NaN\n",
      "27       7535  20250201120000  102510   -20        8   80   1.000000  280.050000  275.150000   71  20000   0  mq  mq   mq    0    mq  mq  mq  mq   99320      mq   mq   -540          mq          mq   mq          mq  276.650000  mq  mq   2.600000   5.000000  -10        0  0.000000        mq        mq   0.000000   0.000000   0.000000   3.600000   3.600000       mq       mq       mq       mq      mq     mq      mq      mq     mq      mq      mq     mq      mq      mq     mq      mq          NaN\n",
      "28       7558  20250201120000  102370    30        0   30   3.700000  277.250000  272.050000   69  20000   0  mq  mq   mq   mq    mq  mq  mq  mq   93850      mq   mq   -350          mq          mq   mq          mq  270.150000  mq  mq   5.500000   6.300000  -10       mq  0.000000        mq        mq   0.000000   0.000000   0.000000   0.000000   0.000000       mq       mq       mq       mq      mq     mq      mq      mq     mq      mq      mq     mq      mq      mq     mq      mq          NaN\n",
      "29       7577  20250201120000  102470   -50        8   30   6.400000  280.050000  275.350000   72  19840   0  mq  mq   mq   mq    mq  mq  mq  mq  101550      mq   mq   -160          mq          mq   mq          mq  277.250000  mq  mq   9.200000  10.500000  -10        0  0.000000        mq        mq   0.000000   0.000000   0.400000   0.600000   0.600000       mq       mq       mq       mq      mq     mq      mq      mq     mq      mq      mq     mq      mq      mq     mq      mq          NaN\n",
      "30       7591  20250201120000      mq    50        8   70   8.100000  283.550000  271.150000   42     mq  mq  mq  mq   mq   mq    mq  mq  mq  mq   91930   92500  823   -160          mq  274.550000   mq  283.750000          mq  mq  mq  13.300000  16.300000  -10       mq  0.000000        mq        mq   0.000000   0.000000   0.000000   0.000000   6.600000       mq       mq       mq       mq      mq     mq      mq      mq     mq      mq      mq     mq      mq      mq     mq      mq          NaN\n",
      "31       7607  20250201120000  102560    70        0  120   2.700000  281.950000  277.350000   73  44110   0  mq  mq   mq    3   800  mq  mq  mq  101830      mq   mq   -650          mq          mq   mq          mq  279.450000  mq  mq   4.800000   5.900000  -10       mq        mq        mq        mq   0.000000   0.000000   1.600000   5.800000   5.800000       mq       mq       mq       mq       1     mq     600       3     mq    1020      mq     mq      mq      mq     mq      mq          NaN\n",
      "32       7621  20250201120000  102480    20        0   30   3.000000  278.150000  276.850000   91  28160   0  mq  mq  100    8   250  mq  mq  mq   98030      mq   mq   -770          mq          mq   mq          mq  273.250000  mq  mq   5.100000   5.500000  -10        1  0.000000        mq        mq   0.000000  -0.100000  -0.100000  -0.100000   0.200000       mq       mq       mq       mq       5     mq     240       7     mq     390       8     mq     570      mq     mq      mq          NaN\n",
      "33       7627  20250201120000  102370     0        0  280   1.300000  281.650000  275.450000   65  20000   0  mq  mq   10    1   800  mq  mq  mq   97380      mq   mq   -730          mq  273.650000   mq  281.950000  276.350000  mq  mq   3.000000   4.200000  -10        0  0.000000        mq        mq         mq         mq         mq         mq         mq       mq       mq       mq       mq       1     mq     780      mq     mq      mq      mq     mq      mq      mq     mq      mq          NaN\n",
      "34       7630  20250201120000  102460     0        0   60   1.800000  282.150000  273.550000   55  11960   0  mq  mq   mq    0    mq  mq  mq  mq  100620      mq   mq   -620          mq          mq   mq          mq  276.750000  mq  mq   3.800000   4.300000  -10        0  0.000000        mq        mq   0.000000   0.000000   0.000000   0.000000   0.000000       mq       mq       mq       mq      mq     mq      mq      mq     mq      mq      mq     mq      mq      mq     mq      mq          NaN\n",
      "35       7643  20250201120000  102340   -20        8   10   7.700000  280.650000  277.950000   83  60000   0  mq  mq  100    6  1250  mq  mq  mq  102240      mq   mq   -250          mq          mq   mq          mq  275.650000  mq  mq  11.200000  11.700000  -10       mq  0.000000        mq        mq   0.200000   0.800000   0.800000   0.800000   0.800000       mq       mq       mq       mq       6     mq    1230       6     mq    1470       8     mq    1680      mq     mq      mq          NaN\n",
      "36       7650  20250201120000  102210   -10        0   20   1.800000  284.250000  280.950000   80  14410  61  mq  mq  100    3  1250  mq  mq  mq  101820      mq   mq   -230          mq          mq   mq          mq  279.850000  mq  mq   2.600000   5.800000  -10        2  0.000000        mq        mq   0.600000   0.600000   1.200000   2.400000   2.400000       mq       mq       mq       mq       3     mq    1440       7     mq    1740       8     mq    2100      mq      8      mq          NaN\n",
      "37       7661  20250201120000      mq    mq       mq   60   9.100000          mq          mq   mq     mq  mq  mq  mq   mq   mq    mq  mq  mq  mq      mq      mq   mq     mq          mq          mq   mq          mq          mq  mq  mq  14.400000  17.400000  -10       mq        mq        mq        mq         mq         mq         mq         mq         mq       mq       mq       mq       mq      mq     mq      mq      mq     mq      mq      mq     mq      mq      mq     mq      mq          NaN\n",
      "38       7690  20250201120000  102220   -70        8  340   2.500000  285.550000  282.050000   79  30000  80   8   6  100    7  1250  38  27  mq  101900      mq   mq   -110          mq          mq   mq          mq  282.050000  mq  mq   5.600000   6.200000  -10        1  0.000000        mq        mq   0.800000   0.800000   0.800000   3.000000  42.500000       mq       mq       mq       mq       2      8    1400       6      6    1500       1      8    1800      mq     mq      mq          NaN\n",
      "39       7747  20250201120000  102340   -70        8   20   1.900000  283.650000  272.750000   47  60000   0  mq  mq   mq    2  2640  mq  mq  mq  101800      mq   mq   -260          mq          mq   mq          mq  279.150000  mq  mq   4.000000   5.600000  -10        0  0.000000        mq        mq   0.000000   0.000000   0.000000   0.000000  -0.100000       mq       mq       mq       mq       2     mq    2640      mq     mq      mq      mq     mq      mq      mq     mq      mq          NaN\n",
      "40       7761  20250201120000  102100  -130        8  290   1.000000  287.950000  283.150000   73  41750   0  mq  mq   75    6  2760  mq  mq  mq  101990      mq   mq   -280          mq          mq   mq          mq  281.150000  mq  mq   2.400000   2.700000  -10       mq  0.000000        mq        mq   0.000000   0.000000   0.000000  -0.100000   2.200000       mq       mq       mq       mq       6     mq    2760      mq     mq      mq      mq     mq      mq      mq     mq      mq          NaN\n",
      "41       7790  20250201120000  102150   -60        8  320   3.400000  286.650000  285.250000   91  16910   0  mq  mq   90    7   250  mq  mq  mq  102000      mq   mq   -180          mq          mq   mq          mq  283.450000  mq  mq   5.400000   5.400000  -10       mq  0.000000        mq        mq   0.200000   1.400000   1.400000   1.400000   1.800000       mq       mq       mq       mq       1     mq     210       6     mq     720       7     mq    1020      mq     mq      mq          NaN\n",
      "42      61968  20250201120000  100690   190        8  300   6.600000          mq          mq   mq     mq  mq  mq  mq   mq   mq    mq  mq  mq  mq  100640      mq   mq    -10          mq          mq   mq          mq          mq  mq  mq         mq  11.200000  -10       mq        mq        mq        mq   0.000000   0.000000   0.000000   0.000000   0.000000       mq       mq       mq       mq      mq     mq      mq      mq     mq      mq      mq     mq      mq      mq     mq      mq          NaN\n",
      "43      61970  20250201120000  100740   120        6  310   4.400000  305.850000  299.150000   68     mq  mq  mq  mq   mq   mq    mq  mq  mq  mq  100630      mq   mq     60          mq  301.250000   mq  306.850000          mq  mq  mq         mq   9.000000  -10       mq        mq        mq        mq   0.000000   0.000000   0.000000   0.000000   0.000000       mq       mq       mq       mq      mq     mq      mq      mq     mq      mq      mq     mq      mq      mq     mq      mq          NaN\n",
      "44      61972  20250201120000  100810    60        6  140   6.900000  302.950000  297.350000   72     mq  mq  mq  mq   mq   mq    mq  mq  mq  mq  100740      mq   mq    170          mq  300.150000   mq  304.150000          mq  mq  mq         mq  12.500000  -10       mq        mq        mq        mq   0.000000   0.000000   0.000000   0.200000   0.200000       mq       mq       mq       mq      mq     mq      mq      mq     mq      mq      mq     mq      mq      mq     mq      mq          NaN\n",
      "45      61976  20250201120000  100510   180        7   mq         mq  304.950000  298.350000   68     mq  mq  mq  mq   mq   mq    mq  mq  mq  mq  100420      mq   mq   -140          mq  299.750000   mq  306.250000          mq  mq  mq         mq         mq  -10       mq        mq        mq        mq   0.000000   0.000000   0.200000   0.200000   0.200000       mq       mq       mq       mq      mq     mq      mq      mq     mq      mq      mq     mq      mq      mq     mq      mq          NaN\n",
      "46      61980  20250201120000  100620   -40        8   90   7.500000  304.250000  297.350000   67  19810   0  mq  mq   90    1   800  mq  mq  mq  100480      mq   mq   -140          mq          mq   mq          mq          mq  mq  mq  10.600000  12.700000  -10       mq        mq        mq        mq   0.000000   0.000000   0.000000   0.000000   0.000000       mq       mq       mq       mq       1     mq     780       6     mq    2100       7     mq    2460      mq     mq      mq          NaN\n",
      "47      61996  20250201120000  101860   100        8  310   3.600000  292.650000  285.850000   65     mq  mq  mq  mq   mq   mq    mq  mq  mq  mq  101520      mq   mq    -50          mq  289.850000   mq  296.950000          mq  mq  mq         mq   7.700000  -10       mq        mq        mq        mq   0.000000   0.000000   0.000000   0.000000   0.000000       mq       mq       mq       mq      mq     mq      mq      mq     mq      mq      mq     mq      mq      mq     mq      mq          NaN\n",
      "48      61997  20250201120000   99370   380        6  340   9.400000  283.150000  283.150000  100     mq  mq  mq  mq   mq   mq    mq  mq  mq  mq   97650      mq   mq  -2120          mq  278.650000   mq  283.350000          mq  mq  mq         mq  15.700000  -10       mq        mq        mq        mq   2.400000   5.200000   7.800000  11.000000  11.200000       mq       mq       mq       mq      mq     mq      mq      mq     mq      mq      mq     mq      mq      mq     mq      mq          NaN\n",
      "49      61998  20250201120000  101300    10        1  220   5.100000  282.250000  272.650000   51     mq  mq  mq  mq   mq   mq    mq  mq  mq  mq  100930      mq   mq   1550          mq          mq   mq          mq          mq  mq  mq         mq   8.700000  -10       mq        mq        mq        mq   0.000000         mq   0.000000         mq         mq       mq       mq       mq       mq      mq     mq      mq      mq     mq      mq      mq     mq      mq      mq     mq      mq          NaN\n",
      "50      67005  20250201120000  100680  -180        8  310   6.700000  302.050000  298.850000   83  19060  64  mq  mq   90    7   800  mq  mq  mq  100600      mq   mq    -90          mq          mq   mq          mq          mq  mq  mq   9.400000  10.500000  -10       mq        mq        mq        mq  -0.100000  -0.100000  -0.100000  -0.100000  -0.100000       mq       mq       mq       mq       5     mq     720       6     mq     990       6     mq    1320      mq      9      mq          NaN\n",
      "51      71805  20250201120000  100360   120        3  340   5.500000  267.550000  262.750000   69  53150   0  mq  mq  100    8  2640  mq  mq  mq  100270      mq   mq   -540          mq          mq   mq          mq  273.250000  mq  mq   7.500000   8.500000  -10       mq        mq        mq        mq   0.000000   0.000000   0.000000   0.400000   0.400000       mq       mq       mq       mq       8     mq    2640      mq     mq      mq      mq     mq      mq      mq     mq      mq          NaN\n",
      "52      78890  20250201120000  101700   150        3   70  10.700000  299.650000  294.450000   73     mq  mq  mq  mq   mq   mq    mq  mq  mq  mq  101380      mq   mq   -100          mq  298.350000   mq  302.750000          mq  mq  mq         mq  13.500000  -10       mq        mq        mq        mq   0.000000   0.000000   0.200000   0.200000   0.200000       mq       mq       mq       mq      mq     mq      mq      mq     mq      mq      mq     mq      mq      mq     mq      mq          NaN\n",
      "53      78897  20250201120000  101710   140        2   90   3.200000  299.350000  294.150000   73  22410  mq  mq  mq   mq   mq    mq  mq  mq  mq  101620      mq   mq   -120          mq          mq   mq          mq          mq  mq  mq         mq         mq   mq       mq        mq        mq        mq   0.000000   0.000000  -0.100000  -0.100000  -0.100000       mq       mq       mq       mq      mq     mq      mq      mq     mq      mq      mq     mq      mq      mq     mq      mq          NaN\n",
      "54      78922  20250201120000  101690   170        3  110   9.500000  299.850000  294.850000   74     mq  mq  mq  mq   mq   mq    mq  mq  mq  mq  101240      mq   mq   -110          mq  298.650000   mq  301.550000          mq  mq  mq  11.800000  12.600000  -10       mq        mq        mq        mq   0.000000   0.000000   0.000000   0.000000   0.000000       mq       mq       mq       mq      mq     mq      mq      mq     mq      mq      mq     mq      mq      mq     mq      mq          NaN\n",
      "55      78925  20250201120000  101630   180        2  120   6.300000  298.650000  292.350000   68  25260   0  mq  mq   mq    0    mq  mq  mq  mq  101540      mq   mq   -100  297.350000          mq   mq  303.750000          mq  mq  mq   8.600000  11.700000  -10       mq        mq        mq        mq   0.000000   0.000000  -0.100000   0.600000   0.600000       mq       mq       mq       mq      mq     mq      mq      mq     mq      mq      mq     mq      mq      mq     mq      mq          NaN\n",
      "56      81401  20250201120000  101280   160        3   60   1.300000  300.850000  296.850000   79     mq  mq  mq  mq   mq   mq    mq  mq  mq  mq  101220      mq   mq   -110          mq  295.250000   mq  304.050000          mq  mq  mq   2.900000   2.900000  -10       mq        mq        mq        mq   0.000000   0.000000   0.000000   0.400000   0.400000       mq       mq       mq       mq      mq     mq      mq      mq     mq      mq      mq     mq      mq      mq     mq      mq          NaN\n",
      "57      81405  20250201120000  101280   150        3   50   5.700000  300.550000  295.950000   76  15560   0  mq  mq   75    5   800  mq  mq  mq  101190      mq   mq   -100  295.950000          mq   mq          mq  297.850000  mq  mq   8.700000   8.700000  -10       mq        mq        mq        mq   0.000000   0.000000   0.200000   0.200000   0.800000       mq       mq       mq       mq       5     mq     750       5     mq    1410       6     mq    1920      mq     mq      mq          NaN\n",
      "58      81408  20250201120000  101250   190        3   20   2.500000  299.950000  296.650000   82     mq  mq  mq  mq   mq   mq    mq  mq  mq  mq  101170      mq   mq    -80          mq  295.150000   mq  303.950000          mq  mq  mq   5.200000   5.200000  -10       mq        mq        mq        mq   0.000000   0.000000   0.000000   0.000000   2.600000       mq       mq       mq       mq      mq     mq      mq      mq     mq      mq      mq     mq      mq      mq     mq      mq          NaN\n",
      "59      81415  20250201120000  101350   140        3   40   0.700000  297.850000  296.250000   91     mq  mq  mq  mq   mq   mq    mq  mq  mq  mq  100130      mq   mq    -90          mq  295.850000   mq  305.750000          mq  mq  mq   1.500000   1.800000  -10       mq        mq        mq        mq   0.000000   0.000000   0.000000   0.000000   3.800000       mq       mq       mq       mq      mq     mq      mq      mq     mq      mq      mq     mq      mq      mq     mq      mq          NaN\n",
      "60      89642  20250201120000   99080   -80        8  120   5.100000  271.450000  265.950000   63     mq  mq  mq  mq   mq   mq    mq  mq  mq  mq   98550      mq   mq     mq          mq          mq   mq          mq          mq  mq  mq         mq         mq   mq       mq        mq        mq        mq         mq         mq         mq         mq         mq       mq       mq       mq       mq      mq     mq      mq      mq     mq      mq      mq     mq      mq      mq     mq      mq          NaN\n"
     ]
    }
   ],
   "source": [
    "import pandas as pd\n",
    "import numpy as np\n",
    "df = pd.read_csv(cvs_file, sep=\";\", dtype={\"date\": str})\n",
    "\n",
    "print(df.to_string())"
   ]
  },
  {
   "cell_type": "markdown",
   "metadata": {},
   "source": [
    "# Récupération des informations importantes à savoir :\n",
    "1. Indicatif OMM station : numéro de station `numer_sta` -> `int`\n",
    "2. Date (UTC) : `date` -> `datetime`\n",
    "3. Pression au niveau mer : `pmer` -> `int`\n",
    "4. Variation de pression en 3 heures : `tend` -> `int`\n",
    "5. Type de tendance barométrique : `cod_tend` -> `int`\n",
    "6. Direction du vent moyen 10 mn : `dd` -> `int`\n",
    "7. Vitesse du vent moyen 10 mn : `ff` -> `float`\n",
    "8. Température : `t` -> `float`\n",
    "9. Point de rosée : `td` -> `float`\n",
    "10. Humidité : `u` -> `int`\n",
    "11. Visibilité horizontale : `vv` -> `float`\n",
    "12. Temps présent : `ww` -> `int`\n",
    "13. Nébulosité totale : `n` -> `float`\n",
    "14. Nébulosité des nuages de l'étage inférieur : `nbas` -> `int`\n",
    "15. Hauteur de la base des nuages de l'étage inférieur : `hbas` -> `int`\n",
    "16. Pression station : `pres` -> `int`\n",
    "17. Variation de pression en 24 heures : `tend24` -> `int`\n",
    "18. Température minimale sur N heures : `tn12` -> `float`\n",
    "19. Température maximale sur N heures : `tx12` -> `float`\n",
    "20. Température minimale du sol sur 12 heures : `tminsol` -> `float`\n",
    "21. Rafales sur les 10 dernières minutes : `raf10` -> `float`\n",
    "22. Rafales sur une période : `rafper` -> `float`\n",
    "23. Période de mesure des rafales : `per` -> `float`\n",
    "24. Précipitations dans les N dernières heures : `rr12` -> `float`"
   ]
  },
  {
   "cell_type": "code",
   "execution_count": 8,
   "metadata": {
    "execution": {
     "iopub.execute_input": "2025-02-01T13:52:10.576349Z",
     "iopub.status.busy": "2025-02-01T13:52:10.576108Z",
     "iopub.status.idle": "2025-02-01T13:52:10.591245Z",
     "shell.execute_reply": "2025-02-01T13:52:10.590515Z"
    }
   },
   "outputs": [
    {
     "name": "stdout",
     "output_type": "stream",
     "text": [
      "    numer_sta            date    pmer  tend cod_tend   dd         ff           t          td    u     vv  ww    n nbas  hbas    pres tend24        tn12 tx12     tminsol      raf10     rafper  per       rr12\n",
      "0        7005  20250201120000  103070  -100        8  190   0.700000  275.950000  275.950000  100   1710  10   mq   mq    mq  102160    410          mq   mq  273.450000   2.300000   2.900000  -10   0.000000\n",
      "1        7015  20250201120000  103110  -110        8  140   2.100000  279.850000  274.350000   68   8670   0   mq    0    mq  102520    380          mq   mq  271.550000   3.500000   3.600000  -10   0.200000\n",
      "2        7020  20250201120000  102830   -30        8  180   5.100000  280.750000  279.250000   90  11000   2  100    8   450  102720    430          mq   mq          mq   7.200000   7.600000  -10   0.400000\n",
      "3        7027  20250201120000  102970   -10        8  150   4.600000  277.250000  275.450000   88  29760   0  100    8   450  102130    490          mq   mq  278.250000   6.500000   6.500000  -10   0.000000\n",
      "4        7037  20250201120000  103050   -80        8   90   2.400000  275.050000  275.050000  100   7420   0   75    6   150  101070    360          mq   mq  276.450000   3.900000   4.300000  -10   0.000000\n",
      "5        7072  20250201120000  103000  -110        8   60   4.100000  277.950000  273.550000   73  19830   0   mq    0    mq  101810     50          mq   mq  273.150000   6.300000   6.300000  -10   0.000000\n",
      "6        7110  20250201120000  102760   -90        8  140   3.100000  283.050000  277.450000   68  20000   0   mq    0    mq  101560    130          mq   mq  272.050000   4.600000   5.700000  -10   0.200000\n",
      "7        7117  20250201120000  102780   -40        8  100   1.900000  281.750000  276.950000   72     mq  mq   mq   mq    mq  102060    170          mq   mq          mq   4.000000   4.400000  -10   0.000000\n",
      "8        7130  20250201120000  102900   -50        8  140   2.800000  278.450000  275.950000   84  60000   0  100    8   450  102440    210          mq   mq  276.350000   5.400000   6.200000  -10   0.000000\n",
      "9        7139  20250201120000  102990   -40        8   40   1.700000  276.750000  274.750000   87  19960   0  100    8   450  101170    240          mq   mq  278.450000   3.300000   3.600000  -10   0.000000\n",
      "10       7149  20250201120000  102950   -90        8   60   3.900000  278.850000  273.950000   71  15000   1    0    0    mq  101830     30          mq   mq          mq   5.700000   5.900000  -10   0.000000\n",
      "11       7168  20250201120000  102920   -80        8   70   3.100000  277.250000  272.450000   71  19270   0   mq    0    mq  101440    -90          mq   mq  271.050000   5.000000   6.500000  -10   0.000000\n",
      "12       7181  20250201120000  102870   -70        8   60   5.400000  277.250000  270.350000   61  30890   0   mq    0    mq   98560   -120          mq   mq  268.450000   7.800000   9.400000  -10   0.000000\n",
      "13       7190  20250201120000  102900  -120        8  360   4.700000  277.850000  272.450000   68  15660   0   mq    0    mq  101020    -90          mq   mq  270.150000   6.200000   7.200000  -10   0.000000\n",
      "14       7207  20250201120000      mq    mq       mq  100   2.500000  278.750000          mq   mq     mq  mq   mq   mq    mq      mq     mq          mq   mq          mq   7.000000   8.900000  -10   0.000000\n",
      "15       7222  20250201120000  102800     0        0  110   4.100000  277.850000  275.550000   85  49370   0  100    8   450  102470    -80          mq   mq  277.350000   6.600000   8.000000  -10   0.000000\n",
      "16       7240  20250201120000  102910   -30        8   40   2.200000  275.950000  275.050000   94  18050   0  100    8   150  101500    -70          mq   mq  276.650000   5.400000   5.400000  -10   0.200000\n",
      "17       7255  20250201120000  102790  -110        8  190   0.700000  276.750000  276.350000   97   9260   0   mq   mq    mq  100720   -270          mq   mq  274.750000   1.900000   2.100000  -10   0.000000\n",
      "18       7280  20250201120000  102710   -50        8   50   3.700000  279.050000  273.750000   69  31980   0   mq    1   800  100000   -230          mq   mq  271.350000   5.900000   8.500000  -10   0.000000\n",
      "19       7299  20250201120000  102900   -50        8  360   1.900000  274.150000  272.350000   88  11010   0  100    8   250   99480    -60          mq   mq  276.450000   3.800000   4.600000  -10   0.000000\n",
      "20       7314  20250201120000  102730    10        0   60   3.400000  280.550000  277.650000   82     mq  mq   mq   mq    mq  102440   -380          mq   mq          mq   5.800000   6.500000  -10   0.000000\n",
      "21       7335  20250201120000  102790   -20        8   70   3.400000  279.750000  276.150000   78  60000   0   mq    2   450  101300   -310          mq   mq  278.650000   6.100000   6.800000  -10   0.000000\n",
      "22       7434  20250201120000  102610   -70        8   50   5.500000  277.050000  273.250000   76  21400   0   mq    0    mq   97670   -480          mq   mq  275.750000   8.700000   8.700000  -10   3.100000\n",
      "23       7460  20250201120000  102800     0        0   50   2.400000  275.650000  273.350000   85   8430   0  100    8   450   98700   -230          mq   mq  272.650000   3.400000   5.100000  -10   0.000000\n",
      "24       7471  20250201120000      mq   -10        0   40   1.100000  273.250000  270.250000   80  20000   0  100    8   450   92670   -220          mq   mq  270.150000   2.800000   2.800000  -10   0.000000\n",
      "25       7481  20250201120000  102700   -10        0  350   3.800000  277.050000  274.450000   83  14000   2   90    7   450   99720   -180          mq   mq          mq   5.500000   5.500000  -10   0.000000\n",
      "26       7510  20250201120000  102610    20        0   80   2.100000  281.750000  277.350000   74  37620   0   mq    5   450  102020   -580          mq   mq  277.950000   3.900000   5.000000  -10  14.100000\n",
      "27       7535  20250201120000  102510   -20        8   80   1.000000  280.050000  275.150000   71  20000   0   mq    0    mq   99320   -540          mq   mq  276.650000   2.600000   5.000000  -10   3.600000\n",
      "28       7558  20250201120000  102370    30        0   30   3.700000  277.250000  272.050000   69  20000   0   mq   mq    mq   93850   -350          mq   mq  270.150000   5.500000   6.300000  -10   0.000000\n",
      "29       7577  20250201120000  102470   -50        8   30   6.400000  280.050000  275.350000   72  19840   0   mq   mq    mq  101550   -160          mq   mq  277.250000   9.200000  10.500000  -10   0.600000\n",
      "30       7591  20250201120000      mq    50        8   70   8.100000  283.550000  271.150000   42     mq  mq   mq   mq    mq   91930   -160          mq   mq          mq  13.300000  16.300000  -10   0.000000\n",
      "31       7607  20250201120000  102560    70        0  120   2.700000  281.950000  277.350000   73  44110   0   mq    3   800  101830   -650          mq   mq  279.450000   4.800000   5.900000  -10   5.800000\n",
      "32       7621  20250201120000  102480    20        0   30   3.000000  278.150000  276.850000   91  28160   0  100    8   250   98030   -770          mq   mq  273.250000   5.100000   5.500000  -10  -0.100000\n",
      "33       7627  20250201120000  102370     0        0  280   1.300000  281.650000  275.450000   65  20000   0   10    1   800   97380   -730          mq   mq  276.350000   3.000000   4.200000  -10         mq\n",
      "34       7630  20250201120000  102460     0        0   60   1.800000  282.150000  273.550000   55  11960   0   mq    0    mq  100620   -620          mq   mq  276.750000   3.800000   4.300000  -10   0.000000\n",
      "35       7643  20250201120000  102340   -20        8   10   7.700000  280.650000  277.950000   83  60000   0  100    6  1250  102240   -250          mq   mq  275.650000  11.200000  11.700000  -10   0.800000\n",
      "36       7650  20250201120000  102210   -10        0   20   1.800000  284.250000  280.950000   80  14410  61  100    3  1250  101820   -230          mq   mq  279.850000   2.600000   5.800000  -10   2.400000\n",
      "37       7661  20250201120000      mq    mq       mq   60   9.100000          mq          mq   mq     mq  mq   mq   mq    mq      mq     mq          mq   mq          mq  14.400000  17.400000  -10         mq\n",
      "38       7690  20250201120000  102220   -70        8  340   2.500000  285.550000  282.050000   79  30000  80  100    7  1250  101900   -110          mq   mq  282.050000   5.600000   6.200000  -10   3.000000\n",
      "39       7747  20250201120000  102340   -70        8   20   1.900000  283.650000  272.750000   47  60000   0   mq    2  2640  101800   -260          mq   mq  279.150000   4.000000   5.600000  -10   0.000000\n",
      "40       7761  20250201120000  102100  -130        8  290   1.000000  287.950000  283.150000   73  41750   0   75    6  2760  101990   -280          mq   mq  281.150000   2.400000   2.700000  -10  -0.100000\n",
      "41       7790  20250201120000  102150   -60        8  320   3.400000  286.650000  285.250000   91  16910   0   90    7   250  102000   -180          mq   mq  283.450000   5.400000   5.400000  -10   1.400000\n",
      "42      61968  20250201120000  100690   190        8  300   6.600000          mq          mq   mq     mq  mq   mq   mq    mq  100640    -10          mq   mq          mq         mq  11.200000  -10   0.000000\n",
      "43      61970  20250201120000  100740   120        6  310   4.400000  305.850000  299.150000   68     mq  mq   mq   mq    mq  100630     60          mq   mq          mq         mq   9.000000  -10   0.000000\n",
      "44      61972  20250201120000  100810    60        6  140   6.900000  302.950000  297.350000   72     mq  mq   mq   mq    mq  100740    170          mq   mq          mq         mq  12.500000  -10   0.200000\n",
      "45      61976  20250201120000  100510   180        7   mq         mq  304.950000  298.350000   68     mq  mq   mq   mq    mq  100420   -140          mq   mq          mq         mq         mq  -10   0.200000\n",
      "46      61980  20250201120000  100620   -40        8   90   7.500000  304.250000  297.350000   67  19810   0   90    1   800  100480   -140          mq   mq          mq  10.600000  12.700000  -10   0.000000\n",
      "47      61996  20250201120000  101860   100        8  310   3.600000  292.650000  285.850000   65     mq  mq   mq   mq    mq  101520    -50          mq   mq          mq         mq   7.700000  -10   0.000000\n",
      "48      61997  20250201120000   99370   380        6  340   9.400000  283.150000  283.150000  100     mq  mq   mq   mq    mq   97650  -2120          mq   mq          mq         mq  15.700000  -10  11.000000\n",
      "49      61998  20250201120000  101300    10        1  220   5.100000  282.250000  272.650000   51     mq  mq   mq   mq    mq  100930   1550          mq   mq          mq         mq   8.700000  -10         mq\n",
      "50      67005  20250201120000  100680  -180        8  310   6.700000  302.050000  298.850000   83  19060  64   90    7   800  100600    -90          mq   mq          mq   9.400000  10.500000  -10  -0.100000\n",
      "51      71805  20250201120000  100360   120        3  340   5.500000  267.550000  262.750000   69  53150   0  100    8  2640  100270   -540          mq   mq  273.250000   7.500000   8.500000  -10   0.400000\n",
      "52      78890  20250201120000  101700   150        3   70  10.700000  299.650000  294.450000   73     mq  mq   mq   mq    mq  101380   -100          mq   mq          mq         mq  13.500000  -10   0.200000\n",
      "53      78897  20250201120000  101710   140        2   90   3.200000  299.350000  294.150000   73  22410  mq   mq   mq    mq  101620   -120          mq   mq          mq         mq         mq   mq  -0.100000\n",
      "54      78922  20250201120000  101690   170        3  110   9.500000  299.850000  294.850000   74     mq  mq   mq   mq    mq  101240   -110          mq   mq          mq  11.800000  12.600000  -10   0.000000\n",
      "55      78925  20250201120000  101630   180        2  120   6.300000  298.650000  292.350000   68  25260   0   mq    0    mq  101540   -100  297.350000   mq          mq   8.600000  11.700000  -10   0.600000\n",
      "56      81401  20250201120000  101280   160        3   60   1.300000  300.850000  296.850000   79     mq  mq   mq   mq    mq  101220   -110          mq   mq          mq   2.900000   2.900000  -10   0.400000\n",
      "57      81405  20250201120000  101280   150        3   50   5.700000  300.550000  295.950000   76  15560   0   75    5   800  101190   -100  295.950000   mq  297.850000   8.700000   8.700000  -10   0.200000\n",
      "58      81408  20250201120000  101250   190        3   20   2.500000  299.950000  296.650000   82     mq  mq   mq   mq    mq  101170    -80          mq   mq          mq   5.200000   5.200000  -10   0.000000\n",
      "59      81415  20250201120000  101350   140        3   40   0.700000  297.850000  296.250000   91     mq  mq   mq   mq    mq  100130    -90          mq   mq          mq   1.500000   1.800000  -10   0.000000\n",
      "60      89642  20250201120000   99080   -80        8  120   5.100000  271.450000  265.950000   63     mq  mq   mq   mq    mq   98550     mq          mq   mq          mq         mq         mq   mq         mq\n"
     ]
    }
   ],
   "source": [
    "df = df[['numer_sta', 'date', \"pmer\", \"tend\", \"cod_tend\", \"dd\", \"ff\", \"t\", \"td\", \"u\", \"vv\", \"ww\", \"n\", \"nbas\", \"hbas\",\"pres\", \"tend24\", \"tn12\", \"tx12\", \"tminsol\", \"raf10\", \"rafper\", \"per\", \"rr12\" ]]\n",
    "\n",
    "\n",
    "print(df.to_string())\n"
   ]
  },
  {
   "cell_type": "markdown",
   "metadata": {},
   "source": [
    "## Remplacer les valeurs manquantes `mq` par `NaN`"
   ]
  },
  {
   "cell_type": "code",
   "execution_count": 9,
   "metadata": {
    "execution": {
     "iopub.execute_input": "2025-02-01T13:52:10.593686Z",
     "iopub.status.busy": "2025-02-01T13:52:10.593223Z",
     "iopub.status.idle": "2025-02-01T13:52:10.607892Z",
     "shell.execute_reply": "2025-02-01T13:52:10.607179Z"
    }
   },
   "outputs": [
    {
     "name": "stdout",
     "output_type": "stream",
     "text": [
      "    numer_sta            date    pmer  tend cod_tend   dd         ff           t          td    u     vv   ww    n nbas  hbas    pres tend24        tn12  tx12     tminsol      raf10     rafper  per       rr12\n",
      "0        7005  20250201120000  103070  -100        8  190   0.700000  275.950000  275.950000  100   1710   10  NaN  NaN   NaN  102160    410         NaN   NaN  273.450000   2.300000   2.900000  -10   0.000000\n",
      "1        7015  20250201120000  103110  -110        8  140   2.100000  279.850000  274.350000   68   8670    0  NaN    0   NaN  102520    380         NaN   NaN  271.550000   3.500000   3.600000  -10   0.200000\n",
      "2        7020  20250201120000  102830   -30        8  180   5.100000  280.750000  279.250000   90  11000    2  100    8   450  102720    430         NaN   NaN         NaN   7.200000   7.600000  -10   0.400000\n",
      "3        7027  20250201120000  102970   -10        8  150   4.600000  277.250000  275.450000   88  29760    0  100    8   450  102130    490         NaN   NaN  278.250000   6.500000   6.500000  -10   0.000000\n",
      "4        7037  20250201120000  103050   -80        8   90   2.400000  275.050000  275.050000  100   7420    0   75    6   150  101070    360         NaN   NaN  276.450000   3.900000   4.300000  -10   0.000000\n",
      "5        7072  20250201120000  103000  -110        8   60   4.100000  277.950000  273.550000   73  19830    0  NaN    0   NaN  101810     50         NaN   NaN  273.150000   6.300000   6.300000  -10   0.000000\n",
      "6        7110  20250201120000  102760   -90        8  140   3.100000  283.050000  277.450000   68  20000    0  NaN    0   NaN  101560    130         NaN   NaN  272.050000   4.600000   5.700000  -10   0.200000\n",
      "7        7117  20250201120000  102780   -40        8  100   1.900000  281.750000  276.950000   72    NaN  NaN  NaN  NaN   NaN  102060    170         NaN   NaN         NaN   4.000000   4.400000  -10   0.000000\n",
      "8        7130  20250201120000  102900   -50        8  140   2.800000  278.450000  275.950000   84  60000    0  100    8   450  102440    210         NaN   NaN  276.350000   5.400000   6.200000  -10   0.000000\n",
      "9        7139  20250201120000  102990   -40        8   40   1.700000  276.750000  274.750000   87  19960    0  100    8   450  101170    240         NaN   NaN  278.450000   3.300000   3.600000  -10   0.000000\n",
      "10       7149  20250201120000  102950   -90        8   60   3.900000  278.850000  273.950000   71  15000    1    0    0   NaN  101830     30         NaN   NaN         NaN   5.700000   5.900000  -10   0.000000\n",
      "11       7168  20250201120000  102920   -80        8   70   3.100000  277.250000  272.450000   71  19270    0  NaN    0   NaN  101440    -90         NaN   NaN  271.050000   5.000000   6.500000  -10   0.000000\n",
      "12       7181  20250201120000  102870   -70        8   60   5.400000  277.250000  270.350000   61  30890    0  NaN    0   NaN   98560   -120         NaN   NaN  268.450000   7.800000   9.400000  -10   0.000000\n",
      "13       7190  20250201120000  102900  -120        8  360   4.700000  277.850000  272.450000   68  15660    0  NaN    0   NaN  101020    -90         NaN   NaN  270.150000   6.200000   7.200000  -10   0.000000\n",
      "14       7207  20250201120000     NaN   NaN      NaN  100   2.500000  278.750000         NaN  NaN    NaN  NaN  NaN  NaN   NaN     NaN    NaN         NaN   NaN         NaN   7.000000   8.900000  -10   0.000000\n",
      "15       7222  20250201120000  102800     0        0  110   4.100000  277.850000  275.550000   85  49370    0  100    8   450  102470    -80         NaN   NaN  277.350000   6.600000   8.000000  -10   0.000000\n",
      "16       7240  20250201120000  102910   -30        8   40   2.200000  275.950000  275.050000   94  18050    0  100    8   150  101500    -70         NaN   NaN  276.650000   5.400000   5.400000  -10   0.200000\n",
      "17       7255  20250201120000  102790  -110        8  190   0.700000  276.750000  276.350000   97   9260    0  NaN  NaN   NaN  100720   -270         NaN   NaN  274.750000   1.900000   2.100000  -10   0.000000\n",
      "18       7280  20250201120000  102710   -50        8   50   3.700000  279.050000  273.750000   69  31980    0  NaN    1   800  100000   -230         NaN   NaN  271.350000   5.900000   8.500000  -10   0.000000\n",
      "19       7299  20250201120000  102900   -50        8  360   1.900000  274.150000  272.350000   88  11010    0  100    8   250   99480    -60         NaN   NaN  276.450000   3.800000   4.600000  -10   0.000000\n",
      "20       7314  20250201120000  102730    10        0   60   3.400000  280.550000  277.650000   82    NaN  NaN  NaN  NaN   NaN  102440   -380         NaN   NaN         NaN   5.800000   6.500000  -10   0.000000\n",
      "21       7335  20250201120000  102790   -20        8   70   3.400000  279.750000  276.150000   78  60000    0  NaN    2   450  101300   -310         NaN   NaN  278.650000   6.100000   6.800000  -10   0.000000\n",
      "22       7434  20250201120000  102610   -70        8   50   5.500000  277.050000  273.250000   76  21400    0  NaN    0   NaN   97670   -480         NaN   NaN  275.750000   8.700000   8.700000  -10   3.100000\n",
      "23       7460  20250201120000  102800     0        0   50   2.400000  275.650000  273.350000   85   8430    0  100    8   450   98700   -230         NaN   NaN  272.650000   3.400000   5.100000  -10   0.000000\n",
      "24       7471  20250201120000     NaN   -10        0   40   1.100000  273.250000  270.250000   80  20000    0  100    8   450   92670   -220         NaN   NaN  270.150000   2.800000   2.800000  -10   0.000000\n",
      "25       7481  20250201120000  102700   -10        0  350   3.800000  277.050000  274.450000   83  14000    2   90    7   450   99720   -180         NaN   NaN         NaN   5.500000   5.500000  -10   0.000000\n",
      "26       7510  20250201120000  102610    20        0   80   2.100000  281.750000  277.350000   74  37620    0  NaN    5   450  102020   -580         NaN   NaN  277.950000   3.900000   5.000000  -10  14.100000\n",
      "27       7535  20250201120000  102510   -20        8   80   1.000000  280.050000  275.150000   71  20000    0  NaN    0   NaN   99320   -540         NaN   NaN  276.650000   2.600000   5.000000  -10   3.600000\n",
      "28       7558  20250201120000  102370    30        0   30   3.700000  277.250000  272.050000   69  20000    0  NaN  NaN   NaN   93850   -350         NaN   NaN  270.150000   5.500000   6.300000  -10   0.000000\n",
      "29       7577  20250201120000  102470   -50        8   30   6.400000  280.050000  275.350000   72  19840    0  NaN  NaN   NaN  101550   -160         NaN   NaN  277.250000   9.200000  10.500000  -10   0.600000\n",
      "30       7591  20250201120000     NaN    50        8   70   8.100000  283.550000  271.150000   42    NaN  NaN  NaN  NaN   NaN   91930   -160         NaN   NaN         NaN  13.300000  16.300000  -10   0.000000\n",
      "31       7607  20250201120000  102560    70        0  120   2.700000  281.950000  277.350000   73  44110    0  NaN    3   800  101830   -650         NaN   NaN  279.450000   4.800000   5.900000  -10   5.800000\n",
      "32       7621  20250201120000  102480    20        0   30   3.000000  278.150000  276.850000   91  28160    0  100    8   250   98030   -770         NaN   NaN  273.250000   5.100000   5.500000  -10  -0.100000\n",
      "33       7627  20250201120000  102370     0        0  280   1.300000  281.650000  275.450000   65  20000    0   10    1   800   97380   -730         NaN   NaN  276.350000   3.000000   4.200000  -10        NaN\n",
      "34       7630  20250201120000  102460     0        0   60   1.800000  282.150000  273.550000   55  11960    0  NaN    0   NaN  100620   -620         NaN   NaN  276.750000   3.800000   4.300000  -10   0.000000\n",
      "35       7643  20250201120000  102340   -20        8   10   7.700000  280.650000  277.950000   83  60000    0  100    6  1250  102240   -250         NaN   NaN  275.650000  11.200000  11.700000  -10   0.800000\n",
      "36       7650  20250201120000  102210   -10        0   20   1.800000  284.250000  280.950000   80  14410   61  100    3  1250  101820   -230         NaN   NaN  279.850000   2.600000   5.800000  -10   2.400000\n",
      "37       7661  20250201120000     NaN   NaN      NaN   60   9.100000         NaN         NaN  NaN    NaN  NaN  NaN  NaN   NaN     NaN    NaN         NaN   NaN         NaN  14.400000  17.400000  -10        NaN\n",
      "38       7690  20250201120000  102220   -70        8  340   2.500000  285.550000  282.050000   79  30000   80  100    7  1250  101900   -110         NaN   NaN  282.050000   5.600000   6.200000  -10   3.000000\n",
      "39       7747  20250201120000  102340   -70        8   20   1.900000  283.650000  272.750000   47  60000    0  NaN    2  2640  101800   -260         NaN   NaN  279.150000   4.000000   5.600000  -10   0.000000\n",
      "40       7761  20250201120000  102100  -130        8  290   1.000000  287.950000  283.150000   73  41750    0   75    6  2760  101990   -280         NaN   NaN  281.150000   2.400000   2.700000  -10  -0.100000\n",
      "41       7790  20250201120000  102150   -60        8  320   3.400000  286.650000  285.250000   91  16910    0   90    7   250  102000   -180         NaN   NaN  283.450000   5.400000   5.400000  -10   1.400000\n",
      "42      61968  20250201120000  100690   190        8  300   6.600000         NaN         NaN  NaN    NaN  NaN  NaN  NaN   NaN  100640    -10         NaN   NaN         NaN        NaN  11.200000  -10   0.000000\n",
      "43      61970  20250201120000  100740   120        6  310   4.400000  305.850000  299.150000   68    NaN  NaN  NaN  NaN   NaN  100630     60         NaN   NaN         NaN        NaN   9.000000  -10   0.000000\n",
      "44      61972  20250201120000  100810    60        6  140   6.900000  302.950000  297.350000   72    NaN  NaN  NaN  NaN   NaN  100740    170         NaN   NaN         NaN        NaN  12.500000  -10   0.200000\n",
      "45      61976  20250201120000  100510   180        7  NaN        NaN  304.950000  298.350000   68    NaN  NaN  NaN  NaN   NaN  100420   -140         NaN   NaN         NaN        NaN        NaN  -10   0.200000\n",
      "46      61980  20250201120000  100620   -40        8   90   7.500000  304.250000  297.350000   67  19810    0   90    1   800  100480   -140         NaN   NaN         NaN  10.600000  12.700000  -10   0.000000\n",
      "47      61996  20250201120000  101860   100        8  310   3.600000  292.650000  285.850000   65    NaN  NaN  NaN  NaN   NaN  101520    -50         NaN   NaN         NaN        NaN   7.700000  -10   0.000000\n",
      "48      61997  20250201120000   99370   380        6  340   9.400000  283.150000  283.150000  100    NaN  NaN  NaN  NaN   NaN   97650  -2120         NaN   NaN         NaN        NaN  15.700000  -10  11.000000\n",
      "49      61998  20250201120000  101300    10        1  220   5.100000  282.250000  272.650000   51    NaN  NaN  NaN  NaN   NaN  100930   1550         NaN   NaN         NaN        NaN   8.700000  -10        NaN\n",
      "50      67005  20250201120000  100680  -180        8  310   6.700000  302.050000  298.850000   83  19060   64   90    7   800  100600    -90         NaN   NaN         NaN   9.400000  10.500000  -10  -0.100000\n",
      "51      71805  20250201120000  100360   120        3  340   5.500000  267.550000  262.750000   69  53150    0  100    8  2640  100270   -540         NaN   NaN  273.250000   7.500000   8.500000  -10   0.400000\n",
      "52      78890  20250201120000  101700   150        3   70  10.700000  299.650000  294.450000   73    NaN  NaN  NaN  NaN   NaN  101380   -100         NaN   NaN         NaN        NaN  13.500000  -10   0.200000\n",
      "53      78897  20250201120000  101710   140        2   90   3.200000  299.350000  294.150000   73  22410  NaN  NaN  NaN   NaN  101620   -120         NaN   NaN         NaN        NaN        NaN  NaN  -0.100000\n",
      "54      78922  20250201120000  101690   170        3  110   9.500000  299.850000  294.850000   74    NaN  NaN  NaN  NaN   NaN  101240   -110         NaN   NaN         NaN  11.800000  12.600000  -10   0.000000\n",
      "55      78925  20250201120000  101630   180        2  120   6.300000  298.650000  292.350000   68  25260    0  NaN    0   NaN  101540   -100  297.350000   NaN         NaN   8.600000  11.700000  -10   0.600000\n",
      "56      81401  20250201120000  101280   160        3   60   1.300000  300.850000  296.850000   79    NaN  NaN  NaN  NaN   NaN  101220   -110         NaN   NaN         NaN   2.900000   2.900000  -10   0.400000\n",
      "57      81405  20250201120000  101280   150        3   50   5.700000  300.550000  295.950000   76  15560    0   75    5   800  101190   -100  295.950000   NaN  297.850000   8.700000   8.700000  -10   0.200000\n",
      "58      81408  20250201120000  101250   190        3   20   2.500000  299.950000  296.650000   82    NaN  NaN  NaN  NaN   NaN  101170    -80         NaN   NaN         NaN   5.200000   5.200000  -10   0.000000\n",
      "59      81415  20250201120000  101350   140        3   40   0.700000  297.850000  296.250000   91    NaN  NaN  NaN  NaN   NaN  100130    -90         NaN   NaN         NaN   1.500000   1.800000  -10   0.000000\n",
      "60      89642  20250201120000   99080   -80        8  120   5.100000  271.450000  265.950000   63    NaN  NaN  NaN  NaN   NaN   98550    NaN         NaN   NaN         NaN        NaN        NaN  NaN        NaN\n"
     ]
    },
    {
     "name": "stderr",
     "output_type": "stream",
     "text": [
      "/tmp/ipykernel_1175304/3864656540.py:1: FutureWarning: Downcasting behavior in `replace` is deprecated and will be removed in a future version. To retain the old behavior, explicitly call `result.infer_objects(copy=False)`. To opt-in to the future behavior, set `pd.set_option('future.no_silent_downcasting', True)`\n",
      "  df.replace(\"mq\", np.nan, inplace=True)\n"
     ]
    }
   ],
   "source": [
    "df.replace(\"mq\", np.nan, inplace=True)\n",
    "print(df.to_string())"
   ]
  },
  {
   "cell_type": "markdown",
   "metadata": {},
   "source": [
    "## Nettoyages de colonnes non renseignées \n",
    "\n",
    "1. Informations générales\n",
    "\t-\tNuméro de station : `numer_sta` -> int\n",
    "\t-\tDate (UTC) : `date` -> datetime\n",
    "2. Pression\n",
    "\t-\tPression au niveau mer : `pmer` -> int\n",
    "\t-\tVariation de pression en 3 heures : `tend` -> int\n",
    "\t-\tType de tendance barométrique : `cod_tend` -> int\n",
    "\t-\tPression station : `pres` -> int\n",
    "\t-\tVariation de pression en 24 heures : `tend24` -> int\n",
    "3. Vent\n",
    "\t-\tDirection du vent moyen 10 mn : `dd` -> int\n",
    "\t-\tVitesse du vent moyen 10 mn : `ff` -> float\n",
    "\t-\tRafales sur les 10 dernières minutes : `raf10` -> float\n",
    "\t-\tRafales sur une période : `rafper` -> float\n",
    "\t-\tPériode de mesure des rafales : `per` -> float\n",
    "4. Température\n",
    "\t-\tTempérature : `t` -> float\n",
    "\t-\tPoint de rosée : `td` -> float\n",
    "\t-\tTempérature minimale sur N heures : `tn12` -> float\n",
    "\t-\tTempérature maximale sur N heures : `tx12` -> float\n",
    "\t-\tTempérature minimale du sol sur 12 heures : `tminsol` -> float\n",
    "5. Humidité\n",
    "\t-\tHumidité : `u` -> int\n",
    "6. Visibilité\n",
    "\t-\tVisibilité horizontale : `vv` -> float\n",
    "7. Nébulosité et nuages\n",
    "\t-\tNébulosité totale : `n` -> float\n",
    "\t-\tNébulosité des nuages de l’étage inférieur : `nbas` -> int\n",
    "\t-\tHauteur de la base des nuages de l’étage inférieur : `hbas` -> int\n",
    "8. Précipitations\n",
    "\t-\tPrécipitations dans les N dernières heures : `rr12` -> float\n",
    "9. Temps présent\n",
    "\t-\tTemps présent : `ww` -> int"
   ]
  },
  {
   "cell_type": "code",
   "execution_count": 10,
   "metadata": {
    "execution": {
     "iopub.execute_input": "2025-02-01T13:52:10.610506Z",
     "iopub.status.busy": "2025-02-01T13:52:10.609863Z",
     "iopub.status.idle": "2025-02-01T13:52:10.640002Z",
     "shell.execute_reply": "2025-02-01T13:52:10.639291Z"
    }
   },
   "outputs": [
    {
     "name": "stdout",
     "output_type": "stream",
     "text": [
      "    numer_sta            date           pmer        tend  cod_tend   dd         ff           t          td           u            vv         ww          n      nbas    hbas           pres       tend24    tn12  tx12     tminsol      raf10     rafper  per       rr12\n",
      "0        7005  20250201120000  103070.000000 -100.000000  8.000000  190   0.700000  275.950000  275.950000  100.000000   1710.000000  10.000000   86.73913  4.131579   820.0  102160.000000   410.000000  296.65   NaN  273.450000   2.300000   2.900000  -10   0.000000\n",
      "1        7015  20250201120000  103110.000000 -110.000000  8.000000  140   2.100000  279.850000  274.350000   68.000000   8670.000000   0.000000   86.73913  0.000000   820.0  102520.000000   380.000000  296.65   NaN  271.550000   3.500000   3.600000  -10   0.200000\n",
      "2        7020  20250201120000  102830.000000  -30.000000  8.000000  180   5.100000  280.750000  279.250000   90.000000  11000.000000   2.000000  100.00000  8.000000   450.0  102720.000000   430.000000  296.65   NaN  276.202778   7.200000   7.600000  -10   0.400000\n",
      "3        7027  20250201120000  102970.000000  -10.000000  8.000000  150   4.600000  277.250000  275.450000   88.000000  29760.000000   0.000000  100.00000  8.000000   450.0  102130.000000   490.000000  296.65   NaN  278.250000   6.500000   6.500000  -10   0.000000\n",
      "4        7037  20250201120000  103050.000000  -80.000000  8.000000   90   2.400000  275.050000  275.050000  100.000000   7420.000000   0.000000   75.00000  6.000000   150.0  101070.000000   360.000000  296.65   NaN  276.450000   3.900000   4.300000  -10   0.000000\n",
      "5        7072  20250201120000  103000.000000 -110.000000  8.000000   60   4.100000  277.950000  273.550000   73.000000  19830.000000   0.000000   86.73913  0.000000   820.0  101810.000000    50.000000  296.65   NaN  273.150000   6.300000   6.300000  -10   0.000000\n",
      "6        7110  20250201120000  102760.000000  -90.000000  8.000000  140   3.100000  283.050000  277.450000   68.000000  20000.000000   0.000000   86.73913  0.000000   820.0  101560.000000   130.000000  296.65   NaN  272.050000   4.600000   5.700000  -10   0.200000\n",
      "7        7117  20250201120000  102780.000000  -40.000000  8.000000  100   1.900000  281.750000  276.950000   72.000000  25178.604651   5.238095   86.73913  4.131579   820.0  102060.000000   170.000000  296.65   NaN  276.202778   4.000000   4.400000  -10   0.000000\n",
      "8        7130  20250201120000  102900.000000  -50.000000  8.000000  140   2.800000  278.450000  275.950000   84.000000  60000.000000   0.000000  100.00000  8.000000   450.0  102440.000000   210.000000  296.65   NaN  276.350000   5.400000   6.200000  -10   0.000000\n",
      "9        7139  20250201120000  102990.000000  -40.000000  8.000000   40   1.700000  276.750000  274.750000   87.000000  19960.000000   0.000000  100.00000  8.000000   450.0  101170.000000   240.000000  296.65   NaN  278.450000   3.300000   3.600000  -10   0.000000\n",
      "10       7149  20250201120000  102950.000000  -90.000000  8.000000   60   3.900000  278.850000  273.950000   71.000000  15000.000000   1.000000    0.00000  0.000000   820.0  101830.000000    30.000000  296.65   NaN  276.202778   5.700000   5.900000  -10   0.000000\n",
      "11       7168  20250201120000  102920.000000  -80.000000  8.000000   70   3.100000  277.250000  272.450000   71.000000  19270.000000   0.000000   86.73913  0.000000   820.0  101440.000000   -90.000000  296.65   NaN  271.050000   5.000000   6.500000  -10   0.000000\n",
      "12       7181  20250201120000  102870.000000  -70.000000  8.000000   60   5.400000  277.250000  270.350000   61.000000  30890.000000   0.000000   86.73913  0.000000   820.0   98560.000000  -120.000000  296.65   NaN  268.450000   7.800000   9.400000  -10   0.000000\n",
      "13       7190  20250201120000  102900.000000 -120.000000  8.000000  360   4.700000  277.850000  272.450000   68.000000  15660.000000   0.000000   86.73913  0.000000   820.0  101020.000000   -90.000000  296.65   NaN  270.150000   6.200000   7.200000  -10   0.000000\n",
      "14       7207  20250201120000  102104.210526    9.152542  5.338983  100   2.500000  278.750000  280.091379   75.948276  25178.604651   5.238095   86.73913  4.131579   820.0  100497.627119  -136.206897  296.65   NaN  276.202778   7.000000   8.900000  -10   0.000000\n",
      "15       7222  20250201120000  102800.000000    0.000000  0.000000  110   4.100000  277.850000  275.550000   85.000000  49370.000000   0.000000  100.00000  8.000000   450.0  102470.000000   -80.000000  296.65   NaN  277.350000   6.600000   8.000000  -10   0.000000\n",
      "16       7240  20250201120000  102910.000000  -30.000000  8.000000   40   2.200000  275.950000  275.050000   94.000000  18050.000000   0.000000  100.00000  8.000000   150.0  101500.000000   -70.000000  296.65   NaN  276.650000   5.400000   5.400000  -10   0.200000\n",
      "17       7255  20250201120000  102790.000000 -110.000000  8.000000  190   0.700000  276.750000  276.350000   97.000000   9260.000000   0.000000   86.73913  4.131579   820.0  100720.000000  -270.000000  296.65   NaN  274.750000   1.900000   2.100000  -10   0.000000\n",
      "18       7280  20250201120000  102710.000000  -50.000000  8.000000   50   3.700000  279.050000  273.750000   69.000000  31980.000000   0.000000   86.73913  1.000000   800.0  100000.000000  -230.000000  296.65   NaN  271.350000   5.900000   8.500000  -10   0.000000\n",
      "19       7299  20250201120000  102900.000000  -50.000000  8.000000  360   1.900000  274.150000  272.350000   88.000000  11010.000000   0.000000  100.00000  8.000000   250.0   99480.000000   -60.000000  296.65   NaN  276.450000   3.800000   4.600000  -10   0.000000\n",
      "20       7314  20250201120000  102730.000000   10.000000  0.000000   60   3.400000  280.550000  277.650000   82.000000  25178.604651   5.238095   86.73913  4.131579   820.0  102440.000000  -380.000000  296.65   NaN  276.202778   5.800000   6.500000  -10   0.000000\n",
      "21       7335  20250201120000  102790.000000  -20.000000  8.000000   70   3.400000  279.750000  276.150000   78.000000  60000.000000   0.000000   86.73913  2.000000   450.0  101300.000000  -310.000000  296.65   NaN  278.650000   6.100000   6.800000  -10   0.000000\n",
      "22       7434  20250201120000  102610.000000  -70.000000  8.000000   50   5.500000  277.050000  273.250000   76.000000  21400.000000   0.000000   86.73913  0.000000   820.0   97670.000000  -480.000000  296.65   NaN  275.750000   8.700000   8.700000  -10   3.100000\n",
      "23       7460  20250201120000  102800.000000    0.000000  0.000000   50   2.400000  275.650000  273.350000   85.000000   8430.000000   0.000000  100.00000  8.000000   450.0   98700.000000  -230.000000  296.65   NaN  272.650000   3.400000   5.100000  -10   0.000000\n",
      "24       7471  20250201120000  102104.210526  -10.000000  0.000000   40   1.100000  273.250000  270.250000   80.000000  20000.000000   0.000000  100.00000  8.000000   450.0   92670.000000  -220.000000  296.65   NaN  270.150000   2.800000   2.800000  -10   0.000000\n",
      "25       7481  20250201120000  102700.000000  -10.000000  0.000000  350   3.800000  277.050000  274.450000   83.000000  14000.000000   2.000000   90.00000  7.000000   450.0   99720.000000  -180.000000  296.65   NaN  276.202778   5.500000   5.500000  -10   0.000000\n",
      "26       7510  20250201120000  102610.000000   20.000000  0.000000   80   2.100000  281.750000  277.350000   74.000000  37620.000000   0.000000   86.73913  5.000000   450.0  102020.000000  -580.000000  296.65   NaN  277.950000   3.900000   5.000000  -10  14.100000\n",
      "27       7535  20250201120000  102510.000000  -20.000000  8.000000   80   1.000000  280.050000  275.150000   71.000000  20000.000000   0.000000   86.73913  0.000000   820.0   99320.000000  -540.000000  296.65   NaN  276.650000   2.600000   5.000000  -10   3.600000\n",
      "28       7558  20250201120000  102370.000000   30.000000  0.000000   30   3.700000  277.250000  272.050000   69.000000  20000.000000   0.000000   86.73913  4.131579   820.0   93850.000000  -350.000000  296.65   NaN  270.150000   5.500000   6.300000  -10   0.000000\n",
      "29       7577  20250201120000  102470.000000  -50.000000  8.000000   30   6.400000  280.050000  275.350000   72.000000  19840.000000   0.000000   86.73913  4.131579   820.0  101550.000000  -160.000000  296.65   NaN  277.250000   9.200000  10.500000  -10   0.600000\n",
      "30       7591  20250201120000  102104.210526   50.000000  8.000000   70   8.100000  283.550000  271.150000   42.000000  25178.604651   5.238095   86.73913  4.131579   820.0   91930.000000  -160.000000  296.65   NaN  276.202778  13.300000  16.300000  -10   0.000000\n",
      "31       7607  20250201120000  102560.000000   70.000000  0.000000  120   2.700000  281.950000  277.350000   73.000000  44110.000000   0.000000   86.73913  3.000000   800.0  101830.000000  -650.000000  296.65   NaN  279.450000   4.800000   5.900000  -10   5.800000\n",
      "32       7621  20250201120000  102480.000000   20.000000  0.000000   30   3.000000  278.150000  276.850000   91.000000  28160.000000   0.000000  100.00000  8.000000   250.0   98030.000000  -770.000000  296.65   NaN  273.250000   5.100000   5.500000  -10  -0.100000\n",
      "33       7627  20250201120000  102370.000000    0.000000  0.000000  280   1.300000  281.650000  275.450000   65.000000  20000.000000   0.000000   10.00000  1.000000   800.0   97380.000000  -730.000000  296.65   NaN  276.350000   3.000000   4.200000  -10          0\n",
      "34       7630  20250201120000  102460.000000    0.000000  0.000000   60   1.800000  282.150000  273.550000   55.000000  11960.000000   0.000000   86.73913  0.000000   820.0  100620.000000  -620.000000  296.65   NaN  276.750000   3.800000   4.300000  -10   0.000000\n",
      "35       7643  20250201120000  102340.000000  -20.000000  8.000000   10   7.700000  280.650000  277.950000   83.000000  60000.000000   0.000000  100.00000  6.000000  1250.0  102240.000000  -250.000000  296.65   NaN  275.650000  11.200000  11.700000  -10   0.800000\n",
      "36       7650  20250201120000  102210.000000  -10.000000  0.000000   20   1.800000  284.250000  280.950000   80.000000  14410.000000  61.000000  100.00000  3.000000  1250.0  101820.000000  -230.000000  296.65   NaN  279.850000   2.600000   5.800000  -10   2.400000\n",
      "37       7661  20250201120000  102104.210526    9.152542  5.338983   60   9.100000  284.285593  280.091379   75.948276  25178.604651   5.238095   86.73913  4.131579   820.0  100497.627119  -136.206897  296.65   NaN  276.202778  14.400000  17.400000  -10          0\n",
      "38       7690  20250201120000  102220.000000  -70.000000  8.000000  340   2.500000  285.550000  282.050000   79.000000  30000.000000  80.000000  100.00000  7.000000  1250.0  101900.000000  -110.000000  296.65   NaN  282.050000   5.600000   6.200000  -10   3.000000\n",
      "39       7747  20250201120000  102340.000000  -70.000000  8.000000   20   1.900000  283.650000  272.750000   47.000000  60000.000000   0.000000   86.73913  2.000000  2640.0  101800.000000  -260.000000  296.65   NaN  279.150000   4.000000   5.600000  -10   0.000000\n",
      "40       7761  20250201120000  102100.000000 -130.000000  8.000000  290   1.000000  287.950000  283.150000   73.000000  41750.000000   0.000000   75.00000  6.000000  2760.0  101990.000000  -280.000000  296.65   NaN  281.150000   2.400000   2.700000  -10  -0.100000\n",
      "41       7790  20250201120000  102150.000000  -60.000000  8.000000  320   3.400000  286.650000  285.250000   91.000000  16910.000000   0.000000   90.00000  7.000000   250.0  102000.000000  -180.000000  296.65   NaN  283.450000   5.400000   5.400000  -10   1.400000\n",
      "42      61968  20250201120000  100690.000000  190.000000  8.000000  300   6.600000  284.285593  280.091379   75.948276  25178.604651   5.238095   86.73913  4.131579   820.0  100640.000000   -10.000000  296.65   NaN  276.202778          0  11.200000  -10   0.000000\n",
      "43      61970  20250201120000  100740.000000  120.000000  6.000000  310   4.400000  305.850000  299.150000   68.000000  25178.604651   5.238095   86.73913  4.131579   820.0  100630.000000    60.000000  296.65   NaN  276.202778          0   9.000000  -10   0.000000\n",
      "44      61972  20250201120000  100810.000000   60.000000  6.000000  140   6.900000  302.950000  297.350000   72.000000  25178.604651   5.238095   86.73913  4.131579   820.0  100740.000000   170.000000  296.65   NaN  276.202778          0  12.500000  -10   0.200000\n",
      "45      61976  20250201120000  100510.000000  180.000000  7.000000    0          0  304.950000  298.350000   68.000000  25178.604651   5.238095   86.73913  4.131579   820.0  100420.000000  -140.000000  296.65   NaN  276.202778          0          0  -10   0.200000\n",
      "46      61980  20250201120000  100620.000000  -40.000000  8.000000   90   7.500000  304.250000  297.350000   67.000000  19810.000000   0.000000   90.00000  1.000000   800.0  100480.000000  -140.000000  296.65   NaN  276.202778  10.600000  12.700000  -10   0.000000\n",
      "47      61996  20250201120000  101860.000000  100.000000  8.000000  310   3.600000  292.650000  285.850000   65.000000  25178.604651   5.238095   86.73913  4.131579   820.0  101520.000000   -50.000000  296.65   NaN  276.202778          0   7.700000  -10   0.000000\n",
      "48      61997  20250201120000   99370.000000  380.000000  6.000000  340   9.400000  283.150000  283.150000  100.000000  25178.604651   5.238095   86.73913  4.131579   820.0   97650.000000 -2120.000000  296.65   NaN  276.202778          0  15.700000  -10  11.000000\n",
      "49      61998  20250201120000  101300.000000   10.000000  1.000000  220   5.100000  282.250000  272.650000   51.000000  25178.604651   5.238095   86.73913  4.131579   820.0  100930.000000  1550.000000  296.65   NaN  276.202778          0   8.700000  -10          0\n",
      "50      67005  20250201120000  100680.000000 -180.000000  8.000000  310   6.700000  302.050000  298.850000   83.000000  19060.000000  64.000000   90.00000  7.000000   800.0  100600.000000   -90.000000  296.65   NaN  276.202778   9.400000  10.500000  -10  -0.100000\n",
      "51      71805  20250201120000  100360.000000  120.000000  3.000000  340   5.500000  267.550000  262.750000   69.000000  53150.000000   0.000000  100.00000  8.000000  2640.0  100270.000000  -540.000000  296.65   NaN  273.250000   7.500000   8.500000  -10   0.400000\n",
      "52      78890  20250201120000  101700.000000  150.000000  3.000000   70  10.700000  299.650000  294.450000   73.000000  25178.604651   5.238095   86.73913  4.131579   820.0  101380.000000  -100.000000  296.65   NaN  276.202778          0  13.500000  -10   0.200000\n",
      "53      78897  20250201120000  101710.000000  140.000000  2.000000   90   3.200000  299.350000  294.150000   73.000000  22410.000000   5.238095   86.73913  4.131579   820.0  101620.000000  -120.000000  296.65   NaN  276.202778          0          0    0  -0.100000\n",
      "54      78922  20250201120000  101690.000000  170.000000  3.000000  110   9.500000  299.850000  294.850000   74.000000  25178.604651   5.238095   86.73913  4.131579   820.0  101240.000000  -110.000000  296.65   NaN  276.202778  11.800000  12.600000  -10   0.000000\n",
      "55      78925  20250201120000  101630.000000  180.000000  2.000000  120   6.300000  298.650000  292.350000   68.000000  25260.000000   0.000000   86.73913  0.000000   820.0  101540.000000  -100.000000  297.35   NaN  276.202778   8.600000  11.700000  -10   0.600000\n",
      "56      81401  20250201120000  101280.000000  160.000000  3.000000   60   1.300000  300.850000  296.850000   79.000000  25178.604651   5.238095   86.73913  4.131579   820.0  101220.000000  -110.000000  296.65   NaN  276.202778   2.900000   2.900000  -10   0.400000\n",
      "57      81405  20250201120000  101280.000000  150.000000  3.000000   50   5.700000  300.550000  295.950000   76.000000  15560.000000   0.000000   75.00000  5.000000   800.0  101190.000000  -100.000000  295.95   NaN  297.850000   8.700000   8.700000  -10   0.200000\n",
      "58      81408  20250201120000  101250.000000  190.000000  3.000000   20   2.500000  299.950000  296.650000   82.000000  25178.604651   5.238095   86.73913  4.131579   820.0  101170.000000   -80.000000  296.65   NaN  276.202778   5.200000   5.200000  -10   0.000000\n",
      "59      81415  20250201120000  101350.000000  140.000000  3.000000   40   0.700000  297.850000  296.250000   91.000000  25178.604651   5.238095   86.73913  4.131579   820.0  100130.000000   -90.000000  296.65   NaN  276.202778   1.500000   1.800000  -10   0.000000\n",
      "60      89642  20250201120000   99080.000000  -80.000000  8.000000  120   5.100000  271.450000  265.950000   63.000000  25178.604651   5.238095   86.73913  4.131579   820.0   98550.000000  -136.206897  296.65   NaN  276.202778          0          0    0          0\n"
     ]
    }
   ],
   "source": [
    "df[['dd', 'ff', 'raf10', 'rafper', 'rr12', \"per\"]] = df[['dd', 'ff', 'raf10', 'rafper', 'rr12', \"per\"]].fillna(0)\n",
    "\n",
    "moyenne = [\"pmer\", \"tend\", \"cod_tend\", \"pres\", \"tend24\", \"t\", \"td\", \"tn12\", \"tx12\", \"tminsol\", \"u\", \"vv\", \"n\", \"nbas\", \"hbas\", \"ww\"]\n",
    "df[moyenne] = df[moyenne].apply(pd.to_numeric, errors='coerce')\n",
    "\n",
    "for col in moyenne:\n",
    "    df[col] = df[col].fillna(df[col].mean())\n",
    "\n",
    "print(df.to_string())\n",
    "\n"
   ]
  },
  {
   "cell_type": "markdown",
   "metadata": {},
   "source": [
    "## Typages des colonnes"
   ]
  },
  {
   "cell_type": "code",
   "execution_count": 11,
   "metadata": {
    "execution": {
     "iopub.execute_input": "2025-02-01T13:52:10.642314Z",
     "iopub.status.busy": "2025-02-01T13:52:10.642099Z",
     "iopub.status.idle": "2025-02-01T13:52:10.655970Z",
     "shell.execute_reply": "2025-02-01T13:52:10.655271Z"
    }
   },
   "outputs": [
    {
     "name": "stdout",
     "output_type": "stream",
     "text": [
      "numer_sta -> int64\n",
      "numer_sta -> int64\n",
      "\n",
      "pmer -> float64\n",
      "pmer -> int64\n",
      "\n",
      "tend -> float64\n",
      "tend -> int64\n",
      "\n",
      "cod_tend -> float64\n",
      "cod_tend -> int64\n",
      "\n",
      "dd -> object\n",
      "dd -> int64\n",
      "\n",
      "u -> float64\n",
      "u -> int64\n",
      "\n",
      "ww -> float64\n",
      "ww -> int64\n",
      "\n",
      "nbas -> float64\n",
      "nbas -> int64\n",
      "\n",
      "hbas -> float64\n",
      "hbas -> int64\n",
      "\n",
      "pres -> float64\n",
      "pres -> int64\n",
      "\n",
      "tend24 -> float64\n",
      "tend24 -> int64\n",
      "\n",
      "dd -> int64\n",
      "dd -> float64\n",
      "\n",
      "ff -> object\n",
      "ff -> float64\n",
      "\n",
      "raf10 -> object\n",
      "raf10 -> float64\n",
      "\n",
      "rafper -> object\n",
      "rafper -> float64\n",
      "\n",
      "rr12 -> object\n",
      "rr12 -> float64\n",
      "\n",
      "per -> object\n",
      "per -> float64\n",
      "\n",
      "t -> float64\n",
      "t -> float64\n",
      "\n",
      "td -> float64\n",
      "td -> float64\n",
      "\n",
      "tn12 -> float64\n",
      "tn12 -> float64\n",
      "\n",
      "tx12 -> float64\n",
      "tx12 -> float64\n",
      "\n",
      "tminsol -> float64\n",
      "tminsol -> float64\n",
      "\n",
      "n -> float64\n",
      "n -> float64\n",
      "\n",
      "vv -> float64\n",
      "vv -> float64\n",
      "\n"
     ]
    }
   ],
   "source": [
    "df[\"date\"] = pd.to_datetime(df[\"date\"], format='%Y%m%d%H%M%S')\n",
    "df['date'] = df['date'].dt.strftime(\"%Y-%m-%d %H:%M:%S\")\n",
    "\n",
    "entier = [\"numer_sta\", \"pmer\", \"tend\", \"cod_tend\", \"dd\", \"u\", \"ww\", \"nbas\", \"hbas\", \"pres\", \"tend24\"]\n",
    "for i in entier:\n",
    "    print(f\"{i} -> {df[i].dtype}\")\n",
    "    df[i] = df[i].astype(int)\n",
    "    print(f\"{i} -> {df[i].dtype}\")\n",
    "    print(\"\")\n",
    "\n",
    "double = ['dd', 'ff', 'raf10', 'rafper', 'rr12', \"per\", \"t\", \"td\", \"tn12\", \"tx12\", \"tminsol\", \"n\", \"vv\"]\n",
    "for i in double:\n",
    "    print(f\"{i} -> {df[i].dtype}\")\n",
    "    df[i] = df[i].astype(float)\n",
    "    print(f\"{i} -> {df[i].dtype}\")\n",
    "    print(\"\")"
   ]
  },
  {
   "cell_type": "code",
   "execution_count": 12,
   "metadata": {
    "execution": {
     "iopub.execute_input": "2025-02-01T13:52:10.658107Z",
     "iopub.status.busy": "2025-02-01T13:52:10.657883Z",
     "iopub.status.idle": "2025-02-01T13:52:10.678475Z",
     "shell.execute_reply": "2025-02-01T13:52:10.677770Z"
    }
   },
   "outputs": [
    {
     "name": "stdout",
     "output_type": "stream",
     "text": [
      "    numer_sta                 date    pmer  tend  cod_tend     dd    ff           t          td    u            vv  ww          n  nbas  hbas    pres  tend24    tn12  tx12     tminsol  raf10  rafper   per  rr12\n",
      "0        7005  2025-02-01 12:00:00  103070  -100         8  190.0   0.7  275.950000  275.950000  100   1710.000000  10   86.73913     4   820  102160     410  296.65   NaN  273.450000    2.3     2.9 -10.0   0.0\n",
      "1        7015  2025-02-01 12:00:00  103110  -110         8  140.0   2.1  279.850000  274.350000   68   8670.000000   0   86.73913     0   820  102520     380  296.65   NaN  271.550000    3.5     3.6 -10.0   0.2\n",
      "2        7020  2025-02-01 12:00:00  102830   -30         8  180.0   5.1  280.750000  279.250000   90  11000.000000   2  100.00000     8   450  102720     430  296.65   NaN  276.202778    7.2     7.6 -10.0   0.4\n",
      "3        7027  2025-02-01 12:00:00  102970   -10         8  150.0   4.6  277.250000  275.450000   88  29760.000000   0  100.00000     8   450  102130     490  296.65   NaN  278.250000    6.5     6.5 -10.0   0.0\n",
      "4        7037  2025-02-01 12:00:00  103050   -80         8   90.0   2.4  275.050000  275.050000  100   7420.000000   0   75.00000     6   150  101070     360  296.65   NaN  276.450000    3.9     4.3 -10.0   0.0\n",
      "5        7072  2025-02-01 12:00:00  103000  -110         8   60.0   4.1  277.950000  273.550000   73  19830.000000   0   86.73913     0   820  101810      50  296.65   NaN  273.150000    6.3     6.3 -10.0   0.0\n",
      "6        7110  2025-02-01 12:00:00  102760   -90         8  140.0   3.1  283.050000  277.450000   68  20000.000000   0   86.73913     0   820  101560     130  296.65   NaN  272.050000    4.6     5.7 -10.0   0.2\n",
      "7        7117  2025-02-01 12:00:00  102780   -40         8  100.0   1.9  281.750000  276.950000   72  25178.604651   5   86.73913     4   820  102060     170  296.65   NaN  276.202778    4.0     4.4 -10.0   0.0\n",
      "8        7130  2025-02-01 12:00:00  102900   -50         8  140.0   2.8  278.450000  275.950000   84  60000.000000   0  100.00000     8   450  102440     210  296.65   NaN  276.350000    5.4     6.2 -10.0   0.0\n",
      "9        7139  2025-02-01 12:00:00  102990   -40         8   40.0   1.7  276.750000  274.750000   87  19960.000000   0  100.00000     8   450  101170     240  296.65   NaN  278.450000    3.3     3.6 -10.0   0.0\n",
      "10       7149  2025-02-01 12:00:00  102950   -90         8   60.0   3.9  278.850000  273.950000   71  15000.000000   1    0.00000     0   820  101830      30  296.65   NaN  276.202778    5.7     5.9 -10.0   0.0\n",
      "11       7168  2025-02-01 12:00:00  102920   -80         8   70.0   3.1  277.250000  272.450000   71  19270.000000   0   86.73913     0   820  101440     -90  296.65   NaN  271.050000    5.0     6.5 -10.0   0.0\n",
      "12       7181  2025-02-01 12:00:00  102870   -70         8   60.0   5.4  277.250000  270.350000   61  30890.000000   0   86.73913     0   820   98560    -120  296.65   NaN  268.450000    7.8     9.4 -10.0   0.0\n",
      "13       7190  2025-02-01 12:00:00  102900  -120         8  360.0   4.7  277.850000  272.450000   68  15660.000000   0   86.73913     0   820  101020     -90  296.65   NaN  270.150000    6.2     7.2 -10.0   0.0\n",
      "14       7207  2025-02-01 12:00:00  102104     9         5  100.0   2.5  278.750000  280.091379   75  25178.604651   5   86.73913     4   820  100497    -136  296.65   NaN  276.202778    7.0     8.9 -10.0   0.0\n",
      "15       7222  2025-02-01 12:00:00  102800     0         0  110.0   4.1  277.850000  275.550000   85  49370.000000   0  100.00000     8   450  102470     -80  296.65   NaN  277.350000    6.6     8.0 -10.0   0.0\n",
      "16       7240  2025-02-01 12:00:00  102910   -30         8   40.0   2.2  275.950000  275.050000   94  18050.000000   0  100.00000     8   150  101500     -70  296.65   NaN  276.650000    5.4     5.4 -10.0   0.2\n",
      "17       7255  2025-02-01 12:00:00  102790  -110         8  190.0   0.7  276.750000  276.350000   97   9260.000000   0   86.73913     4   820  100720    -270  296.65   NaN  274.750000    1.9     2.1 -10.0   0.0\n",
      "18       7280  2025-02-01 12:00:00  102710   -50         8   50.0   3.7  279.050000  273.750000   69  31980.000000   0   86.73913     1   800  100000    -230  296.65   NaN  271.350000    5.9     8.5 -10.0   0.0\n",
      "19       7299  2025-02-01 12:00:00  102900   -50         8  360.0   1.9  274.150000  272.350000   88  11010.000000   0  100.00000     8   250   99480     -60  296.65   NaN  276.450000    3.8     4.6 -10.0   0.0\n",
      "20       7314  2025-02-01 12:00:00  102730    10         0   60.0   3.4  280.550000  277.650000   82  25178.604651   5   86.73913     4   820  102440    -380  296.65   NaN  276.202778    5.8     6.5 -10.0   0.0\n",
      "21       7335  2025-02-01 12:00:00  102790   -20         8   70.0   3.4  279.750000  276.150000   78  60000.000000   0   86.73913     2   450  101300    -310  296.65   NaN  278.650000    6.1     6.8 -10.0   0.0\n",
      "22       7434  2025-02-01 12:00:00  102610   -70         8   50.0   5.5  277.050000  273.250000   76  21400.000000   0   86.73913     0   820   97670    -480  296.65   NaN  275.750000    8.7     8.7 -10.0   3.1\n",
      "23       7460  2025-02-01 12:00:00  102800     0         0   50.0   2.4  275.650000  273.350000   85   8430.000000   0  100.00000     8   450   98700    -230  296.65   NaN  272.650000    3.4     5.1 -10.0   0.0\n",
      "24       7471  2025-02-01 12:00:00  102104   -10         0   40.0   1.1  273.250000  270.250000   80  20000.000000   0  100.00000     8   450   92670    -220  296.65   NaN  270.150000    2.8     2.8 -10.0   0.0\n",
      "25       7481  2025-02-01 12:00:00  102700   -10         0  350.0   3.8  277.050000  274.450000   83  14000.000000   2   90.00000     7   450   99720    -180  296.65   NaN  276.202778    5.5     5.5 -10.0   0.0\n",
      "26       7510  2025-02-01 12:00:00  102610    20         0   80.0   2.1  281.750000  277.350000   74  37620.000000   0   86.73913     5   450  102020    -580  296.65   NaN  277.950000    3.9     5.0 -10.0  14.1\n",
      "27       7535  2025-02-01 12:00:00  102510   -20         8   80.0   1.0  280.050000  275.150000   71  20000.000000   0   86.73913     0   820   99320    -540  296.65   NaN  276.650000    2.6     5.0 -10.0   3.6\n",
      "28       7558  2025-02-01 12:00:00  102370    30         0   30.0   3.7  277.250000  272.050000   69  20000.000000   0   86.73913     4   820   93850    -350  296.65   NaN  270.150000    5.5     6.3 -10.0   0.0\n",
      "29       7577  2025-02-01 12:00:00  102470   -50         8   30.0   6.4  280.050000  275.350000   72  19840.000000   0   86.73913     4   820  101550    -160  296.65   NaN  277.250000    9.2    10.5 -10.0   0.6\n",
      "30       7591  2025-02-01 12:00:00  102104    50         8   70.0   8.1  283.550000  271.150000   42  25178.604651   5   86.73913     4   820   91930    -160  296.65   NaN  276.202778   13.3    16.3 -10.0   0.0\n",
      "31       7607  2025-02-01 12:00:00  102560    70         0  120.0   2.7  281.950000  277.350000   73  44110.000000   0   86.73913     3   800  101830    -650  296.65   NaN  279.450000    4.8     5.9 -10.0   5.8\n",
      "32       7621  2025-02-01 12:00:00  102480    20         0   30.0   3.0  278.150000  276.850000   91  28160.000000   0  100.00000     8   250   98030    -770  296.65   NaN  273.250000    5.1     5.5 -10.0  -0.1\n",
      "33       7627  2025-02-01 12:00:00  102370     0         0  280.0   1.3  281.650000  275.450000   65  20000.000000   0   10.00000     1   800   97380    -730  296.65   NaN  276.350000    3.0     4.2 -10.0   0.0\n",
      "34       7630  2025-02-01 12:00:00  102460     0         0   60.0   1.8  282.150000  273.550000   55  11960.000000   0   86.73913     0   820  100620    -620  296.65   NaN  276.750000    3.8     4.3 -10.0   0.0\n",
      "35       7643  2025-02-01 12:00:00  102340   -20         8   10.0   7.7  280.650000  277.950000   83  60000.000000   0  100.00000     6  1250  102240    -250  296.65   NaN  275.650000   11.2    11.7 -10.0   0.8\n",
      "36       7650  2025-02-01 12:00:00  102210   -10         0   20.0   1.8  284.250000  280.950000   80  14410.000000  61  100.00000     3  1250  101820    -230  296.65   NaN  279.850000    2.6     5.8 -10.0   2.4\n",
      "37       7661  2025-02-01 12:00:00  102104     9         5   60.0   9.1  284.285593  280.091379   75  25178.604651   5   86.73913     4   820  100497    -136  296.65   NaN  276.202778   14.4    17.4 -10.0   0.0\n",
      "38       7690  2025-02-01 12:00:00  102220   -70         8  340.0   2.5  285.550000  282.050000   79  30000.000000  80  100.00000     7  1250  101900    -110  296.65   NaN  282.050000    5.6     6.2 -10.0   3.0\n",
      "39       7747  2025-02-01 12:00:00  102340   -70         8   20.0   1.9  283.650000  272.750000   47  60000.000000   0   86.73913     2  2640  101800    -260  296.65   NaN  279.150000    4.0     5.6 -10.0   0.0\n",
      "40       7761  2025-02-01 12:00:00  102100  -130         8  290.0   1.0  287.950000  283.150000   73  41750.000000   0   75.00000     6  2760  101990    -280  296.65   NaN  281.150000    2.4     2.7 -10.0  -0.1\n",
      "41       7790  2025-02-01 12:00:00  102150   -60         8  320.0   3.4  286.650000  285.250000   91  16910.000000   0   90.00000     7   250  102000    -180  296.65   NaN  283.450000    5.4     5.4 -10.0   1.4\n",
      "42      61968  2025-02-01 12:00:00  100690   190         8  300.0   6.6  284.285593  280.091379   75  25178.604651   5   86.73913     4   820  100640     -10  296.65   NaN  276.202778    0.0    11.2 -10.0   0.0\n",
      "43      61970  2025-02-01 12:00:00  100740   120         6  310.0   4.4  305.850000  299.150000   68  25178.604651   5   86.73913     4   820  100630      60  296.65   NaN  276.202778    0.0     9.0 -10.0   0.0\n",
      "44      61972  2025-02-01 12:00:00  100810    60         6  140.0   6.9  302.950000  297.350000   72  25178.604651   5   86.73913     4   820  100740     170  296.65   NaN  276.202778    0.0    12.5 -10.0   0.2\n",
      "45      61976  2025-02-01 12:00:00  100510   180         7    0.0   0.0  304.950000  298.350000   68  25178.604651   5   86.73913     4   820  100420    -140  296.65   NaN  276.202778    0.0     0.0 -10.0   0.2\n",
      "46      61980  2025-02-01 12:00:00  100620   -40         8   90.0   7.5  304.250000  297.350000   67  19810.000000   0   90.00000     1   800  100480    -140  296.65   NaN  276.202778   10.6    12.7 -10.0   0.0\n",
      "47      61996  2025-02-01 12:00:00  101860   100         8  310.0   3.6  292.650000  285.850000   65  25178.604651   5   86.73913     4   820  101520     -50  296.65   NaN  276.202778    0.0     7.7 -10.0   0.0\n",
      "48      61997  2025-02-01 12:00:00   99370   380         6  340.0   9.4  283.150000  283.150000  100  25178.604651   5   86.73913     4   820   97650   -2120  296.65   NaN  276.202778    0.0    15.7 -10.0  11.0\n",
      "49      61998  2025-02-01 12:00:00  101300    10         1  220.0   5.1  282.250000  272.650000   51  25178.604651   5   86.73913     4   820  100930    1550  296.65   NaN  276.202778    0.0     8.7 -10.0   0.0\n",
      "50      67005  2025-02-01 12:00:00  100680  -180         8  310.0   6.7  302.050000  298.850000   83  19060.000000  64   90.00000     7   800  100600     -90  296.65   NaN  276.202778    9.4    10.5 -10.0  -0.1\n",
      "51      71805  2025-02-01 12:00:00  100360   120         3  340.0   5.5  267.550000  262.750000   69  53150.000000   0  100.00000     8  2640  100270    -540  296.65   NaN  273.250000    7.5     8.5 -10.0   0.4\n",
      "52      78890  2025-02-01 12:00:00  101700   150         3   70.0  10.7  299.650000  294.450000   73  25178.604651   5   86.73913     4   820  101380    -100  296.65   NaN  276.202778    0.0    13.5 -10.0   0.2\n",
      "53      78897  2025-02-01 12:00:00  101710   140         2   90.0   3.2  299.350000  294.150000   73  22410.000000   5   86.73913     4   820  101620    -120  296.65   NaN  276.202778    0.0     0.0   0.0  -0.1\n",
      "54      78922  2025-02-01 12:00:00  101690   170         3  110.0   9.5  299.850000  294.850000   74  25178.604651   5   86.73913     4   820  101240    -110  296.65   NaN  276.202778   11.8    12.6 -10.0   0.0\n",
      "55      78925  2025-02-01 12:00:00  101630   180         2  120.0   6.3  298.650000  292.350000   68  25260.000000   0   86.73913     0   820  101540    -100  297.35   NaN  276.202778    8.6    11.7 -10.0   0.6\n",
      "56      81401  2025-02-01 12:00:00  101280   160         3   60.0   1.3  300.850000  296.850000   79  25178.604651   5   86.73913     4   820  101220    -110  296.65   NaN  276.202778    2.9     2.9 -10.0   0.4\n",
      "57      81405  2025-02-01 12:00:00  101280   150         3   50.0   5.7  300.550000  295.950000   76  15560.000000   0   75.00000     5   800  101190    -100  295.95   NaN  297.850000    8.7     8.7 -10.0   0.2\n",
      "58      81408  2025-02-01 12:00:00  101250   190         3   20.0   2.5  299.950000  296.650000   82  25178.604651   5   86.73913     4   820  101170     -80  296.65   NaN  276.202778    5.2     5.2 -10.0   0.0\n",
      "59      81415  2025-02-01 12:00:00  101350   140         3   40.0   0.7  297.850000  296.250000   91  25178.604651   5   86.73913     4   820  100130     -90  296.65   NaN  276.202778    1.5     1.8 -10.0   0.0\n",
      "60      89642  2025-02-01 12:00:00   99080   -80         8  120.0   5.1  271.450000  265.950000   63  25178.604651   5   86.73913     4   820   98550    -136  296.65   NaN  276.202778    0.0     0.0   0.0   0.0\n"
     ]
    }
   ],
   "source": [
    "print(df.to_string())"
   ]
  },
  {
   "cell_type": "markdown",
   "metadata": {},
   "source": [
    "## Conversion des températures de Kelvin en Celcuis"
   ]
  },
  {
   "cell_type": "code",
   "execution_count": 13,
   "metadata": {
    "execution": {
     "iopub.execute_input": "2025-02-01T13:52:10.681095Z",
     "iopub.status.busy": "2025-02-01T13:52:10.680472Z",
     "iopub.status.idle": "2025-02-01T13:52:10.702540Z",
     "shell.execute_reply": "2025-02-01T13:52:10.701830Z"
    }
   },
   "outputs": [
    {
     "name": "stdout",
     "output_type": "stream",
     "text": [
      "    numer_sta                 date    pmer  tend  cod_tend     dd    ff          t         td    u            vv  ww          n  nbas  hbas    pres  tend24  tn12  tx12    tminsol  raf10  rafper   per  rr12\n",
      "0        7005  2025-02-01 12:00:00  103070  -100         8  190.0   0.7   2.800000   2.800000  100   1710.000000  10   86.73913     4   820  102160     410  23.5   NaN   0.300000    2.3     2.9 -10.0   0.0\n",
      "1        7015  2025-02-01 12:00:00  103110  -110         8  140.0   2.1   6.700000   1.200000   68   8670.000000   0   86.73913     0   820  102520     380  23.5   NaN  -1.600000    3.5     3.6 -10.0   0.2\n",
      "2        7020  2025-02-01 12:00:00  102830   -30         8  180.0   5.1   7.600000   6.100000   90  11000.000000   2  100.00000     8   450  102720     430  23.5   NaN   3.052778    7.2     7.6 -10.0   0.4\n",
      "3        7027  2025-02-01 12:00:00  102970   -10         8  150.0   4.6   4.100000   2.300000   88  29760.000000   0  100.00000     8   450  102130     490  23.5   NaN   5.100000    6.5     6.5 -10.0   0.0\n",
      "4        7037  2025-02-01 12:00:00  103050   -80         8   90.0   2.4   1.900000   1.900000  100   7420.000000   0   75.00000     6   150  101070     360  23.5   NaN   3.300000    3.9     4.3 -10.0   0.0\n",
      "5        7072  2025-02-01 12:00:00  103000  -110         8   60.0   4.1   4.800000   0.400000   73  19830.000000   0   86.73913     0   820  101810      50  23.5   NaN   0.000000    6.3     6.3 -10.0   0.0\n",
      "6        7110  2025-02-01 12:00:00  102760   -90         8  140.0   3.1   9.900000   4.300000   68  20000.000000   0   86.73913     0   820  101560     130  23.5   NaN  -1.100000    4.6     5.7 -10.0   0.2\n",
      "7        7117  2025-02-01 12:00:00  102780   -40         8  100.0   1.9   8.600000   3.800000   72  25178.604651   5   86.73913     4   820  102060     170  23.5   NaN   3.052778    4.0     4.4 -10.0   0.0\n",
      "8        7130  2025-02-01 12:00:00  102900   -50         8  140.0   2.8   5.300000   2.800000   84  60000.000000   0  100.00000     8   450  102440     210  23.5   NaN   3.200000    5.4     6.2 -10.0   0.0\n",
      "9        7139  2025-02-01 12:00:00  102990   -40         8   40.0   1.7   3.600000   1.600000   87  19960.000000   0  100.00000     8   450  101170     240  23.5   NaN   5.300000    3.3     3.6 -10.0   0.0\n",
      "10       7149  2025-02-01 12:00:00  102950   -90         8   60.0   3.9   5.700000   0.800000   71  15000.000000   1    0.00000     0   820  101830      30  23.5   NaN   3.052778    5.7     5.9 -10.0   0.0\n",
      "11       7168  2025-02-01 12:00:00  102920   -80         8   70.0   3.1   4.100000  -0.700000   71  19270.000000   0   86.73913     0   820  101440     -90  23.5   NaN  -2.100000    5.0     6.5 -10.0   0.0\n",
      "12       7181  2025-02-01 12:00:00  102870   -70         8   60.0   5.4   4.100000  -2.800000   61  30890.000000   0   86.73913     0   820   98560    -120  23.5   NaN  -4.700000    7.8     9.4 -10.0   0.0\n",
      "13       7190  2025-02-01 12:00:00  102900  -120         8  360.0   4.7   4.700000  -0.700000   68  15660.000000   0   86.73913     0   820  101020     -90  23.5   NaN  -3.000000    6.2     7.2 -10.0   0.0\n",
      "14       7207  2025-02-01 12:00:00  102104     9         5  100.0   2.5   5.600000   6.941379   75  25178.604651   5   86.73913     4   820  100497    -136  23.5   NaN   3.052778    7.0     8.9 -10.0   0.0\n",
      "15       7222  2025-02-01 12:00:00  102800     0         0  110.0   4.1   4.700000   2.400000   85  49370.000000   0  100.00000     8   450  102470     -80  23.5   NaN   4.200000    6.6     8.0 -10.0   0.0\n",
      "16       7240  2025-02-01 12:00:00  102910   -30         8   40.0   2.2   2.800000   1.900000   94  18050.000000   0  100.00000     8   150  101500     -70  23.5   NaN   3.500000    5.4     5.4 -10.0   0.2\n",
      "17       7255  2025-02-01 12:00:00  102790  -110         8  190.0   0.7   3.600000   3.200000   97   9260.000000   0   86.73913     4   820  100720    -270  23.5   NaN   1.600000    1.9     2.1 -10.0   0.0\n",
      "18       7280  2025-02-01 12:00:00  102710   -50         8   50.0   3.7   5.900000   0.600000   69  31980.000000   0   86.73913     1   800  100000    -230  23.5   NaN  -1.800000    5.9     8.5 -10.0   0.0\n",
      "19       7299  2025-02-01 12:00:00  102900   -50         8  360.0   1.9   1.000000  -0.800000   88  11010.000000   0  100.00000     8   250   99480     -60  23.5   NaN   3.300000    3.8     4.6 -10.0   0.0\n",
      "20       7314  2025-02-01 12:00:00  102730    10         0   60.0   3.4   7.400000   4.500000   82  25178.604651   5   86.73913     4   820  102440    -380  23.5   NaN   3.052778    5.8     6.5 -10.0   0.0\n",
      "21       7335  2025-02-01 12:00:00  102790   -20         8   70.0   3.4   6.600000   3.000000   78  60000.000000   0   86.73913     2   450  101300    -310  23.5   NaN   5.500000    6.1     6.8 -10.0   0.0\n",
      "22       7434  2025-02-01 12:00:00  102610   -70         8   50.0   5.5   3.900000   0.100000   76  21400.000000   0   86.73913     0   820   97670    -480  23.5   NaN   2.600000    8.7     8.7 -10.0   3.1\n",
      "23       7460  2025-02-01 12:00:00  102800     0         0   50.0   2.4   2.500000   0.200000   85   8430.000000   0  100.00000     8   450   98700    -230  23.5   NaN  -0.500000    3.4     5.1 -10.0   0.0\n",
      "24       7471  2025-02-01 12:00:00  102104   -10         0   40.0   1.1   0.100000  -2.900000   80  20000.000000   0  100.00000     8   450   92670    -220  23.5   NaN  -3.000000    2.8     2.8 -10.0   0.0\n",
      "25       7481  2025-02-01 12:00:00  102700   -10         0  350.0   3.8   3.900000   1.300000   83  14000.000000   2   90.00000     7   450   99720    -180  23.5   NaN   3.052778    5.5     5.5 -10.0   0.0\n",
      "26       7510  2025-02-01 12:00:00  102610    20         0   80.0   2.1   8.600000   4.200000   74  37620.000000   0   86.73913     5   450  102020    -580  23.5   NaN   4.800000    3.9     5.0 -10.0  14.1\n",
      "27       7535  2025-02-01 12:00:00  102510   -20         8   80.0   1.0   6.900000   2.000000   71  20000.000000   0   86.73913     0   820   99320    -540  23.5   NaN   3.500000    2.6     5.0 -10.0   3.6\n",
      "28       7558  2025-02-01 12:00:00  102370    30         0   30.0   3.7   4.100000  -1.100000   69  20000.000000   0   86.73913     4   820   93850    -350  23.5   NaN  -3.000000    5.5     6.3 -10.0   0.0\n",
      "29       7577  2025-02-01 12:00:00  102470   -50         8   30.0   6.4   6.900000   2.200000   72  19840.000000   0   86.73913     4   820  101550    -160  23.5   NaN   4.100000    9.2    10.5 -10.0   0.6\n",
      "30       7591  2025-02-01 12:00:00  102104    50         8   70.0   8.1  10.400000  -2.000000   42  25178.604651   5   86.73913     4   820   91930    -160  23.5   NaN   3.052778   13.3    16.3 -10.0   0.0\n",
      "31       7607  2025-02-01 12:00:00  102560    70         0  120.0   2.7   8.800000   4.200000   73  44110.000000   0   86.73913     3   800  101830    -650  23.5   NaN   6.300000    4.8     5.9 -10.0   5.8\n",
      "32       7621  2025-02-01 12:00:00  102480    20         0   30.0   3.0   5.000000   3.700000   91  28160.000000   0  100.00000     8   250   98030    -770  23.5   NaN   0.100000    5.1     5.5 -10.0  -0.1\n",
      "33       7627  2025-02-01 12:00:00  102370     0         0  280.0   1.3   8.500000   2.300000   65  20000.000000   0   10.00000     1   800   97380    -730  23.5   NaN   3.200000    3.0     4.2 -10.0   0.0\n",
      "34       7630  2025-02-01 12:00:00  102460     0         0   60.0   1.8   9.000000   0.400000   55  11960.000000   0   86.73913     0   820  100620    -620  23.5   NaN   3.600000    3.8     4.3 -10.0   0.0\n",
      "35       7643  2025-02-01 12:00:00  102340   -20         8   10.0   7.7   7.500000   4.800000   83  60000.000000   0  100.00000     6  1250  102240    -250  23.5   NaN   2.500000   11.2    11.7 -10.0   0.8\n",
      "36       7650  2025-02-01 12:00:00  102210   -10         0   20.0   1.8  11.100000   7.800000   80  14410.000000  61  100.00000     3  1250  101820    -230  23.5   NaN   6.700000    2.6     5.8 -10.0   2.4\n",
      "37       7661  2025-02-01 12:00:00  102104     9         5   60.0   9.1  11.135593   6.941379   75  25178.604651   5   86.73913     4   820  100497    -136  23.5   NaN   3.052778   14.4    17.4 -10.0   0.0\n",
      "38       7690  2025-02-01 12:00:00  102220   -70         8  340.0   2.5  12.400000   8.900000   79  30000.000000  80  100.00000     7  1250  101900    -110  23.5   NaN   8.900000    5.6     6.2 -10.0   3.0\n",
      "39       7747  2025-02-01 12:00:00  102340   -70         8   20.0   1.9  10.500000  -0.400000   47  60000.000000   0   86.73913     2  2640  101800    -260  23.5   NaN   6.000000    4.0     5.6 -10.0   0.0\n",
      "40       7761  2025-02-01 12:00:00  102100  -130         8  290.0   1.0  14.800000  10.000000   73  41750.000000   0   75.00000     6  2760  101990    -280  23.5   NaN   8.000000    2.4     2.7 -10.0  -0.1\n",
      "41       7790  2025-02-01 12:00:00  102150   -60         8  320.0   3.4  13.500000  12.100000   91  16910.000000   0   90.00000     7   250  102000    -180  23.5   NaN  10.300000    5.4     5.4 -10.0   1.4\n",
      "42      61968  2025-02-01 12:00:00  100690   190         8  300.0   6.6  11.135593   6.941379   75  25178.604651   5   86.73913     4   820  100640     -10  23.5   NaN   3.052778    0.0    11.2 -10.0   0.0\n",
      "43      61970  2025-02-01 12:00:00  100740   120         6  310.0   4.4  32.700000  26.000000   68  25178.604651   5   86.73913     4   820  100630      60  23.5   NaN   3.052778    0.0     9.0 -10.0   0.0\n",
      "44      61972  2025-02-01 12:00:00  100810    60         6  140.0   6.9  29.800000  24.200000   72  25178.604651   5   86.73913     4   820  100740     170  23.5   NaN   3.052778    0.0    12.5 -10.0   0.2\n",
      "45      61976  2025-02-01 12:00:00  100510   180         7    0.0   0.0  31.800000  25.200000   68  25178.604651   5   86.73913     4   820  100420    -140  23.5   NaN   3.052778    0.0     0.0 -10.0   0.2\n",
      "46      61980  2025-02-01 12:00:00  100620   -40         8   90.0   7.5  31.100000  24.200000   67  19810.000000   0   90.00000     1   800  100480    -140  23.5   NaN   3.052778   10.6    12.7 -10.0   0.0\n",
      "47      61996  2025-02-01 12:00:00  101860   100         8  310.0   3.6  19.500000  12.700000   65  25178.604651   5   86.73913     4   820  101520     -50  23.5   NaN   3.052778    0.0     7.7 -10.0   0.0\n",
      "48      61997  2025-02-01 12:00:00   99370   380         6  340.0   9.4  10.000000  10.000000  100  25178.604651   5   86.73913     4   820   97650   -2120  23.5   NaN   3.052778    0.0    15.7 -10.0  11.0\n",
      "49      61998  2025-02-01 12:00:00  101300    10         1  220.0   5.1   9.100000  -0.500000   51  25178.604651   5   86.73913     4   820  100930    1550  23.5   NaN   3.052778    0.0     8.7 -10.0   0.0\n",
      "50      67005  2025-02-01 12:00:00  100680  -180         8  310.0   6.7  28.900000  25.700000   83  19060.000000  64   90.00000     7   800  100600     -90  23.5   NaN   3.052778    9.4    10.5 -10.0  -0.1\n",
      "51      71805  2025-02-01 12:00:00  100360   120         3  340.0   5.5  -5.600000 -10.400000   69  53150.000000   0  100.00000     8  2640  100270    -540  23.5   NaN   0.100000    7.5     8.5 -10.0   0.4\n",
      "52      78890  2025-02-01 12:00:00  101700   150         3   70.0  10.7  26.500000  21.300000   73  25178.604651   5   86.73913     4   820  101380    -100  23.5   NaN   3.052778    0.0    13.5 -10.0   0.2\n",
      "53      78897  2025-02-01 12:00:00  101710   140         2   90.0   3.2  26.200000  21.000000   73  22410.000000   5   86.73913     4   820  101620    -120  23.5   NaN   3.052778    0.0     0.0   0.0  -0.1\n",
      "54      78922  2025-02-01 12:00:00  101690   170         3  110.0   9.5  26.700000  21.700000   74  25178.604651   5   86.73913     4   820  101240    -110  23.5   NaN   3.052778   11.8    12.6 -10.0   0.0\n",
      "55      78925  2025-02-01 12:00:00  101630   180         2  120.0   6.3  25.500000  19.200000   68  25260.000000   0   86.73913     0   820  101540    -100  24.2   NaN   3.052778    8.6    11.7 -10.0   0.6\n",
      "56      81401  2025-02-01 12:00:00  101280   160         3   60.0   1.3  27.700000  23.700000   79  25178.604651   5   86.73913     4   820  101220    -110  23.5   NaN   3.052778    2.9     2.9 -10.0   0.4\n",
      "57      81405  2025-02-01 12:00:00  101280   150         3   50.0   5.7  27.400000  22.800000   76  15560.000000   0   75.00000     5   800  101190    -100  22.8   NaN  24.700000    8.7     8.7 -10.0   0.2\n",
      "58      81408  2025-02-01 12:00:00  101250   190         3   20.0   2.5  26.800000  23.500000   82  25178.604651   5   86.73913     4   820  101170     -80  23.5   NaN   3.052778    5.2     5.2 -10.0   0.0\n",
      "59      81415  2025-02-01 12:00:00  101350   140         3   40.0   0.7  24.700000  23.100000   91  25178.604651   5   86.73913     4   820  100130     -90  23.5   NaN   3.052778    1.5     1.8 -10.0   0.0\n",
      "60      89642  2025-02-01 12:00:00   99080   -80         8  120.0   5.1  -1.700000  -7.200000   63  25178.604651   5   86.73913     4   820   98550    -136  23.5   NaN   3.052778    0.0     0.0   0.0   0.0\n"
     ]
    }
   ],
   "source": [
    "celcuis = [\"t\", \"td\", \"tn12\", \"tx12\", \"tminsol\"]\n",
    "for i in celcuis:\n",
    "    df[i] = df[i] - 273.15\n",
    "\n",
    "print(df.to_string())"
   ]
  },
  {
   "cell_type": "markdown",
   "metadata": {},
   "source": [
    "## Arrondir tous les decimaux à 2chiffres après la virgules"
   ]
  },
  {
   "cell_type": "code",
   "execution_count": 14,
   "metadata": {
    "execution": {
     "iopub.execute_input": "2025-02-01T13:52:10.705087Z",
     "iopub.status.busy": "2025-02-01T13:52:10.704481Z",
     "iopub.status.idle": "2025-02-01T13:52:10.730593Z",
     "shell.execute_reply": "2025-02-01T13:52:10.729881Z"
    }
   },
   "outputs": [
    {
     "name": "stdout",
     "output_type": "stream",
     "text": [
      "    numer_sta                 date    pmer  tend  cod_tend     dd    ff      t     td    u       vv  ww       n  nbas  hbas    pres  tend24  tn12  tx12  tminsol  raf10  rafper   per  rr12\n",
      "0        7005  2025-02-01 12:00:00  103070  -100         8  190.0   0.7   2.80   2.80  100   1710.0  10   86.74     4   820  102160     410  23.5   NaN     0.30    2.3     2.9 -10.0   0.0\n",
      "1        7015  2025-02-01 12:00:00  103110  -110         8  140.0   2.1   6.70   1.20   68   8670.0   0   86.74     0   820  102520     380  23.5   NaN    -1.60    3.5     3.6 -10.0   0.2\n",
      "2        7020  2025-02-01 12:00:00  102830   -30         8  180.0   5.1   7.60   6.10   90  11000.0   2  100.00     8   450  102720     430  23.5   NaN     3.05    7.2     7.6 -10.0   0.4\n",
      "3        7027  2025-02-01 12:00:00  102970   -10         8  150.0   4.6   4.10   2.30   88  29760.0   0  100.00     8   450  102130     490  23.5   NaN     5.10    6.5     6.5 -10.0   0.0\n",
      "4        7037  2025-02-01 12:00:00  103050   -80         8   90.0   2.4   1.90   1.90  100   7420.0   0   75.00     6   150  101070     360  23.5   NaN     3.30    3.9     4.3 -10.0   0.0\n",
      "5        7072  2025-02-01 12:00:00  103000  -110         8   60.0   4.1   4.80   0.40   73  19830.0   0   86.74     0   820  101810      50  23.5   NaN     0.00    6.3     6.3 -10.0   0.0\n",
      "6        7110  2025-02-01 12:00:00  102760   -90         8  140.0   3.1   9.90   4.30   68  20000.0   0   86.74     0   820  101560     130  23.5   NaN    -1.10    4.6     5.7 -10.0   0.2\n",
      "7        7117  2025-02-01 12:00:00  102780   -40         8  100.0   1.9   8.60   3.80   72  25178.6   5   86.74     4   820  102060     170  23.5   NaN     3.05    4.0     4.4 -10.0   0.0\n",
      "8        7130  2025-02-01 12:00:00  102900   -50         8  140.0   2.8   5.30   2.80   84  60000.0   0  100.00     8   450  102440     210  23.5   NaN     3.20    5.4     6.2 -10.0   0.0\n",
      "9        7139  2025-02-01 12:00:00  102990   -40         8   40.0   1.7   3.60   1.60   87  19960.0   0  100.00     8   450  101170     240  23.5   NaN     5.30    3.3     3.6 -10.0   0.0\n",
      "10       7149  2025-02-01 12:00:00  102950   -90         8   60.0   3.9   5.70   0.80   71  15000.0   1    0.00     0   820  101830      30  23.5   NaN     3.05    5.7     5.9 -10.0   0.0\n",
      "11       7168  2025-02-01 12:00:00  102920   -80         8   70.0   3.1   4.10  -0.70   71  19270.0   0   86.74     0   820  101440     -90  23.5   NaN    -2.10    5.0     6.5 -10.0   0.0\n",
      "12       7181  2025-02-01 12:00:00  102870   -70         8   60.0   5.4   4.10  -2.80   61  30890.0   0   86.74     0   820   98560    -120  23.5   NaN    -4.70    7.8     9.4 -10.0   0.0\n",
      "13       7190  2025-02-01 12:00:00  102900  -120         8  360.0   4.7   4.70  -0.70   68  15660.0   0   86.74     0   820  101020     -90  23.5   NaN    -3.00    6.2     7.2 -10.0   0.0\n",
      "14       7207  2025-02-01 12:00:00  102104     9         5  100.0   2.5   5.60   6.94   75  25178.6   5   86.74     4   820  100497    -136  23.5   NaN     3.05    7.0     8.9 -10.0   0.0\n",
      "15       7222  2025-02-01 12:00:00  102800     0         0  110.0   4.1   4.70   2.40   85  49370.0   0  100.00     8   450  102470     -80  23.5   NaN     4.20    6.6     8.0 -10.0   0.0\n",
      "16       7240  2025-02-01 12:00:00  102910   -30         8   40.0   2.2   2.80   1.90   94  18050.0   0  100.00     8   150  101500     -70  23.5   NaN     3.50    5.4     5.4 -10.0   0.2\n",
      "17       7255  2025-02-01 12:00:00  102790  -110         8  190.0   0.7   3.60   3.20   97   9260.0   0   86.74     4   820  100720    -270  23.5   NaN     1.60    1.9     2.1 -10.0   0.0\n",
      "18       7280  2025-02-01 12:00:00  102710   -50         8   50.0   3.7   5.90   0.60   69  31980.0   0   86.74     1   800  100000    -230  23.5   NaN    -1.80    5.9     8.5 -10.0   0.0\n",
      "19       7299  2025-02-01 12:00:00  102900   -50         8  360.0   1.9   1.00  -0.80   88  11010.0   0  100.00     8   250   99480     -60  23.5   NaN     3.30    3.8     4.6 -10.0   0.0\n",
      "20       7314  2025-02-01 12:00:00  102730    10         0   60.0   3.4   7.40   4.50   82  25178.6   5   86.74     4   820  102440    -380  23.5   NaN     3.05    5.8     6.5 -10.0   0.0\n",
      "21       7335  2025-02-01 12:00:00  102790   -20         8   70.0   3.4   6.60   3.00   78  60000.0   0   86.74     2   450  101300    -310  23.5   NaN     5.50    6.1     6.8 -10.0   0.0\n",
      "22       7434  2025-02-01 12:00:00  102610   -70         8   50.0   5.5   3.90   0.10   76  21400.0   0   86.74     0   820   97670    -480  23.5   NaN     2.60    8.7     8.7 -10.0   3.1\n",
      "23       7460  2025-02-01 12:00:00  102800     0         0   50.0   2.4   2.50   0.20   85   8430.0   0  100.00     8   450   98700    -230  23.5   NaN    -0.50    3.4     5.1 -10.0   0.0\n",
      "24       7471  2025-02-01 12:00:00  102104   -10         0   40.0   1.1   0.10  -2.90   80  20000.0   0  100.00     8   450   92670    -220  23.5   NaN    -3.00    2.8     2.8 -10.0   0.0\n",
      "25       7481  2025-02-01 12:00:00  102700   -10         0  350.0   3.8   3.90   1.30   83  14000.0   2   90.00     7   450   99720    -180  23.5   NaN     3.05    5.5     5.5 -10.0   0.0\n",
      "26       7510  2025-02-01 12:00:00  102610    20         0   80.0   2.1   8.60   4.20   74  37620.0   0   86.74     5   450  102020    -580  23.5   NaN     4.80    3.9     5.0 -10.0  14.1\n",
      "27       7535  2025-02-01 12:00:00  102510   -20         8   80.0   1.0   6.90   2.00   71  20000.0   0   86.74     0   820   99320    -540  23.5   NaN     3.50    2.6     5.0 -10.0   3.6\n",
      "28       7558  2025-02-01 12:00:00  102370    30         0   30.0   3.7   4.10  -1.10   69  20000.0   0   86.74     4   820   93850    -350  23.5   NaN    -3.00    5.5     6.3 -10.0   0.0\n",
      "29       7577  2025-02-01 12:00:00  102470   -50         8   30.0   6.4   6.90   2.20   72  19840.0   0   86.74     4   820  101550    -160  23.5   NaN     4.10    9.2    10.5 -10.0   0.6\n",
      "30       7591  2025-02-01 12:00:00  102104    50         8   70.0   8.1  10.40  -2.00   42  25178.6   5   86.74     4   820   91930    -160  23.5   NaN     3.05   13.3    16.3 -10.0   0.0\n",
      "31       7607  2025-02-01 12:00:00  102560    70         0  120.0   2.7   8.80   4.20   73  44110.0   0   86.74     3   800  101830    -650  23.5   NaN     6.30    4.8     5.9 -10.0   5.8\n",
      "32       7621  2025-02-01 12:00:00  102480    20         0   30.0   3.0   5.00   3.70   91  28160.0   0  100.00     8   250   98030    -770  23.5   NaN     0.10    5.1     5.5 -10.0  -0.1\n",
      "33       7627  2025-02-01 12:00:00  102370     0         0  280.0   1.3   8.50   2.30   65  20000.0   0   10.00     1   800   97380    -730  23.5   NaN     3.20    3.0     4.2 -10.0   0.0\n",
      "34       7630  2025-02-01 12:00:00  102460     0         0   60.0   1.8   9.00   0.40   55  11960.0   0   86.74     0   820  100620    -620  23.5   NaN     3.60    3.8     4.3 -10.0   0.0\n",
      "35       7643  2025-02-01 12:00:00  102340   -20         8   10.0   7.7   7.50   4.80   83  60000.0   0  100.00     6  1250  102240    -250  23.5   NaN     2.50   11.2    11.7 -10.0   0.8\n",
      "36       7650  2025-02-01 12:00:00  102210   -10         0   20.0   1.8  11.10   7.80   80  14410.0  61  100.00     3  1250  101820    -230  23.5   NaN     6.70    2.6     5.8 -10.0   2.4\n",
      "37       7661  2025-02-01 12:00:00  102104     9         5   60.0   9.1  11.14   6.94   75  25178.6   5   86.74     4   820  100497    -136  23.5   NaN     3.05   14.4    17.4 -10.0   0.0\n",
      "38       7690  2025-02-01 12:00:00  102220   -70         8  340.0   2.5  12.40   8.90   79  30000.0  80  100.00     7  1250  101900    -110  23.5   NaN     8.90    5.6     6.2 -10.0   3.0\n",
      "39       7747  2025-02-01 12:00:00  102340   -70         8   20.0   1.9  10.50  -0.40   47  60000.0   0   86.74     2  2640  101800    -260  23.5   NaN     6.00    4.0     5.6 -10.0   0.0\n",
      "40       7761  2025-02-01 12:00:00  102100  -130         8  290.0   1.0  14.80  10.00   73  41750.0   0   75.00     6  2760  101990    -280  23.5   NaN     8.00    2.4     2.7 -10.0  -0.1\n",
      "41       7790  2025-02-01 12:00:00  102150   -60         8  320.0   3.4  13.50  12.10   91  16910.0   0   90.00     7   250  102000    -180  23.5   NaN    10.30    5.4     5.4 -10.0   1.4\n",
      "42      61968  2025-02-01 12:00:00  100690   190         8  300.0   6.6  11.14   6.94   75  25178.6   5   86.74     4   820  100640     -10  23.5   NaN     3.05    0.0    11.2 -10.0   0.0\n",
      "43      61970  2025-02-01 12:00:00  100740   120         6  310.0   4.4  32.70  26.00   68  25178.6   5   86.74     4   820  100630      60  23.5   NaN     3.05    0.0     9.0 -10.0   0.0\n",
      "44      61972  2025-02-01 12:00:00  100810    60         6  140.0   6.9  29.80  24.20   72  25178.6   5   86.74     4   820  100740     170  23.5   NaN     3.05    0.0    12.5 -10.0   0.2\n",
      "45      61976  2025-02-01 12:00:00  100510   180         7    0.0   0.0  31.80  25.20   68  25178.6   5   86.74     4   820  100420    -140  23.5   NaN     3.05    0.0     0.0 -10.0   0.2\n",
      "46      61980  2025-02-01 12:00:00  100620   -40         8   90.0   7.5  31.10  24.20   67  19810.0   0   90.00     1   800  100480    -140  23.5   NaN     3.05   10.6    12.7 -10.0   0.0\n",
      "47      61996  2025-02-01 12:00:00  101860   100         8  310.0   3.6  19.50  12.70   65  25178.6   5   86.74     4   820  101520     -50  23.5   NaN     3.05    0.0     7.7 -10.0   0.0\n",
      "48      61997  2025-02-01 12:00:00   99370   380         6  340.0   9.4  10.00  10.00  100  25178.6   5   86.74     4   820   97650   -2120  23.5   NaN     3.05    0.0    15.7 -10.0  11.0\n",
      "49      61998  2025-02-01 12:00:00  101300    10         1  220.0   5.1   9.10  -0.50   51  25178.6   5   86.74     4   820  100930    1550  23.5   NaN     3.05    0.0     8.7 -10.0   0.0\n",
      "50      67005  2025-02-01 12:00:00  100680  -180         8  310.0   6.7  28.90  25.70   83  19060.0  64   90.00     7   800  100600     -90  23.5   NaN     3.05    9.4    10.5 -10.0  -0.1\n",
      "51      71805  2025-02-01 12:00:00  100360   120         3  340.0   5.5  -5.60 -10.40   69  53150.0   0  100.00     8  2640  100270    -540  23.5   NaN     0.10    7.5     8.5 -10.0   0.4\n",
      "52      78890  2025-02-01 12:00:00  101700   150         3   70.0  10.7  26.50  21.30   73  25178.6   5   86.74     4   820  101380    -100  23.5   NaN     3.05    0.0    13.5 -10.0   0.2\n",
      "53      78897  2025-02-01 12:00:00  101710   140         2   90.0   3.2  26.20  21.00   73  22410.0   5   86.74     4   820  101620    -120  23.5   NaN     3.05    0.0     0.0   0.0  -0.1\n",
      "54      78922  2025-02-01 12:00:00  101690   170         3  110.0   9.5  26.70  21.70   74  25178.6   5   86.74     4   820  101240    -110  23.5   NaN     3.05   11.8    12.6 -10.0   0.0\n",
      "55      78925  2025-02-01 12:00:00  101630   180         2  120.0   6.3  25.50  19.20   68  25260.0   0   86.74     0   820  101540    -100  24.2   NaN     3.05    8.6    11.7 -10.0   0.6\n",
      "56      81401  2025-02-01 12:00:00  101280   160         3   60.0   1.3  27.70  23.70   79  25178.6   5   86.74     4   820  101220    -110  23.5   NaN     3.05    2.9     2.9 -10.0   0.4\n",
      "57      81405  2025-02-01 12:00:00  101280   150         3   50.0   5.7  27.40  22.80   76  15560.0   0   75.00     5   800  101190    -100  22.8   NaN    24.70    8.7     8.7 -10.0   0.2\n",
      "58      81408  2025-02-01 12:00:00  101250   190         3   20.0   2.5  26.80  23.50   82  25178.6   5   86.74     4   820  101170     -80  23.5   NaN     3.05    5.2     5.2 -10.0   0.0\n",
      "59      81415  2025-02-01 12:00:00  101350   140         3   40.0   0.7  24.70  23.10   91  25178.6   5   86.74     4   820  100130     -90  23.5   NaN     3.05    1.5     1.8 -10.0   0.0\n",
      "60      89642  2025-02-01 12:00:00   99080   -80         8  120.0   5.1  -1.70  -7.20   63  25178.6   5   86.74     4   820   98550    -136  23.5   NaN     3.05    0.0     0.0   0.0   0.0\n"
     ]
    }
   ],
   "source": [
    "df[double] = df[double].round(2)\n",
    "print(df.to_string())"
   ]
  },
  {
   "cell_type": "markdown",
   "metadata": {},
   "source": [
    "# Add verif to check is all values"
   ]
  },
  {
   "cell_type": "code",
   "execution_count": 15,
   "metadata": {
    "execution": {
     "iopub.execute_input": "2025-02-01T13:52:10.733170Z",
     "iopub.status.busy": "2025-02-01T13:52:10.732583Z",
     "iopub.status.idle": "2025-02-01T13:52:10.761119Z",
     "shell.execute_reply": "2025-02-01T13:52:10.760390Z"
    }
   },
   "outputs": [
    {
     "name": "stdout",
     "output_type": "stream",
     "text": [
      "    numer_sta                 date    pmer  tend  cod_tend     dd    ff      t     td    u       vv  ww       n  nbas  hbas    pres  tend24  tn12  tx12  tminsol  raf10  rafper   per  rr12\n",
      "0        7005  2025-02-01 12:00:00  103070  -100         8  190.0   0.7   2.80   2.80  100   1710.0  10   86.74     4   820  102160     410  23.5   0.0     0.30    2.3     2.9 -10.0   0.0\n",
      "1        7015  2025-02-01 12:00:00  103110  -110         8  140.0   2.1   6.70   1.20   68   8670.0   0   86.74     0   820  102520     380  23.5   0.0    -1.60    3.5     3.6 -10.0   0.2\n",
      "2        7020  2025-02-01 12:00:00  102830   -30         8  180.0   5.1   7.60   6.10   90  11000.0   2  100.00     8   450  102720     430  23.5   0.0     3.05    7.2     7.6 -10.0   0.4\n",
      "3        7027  2025-02-01 12:00:00  102970   -10         8  150.0   4.6   4.10   2.30   88  29760.0   0  100.00     8   450  102130     490  23.5   0.0     5.10    6.5     6.5 -10.0   0.0\n",
      "4        7037  2025-02-01 12:00:00  103050   -80         8   90.0   2.4   1.90   1.90  100   7420.0   0   75.00     6   150  101070     360  23.5   0.0     3.30    3.9     4.3 -10.0   0.0\n",
      "5        7072  2025-02-01 12:00:00  103000  -110         8   60.0   4.1   4.80   0.40   73  19830.0   0   86.74     0   820  101810      50  23.5   0.0     0.00    6.3     6.3 -10.0   0.0\n",
      "6        7110  2025-02-01 12:00:00  102760   -90         8  140.0   3.1   9.90   4.30   68  20000.0   0   86.74     0   820  101560     130  23.5   0.0    -1.10    4.6     5.7 -10.0   0.2\n",
      "7        7117  2025-02-01 12:00:00  102780   -40         8  100.0   1.9   8.60   3.80   72  25178.6   5   86.74     4   820  102060     170  23.5   0.0     3.05    4.0     4.4 -10.0   0.0\n",
      "8        7130  2025-02-01 12:00:00  102900   -50         8  140.0   2.8   5.30   2.80   84  60000.0   0  100.00     8   450  102440     210  23.5   0.0     3.20    5.4     6.2 -10.0   0.0\n",
      "9        7139  2025-02-01 12:00:00  102990   -40         8   40.0   1.7   3.60   1.60   87  19960.0   0  100.00     8   450  101170     240  23.5   0.0     5.30    3.3     3.6 -10.0   0.0\n",
      "10       7149  2025-02-01 12:00:00  102950   -90         8   60.0   3.9   5.70   0.80   71  15000.0   1    0.00     0   820  101830      30  23.5   0.0     3.05    5.7     5.9 -10.0   0.0\n",
      "11       7168  2025-02-01 12:00:00  102920   -80         8   70.0   3.1   4.10  -0.70   71  19270.0   0   86.74     0   820  101440     -90  23.5   0.0    -2.10    5.0     6.5 -10.0   0.0\n",
      "12       7181  2025-02-01 12:00:00  102870   -70         8   60.0   5.4   4.10  -2.80   61  30890.0   0   86.74     0   820   98560    -120  23.5   0.0    -4.70    7.8     9.4 -10.0   0.0\n",
      "13       7190  2025-02-01 12:00:00  102900  -120         8  360.0   4.7   4.70  -0.70   68  15660.0   0   86.74     0   820  101020     -90  23.5   0.0    -3.00    6.2     7.2 -10.0   0.0\n",
      "14       7207  2025-02-01 12:00:00  102104     9         5  100.0   2.5   5.60   6.94   75  25178.6   5   86.74     4   820  100497    -136  23.5   0.0     3.05    7.0     8.9 -10.0   0.0\n",
      "15       7222  2025-02-01 12:00:00  102800     0         0  110.0   4.1   4.70   2.40   85  49370.0   0  100.00     8   450  102470     -80  23.5   0.0     4.20    6.6     8.0 -10.0   0.0\n",
      "16       7240  2025-02-01 12:00:00  102910   -30         8   40.0   2.2   2.80   1.90   94  18050.0   0  100.00     8   150  101500     -70  23.5   0.0     3.50    5.4     5.4 -10.0   0.2\n",
      "17       7255  2025-02-01 12:00:00  102790  -110         8  190.0   0.7   3.60   3.20   97   9260.0   0   86.74     4   820  100720    -270  23.5   0.0     1.60    1.9     2.1 -10.0   0.0\n",
      "18       7280  2025-02-01 12:00:00  102710   -50         8   50.0   3.7   5.90   0.60   69  31980.0   0   86.74     1   800  100000    -230  23.5   0.0    -1.80    5.9     8.5 -10.0   0.0\n",
      "19       7299  2025-02-01 12:00:00  102900   -50         8  360.0   1.9   1.00  -0.80   88  11010.0   0  100.00     8   250   99480     -60  23.5   0.0     3.30    3.8     4.6 -10.0   0.0\n",
      "20       7314  2025-02-01 12:00:00  102730    10         0   60.0   3.4   7.40   4.50   82  25178.6   5   86.74     4   820  102440    -380  23.5   0.0     3.05    5.8     6.5 -10.0   0.0\n",
      "21       7335  2025-02-01 12:00:00  102790   -20         8   70.0   3.4   6.60   3.00   78  60000.0   0   86.74     2   450  101300    -310  23.5   0.0     5.50    6.1     6.8 -10.0   0.0\n",
      "22       7434  2025-02-01 12:00:00  102610   -70         8   50.0   5.5   3.90   0.10   76  21400.0   0   86.74     0   820   97670    -480  23.5   0.0     2.60    8.7     8.7 -10.0   3.1\n",
      "23       7460  2025-02-01 12:00:00  102800     0         0   50.0   2.4   2.50   0.20   85   8430.0   0  100.00     8   450   98700    -230  23.5   0.0    -0.50    3.4     5.1 -10.0   0.0\n",
      "24       7471  2025-02-01 12:00:00  102104   -10         0   40.0   1.1   0.10  -2.90   80  20000.0   0  100.00     8   450   92670    -220  23.5   0.0    -3.00    2.8     2.8 -10.0   0.0\n",
      "25       7481  2025-02-01 12:00:00  102700   -10         0  350.0   3.8   3.90   1.30   83  14000.0   2   90.00     7   450   99720    -180  23.5   0.0     3.05    5.5     5.5 -10.0   0.0\n",
      "26       7510  2025-02-01 12:00:00  102610    20         0   80.0   2.1   8.60   4.20   74  37620.0   0   86.74     5   450  102020    -580  23.5   0.0     4.80    3.9     5.0 -10.0  14.1\n",
      "27       7535  2025-02-01 12:00:00  102510   -20         8   80.0   1.0   6.90   2.00   71  20000.0   0   86.74     0   820   99320    -540  23.5   0.0     3.50    2.6     5.0 -10.0   3.6\n",
      "28       7558  2025-02-01 12:00:00  102370    30         0   30.0   3.7   4.10  -1.10   69  20000.0   0   86.74     4   820   93850    -350  23.5   0.0    -3.00    5.5     6.3 -10.0   0.0\n",
      "29       7577  2025-02-01 12:00:00  102470   -50         8   30.0   6.4   6.90   2.20   72  19840.0   0   86.74     4   820  101550    -160  23.5   0.0     4.10    9.2    10.5 -10.0   0.6\n",
      "30       7591  2025-02-01 12:00:00  102104    50         8   70.0   8.1  10.40  -2.00   42  25178.6   5   86.74     4   820   91930    -160  23.5   0.0     3.05   13.3    16.3 -10.0   0.0\n",
      "31       7607  2025-02-01 12:00:00  102560    70         0  120.0   2.7   8.80   4.20   73  44110.0   0   86.74     3   800  101830    -650  23.5   0.0     6.30    4.8     5.9 -10.0   5.8\n",
      "32       7621  2025-02-01 12:00:00  102480    20         0   30.0   3.0   5.00   3.70   91  28160.0   0  100.00     8   250   98030    -770  23.5   0.0     0.10    5.1     5.5 -10.0  -0.1\n",
      "33       7627  2025-02-01 12:00:00  102370     0         0  280.0   1.3   8.50   2.30   65  20000.0   0   10.00     1   800   97380    -730  23.5   0.0     3.20    3.0     4.2 -10.0   0.0\n",
      "34       7630  2025-02-01 12:00:00  102460     0         0   60.0   1.8   9.00   0.40   55  11960.0   0   86.74     0   820  100620    -620  23.5   0.0     3.60    3.8     4.3 -10.0   0.0\n",
      "35       7643  2025-02-01 12:00:00  102340   -20         8   10.0   7.7   7.50   4.80   83  60000.0   0  100.00     6  1250  102240    -250  23.5   0.0     2.50   11.2    11.7 -10.0   0.8\n",
      "36       7650  2025-02-01 12:00:00  102210   -10         0   20.0   1.8  11.10   7.80   80  14410.0  61  100.00     3  1250  101820    -230  23.5   0.0     6.70    2.6     5.8 -10.0   2.4\n",
      "37       7661  2025-02-01 12:00:00  102104     9         5   60.0   9.1  11.14   6.94   75  25178.6   5   86.74     4   820  100497    -136  23.5   0.0     3.05   14.4    17.4 -10.0   0.0\n",
      "38       7690  2025-02-01 12:00:00  102220   -70         8  340.0   2.5  12.40   8.90   79  30000.0  80  100.00     7  1250  101900    -110  23.5   0.0     8.90    5.6     6.2 -10.0   3.0\n",
      "39       7747  2025-02-01 12:00:00  102340   -70         8   20.0   1.9  10.50  -0.40   47  60000.0   0   86.74     2  2640  101800    -260  23.5   0.0     6.00    4.0     5.6 -10.0   0.0\n",
      "40       7761  2025-02-01 12:00:00  102100  -130         8  290.0   1.0  14.80  10.00   73  41750.0   0   75.00     6  2760  101990    -280  23.5   0.0     8.00    2.4     2.7 -10.0  -0.1\n",
      "41       7790  2025-02-01 12:00:00  102150   -60         8  320.0   3.4  13.50  12.10   91  16910.0   0   90.00     7   250  102000    -180  23.5   0.0    10.30    5.4     5.4 -10.0   1.4\n",
      "42      61968  2025-02-01 12:00:00  100690   190         8  300.0   6.6  11.14   6.94   75  25178.6   5   86.74     4   820  100640     -10  23.5   0.0     3.05    0.0    11.2 -10.0   0.0\n",
      "43      61970  2025-02-01 12:00:00  100740   120         6  310.0   4.4  32.70  26.00   68  25178.6   5   86.74     4   820  100630      60  23.5   0.0     3.05    0.0     9.0 -10.0   0.0\n",
      "44      61972  2025-02-01 12:00:00  100810    60         6  140.0   6.9  29.80  24.20   72  25178.6   5   86.74     4   820  100740     170  23.5   0.0     3.05    0.0    12.5 -10.0   0.2\n",
      "45      61976  2025-02-01 12:00:00  100510   180         7    0.0   0.0  31.80  25.20   68  25178.6   5   86.74     4   820  100420    -140  23.5   0.0     3.05    0.0     0.0 -10.0   0.2\n",
      "46      61980  2025-02-01 12:00:00  100620   -40         8   90.0   7.5  31.10  24.20   67  19810.0   0   90.00     1   800  100480    -140  23.5   0.0     3.05   10.6    12.7 -10.0   0.0\n",
      "47      61996  2025-02-01 12:00:00  101860   100         8  310.0   3.6  19.50  12.70   65  25178.6   5   86.74     4   820  101520     -50  23.5   0.0     3.05    0.0     7.7 -10.0   0.0\n",
      "48      61997  2025-02-01 12:00:00   99370   380         6  340.0   9.4  10.00  10.00  100  25178.6   5   86.74     4   820   97650   -2120  23.5   0.0     3.05    0.0    15.7 -10.0  11.0\n",
      "49      61998  2025-02-01 12:00:00  101300    10         1  220.0   5.1   9.10  -0.50   51  25178.6   5   86.74     4   820  100930    1550  23.5   0.0     3.05    0.0     8.7 -10.0   0.0\n",
      "50      67005  2025-02-01 12:00:00  100680  -180         8  310.0   6.7  28.90  25.70   83  19060.0  64   90.00     7   800  100600     -90  23.5   0.0     3.05    9.4    10.5 -10.0  -0.1\n",
      "51      71805  2025-02-01 12:00:00  100360   120         3  340.0   5.5  -5.60 -10.40   69  53150.0   0  100.00     8  2640  100270    -540  23.5   0.0     0.10    7.5     8.5 -10.0   0.4\n",
      "52      78890  2025-02-01 12:00:00  101700   150         3   70.0  10.7  26.50  21.30   73  25178.6   5   86.74     4   820  101380    -100  23.5   0.0     3.05    0.0    13.5 -10.0   0.2\n",
      "53      78897  2025-02-01 12:00:00  101710   140         2   90.0   3.2  26.20  21.00   73  22410.0   5   86.74     4   820  101620    -120  23.5   0.0     3.05    0.0     0.0   0.0  -0.1\n",
      "54      78922  2025-02-01 12:00:00  101690   170         3  110.0   9.5  26.70  21.70   74  25178.6   5   86.74     4   820  101240    -110  23.5   0.0     3.05   11.8    12.6 -10.0   0.0\n",
      "55      78925  2025-02-01 12:00:00  101630   180         2  120.0   6.3  25.50  19.20   68  25260.0   0   86.74     0   820  101540    -100  24.2   0.0     3.05    8.6    11.7 -10.0   0.6\n",
      "56      81401  2025-02-01 12:00:00  101280   160         3   60.0   1.3  27.70  23.70   79  25178.6   5   86.74     4   820  101220    -110  23.5   0.0     3.05    2.9     2.9 -10.0   0.4\n",
      "57      81405  2025-02-01 12:00:00  101280   150         3   50.0   5.7  27.40  22.80   76  15560.0   0   75.00     5   800  101190    -100  22.8   0.0    24.70    8.7     8.7 -10.0   0.2\n",
      "58      81408  2025-02-01 12:00:00  101250   190         3   20.0   2.5  26.80  23.50   82  25178.6   5   86.74     4   820  101170     -80  23.5   0.0     3.05    5.2     5.2 -10.0   0.0\n",
      "59      81415  2025-02-01 12:00:00  101350   140         3   40.0   0.7  24.70  23.10   91  25178.6   5   86.74     4   820  100130     -90  23.5   0.0     3.05    1.5     1.8 -10.0   0.0\n",
      "60      89642  2025-02-01 12:00:00   99080   -80         8  120.0   5.1  -1.70  -7.20   63  25178.6   5   86.74     4   820   98550    -136  23.5   0.0     3.05    0.0     0.0   0.0   0.0\n"
     ]
    },
    {
     "name": "stderr",
     "output_type": "stream",
     "text": [
      "/tmp/ipykernel_1175304/555783230.py:5: FutureWarning: A value is trying to be set on a copy of a DataFrame or Series through chained assignment using an inplace method.\n",
      "The behavior will change in pandas 3.0. This inplace method will never work because the intermediate object on which we are setting values always behaves as a copy.\n",
      "\n",
      "For example, when doing 'df[col].method(value, inplace=True)', try using 'df.method({col: value}, inplace=True)' or df[col] = df[col].method(value) instead, to perform the operation inplace on the original object.\n",
      "\n",
      "\n",
      "  df[col].fillna(0.0,inplace=True)\n"
     ]
    }
   ],
   "source": [
    "verif = [\"pmer\", \"tend\", \"cod_tend\", \"pres\", \"tend24\", \"t\", \"td\", \"tn12\", \"tx12\", \"tminsol\", \"u\", \"vv\", \"n\", \"nbas\", \"hbas\", \"ww\"]\n",
    "\n",
    "for col in verif:\n",
    "    if df[col].isna().all() :\n",
    "        df[col].fillna(0.0,inplace=True)\n",
    "\n",
    "print(df.to_string())"
   ]
  },
  {
   "cell_type": "markdown",
   "metadata": {},
   "source": [
    "# Archive file"
   ]
  },
  {
   "cell_type": "code",
   "execution_count": 16,
   "metadata": {
    "execution": {
     "iopub.execute_input": "2025-02-01T13:52:10.763483Z",
     "iopub.status.busy": "2025-02-01T13:52:10.763269Z",
     "iopub.status.idle": "2025-02-01T13:52:10.766917Z",
     "shell.execute_reply": "2025-02-01T13:52:10.766203Z"
    }
   },
   "outputs": [
    {
     "name": "stdout",
     "output_type": "stream",
     "text": [
      "Le fichier a été déplacé de /home/mamoudou/dossier_partage/donnees-meteo/download/synop.2025020112.csv à /home/mamoudou/dossier_partage/donnees-meteo/archive/daily/synop.2025020112.csv\n"
     ]
    }
   ],
   "source": [
    "from file_management import move_file\n",
    "\n",
    "move_file(cvs_file, ARCHIVE_DIRECTORY)"
   ]
  },
  {
   "cell_type": "markdown",
   "metadata": {},
   "source": [
    "# Sending data to API"
   ]
  },
  {
   "cell_type": "code",
   "execution_count": 17,
   "metadata": {
    "execution": {
     "iopub.execute_input": "2025-02-01T13:52:10.769506Z",
     "iopub.status.busy": "2025-02-01T13:52:10.768917Z",
     "iopub.status.idle": "2025-02-01T13:52:10.830458Z",
     "shell.execute_reply": "2025-02-01T13:52:10.829672Z"
    }
   },
   "outputs": [],
   "source": [
    "import requests\n",
    "from api import send_data"
   ]
  },
  {
   "cell_type": "code",
   "execution_count": 18,
   "metadata": {
    "execution": {
     "iopub.execute_input": "2025-02-01T13:52:10.833149Z",
     "iopub.status.busy": "2025-02-01T13:52:10.832481Z",
     "iopub.status.idle": "2025-02-01T13:52:10.839478Z",
     "shell.execute_reply": "2025-02-01T13:52:10.838827Z"
    }
   },
   "outputs": [
    {
     "data": {
      "text/plain": [
       "'API_URL = \"http://127.0.0.1:8080/api/donnees-climatiques\" \\n\\ndict_data = df.to_dict(orient=\"records\")\\n\\nfor row in dict_data:\\n    print(row)\\n    send_data(API_URL, row, requests)'"
      ]
     },
     "execution_count": 18,
     "metadata": {},
     "output_type": "execute_result"
    }
   ],
   "source": [
    "\"\"\"API_URL = \"http://127.0.0.1:8080/api/donnees-climatiques\" \n",
    "\n",
    "dict_data = df.to_dict(orient=\"records\")\n",
    "\n",
    "for row in dict_data:\n",
    "    print(row)\n",
    "    send_data(API_URL, row, requests)\"\"\""
   ]
  }
 ],
 "metadata": {
  "kernelspec": {
   "display_name": "venv",
   "language": "python",
   "name": "python3"
  },
  "language_info": {
   "codemirror_mode": {
    "name": "ipython",
    "version": 3
   },
   "file_extension": ".py",
   "mimetype": "text/x-python",
   "name": "python",
   "nbconvert_exporter": "python",
   "pygments_lexer": "ipython3",
   "version": "3.11.2"
  }
 },
 "nbformat": 4,
 "nbformat_minor": 2
}
