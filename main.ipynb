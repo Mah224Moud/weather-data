{
 "cells": [
  {
   "cell_type": "code",
   "execution_count": 102,
   "metadata": {
    "execution": {
     "iopub.execute_input": "2024-12-27T21:20:13.304931Z",
     "iopub.status.busy": "2024-12-27T21:20:13.304639Z",
     "iopub.status.idle": "2024-12-27T21:20:13.356412Z",
     "shell.execute_reply": "2024-12-27T21:20:13.356133Z"
    }
   },
   "outputs": [],
   "source": [
    "import time\n",
    "from selenium import webdriver\n",
    "from selenium.webdriver.chrome.service import Service\n",
    "from selenium.webdriver.chrome.options import Options\n",
    "from selenium.webdriver.common.by import By"
   ]
  },
  {
   "cell_type": "markdown",
   "metadata": {},
   "source": [
    "# CONSTS"
   ]
  },
  {
   "cell_type": "code",
   "execution_count": 103,
   "metadata": {
    "execution": {
     "iopub.execute_input": "2024-12-27T21:20:13.375424Z",
     "iopub.status.busy": "2024-12-27T21:20:13.375314Z",
     "iopub.status.idle": "2024-12-27T21:20:13.377059Z",
     "shell.execute_reply": "2024-12-27T21:20:13.376842Z"
    }
   },
   "outputs": [],
   "source": [
    "CHROME_DRIVER_PATH = \"./chromedriver-mac/chromedriver\"\n",
    "BRAVE_PATH = \"/Applications/Brave Browser.app/Contents/MacOS/Brave Browser\"\n",
    "DOWNLOAD_DIRECTORY = \"/Users/mamoudou/Developer/Python/ProjetTrutoré/\"\n",
    "ARCHIVE_DIRECTORY = \"/Users/mamoudou/Developer/Python/ProjetTrutoré/archive\"\n",
    "URL = \"https://donneespubliques.meteofrance.fr/?fond=produit&id_produit=90&id_rubrique=32\""
   ]
  },
  {
   "cell_type": "markdown",
   "metadata": {},
   "source": [
    "## Browser Configs"
   ]
  },
  {
   "cell_type": "code",
   "execution_count": 104,
   "metadata": {
    "execution": {
     "iopub.execute_input": "2024-12-27T21:20:13.378233Z",
     "iopub.status.busy": "2024-12-27T21:20:13.378161Z",
     "iopub.status.idle": "2024-12-27T21:20:13.379973Z",
     "shell.execute_reply": "2024-12-27T21:20:13.379754Z"
    }
   },
   "outputs": [],
   "source": [
    "options = Options()\n",
    "options.binary_location = BRAVE_PATH  \n",
    "\n",
    "prefs = {\n",
    "    \"download.default_directory\": DOWNLOAD_DIRECTORY,\n",
    "    \"download.prompt_for_download\": False,\n",
    "    \"download.directory_upgrade\": True,\n",
    "    \"safebrowsing.enabled\": True \n",
    "}\n",
    "options.add_experimental_option(\"prefs\", prefs)"
   ]
  },
  {
   "cell_type": "code",
   "execution_count": 105,
   "metadata": {
    "execution": {
     "iopub.execute_input": "2024-12-27T21:20:13.381099Z",
     "iopub.status.busy": "2024-12-27T21:20:13.381029Z",
     "iopub.status.idle": "2024-12-27T21:20:21.811021Z",
     "shell.execute_reply": "2024-12-27T21:20:21.810565Z"
    }
   },
   "outputs": [
    {
     "name": "stdout",
     "output_type": "stream",
     "text": [
      "Page Title: Données Publiques de Météo-France - Données SYNOP essentielles OMM\n"
     ]
    }
   ],
   "source": [
    "service = Service(executable_path=CHROME_DRIVER_PATH)\n",
    "\n",
    "driver = webdriver.Chrome(service=service, options=options)\n",
    "\n",
    "\n",
    "\n",
    "driver.get(URL)\n",
    "print(\"Page Title:\", driver.title)\n",
    "telecharger_button = driver.find_element(By.XPATH, \"//input[@type='submit' and @value='Télécharger']\")\n",
    "telecharger_button.click()\n",
    "\n",
    "time.sleep(5)\n",
    "driver.quit()"
   ]
  },
  {
   "cell_type": "markdown",
   "metadata": {},
   "source": [
    "## Fixing the file extension problem"
   ]
  },
  {
   "cell_type": "code",
   "execution_count": 106,
   "metadata": {
    "execution": {
     "iopub.execute_input": "2024-12-27T21:20:21.813181Z",
     "iopub.status.busy": "2024-12-27T21:20:21.812889Z",
     "iopub.status.idle": "2024-12-27T21:20:21.815660Z",
     "shell.execute_reply": "2024-12-27T21:20:21.815407Z"
    }
   },
   "outputs": [
    {
     "name": "stdout",
     "output_type": "stream",
     "text": [
      "Le fichier a été renommé : /Users/mamoudou/Developer/Python/ProjetTrutoré/synop.2025010615.txt -> /Users/mamoudou/Developer/Python/ProjetTrutoré/synop.2025010615.csv\n"
     ]
    }
   ],
   "source": [
    "from file_management import change_file_extension\n",
    "\n",
    "cvs_file = change_file_extension(DOWNLOAD_DIRECTORY)"
   ]
  },
  {
   "cell_type": "markdown",
   "metadata": {},
   "source": [
    "# Starting the ELT"
   ]
  },
  {
   "cell_type": "code",
   "execution_count": 107,
   "metadata": {
    "execution": {
     "iopub.execute_input": "2024-12-27T21:20:21.816963Z",
     "iopub.status.busy": "2024-12-27T21:20:21.816850Z",
     "iopub.status.idle": "2024-12-27T21:20:21.965899Z",
     "shell.execute_reply": "2024-12-27T21:20:21.965638Z"
    }
   },
   "outputs": [
    {
     "name": "stdout",
     "output_type": "stream",
     "text": [
      "    numer_sta            date    pmer  tend cod_tend   dd    ff           t          td   u     vv  ww  w1  w2    n nbas  hbas  cl  cm  ch    pres niv_bar geop tend24 tn12        tn24 tx12        tx24     tminsol  sw  tw      raf10     rafper  per etat_sol  ht_neige    ssfrai perssfrai        rr1        rr3        rr6       rr12       rr24 phenspe1 phenspe2 phenspe3 phenspe4 nnuage1 ctype1 hnuage1 nnuage2 ctype2 hnuage2 nnuage3 ctype3 hnuage3 nnuage4 ctype4 hnuage4  Unnamed: 59\n",
      "0        7005  20250106150000   99150   550        1  260   8.2  280.350000  277.650000  83  19970   0  mq  mq   mq   mq    mq  mq  mq  mq   98290      mq   mq    -70   mq          mq   mq          mq  278.450000  mq  mq  13.600000  18.300000  -10       mq  0.000000        mq        mq   0.400000   0.600000   1.600000   1.600000   2.400000       mq       mq       mq       mq      mq     mq      mq      mq     mq      mq      mq     mq      mq      mq     mq      mq          NaN\n",
      "1        7015  20250106150000   99010   740        1  250  10.8  280.050000  276.150000  76  48900   0  mq  mq   90    7   800  mq  mq  mq   98450      mq   mq   -200   mq          mq   mq          mq  278.350000  mq  mq  15.600000  21.200000  -10        0  0.000000        mq        mq  -0.100000  -0.100000   2.400000   2.400000   3.800000       mq       mq       mq       mq       6     mq     990       6     mq    1200       7     mq    1440      mq     mq      mq          NaN\n",
      "2        7020  20250106150000   99260   190        1  260  13.8  281.150000  275.150000  66  10000  15   2   2   75    6  1250  38  20  10   99150      mq   mq    430   mq          mq   mq          mq          mq  mq  mq  18.100000  21.000000  -10       mq        mq        mq        mq   0.200000   0.200000   0.200000   0.200000   1.400000       mq       mq       mq       mq       6      6    1000      mq     mq      mq      mq     mq      mq      mq     mq      mq          NaN\n",
      "3        7027  20250106150000   99510   280        3  250   8.6  279.150000  276.350000  82  35460   0  mq  mq  100    4   800  mq  mq  mq   98700      mq   mq    290   mq          mq   mq          mq  280.350000  mq  mq  12.600000  19.400000  -10        1  0.000000        mq        mq   0.800000   0.800000   2.000000   3.600000   4.000000       mq       mq       mq       mq       2     mq     780       4     mq     960       8     mq    2940      mq     mq      mq          NaN\n",
      "4        7037  20250106150000   99440   450        1  250   8.6  280.650000  275.750000  71  35560   0  mq  mq   90    7  1250  mq  mq  mq   97570      mq   mq     40   mq          mq   mq          mq  280.050000  mq  mq  13.200000  16.800000  -10       mq  0.000000        mq        mq  -0.100000   0.200000   0.400000   2.000000   2.000000       mq       mq       mq       mq       7     mq    1020       7     mq    1260      mq     mq      mq      mq     mq      mq          NaN\n",
      "5        7072  20250106150000   99480   560        1  240   7.6  282.150000  276.950000  70  20000   0  mq  mq   90    4  1250  mq  mq  mq   98350      mq   mq   -290   mq          mq   mq          mq  280.350000  mq  mq  12.900000  13.200000  -10        0  0.000000        mq        mq   0.000000   1.200000   1.600000   3.400000   3.400000       mq       mq       mq       mq       4     mq    1080       7     mq    2520      mq      8      mq      mq     mq      mq          NaN\n",
      "6        7110  20250106150000   99860   200        3  280   7.4  279.950000  276.550000  79  16950   0  mq  mq   90    5   800  mq  mq  mq   98680      mq   mq    990   mq          mq   mq          mq  278.250000  mq  mq  13.400000  18.800000  -10        1  0.000000        mq        mq  -0.100000   0.800000   1.400000   3.200000   5.000000       mq       mq       mq       mq       1     mq     780       3     mq    1080       5     mq    1320      mq     mq      mq          NaN\n",
      "7        7117  20250106150000   99560   110        3  250   9.6  281.450000  276.450000  71  10000  61   6   2   75    6  1250  39  26  10   98860      mq   mq    730   mq          mq   mq          mq          mq  mq  mq  16.000000  21.000000  -10        1        mq        mq        mq  -0.100000   1.000000   1.000000   2.000000   3.200000       mq       mq       mq       mq       5      8    1000       3      3    2500       1      9    1000      mq     mq      mq          NaN\n",
      "8        7130  20250106150000   99800   140        1  250   6.0  282.650000  275.450000  61  60000   0  mq  mq   mq    2  1250  mq  mq  mq   99360      mq   mq    490   mq          mq   mq          mq  279.550000  mq  mq  10.200000  13.700000  -10        0  0.000000        mq        mq   0.000000   0.000000   0.000000   0.800000   1.000000       mq       mq       mq       mq       2     mq    1290      mq     mq      mq      mq     mq      mq      mq     mq      mq          NaN\n",
      "9        7139  20250106150000   99730   310        2  240   7.2  281.350000  275.750000  68  20000   0  mq  mq  100    8  1250  mq  mq  mq   98000      mq   mq    190   mq          mq   mq          mq  280.350000  mq  mq  12.900000  14.600000  -10        0  0.000000        mq        mq   0.000000   0.000000   0.600000   4.200000   4.200000       mq       mq       mq       mq       5     mq    1080       8     mq    1290      mq     mq      mq      mq     mq      mq          NaN\n",
      "10       7149  20250106150000   99650   430        1  240   8.0  281.850000  276.050000  67  20000  25   2   2   90    6  1250  32  20  11   98570      mq   mq    -90   mq          mq   mq          mq          mq  mq  mq  13.400000  14.700000  -10        2  0.000000  0.000000       -30   0.000000   0.200000   1.000000   1.400000   1.600000       mq       mq       mq       mq       6      8    1000       4      0    7800      mq     mq      mq      mq     mq      mq          NaN\n",
      "11       7168  20250106150000   99770   490        3  250   9.9  281.650000  277.650000  76  20000   0  mq  mq   75    6   800  mq  mq  mq   98360      mq   mq   -180   mq          mq   mq          mq  280.550000  mq  mq  15.500000  17.200000  -10       mq  0.000000        mq        mq  -0.100000   0.200000   0.200000   0.400000   0.400000       mq       mq       mq       mq       1     mq     900       4     mq    1500       5     mq    2040      mq     mq      mq          NaN\n",
      "12       7181  20250106150000   99560   280        3  250  12.9  282.850000  277.250000  68  57060   0  mq  mq  100    8   800  mq  mq  mq   95470      mq   mq   -490   mq          mq   mq          mq  280.850000  mq  mq  21.900000  21.900000  -10       mq        mq        mq        mq   0.000000  -0.100000  -0.100000  -0.100000  -0.100000       mq       mq       mq       mq       6     mq     900       8     mq    1140      mq     mq      mq      mq     mq      mq          NaN\n",
      "13       7190  20250106150000   99490   110        3  220   7.5  287.250000  280.350000  63  58960   0  mq  mq  100    8  1750  mq  mq  mq   97730      mq   mq   -600   mq          mq   mq          mq  279.150000  mq  mq  12.900000  17.500000  -10        0  0.000000        mq        mq   0.000000   0.000000   0.000000   0.000000   0.000000       mq       mq       mq       mq       7     mq    1680       7     mq    1980       8     mq    5040      mq     mq      mq          NaN\n",
      "14       7207  20250106150000      mq    mq       mq  280  13.6  281.150000          mq  mq  10000  15   2  mq   60    5  1250  35  mq  mq      mq      mq   mq     mq   mq          mq   mq          mq          mq  mq  mq  23.100000  24.000000  -10        1        mq        mq        mq   0.200000   0.800000   1.000000   3.800000   3.800000       mq       mq       mq       mq       5      6    1000       2      8    1100      mq     mq      mq      mq     mq      mq          NaN\n",
      "15       7222  20250106150000  100060   170        3  250   5.8  280.250000  277.750000  84   6490  60  mq  mq   90    7   800  mq  mq  mq   99740      mq   mq    510   mq          mq   mq          mq  280.750000  mq  mq  11.600000  13.700000  -10       mq  0.000000        mq        mq   0.400000   0.400000   0.400000   3.600000   5.200000       mq       mq       mq       mq       4     mq     900       5     mq    1230       7     mq    1500      mq      8      mq          NaN\n",
      "16       7240  20250106150000  100010   320        2  250   6.7  282.250000  275.350000  62  60000   0  mq  mq   mq    0    mq  mq  mq  mq   98670      mq   mq    180   mq          mq   mq          mq  280.850000  mq  mq  11.400000  12.800000  -10        0  0.000000        mq        mq   0.000000   0.000000   0.000000   1.200000   1.200000       mq       mq       mq       mq      mq     mq      mq      mq     mq      mq      mq     mq      mq      mq     mq      mq          NaN\n",
      "17       7255  20250106150000  100070   310        3  260   6.4  282.450000  276.850000  68  20000   0  mq  mq   mq   mq    mq  mq  mq  mq   98090      mq   mq    -10   mq          mq   mq          mq  281.050000  mq  mq  12.800000  16.500000  -10       mq  0.000000        mq        mq  -0.100000  -0.100000   0.400000   0.400000   0.400000       mq       mq       mq       mq      mq     mq      mq      mq     mq      mq      mq     mq      mq      mq     mq      mq          NaN\n",
      "18       7280  20250106150000   99920   220        3  230   5.7  283.850000  279.950000  77  59820   0  mq  mq  100    1   800  mq  mq  mq   97330      mq   mq   -370   mq          mq   mq          mq  281.650000  mq  mq  10.200000  14.600000  -10        0  0.000000        mq        mq  -0.100000   0.200000   1.200000   1.200000   1.200000       mq       mq       mq       mq       1     mq     870       8     mq    3600      mq     mq      mq      mq     mq      mq          NaN\n",
      "19       7299  20250106150000   99800   130        3  200   4.9  286.150000  279.250000  63  60000   0  mq  mq  100    8  1750  mq  mq  mq   96620      mq   mq   -550   mq          mq   mq          mq  275.450000  mq  mq   9.600000  18.500000  -10        1  0.000000        mq        mq  -0.100000  -0.100000  -0.100000  -0.100000  -0.100000       mq       mq       mq       mq       1     mq    1740       7     mq    2280       8     mq    3420      mq      8      mq          NaN\n",
      "20       7314  20250106150000  100350   190        3  270   9.3  284.350000  278.850000  69     mq  mq   2  mq   mq   mq    mq  mq  mq  mq  100070      mq   mq    590   mq          mq   mq          mq          mq  mq  mq  13.600000  15.700000  -10       mq        mq        mq        mq   0.000000   0.000000   0.400000   1.400000   1.600000       mq       mq       mq       mq      mq     mq      mq      mq     mq      mq      mq     mq      mq      mq     mq      mq          NaN\n",
      "21       7335  20250106150000  100250   270        3  260   6.6  282.850000  276.150000  63  32840   0  mq  mq   mq    1  6780  mq  mq  mq   98810      mq   mq    260   mq          mq   mq          mq  281.850000  mq  mq  10.600000  12.100000  -10       mq  0.000000        mq        mq   0.000000   0.000000   0.400000   1.800000   2.000000       mq       mq       mq       mq       1     mq    6780      mq     mq      mq      mq     mq      mq      mq     mq      mq          NaN\n",
      "22       7434  20250106150000  100420   260        3  240   6.2  279.850000  277.350000  84  13340  61  mq  mq  100    6   450  mq  mq  mq   95640      mq   mq    140   mq          mq   mq          mq  280.650000  mq  mq  11.000000  11.000000  -10        1  0.000000        mq        mq  -0.100000   0.200000   1.200000   1.600000   1.600000       mq       mq       mq       mq       3     mq     510       5     mq     780       6     mq    1380      mq      8      mq          NaN\n",
      "23       7460  20250106150000  100190   170        3  260   6.6  285.050000  275.750000  53  35440   0  mq  mq  100    1  1250  mq  mq  mq   96320      mq   mq   -100   mq          mq   mq          mq  282.150000  mq  mq  10.900000  12.000000  -10        0  0.000000        mq        mq   0.000000  -0.100000  -0.100000  -0.100000  -0.100000       mq       mq       mq       mq       1     mq    1260       8     mq    3600      mq     mq      mq      mq     mq      mq          NaN\n",
      "24       7471  20250106150000      mq   110        3  260   5.4  280.050000  277.050000  81  12570  61  mq  mq  100    8   450  mq  mq  mq   90740   92500  675   -400   mq          mq   mq          mq  277.750000  mq  mq  10.600000  12.800000  -10        2  0.000000        mq        mq   0.200000   0.200000   0.200000   0.800000   0.800000       mq       mq       mq       mq       3     mq     510       4     mq     690       7     mq     960      mq     mq      mq          NaN\n",
      "25       7481  20250106150000  100110    40        3  190  10.3  285.750000  281.650000  76  30000   2   2   2  100    5  1250  38  27  mq   97300      mq   mq   -540   mq          mq   mq          mq          mq  mq  mq  14.700000  18.100000  -10        0  0.000000  0.000000       -30   0.000000   0.000000   0.200000   0.200000   0.200000       mq       mq       mq       mq       1      8    1100       5      6    1900       7      3    3800      mq     mq      mq          NaN\n",
      "26       7510  20250106150000  100580   180        3  290   4.7  284.750000  278.150000  64  19310   0  mq  mq  100    5  1250  mq  mq  mq  100010      mq   mq    510   mq          mq   mq          mq  280.250000  mq  mq   7.000000  10.100000  -10        0  0.000000        mq        mq   0.000000  -0.100000  -0.100000   1.400000   1.400000       mq       mq       mq       mq       5     mq    1230       8     mq    4800      mq     mq      mq      mq     mq      mq          NaN\n",
      "27       7535  20250106150000  100570   180        3  270   2.5  283.050000  279.250000  77  18010   0  mq  mq   mq    4  1250  mq  mq  mq   97470      mq   mq    160   mq          mq   mq          mq  281.450000  mq  mq   7.300000   8.800000  -10        1  0.000000        mq        mq  -0.100000  -0.100000  -0.100000  -0.100000   0.200000       mq       mq       mq       mq       2     mq    1110       4     mq    1470       5     mq    2280      mq     mq      mq          NaN\n",
      "28       7558  20250106150000  100480   140        3  290   6.2  280.750000  277.350000  79  20000   0  mq  mq   mq   mq    mq  mq  mq  mq   92230      mq   mq   -190   mq          mq   mq          mq  278.950000  mq  mq  11.400000  13.700000  -10       mq  0.000000        mq        mq  -0.100000  -0.100000  -0.100000  -0.100000  -0.100000       mq       mq       mq       mq      mq     mq      mq      mq     mq      mq      mq     mq      mq      mq     mq      mq          NaN\n",
      "29       7577  20250106150000  100340   -30        5  190   4.1  285.250000  283.950000  92   6860  63  mq  mq   mq   mq    mq  mq  mq  mq   99460      mq   mq   -670   mq          mq   mq          mq  283.050000  mq  mq   7.200000  10.700000  -10        2  0.000000        mq        mq   8.000000   9.200000  11.200000  13.000000  13.000000       mq       mq       mq       mq      mq     mq      mq      mq     mq      mq      mq     mq      mq      mq     mq      mq          NaN\n",
      "30       7591  20250106150000      mq    90        6  250   1.6  279.150000  277.950000  92     mq  mq  mq  mq   mq   mq    mq  mq  mq  mq   90610   92500  704   -590   mq  273.550000   mq  279.250000          mq  mq  mq   2.400000   4.100000  -10       mq  0.000000        mq        mq   0.000000   0.400000   1.600000   2.400000   2.400000       mq       mq       mq       mq      mq     mq      mq      mq     mq      mq      mq     mq      mq      mq     mq      mq          NaN\n",
      "31       7607  20250106150000  100740   180        3  240   2.9  283.950000  282.550000  91  16780   0  mq  mq  100    7   450  mq  mq  mq  100030      mq   mq    420   mq          mq   mq          mq  280.850000  mq  mq   4.600000   5.200000  -10       mq  0.010000        mq        mq   0.000000   0.600000   3.400000   4.000000   4.000000       mq       mq       mq       mq       1     mq     360       7     mq    1200       8     mq    3660      mq     mq      mq          NaN\n",
      "32       7621  20250106150000  100900   150        1  240   2.7  279.750000  278.550000  92   6620  61  mq  mq  100    8   800  mq  mq  mq   96550      mq   mq    450   mq          mq   mq          mq  274.850000  mq  mq   4.900000   6.500000  -10        2  0.000000        mq        mq   1.400000   6.500000   7.700000   7.700000   7.700000       mq       mq       mq       mq       1     mq     750       8     mq    1230      mq     mq      mq      mq     mq      mq          NaN\n",
      "33       7627  20250106150000  100950   230        3  320   2.5  279.550000  278.650000  94  14650  61  mq  mq  100    8   450  mq  mq  mq   96000      mq   mq    470   mq  275.350000   mq  284.150000  278.950000  mq  mq   4.800000  10.600000  -10        2  0.000000        mq        mq   0.800000   3.000000   3.000000   3.000000   3.000000       mq       mq       mq       mq       2     mq     300       4     mq     460       5     mq     740      mq      8      mq          NaN\n",
      "34       7630  20250106150000  100740   160        3  240   5.9  282.250000  279.850000  85  43540   0  mq  mq  100    1  1250  mq  mq  mq   98940      mq   mq    270   mq          mq   mq          mq  278.850000  mq  mq   8.600000  10.700000  -10        2  0.000000        mq        mq   0.200000   0.400000   0.400000   0.400000   0.400000       mq       mq       mq       mq       1     mq    1140       5     mq    1680       8     mq    2040      mq     mq      mq          NaN\n",
      "35       7643  20250106150000  100320    50        3   70   2.1  289.050000  285.650000  80  14860   0  mq  mq  100    8  2250  mq  mq  mq  100230      mq   mq   -630   mq          mq   mq          mq  284.450000  mq  mq   2.800000   3.200000  -10       mq  0.000000        mq        mq   0.000000   0.000000   0.000000   0.000000   0.000000       mq       mq       mq       mq       2     mq    2160       8     mq    6060      mq     mq      mq      mq     mq      mq          NaN\n",
      "36       7650  20250106150000  100410  -100        6  140   7.1  288.350000  284.550000  78  19320   0  mq  mq   90    5   800  mq  mq  mq  100030      mq   mq   -730   mq          mq   mq          mq  285.450000  mq  mq  10.900000  14.100000  -10        0  0.000000        mq        mq   0.000000   0.000000   0.000000   0.600000   0.600000       mq       mq       mq       mq       2     mq     630       3     mq     840       5     mq    1140      mq      8      mq          NaN\n",
      "37       7661  20250106150000      mq    mq       mq  170   6.6          mq          mq  mq     mq  mq  mq  mq   mq   mq    mq  mq  mq  mq      mq      mq   mq     mq   mq          mq   mq          mq          mq  mq  mq   9.700000   9.700000  -10       mq        mq        mq        mq         mq         mq         mq         mq         mq       mq       mq       mq       mq      mq     mq      mq      mq     mq      mq      mq     mq      mq      mq     mq      mq          NaN\n",
      "38       7690  20250106150000  100780   -60        6  340   4.0  284.650000  282.850000  89  30000  21   6   2  100    7   450  35  mq  mq  100470      mq   mq   -710   mq          mq   mq          mq  282.250000  mq  mq   5.800000   9.000000  -10        1  0.000000        mq        mq   0.200000   0.200000   1.200000   5.700000   5.900000       mq       mq       mq       mq       3      6     400       5      6     700       7      6    1800      mq     mq      mq          NaN\n",
      "39       7747  20250106150000  100430   130        1  310   6.9  286.450000  279.350000  62  60000   0  mq  mq   90    1   800  mq  mq  mq   99910      mq   mq   -240   mq          mq   mq          mq  278.850000  mq  mq  12.300000  13.500000  -10        0  0.000000        mq        mq   0.000000   0.000000   0.000000   0.000000   0.000000       mq       mq       mq       mq       1     mq     930       3     mq    4140       7     mq    4980      mq     mq      mq          NaN\n",
      "40       7761  20250106150000  100980  -100        6   70   0.6  289.050000  280.550000  57  51050   0  mq  mq   mq    3  6480  mq  mq  mq  100870      mq   mq   -740   mq          mq   mq          mq  280.150000  mq  mq   1.200000   2.500000  -10       mq  0.000000        mq        mq   0.000000   0.000000   0.000000   0.000000   0.000000       mq       mq       mq       mq       3     mq    6480      mq     mq      mq      mq     mq      mq      mq     mq      mq          NaN\n",
      "41       7790  20250106150000  100860  -120        6  330   2.7  286.150000  282.250000  77  19920   0  mq  mq  100    8  5340  mq  mq  mq  100720      mq   mq   -760   mq          mq   mq          mq  281.550000  mq  mq   4.000000   4.300000  -10       mq  0.000000        mq        mq   0.000000   0.000000   0.000000   0.000000   0.000000       mq       mq       mq       mq       2     mq    5340       8     mq    6000      mq     mq      mq      mq     mq      mq          NaN\n",
      "42      61968  20250106150000  101210    60        3   80   2.1          mq          mq  mq     mq  mq  mq  mq   mq   mq    mq  mq  mq  mq  101160      mq   mq     70   mq          mq   mq          mq          mq  mq  mq         mq   4.800000  -10       mq        mq        mq        mq   0.000000   0.000000   0.000000   0.000000   0.000000       mq       mq       mq       mq      mq     mq      mq      mq     mq      mq      mq     mq      mq      mq     mq      mq          NaN\n",
      "43      61970  20250106150000  101150    70        5   40   3.1  303.950000  298.350000  72     mq  mq  mq  mq   mq   mq    mq  mq  mq  mq  101040      mq   mq    150   mq  302.350000   mq  306.250000          mq  mq  mq         mq   6.400000  -10       mq        mq        mq        mq   0.000000   0.000000   0.400000   0.400000   0.400000       mq       mq       mq       mq      mq     mq      mq      mq     mq      mq      mq     mq      mq      mq     mq      mq          NaN\n",
      "44      61972  20250106150000  101090    60        5   20   6.4  304.250000  299.250000  75     mq  mq  mq  mq   mq   mq    mq  mq  mq  mq  101020      mq   mq    170   mq  302.350000   mq  305.750000          mq  mq  mq         mq   8.500000  -10       mq        mq        mq        mq   0.000000   0.000000   0.000000   0.000000   0.000000       mq       mq       mq       mq      mq     mq      mq      mq     mq      mq      mq     mq      mq      mq     mq      mq          NaN\n",
      "45      61976  20250106150000  101340   140        3   90   3.2  301.950000  296.350000  72     mq  mq  mq  mq   mq   mq    mq  mq  mq  mq  101250      mq   mq     90   mq  298.750000   mq  305.250000          mq  mq  mq         mq   5.100000  -10       mq        mq        mq        mq   0.000000   0.000000   0.000000   0.000000   0.000000       mq       mq       mq       mq      mq     mq      mq      mq     mq      mq      mq     mq      mq      mq     mq      mq          NaN\n",
      "46      61980  20250106150000  101520   140        3  100   6.7  301.050000  298.050000  84  18170   0  mq  mq   mq    2   450  mq  mq  mq  101370      mq   mq     80   mq          mq   mq          mq          mq  mq  mq   9.400000  11.100000  -10       mq        mq        mq        mq   0.000000   0.000000   0.000000  14.400000  14.400000       mq       mq       mq       mq       2     mq     450      mq     mq      mq      mq     mq      mq      mq     mq      mq          NaN\n",
      "47      61996  20250106150000  101680    20        3  290   7.9  290.250000  287.750000  85     mq  mq  mq  mq   mq   mq    mq  mq  mq  mq  101340      mq   mq   -130   mq  286.050000   mq  293.550000          mq  mq  mq         mq  12.000000  -10       mq        mq        mq        mq   0.000000   0.000000   0.000000   0.000000   0.000000       mq       mq       mq       mq      mq     mq      mq      mq     mq      mq      mq     mq      mq      mq     mq      mq          NaN\n",
      "48      61997  20250106150000   99690   120        3  260  15.0  279.750000  276.150000  78     mq  mq  mq  mq   mq   mq    mq  mq  mq  mq   97940      mq   mq    560   mq  279.350000   mq  286.450000          mq  mq  mq         mq  22.800000  -10       mq        mq        mq        mq   0.000000   0.000000   0.000000   0.000000   0.000000       mq       mq       mq       mq      mq     mq      mq      mq     mq      mq      mq     mq      mq      mq     mq      mq          NaN\n",
      "49      61998  20250106150000   98960    40        0  100   5.7  281.950000  278.150000  77     mq  mq  mq  mq   mq   mq    mq  mq  mq  mq   98600      mq   mq     mq   mq          mq   mq          mq          mq  mq  mq         mq   8.700000  -10       mq        mq        mq        mq   0.000000   0.000000         mq         mq         mq       mq       mq       mq       mq      mq     mq      mq      mq     mq      mq      mq     mq      mq      mq     mq      mq          NaN\n",
      "50      67005  20250106150000  101220    40        3   60   2.7  302.350000  296.050000  69  20000   0  mq  mq   mq    0    mq  mq  mq  mq  101140      mq   mq     60   mq          mq   mq          mq          mq  mq  mq   4.200000   6.000000  -10       mq        mq        mq        mq   0.000000   0.000000   0.000000   0.000000   0.000000       mq       mq       mq       mq      mq     mq      mq      mq     mq      mq      mq     mq      mq      mq     mq      mq          NaN\n",
      "51      71805  20250106150000   96800   270        1  320   6.8  276.450000  275.750000  95  14060   0  mq  mq  100    8   450  mq  mq  mq   96720      mq   mq    400   mq          mq   mq          mq  275.450000  mq  mq  10.100000  12.600000  -10       mq        mq        mq        mq   0.000000   0.200000   1.600000   3.400000   6.200000       mq       mq       mq       mq       8     mq     300      mq     mq      mq      mq     mq      mq      mq     mq      mq          NaN\n",
      "52      78890  20250106150000      mq    40        0   70   9.2  302.350000          mq  mq     mq  mq  mq  mq   mq   mq    mq  mq  mq  mq  101370      mq   mq     20   mq  298.950000   mq  302.450000          mq  mq  mq         mq         mq  -10       mq        mq        mq        mq   0.000000   0.000000   0.000000   0.000000   0.000000       mq       mq       mq       mq      mq     mq      mq      mq     mq      mq      mq     mq      mq      mq     mq      mq          NaN\n",
      "53      78897  20250106150000  101700    20        0   70   6.8  301.650000  291.450000  54     mq  mq  mq  mq   mq   mq    mq  mq  mq  mq  101610      mq   mq     20   mq          mq   mq          mq          mq  mq  mq         mq         mq   mq       mq        mq        mq        mq   0.000000   0.000000   0.400000   0.400000   0.400000       mq       mq       mq       mq      mq     mq      mq      mq     mq      mq      mq     mq      mq      mq     mq      mq          NaN\n",
      "54      78922  20250106150000  101690    30        0   90   9.0  299.850000  295.250000  76     mq  mq  mq  mq   mq   mq    mq  mq  mq  mq  101240      mq   mq     10   mq  298.350000   mq  301.950000          mq  mq  mq  12.500000  12.500000  -10       mq        mq        mq        mq   0.000000   0.000000   0.000000   0.000000   0.000000       mq       mq       mq       mq      mq     mq      mq      mq     mq      mq      mq     mq      mq      mq     mq      mq          NaN\n",
      "55      78925  20250106150000  101620    30        0   90   6.9  301.850000  294.850000  66  43380   0  mq  mq   90    7   800  mq  mq  mq  101530      mq   mq      0   mq          mq   mq          mq          mq  mq  mq  10.900000  11.000000  -10       mq        mq        mq        mq   0.000000   0.000000   0.000000  -0.100000   1.200000       mq       mq       mq       mq       2     mq     990       6     mq    1200       7     mq    1380      mq      8      mq          NaN\n",
      "56      81401  20250106150000  101340    10        8   60   2.0  304.350000  296.750000  64     mq  mq  mq  mq   mq   mq    mq  mq  mq  mq  101280      mq   mq     30   mq  295.950000   mq  305.250000          mq  mq  mq   5.900000   8.500000  -10       mq        mq        mq        mq   0.000000   0.000000   0.000000   0.000000   0.000000       mq       mq       mq       mq      mq     mq      mq      mq     mq      mq      mq     mq      mq      mq     mq      mq          NaN\n",
      "57      81405  20250106150000  101370    30        0   50   6.8  302.550000  296.750000  71  19950   0  mq  mq   90    5   800  mq  mq  mq  101280      mq   mq     70   mq          mq   mq          mq  299.950000  mq  mq  10.200000  12.400000  -10       mq        mq        mq        mq   0.000000   1.400000   1.400000   2.000000   2.000000       mq       mq       mq       mq       2     mq     840       3     mq    1020       5     mq    1260      mq     mq      mq          NaN\n",
      "58      81408  20250106150000  101280     0        0   40   4.0  303.150000  297.050000  70     mq  mq  mq  mq   mq   mq    mq  mq  mq  mq  101200      mq   mq     80   mq  296.650000   mq  304.950000          mq  mq  mq   7.100000   8.400000  -10       mq        mq        mq        mq   0.000000   0.000000   1.000000   1.200000   1.400000       mq       mq       mq       mq      mq     mq      mq      mq     mq      mq      mq     mq      mq      mq     mq      mq          NaN\n",
      "59      89642  20250106150000   99920    40        3  270   4.6  270.850000  266.150000  67     mq  mq  mq  mq   mq   mq    mq  mq  mq  mq   99380      mq   mq     mq   mq          mq   mq          mq          mq  mq  mq         mq         mq   mq       mq        mq        mq        mq         mq         mq         mq         mq         mq       mq       mq       mq       mq      mq     mq      mq      mq     mq      mq      mq     mq      mq      mq     mq      mq          NaN\n"
     ]
    }
   ],
   "source": [
    "import pandas as pd\n",
    "import numpy as np\n",
    "df = pd.read_csv(cvs_file, sep=\";\", dtype={\"date\": str})\n",
    "\n",
    "print(df.to_string())"
   ]
  },
  {
   "cell_type": "markdown",
   "metadata": {},
   "source": [
    "# Récupération des informations importantes à savoir :\n",
    "1. Indicatif OMM station : numéro de station `numer_sta` -> `int`\n",
    "2. Date (UTC) : `date` -> `datetime`\n",
    "3. Pression au niveau mer : `pmer` -> `int`\n",
    "4. Variation de pression en 3 heures : `tend` -> `int`\n",
    "5. Type de tendance barométrique : `cod_tend` -> `int`\n",
    "6. Direction du vent moyen 10 mn : `dd` -> `int`\n",
    "7. Vitesse du vent moyen 10 mn : `ff` -> `float`\n",
    "8. Température : `t` -> `float`\n",
    "9. Point de rosée : `td` -> `float`\n",
    "10. Humidité : `u` -> `int`\n",
    "11. Visibilité horizontale : `vv` -> `float`\n",
    "12. Temps présent : `ww` -> `int`\n",
    "13. Nébulosité totale : `n` -> `float`\n",
    "14. Nébulosité des nuages de l'étage inférieur : `nbas` -> `int`\n",
    "15. Hauteur de la base des nuages de l'étage inférieur : `hbas` -> `int`\n",
    "16. Pression station : `pres` -> `int`\n",
    "17. Variation de pression en 24 heures : `tend24` -> `int`\n",
    "18. Température minimale sur N heures : `tn12` -> `float`\n",
    "19. Température maximale sur N heures : `tx12` -> `float`\n",
    "20. Température minimale du sol sur 12 heures : `tminsol` -> `float`\n",
    "21. Rafales sur les 10 dernières minutes : `raf10` -> `float`\n",
    "22. Rafales sur une période : `rafper` -> `float`\n",
    "23. Période de mesure des rafales : `per` -> `float`\n",
    "24. Précipitations dans les N dernières heures : `rr12` -> `float`"
   ]
  },
  {
   "cell_type": "code",
   "execution_count": 108,
   "metadata": {
    "execution": {
     "iopub.execute_input": "2024-12-27T21:20:21.967133Z",
     "iopub.status.busy": "2024-12-27T21:20:21.967051Z",
     "iopub.status.idle": "2024-12-27T21:20:21.973380Z",
     "shell.execute_reply": "2024-12-27T21:20:21.973170Z"
    }
   },
   "outputs": [
    {
     "name": "stdout",
     "output_type": "stream",
     "text": [
      "    numer_sta            date    pmer  tend cod_tend   dd    ff           t          td   u     vv  ww    n nbas  hbas    pres tend24 tn12 tx12     tminsol      raf10     rafper  per       rr12\n",
      "0        7005  20250106150000   99150   550        1  260   8.2  280.350000  277.650000  83  19970   0   mq   mq    mq   98290    -70   mq   mq  278.450000  13.600000  18.300000  -10   1.600000\n",
      "1        7015  20250106150000   99010   740        1  250  10.8  280.050000  276.150000  76  48900   0   90    7   800   98450   -200   mq   mq  278.350000  15.600000  21.200000  -10   2.400000\n",
      "2        7020  20250106150000   99260   190        1  260  13.8  281.150000  275.150000  66  10000  15   75    6  1250   99150    430   mq   mq          mq  18.100000  21.000000  -10   0.200000\n",
      "3        7027  20250106150000   99510   280        3  250   8.6  279.150000  276.350000  82  35460   0  100    4   800   98700    290   mq   mq  280.350000  12.600000  19.400000  -10   3.600000\n",
      "4        7037  20250106150000   99440   450        1  250   8.6  280.650000  275.750000  71  35560   0   90    7  1250   97570     40   mq   mq  280.050000  13.200000  16.800000  -10   2.000000\n",
      "5        7072  20250106150000   99480   560        1  240   7.6  282.150000  276.950000  70  20000   0   90    4  1250   98350   -290   mq   mq  280.350000  12.900000  13.200000  -10   3.400000\n",
      "6        7110  20250106150000   99860   200        3  280   7.4  279.950000  276.550000  79  16950   0   90    5   800   98680    990   mq   mq  278.250000  13.400000  18.800000  -10   3.200000\n",
      "7        7117  20250106150000   99560   110        3  250   9.6  281.450000  276.450000  71  10000  61   75    6  1250   98860    730   mq   mq          mq  16.000000  21.000000  -10   2.000000\n",
      "8        7130  20250106150000   99800   140        1  250   6.0  282.650000  275.450000  61  60000   0   mq    2  1250   99360    490   mq   mq  279.550000  10.200000  13.700000  -10   0.800000\n",
      "9        7139  20250106150000   99730   310        2  240   7.2  281.350000  275.750000  68  20000   0  100    8  1250   98000    190   mq   mq  280.350000  12.900000  14.600000  -10   4.200000\n",
      "10       7149  20250106150000   99650   430        1  240   8.0  281.850000  276.050000  67  20000  25   90    6  1250   98570    -90   mq   mq          mq  13.400000  14.700000  -10   1.400000\n",
      "11       7168  20250106150000   99770   490        3  250   9.9  281.650000  277.650000  76  20000   0   75    6   800   98360   -180   mq   mq  280.550000  15.500000  17.200000  -10   0.400000\n",
      "12       7181  20250106150000   99560   280        3  250  12.9  282.850000  277.250000  68  57060   0  100    8   800   95470   -490   mq   mq  280.850000  21.900000  21.900000  -10  -0.100000\n",
      "13       7190  20250106150000   99490   110        3  220   7.5  287.250000  280.350000  63  58960   0  100    8  1750   97730   -600   mq   mq  279.150000  12.900000  17.500000  -10   0.000000\n",
      "14       7207  20250106150000      mq    mq       mq  280  13.6  281.150000          mq  mq  10000  15   60    5  1250      mq     mq   mq   mq          mq  23.100000  24.000000  -10   3.800000\n",
      "15       7222  20250106150000  100060   170        3  250   5.8  280.250000  277.750000  84   6490  60   90    7   800   99740    510   mq   mq  280.750000  11.600000  13.700000  -10   3.600000\n",
      "16       7240  20250106150000  100010   320        2  250   6.7  282.250000  275.350000  62  60000   0   mq    0    mq   98670    180   mq   mq  280.850000  11.400000  12.800000  -10   1.200000\n",
      "17       7255  20250106150000  100070   310        3  260   6.4  282.450000  276.850000  68  20000   0   mq   mq    mq   98090    -10   mq   mq  281.050000  12.800000  16.500000  -10   0.400000\n",
      "18       7280  20250106150000   99920   220        3  230   5.7  283.850000  279.950000  77  59820   0  100    1   800   97330   -370   mq   mq  281.650000  10.200000  14.600000  -10   1.200000\n",
      "19       7299  20250106150000   99800   130        3  200   4.9  286.150000  279.250000  63  60000   0  100    8  1750   96620   -550   mq   mq  275.450000   9.600000  18.500000  -10  -0.100000\n",
      "20       7314  20250106150000  100350   190        3  270   9.3  284.350000  278.850000  69     mq  mq   mq   mq    mq  100070    590   mq   mq          mq  13.600000  15.700000  -10   1.400000\n",
      "21       7335  20250106150000  100250   270        3  260   6.6  282.850000  276.150000  63  32840   0   mq    1  6780   98810    260   mq   mq  281.850000  10.600000  12.100000  -10   1.800000\n",
      "22       7434  20250106150000  100420   260        3  240   6.2  279.850000  277.350000  84  13340  61  100    6   450   95640    140   mq   mq  280.650000  11.000000  11.000000  -10   1.600000\n",
      "23       7460  20250106150000  100190   170        3  260   6.6  285.050000  275.750000  53  35440   0  100    1  1250   96320   -100   mq   mq  282.150000  10.900000  12.000000  -10  -0.100000\n",
      "24       7471  20250106150000      mq   110        3  260   5.4  280.050000  277.050000  81  12570  61  100    8   450   90740   -400   mq   mq  277.750000  10.600000  12.800000  -10   0.800000\n",
      "25       7481  20250106150000  100110    40        3  190  10.3  285.750000  281.650000  76  30000   2  100    5  1250   97300   -540   mq   mq          mq  14.700000  18.100000  -10   0.200000\n",
      "26       7510  20250106150000  100580   180        3  290   4.7  284.750000  278.150000  64  19310   0  100    5  1250  100010    510   mq   mq  280.250000   7.000000  10.100000  -10   1.400000\n",
      "27       7535  20250106150000  100570   180        3  270   2.5  283.050000  279.250000  77  18010   0   mq    4  1250   97470    160   mq   mq  281.450000   7.300000   8.800000  -10  -0.100000\n",
      "28       7558  20250106150000  100480   140        3  290   6.2  280.750000  277.350000  79  20000   0   mq   mq    mq   92230   -190   mq   mq  278.950000  11.400000  13.700000  -10  -0.100000\n",
      "29       7577  20250106150000  100340   -30        5  190   4.1  285.250000  283.950000  92   6860  63   mq   mq    mq   99460   -670   mq   mq  283.050000   7.200000  10.700000  -10  13.000000\n",
      "30       7591  20250106150000      mq    90        6  250   1.6  279.150000  277.950000  92     mq  mq   mq   mq    mq   90610   -590   mq   mq          mq   2.400000   4.100000  -10   2.400000\n",
      "31       7607  20250106150000  100740   180        3  240   2.9  283.950000  282.550000  91  16780   0  100    7   450  100030    420   mq   mq  280.850000   4.600000   5.200000  -10   4.000000\n",
      "32       7621  20250106150000  100900   150        1  240   2.7  279.750000  278.550000  92   6620  61  100    8   800   96550    450   mq   mq  274.850000   4.900000   6.500000  -10   7.700000\n",
      "33       7627  20250106150000  100950   230        3  320   2.5  279.550000  278.650000  94  14650  61  100    8   450   96000    470   mq   mq  278.950000   4.800000  10.600000  -10   3.000000\n",
      "34       7630  20250106150000  100740   160        3  240   5.9  282.250000  279.850000  85  43540   0  100    1  1250   98940    270   mq   mq  278.850000   8.600000  10.700000  -10   0.400000\n",
      "35       7643  20250106150000  100320    50        3   70   2.1  289.050000  285.650000  80  14860   0  100    8  2250  100230   -630   mq   mq  284.450000   2.800000   3.200000  -10   0.000000\n",
      "36       7650  20250106150000  100410  -100        6  140   7.1  288.350000  284.550000  78  19320   0   90    5   800  100030   -730   mq   mq  285.450000  10.900000  14.100000  -10   0.600000\n",
      "37       7661  20250106150000      mq    mq       mq  170   6.6          mq          mq  mq     mq  mq   mq   mq    mq      mq     mq   mq   mq          mq   9.700000   9.700000  -10         mq\n",
      "38       7690  20250106150000  100780   -60        6  340   4.0  284.650000  282.850000  89  30000  21  100    7   450  100470   -710   mq   mq  282.250000   5.800000   9.000000  -10   5.700000\n",
      "39       7747  20250106150000  100430   130        1  310   6.9  286.450000  279.350000  62  60000   0   90    1   800   99910   -240   mq   mq  278.850000  12.300000  13.500000  -10   0.000000\n",
      "40       7761  20250106150000  100980  -100        6   70   0.6  289.050000  280.550000  57  51050   0   mq    3  6480  100870   -740   mq   mq  280.150000   1.200000   2.500000  -10   0.000000\n",
      "41       7790  20250106150000  100860  -120        6  330   2.7  286.150000  282.250000  77  19920   0  100    8  5340  100720   -760   mq   mq  281.550000   4.000000   4.300000  -10   0.000000\n",
      "42      61968  20250106150000  101210    60        3   80   2.1          mq          mq  mq     mq  mq   mq   mq    mq  101160     70   mq   mq          mq         mq   4.800000  -10   0.000000\n",
      "43      61970  20250106150000  101150    70        5   40   3.1  303.950000  298.350000  72     mq  mq   mq   mq    mq  101040    150   mq   mq          mq         mq   6.400000  -10   0.400000\n",
      "44      61972  20250106150000  101090    60        5   20   6.4  304.250000  299.250000  75     mq  mq   mq   mq    mq  101020    170   mq   mq          mq         mq   8.500000  -10   0.000000\n",
      "45      61976  20250106150000  101340   140        3   90   3.2  301.950000  296.350000  72     mq  mq   mq   mq    mq  101250     90   mq   mq          mq         mq   5.100000  -10   0.000000\n",
      "46      61980  20250106150000  101520   140        3  100   6.7  301.050000  298.050000  84  18170   0   mq    2   450  101370     80   mq   mq          mq   9.400000  11.100000  -10  14.400000\n",
      "47      61996  20250106150000  101680    20        3  290   7.9  290.250000  287.750000  85     mq  mq   mq   mq    mq  101340   -130   mq   mq          mq         mq  12.000000  -10   0.000000\n",
      "48      61997  20250106150000   99690   120        3  260  15.0  279.750000  276.150000  78     mq  mq   mq   mq    mq   97940    560   mq   mq          mq         mq  22.800000  -10   0.000000\n",
      "49      61998  20250106150000   98960    40        0  100   5.7  281.950000  278.150000  77     mq  mq   mq   mq    mq   98600     mq   mq   mq          mq         mq   8.700000  -10         mq\n",
      "50      67005  20250106150000  101220    40        3   60   2.7  302.350000  296.050000  69  20000   0   mq    0    mq  101140     60   mq   mq          mq   4.200000   6.000000  -10   0.000000\n",
      "51      71805  20250106150000   96800   270        1  320   6.8  276.450000  275.750000  95  14060   0  100    8   450   96720    400   mq   mq  275.450000  10.100000  12.600000  -10   3.400000\n",
      "52      78890  20250106150000      mq    40        0   70   9.2  302.350000          mq  mq     mq  mq   mq   mq    mq  101370     20   mq   mq          mq         mq         mq  -10   0.000000\n",
      "53      78897  20250106150000  101700    20        0   70   6.8  301.650000  291.450000  54     mq  mq   mq   mq    mq  101610     20   mq   mq          mq         mq         mq   mq   0.400000\n",
      "54      78922  20250106150000  101690    30        0   90   9.0  299.850000  295.250000  76     mq  mq   mq   mq    mq  101240     10   mq   mq          mq  12.500000  12.500000  -10   0.000000\n",
      "55      78925  20250106150000  101620    30        0   90   6.9  301.850000  294.850000  66  43380   0   90    7   800  101530      0   mq   mq          mq  10.900000  11.000000  -10  -0.100000\n",
      "56      81401  20250106150000  101340    10        8   60   2.0  304.350000  296.750000  64     mq  mq   mq   mq    mq  101280     30   mq   mq          mq   5.900000   8.500000  -10   0.000000\n",
      "57      81405  20250106150000  101370    30        0   50   6.8  302.550000  296.750000  71  19950   0   90    5   800  101280     70   mq   mq  299.950000  10.200000  12.400000  -10   2.000000\n",
      "58      81408  20250106150000  101280     0        0   40   4.0  303.150000  297.050000  70     mq  mq   mq   mq    mq  101200     80   mq   mq          mq   7.100000   8.400000  -10   1.200000\n",
      "59      89642  20250106150000   99920    40        3  270   4.6  270.850000  266.150000  67     mq  mq   mq   mq    mq   99380     mq   mq   mq          mq         mq         mq   mq         mq\n"
     ]
    }
   ],
   "source": [
    "df = df[['numer_sta', 'date', \"pmer\", \"tend\", \"cod_tend\", \"dd\", \"ff\", \"t\", \"td\", \"u\", \"vv\", \"ww\", \"n\", \"nbas\", \"hbas\",\"pres\", \"tend24\", \"tn12\", \"tx12\", \"tminsol\", \"raf10\", \"rafper\", \"per\", \"rr12\" ]]\n",
    "\n",
    "\n",
    "print(df.to_string())\n"
   ]
  },
  {
   "cell_type": "markdown",
   "metadata": {},
   "source": [
    "## Remplacer les valeurs manquantes `mq` par `NaN`"
   ]
  },
  {
   "cell_type": "code",
   "execution_count": 109,
   "metadata": {
    "execution": {
     "iopub.execute_input": "2024-12-27T21:20:21.974446Z",
     "iopub.status.busy": "2024-12-27T21:20:21.974373Z",
     "iopub.status.idle": "2024-12-27T21:20:21.980351Z",
     "shell.execute_reply": "2024-12-27T21:20:21.980160Z"
    }
   },
   "outputs": [
    {
     "name": "stdout",
     "output_type": "stream",
     "text": [
      "    numer_sta            date    pmer  tend cod_tend   dd    ff           t          td    u     vv   ww    n nbas  hbas    pres tend24  tn12  tx12     tminsol      raf10     rafper  per       rr12\n",
      "0        7005  20250106150000   99150   550        1  260   8.2  280.350000  277.650000   83  19970    0  NaN  NaN   NaN   98290    -70   NaN   NaN  278.450000  13.600000  18.300000  -10   1.600000\n",
      "1        7015  20250106150000   99010   740        1  250  10.8  280.050000  276.150000   76  48900    0   90    7   800   98450   -200   NaN   NaN  278.350000  15.600000  21.200000  -10   2.400000\n",
      "2        7020  20250106150000   99260   190        1  260  13.8  281.150000  275.150000   66  10000   15   75    6  1250   99150    430   NaN   NaN         NaN  18.100000  21.000000  -10   0.200000\n",
      "3        7027  20250106150000   99510   280        3  250   8.6  279.150000  276.350000   82  35460    0  100    4   800   98700    290   NaN   NaN  280.350000  12.600000  19.400000  -10   3.600000\n",
      "4        7037  20250106150000   99440   450        1  250   8.6  280.650000  275.750000   71  35560    0   90    7  1250   97570     40   NaN   NaN  280.050000  13.200000  16.800000  -10   2.000000\n",
      "5        7072  20250106150000   99480   560        1  240   7.6  282.150000  276.950000   70  20000    0   90    4  1250   98350   -290   NaN   NaN  280.350000  12.900000  13.200000  -10   3.400000\n",
      "6        7110  20250106150000   99860   200        3  280   7.4  279.950000  276.550000   79  16950    0   90    5   800   98680    990   NaN   NaN  278.250000  13.400000  18.800000  -10   3.200000\n",
      "7        7117  20250106150000   99560   110        3  250   9.6  281.450000  276.450000   71  10000   61   75    6  1250   98860    730   NaN   NaN         NaN  16.000000  21.000000  -10   2.000000\n",
      "8        7130  20250106150000   99800   140        1  250   6.0  282.650000  275.450000   61  60000    0  NaN    2  1250   99360    490   NaN   NaN  279.550000  10.200000  13.700000  -10   0.800000\n",
      "9        7139  20250106150000   99730   310        2  240   7.2  281.350000  275.750000   68  20000    0  100    8  1250   98000    190   NaN   NaN  280.350000  12.900000  14.600000  -10   4.200000\n",
      "10       7149  20250106150000   99650   430        1  240   8.0  281.850000  276.050000   67  20000   25   90    6  1250   98570    -90   NaN   NaN         NaN  13.400000  14.700000  -10   1.400000\n",
      "11       7168  20250106150000   99770   490        3  250   9.9  281.650000  277.650000   76  20000    0   75    6   800   98360   -180   NaN   NaN  280.550000  15.500000  17.200000  -10   0.400000\n",
      "12       7181  20250106150000   99560   280        3  250  12.9  282.850000  277.250000   68  57060    0  100    8   800   95470   -490   NaN   NaN  280.850000  21.900000  21.900000  -10  -0.100000\n",
      "13       7190  20250106150000   99490   110        3  220   7.5  287.250000  280.350000   63  58960    0  100    8  1750   97730   -600   NaN   NaN  279.150000  12.900000  17.500000  -10   0.000000\n",
      "14       7207  20250106150000     NaN   NaN      NaN  280  13.6  281.150000         NaN  NaN  10000   15   60    5  1250     NaN    NaN   NaN   NaN         NaN  23.100000  24.000000  -10   3.800000\n",
      "15       7222  20250106150000  100060   170        3  250   5.8  280.250000  277.750000   84   6490   60   90    7   800   99740    510   NaN   NaN  280.750000  11.600000  13.700000  -10   3.600000\n",
      "16       7240  20250106150000  100010   320        2  250   6.7  282.250000  275.350000   62  60000    0  NaN    0   NaN   98670    180   NaN   NaN  280.850000  11.400000  12.800000  -10   1.200000\n",
      "17       7255  20250106150000  100070   310        3  260   6.4  282.450000  276.850000   68  20000    0  NaN  NaN   NaN   98090    -10   NaN   NaN  281.050000  12.800000  16.500000  -10   0.400000\n",
      "18       7280  20250106150000   99920   220        3  230   5.7  283.850000  279.950000   77  59820    0  100    1   800   97330   -370   NaN   NaN  281.650000  10.200000  14.600000  -10   1.200000\n",
      "19       7299  20250106150000   99800   130        3  200   4.9  286.150000  279.250000   63  60000    0  100    8  1750   96620   -550   NaN   NaN  275.450000   9.600000  18.500000  -10  -0.100000\n",
      "20       7314  20250106150000  100350   190        3  270   9.3  284.350000  278.850000   69    NaN  NaN  NaN  NaN   NaN  100070    590   NaN   NaN         NaN  13.600000  15.700000  -10   1.400000\n",
      "21       7335  20250106150000  100250   270        3  260   6.6  282.850000  276.150000   63  32840    0  NaN    1  6780   98810    260   NaN   NaN  281.850000  10.600000  12.100000  -10   1.800000\n",
      "22       7434  20250106150000  100420   260        3  240   6.2  279.850000  277.350000   84  13340   61  100    6   450   95640    140   NaN   NaN  280.650000  11.000000  11.000000  -10   1.600000\n",
      "23       7460  20250106150000  100190   170        3  260   6.6  285.050000  275.750000   53  35440    0  100    1  1250   96320   -100   NaN   NaN  282.150000  10.900000  12.000000  -10  -0.100000\n",
      "24       7471  20250106150000     NaN   110        3  260   5.4  280.050000  277.050000   81  12570   61  100    8   450   90740   -400   NaN   NaN  277.750000  10.600000  12.800000  -10   0.800000\n",
      "25       7481  20250106150000  100110    40        3  190  10.3  285.750000  281.650000   76  30000    2  100    5  1250   97300   -540   NaN   NaN         NaN  14.700000  18.100000  -10   0.200000\n",
      "26       7510  20250106150000  100580   180        3  290   4.7  284.750000  278.150000   64  19310    0  100    5  1250  100010    510   NaN   NaN  280.250000   7.000000  10.100000  -10   1.400000\n",
      "27       7535  20250106150000  100570   180        3  270   2.5  283.050000  279.250000   77  18010    0  NaN    4  1250   97470    160   NaN   NaN  281.450000   7.300000   8.800000  -10  -0.100000\n",
      "28       7558  20250106150000  100480   140        3  290   6.2  280.750000  277.350000   79  20000    0  NaN  NaN   NaN   92230   -190   NaN   NaN  278.950000  11.400000  13.700000  -10  -0.100000\n",
      "29       7577  20250106150000  100340   -30        5  190   4.1  285.250000  283.950000   92   6860   63  NaN  NaN   NaN   99460   -670   NaN   NaN  283.050000   7.200000  10.700000  -10  13.000000\n",
      "30       7591  20250106150000     NaN    90        6  250   1.6  279.150000  277.950000   92    NaN  NaN  NaN  NaN   NaN   90610   -590   NaN   NaN         NaN   2.400000   4.100000  -10   2.400000\n",
      "31       7607  20250106150000  100740   180        3  240   2.9  283.950000  282.550000   91  16780    0  100    7   450  100030    420   NaN   NaN  280.850000   4.600000   5.200000  -10   4.000000\n",
      "32       7621  20250106150000  100900   150        1  240   2.7  279.750000  278.550000   92   6620   61  100    8   800   96550    450   NaN   NaN  274.850000   4.900000   6.500000  -10   7.700000\n",
      "33       7627  20250106150000  100950   230        3  320   2.5  279.550000  278.650000   94  14650   61  100    8   450   96000    470   NaN   NaN  278.950000   4.800000  10.600000  -10   3.000000\n",
      "34       7630  20250106150000  100740   160        3  240   5.9  282.250000  279.850000   85  43540    0  100    1  1250   98940    270   NaN   NaN  278.850000   8.600000  10.700000  -10   0.400000\n",
      "35       7643  20250106150000  100320    50        3   70   2.1  289.050000  285.650000   80  14860    0  100    8  2250  100230   -630   NaN   NaN  284.450000   2.800000   3.200000  -10   0.000000\n",
      "36       7650  20250106150000  100410  -100        6  140   7.1  288.350000  284.550000   78  19320    0   90    5   800  100030   -730   NaN   NaN  285.450000  10.900000  14.100000  -10   0.600000\n",
      "37       7661  20250106150000     NaN   NaN      NaN  170   6.6         NaN         NaN  NaN    NaN  NaN  NaN  NaN   NaN     NaN    NaN   NaN   NaN         NaN   9.700000   9.700000  -10        NaN\n",
      "38       7690  20250106150000  100780   -60        6  340   4.0  284.650000  282.850000   89  30000   21  100    7   450  100470   -710   NaN   NaN  282.250000   5.800000   9.000000  -10   5.700000\n",
      "39       7747  20250106150000  100430   130        1  310   6.9  286.450000  279.350000   62  60000    0   90    1   800   99910   -240   NaN   NaN  278.850000  12.300000  13.500000  -10   0.000000\n",
      "40       7761  20250106150000  100980  -100        6   70   0.6  289.050000  280.550000   57  51050    0  NaN    3  6480  100870   -740   NaN   NaN  280.150000   1.200000   2.500000  -10   0.000000\n",
      "41       7790  20250106150000  100860  -120        6  330   2.7  286.150000  282.250000   77  19920    0  100    8  5340  100720   -760   NaN   NaN  281.550000   4.000000   4.300000  -10   0.000000\n",
      "42      61968  20250106150000  101210    60        3   80   2.1         NaN         NaN  NaN    NaN  NaN  NaN  NaN   NaN  101160     70   NaN   NaN         NaN        NaN   4.800000  -10   0.000000\n",
      "43      61970  20250106150000  101150    70        5   40   3.1  303.950000  298.350000   72    NaN  NaN  NaN  NaN   NaN  101040    150   NaN   NaN         NaN        NaN   6.400000  -10   0.400000\n",
      "44      61972  20250106150000  101090    60        5   20   6.4  304.250000  299.250000   75    NaN  NaN  NaN  NaN   NaN  101020    170   NaN   NaN         NaN        NaN   8.500000  -10   0.000000\n",
      "45      61976  20250106150000  101340   140        3   90   3.2  301.950000  296.350000   72    NaN  NaN  NaN  NaN   NaN  101250     90   NaN   NaN         NaN        NaN   5.100000  -10   0.000000\n",
      "46      61980  20250106150000  101520   140        3  100   6.7  301.050000  298.050000   84  18170    0  NaN    2   450  101370     80   NaN   NaN         NaN   9.400000  11.100000  -10  14.400000\n",
      "47      61996  20250106150000  101680    20        3  290   7.9  290.250000  287.750000   85    NaN  NaN  NaN  NaN   NaN  101340   -130   NaN   NaN         NaN        NaN  12.000000  -10   0.000000\n",
      "48      61997  20250106150000   99690   120        3  260  15.0  279.750000  276.150000   78    NaN  NaN  NaN  NaN   NaN   97940    560   NaN   NaN         NaN        NaN  22.800000  -10   0.000000\n",
      "49      61998  20250106150000   98960    40        0  100   5.7  281.950000  278.150000   77    NaN  NaN  NaN  NaN   NaN   98600    NaN   NaN   NaN         NaN        NaN   8.700000  -10        NaN\n",
      "50      67005  20250106150000  101220    40        3   60   2.7  302.350000  296.050000   69  20000    0  NaN    0   NaN  101140     60   NaN   NaN         NaN   4.200000   6.000000  -10   0.000000\n",
      "51      71805  20250106150000   96800   270        1  320   6.8  276.450000  275.750000   95  14060    0  100    8   450   96720    400   NaN   NaN  275.450000  10.100000  12.600000  -10   3.400000\n",
      "52      78890  20250106150000     NaN    40        0   70   9.2  302.350000         NaN  NaN    NaN  NaN  NaN  NaN   NaN  101370     20   NaN   NaN         NaN        NaN        NaN  -10   0.000000\n",
      "53      78897  20250106150000  101700    20        0   70   6.8  301.650000  291.450000   54    NaN  NaN  NaN  NaN   NaN  101610     20   NaN   NaN         NaN        NaN        NaN  NaN   0.400000\n",
      "54      78922  20250106150000  101690    30        0   90   9.0  299.850000  295.250000   76    NaN  NaN  NaN  NaN   NaN  101240     10   NaN   NaN         NaN  12.500000  12.500000  -10   0.000000\n",
      "55      78925  20250106150000  101620    30        0   90   6.9  301.850000  294.850000   66  43380    0   90    7   800  101530      0   NaN   NaN         NaN  10.900000  11.000000  -10  -0.100000\n",
      "56      81401  20250106150000  101340    10        8   60   2.0  304.350000  296.750000   64    NaN  NaN  NaN  NaN   NaN  101280     30   NaN   NaN         NaN   5.900000   8.500000  -10   0.000000\n",
      "57      81405  20250106150000  101370    30        0   50   6.8  302.550000  296.750000   71  19950    0   90    5   800  101280     70   NaN   NaN  299.950000  10.200000  12.400000  -10   2.000000\n",
      "58      81408  20250106150000  101280     0        0   40   4.0  303.150000  297.050000   70    NaN  NaN  NaN  NaN   NaN  101200     80   NaN   NaN         NaN   7.100000   8.400000  -10   1.200000\n",
      "59      89642  20250106150000   99920    40        3  270   4.6  270.850000  266.150000   67    NaN  NaN  NaN  NaN   NaN   99380    NaN   NaN   NaN         NaN        NaN        NaN  NaN        NaN\n"
     ]
    },
    {
     "name": "stderr",
     "output_type": "stream",
     "text": [
      "/var/folders/sb/f4bcd50j471_fcy3xttzhf_m0000gn/T/ipykernel_42142/3864656540.py:1: FutureWarning: Downcasting behavior in `replace` is deprecated and will be removed in a future version. To retain the old behavior, explicitly call `result.infer_objects(copy=False)`. To opt-in to the future behavior, set `pd.set_option('future.no_silent_downcasting', True)`\n",
      "  df.replace(\"mq\", np.nan, inplace=True)\n"
     ]
    }
   ],
   "source": [
    "df.replace(\"mq\", np.nan, inplace=True)\n",
    "print(df.to_string())"
   ]
  },
  {
   "cell_type": "markdown",
   "metadata": {},
   "source": [
    "## Nettoyages de colonnes non renseignées \n",
    "\n",
    "1. Informations générales\n",
    "\t-\tNuméro de station : `numer_sta` -> int\n",
    "\t-\tDate (UTC) : `date` -> datetime\n",
    "2. Pression\n",
    "\t-\tPression au niveau mer : `pmer` -> int\n",
    "\t-\tVariation de pression en 3 heures : `tend` -> int\n",
    "\t-\tType de tendance barométrique : `cod_tend` -> int\n",
    "\t-\tPression station : `pres` -> int\n",
    "\t-\tVariation de pression en 24 heures : `tend24` -> int\n",
    "3. Vent\n",
    "\t-\tDirection du vent moyen 10 mn : `dd` -> int\n",
    "\t-\tVitesse du vent moyen 10 mn : `ff` -> float\n",
    "\t-\tRafales sur les 10 dernières minutes : `raf10` -> float\n",
    "\t-\tRafales sur une période : `rafper` -> float\n",
    "\t-\tPériode de mesure des rafales : `per` -> float\n",
    "4. Température\n",
    "\t-\tTempérature : `t` -> float\n",
    "\t-\tPoint de rosée : `td` -> float\n",
    "\t-\tTempérature minimale sur N heures : `tn12` -> float\n",
    "\t-\tTempérature maximale sur N heures : `tx12` -> float\n",
    "\t-\tTempérature minimale du sol sur 12 heures : `tminsol` -> float\n",
    "5. Humidité\n",
    "\t-\tHumidité : `u` -> int\n",
    "6. Visibilité\n",
    "\t-\tVisibilité horizontale : `vv` -> float\n",
    "7. Nébulosité et nuages\n",
    "\t-\tNébulosité totale : `n` -> float\n",
    "\t-\tNébulosité des nuages de l’étage inférieur : `nbas` -> int\n",
    "\t-\tHauteur de la base des nuages de l’étage inférieur : `hbas` -> int\n",
    "8. Précipitations\n",
    "\t-\tPrécipitations dans les N dernières heures : `rr12` -> float\n",
    "9. Temps présent\n",
    "\t-\tTemps présent : `ww` -> int"
   ]
  },
  {
   "cell_type": "code",
   "execution_count": 110,
   "metadata": {
    "execution": {
     "iopub.execute_input": "2024-12-27T21:20:21.981443Z",
     "iopub.status.busy": "2024-12-27T21:20:21.981371Z",
     "iopub.status.idle": "2024-12-27T21:20:21.992989Z",
     "shell.execute_reply": "2024-12-27T21:20:21.992795Z"
    }
   },
   "outputs": [
    {
     "name": "stdout",
     "output_type": "stream",
     "text": [
      "    numer_sta            date           pmer        tend  cod_tend   dd    ff           t       td       u            vv    ww           n  nbas         hbas          pres  tend24  tn12  tx12     tminsol      raf10     rafper  per       rr12\n",
      "0        7005  20250106150000   99150.000000  550.000000  1.000000  260   8.2  280.350000  277.650  83.000  19970.000000   0.0   93.484848  5.15  1403.947368   98290.00000  -70.00   NaN   NaN  278.450000  13.600000  18.300000  -10   1.600000\n",
      "1        7015  20250106150000   99010.000000  740.000000  1.000000  250  10.8  280.050000  276.150  76.000  48900.000000   0.0   90.000000  7.00   800.000000   98450.00000 -200.00   NaN   NaN  278.350000  15.600000  21.200000  -10   2.400000\n",
      "2        7020  20250106150000   99260.000000  190.000000  1.000000  260  13.8  281.150000  275.150  66.000  10000.000000  15.0   75.000000  6.00  1250.000000   99150.00000  430.00   NaN   NaN  280.658333  18.100000  21.000000  -10   0.200000\n",
      "3        7027  20250106150000   99510.000000  280.000000  3.000000  250   8.6  279.150000  276.350  82.000  35460.000000   0.0  100.000000  4.00   800.000000   98700.00000  290.00   NaN   NaN  280.350000  12.600000  19.400000  -10   3.600000\n",
      "4        7037  20250106150000   99440.000000  450.000000  1.000000  250   8.6  280.650000  275.750  71.000  35560.000000   0.0   90.000000  7.00  1250.000000   97570.00000   40.00   NaN   NaN  280.050000  13.200000  16.800000  -10   2.000000\n",
      "5        7072  20250106150000   99480.000000  560.000000  1.000000  240   7.6  282.150000  276.950  70.000  20000.000000   0.0   90.000000  4.00  1250.000000   98350.00000 -290.00   NaN   NaN  280.350000  12.900000  13.200000  -10   3.400000\n",
      "6        7110  20250106150000   99860.000000  200.000000  3.000000  280   7.4  279.950000  276.550  79.000  16950.000000   0.0   90.000000  5.00   800.000000   98680.00000  990.00   NaN   NaN  278.250000  13.400000  18.800000  -10   3.200000\n",
      "7        7117  20250106150000   99560.000000  110.000000  3.000000  250   9.6  281.450000  276.450  71.000  10000.000000  61.0   75.000000  6.00  1250.000000   98860.00000  730.00   NaN   NaN  280.658333  16.000000  21.000000  -10   2.000000\n",
      "8        7130  20250106150000   99800.000000  140.000000  1.000000  250   6.0  282.650000  275.450  61.000  60000.000000   0.0   93.484848  2.00  1250.000000   99360.00000  490.00   NaN   NaN  279.550000  10.200000  13.700000  -10   0.800000\n",
      "9        7139  20250106150000   99730.000000  310.000000  2.000000  240   7.2  281.350000  275.750  68.000  20000.000000   0.0  100.000000  8.00  1250.000000   98000.00000  190.00   NaN   NaN  280.350000  12.900000  14.600000  -10   4.200000\n",
      "10       7149  20250106150000   99650.000000  430.000000  1.000000  240   8.0  281.850000  276.050  67.000  20000.000000  25.0   90.000000  6.00  1250.000000   98570.00000  -90.00   NaN   NaN  280.658333  13.400000  14.700000  -10   1.400000\n",
      "11       7168  20250106150000   99770.000000  490.000000  3.000000  250   9.9  281.650000  277.650  76.000  20000.000000   0.0   75.000000  6.00   800.000000   98360.00000 -180.00   NaN   NaN  280.550000  15.500000  17.200000  -10   0.400000\n",
      "12       7181  20250106150000   99560.000000  280.000000  3.000000  250  12.9  282.850000  277.250  68.000  57060.000000   0.0  100.000000  8.00   800.000000   95470.00000 -490.00   NaN   NaN  280.850000  21.900000  21.900000  -10  -0.100000\n",
      "13       7190  20250106150000   99490.000000  110.000000  3.000000  220   7.5  287.250000  280.350  63.000  58960.000000   0.0  100.000000  8.00  1750.000000   97730.00000 -600.00   NaN   NaN  279.150000  12.900000  17.500000  -10   0.000000\n",
      "14       7207  20250106150000  100311.090909  159.827586  2.706897  280  13.6  281.150000  281.875  74.375  10000.000000  15.0   60.000000  5.00  1250.000000   98773.62069   -6.25   NaN   NaN  280.658333  23.100000  24.000000  -10   3.800000\n",
      "15       7222  20250106150000  100060.000000  170.000000  3.000000  250   5.8  280.250000  277.750  84.000   6490.000000  60.0   90.000000  7.00   800.000000   99740.00000  510.00   NaN   NaN  280.750000  11.600000  13.700000  -10   3.600000\n",
      "16       7240  20250106150000  100010.000000  320.000000  2.000000  250   6.7  282.250000  275.350  62.000  60000.000000   0.0   93.484848  0.00  1403.947368   98670.00000  180.00   NaN   NaN  280.850000  11.400000  12.800000  -10   1.200000\n",
      "17       7255  20250106150000  100070.000000  310.000000  3.000000  260   6.4  282.450000  276.850  68.000  20000.000000   0.0   93.484848  5.15  1403.947368   98090.00000  -10.00   NaN   NaN  281.050000  12.800000  16.500000  -10   0.400000\n",
      "18       7280  20250106150000   99920.000000  220.000000  3.000000  230   5.7  283.850000  279.950  77.000  59820.000000   0.0  100.000000  1.00   800.000000   97330.00000 -370.00   NaN   NaN  281.650000  10.200000  14.600000  -10   1.200000\n",
      "19       7299  20250106150000   99800.000000  130.000000  3.000000  200   4.9  286.150000  279.250  63.000  60000.000000   0.0  100.000000  8.00  1750.000000   96620.00000 -550.00   NaN   NaN  275.450000   9.600000  18.500000  -10  -0.100000\n",
      "20       7314  20250106150000  100350.000000  190.000000  3.000000  270   9.3  284.350000  278.850  69.000  27950.909091  11.5   93.484848  5.15  1403.947368  100070.00000  590.00   NaN   NaN  280.658333  13.600000  15.700000  -10   1.400000\n",
      "21       7335  20250106150000  100250.000000  270.000000  3.000000  260   6.6  282.850000  276.150  63.000  32840.000000   0.0   93.484848  1.00  6780.000000   98810.00000  260.00   NaN   NaN  281.850000  10.600000  12.100000  -10   1.800000\n",
      "22       7434  20250106150000  100420.000000  260.000000  3.000000  240   6.2  279.850000  277.350  84.000  13340.000000  61.0  100.000000  6.00   450.000000   95640.00000  140.00   NaN   NaN  280.650000  11.000000  11.000000  -10   1.600000\n",
      "23       7460  20250106150000  100190.000000  170.000000  3.000000  260   6.6  285.050000  275.750  53.000  35440.000000   0.0  100.000000  1.00  1250.000000   96320.00000 -100.00   NaN   NaN  282.150000  10.900000  12.000000  -10  -0.100000\n",
      "24       7471  20250106150000  100311.090909  110.000000  3.000000  260   5.4  280.050000  277.050  81.000  12570.000000  61.0  100.000000  8.00   450.000000   90740.00000 -400.00   NaN   NaN  277.750000  10.600000  12.800000  -10   0.800000\n",
      "25       7481  20250106150000  100110.000000   40.000000  3.000000  190  10.3  285.750000  281.650  76.000  30000.000000   2.0  100.000000  5.00  1250.000000   97300.00000 -540.00   NaN   NaN  280.658333  14.700000  18.100000  -10   0.200000\n",
      "26       7510  20250106150000  100580.000000  180.000000  3.000000  290   4.7  284.750000  278.150  64.000  19310.000000   0.0  100.000000  5.00  1250.000000  100010.00000  510.00   NaN   NaN  280.250000   7.000000  10.100000  -10   1.400000\n",
      "27       7535  20250106150000  100570.000000  180.000000  3.000000  270   2.5  283.050000  279.250  77.000  18010.000000   0.0   93.484848  4.00  1250.000000   97470.00000  160.00   NaN   NaN  281.450000   7.300000   8.800000  -10  -0.100000\n",
      "28       7558  20250106150000  100480.000000  140.000000  3.000000  290   6.2  280.750000  277.350  79.000  20000.000000   0.0   93.484848  5.15  1403.947368   92230.00000 -190.00   NaN   NaN  278.950000  11.400000  13.700000  -10  -0.100000\n",
      "29       7577  20250106150000  100340.000000  -30.000000  5.000000  190   4.1  285.250000  283.950  92.000   6860.000000  63.0   93.484848  5.15  1403.947368   99460.00000 -670.00   NaN   NaN  283.050000   7.200000  10.700000  -10  13.000000\n",
      "30       7591  20250106150000  100311.090909   90.000000  6.000000  250   1.6  279.150000  277.950  92.000  27950.909091  11.5   93.484848  5.15  1403.947368   90610.00000 -590.00   NaN   NaN  280.658333   2.400000   4.100000  -10   2.400000\n",
      "31       7607  20250106150000  100740.000000  180.000000  3.000000  240   2.9  283.950000  282.550  91.000  16780.000000   0.0  100.000000  7.00   450.000000  100030.00000  420.00   NaN   NaN  280.850000   4.600000   5.200000  -10   4.000000\n",
      "32       7621  20250106150000  100900.000000  150.000000  1.000000  240   2.7  279.750000  278.550  92.000   6620.000000  61.0  100.000000  8.00   800.000000   96550.00000  450.00   NaN   NaN  274.850000   4.900000   6.500000  -10   7.700000\n",
      "33       7627  20250106150000  100950.000000  230.000000  3.000000  320   2.5  279.550000  278.650  94.000  14650.000000  61.0  100.000000  8.00   450.000000   96000.00000  470.00   NaN   NaN  278.950000   4.800000  10.600000  -10   3.000000\n",
      "34       7630  20250106150000  100740.000000  160.000000  3.000000  240   5.9  282.250000  279.850  85.000  43540.000000   0.0  100.000000  1.00  1250.000000   98940.00000  270.00   NaN   NaN  278.850000   8.600000  10.700000  -10   0.400000\n",
      "35       7643  20250106150000  100320.000000   50.000000  3.000000   70   2.1  289.050000  285.650  80.000  14860.000000   0.0  100.000000  8.00  2250.000000  100230.00000 -630.00   NaN   NaN  284.450000   2.800000   3.200000  -10   0.000000\n",
      "36       7650  20250106150000  100410.000000 -100.000000  6.000000  140   7.1  288.350000  284.550  78.000  19320.000000   0.0   90.000000  5.00   800.000000  100030.00000 -730.00   NaN   NaN  285.450000  10.900000  14.100000  -10   0.600000\n",
      "37       7661  20250106150000  100311.090909  159.827586  2.706897  170   6.6  286.675862  281.875  74.375  27950.909091  11.5   93.484848  5.15  1403.947368   98773.62069   -6.25   NaN   NaN  280.658333   9.700000   9.700000  -10          0\n",
      "38       7690  20250106150000  100780.000000  -60.000000  6.000000  340   4.0  284.650000  282.850  89.000  30000.000000  21.0  100.000000  7.00   450.000000  100470.00000 -710.00   NaN   NaN  282.250000   5.800000   9.000000  -10   5.700000\n",
      "39       7747  20250106150000  100430.000000  130.000000  1.000000  310   6.9  286.450000  279.350  62.000  60000.000000   0.0   90.000000  1.00   800.000000   99910.00000 -240.00   NaN   NaN  278.850000  12.300000  13.500000  -10   0.000000\n",
      "40       7761  20250106150000  100980.000000 -100.000000  6.000000   70   0.6  289.050000  280.550  57.000  51050.000000   0.0   93.484848  3.00  6480.000000  100870.00000 -740.00   NaN   NaN  280.150000   1.200000   2.500000  -10   0.000000\n",
      "41       7790  20250106150000  100860.000000 -120.000000  6.000000  330   2.7  286.150000  282.250  77.000  19920.000000   0.0  100.000000  8.00  5340.000000  100720.00000 -760.00   NaN   NaN  281.550000   4.000000   4.300000  -10   0.000000\n",
      "42      61968  20250106150000  101210.000000   60.000000  3.000000   80   2.1  286.675862  281.875  74.375  27950.909091  11.5   93.484848  5.15  1403.947368  101160.00000   70.00   NaN   NaN  280.658333          0   4.800000  -10   0.000000\n",
      "43      61970  20250106150000  101150.000000   70.000000  5.000000   40   3.1  303.950000  298.350  72.000  27950.909091  11.5   93.484848  5.15  1403.947368  101040.00000  150.00   NaN   NaN  280.658333          0   6.400000  -10   0.400000\n",
      "44      61972  20250106150000  101090.000000   60.000000  5.000000   20   6.4  304.250000  299.250  75.000  27950.909091  11.5   93.484848  5.15  1403.947368  101020.00000  170.00   NaN   NaN  280.658333          0   8.500000  -10   0.000000\n",
      "45      61976  20250106150000  101340.000000  140.000000  3.000000   90   3.2  301.950000  296.350  72.000  27950.909091  11.5   93.484848  5.15  1403.947368  101250.00000   90.00   NaN   NaN  280.658333          0   5.100000  -10   0.000000\n",
      "46      61980  20250106150000  101520.000000  140.000000  3.000000  100   6.7  301.050000  298.050  84.000  18170.000000   0.0   93.484848  2.00   450.000000  101370.00000   80.00   NaN   NaN  280.658333   9.400000  11.100000  -10  14.400000\n",
      "47      61996  20250106150000  101680.000000   20.000000  3.000000  290   7.9  290.250000  287.750  85.000  27950.909091  11.5   93.484848  5.15  1403.947368  101340.00000 -130.00   NaN   NaN  280.658333          0  12.000000  -10   0.000000\n",
      "48      61997  20250106150000   99690.000000  120.000000  3.000000  260  15.0  279.750000  276.150  78.000  27950.909091  11.5   93.484848  5.15  1403.947368   97940.00000  560.00   NaN   NaN  280.658333          0  22.800000  -10   0.000000\n",
      "49      61998  20250106150000   98960.000000   40.000000  0.000000  100   5.7  281.950000  278.150  77.000  27950.909091  11.5   93.484848  5.15  1403.947368   98600.00000   -6.25   NaN   NaN  280.658333          0   8.700000  -10          0\n",
      "50      67005  20250106150000  101220.000000   40.000000  3.000000   60   2.7  302.350000  296.050  69.000  20000.000000   0.0   93.484848  0.00  1403.947368  101140.00000   60.00   NaN   NaN  280.658333   4.200000   6.000000  -10   0.000000\n",
      "51      71805  20250106150000   96800.000000  270.000000  1.000000  320   6.8  276.450000  275.750  95.000  14060.000000   0.0  100.000000  8.00   450.000000   96720.00000  400.00   NaN   NaN  275.450000  10.100000  12.600000  -10   3.400000\n",
      "52      78890  20250106150000  100311.090909   40.000000  0.000000   70   9.2  302.350000  281.875  74.375  27950.909091  11.5   93.484848  5.15  1403.947368  101370.00000   20.00   NaN   NaN  280.658333          0          0  -10   0.000000\n",
      "53      78897  20250106150000  101700.000000   20.000000  0.000000   70   6.8  301.650000  291.450  54.000  27950.909091  11.5   93.484848  5.15  1403.947368  101610.00000   20.00   NaN   NaN  280.658333          0          0    0   0.400000\n",
      "54      78922  20250106150000  101690.000000   30.000000  0.000000   90   9.0  299.850000  295.250  76.000  27950.909091  11.5   93.484848  5.15  1403.947368  101240.00000   10.00   NaN   NaN  280.658333  12.500000  12.500000  -10   0.000000\n",
      "55      78925  20250106150000  101620.000000   30.000000  0.000000   90   6.9  301.850000  294.850  66.000  43380.000000   0.0   90.000000  7.00   800.000000  101530.00000    0.00   NaN   NaN  280.658333  10.900000  11.000000  -10  -0.100000\n",
      "56      81401  20250106150000  101340.000000   10.000000  8.000000   60   2.0  304.350000  296.750  64.000  27950.909091  11.5   93.484848  5.15  1403.947368  101280.00000   30.00   NaN   NaN  280.658333   5.900000   8.500000  -10   0.000000\n",
      "57      81405  20250106150000  101370.000000   30.000000  0.000000   50   6.8  302.550000  296.750  71.000  19950.000000   0.0   90.000000  5.00   800.000000  101280.00000   70.00   NaN   NaN  299.950000  10.200000  12.400000  -10   2.000000\n",
      "58      81408  20250106150000  101280.000000    0.000000  0.000000   40   4.0  303.150000  297.050  70.000  27950.909091  11.5   93.484848  5.15  1403.947368  101200.00000   80.00   NaN   NaN  280.658333   7.100000   8.400000  -10   1.200000\n",
      "59      89642  20250106150000   99920.000000   40.000000  3.000000  270   4.6  270.850000  266.150  67.000  27950.909091  11.5   93.484848  5.15  1403.947368   99380.00000   -6.25   NaN   NaN  280.658333          0          0    0          0\n"
     ]
    }
   ],
   "source": [
    "df[['dd', 'ff', 'raf10', 'rafper', 'rr12', \"per\"]] = df[['dd', 'ff', 'raf10', 'rafper', 'rr12', \"per\"]].fillna(0)\n",
    "\n",
    "moyenne = [\"pmer\", \"tend\", \"cod_tend\", \"pres\", \"tend24\", \"t\", \"td\", \"tn12\", \"tx12\", \"tminsol\", \"u\", \"vv\", \"n\", \"nbas\", \"hbas\", \"ww\"]\n",
    "df[moyenne] = df[moyenne].apply(pd.to_numeric, errors='coerce')\n",
    "\n",
    "for col in moyenne:\n",
    "    df[col] = df[col].fillna(df[col].mean())\n",
    "\n",
    "print(df.to_string())"
   ]
  },
  {
   "cell_type": "markdown",
   "metadata": {},
   "source": [
    "## Typages des colonnes"
   ]
  },
  {
   "cell_type": "code",
   "execution_count": 111,
   "metadata": {
    "execution": {
     "iopub.execute_input": "2024-12-27T21:20:21.994051Z",
     "iopub.status.busy": "2024-12-27T21:20:21.993978Z",
     "iopub.status.idle": "2024-12-27T21:20:22.010060Z",
     "shell.execute_reply": "2024-12-27T21:20:22.009851Z"
    }
   },
   "outputs": [
    {
     "name": "stdout",
     "output_type": "stream",
     "text": [
      "numer_sta -> int64\n",
      "numer_sta -> int64\n",
      "\n",
      "pmer -> float64\n",
      "pmer -> int64\n",
      "\n",
      "tend -> float64\n",
      "tend -> int64\n",
      "\n",
      "cod_tend -> float64\n",
      "cod_tend -> int64\n",
      "\n",
      "dd -> int64\n",
      "dd -> int64\n",
      "\n",
      "u -> float64\n",
      "u -> int64\n",
      "\n",
      "ww -> float64\n",
      "ww -> int64\n",
      "\n",
      "nbas -> float64\n",
      "nbas -> int64\n",
      "\n",
      "hbas -> float64\n",
      "hbas -> int64\n",
      "\n",
      "pres -> float64\n",
      "pres -> int64\n",
      "\n",
      "tend24 -> float64\n",
      "tend24 -> int64\n",
      "\n",
      "dd -> int64\n",
      "dd -> float64\n",
      "\n",
      "ff -> float64\n",
      "ff -> float64\n",
      "\n",
      "raf10 -> object\n",
      "raf10 -> float64\n",
      "\n",
      "rafper -> object\n",
      "rafper -> float64\n",
      "\n",
      "rr12 -> object\n",
      "rr12 -> float64\n",
      "\n",
      "per -> object\n",
      "per -> float64\n",
      "\n",
      "t -> float64\n",
      "t -> float64\n",
      "\n",
      "td -> float64\n",
      "td -> float64\n",
      "\n",
      "tn12 -> float64\n",
      "tn12 -> float64\n",
      "\n",
      "tx12 -> float64\n",
      "tx12 -> float64\n",
      "\n",
      "tminsol -> float64\n",
      "tminsol -> float64\n",
      "\n",
      "n -> float64\n",
      "n -> float64\n",
      "\n",
      "vv -> float64\n",
      "vv -> float64\n",
      "\n"
     ]
    }
   ],
   "source": [
    "df[\"date\"] = pd.to_datetime(df[\"date\"], format='%Y%m%d%H%M%S')\n",
    "df['date'] = df['date'].dt.strftime(\"%Y-%m-%d %H:%M:%S\")\n",
    "\n",
    "entier = [\"numer_sta\", \"pmer\", \"tend\", \"cod_tend\", \"dd\", \"u\", \"ww\", \"nbas\", \"hbas\", \"pres\", \"tend24\"]\n",
    "for i in entier:\n",
    "    print(f\"{i} -> {df[i].dtype}\")\n",
    "    df[i] = df[i].astype(int)\n",
    "    print(f\"{i} -> {df[i].dtype}\")\n",
    "    print(\"\")\n",
    "\n",
    "double = ['dd', 'ff', 'raf10', 'rafper', 'rr12', \"per\", \"t\", \"td\", \"tn12\", \"tx12\", \"tminsol\", \"n\", \"vv\"]\n",
    "for i in double:\n",
    "    print(f\"{i} -> {df[i].dtype}\")\n",
    "    df[i] = df[i].astype(float)\n",
    "    print(f\"{i} -> {df[i].dtype}\")\n",
    "    print(\"\")"
   ]
  },
  {
   "cell_type": "code",
   "execution_count": 112,
   "metadata": {
    "execution": {
     "iopub.execute_input": "2024-12-27T21:20:22.011137Z",
     "iopub.status.busy": "2024-12-27T21:20:22.011051Z",
     "iopub.status.idle": "2024-12-27T21:20:22.019876Z",
     "shell.execute_reply": "2024-12-27T21:20:22.019678Z"
    }
   },
   "outputs": [
    {
     "name": "stdout",
     "output_type": "stream",
     "text": [
      "    numer_sta                 date    pmer  tend  cod_tend     dd    ff           t       td   u            vv  ww           n  nbas  hbas    pres  tend24  tn12  tx12     tminsol  raf10  rafper   per  rr12\n",
      "0        7005  2025-01-06 15:00:00   99150   550         1  260.0   8.2  280.350000  277.650  83  19970.000000   0   93.484848     5  1403   98290     -70   NaN   NaN  278.450000   13.6    18.3 -10.0   1.6\n",
      "1        7015  2025-01-06 15:00:00   99010   740         1  250.0  10.8  280.050000  276.150  76  48900.000000   0   90.000000     7   800   98450    -200   NaN   NaN  278.350000   15.6    21.2 -10.0   2.4\n",
      "2        7020  2025-01-06 15:00:00   99260   190         1  260.0  13.8  281.150000  275.150  66  10000.000000  15   75.000000     6  1250   99150     430   NaN   NaN  280.658333   18.1    21.0 -10.0   0.2\n",
      "3        7027  2025-01-06 15:00:00   99510   280         3  250.0   8.6  279.150000  276.350  82  35460.000000   0  100.000000     4   800   98700     290   NaN   NaN  280.350000   12.6    19.4 -10.0   3.6\n",
      "4        7037  2025-01-06 15:00:00   99440   450         1  250.0   8.6  280.650000  275.750  71  35560.000000   0   90.000000     7  1250   97570      40   NaN   NaN  280.050000   13.2    16.8 -10.0   2.0\n",
      "5        7072  2025-01-06 15:00:00   99480   560         1  240.0   7.6  282.150000  276.950  70  20000.000000   0   90.000000     4  1250   98350    -290   NaN   NaN  280.350000   12.9    13.2 -10.0   3.4\n",
      "6        7110  2025-01-06 15:00:00   99860   200         3  280.0   7.4  279.950000  276.550  79  16950.000000   0   90.000000     5   800   98680     990   NaN   NaN  278.250000   13.4    18.8 -10.0   3.2\n",
      "7        7117  2025-01-06 15:00:00   99560   110         3  250.0   9.6  281.450000  276.450  71  10000.000000  61   75.000000     6  1250   98860     730   NaN   NaN  280.658333   16.0    21.0 -10.0   2.0\n",
      "8        7130  2025-01-06 15:00:00   99800   140         1  250.0   6.0  282.650000  275.450  61  60000.000000   0   93.484848     2  1250   99360     490   NaN   NaN  279.550000   10.2    13.7 -10.0   0.8\n",
      "9        7139  2025-01-06 15:00:00   99730   310         2  240.0   7.2  281.350000  275.750  68  20000.000000   0  100.000000     8  1250   98000     190   NaN   NaN  280.350000   12.9    14.6 -10.0   4.2\n",
      "10       7149  2025-01-06 15:00:00   99650   430         1  240.0   8.0  281.850000  276.050  67  20000.000000  25   90.000000     6  1250   98570     -90   NaN   NaN  280.658333   13.4    14.7 -10.0   1.4\n",
      "11       7168  2025-01-06 15:00:00   99770   490         3  250.0   9.9  281.650000  277.650  76  20000.000000   0   75.000000     6   800   98360    -180   NaN   NaN  280.550000   15.5    17.2 -10.0   0.4\n",
      "12       7181  2025-01-06 15:00:00   99560   280         3  250.0  12.9  282.850000  277.250  68  57060.000000   0  100.000000     8   800   95470    -490   NaN   NaN  280.850000   21.9    21.9 -10.0  -0.1\n",
      "13       7190  2025-01-06 15:00:00   99490   110         3  220.0   7.5  287.250000  280.350  63  58960.000000   0  100.000000     8  1750   97730    -600   NaN   NaN  279.150000   12.9    17.5 -10.0   0.0\n",
      "14       7207  2025-01-06 15:00:00  100311   159         2  280.0  13.6  281.150000  281.875  74  10000.000000  15   60.000000     5  1250   98773      -6   NaN   NaN  280.658333   23.1    24.0 -10.0   3.8\n",
      "15       7222  2025-01-06 15:00:00  100060   170         3  250.0   5.8  280.250000  277.750  84   6490.000000  60   90.000000     7   800   99740     510   NaN   NaN  280.750000   11.6    13.7 -10.0   3.6\n",
      "16       7240  2025-01-06 15:00:00  100010   320         2  250.0   6.7  282.250000  275.350  62  60000.000000   0   93.484848     0  1403   98670     180   NaN   NaN  280.850000   11.4    12.8 -10.0   1.2\n",
      "17       7255  2025-01-06 15:00:00  100070   310         3  260.0   6.4  282.450000  276.850  68  20000.000000   0   93.484848     5  1403   98090     -10   NaN   NaN  281.050000   12.8    16.5 -10.0   0.4\n",
      "18       7280  2025-01-06 15:00:00   99920   220         3  230.0   5.7  283.850000  279.950  77  59820.000000   0  100.000000     1   800   97330    -370   NaN   NaN  281.650000   10.2    14.6 -10.0   1.2\n",
      "19       7299  2025-01-06 15:00:00   99800   130         3  200.0   4.9  286.150000  279.250  63  60000.000000   0  100.000000     8  1750   96620    -550   NaN   NaN  275.450000    9.6    18.5 -10.0  -0.1\n",
      "20       7314  2025-01-06 15:00:00  100350   190         3  270.0   9.3  284.350000  278.850  69  27950.909091  11   93.484848     5  1403  100070     590   NaN   NaN  280.658333   13.6    15.7 -10.0   1.4\n",
      "21       7335  2025-01-06 15:00:00  100250   270         3  260.0   6.6  282.850000  276.150  63  32840.000000   0   93.484848     1  6780   98810     260   NaN   NaN  281.850000   10.6    12.1 -10.0   1.8\n",
      "22       7434  2025-01-06 15:00:00  100420   260         3  240.0   6.2  279.850000  277.350  84  13340.000000  61  100.000000     6   450   95640     140   NaN   NaN  280.650000   11.0    11.0 -10.0   1.6\n",
      "23       7460  2025-01-06 15:00:00  100190   170         3  260.0   6.6  285.050000  275.750  53  35440.000000   0  100.000000     1  1250   96320    -100   NaN   NaN  282.150000   10.9    12.0 -10.0  -0.1\n",
      "24       7471  2025-01-06 15:00:00  100311   110         3  260.0   5.4  280.050000  277.050  81  12570.000000  61  100.000000     8   450   90740    -400   NaN   NaN  277.750000   10.6    12.8 -10.0   0.8\n",
      "25       7481  2025-01-06 15:00:00  100110    40         3  190.0  10.3  285.750000  281.650  76  30000.000000   2  100.000000     5  1250   97300    -540   NaN   NaN  280.658333   14.7    18.1 -10.0   0.2\n",
      "26       7510  2025-01-06 15:00:00  100580   180         3  290.0   4.7  284.750000  278.150  64  19310.000000   0  100.000000     5  1250  100010     510   NaN   NaN  280.250000    7.0    10.1 -10.0   1.4\n",
      "27       7535  2025-01-06 15:00:00  100570   180         3  270.0   2.5  283.050000  279.250  77  18010.000000   0   93.484848     4  1250   97470     160   NaN   NaN  281.450000    7.3     8.8 -10.0  -0.1\n",
      "28       7558  2025-01-06 15:00:00  100480   140         3  290.0   6.2  280.750000  277.350  79  20000.000000   0   93.484848     5  1403   92230    -190   NaN   NaN  278.950000   11.4    13.7 -10.0  -0.1\n",
      "29       7577  2025-01-06 15:00:00  100340   -30         5  190.0   4.1  285.250000  283.950  92   6860.000000  63   93.484848     5  1403   99460    -670   NaN   NaN  283.050000    7.2    10.7 -10.0  13.0\n",
      "30       7591  2025-01-06 15:00:00  100311    90         6  250.0   1.6  279.150000  277.950  92  27950.909091  11   93.484848     5  1403   90610    -590   NaN   NaN  280.658333    2.4     4.1 -10.0   2.4\n",
      "31       7607  2025-01-06 15:00:00  100740   180         3  240.0   2.9  283.950000  282.550  91  16780.000000   0  100.000000     7   450  100030     420   NaN   NaN  280.850000    4.6     5.2 -10.0   4.0\n",
      "32       7621  2025-01-06 15:00:00  100900   150         1  240.0   2.7  279.750000  278.550  92   6620.000000  61  100.000000     8   800   96550     450   NaN   NaN  274.850000    4.9     6.5 -10.0   7.7\n",
      "33       7627  2025-01-06 15:00:00  100950   230         3  320.0   2.5  279.550000  278.650  94  14650.000000  61  100.000000     8   450   96000     470   NaN   NaN  278.950000    4.8    10.6 -10.0   3.0\n",
      "34       7630  2025-01-06 15:00:00  100740   160         3  240.0   5.9  282.250000  279.850  85  43540.000000   0  100.000000     1  1250   98940     270   NaN   NaN  278.850000    8.6    10.7 -10.0   0.4\n",
      "35       7643  2025-01-06 15:00:00  100320    50         3   70.0   2.1  289.050000  285.650  80  14860.000000   0  100.000000     8  2250  100230    -630   NaN   NaN  284.450000    2.8     3.2 -10.0   0.0\n",
      "36       7650  2025-01-06 15:00:00  100410  -100         6  140.0   7.1  288.350000  284.550  78  19320.000000   0   90.000000     5   800  100030    -730   NaN   NaN  285.450000   10.9    14.1 -10.0   0.6\n",
      "37       7661  2025-01-06 15:00:00  100311   159         2  170.0   6.6  286.675862  281.875  74  27950.909091  11   93.484848     5  1403   98773      -6   NaN   NaN  280.658333    9.7     9.7 -10.0   0.0\n",
      "38       7690  2025-01-06 15:00:00  100780   -60         6  340.0   4.0  284.650000  282.850  89  30000.000000  21  100.000000     7   450  100470    -710   NaN   NaN  282.250000    5.8     9.0 -10.0   5.7\n",
      "39       7747  2025-01-06 15:00:00  100430   130         1  310.0   6.9  286.450000  279.350  62  60000.000000   0   90.000000     1   800   99910    -240   NaN   NaN  278.850000   12.3    13.5 -10.0   0.0\n",
      "40       7761  2025-01-06 15:00:00  100980  -100         6   70.0   0.6  289.050000  280.550  57  51050.000000   0   93.484848     3  6480  100870    -740   NaN   NaN  280.150000    1.2     2.5 -10.0   0.0\n",
      "41       7790  2025-01-06 15:00:00  100860  -120         6  330.0   2.7  286.150000  282.250  77  19920.000000   0  100.000000     8  5340  100720    -760   NaN   NaN  281.550000    4.0     4.3 -10.0   0.0\n",
      "42      61968  2025-01-06 15:00:00  101210    60         3   80.0   2.1  286.675862  281.875  74  27950.909091  11   93.484848     5  1403  101160      70   NaN   NaN  280.658333    0.0     4.8 -10.0   0.0\n",
      "43      61970  2025-01-06 15:00:00  101150    70         5   40.0   3.1  303.950000  298.350  72  27950.909091  11   93.484848     5  1403  101040     150   NaN   NaN  280.658333    0.0     6.4 -10.0   0.4\n",
      "44      61972  2025-01-06 15:00:00  101090    60         5   20.0   6.4  304.250000  299.250  75  27950.909091  11   93.484848     5  1403  101020     170   NaN   NaN  280.658333    0.0     8.5 -10.0   0.0\n",
      "45      61976  2025-01-06 15:00:00  101340   140         3   90.0   3.2  301.950000  296.350  72  27950.909091  11   93.484848     5  1403  101250      90   NaN   NaN  280.658333    0.0     5.1 -10.0   0.0\n",
      "46      61980  2025-01-06 15:00:00  101520   140         3  100.0   6.7  301.050000  298.050  84  18170.000000   0   93.484848     2   450  101370      80   NaN   NaN  280.658333    9.4    11.1 -10.0  14.4\n",
      "47      61996  2025-01-06 15:00:00  101680    20         3  290.0   7.9  290.250000  287.750  85  27950.909091  11   93.484848     5  1403  101340    -130   NaN   NaN  280.658333    0.0    12.0 -10.0   0.0\n",
      "48      61997  2025-01-06 15:00:00   99690   120         3  260.0  15.0  279.750000  276.150  78  27950.909091  11   93.484848     5  1403   97940     560   NaN   NaN  280.658333    0.0    22.8 -10.0   0.0\n",
      "49      61998  2025-01-06 15:00:00   98960    40         0  100.0   5.7  281.950000  278.150  77  27950.909091  11   93.484848     5  1403   98600      -6   NaN   NaN  280.658333    0.0     8.7 -10.0   0.0\n",
      "50      67005  2025-01-06 15:00:00  101220    40         3   60.0   2.7  302.350000  296.050  69  20000.000000   0   93.484848     0  1403  101140      60   NaN   NaN  280.658333    4.2     6.0 -10.0   0.0\n",
      "51      71805  2025-01-06 15:00:00   96800   270         1  320.0   6.8  276.450000  275.750  95  14060.000000   0  100.000000     8   450   96720     400   NaN   NaN  275.450000   10.1    12.6 -10.0   3.4\n",
      "52      78890  2025-01-06 15:00:00  100311    40         0   70.0   9.2  302.350000  281.875  74  27950.909091  11   93.484848     5  1403  101370      20   NaN   NaN  280.658333    0.0     0.0 -10.0   0.0\n",
      "53      78897  2025-01-06 15:00:00  101700    20         0   70.0   6.8  301.650000  291.450  54  27950.909091  11   93.484848     5  1403  101610      20   NaN   NaN  280.658333    0.0     0.0   0.0   0.4\n",
      "54      78922  2025-01-06 15:00:00  101690    30         0   90.0   9.0  299.850000  295.250  76  27950.909091  11   93.484848     5  1403  101240      10   NaN   NaN  280.658333   12.5    12.5 -10.0   0.0\n",
      "55      78925  2025-01-06 15:00:00  101620    30         0   90.0   6.9  301.850000  294.850  66  43380.000000   0   90.000000     7   800  101530       0   NaN   NaN  280.658333   10.9    11.0 -10.0  -0.1\n",
      "56      81401  2025-01-06 15:00:00  101340    10         8   60.0   2.0  304.350000  296.750  64  27950.909091  11   93.484848     5  1403  101280      30   NaN   NaN  280.658333    5.9     8.5 -10.0   0.0\n",
      "57      81405  2025-01-06 15:00:00  101370    30         0   50.0   6.8  302.550000  296.750  71  19950.000000   0   90.000000     5   800  101280      70   NaN   NaN  299.950000   10.2    12.4 -10.0   2.0\n",
      "58      81408  2025-01-06 15:00:00  101280     0         0   40.0   4.0  303.150000  297.050  70  27950.909091  11   93.484848     5  1403  101200      80   NaN   NaN  280.658333    7.1     8.4 -10.0   1.2\n",
      "59      89642  2025-01-06 15:00:00   99920    40         3  270.0   4.6  270.850000  266.150  67  27950.909091  11   93.484848     5  1403   99380      -6   NaN   NaN  280.658333    0.0     0.0   0.0   0.0\n"
     ]
    }
   ],
   "source": [
    "print(df.to_string())"
   ]
  },
  {
   "cell_type": "markdown",
   "metadata": {},
   "source": [
    "## Conversion des températures de Kelvin en Celcuis"
   ]
  },
  {
   "cell_type": "code",
   "execution_count": 113,
   "metadata": {
    "execution": {
     "iopub.execute_input": "2024-12-27T21:20:22.020946Z",
     "iopub.status.busy": "2024-12-27T21:20:22.020862Z",
     "iopub.status.idle": "2024-12-27T21:20:22.030181Z",
     "shell.execute_reply": "2024-12-27T21:20:22.029994Z"
    }
   },
   "outputs": [
    {
     "name": "stdout",
     "output_type": "stream",
     "text": [
      "    numer_sta                 date    pmer  tend  cod_tend     dd    ff          t      td   u            vv  ww           n  nbas  hbas    pres  tend24  tn12  tx12    tminsol  raf10  rafper   per  rr12\n",
      "0        7005  2025-01-06 15:00:00   99150   550         1  260.0   8.2   7.200000   4.500  83  19970.000000   0   93.484848     5  1403   98290     -70   NaN   NaN   5.300000   13.6    18.3 -10.0   1.6\n",
      "1        7015  2025-01-06 15:00:00   99010   740         1  250.0  10.8   6.900000   3.000  76  48900.000000   0   90.000000     7   800   98450    -200   NaN   NaN   5.200000   15.6    21.2 -10.0   2.4\n",
      "2        7020  2025-01-06 15:00:00   99260   190         1  260.0  13.8   8.000000   2.000  66  10000.000000  15   75.000000     6  1250   99150     430   NaN   NaN   7.508333   18.1    21.0 -10.0   0.2\n",
      "3        7027  2025-01-06 15:00:00   99510   280         3  250.0   8.6   6.000000   3.200  82  35460.000000   0  100.000000     4   800   98700     290   NaN   NaN   7.200000   12.6    19.4 -10.0   3.6\n",
      "4        7037  2025-01-06 15:00:00   99440   450         1  250.0   8.6   7.500000   2.600  71  35560.000000   0   90.000000     7  1250   97570      40   NaN   NaN   6.900000   13.2    16.8 -10.0   2.0\n",
      "5        7072  2025-01-06 15:00:00   99480   560         1  240.0   7.6   9.000000   3.800  70  20000.000000   0   90.000000     4  1250   98350    -290   NaN   NaN   7.200000   12.9    13.2 -10.0   3.4\n",
      "6        7110  2025-01-06 15:00:00   99860   200         3  280.0   7.4   6.800000   3.400  79  16950.000000   0   90.000000     5   800   98680     990   NaN   NaN   5.100000   13.4    18.8 -10.0   3.2\n",
      "7        7117  2025-01-06 15:00:00   99560   110         3  250.0   9.6   8.300000   3.300  71  10000.000000  61   75.000000     6  1250   98860     730   NaN   NaN   7.508333   16.0    21.0 -10.0   2.0\n",
      "8        7130  2025-01-06 15:00:00   99800   140         1  250.0   6.0   9.500000   2.300  61  60000.000000   0   93.484848     2  1250   99360     490   NaN   NaN   6.400000   10.2    13.7 -10.0   0.8\n",
      "9        7139  2025-01-06 15:00:00   99730   310         2  240.0   7.2   8.200000   2.600  68  20000.000000   0  100.000000     8  1250   98000     190   NaN   NaN   7.200000   12.9    14.6 -10.0   4.2\n",
      "10       7149  2025-01-06 15:00:00   99650   430         1  240.0   8.0   8.700000   2.900  67  20000.000000  25   90.000000     6  1250   98570     -90   NaN   NaN   7.508333   13.4    14.7 -10.0   1.4\n",
      "11       7168  2025-01-06 15:00:00   99770   490         3  250.0   9.9   8.500000   4.500  76  20000.000000   0   75.000000     6   800   98360    -180   NaN   NaN   7.400000   15.5    17.2 -10.0   0.4\n",
      "12       7181  2025-01-06 15:00:00   99560   280         3  250.0  12.9   9.700000   4.100  68  57060.000000   0  100.000000     8   800   95470    -490   NaN   NaN   7.700000   21.9    21.9 -10.0  -0.1\n",
      "13       7190  2025-01-06 15:00:00   99490   110         3  220.0   7.5  14.100000   7.200  63  58960.000000   0  100.000000     8  1750   97730    -600   NaN   NaN   6.000000   12.9    17.5 -10.0   0.0\n",
      "14       7207  2025-01-06 15:00:00  100311   159         2  280.0  13.6   8.000000   8.725  74  10000.000000  15   60.000000     5  1250   98773      -6   NaN   NaN   7.508333   23.1    24.0 -10.0   3.8\n",
      "15       7222  2025-01-06 15:00:00  100060   170         3  250.0   5.8   7.100000   4.600  84   6490.000000  60   90.000000     7   800   99740     510   NaN   NaN   7.600000   11.6    13.7 -10.0   3.6\n",
      "16       7240  2025-01-06 15:00:00  100010   320         2  250.0   6.7   9.100000   2.200  62  60000.000000   0   93.484848     0  1403   98670     180   NaN   NaN   7.700000   11.4    12.8 -10.0   1.2\n",
      "17       7255  2025-01-06 15:00:00  100070   310         3  260.0   6.4   9.300000   3.700  68  20000.000000   0   93.484848     5  1403   98090     -10   NaN   NaN   7.900000   12.8    16.5 -10.0   0.4\n",
      "18       7280  2025-01-06 15:00:00   99920   220         3  230.0   5.7  10.700000   6.800  77  59820.000000   0  100.000000     1   800   97330    -370   NaN   NaN   8.500000   10.2    14.6 -10.0   1.2\n",
      "19       7299  2025-01-06 15:00:00   99800   130         3  200.0   4.9  13.000000   6.100  63  60000.000000   0  100.000000     8  1750   96620    -550   NaN   NaN   2.300000    9.6    18.5 -10.0  -0.1\n",
      "20       7314  2025-01-06 15:00:00  100350   190         3  270.0   9.3  11.200000   5.700  69  27950.909091  11   93.484848     5  1403  100070     590   NaN   NaN   7.508333   13.6    15.7 -10.0   1.4\n",
      "21       7335  2025-01-06 15:00:00  100250   270         3  260.0   6.6   9.700000   3.000  63  32840.000000   0   93.484848     1  6780   98810     260   NaN   NaN   8.700000   10.6    12.1 -10.0   1.8\n",
      "22       7434  2025-01-06 15:00:00  100420   260         3  240.0   6.2   6.700000   4.200  84  13340.000000  61  100.000000     6   450   95640     140   NaN   NaN   7.500000   11.0    11.0 -10.0   1.6\n",
      "23       7460  2025-01-06 15:00:00  100190   170         3  260.0   6.6  11.900000   2.600  53  35440.000000   0  100.000000     1  1250   96320    -100   NaN   NaN   9.000000   10.9    12.0 -10.0  -0.1\n",
      "24       7471  2025-01-06 15:00:00  100311   110         3  260.0   5.4   6.900000   3.900  81  12570.000000  61  100.000000     8   450   90740    -400   NaN   NaN   4.600000   10.6    12.8 -10.0   0.8\n",
      "25       7481  2025-01-06 15:00:00  100110    40         3  190.0  10.3  12.600000   8.500  76  30000.000000   2  100.000000     5  1250   97300    -540   NaN   NaN   7.508333   14.7    18.1 -10.0   0.2\n",
      "26       7510  2025-01-06 15:00:00  100580   180         3  290.0   4.7  11.600000   5.000  64  19310.000000   0  100.000000     5  1250  100010     510   NaN   NaN   7.100000    7.0    10.1 -10.0   1.4\n",
      "27       7535  2025-01-06 15:00:00  100570   180         3  270.0   2.5   9.900000   6.100  77  18010.000000   0   93.484848     4  1250   97470     160   NaN   NaN   8.300000    7.3     8.8 -10.0  -0.1\n",
      "28       7558  2025-01-06 15:00:00  100480   140         3  290.0   6.2   7.600000   4.200  79  20000.000000   0   93.484848     5  1403   92230    -190   NaN   NaN   5.800000   11.4    13.7 -10.0  -0.1\n",
      "29       7577  2025-01-06 15:00:00  100340   -30         5  190.0   4.1  12.100000  10.800  92   6860.000000  63   93.484848     5  1403   99460    -670   NaN   NaN   9.900000    7.2    10.7 -10.0  13.0\n",
      "30       7591  2025-01-06 15:00:00  100311    90         6  250.0   1.6   6.000000   4.800  92  27950.909091  11   93.484848     5  1403   90610    -590   NaN   NaN   7.508333    2.4     4.1 -10.0   2.4\n",
      "31       7607  2025-01-06 15:00:00  100740   180         3  240.0   2.9  10.800000   9.400  91  16780.000000   0  100.000000     7   450  100030     420   NaN   NaN   7.700000    4.6     5.2 -10.0   4.0\n",
      "32       7621  2025-01-06 15:00:00  100900   150         1  240.0   2.7   6.600000   5.400  92   6620.000000  61  100.000000     8   800   96550     450   NaN   NaN   1.700000    4.9     6.5 -10.0   7.7\n",
      "33       7627  2025-01-06 15:00:00  100950   230         3  320.0   2.5   6.400000   5.500  94  14650.000000  61  100.000000     8   450   96000     470   NaN   NaN   5.800000    4.8    10.6 -10.0   3.0\n",
      "34       7630  2025-01-06 15:00:00  100740   160         3  240.0   5.9   9.100000   6.700  85  43540.000000   0  100.000000     1  1250   98940     270   NaN   NaN   5.700000    8.6    10.7 -10.0   0.4\n",
      "35       7643  2025-01-06 15:00:00  100320    50         3   70.0   2.1  15.900000  12.500  80  14860.000000   0  100.000000     8  2250  100230    -630   NaN   NaN  11.300000    2.8     3.2 -10.0   0.0\n",
      "36       7650  2025-01-06 15:00:00  100410  -100         6  140.0   7.1  15.200000  11.400  78  19320.000000   0   90.000000     5   800  100030    -730   NaN   NaN  12.300000   10.9    14.1 -10.0   0.6\n",
      "37       7661  2025-01-06 15:00:00  100311   159         2  170.0   6.6  13.525862   8.725  74  27950.909091  11   93.484848     5  1403   98773      -6   NaN   NaN   7.508333    9.7     9.7 -10.0   0.0\n",
      "38       7690  2025-01-06 15:00:00  100780   -60         6  340.0   4.0  11.500000   9.700  89  30000.000000  21  100.000000     7   450  100470    -710   NaN   NaN   9.100000    5.8     9.0 -10.0   5.7\n",
      "39       7747  2025-01-06 15:00:00  100430   130         1  310.0   6.9  13.300000   6.200  62  60000.000000   0   90.000000     1   800   99910    -240   NaN   NaN   5.700000   12.3    13.5 -10.0   0.0\n",
      "40       7761  2025-01-06 15:00:00  100980  -100         6   70.0   0.6  15.900000   7.400  57  51050.000000   0   93.484848     3  6480  100870    -740   NaN   NaN   7.000000    1.2     2.5 -10.0   0.0\n",
      "41       7790  2025-01-06 15:00:00  100860  -120         6  330.0   2.7  13.000000   9.100  77  19920.000000   0  100.000000     8  5340  100720    -760   NaN   NaN   8.400000    4.0     4.3 -10.0   0.0\n",
      "42      61968  2025-01-06 15:00:00  101210    60         3   80.0   2.1  13.525862   8.725  74  27950.909091  11   93.484848     5  1403  101160      70   NaN   NaN   7.508333    0.0     4.8 -10.0   0.0\n",
      "43      61970  2025-01-06 15:00:00  101150    70         5   40.0   3.1  30.800000  25.200  72  27950.909091  11   93.484848     5  1403  101040     150   NaN   NaN   7.508333    0.0     6.4 -10.0   0.4\n",
      "44      61972  2025-01-06 15:00:00  101090    60         5   20.0   6.4  31.100000  26.100  75  27950.909091  11   93.484848     5  1403  101020     170   NaN   NaN   7.508333    0.0     8.5 -10.0   0.0\n",
      "45      61976  2025-01-06 15:00:00  101340   140         3   90.0   3.2  28.800000  23.200  72  27950.909091  11   93.484848     5  1403  101250      90   NaN   NaN   7.508333    0.0     5.1 -10.0   0.0\n",
      "46      61980  2025-01-06 15:00:00  101520   140         3  100.0   6.7  27.900000  24.900  84  18170.000000   0   93.484848     2   450  101370      80   NaN   NaN   7.508333    9.4    11.1 -10.0  14.4\n",
      "47      61996  2025-01-06 15:00:00  101680    20         3  290.0   7.9  17.100000  14.600  85  27950.909091  11   93.484848     5  1403  101340    -130   NaN   NaN   7.508333    0.0    12.0 -10.0   0.0\n",
      "48      61997  2025-01-06 15:00:00   99690   120         3  260.0  15.0   6.600000   3.000  78  27950.909091  11   93.484848     5  1403   97940     560   NaN   NaN   7.508333    0.0    22.8 -10.0   0.0\n",
      "49      61998  2025-01-06 15:00:00   98960    40         0  100.0   5.7   8.800000   5.000  77  27950.909091  11   93.484848     5  1403   98600      -6   NaN   NaN   7.508333    0.0     8.7 -10.0   0.0\n",
      "50      67005  2025-01-06 15:00:00  101220    40         3   60.0   2.7  29.200000  22.900  69  20000.000000   0   93.484848     0  1403  101140      60   NaN   NaN   7.508333    4.2     6.0 -10.0   0.0\n",
      "51      71805  2025-01-06 15:00:00   96800   270         1  320.0   6.8   3.300000   2.600  95  14060.000000   0  100.000000     8   450   96720     400   NaN   NaN   2.300000   10.1    12.6 -10.0   3.4\n",
      "52      78890  2025-01-06 15:00:00  100311    40         0   70.0   9.2  29.200000   8.725  74  27950.909091  11   93.484848     5  1403  101370      20   NaN   NaN   7.508333    0.0     0.0 -10.0   0.0\n",
      "53      78897  2025-01-06 15:00:00  101700    20         0   70.0   6.8  28.500000  18.300  54  27950.909091  11   93.484848     5  1403  101610      20   NaN   NaN   7.508333    0.0     0.0   0.0   0.4\n",
      "54      78922  2025-01-06 15:00:00  101690    30         0   90.0   9.0  26.700000  22.100  76  27950.909091  11   93.484848     5  1403  101240      10   NaN   NaN   7.508333   12.5    12.5 -10.0   0.0\n",
      "55      78925  2025-01-06 15:00:00  101620    30         0   90.0   6.9  28.700000  21.700  66  43380.000000   0   90.000000     7   800  101530       0   NaN   NaN   7.508333   10.9    11.0 -10.0  -0.1\n",
      "56      81401  2025-01-06 15:00:00  101340    10         8   60.0   2.0  31.200000  23.600  64  27950.909091  11   93.484848     5  1403  101280      30   NaN   NaN   7.508333    5.9     8.5 -10.0   0.0\n",
      "57      81405  2025-01-06 15:00:00  101370    30         0   50.0   6.8  29.400000  23.600  71  19950.000000   0   90.000000     5   800  101280      70   NaN   NaN  26.800000   10.2    12.4 -10.0   2.0\n",
      "58      81408  2025-01-06 15:00:00  101280     0         0   40.0   4.0  30.000000  23.900  70  27950.909091  11   93.484848     5  1403  101200      80   NaN   NaN   7.508333    7.1     8.4 -10.0   1.2\n",
      "59      89642  2025-01-06 15:00:00   99920    40         3  270.0   4.6  -2.300000  -7.000  67  27950.909091  11   93.484848     5  1403   99380      -6   NaN   NaN   7.508333    0.0     0.0   0.0   0.0\n"
     ]
    }
   ],
   "source": [
    "celcuis = [\"t\", \"td\", \"tn12\", \"tx12\", \"tminsol\"]\n",
    "for i in celcuis:\n",
    "    df[i] = df[i] - 273.15\n",
    "\n",
    "print(df.to_string())"
   ]
  },
  {
   "cell_type": "markdown",
   "metadata": {},
   "source": [
    "## Arrondir tous les decimaux à 2chiffres après la virgules"
   ]
  },
  {
   "cell_type": "code",
   "execution_count": 114,
   "metadata": {
    "execution": {
     "iopub.execute_input": "2024-12-27T21:20:22.031266Z",
     "iopub.status.busy": "2024-12-27T21:20:22.031188Z",
     "iopub.status.idle": "2024-12-27T21:20:22.042065Z",
     "shell.execute_reply": "2024-12-27T21:20:22.041874Z"
    }
   },
   "outputs": [
    {
     "name": "stdout",
     "output_type": "stream",
     "text": [
      "    numer_sta                 date    pmer  tend  cod_tend     dd    ff      t     td   u        vv  ww       n  nbas  hbas    pres  tend24  tn12  tx12  tminsol  raf10  rafper   per  rr12\n",
      "0        7005  2025-01-06 15:00:00   99150   550         1  260.0   8.2   7.20   4.50  83  19970.00   0   93.48     5  1403   98290     -70   NaN   NaN     5.30   13.6    18.3 -10.0   1.6\n",
      "1        7015  2025-01-06 15:00:00   99010   740         1  250.0  10.8   6.90   3.00  76  48900.00   0   90.00     7   800   98450    -200   NaN   NaN     5.20   15.6    21.2 -10.0   2.4\n",
      "2        7020  2025-01-06 15:00:00   99260   190         1  260.0  13.8   8.00   2.00  66  10000.00  15   75.00     6  1250   99150     430   NaN   NaN     7.51   18.1    21.0 -10.0   0.2\n",
      "3        7027  2025-01-06 15:00:00   99510   280         3  250.0   8.6   6.00   3.20  82  35460.00   0  100.00     4   800   98700     290   NaN   NaN     7.20   12.6    19.4 -10.0   3.6\n",
      "4        7037  2025-01-06 15:00:00   99440   450         1  250.0   8.6   7.50   2.60  71  35560.00   0   90.00     7  1250   97570      40   NaN   NaN     6.90   13.2    16.8 -10.0   2.0\n",
      "5        7072  2025-01-06 15:00:00   99480   560         1  240.0   7.6   9.00   3.80  70  20000.00   0   90.00     4  1250   98350    -290   NaN   NaN     7.20   12.9    13.2 -10.0   3.4\n",
      "6        7110  2025-01-06 15:00:00   99860   200         3  280.0   7.4   6.80   3.40  79  16950.00   0   90.00     5   800   98680     990   NaN   NaN     5.10   13.4    18.8 -10.0   3.2\n",
      "7        7117  2025-01-06 15:00:00   99560   110         3  250.0   9.6   8.30   3.30  71  10000.00  61   75.00     6  1250   98860     730   NaN   NaN     7.51   16.0    21.0 -10.0   2.0\n",
      "8        7130  2025-01-06 15:00:00   99800   140         1  250.0   6.0   9.50   2.30  61  60000.00   0   93.48     2  1250   99360     490   NaN   NaN     6.40   10.2    13.7 -10.0   0.8\n",
      "9        7139  2025-01-06 15:00:00   99730   310         2  240.0   7.2   8.20   2.60  68  20000.00   0  100.00     8  1250   98000     190   NaN   NaN     7.20   12.9    14.6 -10.0   4.2\n",
      "10       7149  2025-01-06 15:00:00   99650   430         1  240.0   8.0   8.70   2.90  67  20000.00  25   90.00     6  1250   98570     -90   NaN   NaN     7.51   13.4    14.7 -10.0   1.4\n",
      "11       7168  2025-01-06 15:00:00   99770   490         3  250.0   9.9   8.50   4.50  76  20000.00   0   75.00     6   800   98360    -180   NaN   NaN     7.40   15.5    17.2 -10.0   0.4\n",
      "12       7181  2025-01-06 15:00:00   99560   280         3  250.0  12.9   9.70   4.10  68  57060.00   0  100.00     8   800   95470    -490   NaN   NaN     7.70   21.9    21.9 -10.0  -0.1\n",
      "13       7190  2025-01-06 15:00:00   99490   110         3  220.0   7.5  14.10   7.20  63  58960.00   0  100.00     8  1750   97730    -600   NaN   NaN     6.00   12.9    17.5 -10.0   0.0\n",
      "14       7207  2025-01-06 15:00:00  100311   159         2  280.0  13.6   8.00   8.72  74  10000.00  15   60.00     5  1250   98773      -6   NaN   NaN     7.51   23.1    24.0 -10.0   3.8\n",
      "15       7222  2025-01-06 15:00:00  100060   170         3  250.0   5.8   7.10   4.60  84   6490.00  60   90.00     7   800   99740     510   NaN   NaN     7.60   11.6    13.7 -10.0   3.6\n",
      "16       7240  2025-01-06 15:00:00  100010   320         2  250.0   6.7   9.10   2.20  62  60000.00   0   93.48     0  1403   98670     180   NaN   NaN     7.70   11.4    12.8 -10.0   1.2\n",
      "17       7255  2025-01-06 15:00:00  100070   310         3  260.0   6.4   9.30   3.70  68  20000.00   0   93.48     5  1403   98090     -10   NaN   NaN     7.90   12.8    16.5 -10.0   0.4\n",
      "18       7280  2025-01-06 15:00:00   99920   220         3  230.0   5.7  10.70   6.80  77  59820.00   0  100.00     1   800   97330    -370   NaN   NaN     8.50   10.2    14.6 -10.0   1.2\n",
      "19       7299  2025-01-06 15:00:00   99800   130         3  200.0   4.9  13.00   6.10  63  60000.00   0  100.00     8  1750   96620    -550   NaN   NaN     2.30    9.6    18.5 -10.0  -0.1\n",
      "20       7314  2025-01-06 15:00:00  100350   190         3  270.0   9.3  11.20   5.70  69  27950.91  11   93.48     5  1403  100070     590   NaN   NaN     7.51   13.6    15.7 -10.0   1.4\n",
      "21       7335  2025-01-06 15:00:00  100250   270         3  260.0   6.6   9.70   3.00  63  32840.00   0   93.48     1  6780   98810     260   NaN   NaN     8.70   10.6    12.1 -10.0   1.8\n",
      "22       7434  2025-01-06 15:00:00  100420   260         3  240.0   6.2   6.70   4.20  84  13340.00  61  100.00     6   450   95640     140   NaN   NaN     7.50   11.0    11.0 -10.0   1.6\n",
      "23       7460  2025-01-06 15:00:00  100190   170         3  260.0   6.6  11.90   2.60  53  35440.00   0  100.00     1  1250   96320    -100   NaN   NaN     9.00   10.9    12.0 -10.0  -0.1\n",
      "24       7471  2025-01-06 15:00:00  100311   110         3  260.0   5.4   6.90   3.90  81  12570.00  61  100.00     8   450   90740    -400   NaN   NaN     4.60   10.6    12.8 -10.0   0.8\n",
      "25       7481  2025-01-06 15:00:00  100110    40         3  190.0  10.3  12.60   8.50  76  30000.00   2  100.00     5  1250   97300    -540   NaN   NaN     7.51   14.7    18.1 -10.0   0.2\n",
      "26       7510  2025-01-06 15:00:00  100580   180         3  290.0   4.7  11.60   5.00  64  19310.00   0  100.00     5  1250  100010     510   NaN   NaN     7.10    7.0    10.1 -10.0   1.4\n",
      "27       7535  2025-01-06 15:00:00  100570   180         3  270.0   2.5   9.90   6.10  77  18010.00   0   93.48     4  1250   97470     160   NaN   NaN     8.30    7.3     8.8 -10.0  -0.1\n",
      "28       7558  2025-01-06 15:00:00  100480   140         3  290.0   6.2   7.60   4.20  79  20000.00   0   93.48     5  1403   92230    -190   NaN   NaN     5.80   11.4    13.7 -10.0  -0.1\n",
      "29       7577  2025-01-06 15:00:00  100340   -30         5  190.0   4.1  12.10  10.80  92   6860.00  63   93.48     5  1403   99460    -670   NaN   NaN     9.90    7.2    10.7 -10.0  13.0\n",
      "30       7591  2025-01-06 15:00:00  100311    90         6  250.0   1.6   6.00   4.80  92  27950.91  11   93.48     5  1403   90610    -590   NaN   NaN     7.51    2.4     4.1 -10.0   2.4\n",
      "31       7607  2025-01-06 15:00:00  100740   180         3  240.0   2.9  10.80   9.40  91  16780.00   0  100.00     7   450  100030     420   NaN   NaN     7.70    4.6     5.2 -10.0   4.0\n",
      "32       7621  2025-01-06 15:00:00  100900   150         1  240.0   2.7   6.60   5.40  92   6620.00  61  100.00     8   800   96550     450   NaN   NaN     1.70    4.9     6.5 -10.0   7.7\n",
      "33       7627  2025-01-06 15:00:00  100950   230         3  320.0   2.5   6.40   5.50  94  14650.00  61  100.00     8   450   96000     470   NaN   NaN     5.80    4.8    10.6 -10.0   3.0\n",
      "34       7630  2025-01-06 15:00:00  100740   160         3  240.0   5.9   9.10   6.70  85  43540.00   0  100.00     1  1250   98940     270   NaN   NaN     5.70    8.6    10.7 -10.0   0.4\n",
      "35       7643  2025-01-06 15:00:00  100320    50         3   70.0   2.1  15.90  12.50  80  14860.00   0  100.00     8  2250  100230    -630   NaN   NaN    11.30    2.8     3.2 -10.0   0.0\n",
      "36       7650  2025-01-06 15:00:00  100410  -100         6  140.0   7.1  15.20  11.40  78  19320.00   0   90.00     5   800  100030    -730   NaN   NaN    12.30   10.9    14.1 -10.0   0.6\n",
      "37       7661  2025-01-06 15:00:00  100311   159         2  170.0   6.6  13.53   8.72  74  27950.91  11   93.48     5  1403   98773      -6   NaN   NaN     7.51    9.7     9.7 -10.0   0.0\n",
      "38       7690  2025-01-06 15:00:00  100780   -60         6  340.0   4.0  11.50   9.70  89  30000.00  21  100.00     7   450  100470    -710   NaN   NaN     9.10    5.8     9.0 -10.0   5.7\n",
      "39       7747  2025-01-06 15:00:00  100430   130         1  310.0   6.9  13.30   6.20  62  60000.00   0   90.00     1   800   99910    -240   NaN   NaN     5.70   12.3    13.5 -10.0   0.0\n",
      "40       7761  2025-01-06 15:00:00  100980  -100         6   70.0   0.6  15.90   7.40  57  51050.00   0   93.48     3  6480  100870    -740   NaN   NaN     7.00    1.2     2.5 -10.0   0.0\n",
      "41       7790  2025-01-06 15:00:00  100860  -120         6  330.0   2.7  13.00   9.10  77  19920.00   0  100.00     8  5340  100720    -760   NaN   NaN     8.40    4.0     4.3 -10.0   0.0\n",
      "42      61968  2025-01-06 15:00:00  101210    60         3   80.0   2.1  13.53   8.72  74  27950.91  11   93.48     5  1403  101160      70   NaN   NaN     7.51    0.0     4.8 -10.0   0.0\n",
      "43      61970  2025-01-06 15:00:00  101150    70         5   40.0   3.1  30.80  25.20  72  27950.91  11   93.48     5  1403  101040     150   NaN   NaN     7.51    0.0     6.4 -10.0   0.4\n",
      "44      61972  2025-01-06 15:00:00  101090    60         5   20.0   6.4  31.10  26.10  75  27950.91  11   93.48     5  1403  101020     170   NaN   NaN     7.51    0.0     8.5 -10.0   0.0\n",
      "45      61976  2025-01-06 15:00:00  101340   140         3   90.0   3.2  28.80  23.20  72  27950.91  11   93.48     5  1403  101250      90   NaN   NaN     7.51    0.0     5.1 -10.0   0.0\n",
      "46      61980  2025-01-06 15:00:00  101520   140         3  100.0   6.7  27.90  24.90  84  18170.00   0   93.48     2   450  101370      80   NaN   NaN     7.51    9.4    11.1 -10.0  14.4\n",
      "47      61996  2025-01-06 15:00:00  101680    20         3  290.0   7.9  17.10  14.60  85  27950.91  11   93.48     5  1403  101340    -130   NaN   NaN     7.51    0.0    12.0 -10.0   0.0\n",
      "48      61997  2025-01-06 15:00:00   99690   120         3  260.0  15.0   6.60   3.00  78  27950.91  11   93.48     5  1403   97940     560   NaN   NaN     7.51    0.0    22.8 -10.0   0.0\n",
      "49      61998  2025-01-06 15:00:00   98960    40         0  100.0   5.7   8.80   5.00  77  27950.91  11   93.48     5  1403   98600      -6   NaN   NaN     7.51    0.0     8.7 -10.0   0.0\n",
      "50      67005  2025-01-06 15:00:00  101220    40         3   60.0   2.7  29.20  22.90  69  20000.00   0   93.48     0  1403  101140      60   NaN   NaN     7.51    4.2     6.0 -10.0   0.0\n",
      "51      71805  2025-01-06 15:00:00   96800   270         1  320.0   6.8   3.30   2.60  95  14060.00   0  100.00     8   450   96720     400   NaN   NaN     2.30   10.1    12.6 -10.0   3.4\n",
      "52      78890  2025-01-06 15:00:00  100311    40         0   70.0   9.2  29.20   8.72  74  27950.91  11   93.48     5  1403  101370      20   NaN   NaN     7.51    0.0     0.0 -10.0   0.0\n",
      "53      78897  2025-01-06 15:00:00  101700    20         0   70.0   6.8  28.50  18.30  54  27950.91  11   93.48     5  1403  101610      20   NaN   NaN     7.51    0.0     0.0   0.0   0.4\n",
      "54      78922  2025-01-06 15:00:00  101690    30         0   90.0   9.0  26.70  22.10  76  27950.91  11   93.48     5  1403  101240      10   NaN   NaN     7.51   12.5    12.5 -10.0   0.0\n",
      "55      78925  2025-01-06 15:00:00  101620    30         0   90.0   6.9  28.70  21.70  66  43380.00   0   90.00     7   800  101530       0   NaN   NaN     7.51   10.9    11.0 -10.0  -0.1\n",
      "56      81401  2025-01-06 15:00:00  101340    10         8   60.0   2.0  31.20  23.60  64  27950.91  11   93.48     5  1403  101280      30   NaN   NaN     7.51    5.9     8.5 -10.0   0.0\n",
      "57      81405  2025-01-06 15:00:00  101370    30         0   50.0   6.8  29.40  23.60  71  19950.00   0   90.00     5   800  101280      70   NaN   NaN    26.80   10.2    12.4 -10.0   2.0\n",
      "58      81408  2025-01-06 15:00:00  101280     0         0   40.0   4.0  30.00  23.90  70  27950.91  11   93.48     5  1403  101200      80   NaN   NaN     7.51    7.1     8.4 -10.0   1.2\n",
      "59      89642  2025-01-06 15:00:00   99920    40         3  270.0   4.6  -2.30  -7.00  67  27950.91  11   93.48     5  1403   99380      -6   NaN   NaN     7.51    0.0     0.0   0.0   0.0\n"
     ]
    }
   ],
   "source": [
    "df[double] = df[double].round(2)\n",
    "print(df.to_string())"
   ]
  },
  {
   "cell_type": "markdown",
   "metadata": {},
   "source": [
    "# Archive file"
   ]
  },
  {
   "cell_type": "code",
   "execution_count": 115,
   "metadata": {
    "execution": {
     "iopub.execute_input": "2024-12-27T21:20:22.043136Z",
     "iopub.status.busy": "2024-12-27T21:20:22.043066Z",
     "iopub.status.idle": "2024-12-27T21:20:22.044909Z",
     "shell.execute_reply": "2024-12-27T21:20:22.044702Z"
    }
   },
   "outputs": [
    {
     "name": "stdout",
     "output_type": "stream",
     "text": [
      "Le fichier a été déplacé de /Users/mamoudou/Developer/Python/ProjetTrutoré/synop.2025010615.csv à /Users/mamoudou/Developer/Python/ProjetTrutoré/archive/synop.2025010615.csv\n"
     ]
    }
   ],
   "source": [
    "from file_management import move_file\n",
    "\n",
    "move_file(cvs_file, ARCHIVE_DIRECTORY)"
   ]
  },
  {
   "cell_type": "markdown",
   "metadata": {},
   "source": [
    "# Sending data to API"
   ]
  },
  {
   "cell_type": "code",
   "execution_count": 116,
   "metadata": {},
   "outputs": [],
   "source": [
    "import json\n",
    "import requests\n",
    "from api import send_data"
   ]
  },
  {
   "cell_type": "code",
   "execution_count": 117,
   "metadata": {},
   "outputs": [
    {
     "name": "stdout",
     "output_type": "stream",
     "text": [
      "{\"numer_sta\": 7005, \"date\": \"2025-01-06 15:00:00\", \"pmer\": 99150, \"tend\": 550, \"cod_tend\": 1, \"dd\": 260.0, \"ff\": 8.2, \"t\": 7.2, \"td\": 4.5, \"u\": 83, \"vv\": 19970.0, \"ww\": 0, \"n\": 93.48, \"nbas\": 5, \"hbas\": 1403, \"pres\": 98290, \"tend24\": -70, \"tn12\": NaN, \"tx12\": NaN, \"tminsol\": 5.3, \"raf10\": 13.6, \"rafper\": 18.3, \"per\": -10.0, \"rr12\": 1.6}\n",
      "Erreur de connexion : HTTPSConnectionPool(host='127.0.0.1', port=8080): Max retries exceeded with url: /api/donnees_climatiques (Caused by NewConnectionError('<urllib3.connection.HTTPSConnection object at 0x11ab021f0>: Failed to establish a new connection: [Errno 61] Connection refused'))\n",
      "{\"numer_sta\": 7015, \"date\": \"2025-01-06 15:00:00\", \"pmer\": 99010, \"tend\": 740, \"cod_tend\": 1, \"dd\": 250.0, \"ff\": 10.8, \"t\": 6.9, \"td\": 3.0, \"u\": 76, \"vv\": 48900.0, \"ww\": 0, \"n\": 90.0, \"nbas\": 7, \"hbas\": 800, \"pres\": 98450, \"tend24\": -200, \"tn12\": NaN, \"tx12\": NaN, \"tminsol\": 5.2, \"raf10\": 15.6, \"rafper\": 21.2, \"per\": -10.0, \"rr12\": 2.4}\n",
      "Erreur de connexion : HTTPSConnectionPool(host='127.0.0.1', port=8080): Max retries exceeded with url: /api/donnees_climatiques (Caused by NewConnectionError('<urllib3.connection.HTTPSConnection object at 0x11a76db80>: Failed to establish a new connection: [Errno 61] Connection refused'))\n",
      "{\"numer_sta\": 7020, \"date\": \"2025-01-06 15:00:00\", \"pmer\": 99260, \"tend\": 190, \"cod_tend\": 1, \"dd\": 260.0, \"ff\": 13.8, \"t\": 8.0, \"td\": 2.0, \"u\": 66, \"vv\": 10000.0, \"ww\": 15, \"n\": 75.0, \"nbas\": 6, \"hbas\": 1250, \"pres\": 99150, \"tend24\": 430, \"tn12\": NaN, \"tx12\": NaN, \"tminsol\": 7.51, \"raf10\": 18.1, \"rafper\": 21.0, \"per\": -10.0, \"rr12\": 0.2}\n",
      "Erreur de connexion : HTTPSConnectionPool(host='127.0.0.1', port=8080): Max retries exceeded with url: /api/donnees_climatiques (Caused by NewConnectionError('<urllib3.connection.HTTPSConnection object at 0x11aa10d00>: Failed to establish a new connection: [Errno 61] Connection refused'))\n",
      "{\"numer_sta\": 7027, \"date\": \"2025-01-06 15:00:00\", \"pmer\": 99510, \"tend\": 280, \"cod_tend\": 3, \"dd\": 250.0, \"ff\": 8.6, \"t\": 6.0, \"td\": 3.2, \"u\": 82, \"vv\": 35460.0, \"ww\": 0, \"n\": 100.0, \"nbas\": 4, \"hbas\": 800, \"pres\": 98700, \"tend24\": 290, \"tn12\": NaN, \"tx12\": NaN, \"tminsol\": 7.2, \"raf10\": 12.6, \"rafper\": 19.4, \"per\": -10.0, \"rr12\": 3.6}\n",
      "Erreur de connexion : HTTPSConnectionPool(host='127.0.0.1', port=8080): Max retries exceeded with url: /api/donnees_climatiques (Caused by NewConnectionError('<urllib3.connection.HTTPSConnection object at 0x11a71d910>: Failed to establish a new connection: [Errno 61] Connection refused'))\n",
      "{\"numer_sta\": 7037, \"date\": \"2025-01-06 15:00:00\", \"pmer\": 99440, \"tend\": 450, \"cod_tend\": 1, \"dd\": 250.0, \"ff\": 8.6, \"t\": 7.5, \"td\": 2.6, \"u\": 71, \"vv\": 35560.0, \"ww\": 0, \"n\": 90.0, \"nbas\": 7, \"hbas\": 1250, \"pres\": 97570, \"tend24\": 40, \"tn12\": NaN, \"tx12\": NaN, \"tminsol\": 6.9, \"raf10\": 13.2, \"rafper\": 16.8, \"per\": -10.0, \"rr12\": 2.0}\n",
      "Erreur de connexion : HTTPSConnectionPool(host='127.0.0.1', port=8080): Max retries exceeded with url: /api/donnees_climatiques (Caused by NewConnectionError('<urllib3.connection.HTTPSConnection object at 0x11a79d430>: Failed to establish a new connection: [Errno 61] Connection refused'))\n",
      "{\"numer_sta\": 7072, \"date\": \"2025-01-06 15:00:00\", \"pmer\": 99480, \"tend\": 560, \"cod_tend\": 1, \"dd\": 240.0, \"ff\": 7.6, \"t\": 9.0, \"td\": 3.8, \"u\": 70, \"vv\": 20000.0, \"ww\": 0, \"n\": 90.0, \"nbas\": 4, \"hbas\": 1250, \"pres\": 98350, \"tend24\": -290, \"tn12\": NaN, \"tx12\": NaN, \"tminsol\": 7.2, \"raf10\": 12.9, \"rafper\": 13.2, \"per\": -10.0, \"rr12\": 3.4}\n",
      "Erreur de connexion : HTTPSConnectionPool(host='127.0.0.1', port=8080): Max retries exceeded with url: /api/donnees_climatiques (Caused by NewConnectionError('<urllib3.connection.HTTPSConnection object at 0x11a76d670>: Failed to establish a new connection: [Errno 61] Connection refused'))\n",
      "{\"numer_sta\": 7110, \"date\": \"2025-01-06 15:00:00\", \"pmer\": 99860, \"tend\": 200, \"cod_tend\": 3, \"dd\": 280.0, \"ff\": 7.4, \"t\": 6.8, \"td\": 3.4, \"u\": 79, \"vv\": 16950.0, \"ww\": 0, \"n\": 90.0, \"nbas\": 5, \"hbas\": 800, \"pres\": 98680, \"tend24\": 990, \"tn12\": NaN, \"tx12\": NaN, \"tminsol\": 5.1, \"raf10\": 13.4, \"rafper\": 18.8, \"per\": -10.0, \"rr12\": 3.2}\n",
      "Erreur de connexion : HTTPSConnectionPool(host='127.0.0.1', port=8080): Max retries exceeded with url: /api/donnees_climatiques (Caused by NewConnectionError('<urllib3.connection.HTTPSConnection object at 0x11833ad90>: Failed to establish a new connection: [Errno 61] Connection refused'))\n",
      "{\"numer_sta\": 7117, \"date\": \"2025-01-06 15:00:00\", \"pmer\": 99560, \"tend\": 110, \"cod_tend\": 3, \"dd\": 250.0, \"ff\": 9.6, \"t\": 8.3, \"td\": 3.3, \"u\": 71, \"vv\": 10000.0, \"ww\": 61, \"n\": 75.0, \"nbas\": 6, \"hbas\": 1250, \"pres\": 98860, \"tend24\": 730, \"tn12\": NaN, \"tx12\": NaN, \"tminsol\": 7.51, \"raf10\": 16.0, \"rafper\": 21.0, \"per\": -10.0, \"rr12\": 2.0}\n",
      "Erreur de connexion : HTTPSConnectionPool(host='127.0.0.1', port=8080): Max retries exceeded with url: /api/donnees_climatiques (Caused by NewConnectionError('<urllib3.connection.HTTPSConnection object at 0x11ac021f0>: Failed to establish a new connection: [Errno 61] Connection refused'))\n",
      "{\"numer_sta\": 7130, \"date\": \"2025-01-06 15:00:00\", \"pmer\": 99800, \"tend\": 140, \"cod_tend\": 1, \"dd\": 250.0, \"ff\": 6.0, \"t\": 9.5, \"td\": 2.3, \"u\": 61, \"vv\": 60000.0, \"ww\": 0, \"n\": 93.48, \"nbas\": 2, \"hbas\": 1250, \"pres\": 99360, \"tend24\": 490, \"tn12\": NaN, \"tx12\": NaN, \"tminsol\": 6.4, \"raf10\": 10.2, \"rafper\": 13.7, \"per\": -10.0, \"rr12\": 0.8}\n",
      "Erreur de connexion : HTTPSConnectionPool(host='127.0.0.1', port=8080): Max retries exceeded with url: /api/donnees_climatiques (Caused by NewConnectionError('<urllib3.connection.HTTPSConnection object at 0x11a9d0130>: Failed to establish a new connection: [Errno 61] Connection refused'))\n",
      "{\"numer_sta\": 7139, \"date\": \"2025-01-06 15:00:00\", \"pmer\": 99730, \"tend\": 310, \"cod_tend\": 2, \"dd\": 240.0, \"ff\": 7.2, \"t\": 8.2, \"td\": 2.6, \"u\": 68, \"vv\": 20000.0, \"ww\": 0, \"n\": 100.0, \"nbas\": 8, \"hbas\": 1250, \"pres\": 98000, \"tend24\": 190, \"tn12\": NaN, \"tx12\": NaN, \"tminsol\": 7.2, \"raf10\": 12.9, \"rafper\": 14.6, \"per\": -10.0, \"rr12\": 4.2}\n",
      "Erreur de connexion : HTTPSConnectionPool(host='127.0.0.1', port=8080): Max retries exceeded with url: /api/donnees_climatiques (Caused by NewConnectionError('<urllib3.connection.HTTPSConnection object at 0x11a774a00>: Failed to establish a new connection: [Errno 61] Connection refused'))\n",
      "{\"numer_sta\": 7149, \"date\": \"2025-01-06 15:00:00\", \"pmer\": 99650, \"tend\": 430, \"cod_tend\": 1, \"dd\": 240.0, \"ff\": 8.0, \"t\": 8.7, \"td\": 2.9, \"u\": 67, \"vv\": 20000.0, \"ww\": 25, \"n\": 90.0, \"nbas\": 6, \"hbas\": 1250, \"pres\": 98570, \"tend24\": -90, \"tn12\": NaN, \"tx12\": NaN, \"tminsol\": 7.51, \"raf10\": 13.4, \"rafper\": 14.7, \"per\": -10.0, \"rr12\": 1.4}\n",
      "Erreur de connexion : HTTPSConnectionPool(host='127.0.0.1', port=8080): Max retries exceeded with url: /api/donnees_climatiques (Caused by NewConnectionError('<urllib3.connection.HTTPSConnection object at 0x11ab0d9d0>: Failed to establish a new connection: [Errno 61] Connection refused'))\n",
      "{\"numer_sta\": 7168, \"date\": \"2025-01-06 15:00:00\", \"pmer\": 99770, \"tend\": 490, \"cod_tend\": 3, \"dd\": 250.0, \"ff\": 9.9, \"t\": 8.5, \"td\": 4.5, \"u\": 76, \"vv\": 20000.0, \"ww\": 0, \"n\": 75.0, \"nbas\": 6, \"hbas\": 800, \"pres\": 98360, \"tend24\": -180, \"tn12\": NaN, \"tx12\": NaN, \"tminsol\": 7.4, \"raf10\": 15.5, \"rafper\": 17.2, \"per\": -10.0, \"rr12\": 0.4}\n",
      "Erreur de connexion : HTTPSConnectionPool(host='127.0.0.1', port=8080): Max retries exceeded with url: /api/donnees_climatiques (Caused by NewConnectionError('<urllib3.connection.HTTPSConnection object at 0x11a76ddc0>: Failed to establish a new connection: [Errno 61] Connection refused'))\n",
      "{\"numer_sta\": 7181, \"date\": \"2025-01-06 15:00:00\", \"pmer\": 99560, \"tend\": 280, \"cod_tend\": 3, \"dd\": 250.0, \"ff\": 12.9, \"t\": 9.7, \"td\": 4.1, \"u\": 68, \"vv\": 57060.0, \"ww\": 0, \"n\": 100.0, \"nbas\": 8, \"hbas\": 800, \"pres\": 95470, \"tend24\": -490, \"tn12\": NaN, \"tx12\": NaN, \"tminsol\": 7.7, \"raf10\": 21.9, \"rafper\": 21.9, \"per\": -10.0, \"rr12\": -0.1}\n",
      "Erreur de connexion : HTTPSConnectionPool(host='127.0.0.1', port=8080): Max retries exceeded with url: /api/donnees_climatiques (Caused by NewConnectionError('<urllib3.connection.HTTPSConnection object at 0x11aa10d00>: Failed to establish a new connection: [Errno 61] Connection refused'))\n",
      "{\"numer_sta\": 7190, \"date\": \"2025-01-06 15:00:00\", \"pmer\": 99490, \"tend\": 110, \"cod_tend\": 3, \"dd\": 220.0, \"ff\": 7.5, \"t\": 14.1, \"td\": 7.2, \"u\": 63, \"vv\": 58960.0, \"ww\": 0, \"n\": 100.0, \"nbas\": 8, \"hbas\": 1750, \"pres\": 97730, \"tend24\": -600, \"tn12\": NaN, \"tx12\": NaN, \"tminsol\": 6.0, \"raf10\": 12.9, \"rafper\": 17.5, \"per\": -10.0, \"rr12\": 0.0}\n",
      "Erreur de connexion : HTTPSConnectionPool(host='127.0.0.1', port=8080): Max retries exceeded with url: /api/donnees_climatiques (Caused by NewConnectionError('<urllib3.connection.HTTPSConnection object at 0x11a9d0370>: Failed to establish a new connection: [Errno 61] Connection refused'))\n",
      "{\"numer_sta\": 7207, \"date\": \"2025-01-06 15:00:00\", \"pmer\": 100311, \"tend\": 159, \"cod_tend\": 2, \"dd\": 280.0, \"ff\": 13.6, \"t\": 8.0, \"td\": 8.72, \"u\": 74, \"vv\": 10000.0, \"ww\": 15, \"n\": 60.0, \"nbas\": 5, \"hbas\": 1250, \"pres\": 98773, \"tend24\": -6, \"tn12\": NaN, \"tx12\": NaN, \"tminsol\": 7.51, \"raf10\": 23.1, \"rafper\": 24.0, \"per\": -10.0, \"rr12\": 3.8}\n",
      "Erreur de connexion : HTTPSConnectionPool(host='127.0.0.1', port=8080): Max retries exceeded with url: /api/donnees_climatiques (Caused by NewConnectionError('<urllib3.connection.HTTPSConnection object at 0x11abb82e0>: Failed to establish a new connection: [Errno 61] Connection refused'))\n",
      "{\"numer_sta\": 7222, \"date\": \"2025-01-06 15:00:00\", \"pmer\": 100060, \"tend\": 170, \"cod_tend\": 3, \"dd\": 250.0, \"ff\": 5.8, \"t\": 7.1, \"td\": 4.6, \"u\": 84, \"vv\": 6490.0, \"ww\": 60, \"n\": 90.0, \"nbas\": 7, \"hbas\": 800, \"pres\": 99740, \"tend24\": 510, \"tn12\": NaN, \"tx12\": NaN, \"tminsol\": 7.6, \"raf10\": 11.6, \"rafper\": 13.7, \"per\": -10.0, \"rr12\": 3.6}\n",
      "Erreur de connexion : HTTPSConnectionPool(host='127.0.0.1', port=8080): Max retries exceeded with url: /api/donnees_climatiques (Caused by NewConnectionError('<urllib3.connection.HTTPSConnection object at 0x11abb8fa0>: Failed to establish a new connection: [Errno 61] Connection refused'))\n",
      "{\"numer_sta\": 7240, \"date\": \"2025-01-06 15:00:00\", \"pmer\": 100010, \"tend\": 320, \"cod_tend\": 2, \"dd\": 250.0, \"ff\": 6.7, \"t\": 9.1, \"td\": 2.2, \"u\": 62, \"vv\": 60000.0, \"ww\": 0, \"n\": 93.48, \"nbas\": 0, \"hbas\": 1403, \"pres\": 98670, \"tend24\": 180, \"tn12\": NaN, \"tx12\": NaN, \"tminsol\": 7.7, \"raf10\": 11.4, \"rafper\": 12.8, \"per\": -10.0, \"rr12\": 1.2}\n",
      "Erreur de connexion : HTTPSConnectionPool(host='127.0.0.1', port=8080): Max retries exceeded with url: /api/donnees_climatiques (Caused by NewConnectionError('<urllib3.connection.HTTPSConnection object at 0x11a9d0490>: Failed to establish a new connection: [Errno 61] Connection refused'))\n",
      "{\"numer_sta\": 7255, \"date\": \"2025-01-06 15:00:00\", \"pmer\": 100070, \"tend\": 310, \"cod_tend\": 3, \"dd\": 260.0, \"ff\": 6.4, \"t\": 9.3, \"td\": 3.7, \"u\": 68, \"vv\": 20000.0, \"ww\": 0, \"n\": 93.48, \"nbas\": 5, \"hbas\": 1403, \"pres\": 98090, \"tend24\": -10, \"tn12\": NaN, \"tx12\": NaN, \"tminsol\": 7.9, \"raf10\": 12.8, \"rafper\": 16.5, \"per\": -10.0, \"rr12\": 0.4}\n",
      "Erreur de connexion : HTTPSConnectionPool(host='127.0.0.1', port=8080): Max retries exceeded with url: /api/donnees_climatiques (Caused by NewConnectionError('<urllib3.connection.HTTPSConnection object at 0x11aa0ba90>: Failed to establish a new connection: [Errno 61] Connection refused'))\n",
      "{\"numer_sta\": 7280, \"date\": \"2025-01-06 15:00:00\", \"pmer\": 99920, \"tend\": 220, \"cod_tend\": 3, \"dd\": 230.0, \"ff\": 5.7, \"t\": 10.7, \"td\": 6.8, \"u\": 77, \"vv\": 59820.0, \"ww\": 0, \"n\": 100.0, \"nbas\": 1, \"hbas\": 800, \"pres\": 97330, \"tend24\": -370, \"tn12\": NaN, \"tx12\": NaN, \"tminsol\": 8.5, \"raf10\": 10.2, \"rafper\": 14.6, \"per\": -10.0, \"rr12\": 1.2}\n",
      "Erreur de connexion : HTTPSConnectionPool(host='127.0.0.1', port=8080): Max retries exceeded with url: /api/donnees_climatiques (Caused by NewConnectionError('<urllib3.connection.HTTPSConnection object at 0x11ac2b520>: Failed to establish a new connection: [Errno 61] Connection refused'))\n",
      "{\"numer_sta\": 7299, \"date\": \"2025-01-06 15:00:00\", \"pmer\": 99800, \"tend\": 130, \"cod_tend\": 3, \"dd\": 200.0, \"ff\": 4.9, \"t\": 13.0, \"td\": 6.1, \"u\": 63, \"vv\": 60000.0, \"ww\": 0, \"n\": 100.0, \"nbas\": 8, \"hbas\": 1750, \"pres\": 96620, \"tend24\": -550, \"tn12\": NaN, \"tx12\": NaN, \"tminsol\": 2.3, \"raf10\": 9.6, \"rafper\": 18.5, \"per\": -10.0, \"rr12\": -0.1}\n",
      "Erreur de connexion : HTTPSConnectionPool(host='127.0.0.1', port=8080): Max retries exceeded with url: /api/donnees_climatiques (Caused by NewConnectionError('<urllib3.connection.HTTPSConnection object at 0x11abadfd0>: Failed to establish a new connection: [Errno 61] Connection refused'))\n",
      "{\"numer_sta\": 7314, \"date\": \"2025-01-06 15:00:00\", \"pmer\": 100350, \"tend\": 190, \"cod_tend\": 3, \"dd\": 270.0, \"ff\": 9.3, \"t\": 11.2, \"td\": 5.7, \"u\": 69, \"vv\": 27950.91, \"ww\": 11, \"n\": 93.48, \"nbas\": 5, \"hbas\": 1403, \"pres\": 100070, \"tend24\": 590, \"tn12\": NaN, \"tx12\": NaN, \"tminsol\": 7.51, \"raf10\": 13.6, \"rafper\": 15.7, \"per\": -10.0, \"rr12\": 1.4}\n",
      "Erreur de connexion : HTTPSConnectionPool(host='127.0.0.1', port=8080): Max retries exceeded with url: /api/donnees_climatiques (Caused by NewConnectionError('<urllib3.connection.HTTPSConnection object at 0x11a9dd280>: Failed to establish a new connection: [Errno 61] Connection refused'))\n",
      "{\"numer_sta\": 7335, \"date\": \"2025-01-06 15:00:00\", \"pmer\": 100250, \"tend\": 270, \"cod_tend\": 3, \"dd\": 260.0, \"ff\": 6.6, \"t\": 9.7, \"td\": 3.0, \"u\": 63, \"vv\": 32840.0, \"ww\": 0, \"n\": 93.48, \"nbas\": 1, \"hbas\": 6780, \"pres\": 98810, \"tend24\": 260, \"tn12\": NaN, \"tx12\": NaN, \"tminsol\": 8.7, \"raf10\": 10.6, \"rafper\": 12.1, \"per\": -10.0, \"rr12\": 1.8}\n",
      "Erreur de connexion : HTTPSConnectionPool(host='127.0.0.1', port=8080): Max retries exceeded with url: /api/donnees_climatiques (Caused by NewConnectionError('<urllib3.connection.HTTPSConnection object at 0x11a70fe80>: Failed to establish a new connection: [Errno 61] Connection refused'))\n",
      "{\"numer_sta\": 7434, \"date\": \"2025-01-06 15:00:00\", \"pmer\": 100420, \"tend\": 260, \"cod_tend\": 3, \"dd\": 240.0, \"ff\": 6.2, \"t\": 6.7, \"td\": 4.2, \"u\": 84, \"vv\": 13340.0, \"ww\": 61, \"n\": 100.0, \"nbas\": 6, \"hbas\": 450, \"pres\": 95640, \"tend24\": 140, \"tn12\": NaN, \"tx12\": NaN, \"tminsol\": 7.5, \"raf10\": 11.0, \"rafper\": 11.0, \"per\": -10.0, \"rr12\": 1.6}\n",
      "Erreur de connexion : HTTPSConnectionPool(host='127.0.0.1', port=8080): Max retries exceeded with url: /api/donnees_climatiques (Caused by NewConnectionError('<urllib3.connection.HTTPSConnection object at 0x11a544190>: Failed to establish a new connection: [Errno 61] Connection refused'))\n",
      "{\"numer_sta\": 7460, \"date\": \"2025-01-06 15:00:00\", \"pmer\": 100190, \"tend\": 170, \"cod_tend\": 3, \"dd\": 260.0, \"ff\": 6.6, \"t\": 11.9, \"td\": 2.6, \"u\": 53, \"vv\": 35440.0, \"ww\": 0, \"n\": 100.0, \"nbas\": 1, \"hbas\": 1250, \"pres\": 96320, \"tend24\": -100, \"tn12\": NaN, \"tx12\": NaN, \"tminsol\": 9.0, \"raf10\": 10.9, \"rafper\": 12.0, \"per\": -10.0, \"rr12\": -0.1}\n",
      "Erreur de connexion : HTTPSConnectionPool(host='127.0.0.1', port=8080): Max retries exceeded with url: /api/donnees_climatiques (Caused by NewConnectionError('<urllib3.connection.HTTPSConnection object at 0x11a76d400>: Failed to establish a new connection: [Errno 61] Connection refused'))\n",
      "{\"numer_sta\": 7471, \"date\": \"2025-01-06 15:00:00\", \"pmer\": 100311, \"tend\": 110, \"cod_tend\": 3, \"dd\": 260.0, \"ff\": 5.4, \"t\": 6.9, \"td\": 3.9, \"u\": 81, \"vv\": 12570.0, \"ww\": 61, \"n\": 100.0, \"nbas\": 8, \"hbas\": 450, \"pres\": 90740, \"tend24\": -400, \"tn12\": NaN, \"tx12\": NaN, \"tminsol\": 4.6, \"raf10\": 10.6, \"rafper\": 12.8, \"per\": -10.0, \"rr12\": 0.8}\n",
      "Erreur de connexion : HTTPSConnectionPool(host='127.0.0.1', port=8080): Max retries exceeded with url: /api/donnees_climatiques (Caused by NewConnectionError('<urllib3.connection.HTTPSConnection object at 0x11abdbdf0>: Failed to establish a new connection: [Errno 61] Connection refused'))\n",
      "{\"numer_sta\": 7481, \"date\": \"2025-01-06 15:00:00\", \"pmer\": 100110, \"tend\": 40, \"cod_tend\": 3, \"dd\": 190.0, \"ff\": 10.3, \"t\": 12.6, \"td\": 8.5, \"u\": 76, \"vv\": 30000.0, \"ww\": 2, \"n\": 100.0, \"nbas\": 5, \"hbas\": 1250, \"pres\": 97300, \"tend24\": -540, \"tn12\": NaN, \"tx12\": NaN, \"tminsol\": 7.51, \"raf10\": 14.7, \"rafper\": 18.1, \"per\": -10.0, \"rr12\": 0.2}\n",
      "Erreur de connexion : HTTPSConnectionPool(host='127.0.0.1', port=8080): Max retries exceeded with url: /api/donnees_climatiques (Caused by NewConnectionError('<urllib3.connection.HTTPSConnection object at 0x11a9d0d90>: Failed to establish a new connection: [Errno 61] Connection refused'))\n",
      "{\"numer_sta\": 7510, \"date\": \"2025-01-06 15:00:00\", \"pmer\": 100580, \"tend\": 180, \"cod_tend\": 3, \"dd\": 290.0, \"ff\": 4.7, \"t\": 11.6, \"td\": 5.0, \"u\": 64, \"vv\": 19310.0, \"ww\": 0, \"n\": 100.0, \"nbas\": 5, \"hbas\": 1250, \"pres\": 100010, \"tend24\": 510, \"tn12\": NaN, \"tx12\": NaN, \"tminsol\": 7.1, \"raf10\": 7.0, \"rafper\": 10.1, \"per\": -10.0, \"rr12\": 1.4}\n",
      "Erreur de connexion : HTTPSConnectionPool(host='127.0.0.1', port=8080): Max retries exceeded with url: /api/donnees_climatiques (Caused by NewConnectionError('<urllib3.connection.HTTPSConnection object at 0x11a9dd670>: Failed to establish a new connection: [Errno 61] Connection refused'))\n",
      "{\"numer_sta\": 7535, \"date\": \"2025-01-06 15:00:00\", \"pmer\": 100570, \"tend\": 180, \"cod_tend\": 3, \"dd\": 270.0, \"ff\": 2.5, \"t\": 9.9, \"td\": 6.1, \"u\": 77, \"vv\": 18010.0, \"ww\": 0, \"n\": 93.48, \"nbas\": 4, \"hbas\": 1250, \"pres\": 97470, \"tend24\": 160, \"tn12\": NaN, \"tx12\": NaN, \"tminsol\": 8.3, \"raf10\": 7.3, \"rafper\": 8.8, \"per\": -10.0, \"rr12\": -0.1}\n",
      "Erreur de connexion : HTTPSConnectionPool(host='127.0.0.1', port=8080): Max retries exceeded with url: /api/donnees_climatiques (Caused by NewConnectionError('<urllib3.connection.HTTPSConnection object at 0x11a774e80>: Failed to establish a new connection: [Errno 61] Connection refused'))\n",
      "{\"numer_sta\": 7558, \"date\": \"2025-01-06 15:00:00\", \"pmer\": 100480, \"tend\": 140, \"cod_tend\": 3, \"dd\": 290.0, \"ff\": 6.2, \"t\": 7.6, \"td\": 4.2, \"u\": 79, \"vv\": 20000.0, \"ww\": 0, \"n\": 93.48, \"nbas\": 5, \"hbas\": 1403, \"pres\": 92230, \"tend24\": -190, \"tn12\": NaN, \"tx12\": NaN, \"tminsol\": 5.8, \"raf10\": 11.4, \"rafper\": 13.7, \"per\": -10.0, \"rr12\": -0.1}\n",
      "Erreur de connexion : HTTPSConnectionPool(host='127.0.0.1', port=8080): Max retries exceeded with url: /api/donnees_climatiques (Caused by NewConnectionError('<urllib3.connection.HTTPSConnection object at 0x11a9d0610>: Failed to establish a new connection: [Errno 61] Connection refused'))\n",
      "{\"numer_sta\": 7577, \"date\": \"2025-01-06 15:00:00\", \"pmer\": 100340, \"tend\": -30, \"cod_tend\": 5, \"dd\": 190.0, \"ff\": 4.1, \"t\": 12.1, \"td\": 10.8, \"u\": 92, \"vv\": 6860.0, \"ww\": 63, \"n\": 93.48, \"nbas\": 5, \"hbas\": 1403, \"pres\": 99460, \"tend24\": -670, \"tn12\": NaN, \"tx12\": NaN, \"tminsol\": 9.9, \"raf10\": 7.2, \"rafper\": 10.7, \"per\": -10.0, \"rr12\": 13.0}\n",
      "Erreur de connexion : HTTPSConnectionPool(host='127.0.0.1', port=8080): Max retries exceeded with url: /api/donnees_climatiques (Caused by NewConnectionError('<urllib3.connection.HTTPSConnection object at 0x11abc3730>: Failed to establish a new connection: [Errno 61] Connection refused'))\n",
      "{\"numer_sta\": 7591, \"date\": \"2025-01-06 15:00:00\", \"pmer\": 100311, \"tend\": 90, \"cod_tend\": 6, \"dd\": 250.0, \"ff\": 1.6, \"t\": 6.0, \"td\": 4.8, \"u\": 92, \"vv\": 27950.91, \"ww\": 11, \"n\": 93.48, \"nbas\": 5, \"hbas\": 1403, \"pres\": 90610, \"tend24\": -590, \"tn12\": NaN, \"tx12\": NaN, \"tminsol\": 7.51, \"raf10\": 2.4, \"rafper\": 4.1, \"per\": -10.0, \"rr12\": 2.4}\n",
      "Erreur de connexion : HTTPSConnectionPool(host='127.0.0.1', port=8080): Max retries exceeded with url: /api/donnees_climatiques (Caused by NewConnectionError('<urllib3.connection.HTTPSConnection object at 0x11abb3f70>: Failed to establish a new connection: [Errno 61] Connection refused'))\n",
      "{\"numer_sta\": 7607, \"date\": \"2025-01-06 15:00:00\", \"pmer\": 100740, \"tend\": 180, \"cod_tend\": 3, \"dd\": 240.0, \"ff\": 2.9, \"t\": 10.8, \"td\": 9.4, \"u\": 91, \"vv\": 16780.0, \"ww\": 0, \"n\": 100.0, \"nbas\": 7, \"hbas\": 450, \"pres\": 100030, \"tend24\": 420, \"tn12\": NaN, \"tx12\": NaN, \"tminsol\": 7.7, \"raf10\": 4.6, \"rafper\": 5.2, \"per\": -10.0, \"rr12\": 4.0}\n",
      "Erreur de connexion : HTTPSConnectionPool(host='127.0.0.1', port=8080): Max retries exceeded with url: /api/donnees_climatiques (Caused by NewConnectionError('<urllib3.connection.HTTPSConnection object at 0x11a544880>: Failed to establish a new connection: [Errno 61] Connection refused'))\n",
      "{\"numer_sta\": 7621, \"date\": \"2025-01-06 15:00:00\", \"pmer\": 100900, \"tend\": 150, \"cod_tend\": 1, \"dd\": 240.0, \"ff\": 2.7, \"t\": 6.6, \"td\": 5.4, \"u\": 92, \"vv\": 6620.0, \"ww\": 61, \"n\": 100.0, \"nbas\": 8, \"hbas\": 800, \"pres\": 96550, \"tend24\": 450, \"tn12\": NaN, \"tx12\": NaN, \"tminsol\": 1.7, \"raf10\": 4.9, \"rafper\": 6.5, \"per\": -10.0, \"rr12\": 7.7}\n",
      "Erreur de connexion : HTTPSConnectionPool(host='127.0.0.1', port=8080): Max retries exceeded with url: /api/donnees_climatiques (Caused by NewConnectionError('<urllib3.connection.HTTPSConnection object at 0x11a9ddaf0>: Failed to establish a new connection: [Errno 61] Connection refused'))\n",
      "{\"numer_sta\": 7627, \"date\": \"2025-01-06 15:00:00\", \"pmer\": 100950, \"tend\": 230, \"cod_tend\": 3, \"dd\": 320.0, \"ff\": 2.5, \"t\": 6.4, \"td\": 5.5, \"u\": 94, \"vv\": 14650.0, \"ww\": 61, \"n\": 100.0, \"nbas\": 8, \"hbas\": 450, \"pres\": 96000, \"tend24\": 470, \"tn12\": NaN, \"tx12\": NaN, \"tminsol\": 5.8, \"raf10\": 4.8, \"rafper\": 10.6, \"per\": -10.0, \"rr12\": 3.0}\n",
      "Erreur de connexion : HTTPSConnectionPool(host='127.0.0.1', port=8080): Max retries exceeded with url: /api/donnees_climatiques (Caused by NewConnectionError('<urllib3.connection.HTTPSConnection object at 0x11ab02070>: Failed to establish a new connection: [Errno 61] Connection refused'))\n",
      "{\"numer_sta\": 7630, \"date\": \"2025-01-06 15:00:00\", \"pmer\": 100740, \"tend\": 160, \"cod_tend\": 3, \"dd\": 240.0, \"ff\": 5.9, \"t\": 9.1, \"td\": 6.7, \"u\": 85, \"vv\": 43540.0, \"ww\": 0, \"n\": 100.0, \"nbas\": 1, \"hbas\": 1250, \"pres\": 98940, \"tend24\": 270, \"tn12\": NaN, \"tx12\": NaN, \"tminsol\": 5.7, \"raf10\": 8.6, \"rafper\": 10.7, \"per\": -10.0, \"rr12\": 0.4}\n",
      "Erreur de connexion : HTTPSConnectionPool(host='127.0.0.1', port=8080): Max retries exceeded with url: /api/donnees_climatiques (Caused by NewConnectionError('<urllib3.connection.HTTPSConnection object at 0x11ac3b2e0>: Failed to establish a new connection: [Errno 61] Connection refused'))\n",
      "{\"numer_sta\": 7643, \"date\": \"2025-01-06 15:00:00\", \"pmer\": 100320, \"tend\": 50, \"cod_tend\": 3, \"dd\": 70.0, \"ff\": 2.1, \"t\": 15.9, \"td\": 12.5, \"u\": 80, \"vv\": 14860.0, \"ww\": 0, \"n\": 100.0, \"nbas\": 8, \"hbas\": 2250, \"pres\": 100230, \"tend24\": -630, \"tn12\": NaN, \"tx12\": NaN, \"tminsol\": 11.3, \"raf10\": 2.8, \"rafper\": 3.2, \"per\": -10.0, \"rr12\": 0.0}\n",
      "Erreur de connexion : HTTPSConnectionPool(host='127.0.0.1', port=8080): Max retries exceeded with url: /api/donnees_climatiques (Caused by NewConnectionError('<urllib3.connection.HTTPSConnection object at 0x11a76d6d0>: Failed to establish a new connection: [Errno 61] Connection refused'))\n",
      "{\"numer_sta\": 7650, \"date\": \"2025-01-06 15:00:00\", \"pmer\": 100410, \"tend\": -100, \"cod_tend\": 6, \"dd\": 140.0, \"ff\": 7.1, \"t\": 15.2, \"td\": 11.4, \"u\": 78, \"vv\": 19320.0, \"ww\": 0, \"n\": 90.0, \"nbas\": 5, \"hbas\": 800, \"pres\": 100030, \"tend24\": -730, \"tn12\": NaN, \"tx12\": NaN, \"tminsol\": 12.3, \"raf10\": 10.9, \"rafper\": 14.1, \"per\": -10.0, \"rr12\": 0.6}\n",
      "Erreur de connexion : HTTPSConnectionPool(host='127.0.0.1', port=8080): Max retries exceeded with url: /api/donnees_climatiques (Caused by NewConnectionError('<urllib3.connection.HTTPSConnection object at 0x11ac1f550>: Failed to establish a new connection: [Errno 61] Connection refused'))\n",
      "{\"numer_sta\": 7661, \"date\": \"2025-01-06 15:00:00\", \"pmer\": 100311, \"tend\": 159, \"cod_tend\": 2, \"dd\": 170.0, \"ff\": 6.6, \"t\": 13.53, \"td\": 8.72, \"u\": 74, \"vv\": 27950.91, \"ww\": 11, \"n\": 93.48, \"nbas\": 5, \"hbas\": 1403, \"pres\": 98773, \"tend24\": -6, \"tn12\": NaN, \"tx12\": NaN, \"tminsol\": 7.51, \"raf10\": 9.7, \"rafper\": 9.7, \"per\": -10.0, \"rr12\": 0.0}\n",
      "Erreur de connexion : HTTPSConnectionPool(host='127.0.0.1', port=8080): Max retries exceeded with url: /api/donnees_climatiques (Caused by NewConnectionError('<urllib3.connection.HTTPSConnection object at 0x11a9d0bb0>: Failed to establish a new connection: [Errno 61] Connection refused'))\n",
      "{\"numer_sta\": 7690, \"date\": \"2025-01-06 15:00:00\", \"pmer\": 100780, \"tend\": -60, \"cod_tend\": 6, \"dd\": 340.0, \"ff\": 4.0, \"t\": 11.5, \"td\": 9.7, \"u\": 89, \"vv\": 30000.0, \"ww\": 21, \"n\": 100.0, \"nbas\": 7, \"hbas\": 450, \"pres\": 100470, \"tend24\": -710, \"tn12\": NaN, \"tx12\": NaN, \"tminsol\": 9.1, \"raf10\": 5.8, \"rafper\": 9.0, \"per\": -10.0, \"rr12\": 5.7}\n",
      "Erreur de connexion : HTTPSConnectionPool(host='127.0.0.1', port=8080): Max retries exceeded with url: /api/donnees_climatiques (Caused by NewConnectionError('<urllib3.connection.HTTPSConnection object at 0x11a9dd550>: Failed to establish a new connection: [Errno 61] Connection refused'))\n",
      "{\"numer_sta\": 7747, \"date\": \"2025-01-06 15:00:00\", \"pmer\": 100430, \"tend\": 130, \"cod_tend\": 1, \"dd\": 310.0, \"ff\": 6.9, \"t\": 13.3, \"td\": 6.2, \"u\": 62, \"vv\": 60000.0, \"ww\": 0, \"n\": 90.0, \"nbas\": 1, \"hbas\": 800, \"pres\": 99910, \"tend24\": -240, \"tn12\": NaN, \"tx12\": NaN, \"tminsol\": 5.7, \"raf10\": 12.3, \"rafper\": 13.5, \"per\": -10.0, \"rr12\": 0.0}\n",
      "Erreur de connexion : HTTPSConnectionPool(host='127.0.0.1', port=8080): Max retries exceeded with url: /api/donnees_climatiques (Caused by NewConnectionError('<urllib3.connection.HTTPSConnection object at 0x11a774dc0>: Failed to establish a new connection: [Errno 61] Connection refused'))\n",
      "{\"numer_sta\": 7761, \"date\": \"2025-01-06 15:00:00\", \"pmer\": 100980, \"tend\": -100, \"cod_tend\": 6, \"dd\": 70.0, \"ff\": 0.6, \"t\": 15.9, \"td\": 7.4, \"u\": 57, \"vv\": 51050.0, \"ww\": 0, \"n\": 93.48, \"nbas\": 3, \"hbas\": 6480, \"pres\": 100870, \"tend24\": -740, \"tn12\": NaN, \"tx12\": NaN, \"tminsol\": 7.0, \"raf10\": 1.2, \"rafper\": 2.5, \"per\": -10.0, \"rr12\": 0.0}\n",
      "Erreur de connexion : HTTPSConnectionPool(host='127.0.0.1', port=8080): Max retries exceeded with url: /api/donnees_climatiques (Caused by NewConnectionError('<urllib3.connection.HTTPSConnection object at 0x11a9d0970>: Failed to establish a new connection: [Errno 61] Connection refused'))\n",
      "{\"numer_sta\": 7790, \"date\": \"2025-01-06 15:00:00\", \"pmer\": 100860, \"tend\": -120, \"cod_tend\": 6, \"dd\": 330.0, \"ff\": 2.7, \"t\": 13.0, \"td\": 9.1, \"u\": 77, \"vv\": 19920.0, \"ww\": 0, \"n\": 100.0, \"nbas\": 8, \"hbas\": 5340, \"pres\": 100720, \"tend24\": -760, \"tn12\": NaN, \"tx12\": NaN, \"tminsol\": 8.4, \"raf10\": 4.0, \"rafper\": 4.3, \"per\": -10.0, \"rr12\": 0.0}\n",
      "Erreur de connexion : HTTPSConnectionPool(host='127.0.0.1', port=8080): Max retries exceeded with url: /api/donnees_climatiques (Caused by NewConnectionError('<urllib3.connection.HTTPSConnection object at 0x11aa10310>: Failed to establish a new connection: [Errno 61] Connection refused'))\n",
      "{\"numer_sta\": 61968, \"date\": \"2025-01-06 15:00:00\", \"pmer\": 101210, \"tend\": 60, \"cod_tend\": 3, \"dd\": 80.0, \"ff\": 2.1, \"t\": 13.53, \"td\": 8.72, \"u\": 74, \"vv\": 27950.91, \"ww\": 11, \"n\": 93.48, \"nbas\": 5, \"hbas\": 1403, \"pres\": 101160, \"tend24\": 70, \"tn12\": NaN, \"tx12\": NaN, \"tminsol\": 7.51, \"raf10\": 0.0, \"rafper\": 4.8, \"per\": -10.0, \"rr12\": 0.0}\n",
      "Erreur de connexion : HTTPSConnectionPool(host='127.0.0.1', port=8080): Max retries exceeded with url: /api/donnees_climatiques (Caused by NewConnectionError('<urllib3.connection.HTTPSConnection object at 0x11ab0d9d0>: Failed to establish a new connection: [Errno 61] Connection refused'))\n",
      "{\"numer_sta\": 61970, \"date\": \"2025-01-06 15:00:00\", \"pmer\": 101150, \"tend\": 70, \"cod_tend\": 5, \"dd\": 40.0, \"ff\": 3.1, \"t\": 30.8, \"td\": 25.2, \"u\": 72, \"vv\": 27950.91, \"ww\": 11, \"n\": 93.48, \"nbas\": 5, \"hbas\": 1403, \"pres\": 101040, \"tend24\": 150, \"tn12\": NaN, \"tx12\": NaN, \"tminsol\": 7.51, \"raf10\": 0.0, \"rafper\": 6.4, \"per\": -10.0, \"rr12\": 0.4}\n",
      "Erreur de connexion : HTTPSConnectionPool(host='127.0.0.1', port=8080): Max retries exceeded with url: /api/donnees_climatiques (Caused by NewConnectionError('<urllib3.connection.HTTPSConnection object at 0x11a544880>: Failed to establish a new connection: [Errno 61] Connection refused'))\n",
      "{\"numer_sta\": 61972, \"date\": \"2025-01-06 15:00:00\", \"pmer\": 101090, \"tend\": 60, \"cod_tend\": 5, \"dd\": 20.0, \"ff\": 6.4, \"t\": 31.1, \"td\": 26.1, \"u\": 75, \"vv\": 27950.91, \"ww\": 11, \"n\": 93.48, \"nbas\": 5, \"hbas\": 1403, \"pres\": 101020, \"tend24\": 170, \"tn12\": NaN, \"tx12\": NaN, \"tminsol\": 7.51, \"raf10\": 0.0, \"rafper\": 8.5, \"per\": -10.0, \"rr12\": 0.0}\n",
      "Erreur de connexion : HTTPSConnectionPool(host='127.0.0.1', port=8080): Max retries exceeded with url: /api/donnees_climatiques (Caused by NewConnectionError('<urllib3.connection.HTTPSConnection object at 0x11a9dd670>: Failed to establish a new connection: [Errno 61] Connection refused'))\n",
      "{\"numer_sta\": 61976, \"date\": \"2025-01-06 15:00:00\", \"pmer\": 101340, \"tend\": 140, \"cod_tend\": 3, \"dd\": 90.0, \"ff\": 3.2, \"t\": 28.8, \"td\": 23.2, \"u\": 72, \"vv\": 27950.91, \"ww\": 11, \"n\": 93.48, \"nbas\": 5, \"hbas\": 1403, \"pres\": 101250, \"tend24\": 90, \"tn12\": NaN, \"tx12\": NaN, \"tminsol\": 7.51, \"raf10\": 0.0, \"rafper\": 5.1, \"per\": -10.0, \"rr12\": 0.0}\n",
      "Erreur de connexion : HTTPSConnectionPool(host='127.0.0.1', port=8080): Max retries exceeded with url: /api/donnees_climatiques (Caused by NewConnectionError('<urllib3.connection.HTTPSConnection object at 0x11ab3a070>: Failed to establish a new connection: [Errno 61] Connection refused'))\n",
      "{\"numer_sta\": 61980, \"date\": \"2025-01-06 15:00:00\", \"pmer\": 101520, \"tend\": 140, \"cod_tend\": 3, \"dd\": 100.0, \"ff\": 6.7, \"t\": 27.9, \"td\": 24.9, \"u\": 84, \"vv\": 18170.0, \"ww\": 0, \"n\": 93.48, \"nbas\": 2, \"hbas\": 450, \"pres\": 101370, \"tend24\": 80, \"tn12\": NaN, \"tx12\": NaN, \"tminsol\": 7.51, \"raf10\": 9.4, \"rafper\": 11.1, \"per\": -10.0, \"rr12\": 14.4}\n",
      "Erreur de connexion : HTTPSConnectionPool(host='127.0.0.1', port=8080): Max retries exceeded with url: /api/donnees_climatiques (Caused by NewConnectionError('<urllib3.connection.HTTPSConnection object at 0x11abadbe0>: Failed to establish a new connection: [Errno 61] Connection refused'))\n",
      "{\"numer_sta\": 61996, \"date\": \"2025-01-06 15:00:00\", \"pmer\": 101680, \"tend\": 20, \"cod_tend\": 3, \"dd\": 290.0, \"ff\": 7.9, \"t\": 17.1, \"td\": 14.6, \"u\": 85, \"vv\": 27950.91, \"ww\": 11, \"n\": 93.48, \"nbas\": 5, \"hbas\": 1403, \"pres\": 101340, \"tend24\": -130, \"tn12\": NaN, \"tx12\": NaN, \"tminsol\": 7.51, \"raf10\": 0.0, \"rafper\": 12.0, \"per\": -10.0, \"rr12\": 0.0}\n",
      "Erreur de connexion : HTTPSConnectionPool(host='127.0.0.1', port=8080): Max retries exceeded with url: /api/donnees_climatiques (Caused by NewConnectionError('<urllib3.connection.HTTPSConnection object at 0x11a76dd30>: Failed to establish a new connection: [Errno 61] Connection refused'))\n",
      "{\"numer_sta\": 61997, \"date\": \"2025-01-06 15:00:00\", \"pmer\": 99690, \"tend\": 120, \"cod_tend\": 3, \"dd\": 260.0, \"ff\": 15.0, \"t\": 6.6, \"td\": 3.0, \"u\": 78, \"vv\": 27950.91, \"ww\": 11, \"n\": 93.48, \"nbas\": 5, \"hbas\": 1403, \"pres\": 97940, \"tend24\": 560, \"tn12\": NaN, \"tx12\": NaN, \"tminsol\": 7.51, \"raf10\": 0.0, \"rafper\": 22.8, \"per\": -10.0, \"rr12\": 0.0}\n",
      "Erreur de connexion : HTTPSConnectionPool(host='127.0.0.1', port=8080): Max retries exceeded with url: /api/donnees_climatiques (Caused by NewConnectionError('<urllib3.connection.HTTPSConnection object at 0x11abdbdf0>: Failed to establish a new connection: [Errno 61] Connection refused'))\n",
      "{\"numer_sta\": 61998, \"date\": \"2025-01-06 15:00:00\", \"pmer\": 98960, \"tend\": 40, \"cod_tend\": 0, \"dd\": 100.0, \"ff\": 5.7, \"t\": 8.8, \"td\": 5.0, \"u\": 77, \"vv\": 27950.91, \"ww\": 11, \"n\": 93.48, \"nbas\": 5, \"hbas\": 1403, \"pres\": 98600, \"tend24\": -6, \"tn12\": NaN, \"tx12\": NaN, \"tminsol\": 7.51, \"raf10\": 0.0, \"rafper\": 8.7, \"per\": -10.0, \"rr12\": 0.0}\n",
      "Erreur de connexion : HTTPSConnectionPool(host='127.0.0.1', port=8080): Max retries exceeded with url: /api/donnees_climatiques (Caused by NewConnectionError('<urllib3.connection.HTTPSConnection object at 0x11a9d0b50>: Failed to establish a new connection: [Errno 61] Connection refused'))\n",
      "{\"numer_sta\": 67005, \"date\": \"2025-01-06 15:00:00\", \"pmer\": 101220, \"tend\": 40, \"cod_tend\": 3, \"dd\": 60.0, \"ff\": 2.7, \"t\": 29.2, \"td\": 22.9, \"u\": 69, \"vv\": 20000.0, \"ww\": 0, \"n\": 93.48, \"nbas\": 0, \"hbas\": 1403, \"pres\": 101140, \"tend24\": 60, \"tn12\": NaN, \"tx12\": NaN, \"tminsol\": 7.51, \"raf10\": 4.2, \"rafper\": 6.0, \"per\": -10.0, \"rr12\": 0.0}\n",
      "Erreur de connexion : HTTPSConnectionPool(host='127.0.0.1', port=8080): Max retries exceeded with url: /api/donnees_climatiques (Caused by NewConnectionError('<urllib3.connection.HTTPSConnection object at 0x11a9dd220>: Failed to establish a new connection: [Errno 61] Connection refused'))\n",
      "{\"numer_sta\": 71805, \"date\": \"2025-01-06 15:00:00\", \"pmer\": 96800, \"tend\": 270, \"cod_tend\": 1, \"dd\": 320.0, \"ff\": 6.8, \"t\": 3.3, \"td\": 2.6, \"u\": 95, \"vv\": 14060.0, \"ww\": 0, \"n\": 100.0, \"nbas\": 8, \"hbas\": 450, \"pres\": 96720, \"tend24\": 400, \"tn12\": NaN, \"tx12\": NaN, \"tminsol\": 2.3, \"raf10\": 10.1, \"rafper\": 12.6, \"per\": -10.0, \"rr12\": 3.4}\n",
      "Erreur de connexion : HTTPSConnectionPool(host='127.0.0.1', port=8080): Max retries exceeded with url: /api/donnees_climatiques (Caused by NewConnectionError('<urllib3.connection.HTTPSConnection object at 0x11a7741f0>: Failed to establish a new connection: [Errno 61] Connection refused'))\n",
      "{\"numer_sta\": 78890, \"date\": \"2025-01-06 15:00:00\", \"pmer\": 100311, \"tend\": 40, \"cod_tend\": 0, \"dd\": 70.0, \"ff\": 9.2, \"t\": 29.2, \"td\": 8.72, \"u\": 74, \"vv\": 27950.91, \"ww\": 11, \"n\": 93.48, \"nbas\": 5, \"hbas\": 1403, \"pres\": 101370, \"tend24\": 20, \"tn12\": NaN, \"tx12\": NaN, \"tminsol\": 7.51, \"raf10\": 0.0, \"rafper\": 0.0, \"per\": -10.0, \"rr12\": 0.0}\n",
      "Erreur de connexion : HTTPSConnectionPool(host='127.0.0.1', port=8080): Max retries exceeded with url: /api/donnees_climatiques (Caused by NewConnectionError('<urllib3.connection.HTTPSConnection object at 0x11a9d0b20>: Failed to establish a new connection: [Errno 61] Connection refused'))\n",
      "{\"numer_sta\": 78897, \"date\": \"2025-01-06 15:00:00\", \"pmer\": 101700, \"tend\": 20, \"cod_tend\": 0, \"dd\": 70.0, \"ff\": 6.8, \"t\": 28.5, \"td\": 18.3, \"u\": 54, \"vv\": 27950.91, \"ww\": 11, \"n\": 93.48, \"nbas\": 5, \"hbas\": 1403, \"pres\": 101610, \"tend24\": 20, \"tn12\": NaN, \"tx12\": NaN, \"tminsol\": 7.51, \"raf10\": 0.0, \"rafper\": 0.0, \"per\": 0.0, \"rr12\": 0.4}\n",
      "Erreur de connexion : HTTPSConnectionPool(host='127.0.0.1', port=8080): Max retries exceeded with url: /api/donnees_climatiques (Caused by NewConnectionError('<urllib3.connection.HTTPSConnection object at 0x11aba7c70>: Failed to establish a new connection: [Errno 61] Connection refused'))\n",
      "{\"numer_sta\": 78922, \"date\": \"2025-01-06 15:00:00\", \"pmer\": 101690, \"tend\": 30, \"cod_tend\": 0, \"dd\": 90.0, \"ff\": 9.0, \"t\": 26.7, \"td\": 22.1, \"u\": 76, \"vv\": 27950.91, \"ww\": 11, \"n\": 93.48, \"nbas\": 5, \"hbas\": 1403, \"pres\": 101240, \"tend24\": 10, \"tn12\": NaN, \"tx12\": NaN, \"tminsol\": 7.51, \"raf10\": 12.5, \"rafper\": 12.5, \"per\": -10.0, \"rr12\": 0.0}\n",
      "Erreur de connexion : HTTPSConnectionPool(host='127.0.0.1', port=8080): Max retries exceeded with url: /api/donnees_climatiques (Caused by NewConnectionError('<urllib3.connection.HTTPSConnection object at 0x11ac2b520>: Failed to establish a new connection: [Errno 61] Connection refused'))\n",
      "{\"numer_sta\": 78925, \"date\": \"2025-01-06 15:00:00\", \"pmer\": 101620, \"tend\": 30, \"cod_tend\": 0, \"dd\": 90.0, \"ff\": 6.9, \"t\": 28.7, \"td\": 21.7, \"u\": 66, \"vv\": 43380.0, \"ww\": 0, \"n\": 90.0, \"nbas\": 7, \"hbas\": 800, \"pres\": 101530, \"tend24\": 0, \"tn12\": NaN, \"tx12\": NaN, \"tminsol\": 7.51, \"raf10\": 10.9, \"rafper\": 11.0, \"per\": -10.0, \"rr12\": -0.1}\n",
      "Erreur de connexion : HTTPSConnectionPool(host='127.0.0.1', port=8080): Max retries exceeded with url: /api/donnees_climatiques (Caused by NewConnectionError('<urllib3.connection.HTTPSConnection object at 0x11a559d30>: Failed to establish a new connection: [Errno 61] Connection refused'))\n",
      "{\"numer_sta\": 81401, \"date\": \"2025-01-06 15:00:00\", \"pmer\": 101340, \"tend\": 10, \"cod_tend\": 8, \"dd\": 60.0, \"ff\": 2.0, \"t\": 31.2, \"td\": 23.6, \"u\": 64, \"vv\": 27950.91, \"ww\": 11, \"n\": 93.48, \"nbas\": 5, \"hbas\": 1403, \"pres\": 101280, \"tend24\": 30, \"tn12\": NaN, \"tx12\": NaN, \"tminsol\": 7.51, \"raf10\": 5.9, \"rafper\": 8.5, \"per\": -10.0, \"rr12\": 0.0}\n",
      "Erreur de connexion : HTTPSConnectionPool(host='127.0.0.1', port=8080): Max retries exceeded with url: /api/donnees_climatiques (Caused by NewConnectionError('<urllib3.connection.HTTPSConnection object at 0x11a9dd400>: Failed to establish a new connection: [Errno 61] Connection refused'))\n",
      "{\"numer_sta\": 81405, \"date\": \"2025-01-06 15:00:00\", \"pmer\": 101370, \"tend\": 30, \"cod_tend\": 0, \"dd\": 50.0, \"ff\": 6.8, \"t\": 29.4, \"td\": 23.6, \"u\": 71, \"vv\": 19950.0, \"ww\": 0, \"n\": 90.0, \"nbas\": 5, \"hbas\": 800, \"pres\": 101280, \"tend24\": 70, \"tn12\": NaN, \"tx12\": NaN, \"tminsol\": 26.8, \"raf10\": 10.2, \"rafper\": 12.4, \"per\": -10.0, \"rr12\": 2.0}\n",
      "Erreur de connexion : HTTPSConnectionPool(host='127.0.0.1', port=8080): Max retries exceeded with url: /api/donnees_climatiques (Caused by NewConnectionError('<urllib3.connection.HTTPSConnection object at 0x11a544ee0>: Failed to establish a new connection: [Errno 61] Connection refused'))\n",
      "{\"numer_sta\": 81408, \"date\": \"2025-01-06 15:00:00\", \"pmer\": 101280, \"tend\": 0, \"cod_tend\": 0, \"dd\": 40.0, \"ff\": 4.0, \"t\": 30.0, \"td\": 23.9, \"u\": 70, \"vv\": 27950.91, \"ww\": 11, \"n\": 93.48, \"nbas\": 5, \"hbas\": 1403, \"pres\": 101200, \"tend24\": 80, \"tn12\": NaN, \"tx12\": NaN, \"tminsol\": 7.51, \"raf10\": 7.1, \"rafper\": 8.4, \"per\": -10.0, \"rr12\": 1.2}\n",
      "Erreur de connexion : HTTPSConnectionPool(host='127.0.0.1', port=8080): Max retries exceeded with url: /api/donnees_climatiques (Caused by NewConnectionError('<urllib3.connection.HTTPSConnection object at 0x11abb3f70>: Failed to establish a new connection: [Errno 61] Connection refused'))\n",
      "{\"numer_sta\": 89642, \"date\": \"2025-01-06 15:00:00\", \"pmer\": 99920, \"tend\": 40, \"cod_tend\": 3, \"dd\": 270.0, \"ff\": 4.6, \"t\": -2.3, \"td\": -7.0, \"u\": 67, \"vv\": 27950.91, \"ww\": 11, \"n\": 93.48, \"nbas\": 5, \"hbas\": 1403, \"pres\": 99380, \"tend24\": -6, \"tn12\": NaN, \"tx12\": NaN, \"tminsol\": 7.51, \"raf10\": 0.0, \"rafper\": 0.0, \"per\": 0.0, \"rr12\": 0.0}\n",
      "Erreur de connexion : HTTPSConnectionPool(host='127.0.0.1', port=8080): Max retries exceeded with url: /api/donnees_climatiques (Caused by NewConnectionError('<urllib3.connection.HTTPSConnection object at 0x11ab8ab80>: Failed to establish a new connection: [Errno 61] Connection refused'))\n"
     ]
    }
   ],
   "source": [
    "API_URL = \"https://127.0.0.1:8080/api/donnees_climatiques\" \n",
    "dict_data = df.to_dict(orient=\"records\")\n",
    "for row in dict_data:\n",
    "    send_data(API_URL, row, requests)"
   ]
  },
  {
   "cell_type": "code",
   "execution_count": 118,
   "metadata": {},
   "outputs": [
    {
     "name": "stdout",
     "output_type": "stream",
     "text": [
      "Requête réussie!\n"
     ]
    },
    {
     "data": {
      "text/plain": [
       "[{'id': 20,\n",
       "  'name': 'Essai',\n",
       "  'description': 'Superbe desc',\n",
       "  'price': 122.2,\n",
       "  'createdAt': '2024-12-22T16:44:44+00:00',\n",
       "  'updatedAt': '2024-12-22T16:44:44+00:00'}]"
      ]
     },
     "execution_count": 118,
     "metadata": {},
     "output_type": "execute_result"
    }
   ],
   "source": [
    "url_api = \"https://127.0.0.1:8000/product\" \n",
    "donnees = {\n",
    "    \"name\": \"Essai\",\n",
    "    \"description\": \"Superbe desc\",\n",
    "    \"price\": 122.2,\n",
    "    'createdAt': '2024-12-22T16:44:44+00:00',\n",
    "    'updatedAt': '2024-12-22T16:44:44+00:00'\n",
    "}\n",
    "\n",
    "send_data(url_api, donnees, requests)\n"
   ]
  }
 ],
 "metadata": {
  "kernelspec": {
   "display_name": ".venv",
   "language": "python",
   "name": "python3"
  },
  "language_info": {
   "codemirror_mode": {
    "name": "ipython",
    "version": 3
   },
   "file_extension": ".py",
   "mimetype": "text/x-python",
   "name": "python",
   "nbconvert_exporter": "python",
   "pygments_lexer": "ipython3",
   "version": "3.9.6"
  }
 },
 "nbformat": 4,
 "nbformat_minor": 2
}
