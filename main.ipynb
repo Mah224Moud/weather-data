{
 "cells": [
  {
   "cell_type": "code",
   "execution_count": 64,
   "metadata": {
    "execution": {
     "iopub.execute_input": "2024-12-27T21:20:13.304931Z",
     "iopub.status.busy": "2024-12-27T21:20:13.304639Z",
     "iopub.status.idle": "2024-12-27T21:20:13.356412Z",
     "shell.execute_reply": "2024-12-27T21:20:13.356133Z"
    }
   },
   "outputs": [],
   "source": [
    "import time\n",
    "from selenium import webdriver\n",
    "from selenium.webdriver.chrome.service import Service\n",
    "from selenium.webdriver.chrome.options import Options\n",
    "from selenium.webdriver.common.by import By"
   ]
  },
  {
   "cell_type": "markdown",
   "metadata": {},
   "source": [
    "# CONSTS"
   ]
  },
  {
   "cell_type": "code",
   "execution_count": 65,
   "metadata": {
    "execution": {
     "iopub.execute_input": "2024-12-27T21:20:13.375424Z",
     "iopub.status.busy": "2024-12-27T21:20:13.375314Z",
     "iopub.status.idle": "2024-12-27T21:20:13.377059Z",
     "shell.execute_reply": "2024-12-27T21:20:13.376842Z"
    }
   },
   "outputs": [],
   "source": [
    "CHROME_DRIVER_PATH = \"./chromedriver-linux/chromedriver\"\n",
    "BRAVE_PATH = \"/usr/bin/brave-browser\"\n",
    "DOWNLOAD_DIRECTORY = \"/home/etudiant/dossier_partage/donnees-meteo/\"\n",
    "ARCHIVE_DIRECTORY = \"/home/etudiant/dossier_partage/donnees-meteo/archive\"\n",
    "URL = \"https://donneespubliques.meteofrance.fr/?fond=produit&id_produit=90&id_rubrique=32\""
   ]
  },
  {
   "cell_type": "markdown",
   "metadata": {},
   "source": [
    "## Browser Configs"
   ]
  },
  {
   "cell_type": "code",
   "execution_count": 66,
   "metadata": {
    "execution": {
     "iopub.execute_input": "2024-12-27T21:20:13.378233Z",
     "iopub.status.busy": "2024-12-27T21:20:13.378161Z",
     "iopub.status.idle": "2024-12-27T21:20:13.379973Z",
     "shell.execute_reply": "2024-12-27T21:20:13.379754Z"
    }
   },
   "outputs": [],
   "source": [
    "options = Options()\n",
    "options.binary_location = BRAVE_PATH  \n",
    "\n",
    "prefs = {\n",
    "    \"download.default_directory\": DOWNLOAD_DIRECTORY,\n",
    "    \"download.prompt_for_download\": False,\n",
    "    \"download.directory_upgrade\": True,\n",
    "    \"safebrowsing.enabled\": True \n",
    "}\n",
    "options.add_experimental_option(\"prefs\", prefs)"
   ]
  },
  {
   "cell_type": "code",
   "execution_count": 67,
   "metadata": {
    "execution": {
     "iopub.execute_input": "2024-12-27T21:20:13.381099Z",
     "iopub.status.busy": "2024-12-27T21:20:13.381029Z",
     "iopub.status.idle": "2024-12-27T21:20:21.811021Z",
     "shell.execute_reply": "2024-12-27T21:20:21.810565Z"
    }
   },
   "outputs": [
    {
     "name": "stdout",
     "output_type": "stream",
     "text": [
      "Page Title: Données Publiques de Météo-France - Données SYNOP essentielles OMM\n"
     ]
    }
   ],
   "source": [
    "service = Service(executable_path=CHROME_DRIVER_PATH)\n",
    "\n",
    "driver = webdriver.Chrome(service=service, options=options)\n",
    "\n",
    "\n",
    "\n",
    "driver.get(URL)\n",
    "print(\"Page Title:\", driver.title)\n",
    "telecharger_button = driver.find_element(By.XPATH, \"//input[@type='submit' and @value='Télécharger']\")\n",
    "telecharger_button.click()\n",
    "\n",
    "time.sleep(5)\n",
    "driver.quit()"
   ]
  },
  {
   "cell_type": "markdown",
   "metadata": {},
   "source": [
    "## Fixing the file extension problem"
   ]
  },
  {
   "cell_type": "code",
   "execution_count": 68,
   "metadata": {
    "execution": {
     "iopub.execute_input": "2024-12-27T21:20:21.813181Z",
     "iopub.status.busy": "2024-12-27T21:20:21.812889Z",
     "iopub.status.idle": "2024-12-27T21:20:21.815660Z",
     "shell.execute_reply": "2024-12-27T21:20:21.815407Z"
    }
   },
   "outputs": [
    {
     "name": "stdout",
     "output_type": "stream",
     "text": [
      "Le fichier a été renommé : /home/etudiant/dossier_partage/donnees-meteo/synop.2025012012.txt -> /home/etudiant/dossier_partage/donnees-meteo/synop.2025012012.csv\n"
     ]
    }
   ],
   "source": [
    "from file_management import change_file_extension\n",
    "\n",
    "cvs_file = change_file_extension(DOWNLOAD_DIRECTORY)"
   ]
  },
  {
   "cell_type": "markdown",
   "metadata": {},
   "source": [
    "# Starting the ELT"
   ]
  },
  {
   "cell_type": "code",
   "execution_count": 69,
   "metadata": {
    "execution": {
     "iopub.execute_input": "2024-12-27T21:20:21.816963Z",
     "iopub.status.busy": "2024-12-27T21:20:21.816850Z",
     "iopub.status.idle": "2024-12-27T21:20:21.965899Z",
     "shell.execute_reply": "2024-12-27T21:20:21.965638Z"
    }
   },
   "outputs": [
    {
     "name": "stdout",
     "output_type": "stream",
     "text": [
      "    numer_sta            date    pmer  tend cod_tend   dd    ff           t          td    u     vv  ww  w1  w2    n nbas  hbas  cl  cm  ch    pres niv_bar geop tend24        tn12        tn24 tx12        tx24     tminsol  sw  tw      raf10     rafper  per etat_sol  ht_neige    ssfrai perssfrai        rr1        rr3        rr6       rr12       rr24 phenspe1 phenspe2 phenspe3 phenspe4 nnuage1 ctype1 hnuage1 nnuage2 ctype2 hnuage2 nnuage3 ctype3 hnuage3 nnuage4 ctype4 hnuage4  Unnamed: 59\n",
      "0        7005  20250120120000  101990   -50        8  140   2.0  276.450000  273.650000   82   8480   0  mq  mq   mq   mq    mq  mq  mq  mq  101090      mq   mq   -240          mq          mq   mq          mq  273.150000  mq  mq   3.900000   5.600000  -10        0  0.000000        mq        mq   0.000000   0.000000   0.000000   0.000000   0.000000       mq       mq       mq       mq      mq     mq      mq      mq     mq      mq      mq     mq      mq      mq     mq      mq          NaN\n",
      "1        7015  20250120120000  102020   -40        8  150   2.6  273.350000  273.350000  100    640  45  mq  mq  101    9    30  mq  mq  mq  101420      mq   mq   -280          mq          mq   mq          mq  273.250000  mq  mq   3.700000   3.700000  -10        0  0.000000        mq        mq   0.000000   0.000000   0.000000   0.000000   0.000000       mq       mq       mq       mq       0      0      mq      mq     mq      mq      mq     mq      mq      mq     mq      mq          NaN\n",
      "2        7020  20250120120000  101920    70        1  100   3.9  277.950000  275.850000   86     mq  mq  mq  mq   mq   mq    mq  mq  mq  mq  101810      mq   mq    -60          mq          mq   mq          mq          mq  mq  mq   6.500000   7.900000  -10       mq        mq        mq        mq   0.000000   0.000000   0.000000   0.000000   0.000000       mq       mq       mq       mq      mq     mq      mq      mq     mq      mq      mq     mq      mq      mq     mq      mq          NaN\n",
      "3        7027  20250120120000  101930   -20        8  130   5.0  275.350000  273.850000   90   6840   0  mq  mq  100    8   250  mq  mq  mq  101090      mq   mq   -240          mq          mq   mq          mq  275.350000  mq  mq   6.900000   8.100000  -10        0  0.000000        mq        mq   0.000000   0.000000   0.000000   0.000000   0.000000       mq       mq       mq       mq       8     mq     210      mq     mq      mq      mq     mq      mq      mq     mq      mq          NaN\n",
      "4        7037  20250120120000  102000   -30        8  130   2.6  274.250000  272.750000   90  10380   0  mq  mq  100    8   250  mq  mq  mq  100030      mq   mq   -230          mq          mq   mq          mq  275.450000  mq  mq   4.200000   5.000000  -10       mq  0.000000        mq        mq   0.000000   0.000000   0.000000   0.000000   0.000000       mq       mq       mq       mq       8     mq     240      mq     mq      mq      mq     mq      mq      mq     mq      mq          NaN\n",
      "5        7072  20250120120000  102100    10        0  160   1.5  271.250000  270.950000   98    480  48  mq  mq  100    8    80  mq  mq  mq  100890      mq   mq   -210          mq          mq   mq          mq  272.650000  mq  mq   2.800000   4.100000  -10        0  0.000000        mq        mq   0.000000   0.000000   0.000000   0.000000   0.000000       mq       mq       mq       mq       8     mq      60      mq     mq      mq      mq     mq      mq      mq     mq      mq          NaN\n",
      "6        7110  20250120120000  101680    10        0   70   1.8  282.350000  276.150000   65  19230   0  mq  mq   mq    0    mq  mq  mq  mq  100490      mq   mq   -120          mq          mq   mq          mq  270.650000  mq  mq   2.800000   3.600000  -10        0  0.000000        mq        mq   0.000000   0.200000   0.200000   0.200000   0.600000       mq       mq       mq       mq      mq     mq      mq      mq     mq      mq      mq     mq      mq      mq     mq      mq          NaN\n",
      "7        7117  20250120120000  101780   -10        8   90   4.5  276.150000  276.150000  100   6000   2   2  mq  100    8  1250  36  mq  mq  101060      mq   mq    -50          mq          mq   mq          mq          mq  mq  mq   7.600000   8.100000  -10        1        mq        mq        mq   0.000000   0.200000   0.200000   0.200000   0.200000       mq       mq       mq       mq       8      7    1000      mq     mq      mq      mq     mq      mq      mq     mq      mq          NaN\n",
      "8        7130  20250120120000  101860     0        0  140   3.6  274.750000  273.250000   90  14060   0  mq  mq  100    8   250  mq  mq  mq  101390      mq   mq   -230          mq          mq   mq          mq  273.250000  mq  mq   5.400000   6.300000  -10        0  0.000000        mq        mq   0.000000   0.000000   0.000000   0.000000   0.000000       mq       mq       mq       mq       8     mq     210      mq     mq      mq      mq     mq      mq      mq     mq      mq          NaN\n",
      "9        7139  20250120120000  101960   -40        8   90   2.6  272.750000  272.050000   95   9740   0  mq  mq  100    8   150  mq  mq  mq  100130      mq   mq   -260          mq          mq   mq          mq  276.550000  mq  mq   4.400000   5.100000  -10        0  0.000000        mq        mq   0.000000   0.000000   0.000000   0.000000   0.000000       mq       mq       mq       mq       8     mq     150      mq     mq      mq      mq     mq      mq      mq     mq      mq          NaN\n",
      "10       7149  20250120120000  102060   -20        8   70   2.2  271.350000  270.750000   96   4000  20   7   2  100    8   150  36  mq  mq  100910      mq   mq   -260          mq          mq   mq          mq          mq  mq  mq   3.700000   5.000000  -10        0  0.000000  0.000000       -60  -0.100000  -0.100000  -0.100000  -0.100000  -0.100000       mq       mq       mq       mq       8      7     110      mq     mq      mq      mq     mq      mq      mq     mq      mq          NaN\n",
      "11       7181  20250120120000  102080   -50        8   80   2.0  273.450000  272.550000   94   7990   0  mq  mq  100    8  3960  mq  mq  mq   97740      mq   mq   -190          mq          mq   mq          mq  268.550000  mq  mq   3.100000   3.100000  -10       mq        mq        mq        mq   0.000000   0.000000   0.000000   0.000000   0.000000       mq       mq       mq       mq       8     mq    3960      mq     mq      mq      mq     mq      mq      mq     mq      mq          NaN\n",
      "12       7190  20250120120000  102200   -10        8  300   0.6  272.550000  272.250000   98    810  48  mq  mq  100    8    80  mq  mq  mq  100290      mq   mq    -90          mq          mq   mq          mq  272.550000  mq  mq   2.000000   2.600000  -10        0  0.000000        mq        mq   0.000000   0.000000   0.000000   0.000000   0.000000       mq       mq       mq       mq       8     mq      60      mq     mq      mq      mq     mq      mq      mq     mq      mq          NaN\n",
      "13       7207  20250120120000      mq    mq       mq   70   6.2  275.250000          mq   mq   6000   2   2  mq  100    8   150  36  mq  mq      mq      mq   mq     mq          mq          mq   mq          mq          mq  mq  mq   9.000000  12.400000  -10        0        mq        mq        mq   0.000000   0.000000   0.000000   0.000000   0.000000       mq       mq       mq       mq       8      7     100      mq     mq      mq      mq     mq      mq      mq     mq      mq          NaN\n",
      "14       7222  20250120120000  101770    30        0   60   4.1  272.950000  271.850000   92   7210   0  mq  mq  100    8   150  mq  mq  mq  101440      mq   mq   -370          mq          mq   mq          mq  273.850000  mq  mq   6.000000   7.000000  -10        0  0.000000        mq        mq   0.000000   0.000000   0.000000   0.000000   0.000000       mq       mq       mq       mq       8     mq     180      mq     mq      mq      mq     mq      mq      mq     mq      mq          NaN\n",
      "15       7240  20250120120000  101920   -20        8   60   1.9  273.650000  272.750000   94   9560   0  mq  mq  100    8   150  mq  mq  mq  100510      mq   mq   -310          mq          mq   mq          mq  274.450000  mq  mq   3.400000   3.600000  -10        0  0.000000        mq        mq   0.000000   0.000000   0.000000   0.000000   0.000000       mq       mq       mq       mq       8     mq     180      mq     mq      mq      mq     mq      mq      mq     mq      mq          NaN\n",
      "16       7255  20250120120000  101940     0        0  130   2.2  274.650000  273.950000   95  10480   0  mq  mq   mq   mq    mq  mq  mq  mq   99870      mq   mq   -350          mq          mq   mq          mq  273.150000  mq  mq   3.100000   4.300000  -10       mq  0.000000        mq        mq   0.000000   0.000000   0.000000   0.000000   0.000000       mq       mq       mq       mq      mq     mq      mq      mq     mq      mq      mq     mq      mq      mq     mq      mq          NaN\n",
      "17       7280  20250120120000  102140   -10        0   30   1.5  271.650000  271.350000   98   2000  10  mq  mq  100    8    80  mq  mq  mq   99370      mq   mq   -220          mq          mq   mq          mq  271.650000  mq  mq   2.600000   2.600000  -10        0  0.000000        mq        mq   0.000000   0.000000   0.000000   0.000000   0.000000       mq       mq       mq       mq       8     mq      90      mq     mq      mq      mq     mq      mq      mq     mq      mq          NaN\n",
      "18       7299  20250120120000  102050   -70        8  350   2.1  277.650000  273.250000   73   9610   0  mq  mq   mq    0    mq  mq  mq  mq   98700      mq   mq   -140          mq          mq   mq          mq  273.850000  mq  mq   3.600000   3.900000  -10        0  0.000000        mq        mq   0.000000   0.000000   0.000000   0.000000   0.000000       mq       mq       mq       mq      mq     mq      mq      mq     mq      mq      mq     mq      mq      mq     mq      mq          NaN\n",
      "19       7314  20250120120000  101670    40        0   80   4.2  280.650000  277.450000   80     mq  mq   0  mq   mq   mq    mq  mq  mq  mq  101390      mq   mq   -420          mq          mq   mq          mq          mq  mq  mq   7.200000   7.200000  -10       mq        mq        mq        mq   0.000000   0.000000   0.000000   0.000000   0.000000       mq       mq       mq       mq      mq     mq      mq      mq     mq      mq      mq     mq      mq      mq     mq      mq          NaN\n",
      "20       7335  20250120120000  101840     0        0  100   1.6  276.350000  274.550000   88  11020   0  mq  mq   mq    0    mq  mq  mq  mq  100350      mq   mq   -380          mq          mq   mq          mq  275.950000  mq  mq   3.300000   3.300000  -10        0  0.000000        mq        mq   0.000000   0.000000   0.000000   0.000000   0.000000       mq       mq       mq       mq      mq     mq      mq      mq     mq      mq      mq     mq      mq      mq     mq      mq          NaN\n",
      "21       7434  20250120120000  101700    10        0  160   4.4  282.950000  277.150000   67  29140   0  mq  mq   mq    1  1250  mq  mq  mq   96910      mq   mq   -300          mq          mq   mq          mq  274.950000  mq  mq   7.600000   7.600000  -10        0  0.000000        mq        mq   0.000000   0.000000   0.000000   0.000000   0.000000       mq       mq       mq       mq       1     mq    1170       5     mq    5700       5     mq    6360      mq     mq      mq          NaN\n",
      "22       7460  20250120120000  101900   -10        8   50   1.5  276.750000  273.950000   82   3900  10  mq  mq  100    8  2250  mq  mq  mq   97850      mq   mq   -240          mq          mq   mq          mq  269.650000  mq  mq   2.500000   2.500000  -10        0  0.000000        mq        mq   0.000000   0.000000  -0.100000  -0.100000  -0.100000       mq       mq       mq       mq       2     mq    2280       7     mq    2580       8     mq    3180      mq     mq      mq          NaN\n",
      "23       7471  20250120120000      mq   -20        8  130   2.2  279.650000  273.750000   66  20000   0  mq  mq  100    1   800  mq  mq  mq   92050   92500  793   -180          mq          mq   mq          mq  271.650000  mq  mq   6.100000   6.100000  -10        0  0.000000        mq        mq   0.000000   0.000000  -0.100000  -0.100000  -0.100000       mq       mq       mq       mq       1     mq     900       8     mq    2580      mq     mq      mq      mq     mq      mq          NaN\n",
      "24       7481  20250120120000  102060   -30        8  170   0.6  274.750000  274.150000   96   4000  10   2   2   90    5   150  36  23  mq   99080      mq   mq   -230          mq          mq   mq          mq          mq  mq  mq   1.300000   3.600000  -10        1  0.000000  0.000000       -60   0.000000   0.000000   0.000000   0.000000   0.000000       mq       mq       mq       mq       5      7     150       7      3    3200      mq     mq      mq      mq     mq      mq          NaN\n",
      "25       7510  20250120120000  101620   -20        8  140   4.2  280.850000  277.950000   82  19660   0  mq  mq  100    8  1250  mq  mq  mq  101030      mq   mq   -470          mq          mq   mq          mq  270.250000  mq  mq   6.200000   7.100000  -10        1  0.000000        mq        mq  -0.100000   0.200000   0.200000   0.200000   0.200000       mq       mq       mq       mq       6     mq    1200       8     mq    1500      mq     mq      mq      mq     mq      mq          NaN\n",
      "26       7535  20250120120000  101700     0        0  130   1.6  283.150000  278.350000   72  20000   0  mq  mq   mq    0    mq  mq  mq  mq   98570      mq   mq   -330          mq          mq   mq          mq  275.150000  mq  mq   2.900000   2.900000  -10        0  0.000000        mq        mq   0.000000   0.000000   0.000000   0.000000   0.000000       mq       mq       mq       mq      mq     mq      mq      mq     mq      mq      mq     mq      mq      mq     mq      mq          NaN\n",
      "27       7558  20250120120000  101780    20        0  130   7.9  278.250000  276.750000   90  20000  61  mq  mq   mq   mq    mq  mq  mq  mq   93350      mq   mq   -190          mq          mq   mq          mq  275.050000  mq  mq  14.000000  14.400000  -10       mq  0.000000        mq        mq  -0.100000  -0.100000  -0.100000  -0.100000  -0.100000       mq       mq       mq       mq      mq     mq      mq      mq     mq      mq      mq     mq      mq      mq     mq      mq          NaN\n",
      "28       7577  20250120120000  101960   -70        8  350   1.1  280.750000  274.550000   65   7770   0  mq  mq   mq   mq    mq  mq  mq  mq  101050      mq   mq   -190          mq          mq   mq          mq  274.150000  mq  mq   2.100000   2.600000  -10        0  0.000000        mq        mq   0.000000   0.000000   0.000000   0.000000   0.000000       mq       mq       mq       mq      mq     mq      mq      mq     mq      mq      mq     mq      mq      mq     mq      mq          NaN\n",
      "29       7591  20250120120000      mq   130        8   50   7.8  283.550000  269.050000   36     mq  mq  mq  mq   mq   mq    mq  mq  mq  mq   91540   92500  787   -250          mq  278.450000   mq  283.850000          mq  mq  mq  12.900000  16.500000  -10       mq  0.000000        mq        mq   0.000000   0.000000   0.000000   0.000000   0.000000       mq       mq       mq       mq      mq     mq      mq      mq     mq      mq      mq     mq      mq      mq     mq      mq          NaN\n",
      "30       7607  20250120120000  101640     0        0  120   1.8  280.750000  279.650000   93  17200   0  mq  mq  100    8  1250  mq  mq  mq  100920      mq   mq   -340          mq          mq   mq          mq  274.850000  mq  mq   2.600000   3.000000  -10       mq        mq        mq        mq  -0.100000   0.800000   2.200000   2.400000   2.400000       mq       mq       mq       mq       7     mq    1260       8     mq    1440      mq     mq      mq      mq     mq      mq          NaN\n",
      "31       7621  20250120120000  101610    80        0  330   1.3  283.250000  273.850000   52  35280   0  mq  mq  100    8  2250  mq  mq  mq   97280      mq   mq   -240          mq          mq   mq          mq  271.150000  mq  mq   2.400000   4.600000  -10        0  0.000000        mq        mq   0.000000   0.000000   0.000000   0.000000   0.000000       mq       mq       mq       mq       5     mq    2280       5     mq    2580       8     mq    3180      mq     mq      mq          NaN\n",
      "32       7627  20250120120000  101600    60        0  320   3.1  281.450000  271.350000   49  20000   0  mq  mq   25    2  3170  mq  mq  mq   96650      mq   mq   -300          mq  271.950000   mq  284.450000  273.050000  mq  mq   5.700000   5.900000  -10        0        mq        mq        mq         mq         mq         mq         mq         mq       mq       mq       mq       mq       2     mq    3170      mq     mq      mq      mq     mq      mq      mq     mq      mq          NaN\n",
      "33       7630  20250120120000  101630    10        0  130   4.9  283.650000  280.150000   79  15330   0  mq  mq  100    8   800  mq  mq  mq   99820      mq   mq   -400          mq          mq   mq          mq  273.250000  mq  mq   9.600000   9.600000  -10        0  0.000000        mq        mq   0.000000   0.000000  -0.100000  -0.100000  -0.100000       mq       mq       mq       mq       8     mq     600      mq     mq      mq      mq     mq      mq      mq     mq      mq          NaN\n",
      "34       7643  20250120120000  101860   -40        8   50   3.7  282.650000  278.850000   77  16530   0  mq  mq  100    6   800  mq  mq  mq  101760      mq   mq   -180          mq          mq   mq          mq  276.950000  mq  mq   5.400000   5.700000  -10       mq  0.000000        mq        mq  -0.100000  -0.100000  -0.100000  -0.100000  -0.100000       mq       mq       mq       mq       5     mq     930       6     mq    1320       8     mq    1620      mq      8      mq          NaN\n",
      "35       7650  20250120120000  101840   -80        8  310   1.3  284.050000  280.150000   77  21130   0  mq  mq   90    1  1250  mq  mq  mq  101450      mq   mq   -160          mq          mq   mq          mq  277.850000  mq  mq   2.100000   4.000000  -10        0  0.000000        mq        mq   0.000000  -0.100000  -0.100000   0.400000   0.400000       mq       mq       mq       mq       1     mq    1230       7     mq    4920      mq     mq      mq      mq     mq      mq          NaN\n",
      "36       7661  20250120120000      mq    mq       mq   60   6.2          mq          mq   mq     mq  mq   2  mq   mq   mq    mq  mq  mq  mq      mq      mq   mq     mq          mq          mq   mq          mq          mq  mq  mq  10.800000  10.800000  -10       mq        mq        mq        mq         mq         mq         mq         mq         mq       mq       mq       mq       mq      mq     mq      mq      mq     mq      mq      mq     mq      mq      mq     mq      mq          NaN\n",
      "37       7690  20250120120000  101920   -10        8   20   4.8  283.550000  279.850000   78  20000  60   6   6  100    8  1250  35  mq  mq  101600      mq   mq     30          mq          mq   mq          mq  280.950000  mq  mq   7.800000  12.000000  -10        2  0.000000        mq        mq   0.800000   1.000000   1.200000   2.200000   2.200000       mq       mq       mq       mq       8      6    1100      mq     mq      mq      mq     mq      mq      mq     mq      mq          NaN\n",
      "38       7747  20250120120000  101620   -90        8  200   1.3  286.250000  278.650000   60  59340   0  mq  mq   mq    1  4020  mq  mq  mq  101090      mq   mq   -380          mq          mq   mq          mq  274.450000  mq  mq   2.900000   3.900000  -10        0  0.000000        mq        mq   0.000000   0.000000   0.000000   0.000000   0.000000       mq       mq       mq       mq       1     mq    4020      mq     mq      mq      mq     mq      mq      mq     mq      mq          NaN\n",
      "39       7761  20250120120000  101820     0        0  140   2.5  287.550000  283.350000   76  38670   0  mq  mq   90    7   800  mq  mq  mq  101710      mq   mq    280          mq          mq   mq          mq  281.750000  mq  mq   4.100000   4.800000  -10       mq  0.000000        mq        mq   0.000000   0.000000   5.100000   7.100000   9.300000       mq       mq       mq       mq       5     mq     780       6     mq    1020       7     mq    1320      mq      8      mq          NaN\n",
      "40       7790  20250120120000  101760   -80        8  130   4.3  287.450000  283.650000   78  30210   0  mq  mq   mq    5   450  mq  mq  mq  101620      mq   mq   -130          mq          mq   mq          mq  281.550000  mq  mq   6.800000   7.600000  -10       mq  0.000000        mq        mq   0.000000   0.000000   0.000000  14.300000  33.900000       mq       mq       mq       mq       5     mq     570       5     mq     780      mq     mq      mq      mq     mq      mq          NaN\n",
      "41      61968  20250120120000  100890   150        6   40   2.8          mq          mq   mq     mq  mq  mq  mq   mq   mq    mq  mq  mq  mq  100840      mq   mq     20          mq          mq   mq          mq          mq  mq  mq         mq   6.400000  -10       mq        mq        mq        mq   0.000000   0.000000   0.000000   0.000000   0.000000       mq       mq       mq       mq      mq     mq      mq      mq     mq      mq      mq     mq      mq      mq     mq      mq          NaN\n",
      "42      61970  20250120120000  100850   110        8  350   4.4  305.650000  300.150000   73     mq  mq  mq  mq   mq   mq    mq  mq  mq  mq  100740      mq   mq     90          mq  300.050000   mq  306.450000          mq  mq  mq         mq   9.600000  -10       mq        mq        mq        mq   0.000000   0.000000   0.000000   2.800000   2.800000       mq       mq       mq       mq      mq     mq      mq      mq     mq      mq      mq     mq      mq      mq     mq      mq          NaN\n",
      "43      61972  20250120120000  100780   120        6  290   3.7  305.050000  297.950000   66     mq  mq  mq  mq   mq   mq    mq  mq  mq  mq  100710      mq   mq      0          mq  298.550000   mq  305.350000          mq  mq  mq         mq   5.500000  -10       mq        mq        mq        mq   0.000000   0.000000   0.000000   0.000000   0.000000       mq       mq       mq       mq      mq     mq      mq      mq     mq      mq      mq     mq      mq      mq     mq      mq          NaN\n",
      "44      61976  20250120120000  101060   100        6   60   5.1  302.950000  298.050000   75     mq  mq  mq  mq   mq   mq    mq  mq  mq  mq  100970      mq   mq    140          mq  300.350000   mq  305.750000          mq  mq  mq         mq  10.700000  -10       mq        mq        mq        mq   0.000000   0.400000   0.400000   0.400000   0.400000       mq       mq       mq       mq      mq     mq      mq      mq     mq      mq      mq     mq      mq      mq     mq      mq          NaN\n",
      "45      61980  20250120120000  101280   -40        7   80   7.5  302.750000  296.650000   70  38800   0  mq  mq   mq    3  1750  mq  mq  mq  101130      mq   mq    170          mq          mq   mq          mq          mq  mq  mq   9.500000   9.500000  -10       mq        mq        mq        mq   0.000000   0.000000   0.000000  -0.100000  -0.100000       mq       mq       mq       mq       3     mq    1620       3     mq    1920      mq     mq      mq      mq     mq      mq          NaN\n",
      "46      61996  20250120120000  102310    20        5  260   5.0  293.450000  283.250000   52     mq  mq  mq  mq   mq   mq    mq  mq  mq  mq  101970      mq   mq    440          mq  284.550000   mq  294.450000          mq  mq  mq         mq  10.300000  -10       mq        mq        mq        mq   0.000000   0.000000   0.000000   0.000000   0.000000       mq       mq       mq       mq      mq     mq      mq      mq     mq      mq      mq     mq      mq      mq     mq      mq          NaN\n",
      "47      61997  20250120120000   99800   440        6  300  14.1  286.650000  286.350000   98     mq  mq  mq  mq   mq   mq    mq  mq  mq  mq   98090      mq   mq   -560          mq  278.450000   mq  287.050000          mq  mq  mq         mq  21.400000  -10       mq        mq        mq        mq   0.000000   1.000000   3.000000   3.000000   3.000000       mq       mq       mq       mq      mq     mq      mq      mq     mq      mq      mq     mq      mq      mq     mq      mq          NaN\n",
      "48      61998  20250120120000  100100   170        1  260   7.2  283.750000  273.150000   48  30000   2   1   1   25    2   800  31  20  10   99740      mq   mq    400          mq          mq   mq          mq          mq  mq  mq         mq  14.900000  -10       mq        mq        mq        mq   0.000000         mq   0.000000         mq         mq       mq       mq       mq       mq       2      8     690      mq     mq      mq      mq     mq      mq      mq     mq      mq          NaN\n",
      "49      67005  20250120120000  100890  -140        7  360   5.6  303.150000  298.450000   76  20000   0  mq  mq   mq    5   450  mq  mq  mq  100810      mq   mq      0          mq          mq   mq          mq          mq  mq  mq   9.600000  13.300000  -10       mq        mq        mq        mq   0.000000   0.000000   0.000000   0.000000   0.000000       mq       mq       mq       mq       5     mq     480      mq     mq      mq      mq     mq      mq      mq     mq      mq          NaN\n",
      "50      71805  20250120120000   99910  -220        8  150  10.0  277.750000  277.750000  100   1000  60  mq  mq  100    7    80  mq  mq  mq   99820      mq   mq  -2330          mq          mq   mq          mq  277.650000  mq  mq  12.500000  14.700000  -10       mq        mq        mq        mq   1.000000   1.800000   1.800000   6.700000  12.100000       mq       mq       mq       mq       7     mq      60       7     mq    2040       8     mq    2460      mq     mq      mq          NaN\n",
      "51      78890  20250120120000  101850   150        2   70  12.8  300.450000  295.450000   74     mq  mq  mq  mq   mq   mq    mq  mq  mq  mq  101530      mq   mq    -10          mq  298.250000   mq  302.550000          mq  mq  mq         mq  15.900000  -10       mq        mq        mq        mq   0.000000   0.000000   0.000000   0.000000   0.000000       mq       mq       mq       mq      mq     mq      mq      mq     mq      mq      mq     mq      mq      mq     mq      mq          NaN\n",
      "52      78897  20250120120000  101880   140        1   80   4.5  299.850000  294.650000   73  50580  mq  mq  mq   mq   mq    mq  mq  mq  mq  101790      mq   mq      0          mq          mq   mq          mq          mq  mq  mq         mq         mq   mq       mq        mq        mq        mq   0.000000   0.000000   0.000000   0.000000   0.000000       mq       mq       mq       mq      mq     mq      mq      mq     mq      mq      mq     mq      mq      mq     mq      mq          NaN\n",
      "53      78922  20250120120000  101810   140        3   90  10.7  300.150000  295.950000   78     mq  mq  mq  mq   mq   mq    mq  mq  mq  mq  101360      mq   mq    -40          mq  296.950000   mq  301.250000          mq  mq  mq  14.000000  15.800000  -10       mq        mq        mq        mq   0.000000   0.200000   0.200000   0.200000   3.400000       mq       mq       mq       mq      mq     mq      mq      mq     mq      mq      mq     mq      mq      mq     mq      mq          NaN\n",
      "54      78925  20250120120000  101750   160        1  130   5.6  297.650000  296.250000   92     mq   0  mq  mq   90    7   450  mq  mq  mq  101660      mq   mq    -20  296.450000          mq   mq  303.350000          mq  mq  mq   8.900000   8.900000  -10       mq        mq        mq        mq   2.000000   7.500000   7.500000  11.900000  12.900000       mq       mq       mq       mq       2     mq     330       5     mq     600       5     mq     900      mq      8      mq          NaN\n",
      "55      81401  20250120120000  101410   150        3    0   0.0  298.450000  296.350000   88     mq  mq  mq  mq   mq   mq    mq  mq  mq  mq  101350      mq   mq    -10          mq  295.150000   mq  306.050000          mq  mq  mq   1.400000   2.500000  -10       mq        mq        mq        mq   0.000000   0.000000   0.000000   0.000000   0.000000       mq       mq       mq       mq      mq     mq      mq      mq     mq      mq      mq     mq      mq      mq     mq      mq          NaN\n",
      "56      81405  20250120120000  101410   140        3   70   0.7  298.750000  296.050000   85  58030   0  mq  mq   90    2   800  mq  mq  mq  101320      mq   mq    -10  296.450000          mq   mq          mq  298.750000  mq  mq   1.600000         mq  -10       mq        mq        mq        mq  -0.100000  -0.100000  -0.100000  -0.100000  -0.100000       mq       mq       mq       mq       1     mq     720       7     mq    1740      mq     mq      mq      mq     mq      mq          NaN\n",
      "57      81408  20250120120000  101370   100        2  300   0.5  299.750000  296.450000   82     mq  mq  mq  mq   mq   mq    mq  mq  mq  mq  101290      mq   mq    -30          mq          mq   mq          mq          mq  mq  mq   1.700000   1.900000  -10       mq        mq        mq        mq   0.000000         mq         mq         mq         mq       mq       mq       mq       mq      mq     mq      mq      mq     mq      mq      mq     mq      mq      mq     mq      mq          NaN\n",
      "58      81415  20250120120000  101470   130        3   60   1.2  297.750000  295.250000   86     mq  mq  mq  mq   mq   mq    mq  mq  mq  mq  100250      mq   mq    -10          mq  295.450000   mq  304.650000          mq  mq  mq   2.500000   2.500000  -10       mq        mq        mq        mq         mq         mq         mq         mq         mq       mq       mq       mq       mq      mq     mq      mq      mq     mq      mq      mq     mq      mq      mq     mq      mq          NaN\n",
      "59      89642  20250120120000   98480     0        0  110   6.7  273.450000  268.050000   67     mq  mq  mq  mq   mq   mq    mq  mq  mq  mq   97950      mq   mq     mq          mq          mq   mq          mq          mq  mq  mq         mq         mq   mq       mq        mq        mq        mq         mq         mq         mq         mq         mq       mq       mq       mq       mq      mq     mq      mq      mq     mq      mq      mq     mq      mq      mq     mq      mq          NaN\n"
     ]
    }
   ],
   "source": [
    "import pandas as pd\n",
    "import numpy as np\n",
    "df = pd.read_csv(cvs_file, sep=\";\", dtype={\"date\": str})\n",
    "\n",
    "print(df.to_string())"
   ]
  },
  {
   "cell_type": "markdown",
   "metadata": {},
   "source": [
    "# Récupération des informations importantes à savoir :\n",
    "1. Indicatif OMM station : numéro de station `numer_sta` -> `int`\n",
    "2. Date (UTC) : `date` -> `datetime`\n",
    "3. Pression au niveau mer : `pmer` -> `int`\n",
    "4. Variation de pression en 3 heures : `tend` -> `int`\n",
    "5. Type de tendance barométrique : `cod_tend` -> `int`\n",
    "6. Direction du vent moyen 10 mn : `dd` -> `int`\n",
    "7. Vitesse du vent moyen 10 mn : `ff` -> `float`\n",
    "8. Température : `t` -> `float`\n",
    "9. Point de rosée : `td` -> `float`\n",
    "10. Humidité : `u` -> `int`\n",
    "11. Visibilité horizontale : `vv` -> `float`\n",
    "12. Temps présent : `ww` -> `int`\n",
    "13. Nébulosité totale : `n` -> `float`\n",
    "14. Nébulosité des nuages de l'étage inférieur : `nbas` -> `int`\n",
    "15. Hauteur de la base des nuages de l'étage inférieur : `hbas` -> `int`\n",
    "16. Pression station : `pres` -> `int`\n",
    "17. Variation de pression en 24 heures : `tend24` -> `int`\n",
    "18. Température minimale sur N heures : `tn12` -> `float`\n",
    "19. Température maximale sur N heures : `tx12` -> `float`\n",
    "20. Température minimale du sol sur 12 heures : `tminsol` -> `float`\n",
    "21. Rafales sur les 10 dernières minutes : `raf10` -> `float`\n",
    "22. Rafales sur une période : `rafper` -> `float`\n",
    "23. Période de mesure des rafales : `per` -> `float`\n",
    "24. Précipitations dans les N dernières heures : `rr12` -> `float`"
   ]
  },
  {
   "cell_type": "code",
   "execution_count": 70,
   "metadata": {
    "execution": {
     "iopub.execute_input": "2024-12-27T21:20:21.967133Z",
     "iopub.status.busy": "2024-12-27T21:20:21.967051Z",
     "iopub.status.idle": "2024-12-27T21:20:21.973380Z",
     "shell.execute_reply": "2024-12-27T21:20:21.973170Z"
    }
   },
   "outputs": [
    {
     "name": "stdout",
     "output_type": "stream",
     "text": [
      "    numer_sta            date    pmer  tend cod_tend   dd    ff           t          td    u     vv  ww    n nbas  hbas    pres tend24        tn12 tx12     tminsol      raf10     rafper  per       rr12\n",
      "0        7005  20250120120000  101990   -50        8  140   2.0  276.450000  273.650000   82   8480   0   mq   mq    mq  101090   -240          mq   mq  273.150000   3.900000   5.600000  -10   0.000000\n",
      "1        7015  20250120120000  102020   -40        8  150   2.6  273.350000  273.350000  100    640  45  101    9    30  101420   -280          mq   mq  273.250000   3.700000   3.700000  -10   0.000000\n",
      "2        7020  20250120120000  101920    70        1  100   3.9  277.950000  275.850000   86     mq  mq   mq   mq    mq  101810    -60          mq   mq          mq   6.500000   7.900000  -10   0.000000\n",
      "3        7027  20250120120000  101930   -20        8  130   5.0  275.350000  273.850000   90   6840   0  100    8   250  101090   -240          mq   mq  275.350000   6.900000   8.100000  -10   0.000000\n",
      "4        7037  20250120120000  102000   -30        8  130   2.6  274.250000  272.750000   90  10380   0  100    8   250  100030   -230          mq   mq  275.450000   4.200000   5.000000  -10   0.000000\n",
      "5        7072  20250120120000  102100    10        0  160   1.5  271.250000  270.950000   98    480  48  100    8    80  100890   -210          mq   mq  272.650000   2.800000   4.100000  -10   0.000000\n",
      "6        7110  20250120120000  101680    10        0   70   1.8  282.350000  276.150000   65  19230   0   mq    0    mq  100490   -120          mq   mq  270.650000   2.800000   3.600000  -10   0.200000\n",
      "7        7117  20250120120000  101780   -10        8   90   4.5  276.150000  276.150000  100   6000   2  100    8  1250  101060    -50          mq   mq          mq   7.600000   8.100000  -10   0.200000\n",
      "8        7130  20250120120000  101860     0        0  140   3.6  274.750000  273.250000   90  14060   0  100    8   250  101390   -230          mq   mq  273.250000   5.400000   6.300000  -10   0.000000\n",
      "9        7139  20250120120000  101960   -40        8   90   2.6  272.750000  272.050000   95   9740   0  100    8   150  100130   -260          mq   mq  276.550000   4.400000   5.100000  -10   0.000000\n",
      "10       7149  20250120120000  102060   -20        8   70   2.2  271.350000  270.750000   96   4000  20  100    8   150  100910   -260          mq   mq          mq   3.700000   5.000000  -10  -0.100000\n",
      "11       7181  20250120120000  102080   -50        8   80   2.0  273.450000  272.550000   94   7990   0  100    8  3960   97740   -190          mq   mq  268.550000   3.100000   3.100000  -10   0.000000\n",
      "12       7190  20250120120000  102200   -10        8  300   0.6  272.550000  272.250000   98    810  48  100    8    80  100290    -90          mq   mq  272.550000   2.000000   2.600000  -10   0.000000\n",
      "13       7207  20250120120000      mq    mq       mq   70   6.2  275.250000          mq   mq   6000   2  100    8   150      mq     mq          mq   mq          mq   9.000000  12.400000  -10   0.000000\n",
      "14       7222  20250120120000  101770    30        0   60   4.1  272.950000  271.850000   92   7210   0  100    8   150  101440   -370          mq   mq  273.850000   6.000000   7.000000  -10   0.000000\n",
      "15       7240  20250120120000  101920   -20        8   60   1.9  273.650000  272.750000   94   9560   0  100    8   150  100510   -310          mq   mq  274.450000   3.400000   3.600000  -10   0.000000\n",
      "16       7255  20250120120000  101940     0        0  130   2.2  274.650000  273.950000   95  10480   0   mq   mq    mq   99870   -350          mq   mq  273.150000   3.100000   4.300000  -10   0.000000\n",
      "17       7280  20250120120000  102140   -10        0   30   1.5  271.650000  271.350000   98   2000  10  100    8    80   99370   -220          mq   mq  271.650000   2.600000   2.600000  -10   0.000000\n",
      "18       7299  20250120120000  102050   -70        8  350   2.1  277.650000  273.250000   73   9610   0   mq    0    mq   98700   -140          mq   mq  273.850000   3.600000   3.900000  -10   0.000000\n",
      "19       7314  20250120120000  101670    40        0   80   4.2  280.650000  277.450000   80     mq  mq   mq   mq    mq  101390   -420          mq   mq          mq   7.200000   7.200000  -10   0.000000\n",
      "20       7335  20250120120000  101840     0        0  100   1.6  276.350000  274.550000   88  11020   0   mq    0    mq  100350   -380          mq   mq  275.950000   3.300000   3.300000  -10   0.000000\n",
      "21       7434  20250120120000  101700    10        0  160   4.4  282.950000  277.150000   67  29140   0   mq    1  1250   96910   -300          mq   mq  274.950000   7.600000   7.600000  -10   0.000000\n",
      "22       7460  20250120120000  101900   -10        8   50   1.5  276.750000  273.950000   82   3900  10  100    8  2250   97850   -240          mq   mq  269.650000   2.500000   2.500000  -10  -0.100000\n",
      "23       7471  20250120120000      mq   -20        8  130   2.2  279.650000  273.750000   66  20000   0  100    1   800   92050   -180          mq   mq  271.650000   6.100000   6.100000  -10  -0.100000\n",
      "24       7481  20250120120000  102060   -30        8  170   0.6  274.750000  274.150000   96   4000  10   90    5   150   99080   -230          mq   mq          mq   1.300000   3.600000  -10   0.000000\n",
      "25       7510  20250120120000  101620   -20        8  140   4.2  280.850000  277.950000   82  19660   0  100    8  1250  101030   -470          mq   mq  270.250000   6.200000   7.100000  -10   0.200000\n",
      "26       7535  20250120120000  101700     0        0  130   1.6  283.150000  278.350000   72  20000   0   mq    0    mq   98570   -330          mq   mq  275.150000   2.900000   2.900000  -10   0.000000\n",
      "27       7558  20250120120000  101780    20        0  130   7.9  278.250000  276.750000   90  20000  61   mq   mq    mq   93350   -190          mq   mq  275.050000  14.000000  14.400000  -10  -0.100000\n",
      "28       7577  20250120120000  101960   -70        8  350   1.1  280.750000  274.550000   65   7770   0   mq   mq    mq  101050   -190          mq   mq  274.150000   2.100000   2.600000  -10   0.000000\n",
      "29       7591  20250120120000      mq   130        8   50   7.8  283.550000  269.050000   36     mq  mq   mq   mq    mq   91540   -250          mq   mq          mq  12.900000  16.500000  -10   0.000000\n",
      "30       7607  20250120120000  101640     0        0  120   1.8  280.750000  279.650000   93  17200   0  100    8  1250  100920   -340          mq   mq  274.850000   2.600000   3.000000  -10   2.400000\n",
      "31       7621  20250120120000  101610    80        0  330   1.3  283.250000  273.850000   52  35280   0  100    8  2250   97280   -240          mq   mq  271.150000   2.400000   4.600000  -10   0.000000\n",
      "32       7627  20250120120000  101600    60        0  320   3.1  281.450000  271.350000   49  20000   0   25    2  3170   96650   -300          mq   mq  273.050000   5.700000   5.900000  -10         mq\n",
      "33       7630  20250120120000  101630    10        0  130   4.9  283.650000  280.150000   79  15330   0  100    8   800   99820   -400          mq   mq  273.250000   9.600000   9.600000  -10  -0.100000\n",
      "34       7643  20250120120000  101860   -40        8   50   3.7  282.650000  278.850000   77  16530   0  100    6   800  101760   -180          mq   mq  276.950000   5.400000   5.700000  -10  -0.100000\n",
      "35       7650  20250120120000  101840   -80        8  310   1.3  284.050000  280.150000   77  21130   0   90    1  1250  101450   -160          mq   mq  277.850000   2.100000   4.000000  -10   0.400000\n",
      "36       7661  20250120120000      mq    mq       mq   60   6.2          mq          mq   mq     mq  mq   mq   mq    mq      mq     mq          mq   mq          mq  10.800000  10.800000  -10         mq\n",
      "37       7690  20250120120000  101920   -10        8   20   4.8  283.550000  279.850000   78  20000  60  100    8  1250  101600     30          mq   mq  280.950000   7.800000  12.000000  -10   2.200000\n",
      "38       7747  20250120120000  101620   -90        8  200   1.3  286.250000  278.650000   60  59340   0   mq    1  4020  101090   -380          mq   mq  274.450000   2.900000   3.900000  -10   0.000000\n",
      "39       7761  20250120120000  101820     0        0  140   2.5  287.550000  283.350000   76  38670   0   90    7   800  101710    280          mq   mq  281.750000   4.100000   4.800000  -10   7.100000\n",
      "40       7790  20250120120000  101760   -80        8  130   4.3  287.450000  283.650000   78  30210   0   mq    5   450  101620   -130          mq   mq  281.550000   6.800000   7.600000  -10  14.300000\n",
      "41      61968  20250120120000  100890   150        6   40   2.8          mq          mq   mq     mq  mq   mq   mq    mq  100840     20          mq   mq          mq         mq   6.400000  -10   0.000000\n",
      "42      61970  20250120120000  100850   110        8  350   4.4  305.650000  300.150000   73     mq  mq   mq   mq    mq  100740     90          mq   mq          mq         mq   9.600000  -10   2.800000\n",
      "43      61972  20250120120000  100780   120        6  290   3.7  305.050000  297.950000   66     mq  mq   mq   mq    mq  100710      0          mq   mq          mq         mq   5.500000  -10   0.000000\n",
      "44      61976  20250120120000  101060   100        6   60   5.1  302.950000  298.050000   75     mq  mq   mq   mq    mq  100970    140          mq   mq          mq         mq  10.700000  -10   0.400000\n",
      "45      61980  20250120120000  101280   -40        7   80   7.5  302.750000  296.650000   70  38800   0   mq    3  1750  101130    170          mq   mq          mq   9.500000   9.500000  -10  -0.100000\n",
      "46      61996  20250120120000  102310    20        5  260   5.0  293.450000  283.250000   52     mq  mq   mq   mq    mq  101970    440          mq   mq          mq         mq  10.300000  -10   0.000000\n",
      "47      61997  20250120120000   99800   440        6  300  14.1  286.650000  286.350000   98     mq  mq   mq   mq    mq   98090   -560          mq   mq          mq         mq  21.400000  -10   3.000000\n",
      "48      61998  20250120120000  100100   170        1  260   7.2  283.750000  273.150000   48  30000   2   25    2   800   99740    400          mq   mq          mq         mq  14.900000  -10         mq\n",
      "49      67005  20250120120000  100890  -140        7  360   5.6  303.150000  298.450000   76  20000   0   mq    5   450  100810      0          mq   mq          mq   9.600000  13.300000  -10   0.000000\n",
      "50      71805  20250120120000   99910  -220        8  150  10.0  277.750000  277.750000  100   1000  60  100    7    80   99820  -2330          mq   mq  277.650000  12.500000  14.700000  -10   6.700000\n",
      "51      78890  20250120120000  101850   150        2   70  12.8  300.450000  295.450000   74     mq  mq   mq   mq    mq  101530    -10          mq   mq          mq         mq  15.900000  -10   0.000000\n",
      "52      78897  20250120120000  101880   140        1   80   4.5  299.850000  294.650000   73  50580  mq   mq   mq    mq  101790      0          mq   mq          mq         mq         mq   mq   0.000000\n",
      "53      78922  20250120120000  101810   140        3   90  10.7  300.150000  295.950000   78     mq  mq   mq   mq    mq  101360    -40          mq   mq          mq  14.000000  15.800000  -10   0.200000\n",
      "54      78925  20250120120000  101750   160        1  130   5.6  297.650000  296.250000   92     mq   0   90    7   450  101660    -20  296.450000   mq          mq   8.900000   8.900000  -10  11.900000\n",
      "55      81401  20250120120000  101410   150        3    0   0.0  298.450000  296.350000   88     mq  mq   mq   mq    mq  101350    -10          mq   mq          mq   1.400000   2.500000  -10   0.000000\n",
      "56      81405  20250120120000  101410   140        3   70   0.7  298.750000  296.050000   85  58030   0   90    2   800  101320    -10  296.450000   mq  298.750000   1.600000         mq  -10  -0.100000\n",
      "57      81408  20250120120000  101370   100        2  300   0.5  299.750000  296.450000   82     mq  mq   mq   mq    mq  101290    -30          mq   mq          mq   1.700000   1.900000  -10         mq\n",
      "58      81415  20250120120000  101470   130        3   60   1.2  297.750000  295.250000   86     mq  mq   mq   mq    mq  100250    -10          mq   mq          mq   2.500000   2.500000  -10         mq\n",
      "59      89642  20250120120000   98480     0        0  110   6.7  273.450000  268.050000   67     mq  mq   mq   mq    mq   97950     mq          mq   mq          mq         mq         mq   mq         mq\n"
     ]
    }
   ],
   "source": [
    "df = df[['numer_sta', 'date', \"pmer\", \"tend\", \"cod_tend\", \"dd\", \"ff\", \"t\", \"td\", \"u\", \"vv\", \"ww\", \"n\", \"nbas\", \"hbas\",\"pres\", \"tend24\", \"tn12\", \"tx12\", \"tminsol\", \"raf10\", \"rafper\", \"per\", \"rr12\" ]]\n",
    "\n",
    "\n",
    "print(df.to_string())\n"
   ]
  },
  {
   "cell_type": "markdown",
   "metadata": {},
   "source": [
    "## Remplacer les valeurs manquantes `mq` par `NaN`"
   ]
  },
  {
   "cell_type": "code",
   "execution_count": 71,
   "metadata": {
    "execution": {
     "iopub.execute_input": "2024-12-27T21:20:21.974446Z",
     "iopub.status.busy": "2024-12-27T21:20:21.974373Z",
     "iopub.status.idle": "2024-12-27T21:20:21.980351Z",
     "shell.execute_reply": "2024-12-27T21:20:21.980160Z"
    }
   },
   "outputs": [
    {
     "name": "stdout",
     "output_type": "stream",
     "text": [
      "    numer_sta            date    pmer  tend cod_tend   dd    ff           t          td    u     vv   ww    n nbas  hbas    pres tend24        tn12  tx12     tminsol      raf10     rafper  per       rr12\n",
      "0        7005  20250120120000  101990   -50        8  140   2.0  276.450000  273.650000   82   8480    0  NaN  NaN   NaN  101090   -240         NaN   NaN  273.150000   3.900000   5.600000  -10   0.000000\n",
      "1        7015  20250120120000  102020   -40        8  150   2.6  273.350000  273.350000  100    640   45  101    9    30  101420   -280         NaN   NaN  273.250000   3.700000   3.700000  -10   0.000000\n",
      "2        7020  20250120120000  101920    70        1  100   3.9  277.950000  275.850000   86    NaN  NaN  NaN  NaN   NaN  101810    -60         NaN   NaN         NaN   6.500000   7.900000  -10   0.000000\n",
      "3        7027  20250120120000  101930   -20        8  130   5.0  275.350000  273.850000   90   6840    0  100    8   250  101090   -240         NaN   NaN  275.350000   6.900000   8.100000  -10   0.000000\n",
      "4        7037  20250120120000  102000   -30        8  130   2.6  274.250000  272.750000   90  10380    0  100    8   250  100030   -230         NaN   NaN  275.450000   4.200000   5.000000  -10   0.000000\n",
      "5        7072  20250120120000  102100    10        0  160   1.5  271.250000  270.950000   98    480   48  100    8    80  100890   -210         NaN   NaN  272.650000   2.800000   4.100000  -10   0.000000\n",
      "6        7110  20250120120000  101680    10        0   70   1.8  282.350000  276.150000   65  19230    0  NaN    0   NaN  100490   -120         NaN   NaN  270.650000   2.800000   3.600000  -10   0.200000\n",
      "7        7117  20250120120000  101780   -10        8   90   4.5  276.150000  276.150000  100   6000    2  100    8  1250  101060    -50         NaN   NaN         NaN   7.600000   8.100000  -10   0.200000\n",
      "8        7130  20250120120000  101860     0        0  140   3.6  274.750000  273.250000   90  14060    0  100    8   250  101390   -230         NaN   NaN  273.250000   5.400000   6.300000  -10   0.000000\n",
      "9        7139  20250120120000  101960   -40        8   90   2.6  272.750000  272.050000   95   9740    0  100    8   150  100130   -260         NaN   NaN  276.550000   4.400000   5.100000  -10   0.000000\n",
      "10       7149  20250120120000  102060   -20        8   70   2.2  271.350000  270.750000   96   4000   20  100    8   150  100910   -260         NaN   NaN         NaN   3.700000   5.000000  -10  -0.100000\n",
      "11       7181  20250120120000  102080   -50        8   80   2.0  273.450000  272.550000   94   7990    0  100    8  3960   97740   -190         NaN   NaN  268.550000   3.100000   3.100000  -10   0.000000\n",
      "12       7190  20250120120000  102200   -10        8  300   0.6  272.550000  272.250000   98    810   48  100    8    80  100290    -90         NaN   NaN  272.550000   2.000000   2.600000  -10   0.000000\n",
      "13       7207  20250120120000     NaN   NaN      NaN   70   6.2  275.250000         NaN  NaN   6000    2  100    8   150     NaN    NaN         NaN   NaN         NaN   9.000000  12.400000  -10   0.000000\n",
      "14       7222  20250120120000  101770    30        0   60   4.1  272.950000  271.850000   92   7210    0  100    8   150  101440   -370         NaN   NaN  273.850000   6.000000   7.000000  -10   0.000000\n",
      "15       7240  20250120120000  101920   -20        8   60   1.9  273.650000  272.750000   94   9560    0  100    8   150  100510   -310         NaN   NaN  274.450000   3.400000   3.600000  -10   0.000000\n",
      "16       7255  20250120120000  101940     0        0  130   2.2  274.650000  273.950000   95  10480    0  NaN  NaN   NaN   99870   -350         NaN   NaN  273.150000   3.100000   4.300000  -10   0.000000\n",
      "17       7280  20250120120000  102140   -10        0   30   1.5  271.650000  271.350000   98   2000   10  100    8    80   99370   -220         NaN   NaN  271.650000   2.600000   2.600000  -10   0.000000\n",
      "18       7299  20250120120000  102050   -70        8  350   2.1  277.650000  273.250000   73   9610    0  NaN    0   NaN   98700   -140         NaN   NaN  273.850000   3.600000   3.900000  -10   0.000000\n",
      "19       7314  20250120120000  101670    40        0   80   4.2  280.650000  277.450000   80    NaN  NaN  NaN  NaN   NaN  101390   -420         NaN   NaN         NaN   7.200000   7.200000  -10   0.000000\n",
      "20       7335  20250120120000  101840     0        0  100   1.6  276.350000  274.550000   88  11020    0  NaN    0   NaN  100350   -380         NaN   NaN  275.950000   3.300000   3.300000  -10   0.000000\n",
      "21       7434  20250120120000  101700    10        0  160   4.4  282.950000  277.150000   67  29140    0  NaN    1  1250   96910   -300         NaN   NaN  274.950000   7.600000   7.600000  -10   0.000000\n",
      "22       7460  20250120120000  101900   -10        8   50   1.5  276.750000  273.950000   82   3900   10  100    8  2250   97850   -240         NaN   NaN  269.650000   2.500000   2.500000  -10  -0.100000\n",
      "23       7471  20250120120000     NaN   -20        8  130   2.2  279.650000  273.750000   66  20000    0  100    1   800   92050   -180         NaN   NaN  271.650000   6.100000   6.100000  -10  -0.100000\n",
      "24       7481  20250120120000  102060   -30        8  170   0.6  274.750000  274.150000   96   4000   10   90    5   150   99080   -230         NaN   NaN         NaN   1.300000   3.600000  -10   0.000000\n",
      "25       7510  20250120120000  101620   -20        8  140   4.2  280.850000  277.950000   82  19660    0  100    8  1250  101030   -470         NaN   NaN  270.250000   6.200000   7.100000  -10   0.200000\n",
      "26       7535  20250120120000  101700     0        0  130   1.6  283.150000  278.350000   72  20000    0  NaN    0   NaN   98570   -330         NaN   NaN  275.150000   2.900000   2.900000  -10   0.000000\n",
      "27       7558  20250120120000  101780    20        0  130   7.9  278.250000  276.750000   90  20000   61  NaN  NaN   NaN   93350   -190         NaN   NaN  275.050000  14.000000  14.400000  -10  -0.100000\n",
      "28       7577  20250120120000  101960   -70        8  350   1.1  280.750000  274.550000   65   7770    0  NaN  NaN   NaN  101050   -190         NaN   NaN  274.150000   2.100000   2.600000  -10   0.000000\n",
      "29       7591  20250120120000     NaN   130        8   50   7.8  283.550000  269.050000   36    NaN  NaN  NaN  NaN   NaN   91540   -250         NaN   NaN         NaN  12.900000  16.500000  -10   0.000000\n",
      "30       7607  20250120120000  101640     0        0  120   1.8  280.750000  279.650000   93  17200    0  100    8  1250  100920   -340         NaN   NaN  274.850000   2.600000   3.000000  -10   2.400000\n",
      "31       7621  20250120120000  101610    80        0  330   1.3  283.250000  273.850000   52  35280    0  100    8  2250   97280   -240         NaN   NaN  271.150000   2.400000   4.600000  -10   0.000000\n",
      "32       7627  20250120120000  101600    60        0  320   3.1  281.450000  271.350000   49  20000    0   25    2  3170   96650   -300         NaN   NaN  273.050000   5.700000   5.900000  -10        NaN\n",
      "33       7630  20250120120000  101630    10        0  130   4.9  283.650000  280.150000   79  15330    0  100    8   800   99820   -400         NaN   NaN  273.250000   9.600000   9.600000  -10  -0.100000\n",
      "34       7643  20250120120000  101860   -40        8   50   3.7  282.650000  278.850000   77  16530    0  100    6   800  101760   -180         NaN   NaN  276.950000   5.400000   5.700000  -10  -0.100000\n",
      "35       7650  20250120120000  101840   -80        8  310   1.3  284.050000  280.150000   77  21130    0   90    1  1250  101450   -160         NaN   NaN  277.850000   2.100000   4.000000  -10   0.400000\n",
      "36       7661  20250120120000     NaN   NaN      NaN   60   6.2         NaN         NaN  NaN    NaN  NaN  NaN  NaN   NaN     NaN    NaN         NaN   NaN         NaN  10.800000  10.800000  -10        NaN\n",
      "37       7690  20250120120000  101920   -10        8   20   4.8  283.550000  279.850000   78  20000   60  100    8  1250  101600     30         NaN   NaN  280.950000   7.800000  12.000000  -10   2.200000\n",
      "38       7747  20250120120000  101620   -90        8  200   1.3  286.250000  278.650000   60  59340    0  NaN    1  4020  101090   -380         NaN   NaN  274.450000   2.900000   3.900000  -10   0.000000\n",
      "39       7761  20250120120000  101820     0        0  140   2.5  287.550000  283.350000   76  38670    0   90    7   800  101710    280         NaN   NaN  281.750000   4.100000   4.800000  -10   7.100000\n",
      "40       7790  20250120120000  101760   -80        8  130   4.3  287.450000  283.650000   78  30210    0  NaN    5   450  101620   -130         NaN   NaN  281.550000   6.800000   7.600000  -10  14.300000\n",
      "41      61968  20250120120000  100890   150        6   40   2.8         NaN         NaN  NaN    NaN  NaN  NaN  NaN   NaN  100840     20         NaN   NaN         NaN        NaN   6.400000  -10   0.000000\n",
      "42      61970  20250120120000  100850   110        8  350   4.4  305.650000  300.150000   73    NaN  NaN  NaN  NaN   NaN  100740     90         NaN   NaN         NaN        NaN   9.600000  -10   2.800000\n",
      "43      61972  20250120120000  100780   120        6  290   3.7  305.050000  297.950000   66    NaN  NaN  NaN  NaN   NaN  100710      0         NaN   NaN         NaN        NaN   5.500000  -10   0.000000\n",
      "44      61976  20250120120000  101060   100        6   60   5.1  302.950000  298.050000   75    NaN  NaN  NaN  NaN   NaN  100970    140         NaN   NaN         NaN        NaN  10.700000  -10   0.400000\n",
      "45      61980  20250120120000  101280   -40        7   80   7.5  302.750000  296.650000   70  38800    0  NaN    3  1750  101130    170         NaN   NaN         NaN   9.500000   9.500000  -10  -0.100000\n",
      "46      61996  20250120120000  102310    20        5  260   5.0  293.450000  283.250000   52    NaN  NaN  NaN  NaN   NaN  101970    440         NaN   NaN         NaN        NaN  10.300000  -10   0.000000\n",
      "47      61997  20250120120000   99800   440        6  300  14.1  286.650000  286.350000   98    NaN  NaN  NaN  NaN   NaN   98090   -560         NaN   NaN         NaN        NaN  21.400000  -10   3.000000\n",
      "48      61998  20250120120000  100100   170        1  260   7.2  283.750000  273.150000   48  30000    2   25    2   800   99740    400         NaN   NaN         NaN        NaN  14.900000  -10        NaN\n",
      "49      67005  20250120120000  100890  -140        7  360   5.6  303.150000  298.450000   76  20000    0  NaN    5   450  100810      0         NaN   NaN         NaN   9.600000  13.300000  -10   0.000000\n",
      "50      71805  20250120120000   99910  -220        8  150  10.0  277.750000  277.750000  100   1000   60  100    7    80   99820  -2330         NaN   NaN  277.650000  12.500000  14.700000  -10   6.700000\n",
      "51      78890  20250120120000  101850   150        2   70  12.8  300.450000  295.450000   74    NaN  NaN  NaN  NaN   NaN  101530    -10         NaN   NaN         NaN        NaN  15.900000  -10   0.000000\n",
      "52      78897  20250120120000  101880   140        1   80   4.5  299.850000  294.650000   73  50580  NaN  NaN  NaN   NaN  101790      0         NaN   NaN         NaN        NaN        NaN  NaN   0.000000\n",
      "53      78922  20250120120000  101810   140        3   90  10.7  300.150000  295.950000   78    NaN  NaN  NaN  NaN   NaN  101360    -40         NaN   NaN         NaN  14.000000  15.800000  -10   0.200000\n",
      "54      78925  20250120120000  101750   160        1  130   5.6  297.650000  296.250000   92    NaN    0   90    7   450  101660    -20  296.450000   NaN         NaN   8.900000   8.900000  -10  11.900000\n",
      "55      81401  20250120120000  101410   150        3    0   0.0  298.450000  296.350000   88    NaN  NaN  NaN  NaN   NaN  101350    -10         NaN   NaN         NaN   1.400000   2.500000  -10   0.000000\n",
      "56      81405  20250120120000  101410   140        3   70   0.7  298.750000  296.050000   85  58030    0   90    2   800  101320    -10  296.450000   NaN  298.750000   1.600000        NaN  -10  -0.100000\n",
      "57      81408  20250120120000  101370   100        2  300   0.5  299.750000  296.450000   82    NaN  NaN  NaN  NaN   NaN  101290    -30         NaN   NaN         NaN   1.700000   1.900000  -10        NaN\n",
      "58      81415  20250120120000  101470   130        3   60   1.2  297.750000  295.250000   86    NaN  NaN  NaN  NaN   NaN  100250    -10         NaN   NaN         NaN   2.500000   2.500000  -10        NaN\n",
      "59      89642  20250120120000   98480     0        0  110   6.7  273.450000  268.050000   67    NaN  NaN  NaN  NaN   NaN   97950    NaN         NaN   NaN         NaN        NaN        NaN  NaN        NaN\n"
     ]
    },
    {
     "name": "stderr",
     "output_type": "stream",
     "text": [
      "/tmp/ipykernel_1556173/3864656540.py:1: FutureWarning: Downcasting behavior in `replace` is deprecated and will be removed in a future version. To retain the old behavior, explicitly call `result.infer_objects(copy=False)`. To opt-in to the future behavior, set `pd.set_option('future.no_silent_downcasting', True)`\n",
      "  df.replace(\"mq\", np.nan, inplace=True)\n"
     ]
    }
   ],
   "source": [
    "df.replace(\"mq\", np.nan, inplace=True)\n",
    "print(df.to_string())"
   ]
  },
  {
   "cell_type": "markdown",
   "metadata": {},
   "source": [
    "## Nettoyages de colonnes non renseignées \n",
    "\n",
    "1. Informations générales\n",
    "\t-\tNuméro de station : `numer_sta` -> int\n",
    "\t-\tDate (UTC) : `date` -> datetime\n",
    "2. Pression\n",
    "\t-\tPression au niveau mer : `pmer` -> int\n",
    "\t-\tVariation de pression en 3 heures : `tend` -> int\n",
    "\t-\tType de tendance barométrique : `cod_tend` -> int\n",
    "\t-\tPression station : `pres` -> int\n",
    "\t-\tVariation de pression en 24 heures : `tend24` -> int\n",
    "3. Vent\n",
    "\t-\tDirection du vent moyen 10 mn : `dd` -> int\n",
    "\t-\tVitesse du vent moyen 10 mn : `ff` -> float\n",
    "\t-\tRafales sur les 10 dernières minutes : `raf10` -> float\n",
    "\t-\tRafales sur une période : `rafper` -> float\n",
    "\t-\tPériode de mesure des rafales : `per` -> float\n",
    "4. Température\n",
    "\t-\tTempérature : `t` -> float\n",
    "\t-\tPoint de rosée : `td` -> float\n",
    "\t-\tTempérature minimale sur N heures : `tn12` -> float\n",
    "\t-\tTempérature maximale sur N heures : `tx12` -> float\n",
    "\t-\tTempérature minimale du sol sur 12 heures : `tminsol` -> float\n",
    "5. Humidité\n",
    "\t-\tHumidité : `u` -> int\n",
    "6. Visibilité\n",
    "\t-\tVisibilité horizontale : `vv` -> float\n",
    "7. Nébulosité et nuages\n",
    "\t-\tNébulosité totale : `n` -> float\n",
    "\t-\tNébulosité des nuages de l’étage inférieur : `nbas` -> int\n",
    "\t-\tHauteur de la base des nuages de l’étage inférieur : `hbas` -> int\n",
    "8. Précipitations\n",
    "\t-\tPrécipitations dans les N dernières heures : `rr12` -> float\n",
    "9. Temps présent\n",
    "\t-\tTemps présent : `ww` -> int"
   ]
  },
  {
   "cell_type": "code",
   "execution_count": 72,
   "metadata": {
    "execution": {
     "iopub.execute_input": "2024-12-27T21:20:21.981443Z",
     "iopub.status.busy": "2024-12-27T21:20:21.981371Z",
     "iopub.status.idle": "2024-12-27T21:20:21.992989Z",
     "shell.execute_reply": "2024-12-27T21:20:21.992795Z"
    }
   },
   "outputs": [
    {
     "name": "stdout",
     "output_type": "stream",
     "text": [
      "    numer_sta            date           pmer        tend  cod_tend   dd    ff           t          td           u            vv         ww           n      nbas         hbas           pres       tend24    tn12  tx12     tminsol      raf10     rafper  per       rr12\n",
      "0        7005  20250120120000  101990.000000  -50.000000  8.000000  140   2.0  276.450000  273.650000   82.000000   8480.000000   0.000000   93.366667  5.538462   944.285714  101090.000000  -240.000000  296.45   NaN  273.150000   3.900000   5.600000  -10   0.000000\n",
      "1        7015  20250120120000  102020.000000  -40.000000  8.000000  150   2.6  273.350000  273.350000  100.000000    640.000000  45.000000  101.000000  9.000000    30.000000  101420.000000  -280.000000  296.45   NaN  273.250000   3.700000   3.700000  -10   0.000000\n",
      "2        7020  20250120120000  101920.000000   70.000000  1.000000  100   3.9  277.950000  275.850000   86.000000  17234.883721   8.790698   93.366667  5.538462   944.285714  101810.000000   -60.000000  296.45   NaN  275.067143   6.500000   7.900000  -10   0.000000\n",
      "3        7027  20250120120000  101930.000000  -20.000000  8.000000  130   5.0  275.350000  273.850000   90.000000   6840.000000   0.000000  100.000000  8.000000   250.000000  101090.000000  -240.000000  296.45   NaN  275.350000   6.900000   8.100000  -10   0.000000\n",
      "4        7037  20250120120000  102000.000000  -30.000000  8.000000  130   2.6  274.250000  272.750000   90.000000  10380.000000   0.000000  100.000000  8.000000   250.000000  100030.000000  -230.000000  296.45   NaN  275.450000   4.200000   5.000000  -10   0.000000\n",
      "5        7072  20250120120000  102100.000000   10.000000  0.000000  160   1.5  271.250000  270.950000   98.000000    480.000000  48.000000  100.000000  8.000000    80.000000  100890.000000  -210.000000  296.45   NaN  272.650000   2.800000   4.100000  -10   0.000000\n",
      "6        7110  20250120120000  101680.000000   10.000000  0.000000   70   1.8  282.350000  276.150000   65.000000  19230.000000   0.000000   93.366667  0.000000   944.285714  100490.000000  -120.000000  296.45   NaN  270.650000   2.800000   3.600000  -10   0.200000\n",
      "7        7117  20250120120000  101780.000000  -10.000000  8.000000   90   4.5  276.150000  276.150000  100.000000   6000.000000   2.000000  100.000000  8.000000  1250.000000  101060.000000   -50.000000  296.45   NaN  275.067143   7.600000   8.100000  -10   0.200000\n",
      "8        7130  20250120120000  101860.000000    0.000000  0.000000  140   3.6  274.750000  273.250000   90.000000  14060.000000   0.000000  100.000000  8.000000   250.000000  101390.000000  -230.000000  296.45   NaN  273.250000   5.400000   6.300000  -10   0.000000\n",
      "9        7139  20250120120000  101960.000000  -40.000000  8.000000   90   2.6  272.750000  272.050000   95.000000   9740.000000   0.000000  100.000000  8.000000   150.000000  100130.000000  -260.000000  296.45   NaN  276.550000   4.400000   5.100000  -10   0.000000\n",
      "10       7149  20250120120000  102060.000000  -20.000000  8.000000   70   2.2  271.350000  270.750000   96.000000   4000.000000  20.000000  100.000000  8.000000   150.000000  100910.000000  -260.000000  296.45   NaN  275.067143   3.700000   5.000000  -10  -0.100000\n",
      "11       7181  20250120120000  102080.000000  -50.000000  8.000000   80   2.0  273.450000  272.550000   94.000000   7990.000000   0.000000  100.000000  8.000000  3960.000000   97740.000000  -190.000000  296.45   NaN  268.550000   3.100000   3.100000  -10   0.000000\n",
      "12       7190  20250120120000  102200.000000  -10.000000  8.000000  300   0.6  272.550000  272.250000   98.000000    810.000000  48.000000  100.000000  8.000000    80.000000  100290.000000   -90.000000  296.45   NaN  272.550000   2.000000   2.600000  -10   0.000000\n",
      "13       7207  20250120120000  101575.535714   25.344828  4.396552   70   6.2  275.250000  280.351754   80.035088   6000.000000   2.000000  100.000000  8.000000   150.000000   99976.206897  -186.140351  296.45   NaN  275.067143   9.000000  12.400000  -10   0.000000\n",
      "14       7222  20250120120000  101770.000000   30.000000  0.000000   60   4.1  272.950000  271.850000   92.000000   7210.000000   0.000000  100.000000  8.000000   150.000000  101440.000000  -370.000000  296.45   NaN  273.850000   6.000000   7.000000  -10   0.000000\n",
      "15       7240  20250120120000  101920.000000  -20.000000  8.000000   60   1.9  273.650000  272.750000   94.000000   9560.000000   0.000000  100.000000  8.000000   150.000000  100510.000000  -310.000000  296.45   NaN  274.450000   3.400000   3.600000  -10   0.000000\n",
      "16       7255  20250120120000  101940.000000    0.000000  0.000000  130   2.2  274.650000  273.950000   95.000000  10480.000000   0.000000   93.366667  5.538462   944.285714   99870.000000  -350.000000  296.45   NaN  273.150000   3.100000   4.300000  -10   0.000000\n",
      "17       7280  20250120120000  102140.000000  -10.000000  0.000000   30   1.5  271.650000  271.350000   98.000000   2000.000000  10.000000  100.000000  8.000000    80.000000   99370.000000  -220.000000  296.45   NaN  271.650000   2.600000   2.600000  -10   0.000000\n",
      "18       7299  20250120120000  102050.000000  -70.000000  8.000000  350   2.1  277.650000  273.250000   73.000000   9610.000000   0.000000   93.366667  0.000000   944.285714   98700.000000  -140.000000  296.45   NaN  273.850000   3.600000   3.900000  -10   0.000000\n",
      "19       7314  20250120120000  101670.000000   40.000000  0.000000   80   4.2  280.650000  277.450000   80.000000  17234.883721   8.790698   93.366667  5.538462   944.285714  101390.000000  -420.000000  296.45   NaN  275.067143   7.200000   7.200000  -10   0.000000\n",
      "20       7335  20250120120000  101840.000000    0.000000  0.000000  100   1.6  276.350000  274.550000   88.000000  11020.000000   0.000000   93.366667  0.000000   944.285714  100350.000000  -380.000000  296.45   NaN  275.950000   3.300000   3.300000  -10   0.000000\n",
      "21       7434  20250120120000  101700.000000   10.000000  0.000000  160   4.4  282.950000  277.150000   67.000000  29140.000000   0.000000   93.366667  1.000000  1250.000000   96910.000000  -300.000000  296.45   NaN  274.950000   7.600000   7.600000  -10   0.000000\n",
      "22       7460  20250120120000  101900.000000  -10.000000  8.000000   50   1.5  276.750000  273.950000   82.000000   3900.000000  10.000000  100.000000  8.000000  2250.000000   97850.000000  -240.000000  296.45   NaN  269.650000   2.500000   2.500000  -10  -0.100000\n",
      "23       7471  20250120120000  101575.535714  -20.000000  8.000000  130   2.2  279.650000  273.750000   66.000000  20000.000000   0.000000  100.000000  1.000000   800.000000   92050.000000  -180.000000  296.45   NaN  271.650000   6.100000   6.100000  -10  -0.100000\n",
      "24       7481  20250120120000  102060.000000  -30.000000  8.000000  170   0.6  274.750000  274.150000   96.000000   4000.000000  10.000000   90.000000  5.000000   150.000000   99080.000000  -230.000000  296.45   NaN  275.067143   1.300000   3.600000  -10   0.000000\n",
      "25       7510  20250120120000  101620.000000  -20.000000  8.000000  140   4.2  280.850000  277.950000   82.000000  19660.000000   0.000000  100.000000  8.000000  1250.000000  101030.000000  -470.000000  296.45   NaN  270.250000   6.200000   7.100000  -10   0.200000\n",
      "26       7535  20250120120000  101700.000000    0.000000  0.000000  130   1.6  283.150000  278.350000   72.000000  20000.000000   0.000000   93.366667  0.000000   944.285714   98570.000000  -330.000000  296.45   NaN  275.150000   2.900000   2.900000  -10   0.000000\n",
      "27       7558  20250120120000  101780.000000   20.000000  0.000000  130   7.9  278.250000  276.750000   90.000000  20000.000000  61.000000   93.366667  5.538462   944.285714   93350.000000  -190.000000  296.45   NaN  275.050000  14.000000  14.400000  -10  -0.100000\n",
      "28       7577  20250120120000  101960.000000  -70.000000  8.000000  350   1.1  280.750000  274.550000   65.000000   7770.000000   0.000000   93.366667  5.538462   944.285714  101050.000000  -190.000000  296.45   NaN  274.150000   2.100000   2.600000  -10   0.000000\n",
      "29       7591  20250120120000  101575.535714  130.000000  8.000000   50   7.8  283.550000  269.050000   36.000000  17234.883721   8.790698   93.366667  5.538462   944.285714   91540.000000  -250.000000  296.45   NaN  275.067143  12.900000  16.500000  -10   0.000000\n",
      "30       7607  20250120120000  101640.000000    0.000000  0.000000  120   1.8  280.750000  279.650000   93.000000  17200.000000   0.000000  100.000000  8.000000  1250.000000  100920.000000  -340.000000  296.45   NaN  274.850000   2.600000   3.000000  -10   2.400000\n",
      "31       7621  20250120120000  101610.000000   80.000000  0.000000  330   1.3  283.250000  273.850000   52.000000  35280.000000   0.000000  100.000000  8.000000  2250.000000   97280.000000  -240.000000  296.45   NaN  271.150000   2.400000   4.600000  -10   0.000000\n",
      "32       7627  20250120120000  101600.000000   60.000000  0.000000  320   3.1  281.450000  271.350000   49.000000  20000.000000   0.000000   25.000000  2.000000  3170.000000   96650.000000  -300.000000  296.45   NaN  273.050000   5.700000   5.900000  -10          0\n",
      "33       7630  20250120120000  101630.000000   10.000000  0.000000  130   4.9  283.650000  280.150000   79.000000  15330.000000   0.000000  100.000000  8.000000   800.000000   99820.000000  -400.000000  296.45   NaN  273.250000   9.600000   9.600000  -10  -0.100000\n",
      "34       7643  20250120120000  101860.000000  -40.000000  8.000000   50   3.7  282.650000  278.850000   77.000000  16530.000000   0.000000  100.000000  6.000000   800.000000  101760.000000  -180.000000  296.45   NaN  276.950000   5.400000   5.700000  -10  -0.100000\n",
      "35       7650  20250120120000  101840.000000  -80.000000  8.000000  310   1.3  284.050000  280.150000   77.000000  21130.000000   0.000000   90.000000  1.000000  1250.000000  101450.000000  -160.000000  296.45   NaN  277.850000   2.100000   4.000000  -10   0.400000\n",
      "36       7661  20250120120000  101575.535714   25.344828  4.396552   60   6.2  283.851724  280.351754   80.035088  17234.883721   8.790698   93.366667  5.538462   944.285714   99976.206897  -186.140351  296.45   NaN  275.067143  10.800000  10.800000  -10          0\n",
      "37       7690  20250120120000  101920.000000  -10.000000  8.000000   20   4.8  283.550000  279.850000   78.000000  20000.000000  60.000000  100.000000  8.000000  1250.000000  101600.000000    30.000000  296.45   NaN  280.950000   7.800000  12.000000  -10   2.200000\n",
      "38       7747  20250120120000  101620.000000  -90.000000  8.000000  200   1.3  286.250000  278.650000   60.000000  59340.000000   0.000000   93.366667  1.000000  4020.000000  101090.000000  -380.000000  296.45   NaN  274.450000   2.900000   3.900000  -10   0.000000\n",
      "39       7761  20250120120000  101820.000000    0.000000  0.000000  140   2.5  287.550000  283.350000   76.000000  38670.000000   0.000000   90.000000  7.000000   800.000000  101710.000000   280.000000  296.45   NaN  281.750000   4.100000   4.800000  -10   7.100000\n",
      "40       7790  20250120120000  101760.000000  -80.000000  8.000000  130   4.3  287.450000  283.650000   78.000000  30210.000000   0.000000   93.366667  5.000000   450.000000  101620.000000  -130.000000  296.45   NaN  281.550000   6.800000   7.600000  -10  14.300000\n",
      "41      61968  20250120120000  100890.000000  150.000000  6.000000   40   2.8  283.851724  280.351754   80.035088  17234.883721   8.790698   93.366667  5.538462   944.285714  100840.000000    20.000000  296.45   NaN  275.067143          0   6.400000  -10   0.000000\n",
      "42      61970  20250120120000  100850.000000  110.000000  8.000000  350   4.4  305.650000  300.150000   73.000000  17234.883721   8.790698   93.366667  5.538462   944.285714  100740.000000    90.000000  296.45   NaN  275.067143          0   9.600000  -10   2.800000\n",
      "43      61972  20250120120000  100780.000000  120.000000  6.000000  290   3.7  305.050000  297.950000   66.000000  17234.883721   8.790698   93.366667  5.538462   944.285714  100710.000000     0.000000  296.45   NaN  275.067143          0   5.500000  -10   0.000000\n",
      "44      61976  20250120120000  101060.000000  100.000000  6.000000   60   5.1  302.950000  298.050000   75.000000  17234.883721   8.790698   93.366667  5.538462   944.285714  100970.000000   140.000000  296.45   NaN  275.067143          0  10.700000  -10   0.400000\n",
      "45      61980  20250120120000  101280.000000  -40.000000  7.000000   80   7.5  302.750000  296.650000   70.000000  38800.000000   0.000000   93.366667  3.000000  1750.000000  101130.000000   170.000000  296.45   NaN  275.067143   9.500000   9.500000  -10  -0.100000\n",
      "46      61996  20250120120000  102310.000000   20.000000  5.000000  260   5.0  293.450000  283.250000   52.000000  17234.883721   8.790698   93.366667  5.538462   944.285714  101970.000000   440.000000  296.45   NaN  275.067143          0  10.300000  -10   0.000000\n",
      "47      61997  20250120120000   99800.000000  440.000000  6.000000  300  14.1  286.650000  286.350000   98.000000  17234.883721   8.790698   93.366667  5.538462   944.285714   98090.000000  -560.000000  296.45   NaN  275.067143          0  21.400000  -10   3.000000\n",
      "48      61998  20250120120000  100100.000000  170.000000  1.000000  260   7.2  283.750000  273.150000   48.000000  30000.000000   2.000000   25.000000  2.000000   800.000000   99740.000000   400.000000  296.45   NaN  275.067143          0  14.900000  -10          0\n",
      "49      67005  20250120120000  100890.000000 -140.000000  7.000000  360   5.6  303.150000  298.450000   76.000000  20000.000000   0.000000   93.366667  5.000000   450.000000  100810.000000     0.000000  296.45   NaN  275.067143   9.600000  13.300000  -10   0.000000\n",
      "50      71805  20250120120000   99910.000000 -220.000000  8.000000  150  10.0  277.750000  277.750000  100.000000   1000.000000  60.000000  100.000000  7.000000    80.000000   99820.000000 -2330.000000  296.45   NaN  277.650000  12.500000  14.700000  -10   6.700000\n",
      "51      78890  20250120120000  101850.000000  150.000000  2.000000   70  12.8  300.450000  295.450000   74.000000  17234.883721   8.790698   93.366667  5.538462   944.285714  101530.000000   -10.000000  296.45   NaN  275.067143          0  15.900000  -10   0.000000\n",
      "52      78897  20250120120000  101880.000000  140.000000  1.000000   80   4.5  299.850000  294.650000   73.000000  50580.000000   8.790698   93.366667  5.538462   944.285714  101790.000000     0.000000  296.45   NaN  275.067143          0          0    0   0.000000\n",
      "53      78922  20250120120000  101810.000000  140.000000  3.000000   90  10.7  300.150000  295.950000   78.000000  17234.883721   8.790698   93.366667  5.538462   944.285714  101360.000000   -40.000000  296.45   NaN  275.067143  14.000000  15.800000  -10   0.200000\n",
      "54      78925  20250120120000  101750.000000  160.000000  1.000000  130   5.6  297.650000  296.250000   92.000000  17234.883721   0.000000   90.000000  7.000000   450.000000  101660.000000   -20.000000  296.45   NaN  275.067143   8.900000   8.900000  -10  11.900000\n",
      "55      81401  20250120120000  101410.000000  150.000000  3.000000    0   0.0  298.450000  296.350000   88.000000  17234.883721   8.790698   93.366667  5.538462   944.285714  101350.000000   -10.000000  296.45   NaN  275.067143   1.400000   2.500000  -10   0.000000\n",
      "56      81405  20250120120000  101410.000000  140.000000  3.000000   70   0.7  298.750000  296.050000   85.000000  58030.000000   0.000000   90.000000  2.000000   800.000000  101320.000000   -10.000000  296.45   NaN  298.750000   1.600000          0  -10  -0.100000\n",
      "57      81408  20250120120000  101370.000000  100.000000  2.000000  300   0.5  299.750000  296.450000   82.000000  17234.883721   8.790698   93.366667  5.538462   944.285714  101290.000000   -30.000000  296.45   NaN  275.067143   1.700000   1.900000  -10          0\n",
      "58      81415  20250120120000  101470.000000  130.000000  3.000000   60   1.2  297.750000  295.250000   86.000000  17234.883721   8.790698   93.366667  5.538462   944.285714  100250.000000   -10.000000  296.45   NaN  275.067143   2.500000   2.500000  -10          0\n",
      "59      89642  20250120120000   98480.000000    0.000000  0.000000  110   6.7  273.450000  268.050000   67.000000  17234.883721   8.790698   93.366667  5.538462   944.285714   97950.000000  -186.140351  296.45   NaN  275.067143          0          0    0          0\n"
     ]
    }
   ],
   "source": [
    "df[['dd', 'ff', 'raf10', 'rafper', 'rr12', \"per\"]] = df[['dd', 'ff', 'raf10', 'rafper', 'rr12', \"per\"]].fillna(0)\n",
    "\n",
    "moyenne = [\"pmer\", \"tend\", \"cod_tend\", \"pres\", \"tend24\", \"t\", \"td\", \"tn12\", \"tx12\", \"tminsol\", \"u\", \"vv\", \"n\", \"nbas\", \"hbas\", \"ww\"]\n",
    "df[moyenne] = df[moyenne].apply(pd.to_numeric, errors='coerce')\n",
    "\n",
    "for col in moyenne:\n",
    "    df[col] = df[col].fillna(df[col].mean())\n",
    "\n",
    "print(df.to_string())\n",
    "\n"
   ]
  },
  {
   "cell_type": "markdown",
   "metadata": {},
   "source": [
    "## Typages des colonnes"
   ]
  },
  {
   "cell_type": "code",
   "execution_count": 73,
   "metadata": {
    "execution": {
     "iopub.execute_input": "2024-12-27T21:20:21.994051Z",
     "iopub.status.busy": "2024-12-27T21:20:21.993978Z",
     "iopub.status.idle": "2024-12-27T21:20:22.010060Z",
     "shell.execute_reply": "2024-12-27T21:20:22.009851Z"
    }
   },
   "outputs": [
    {
     "name": "stdout",
     "output_type": "stream",
     "text": [
      "numer_sta -> int64\n",
      "numer_sta -> int64\n",
      "\n",
      "pmer -> float64\n",
      "pmer -> int64\n",
      "\n",
      "tend -> float64\n",
      "tend -> int64\n",
      "\n",
      "cod_tend -> float64\n",
      "cod_tend -> int64\n",
      "\n",
      "dd -> int64\n",
      "dd -> int64\n",
      "\n",
      "u -> float64\n",
      "u -> int64\n",
      "\n",
      "ww -> float64\n",
      "ww -> int64\n",
      "\n",
      "nbas -> float64\n",
      "nbas -> int64\n",
      "\n",
      "hbas -> float64\n",
      "hbas -> int64\n",
      "\n",
      "pres -> float64\n",
      "pres -> int64\n",
      "\n",
      "tend24 -> float64\n",
      "tend24 -> int64\n",
      "\n",
      "dd -> int64\n",
      "dd -> float64\n",
      "\n",
      "ff -> float64\n",
      "ff -> float64\n",
      "\n",
      "raf10 -> object\n",
      "raf10 -> float64\n",
      "\n",
      "rafper -> object\n",
      "rafper -> float64\n",
      "\n",
      "rr12 -> object\n",
      "rr12 -> float64\n",
      "\n",
      "per -> object\n",
      "per -> float64\n",
      "\n",
      "t -> float64\n",
      "t -> float64\n",
      "\n",
      "td -> float64\n",
      "td -> float64\n",
      "\n",
      "tn12 -> float64\n",
      "tn12 -> float64\n",
      "\n",
      "tx12 -> float64\n",
      "tx12 -> float64\n",
      "\n",
      "tminsol -> float64\n",
      "tminsol -> float64\n",
      "\n",
      "n -> float64\n",
      "n -> float64\n",
      "\n",
      "vv -> float64\n",
      "vv -> float64\n",
      "\n"
     ]
    }
   ],
   "source": [
    "df[\"date\"] = pd.to_datetime(df[\"date\"], format='%Y%m%d%H%M%S')\n",
    "df['date'] = df['date'].dt.strftime(\"%Y-%m-%d %H:%M:%S\")\n",
    "\n",
    "entier = [\"numer_sta\", \"pmer\", \"tend\", \"cod_tend\", \"dd\", \"u\", \"ww\", \"nbas\", \"hbas\", \"pres\", \"tend24\"]\n",
    "for i in entier:\n",
    "    print(f\"{i} -> {df[i].dtype}\")\n",
    "    df[i] = df[i].astype(int)\n",
    "    print(f\"{i} -> {df[i].dtype}\")\n",
    "    print(\"\")\n",
    "\n",
    "double = ['dd', 'ff', 'raf10', 'rafper', 'rr12', \"per\", \"t\", \"td\", \"tn12\", \"tx12\", \"tminsol\", \"n\", \"vv\"]\n",
    "for i in double:\n",
    "    print(f\"{i} -> {df[i].dtype}\")\n",
    "    df[i] = df[i].astype(float)\n",
    "    print(f\"{i} -> {df[i].dtype}\")\n",
    "    print(\"\")"
   ]
  },
  {
   "cell_type": "code",
   "execution_count": 74,
   "metadata": {
    "execution": {
     "iopub.execute_input": "2024-12-27T21:20:22.011137Z",
     "iopub.status.busy": "2024-12-27T21:20:22.011051Z",
     "iopub.status.idle": "2024-12-27T21:20:22.019876Z",
     "shell.execute_reply": "2024-12-27T21:20:22.019678Z"
    }
   },
   "outputs": [
    {
     "name": "stdout",
     "output_type": "stream",
     "text": [
      "    numer_sta                 date    pmer  tend  cod_tend     dd    ff           t          td    u            vv  ww           n  nbas  hbas    pres  tend24    tn12  tx12     tminsol  raf10  rafper   per  rr12\n",
      "0        7005  2025-01-20 12:00:00  101990   -50         8  140.0   2.0  276.450000  273.650000   82   8480.000000   0   93.366667     5   944  101090    -240  296.45   NaN  273.150000    3.9     5.6 -10.0   0.0\n",
      "1        7015  2025-01-20 12:00:00  102020   -40         8  150.0   2.6  273.350000  273.350000  100    640.000000  45  101.000000     9    30  101420    -280  296.45   NaN  273.250000    3.7     3.7 -10.0   0.0\n",
      "2        7020  2025-01-20 12:00:00  101920    70         1  100.0   3.9  277.950000  275.850000   86  17234.883721   8   93.366667     5   944  101810     -60  296.45   NaN  275.067143    6.5     7.9 -10.0   0.0\n",
      "3        7027  2025-01-20 12:00:00  101930   -20         8  130.0   5.0  275.350000  273.850000   90   6840.000000   0  100.000000     8   250  101090    -240  296.45   NaN  275.350000    6.9     8.1 -10.0   0.0\n",
      "4        7037  2025-01-20 12:00:00  102000   -30         8  130.0   2.6  274.250000  272.750000   90  10380.000000   0  100.000000     8   250  100030    -230  296.45   NaN  275.450000    4.2     5.0 -10.0   0.0\n",
      "5        7072  2025-01-20 12:00:00  102100    10         0  160.0   1.5  271.250000  270.950000   98    480.000000  48  100.000000     8    80  100890    -210  296.45   NaN  272.650000    2.8     4.1 -10.0   0.0\n",
      "6        7110  2025-01-20 12:00:00  101680    10         0   70.0   1.8  282.350000  276.150000   65  19230.000000   0   93.366667     0   944  100490    -120  296.45   NaN  270.650000    2.8     3.6 -10.0   0.2\n",
      "7        7117  2025-01-20 12:00:00  101780   -10         8   90.0   4.5  276.150000  276.150000  100   6000.000000   2  100.000000     8  1250  101060     -50  296.45   NaN  275.067143    7.6     8.1 -10.0   0.2\n",
      "8        7130  2025-01-20 12:00:00  101860     0         0  140.0   3.6  274.750000  273.250000   90  14060.000000   0  100.000000     8   250  101390    -230  296.45   NaN  273.250000    5.4     6.3 -10.0   0.0\n",
      "9        7139  2025-01-20 12:00:00  101960   -40         8   90.0   2.6  272.750000  272.050000   95   9740.000000   0  100.000000     8   150  100130    -260  296.45   NaN  276.550000    4.4     5.1 -10.0   0.0\n",
      "10       7149  2025-01-20 12:00:00  102060   -20         8   70.0   2.2  271.350000  270.750000   96   4000.000000  20  100.000000     8   150  100910    -260  296.45   NaN  275.067143    3.7     5.0 -10.0  -0.1\n",
      "11       7181  2025-01-20 12:00:00  102080   -50         8   80.0   2.0  273.450000  272.550000   94   7990.000000   0  100.000000     8  3960   97740    -190  296.45   NaN  268.550000    3.1     3.1 -10.0   0.0\n",
      "12       7190  2025-01-20 12:00:00  102200   -10         8  300.0   0.6  272.550000  272.250000   98    810.000000  48  100.000000     8    80  100290     -90  296.45   NaN  272.550000    2.0     2.6 -10.0   0.0\n",
      "13       7207  2025-01-20 12:00:00  101575    25         4   70.0   6.2  275.250000  280.351754   80   6000.000000   2  100.000000     8   150   99976    -186  296.45   NaN  275.067143    9.0    12.4 -10.0   0.0\n",
      "14       7222  2025-01-20 12:00:00  101770    30         0   60.0   4.1  272.950000  271.850000   92   7210.000000   0  100.000000     8   150  101440    -370  296.45   NaN  273.850000    6.0     7.0 -10.0   0.0\n",
      "15       7240  2025-01-20 12:00:00  101920   -20         8   60.0   1.9  273.650000  272.750000   94   9560.000000   0  100.000000     8   150  100510    -310  296.45   NaN  274.450000    3.4     3.6 -10.0   0.0\n",
      "16       7255  2025-01-20 12:00:00  101940     0         0  130.0   2.2  274.650000  273.950000   95  10480.000000   0   93.366667     5   944   99870    -350  296.45   NaN  273.150000    3.1     4.3 -10.0   0.0\n",
      "17       7280  2025-01-20 12:00:00  102140   -10         0   30.0   1.5  271.650000  271.350000   98   2000.000000  10  100.000000     8    80   99370    -220  296.45   NaN  271.650000    2.6     2.6 -10.0   0.0\n",
      "18       7299  2025-01-20 12:00:00  102050   -70         8  350.0   2.1  277.650000  273.250000   73   9610.000000   0   93.366667     0   944   98700    -140  296.45   NaN  273.850000    3.6     3.9 -10.0   0.0\n",
      "19       7314  2025-01-20 12:00:00  101670    40         0   80.0   4.2  280.650000  277.450000   80  17234.883721   8   93.366667     5   944  101390    -420  296.45   NaN  275.067143    7.2     7.2 -10.0   0.0\n",
      "20       7335  2025-01-20 12:00:00  101840     0         0  100.0   1.6  276.350000  274.550000   88  11020.000000   0   93.366667     0   944  100350    -380  296.45   NaN  275.950000    3.3     3.3 -10.0   0.0\n",
      "21       7434  2025-01-20 12:00:00  101700    10         0  160.0   4.4  282.950000  277.150000   67  29140.000000   0   93.366667     1  1250   96910    -300  296.45   NaN  274.950000    7.6     7.6 -10.0   0.0\n",
      "22       7460  2025-01-20 12:00:00  101900   -10         8   50.0   1.5  276.750000  273.950000   82   3900.000000  10  100.000000     8  2250   97850    -240  296.45   NaN  269.650000    2.5     2.5 -10.0  -0.1\n",
      "23       7471  2025-01-20 12:00:00  101575   -20         8  130.0   2.2  279.650000  273.750000   66  20000.000000   0  100.000000     1   800   92050    -180  296.45   NaN  271.650000    6.1     6.1 -10.0  -0.1\n",
      "24       7481  2025-01-20 12:00:00  102060   -30         8  170.0   0.6  274.750000  274.150000   96   4000.000000  10   90.000000     5   150   99080    -230  296.45   NaN  275.067143    1.3     3.6 -10.0   0.0\n",
      "25       7510  2025-01-20 12:00:00  101620   -20         8  140.0   4.2  280.850000  277.950000   82  19660.000000   0  100.000000     8  1250  101030    -470  296.45   NaN  270.250000    6.2     7.1 -10.0   0.2\n",
      "26       7535  2025-01-20 12:00:00  101700     0         0  130.0   1.6  283.150000  278.350000   72  20000.000000   0   93.366667     0   944   98570    -330  296.45   NaN  275.150000    2.9     2.9 -10.0   0.0\n",
      "27       7558  2025-01-20 12:00:00  101780    20         0  130.0   7.9  278.250000  276.750000   90  20000.000000  61   93.366667     5   944   93350    -190  296.45   NaN  275.050000   14.0    14.4 -10.0  -0.1\n",
      "28       7577  2025-01-20 12:00:00  101960   -70         8  350.0   1.1  280.750000  274.550000   65   7770.000000   0   93.366667     5   944  101050    -190  296.45   NaN  274.150000    2.1     2.6 -10.0   0.0\n",
      "29       7591  2025-01-20 12:00:00  101575   130         8   50.0   7.8  283.550000  269.050000   36  17234.883721   8   93.366667     5   944   91540    -250  296.45   NaN  275.067143   12.9    16.5 -10.0   0.0\n",
      "30       7607  2025-01-20 12:00:00  101640     0         0  120.0   1.8  280.750000  279.650000   93  17200.000000   0  100.000000     8  1250  100920    -340  296.45   NaN  274.850000    2.6     3.0 -10.0   2.4\n",
      "31       7621  2025-01-20 12:00:00  101610    80         0  330.0   1.3  283.250000  273.850000   52  35280.000000   0  100.000000     8  2250   97280    -240  296.45   NaN  271.150000    2.4     4.6 -10.0   0.0\n",
      "32       7627  2025-01-20 12:00:00  101600    60         0  320.0   3.1  281.450000  271.350000   49  20000.000000   0   25.000000     2  3170   96650    -300  296.45   NaN  273.050000    5.7     5.9 -10.0   0.0\n",
      "33       7630  2025-01-20 12:00:00  101630    10         0  130.0   4.9  283.650000  280.150000   79  15330.000000   0  100.000000     8   800   99820    -400  296.45   NaN  273.250000    9.6     9.6 -10.0  -0.1\n",
      "34       7643  2025-01-20 12:00:00  101860   -40         8   50.0   3.7  282.650000  278.850000   77  16530.000000   0  100.000000     6   800  101760    -180  296.45   NaN  276.950000    5.4     5.7 -10.0  -0.1\n",
      "35       7650  2025-01-20 12:00:00  101840   -80         8  310.0   1.3  284.050000  280.150000   77  21130.000000   0   90.000000     1  1250  101450    -160  296.45   NaN  277.850000    2.1     4.0 -10.0   0.4\n",
      "36       7661  2025-01-20 12:00:00  101575    25         4   60.0   6.2  283.851724  280.351754   80  17234.883721   8   93.366667     5   944   99976    -186  296.45   NaN  275.067143   10.8    10.8 -10.0   0.0\n",
      "37       7690  2025-01-20 12:00:00  101920   -10         8   20.0   4.8  283.550000  279.850000   78  20000.000000  60  100.000000     8  1250  101600      30  296.45   NaN  280.950000    7.8    12.0 -10.0   2.2\n",
      "38       7747  2025-01-20 12:00:00  101620   -90         8  200.0   1.3  286.250000  278.650000   60  59340.000000   0   93.366667     1  4020  101090    -380  296.45   NaN  274.450000    2.9     3.9 -10.0   0.0\n",
      "39       7761  2025-01-20 12:00:00  101820     0         0  140.0   2.5  287.550000  283.350000   76  38670.000000   0   90.000000     7   800  101710     280  296.45   NaN  281.750000    4.1     4.8 -10.0   7.1\n",
      "40       7790  2025-01-20 12:00:00  101760   -80         8  130.0   4.3  287.450000  283.650000   78  30210.000000   0   93.366667     5   450  101620    -130  296.45   NaN  281.550000    6.8     7.6 -10.0  14.3\n",
      "41      61968  2025-01-20 12:00:00  100890   150         6   40.0   2.8  283.851724  280.351754   80  17234.883721   8   93.366667     5   944  100840      20  296.45   NaN  275.067143    0.0     6.4 -10.0   0.0\n",
      "42      61970  2025-01-20 12:00:00  100850   110         8  350.0   4.4  305.650000  300.150000   73  17234.883721   8   93.366667     5   944  100740      90  296.45   NaN  275.067143    0.0     9.6 -10.0   2.8\n",
      "43      61972  2025-01-20 12:00:00  100780   120         6  290.0   3.7  305.050000  297.950000   66  17234.883721   8   93.366667     5   944  100710       0  296.45   NaN  275.067143    0.0     5.5 -10.0   0.0\n",
      "44      61976  2025-01-20 12:00:00  101060   100         6   60.0   5.1  302.950000  298.050000   75  17234.883721   8   93.366667     5   944  100970     140  296.45   NaN  275.067143    0.0    10.7 -10.0   0.4\n",
      "45      61980  2025-01-20 12:00:00  101280   -40         7   80.0   7.5  302.750000  296.650000   70  38800.000000   0   93.366667     3  1750  101130     170  296.45   NaN  275.067143    9.5     9.5 -10.0  -0.1\n",
      "46      61996  2025-01-20 12:00:00  102310    20         5  260.0   5.0  293.450000  283.250000   52  17234.883721   8   93.366667     5   944  101970     440  296.45   NaN  275.067143    0.0    10.3 -10.0   0.0\n",
      "47      61997  2025-01-20 12:00:00   99800   440         6  300.0  14.1  286.650000  286.350000   98  17234.883721   8   93.366667     5   944   98090    -560  296.45   NaN  275.067143    0.0    21.4 -10.0   3.0\n",
      "48      61998  2025-01-20 12:00:00  100100   170         1  260.0   7.2  283.750000  273.150000   48  30000.000000   2   25.000000     2   800   99740     400  296.45   NaN  275.067143    0.0    14.9 -10.0   0.0\n",
      "49      67005  2025-01-20 12:00:00  100890  -140         7  360.0   5.6  303.150000  298.450000   76  20000.000000   0   93.366667     5   450  100810       0  296.45   NaN  275.067143    9.6    13.3 -10.0   0.0\n",
      "50      71805  2025-01-20 12:00:00   99910  -220         8  150.0  10.0  277.750000  277.750000  100   1000.000000  60  100.000000     7    80   99820   -2330  296.45   NaN  277.650000   12.5    14.7 -10.0   6.7\n",
      "51      78890  2025-01-20 12:00:00  101850   150         2   70.0  12.8  300.450000  295.450000   74  17234.883721   8   93.366667     5   944  101530     -10  296.45   NaN  275.067143    0.0    15.9 -10.0   0.0\n",
      "52      78897  2025-01-20 12:00:00  101880   140         1   80.0   4.5  299.850000  294.650000   73  50580.000000   8   93.366667     5   944  101790       0  296.45   NaN  275.067143    0.0     0.0   0.0   0.0\n",
      "53      78922  2025-01-20 12:00:00  101810   140         3   90.0  10.7  300.150000  295.950000   78  17234.883721   8   93.366667     5   944  101360     -40  296.45   NaN  275.067143   14.0    15.8 -10.0   0.2\n",
      "54      78925  2025-01-20 12:00:00  101750   160         1  130.0   5.6  297.650000  296.250000   92  17234.883721   0   90.000000     7   450  101660     -20  296.45   NaN  275.067143    8.9     8.9 -10.0  11.9\n",
      "55      81401  2025-01-20 12:00:00  101410   150         3    0.0   0.0  298.450000  296.350000   88  17234.883721   8   93.366667     5   944  101350     -10  296.45   NaN  275.067143    1.4     2.5 -10.0   0.0\n",
      "56      81405  2025-01-20 12:00:00  101410   140         3   70.0   0.7  298.750000  296.050000   85  58030.000000   0   90.000000     2   800  101320     -10  296.45   NaN  298.750000    1.6     0.0 -10.0  -0.1\n",
      "57      81408  2025-01-20 12:00:00  101370   100         2  300.0   0.5  299.750000  296.450000   82  17234.883721   8   93.366667     5   944  101290     -30  296.45   NaN  275.067143    1.7     1.9 -10.0   0.0\n",
      "58      81415  2025-01-20 12:00:00  101470   130         3   60.0   1.2  297.750000  295.250000   86  17234.883721   8   93.366667     5   944  100250     -10  296.45   NaN  275.067143    2.5     2.5 -10.0   0.0\n",
      "59      89642  2025-01-20 12:00:00   98480     0         0  110.0   6.7  273.450000  268.050000   67  17234.883721   8   93.366667     5   944   97950    -186  296.45   NaN  275.067143    0.0     0.0   0.0   0.0\n"
     ]
    }
   ],
   "source": [
    "print(df.to_string())"
   ]
  },
  {
   "cell_type": "markdown",
   "metadata": {},
   "source": [
    "## Conversion des températures de Kelvin en Celcuis"
   ]
  },
  {
   "cell_type": "code",
   "execution_count": 75,
   "metadata": {
    "execution": {
     "iopub.execute_input": "2024-12-27T21:20:22.020946Z",
     "iopub.status.busy": "2024-12-27T21:20:22.020862Z",
     "iopub.status.idle": "2024-12-27T21:20:22.030181Z",
     "shell.execute_reply": "2024-12-27T21:20:22.029994Z"
    }
   },
   "outputs": [
    {
     "name": "stdout",
     "output_type": "stream",
     "text": [
      "    numer_sta                 date    pmer  tend  cod_tend     dd    ff          t         td    u            vv  ww           n  nbas  hbas    pres  tend24  tn12  tx12    tminsol  raf10  rafper   per  rr12\n",
      "0        7005  2025-01-20 12:00:00  101990   -50         8  140.0   2.0   3.300000   0.500000   82   8480.000000   0   93.366667     5   944  101090    -240  23.3   NaN   0.000000    3.9     5.6 -10.0   0.0\n",
      "1        7015  2025-01-20 12:00:00  102020   -40         8  150.0   2.6   0.200000   0.200000  100    640.000000  45  101.000000     9    30  101420    -280  23.3   NaN   0.100000    3.7     3.7 -10.0   0.0\n",
      "2        7020  2025-01-20 12:00:00  101920    70         1  100.0   3.9   4.800000   2.700000   86  17234.883721   8   93.366667     5   944  101810     -60  23.3   NaN   1.917143    6.5     7.9 -10.0   0.0\n",
      "3        7027  2025-01-20 12:00:00  101930   -20         8  130.0   5.0   2.200000   0.700000   90   6840.000000   0  100.000000     8   250  101090    -240  23.3   NaN   2.200000    6.9     8.1 -10.0   0.0\n",
      "4        7037  2025-01-20 12:00:00  102000   -30         8  130.0   2.6   1.100000  -0.400000   90  10380.000000   0  100.000000     8   250  100030    -230  23.3   NaN   2.300000    4.2     5.0 -10.0   0.0\n",
      "5        7072  2025-01-20 12:00:00  102100    10         0  160.0   1.5  -1.900000  -2.200000   98    480.000000  48  100.000000     8    80  100890    -210  23.3   NaN  -0.500000    2.8     4.1 -10.0   0.0\n",
      "6        7110  2025-01-20 12:00:00  101680    10         0   70.0   1.8   9.200000   3.000000   65  19230.000000   0   93.366667     0   944  100490    -120  23.3   NaN  -2.500000    2.8     3.6 -10.0   0.2\n",
      "7        7117  2025-01-20 12:00:00  101780   -10         8   90.0   4.5   3.000000   3.000000  100   6000.000000   2  100.000000     8  1250  101060     -50  23.3   NaN   1.917143    7.6     8.1 -10.0   0.2\n",
      "8        7130  2025-01-20 12:00:00  101860     0         0  140.0   3.6   1.600000   0.100000   90  14060.000000   0  100.000000     8   250  101390    -230  23.3   NaN   0.100000    5.4     6.3 -10.0   0.0\n",
      "9        7139  2025-01-20 12:00:00  101960   -40         8   90.0   2.6  -0.400000  -1.100000   95   9740.000000   0  100.000000     8   150  100130    -260  23.3   NaN   3.400000    4.4     5.1 -10.0   0.0\n",
      "10       7149  2025-01-20 12:00:00  102060   -20         8   70.0   2.2  -1.800000  -2.400000   96   4000.000000  20  100.000000     8   150  100910    -260  23.3   NaN   1.917143    3.7     5.0 -10.0  -0.1\n",
      "11       7181  2025-01-20 12:00:00  102080   -50         8   80.0   2.0   0.300000  -0.600000   94   7990.000000   0  100.000000     8  3960   97740    -190  23.3   NaN  -4.600000    3.1     3.1 -10.0   0.0\n",
      "12       7190  2025-01-20 12:00:00  102200   -10         8  300.0   0.6  -0.600000  -0.900000   98    810.000000  48  100.000000     8    80  100290     -90  23.3   NaN  -0.600000    2.0     2.6 -10.0   0.0\n",
      "13       7207  2025-01-20 12:00:00  101575    25         4   70.0   6.2   2.100000   7.201754   80   6000.000000   2  100.000000     8   150   99976    -186  23.3   NaN   1.917143    9.0    12.4 -10.0   0.0\n",
      "14       7222  2025-01-20 12:00:00  101770    30         0   60.0   4.1  -0.200000  -1.300000   92   7210.000000   0  100.000000     8   150  101440    -370  23.3   NaN   0.700000    6.0     7.0 -10.0   0.0\n",
      "15       7240  2025-01-20 12:00:00  101920   -20         8   60.0   1.9   0.500000  -0.400000   94   9560.000000   0  100.000000     8   150  100510    -310  23.3   NaN   1.300000    3.4     3.6 -10.0   0.0\n",
      "16       7255  2025-01-20 12:00:00  101940     0         0  130.0   2.2   1.500000   0.800000   95  10480.000000   0   93.366667     5   944   99870    -350  23.3   NaN   0.000000    3.1     4.3 -10.0   0.0\n",
      "17       7280  2025-01-20 12:00:00  102140   -10         0   30.0   1.5  -1.500000  -1.800000   98   2000.000000  10  100.000000     8    80   99370    -220  23.3   NaN  -1.500000    2.6     2.6 -10.0   0.0\n",
      "18       7299  2025-01-20 12:00:00  102050   -70         8  350.0   2.1   4.500000   0.100000   73   9610.000000   0   93.366667     0   944   98700    -140  23.3   NaN   0.700000    3.6     3.9 -10.0   0.0\n",
      "19       7314  2025-01-20 12:00:00  101670    40         0   80.0   4.2   7.500000   4.300000   80  17234.883721   8   93.366667     5   944  101390    -420  23.3   NaN   1.917143    7.2     7.2 -10.0   0.0\n",
      "20       7335  2025-01-20 12:00:00  101840     0         0  100.0   1.6   3.200000   1.400000   88  11020.000000   0   93.366667     0   944  100350    -380  23.3   NaN   2.800000    3.3     3.3 -10.0   0.0\n",
      "21       7434  2025-01-20 12:00:00  101700    10         0  160.0   4.4   9.800000   4.000000   67  29140.000000   0   93.366667     1  1250   96910    -300  23.3   NaN   1.800000    7.6     7.6 -10.0   0.0\n",
      "22       7460  2025-01-20 12:00:00  101900   -10         8   50.0   1.5   3.600000   0.800000   82   3900.000000  10  100.000000     8  2250   97850    -240  23.3   NaN  -3.500000    2.5     2.5 -10.0  -0.1\n",
      "23       7471  2025-01-20 12:00:00  101575   -20         8  130.0   2.2   6.500000   0.600000   66  20000.000000   0  100.000000     1   800   92050    -180  23.3   NaN  -1.500000    6.1     6.1 -10.0  -0.1\n",
      "24       7481  2025-01-20 12:00:00  102060   -30         8  170.0   0.6   1.600000   1.000000   96   4000.000000  10   90.000000     5   150   99080    -230  23.3   NaN   1.917143    1.3     3.6 -10.0   0.0\n",
      "25       7510  2025-01-20 12:00:00  101620   -20         8  140.0   4.2   7.700000   4.800000   82  19660.000000   0  100.000000     8  1250  101030    -470  23.3   NaN  -2.900000    6.2     7.1 -10.0   0.2\n",
      "26       7535  2025-01-20 12:00:00  101700     0         0  130.0   1.6  10.000000   5.200000   72  20000.000000   0   93.366667     0   944   98570    -330  23.3   NaN   2.000000    2.9     2.9 -10.0   0.0\n",
      "27       7558  2025-01-20 12:00:00  101780    20         0  130.0   7.9   5.100000   3.600000   90  20000.000000  61   93.366667     5   944   93350    -190  23.3   NaN   1.900000   14.0    14.4 -10.0  -0.1\n",
      "28       7577  2025-01-20 12:00:00  101960   -70         8  350.0   1.1   7.600000   1.400000   65   7770.000000   0   93.366667     5   944  101050    -190  23.3   NaN   1.000000    2.1     2.6 -10.0   0.0\n",
      "29       7591  2025-01-20 12:00:00  101575   130         8   50.0   7.8  10.400000  -4.100000   36  17234.883721   8   93.366667     5   944   91540    -250  23.3   NaN   1.917143   12.9    16.5 -10.0   0.0\n",
      "30       7607  2025-01-20 12:00:00  101640     0         0  120.0   1.8   7.600000   6.500000   93  17200.000000   0  100.000000     8  1250  100920    -340  23.3   NaN   1.700000    2.6     3.0 -10.0   2.4\n",
      "31       7621  2025-01-20 12:00:00  101610    80         0  330.0   1.3  10.100000   0.700000   52  35280.000000   0  100.000000     8  2250   97280    -240  23.3   NaN  -2.000000    2.4     4.6 -10.0   0.0\n",
      "32       7627  2025-01-20 12:00:00  101600    60         0  320.0   3.1   8.300000  -1.800000   49  20000.000000   0   25.000000     2  3170   96650    -300  23.3   NaN  -0.100000    5.7     5.9 -10.0   0.0\n",
      "33       7630  2025-01-20 12:00:00  101630    10         0  130.0   4.9  10.500000   7.000000   79  15330.000000   0  100.000000     8   800   99820    -400  23.3   NaN   0.100000    9.6     9.6 -10.0  -0.1\n",
      "34       7643  2025-01-20 12:00:00  101860   -40         8   50.0   3.7   9.500000   5.700000   77  16530.000000   0  100.000000     6   800  101760    -180  23.3   NaN   3.800000    5.4     5.7 -10.0  -0.1\n",
      "35       7650  2025-01-20 12:00:00  101840   -80         8  310.0   1.3  10.900000   7.000000   77  21130.000000   0   90.000000     1  1250  101450    -160  23.3   NaN   4.700000    2.1     4.0 -10.0   0.4\n",
      "36       7661  2025-01-20 12:00:00  101575    25         4   60.0   6.2  10.701724   7.201754   80  17234.883721   8   93.366667     5   944   99976    -186  23.3   NaN   1.917143   10.8    10.8 -10.0   0.0\n",
      "37       7690  2025-01-20 12:00:00  101920   -10         8   20.0   4.8  10.400000   6.700000   78  20000.000000  60  100.000000     8  1250  101600      30  23.3   NaN   7.800000    7.8    12.0 -10.0   2.2\n",
      "38       7747  2025-01-20 12:00:00  101620   -90         8  200.0   1.3  13.100000   5.500000   60  59340.000000   0   93.366667     1  4020  101090    -380  23.3   NaN   1.300000    2.9     3.9 -10.0   0.0\n",
      "39       7761  2025-01-20 12:00:00  101820     0         0  140.0   2.5  14.400000  10.200000   76  38670.000000   0   90.000000     7   800  101710     280  23.3   NaN   8.600000    4.1     4.8 -10.0   7.1\n",
      "40       7790  2025-01-20 12:00:00  101760   -80         8  130.0   4.3  14.300000  10.500000   78  30210.000000   0   93.366667     5   450  101620    -130  23.3   NaN   8.400000    6.8     7.6 -10.0  14.3\n",
      "41      61968  2025-01-20 12:00:00  100890   150         6   40.0   2.8  10.701724   7.201754   80  17234.883721   8   93.366667     5   944  100840      20  23.3   NaN   1.917143    0.0     6.4 -10.0   0.0\n",
      "42      61970  2025-01-20 12:00:00  100850   110         8  350.0   4.4  32.500000  27.000000   73  17234.883721   8   93.366667     5   944  100740      90  23.3   NaN   1.917143    0.0     9.6 -10.0   2.8\n",
      "43      61972  2025-01-20 12:00:00  100780   120         6  290.0   3.7  31.900000  24.800000   66  17234.883721   8   93.366667     5   944  100710       0  23.3   NaN   1.917143    0.0     5.5 -10.0   0.0\n",
      "44      61976  2025-01-20 12:00:00  101060   100         6   60.0   5.1  29.800000  24.900000   75  17234.883721   8   93.366667     5   944  100970     140  23.3   NaN   1.917143    0.0    10.7 -10.0   0.4\n",
      "45      61980  2025-01-20 12:00:00  101280   -40         7   80.0   7.5  29.600000  23.500000   70  38800.000000   0   93.366667     3  1750  101130     170  23.3   NaN   1.917143    9.5     9.5 -10.0  -0.1\n",
      "46      61996  2025-01-20 12:00:00  102310    20         5  260.0   5.0  20.300000  10.100000   52  17234.883721   8   93.366667     5   944  101970     440  23.3   NaN   1.917143    0.0    10.3 -10.0   0.0\n",
      "47      61997  2025-01-20 12:00:00   99800   440         6  300.0  14.1  13.500000  13.200000   98  17234.883721   8   93.366667     5   944   98090    -560  23.3   NaN   1.917143    0.0    21.4 -10.0   3.0\n",
      "48      61998  2025-01-20 12:00:00  100100   170         1  260.0   7.2  10.600000   0.000000   48  30000.000000   2   25.000000     2   800   99740     400  23.3   NaN   1.917143    0.0    14.9 -10.0   0.0\n",
      "49      67005  2025-01-20 12:00:00  100890  -140         7  360.0   5.6  30.000000  25.300000   76  20000.000000   0   93.366667     5   450  100810       0  23.3   NaN   1.917143    9.6    13.3 -10.0   0.0\n",
      "50      71805  2025-01-20 12:00:00   99910  -220         8  150.0  10.0   4.600000   4.600000  100   1000.000000  60  100.000000     7    80   99820   -2330  23.3   NaN   4.500000   12.5    14.7 -10.0   6.7\n",
      "51      78890  2025-01-20 12:00:00  101850   150         2   70.0  12.8  27.300000  22.300000   74  17234.883721   8   93.366667     5   944  101530     -10  23.3   NaN   1.917143    0.0    15.9 -10.0   0.0\n",
      "52      78897  2025-01-20 12:00:00  101880   140         1   80.0   4.5  26.700000  21.500000   73  50580.000000   8   93.366667     5   944  101790       0  23.3   NaN   1.917143    0.0     0.0   0.0   0.0\n",
      "53      78922  2025-01-20 12:00:00  101810   140         3   90.0  10.7  27.000000  22.800000   78  17234.883721   8   93.366667     5   944  101360     -40  23.3   NaN   1.917143   14.0    15.8 -10.0   0.2\n",
      "54      78925  2025-01-20 12:00:00  101750   160         1  130.0   5.6  24.500000  23.100000   92  17234.883721   0   90.000000     7   450  101660     -20  23.3   NaN   1.917143    8.9     8.9 -10.0  11.9\n",
      "55      81401  2025-01-20 12:00:00  101410   150         3    0.0   0.0  25.300000  23.200000   88  17234.883721   8   93.366667     5   944  101350     -10  23.3   NaN   1.917143    1.4     2.5 -10.0   0.0\n",
      "56      81405  2025-01-20 12:00:00  101410   140         3   70.0   0.7  25.600000  22.900000   85  58030.000000   0   90.000000     2   800  101320     -10  23.3   NaN  25.600000    1.6     0.0 -10.0  -0.1\n",
      "57      81408  2025-01-20 12:00:00  101370   100         2  300.0   0.5  26.600000  23.300000   82  17234.883721   8   93.366667     5   944  101290     -30  23.3   NaN   1.917143    1.7     1.9 -10.0   0.0\n",
      "58      81415  2025-01-20 12:00:00  101470   130         3   60.0   1.2  24.600000  22.100000   86  17234.883721   8   93.366667     5   944  100250     -10  23.3   NaN   1.917143    2.5     2.5 -10.0   0.0\n",
      "59      89642  2025-01-20 12:00:00   98480     0         0  110.0   6.7   0.300000  -5.100000   67  17234.883721   8   93.366667     5   944   97950    -186  23.3   NaN   1.917143    0.0     0.0   0.0   0.0\n"
     ]
    }
   ],
   "source": [
    "celcuis = [\"t\", \"td\", \"tn12\", \"tx12\", \"tminsol\"]\n",
    "for i in celcuis:\n",
    "    df[i] = df[i] - 273.15\n",
    "\n",
    "print(df.to_string())"
   ]
  },
  {
   "cell_type": "markdown",
   "metadata": {},
   "source": [
    "## Arrondir tous les decimaux à 2chiffres après la virgules"
   ]
  },
  {
   "cell_type": "code",
   "execution_count": 76,
   "metadata": {
    "execution": {
     "iopub.execute_input": "2024-12-27T21:20:22.031266Z",
     "iopub.status.busy": "2024-12-27T21:20:22.031188Z",
     "iopub.status.idle": "2024-12-27T21:20:22.042065Z",
     "shell.execute_reply": "2024-12-27T21:20:22.041874Z"
    }
   },
   "outputs": [
    {
     "name": "stdout",
     "output_type": "stream",
     "text": [
      "    numer_sta                 date    pmer  tend  cod_tend     dd    ff     t    td    u        vv  ww       n  nbas  hbas    pres  tend24  tn12  tx12  tminsol  raf10  rafper   per  rr12\n",
      "0        7005  2025-01-20 12:00:00  101990   -50         8  140.0   2.0   3.3   0.5   82   8480.00   0   93.37     5   944  101090    -240  23.3   NaN     0.00    3.9     5.6 -10.0   0.0\n",
      "1        7015  2025-01-20 12:00:00  102020   -40         8  150.0   2.6   0.2   0.2  100    640.00  45  101.00     9    30  101420    -280  23.3   NaN     0.10    3.7     3.7 -10.0   0.0\n",
      "2        7020  2025-01-20 12:00:00  101920    70         1  100.0   3.9   4.8   2.7   86  17234.88   8   93.37     5   944  101810     -60  23.3   NaN     1.92    6.5     7.9 -10.0   0.0\n",
      "3        7027  2025-01-20 12:00:00  101930   -20         8  130.0   5.0   2.2   0.7   90   6840.00   0  100.00     8   250  101090    -240  23.3   NaN     2.20    6.9     8.1 -10.0   0.0\n",
      "4        7037  2025-01-20 12:00:00  102000   -30         8  130.0   2.6   1.1  -0.4   90  10380.00   0  100.00     8   250  100030    -230  23.3   NaN     2.30    4.2     5.0 -10.0   0.0\n",
      "5        7072  2025-01-20 12:00:00  102100    10         0  160.0   1.5  -1.9  -2.2   98    480.00  48  100.00     8    80  100890    -210  23.3   NaN    -0.50    2.8     4.1 -10.0   0.0\n",
      "6        7110  2025-01-20 12:00:00  101680    10         0   70.0   1.8   9.2   3.0   65  19230.00   0   93.37     0   944  100490    -120  23.3   NaN    -2.50    2.8     3.6 -10.0   0.2\n",
      "7        7117  2025-01-20 12:00:00  101780   -10         8   90.0   4.5   3.0   3.0  100   6000.00   2  100.00     8  1250  101060     -50  23.3   NaN     1.92    7.6     8.1 -10.0   0.2\n",
      "8        7130  2025-01-20 12:00:00  101860     0         0  140.0   3.6   1.6   0.1   90  14060.00   0  100.00     8   250  101390    -230  23.3   NaN     0.10    5.4     6.3 -10.0   0.0\n",
      "9        7139  2025-01-20 12:00:00  101960   -40         8   90.0   2.6  -0.4  -1.1   95   9740.00   0  100.00     8   150  100130    -260  23.3   NaN     3.40    4.4     5.1 -10.0   0.0\n",
      "10       7149  2025-01-20 12:00:00  102060   -20         8   70.0   2.2  -1.8  -2.4   96   4000.00  20  100.00     8   150  100910    -260  23.3   NaN     1.92    3.7     5.0 -10.0  -0.1\n",
      "11       7181  2025-01-20 12:00:00  102080   -50         8   80.0   2.0   0.3  -0.6   94   7990.00   0  100.00     8  3960   97740    -190  23.3   NaN    -4.60    3.1     3.1 -10.0   0.0\n",
      "12       7190  2025-01-20 12:00:00  102200   -10         8  300.0   0.6  -0.6  -0.9   98    810.00  48  100.00     8    80  100290     -90  23.3   NaN    -0.60    2.0     2.6 -10.0   0.0\n",
      "13       7207  2025-01-20 12:00:00  101575    25         4   70.0   6.2   2.1   7.2   80   6000.00   2  100.00     8   150   99976    -186  23.3   NaN     1.92    9.0    12.4 -10.0   0.0\n",
      "14       7222  2025-01-20 12:00:00  101770    30         0   60.0   4.1  -0.2  -1.3   92   7210.00   0  100.00     8   150  101440    -370  23.3   NaN     0.70    6.0     7.0 -10.0   0.0\n",
      "15       7240  2025-01-20 12:00:00  101920   -20         8   60.0   1.9   0.5  -0.4   94   9560.00   0  100.00     8   150  100510    -310  23.3   NaN     1.30    3.4     3.6 -10.0   0.0\n",
      "16       7255  2025-01-20 12:00:00  101940     0         0  130.0   2.2   1.5   0.8   95  10480.00   0   93.37     5   944   99870    -350  23.3   NaN     0.00    3.1     4.3 -10.0   0.0\n",
      "17       7280  2025-01-20 12:00:00  102140   -10         0   30.0   1.5  -1.5  -1.8   98   2000.00  10  100.00     8    80   99370    -220  23.3   NaN    -1.50    2.6     2.6 -10.0   0.0\n",
      "18       7299  2025-01-20 12:00:00  102050   -70         8  350.0   2.1   4.5   0.1   73   9610.00   0   93.37     0   944   98700    -140  23.3   NaN     0.70    3.6     3.9 -10.0   0.0\n",
      "19       7314  2025-01-20 12:00:00  101670    40         0   80.0   4.2   7.5   4.3   80  17234.88   8   93.37     5   944  101390    -420  23.3   NaN     1.92    7.2     7.2 -10.0   0.0\n",
      "20       7335  2025-01-20 12:00:00  101840     0         0  100.0   1.6   3.2   1.4   88  11020.00   0   93.37     0   944  100350    -380  23.3   NaN     2.80    3.3     3.3 -10.0   0.0\n",
      "21       7434  2025-01-20 12:00:00  101700    10         0  160.0   4.4   9.8   4.0   67  29140.00   0   93.37     1  1250   96910    -300  23.3   NaN     1.80    7.6     7.6 -10.0   0.0\n",
      "22       7460  2025-01-20 12:00:00  101900   -10         8   50.0   1.5   3.6   0.8   82   3900.00  10  100.00     8  2250   97850    -240  23.3   NaN    -3.50    2.5     2.5 -10.0  -0.1\n",
      "23       7471  2025-01-20 12:00:00  101575   -20         8  130.0   2.2   6.5   0.6   66  20000.00   0  100.00     1   800   92050    -180  23.3   NaN    -1.50    6.1     6.1 -10.0  -0.1\n",
      "24       7481  2025-01-20 12:00:00  102060   -30         8  170.0   0.6   1.6   1.0   96   4000.00  10   90.00     5   150   99080    -230  23.3   NaN     1.92    1.3     3.6 -10.0   0.0\n",
      "25       7510  2025-01-20 12:00:00  101620   -20         8  140.0   4.2   7.7   4.8   82  19660.00   0  100.00     8  1250  101030    -470  23.3   NaN    -2.90    6.2     7.1 -10.0   0.2\n",
      "26       7535  2025-01-20 12:00:00  101700     0         0  130.0   1.6  10.0   5.2   72  20000.00   0   93.37     0   944   98570    -330  23.3   NaN     2.00    2.9     2.9 -10.0   0.0\n",
      "27       7558  2025-01-20 12:00:00  101780    20         0  130.0   7.9   5.1   3.6   90  20000.00  61   93.37     5   944   93350    -190  23.3   NaN     1.90   14.0    14.4 -10.0  -0.1\n",
      "28       7577  2025-01-20 12:00:00  101960   -70         8  350.0   1.1   7.6   1.4   65   7770.00   0   93.37     5   944  101050    -190  23.3   NaN     1.00    2.1     2.6 -10.0   0.0\n",
      "29       7591  2025-01-20 12:00:00  101575   130         8   50.0   7.8  10.4  -4.1   36  17234.88   8   93.37     5   944   91540    -250  23.3   NaN     1.92   12.9    16.5 -10.0   0.0\n",
      "30       7607  2025-01-20 12:00:00  101640     0         0  120.0   1.8   7.6   6.5   93  17200.00   0  100.00     8  1250  100920    -340  23.3   NaN     1.70    2.6     3.0 -10.0   2.4\n",
      "31       7621  2025-01-20 12:00:00  101610    80         0  330.0   1.3  10.1   0.7   52  35280.00   0  100.00     8  2250   97280    -240  23.3   NaN    -2.00    2.4     4.6 -10.0   0.0\n",
      "32       7627  2025-01-20 12:00:00  101600    60         0  320.0   3.1   8.3  -1.8   49  20000.00   0   25.00     2  3170   96650    -300  23.3   NaN    -0.10    5.7     5.9 -10.0   0.0\n",
      "33       7630  2025-01-20 12:00:00  101630    10         0  130.0   4.9  10.5   7.0   79  15330.00   0  100.00     8   800   99820    -400  23.3   NaN     0.10    9.6     9.6 -10.0  -0.1\n",
      "34       7643  2025-01-20 12:00:00  101860   -40         8   50.0   3.7   9.5   5.7   77  16530.00   0  100.00     6   800  101760    -180  23.3   NaN     3.80    5.4     5.7 -10.0  -0.1\n",
      "35       7650  2025-01-20 12:00:00  101840   -80         8  310.0   1.3  10.9   7.0   77  21130.00   0   90.00     1  1250  101450    -160  23.3   NaN     4.70    2.1     4.0 -10.0   0.4\n",
      "36       7661  2025-01-20 12:00:00  101575    25         4   60.0   6.2  10.7   7.2   80  17234.88   8   93.37     5   944   99976    -186  23.3   NaN     1.92   10.8    10.8 -10.0   0.0\n",
      "37       7690  2025-01-20 12:00:00  101920   -10         8   20.0   4.8  10.4   6.7   78  20000.00  60  100.00     8  1250  101600      30  23.3   NaN     7.80    7.8    12.0 -10.0   2.2\n",
      "38       7747  2025-01-20 12:00:00  101620   -90         8  200.0   1.3  13.1   5.5   60  59340.00   0   93.37     1  4020  101090    -380  23.3   NaN     1.30    2.9     3.9 -10.0   0.0\n",
      "39       7761  2025-01-20 12:00:00  101820     0         0  140.0   2.5  14.4  10.2   76  38670.00   0   90.00     7   800  101710     280  23.3   NaN     8.60    4.1     4.8 -10.0   7.1\n",
      "40       7790  2025-01-20 12:00:00  101760   -80         8  130.0   4.3  14.3  10.5   78  30210.00   0   93.37     5   450  101620    -130  23.3   NaN     8.40    6.8     7.6 -10.0  14.3\n",
      "41      61968  2025-01-20 12:00:00  100890   150         6   40.0   2.8  10.7   7.2   80  17234.88   8   93.37     5   944  100840      20  23.3   NaN     1.92    0.0     6.4 -10.0   0.0\n",
      "42      61970  2025-01-20 12:00:00  100850   110         8  350.0   4.4  32.5  27.0   73  17234.88   8   93.37     5   944  100740      90  23.3   NaN     1.92    0.0     9.6 -10.0   2.8\n",
      "43      61972  2025-01-20 12:00:00  100780   120         6  290.0   3.7  31.9  24.8   66  17234.88   8   93.37     5   944  100710       0  23.3   NaN     1.92    0.0     5.5 -10.0   0.0\n",
      "44      61976  2025-01-20 12:00:00  101060   100         6   60.0   5.1  29.8  24.9   75  17234.88   8   93.37     5   944  100970     140  23.3   NaN     1.92    0.0    10.7 -10.0   0.4\n",
      "45      61980  2025-01-20 12:00:00  101280   -40         7   80.0   7.5  29.6  23.5   70  38800.00   0   93.37     3  1750  101130     170  23.3   NaN     1.92    9.5     9.5 -10.0  -0.1\n",
      "46      61996  2025-01-20 12:00:00  102310    20         5  260.0   5.0  20.3  10.1   52  17234.88   8   93.37     5   944  101970     440  23.3   NaN     1.92    0.0    10.3 -10.0   0.0\n",
      "47      61997  2025-01-20 12:00:00   99800   440         6  300.0  14.1  13.5  13.2   98  17234.88   8   93.37     5   944   98090    -560  23.3   NaN     1.92    0.0    21.4 -10.0   3.0\n",
      "48      61998  2025-01-20 12:00:00  100100   170         1  260.0   7.2  10.6   0.0   48  30000.00   2   25.00     2   800   99740     400  23.3   NaN     1.92    0.0    14.9 -10.0   0.0\n",
      "49      67005  2025-01-20 12:00:00  100890  -140         7  360.0   5.6  30.0  25.3   76  20000.00   0   93.37     5   450  100810       0  23.3   NaN     1.92    9.6    13.3 -10.0   0.0\n",
      "50      71805  2025-01-20 12:00:00   99910  -220         8  150.0  10.0   4.6   4.6  100   1000.00  60  100.00     7    80   99820   -2330  23.3   NaN     4.50   12.5    14.7 -10.0   6.7\n",
      "51      78890  2025-01-20 12:00:00  101850   150         2   70.0  12.8  27.3  22.3   74  17234.88   8   93.37     5   944  101530     -10  23.3   NaN     1.92    0.0    15.9 -10.0   0.0\n",
      "52      78897  2025-01-20 12:00:00  101880   140         1   80.0   4.5  26.7  21.5   73  50580.00   8   93.37     5   944  101790       0  23.3   NaN     1.92    0.0     0.0   0.0   0.0\n",
      "53      78922  2025-01-20 12:00:00  101810   140         3   90.0  10.7  27.0  22.8   78  17234.88   8   93.37     5   944  101360     -40  23.3   NaN     1.92   14.0    15.8 -10.0   0.2\n",
      "54      78925  2025-01-20 12:00:00  101750   160         1  130.0   5.6  24.5  23.1   92  17234.88   0   90.00     7   450  101660     -20  23.3   NaN     1.92    8.9     8.9 -10.0  11.9\n",
      "55      81401  2025-01-20 12:00:00  101410   150         3    0.0   0.0  25.3  23.2   88  17234.88   8   93.37     5   944  101350     -10  23.3   NaN     1.92    1.4     2.5 -10.0   0.0\n",
      "56      81405  2025-01-20 12:00:00  101410   140         3   70.0   0.7  25.6  22.9   85  58030.00   0   90.00     2   800  101320     -10  23.3   NaN    25.60    1.6     0.0 -10.0  -0.1\n",
      "57      81408  2025-01-20 12:00:00  101370   100         2  300.0   0.5  26.6  23.3   82  17234.88   8   93.37     5   944  101290     -30  23.3   NaN     1.92    1.7     1.9 -10.0   0.0\n",
      "58      81415  2025-01-20 12:00:00  101470   130         3   60.0   1.2  24.6  22.1   86  17234.88   8   93.37     5   944  100250     -10  23.3   NaN     1.92    2.5     2.5 -10.0   0.0\n",
      "59      89642  2025-01-20 12:00:00   98480     0         0  110.0   6.7   0.3  -5.1   67  17234.88   8   93.37     5   944   97950    -186  23.3   NaN     1.92    0.0     0.0   0.0   0.0\n"
     ]
    }
   ],
   "source": [
    "df[double] = df[double].round(2)\n",
    "print(df.to_string())"
   ]
  },
  {
   "cell_type": "markdown",
   "metadata": {},
   "source": [
    "# Add verif to check is all values"
   ]
  },
  {
   "cell_type": "code",
   "execution_count": 77,
   "metadata": {},
   "outputs": [
    {
     "name": "stdout",
     "output_type": "stream",
     "text": [
      "    numer_sta                 date    pmer  tend  cod_tend     dd    ff     t    td    u        vv  ww       n  nbas  hbas    pres  tend24  tn12  tx12  tminsol  raf10  rafper   per  rr12\n",
      "0        7005  2025-01-20 12:00:00  101990   -50         8  140.0   2.0   3.3   0.5   82   8480.00   0   93.37     5   944  101090    -240  23.3   0.0     0.00    3.9     5.6 -10.0   0.0\n",
      "1        7015  2025-01-20 12:00:00  102020   -40         8  150.0   2.6   0.2   0.2  100    640.00  45  101.00     9    30  101420    -280  23.3   0.0     0.10    3.7     3.7 -10.0   0.0\n",
      "2        7020  2025-01-20 12:00:00  101920    70         1  100.0   3.9   4.8   2.7   86  17234.88   8   93.37     5   944  101810     -60  23.3   0.0     1.92    6.5     7.9 -10.0   0.0\n",
      "3        7027  2025-01-20 12:00:00  101930   -20         8  130.0   5.0   2.2   0.7   90   6840.00   0  100.00     8   250  101090    -240  23.3   0.0     2.20    6.9     8.1 -10.0   0.0\n",
      "4        7037  2025-01-20 12:00:00  102000   -30         8  130.0   2.6   1.1  -0.4   90  10380.00   0  100.00     8   250  100030    -230  23.3   0.0     2.30    4.2     5.0 -10.0   0.0\n",
      "5        7072  2025-01-20 12:00:00  102100    10         0  160.0   1.5  -1.9  -2.2   98    480.00  48  100.00     8    80  100890    -210  23.3   0.0    -0.50    2.8     4.1 -10.0   0.0\n",
      "6        7110  2025-01-20 12:00:00  101680    10         0   70.0   1.8   9.2   3.0   65  19230.00   0   93.37     0   944  100490    -120  23.3   0.0    -2.50    2.8     3.6 -10.0   0.2\n",
      "7        7117  2025-01-20 12:00:00  101780   -10         8   90.0   4.5   3.0   3.0  100   6000.00   2  100.00     8  1250  101060     -50  23.3   0.0     1.92    7.6     8.1 -10.0   0.2\n",
      "8        7130  2025-01-20 12:00:00  101860     0         0  140.0   3.6   1.6   0.1   90  14060.00   0  100.00     8   250  101390    -230  23.3   0.0     0.10    5.4     6.3 -10.0   0.0\n",
      "9        7139  2025-01-20 12:00:00  101960   -40         8   90.0   2.6  -0.4  -1.1   95   9740.00   0  100.00     8   150  100130    -260  23.3   0.0     3.40    4.4     5.1 -10.0   0.0\n",
      "10       7149  2025-01-20 12:00:00  102060   -20         8   70.0   2.2  -1.8  -2.4   96   4000.00  20  100.00     8   150  100910    -260  23.3   0.0     1.92    3.7     5.0 -10.0  -0.1\n",
      "11       7181  2025-01-20 12:00:00  102080   -50         8   80.0   2.0   0.3  -0.6   94   7990.00   0  100.00     8  3960   97740    -190  23.3   0.0    -4.60    3.1     3.1 -10.0   0.0\n",
      "12       7190  2025-01-20 12:00:00  102200   -10         8  300.0   0.6  -0.6  -0.9   98    810.00  48  100.00     8    80  100290     -90  23.3   0.0    -0.60    2.0     2.6 -10.0   0.0\n",
      "13       7207  2025-01-20 12:00:00  101575    25         4   70.0   6.2   2.1   7.2   80   6000.00   2  100.00     8   150   99976    -186  23.3   0.0     1.92    9.0    12.4 -10.0   0.0\n",
      "14       7222  2025-01-20 12:00:00  101770    30         0   60.0   4.1  -0.2  -1.3   92   7210.00   0  100.00     8   150  101440    -370  23.3   0.0     0.70    6.0     7.0 -10.0   0.0\n",
      "15       7240  2025-01-20 12:00:00  101920   -20         8   60.0   1.9   0.5  -0.4   94   9560.00   0  100.00     8   150  100510    -310  23.3   0.0     1.30    3.4     3.6 -10.0   0.0\n",
      "16       7255  2025-01-20 12:00:00  101940     0         0  130.0   2.2   1.5   0.8   95  10480.00   0   93.37     5   944   99870    -350  23.3   0.0     0.00    3.1     4.3 -10.0   0.0\n",
      "17       7280  2025-01-20 12:00:00  102140   -10         0   30.0   1.5  -1.5  -1.8   98   2000.00  10  100.00     8    80   99370    -220  23.3   0.0    -1.50    2.6     2.6 -10.0   0.0\n",
      "18       7299  2025-01-20 12:00:00  102050   -70         8  350.0   2.1   4.5   0.1   73   9610.00   0   93.37     0   944   98700    -140  23.3   0.0     0.70    3.6     3.9 -10.0   0.0\n",
      "19       7314  2025-01-20 12:00:00  101670    40         0   80.0   4.2   7.5   4.3   80  17234.88   8   93.37     5   944  101390    -420  23.3   0.0     1.92    7.2     7.2 -10.0   0.0\n",
      "20       7335  2025-01-20 12:00:00  101840     0         0  100.0   1.6   3.2   1.4   88  11020.00   0   93.37     0   944  100350    -380  23.3   0.0     2.80    3.3     3.3 -10.0   0.0\n",
      "21       7434  2025-01-20 12:00:00  101700    10         0  160.0   4.4   9.8   4.0   67  29140.00   0   93.37     1  1250   96910    -300  23.3   0.0     1.80    7.6     7.6 -10.0   0.0\n",
      "22       7460  2025-01-20 12:00:00  101900   -10         8   50.0   1.5   3.6   0.8   82   3900.00  10  100.00     8  2250   97850    -240  23.3   0.0    -3.50    2.5     2.5 -10.0  -0.1\n",
      "23       7471  2025-01-20 12:00:00  101575   -20         8  130.0   2.2   6.5   0.6   66  20000.00   0  100.00     1   800   92050    -180  23.3   0.0    -1.50    6.1     6.1 -10.0  -0.1\n",
      "24       7481  2025-01-20 12:00:00  102060   -30         8  170.0   0.6   1.6   1.0   96   4000.00  10   90.00     5   150   99080    -230  23.3   0.0     1.92    1.3     3.6 -10.0   0.0\n",
      "25       7510  2025-01-20 12:00:00  101620   -20         8  140.0   4.2   7.7   4.8   82  19660.00   0  100.00     8  1250  101030    -470  23.3   0.0    -2.90    6.2     7.1 -10.0   0.2\n",
      "26       7535  2025-01-20 12:00:00  101700     0         0  130.0   1.6  10.0   5.2   72  20000.00   0   93.37     0   944   98570    -330  23.3   0.0     2.00    2.9     2.9 -10.0   0.0\n",
      "27       7558  2025-01-20 12:00:00  101780    20         0  130.0   7.9   5.1   3.6   90  20000.00  61   93.37     5   944   93350    -190  23.3   0.0     1.90   14.0    14.4 -10.0  -0.1\n",
      "28       7577  2025-01-20 12:00:00  101960   -70         8  350.0   1.1   7.6   1.4   65   7770.00   0   93.37     5   944  101050    -190  23.3   0.0     1.00    2.1     2.6 -10.0   0.0\n",
      "29       7591  2025-01-20 12:00:00  101575   130         8   50.0   7.8  10.4  -4.1   36  17234.88   8   93.37     5   944   91540    -250  23.3   0.0     1.92   12.9    16.5 -10.0   0.0\n",
      "30       7607  2025-01-20 12:00:00  101640     0         0  120.0   1.8   7.6   6.5   93  17200.00   0  100.00     8  1250  100920    -340  23.3   0.0     1.70    2.6     3.0 -10.0   2.4\n",
      "31       7621  2025-01-20 12:00:00  101610    80         0  330.0   1.3  10.1   0.7   52  35280.00   0  100.00     8  2250   97280    -240  23.3   0.0    -2.00    2.4     4.6 -10.0   0.0\n",
      "32       7627  2025-01-20 12:00:00  101600    60         0  320.0   3.1   8.3  -1.8   49  20000.00   0   25.00     2  3170   96650    -300  23.3   0.0    -0.10    5.7     5.9 -10.0   0.0\n",
      "33       7630  2025-01-20 12:00:00  101630    10         0  130.0   4.9  10.5   7.0   79  15330.00   0  100.00     8   800   99820    -400  23.3   0.0     0.10    9.6     9.6 -10.0  -0.1\n",
      "34       7643  2025-01-20 12:00:00  101860   -40         8   50.0   3.7   9.5   5.7   77  16530.00   0  100.00     6   800  101760    -180  23.3   0.0     3.80    5.4     5.7 -10.0  -0.1\n",
      "35       7650  2025-01-20 12:00:00  101840   -80         8  310.0   1.3  10.9   7.0   77  21130.00   0   90.00     1  1250  101450    -160  23.3   0.0     4.70    2.1     4.0 -10.0   0.4\n",
      "36       7661  2025-01-20 12:00:00  101575    25         4   60.0   6.2  10.7   7.2   80  17234.88   8   93.37     5   944   99976    -186  23.3   0.0     1.92   10.8    10.8 -10.0   0.0\n",
      "37       7690  2025-01-20 12:00:00  101920   -10         8   20.0   4.8  10.4   6.7   78  20000.00  60  100.00     8  1250  101600      30  23.3   0.0     7.80    7.8    12.0 -10.0   2.2\n",
      "38       7747  2025-01-20 12:00:00  101620   -90         8  200.0   1.3  13.1   5.5   60  59340.00   0   93.37     1  4020  101090    -380  23.3   0.0     1.30    2.9     3.9 -10.0   0.0\n",
      "39       7761  2025-01-20 12:00:00  101820     0         0  140.0   2.5  14.4  10.2   76  38670.00   0   90.00     7   800  101710     280  23.3   0.0     8.60    4.1     4.8 -10.0   7.1\n",
      "40       7790  2025-01-20 12:00:00  101760   -80         8  130.0   4.3  14.3  10.5   78  30210.00   0   93.37     5   450  101620    -130  23.3   0.0     8.40    6.8     7.6 -10.0  14.3\n",
      "41      61968  2025-01-20 12:00:00  100890   150         6   40.0   2.8  10.7   7.2   80  17234.88   8   93.37     5   944  100840      20  23.3   0.0     1.92    0.0     6.4 -10.0   0.0\n",
      "42      61970  2025-01-20 12:00:00  100850   110         8  350.0   4.4  32.5  27.0   73  17234.88   8   93.37     5   944  100740      90  23.3   0.0     1.92    0.0     9.6 -10.0   2.8\n",
      "43      61972  2025-01-20 12:00:00  100780   120         6  290.0   3.7  31.9  24.8   66  17234.88   8   93.37     5   944  100710       0  23.3   0.0     1.92    0.0     5.5 -10.0   0.0\n",
      "44      61976  2025-01-20 12:00:00  101060   100         6   60.0   5.1  29.8  24.9   75  17234.88   8   93.37     5   944  100970     140  23.3   0.0     1.92    0.0    10.7 -10.0   0.4\n",
      "45      61980  2025-01-20 12:00:00  101280   -40         7   80.0   7.5  29.6  23.5   70  38800.00   0   93.37     3  1750  101130     170  23.3   0.0     1.92    9.5     9.5 -10.0  -0.1\n",
      "46      61996  2025-01-20 12:00:00  102310    20         5  260.0   5.0  20.3  10.1   52  17234.88   8   93.37     5   944  101970     440  23.3   0.0     1.92    0.0    10.3 -10.0   0.0\n",
      "47      61997  2025-01-20 12:00:00   99800   440         6  300.0  14.1  13.5  13.2   98  17234.88   8   93.37     5   944   98090    -560  23.3   0.0     1.92    0.0    21.4 -10.0   3.0\n",
      "48      61998  2025-01-20 12:00:00  100100   170         1  260.0   7.2  10.6   0.0   48  30000.00   2   25.00     2   800   99740     400  23.3   0.0     1.92    0.0    14.9 -10.0   0.0\n",
      "49      67005  2025-01-20 12:00:00  100890  -140         7  360.0   5.6  30.0  25.3   76  20000.00   0   93.37     5   450  100810       0  23.3   0.0     1.92    9.6    13.3 -10.0   0.0\n",
      "50      71805  2025-01-20 12:00:00   99910  -220         8  150.0  10.0   4.6   4.6  100   1000.00  60  100.00     7    80   99820   -2330  23.3   0.0     4.50   12.5    14.7 -10.0   6.7\n",
      "51      78890  2025-01-20 12:00:00  101850   150         2   70.0  12.8  27.3  22.3   74  17234.88   8   93.37     5   944  101530     -10  23.3   0.0     1.92    0.0    15.9 -10.0   0.0\n",
      "52      78897  2025-01-20 12:00:00  101880   140         1   80.0   4.5  26.7  21.5   73  50580.00   8   93.37     5   944  101790       0  23.3   0.0     1.92    0.0     0.0   0.0   0.0\n",
      "53      78922  2025-01-20 12:00:00  101810   140         3   90.0  10.7  27.0  22.8   78  17234.88   8   93.37     5   944  101360     -40  23.3   0.0     1.92   14.0    15.8 -10.0   0.2\n",
      "54      78925  2025-01-20 12:00:00  101750   160         1  130.0   5.6  24.5  23.1   92  17234.88   0   90.00     7   450  101660     -20  23.3   0.0     1.92    8.9     8.9 -10.0  11.9\n",
      "55      81401  2025-01-20 12:00:00  101410   150         3    0.0   0.0  25.3  23.2   88  17234.88   8   93.37     5   944  101350     -10  23.3   0.0     1.92    1.4     2.5 -10.0   0.0\n",
      "56      81405  2025-01-20 12:00:00  101410   140         3   70.0   0.7  25.6  22.9   85  58030.00   0   90.00     2   800  101320     -10  23.3   0.0    25.60    1.6     0.0 -10.0  -0.1\n",
      "57      81408  2025-01-20 12:00:00  101370   100         2  300.0   0.5  26.6  23.3   82  17234.88   8   93.37     5   944  101290     -30  23.3   0.0     1.92    1.7     1.9 -10.0   0.0\n",
      "58      81415  2025-01-20 12:00:00  101470   130         3   60.0   1.2  24.6  22.1   86  17234.88   8   93.37     5   944  100250     -10  23.3   0.0     1.92    2.5     2.5 -10.0   0.0\n",
      "59      89642  2025-01-20 12:00:00   98480     0         0  110.0   6.7   0.3  -5.1   67  17234.88   8   93.37     5   944   97950    -186  23.3   0.0     1.92    0.0     0.0   0.0   0.0\n"
     ]
    },
    {
     "name": "stderr",
     "output_type": "stream",
     "text": [
      "/tmp/ipykernel_1556173/555783230.py:5: FutureWarning: A value is trying to be set on a copy of a DataFrame or Series through chained assignment using an inplace method.\n",
      "The behavior will change in pandas 3.0. This inplace method will never work because the intermediate object on which we are setting values always behaves as a copy.\n",
      "\n",
      "For example, when doing 'df[col].method(value, inplace=True)', try using 'df.method({col: value}, inplace=True)' or df[col] = df[col].method(value) instead, to perform the operation inplace on the original object.\n",
      "\n",
      "\n",
      "  df[col].fillna(0.0,inplace=True)\n"
     ]
    }
   ],
   "source": [
    "verif = [\"pmer\", \"tend\", \"cod_tend\", \"pres\", \"tend24\", \"t\", \"td\", \"tn12\", \"tx12\", \"tminsol\", \"u\", \"vv\", \"n\", \"nbas\", \"hbas\", \"ww\"]\n",
    "\n",
    "for col in verif:\n",
    "    if df[col].isna().all() :\n",
    "        df[col].fillna(0.0,inplace=True)\n",
    "\n",
    "print(df.to_string())"
   ]
  },
  {
   "cell_type": "markdown",
   "metadata": {},
   "source": [
    "# Archive file"
   ]
  },
  {
   "cell_type": "code",
   "execution_count": 78,
   "metadata": {
    "execution": {
     "iopub.execute_input": "2024-12-27T21:20:22.043136Z",
     "iopub.status.busy": "2024-12-27T21:20:22.043066Z",
     "iopub.status.idle": "2024-12-27T21:20:22.044909Z",
     "shell.execute_reply": "2024-12-27T21:20:22.044702Z"
    }
   },
   "outputs": [
    {
     "name": "stdout",
     "output_type": "stream",
     "text": [
      "Le fichier a été déplacé de /home/etudiant/dossier_partage/donnees-meteo/synop.2025012012.csv à /home/etudiant/dossier_partage/donnees-meteo/archive/synop.2025012012.csv\n"
     ]
    }
   ],
   "source": [
    "from file_management import move_file\n",
    "\n",
    "move_file(cvs_file, ARCHIVE_DIRECTORY)"
   ]
  },
  {
   "cell_type": "markdown",
   "metadata": {},
   "source": [
    "# Sending data to API"
   ]
  },
  {
   "cell_type": "code",
   "execution_count": 79,
   "metadata": {},
   "outputs": [],
   "source": [
    "import requests\n",
    "from api import send_data"
   ]
  },
  {
   "cell_type": "code",
   "execution_count": null,
   "metadata": {},
   "outputs": [
    {
     "name": "stdout",
     "output_type": "stream",
     "text": [
      "tminsol\n",
      "Données ajoutées avec succès!\n",
      "tminsol\n",
      "Données ajoutées avec succès!\n",
      "tminsol\n"
     ]
    },
    {
     "name": "stdout",
     "output_type": "stream",
     "text": [
      "Données ajoutées avec succès!\n",
      "tminsol\n",
      "Données ajoutées avec succès!\n",
      "tminsol\n",
      "Données ajoutées avec succès!\n",
      "tminsol\n",
      "Données ajoutées avec succès!\n",
      "tminsol\n",
      "Données ajoutées avec succès!\n",
      "tminsol\n",
      "Données ajoutées avec succès!\n",
      "tminsol\n",
      "Données ajoutées avec succès!\n",
      "tminsol\n",
      "Données ajoutées avec succès!\n",
      "tminsol\n",
      "Données ajoutées avec succès!\n",
      "tminsol\n",
      "Données ajoutées avec succès!\n",
      "tminsol\n",
      "Données ajoutées avec succès!\n",
      "tminsol\n",
      "Données ajoutées avec succès!\n",
      "tminsol\n",
      "Données ajoutées avec succès!\n",
      "tminsol\n",
      "Données ajoutées avec succès!\n",
      "tminsol\n",
      "Données ajoutées avec succès!\n",
      "tminsol\n",
      "Données ajoutées avec succès!\n",
      "tminsol\n",
      "Données ajoutées avec succès!\n",
      "tminsol\n",
      "Données ajoutées avec succès!\n",
      "tminsol\n",
      "Données ajoutées avec succès!\n",
      "tminsol\n",
      "Données ajoutées avec succès!\n",
      "tminsol\n",
      "Données ajoutées avec succès!\n",
      "tminsol\n",
      "Données ajoutées avec succès!\n",
      "tminsol\n",
      "Données ajoutées avec succès!\n",
      "tminsol\n",
      "Données ajoutées avec succès!\n",
      "tminsol\n",
      "Données ajoutées avec succès!\n",
      "tminsol\n",
      "Données ajoutées avec succès!\n",
      "tminsol\n",
      "Données ajoutées avec succès!\n",
      "tminsol\n",
      "Données ajoutées avec succès!\n",
      "tminsol\n",
      "Données ajoutées avec succès!\n",
      "tminsol\n",
      "Données ajoutées avec succès!\n",
      "tminsol\n",
      "Données ajoutées avec succès!\n",
      "tminsol\n",
      "Données ajoutées avec succès!\n",
      "tminsol\n",
      "Données ajoutées avec succès!\n",
      "tminsol\n",
      "Données ajoutées avec succès!\n",
      "tminsol\n",
      "Données ajoutées avec succès!\n",
      "tminsol\n",
      "Données ajoutées avec succès!\n",
      "tminsol\n",
      "Données ajoutées avec succès!\n",
      "tminsol\n",
      "Données ajoutées avec succès!\n",
      "tminsol\n",
      "Données ajoutées avec succès!\n",
      "tminsol\n",
      "Données ajoutées avec succès!\n",
      "tminsol\n",
      "Données ajoutées avec succès!\n",
      "tminsol\n",
      "Données ajoutées avec succès!\n",
      "tminsol\n",
      "Données ajoutées avec succès!\n",
      "tminsol\n",
      "Données ajoutées avec succès!\n",
      "tminsol\n",
      "Données ajoutées avec succès!\n",
      "tminsol\n",
      "Données ajoutées avec succès!\n",
      "tminsol\n",
      "Données ajoutées avec succès!\n",
      "tminsol\n",
      "Données ajoutées avec succès!\n",
      "tminsol\n",
      "Données ajoutées avec succès!\n",
      "tminsol\n",
      "Données ajoutées avec succès!\n",
      "tminsol\n",
      "Données ajoutées avec succès!\n",
      "tminsol\n",
      "Données ajoutées avec succès!\n",
      "tminsol\n",
      "Données ajoutées avec succès!\n",
      "tminsol\n",
      "Données ajoutées avec succès!\n",
      "tminsol\n",
      "Données ajoutées avec succès!\n",
      "tminsol\n",
      "Données ajoutées avec succès!\n",
      "tminsol\n",
      "Données ajoutées avec succès!\n",
      "tminsol\n",
      "Données ajoutées avec succès!\n"
     ]
    }
   ],
   "source": [
    "API_URL = \"http://127.0.0.1:8080/api/donnees-climatiques\" \n",
    "\n",
    "dict_data = df.to_dict(orient=\"records\")\n",
    "\n",
    "for row in dict_data:\n",
    "    print(row)\n",
    "    send_data(API_URL, row, requests)"
   ]
  },
  {
   "cell_type": "code",
   "execution_count": 81,
   "metadata": {},
   "outputs": [
    {
     "name": "stdout",
     "output_type": "stream",
     "text": [
      "Erreur de connexion : HTTPSConnectionPool(host='127.0.0.1', port=8000): Max retries exceeded with url: /product (Caused by NewConnectionError('<urllib3.connection.HTTPSConnection object at 0x7f09913d4190>: Failed to establish a new connection: [Errno 111] Connection refused'))\n"
     ]
    },
    {
     "data": {
      "text/plain": [
       "{'error': \"HTTPSConnectionPool(host='127.0.0.1', port=8000): Max retries exceeded with url: /product (Caused by NewConnectionError('<urllib3.connection.HTTPSConnection object at 0x7f09913d4190>: Failed to establish a new connection: [Errno 111] Connection refused'))\"}"
      ]
     },
     "execution_count": 81,
     "metadata": {},
     "output_type": "execute_result"
    }
   ],
   "source": [
    "url_api = \"https://127.0.0.1:8000/product\" \n",
    "donnees = {\n",
    "    \"name\": \"Essai\",\n",
    "    \"description\": \"Superbe desc\",\n",
    "    \"price\": 122.2,\n",
    "    'createdAt': '2024-12-22T16:44:44+00:00',\n",
    "    'updatedAt': '2024-12-22T16:44:44+00:00'\n",
    "}\n",
    "\n",
    "send_data(url_api, donnees, requests)\n"
   ]
  }
 ],
 "metadata": {
  "kernelspec": {
   "display_name": "venv",
   "language": "python",
   "name": "python3"
  },
  "language_info": {
   "codemirror_mode": {
    "name": "ipython",
    "version": 3
   },
   "file_extension": ".py",
   "mimetype": "text/x-python",
   "name": "python",
   "nbconvert_exporter": "python",
   "pygments_lexer": "ipython3",
   "version": "3.11.2"
  }
 },
 "nbformat": 4,
 "nbformat_minor": 2
}
