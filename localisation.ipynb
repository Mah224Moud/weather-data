{
 "cells": [
  {
   "cell_type": "code",
   "execution_count": 37,
   "metadata": {},
   "outputs": [],
   "source": [
    "import pandas as pd\n",
    "import json\n",
    "from api import send_data\n",
    "import requests"
   ]
  },
  {
   "cell_type": "code",
   "execution_count": 38,
   "metadata": {},
   "outputs": [
    {
     "name": "stdout",
     "output_type": "stream",
     "text": [
      "       ID                  Nom   Latitude   Longitude  Altitude\n",
      "0    7005            ABBEVILLE  50.136000    1.834000        69\n",
      "1    7015        LILLE-LESQUIN  50.570000    3.097500        47\n",
      "2    7020      PTE DE LA HAGUE  49.725167   -1.939833         6\n",
      "3    7027       CAEN-CARPIQUET  49.180000   -0.456167        67\n",
      "4    7037           ROUEN-BOOS  49.383000    1.181667       151\n",
      "5    7072         REIMS-PRUNAY  49.209667    4.155333        95\n",
      "6    7110       BREST-GUIPAVAS  48.444167   -4.412000        94\n",
      "7    7117          PLOUMANAC'H  48.825833   -3.473167        55\n",
      "8    7130    RENNES-ST JACQUES  48.068833   -1.734000        36\n",
      "9    7139              ALENCON  48.445500    0.110167       143\n",
      "10   7149                 ORLY  48.716833    2.384333        89\n",
      "11   7168      TROYES-BARBEREY  48.324667    4.020000       112\n",
      "12   7181          NANCY-OCHEY  48.581000    5.959833       336\n",
      "13   7190  STRASBOURG-ENTZHEIM  48.549500    7.640333       150\n",
      "14   7207   BELLE ILE-LE TALUT  47.294333   -3.218333        34\n",
      "15   7222    NANTES-BOUGUENAIS  47.150000   -1.608833        26\n",
      "16   7240                TOURS  47.444500    0.727333       108\n",
      "17   7255              BOURGES  47.059167    2.359833       161\n",
      "18   7280        DIJON-LONGVIC  47.267833    5.088333       219\n",
      "19   7299        BALE-MULHOUSE  47.614333    7.510000       263\n",
      "20   7314     PTE DE CHASSIRON  46.046833   -1.411500        11\n",
      "21   7335       POITIERS-BIARD  46.593833    0.314333       123\n",
      "22   7434   LIMOGES-BELLEGARDE  45.861167    1.175000       402\n",
      "23   7460          CLERMONT-FD  45.786833    3.149333       331\n",
      "24   7471        LE PUY-LOUDES  45.074500    3.764000       833\n",
      "25   7481      LYON-ST EXUPERY  45.726500    5.077833       235\n",
      "26   7510    BORDEAUX-MERIGNAC  44.830667   -0.691333        47\n",
      "27   7535              GOURDON  44.745000    1.396667       260\n",
      "28   7558               MILLAU  44.118500    3.019500       712\n",
      "29   7577           MONTELIMAR  44.581167    4.733000        73\n",
      "30   7591               EMBRUN  44.565667    6.502333       871\n",
      "31   7607       MONT-DE-MARSAN  43.909833   -0.500167        59\n",
      "32   7621         TARBES-OSSUN  43.188000    0.000000       360\n",
      "33   7627            ST GIRONS  43.005333    1.106833       414\n",
      "34   7630     TOULOUSE-BLAGNAC  43.621000    1.378833       151\n",
      "35   7643          MONTPELLIER  43.577000    3.963167         2\n",
      "36   7650            MARIGNANE  43.437667    5.216000         9\n",
      "37   7661            CAP CEPET  43.079333    5.940833       115\n",
      "38   7690                 NICE  43.648833    7.209000         2\n",
      "39   7747            PERPIGNAN  42.737167    2.872833        42\n",
      "40   7761              AJACCIO  41.918000    8.792667         5\n",
      "41   7790               BASTIA  42.540667    9.485167        10\n",
      "42  61968           GLORIEUSES -11.582667   47.289667         3\n",
      "43  61970         JUAN DE NOVA -17.054667   42.712000         9\n",
      "44  61972               EUROPA -22.344167   40.340667         6\n",
      "45  61976             TROMELIN -15.887667   54.520667         7\n",
      "46  61980      GILLOT-AEROPORT -20.892500   55.528667         8\n",
      "47  61996   NOUVELLE AMSTERDAM -37.795167   77.569167        27\n",
      "48  61997               CROZET -46.432500   51.856667       146\n",
      "49  61998            KERGUELEN -49.352333   70.243333        29\n",
      "50  67005             PAMANDZI -12.805500   45.282833         7\n",
      "51  71805            ST-PIERRE  46.766333  -56.179167        21\n",
      "52  78890    LA DESIRADE METEO  16.335000  -61.004000        27\n",
      "53  78894  ST-BARTHELEMY METEO  17.901500  -62.852167        44\n",
      "54  78897       LE RAIZET AERO  16.264000  -61.516333        11\n",
      "55  78922      TRINITE-CARAVEL  14.774500  -60.875333        26\n",
      "56  78925        LAMENTIN-AERO  14.595333  -60.995667         3\n",
      "57  81401        SAINT LAURENT   5.485500  -54.031667         5\n",
      "58  81405      CAYENNE-MATOURY   4.822333  -52.365333         4\n",
      "59  81408        SAINT GEORGES   3.890667  -51.804667         6\n",
      "60  81415          MARIPASOULA   3.640167  -54.028333       106\n",
      "61  89642     DUMONT D'URVILLE -66.663167  140.001000        43\n"
     ]
    }
   ],
   "source": [
    "df = pd.read_csv(\"public/postesSynop.csv\", sep=\";\")\n",
    "print(df.to_string())"
   ]
  },
  {
   "cell_type": "markdown",
   "metadata": {},
   "source": [
    "# Updating ID to numer_sta"
   ]
  },
  {
   "cell_type": "code",
   "execution_count": 39,
   "metadata": {},
   "outputs": [
    {
     "name": "stdout",
     "output_type": "stream",
     "text": [
      "    numer_sta                  Nom   Latitude   Longitude  Altitude\n",
      "0        7005            ABBEVILLE  50.136000    1.834000        69\n",
      "1        7015        LILLE-LESQUIN  50.570000    3.097500        47\n",
      "2        7020      PTE DE LA HAGUE  49.725167   -1.939833         6\n",
      "3        7027       CAEN-CARPIQUET  49.180000   -0.456167        67\n",
      "4        7037           ROUEN-BOOS  49.383000    1.181667       151\n",
      "5        7072         REIMS-PRUNAY  49.209667    4.155333        95\n",
      "6        7110       BREST-GUIPAVAS  48.444167   -4.412000        94\n",
      "7        7117          PLOUMANAC'H  48.825833   -3.473167        55\n",
      "8        7130    RENNES-ST JACQUES  48.068833   -1.734000        36\n",
      "9        7139              ALENCON  48.445500    0.110167       143\n",
      "10       7149                 ORLY  48.716833    2.384333        89\n",
      "11       7168      TROYES-BARBEREY  48.324667    4.020000       112\n",
      "12       7181          NANCY-OCHEY  48.581000    5.959833       336\n",
      "13       7190  STRASBOURG-ENTZHEIM  48.549500    7.640333       150\n",
      "14       7207   BELLE ILE-LE TALUT  47.294333   -3.218333        34\n",
      "15       7222    NANTES-BOUGUENAIS  47.150000   -1.608833        26\n",
      "16       7240                TOURS  47.444500    0.727333       108\n",
      "17       7255              BOURGES  47.059167    2.359833       161\n",
      "18       7280        DIJON-LONGVIC  47.267833    5.088333       219\n",
      "19       7299        BALE-MULHOUSE  47.614333    7.510000       263\n",
      "20       7314     PTE DE CHASSIRON  46.046833   -1.411500        11\n",
      "21       7335       POITIERS-BIARD  46.593833    0.314333       123\n",
      "22       7434   LIMOGES-BELLEGARDE  45.861167    1.175000       402\n",
      "23       7460          CLERMONT-FD  45.786833    3.149333       331\n",
      "24       7471        LE PUY-LOUDES  45.074500    3.764000       833\n",
      "25       7481      LYON-ST EXUPERY  45.726500    5.077833       235\n",
      "26       7510    BORDEAUX-MERIGNAC  44.830667   -0.691333        47\n",
      "27       7535              GOURDON  44.745000    1.396667       260\n",
      "28       7558               MILLAU  44.118500    3.019500       712\n",
      "29       7577           MONTELIMAR  44.581167    4.733000        73\n",
      "30       7591               EMBRUN  44.565667    6.502333       871\n",
      "31       7607       MONT-DE-MARSAN  43.909833   -0.500167        59\n",
      "32       7621         TARBES-OSSUN  43.188000    0.000000       360\n",
      "33       7627            ST GIRONS  43.005333    1.106833       414\n",
      "34       7630     TOULOUSE-BLAGNAC  43.621000    1.378833       151\n",
      "35       7643          MONTPELLIER  43.577000    3.963167         2\n",
      "36       7650            MARIGNANE  43.437667    5.216000         9\n",
      "37       7661            CAP CEPET  43.079333    5.940833       115\n",
      "38       7690                 NICE  43.648833    7.209000         2\n",
      "39       7747            PERPIGNAN  42.737167    2.872833        42\n",
      "40       7761              AJACCIO  41.918000    8.792667         5\n",
      "41       7790               BASTIA  42.540667    9.485167        10\n",
      "42      61968           GLORIEUSES -11.582667   47.289667         3\n",
      "43      61970         JUAN DE NOVA -17.054667   42.712000         9\n",
      "44      61972               EUROPA -22.344167   40.340667         6\n",
      "45      61976             TROMELIN -15.887667   54.520667         7\n",
      "46      61980      GILLOT-AEROPORT -20.892500   55.528667         8\n",
      "47      61996   NOUVELLE AMSTERDAM -37.795167   77.569167        27\n",
      "48      61997               CROZET -46.432500   51.856667       146\n",
      "49      61998            KERGUELEN -49.352333   70.243333        29\n",
      "50      67005             PAMANDZI -12.805500   45.282833         7\n",
      "51      71805            ST-PIERRE  46.766333  -56.179167        21\n",
      "52      78890    LA DESIRADE METEO  16.335000  -61.004000        27\n",
      "53      78894  ST-BARTHELEMY METEO  17.901500  -62.852167        44\n",
      "54      78897       LE RAIZET AERO  16.264000  -61.516333        11\n",
      "55      78922      TRINITE-CARAVEL  14.774500  -60.875333        26\n",
      "56      78925        LAMENTIN-AERO  14.595333  -60.995667         3\n",
      "57      81401        SAINT LAURENT   5.485500  -54.031667         5\n",
      "58      81405      CAYENNE-MATOURY   4.822333  -52.365333         4\n",
      "59      81408        SAINT GEORGES   3.890667  -51.804667         6\n",
      "60      81415          MARIPASOULA   3.640167  -54.028333       106\n",
      "61      89642     DUMONT D'URVILLE -66.663167  140.001000        43\n"
     ]
    }
   ],
   "source": [
    "df.rename(columns={\"ID\": \"numer_sta\"}, inplace=True)\n",
    "print(df.to_string())"
   ]
  },
  {
   "cell_type": "code",
   "execution_count": null,
   "metadata": {},
   "outputs": [],
   "source": [
    "API_URL = \"https://127.0.0.1:8080/api/localisation\"\n",
    "\n",
    "dict_data = df.to_dict(orient=\"records\")\n",
    "for row in dict_data:\n",
    "    send_data(API_URL, row, requests)"
   ]
  }
 ],
 "metadata": {
  "kernelspec": {
   "display_name": ".venv",
   "language": "python",
   "name": "python3"
  },
  "language_info": {
   "codemirror_mode": {
    "name": "ipython",
    "version": 3
   },
   "file_extension": ".py",
   "mimetype": "text/x-python",
   "name": "python",
   "nbconvert_exporter": "python",
   "pygments_lexer": "ipython3",
   "version": "3.9.6"
  }
 },
 "nbformat": 4,
 "nbformat_minor": 2
}
