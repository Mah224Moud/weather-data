{
 "cells": [
  {
   "cell_type": "markdown",
   "metadata": {},
   "source": [
    "## Browser Configs"
   ]
  },
  {
   "cell_type": "code",
   "execution_count": null,
   "metadata": {
    "execution": {
     "iopub.execute_input": "2024-12-27T21:20:13.378233Z",
     "iopub.status.busy": "2024-12-27T21:20:13.378161Z",
     "iopub.status.idle": "2024-12-27T21:20:13.379973Z",
     "shell.execute_reply": "2024-12-27T21:20:13.379754Z"
    }
   },
   "outputs": [],
   "source": [
    "from selenium import webdriver\n",
    "from selenium.webdriver.common.by import By\n",
    "from selenium.webdriver.chrome.options import Options\n",
    "import time\n",
    "\n",
    "download_directory = \"/opt/dossier_partage/donnees-meteo/download\"  \n",
    "chrome_options = Options()\n",
    "prefs = {\n",
    "    \"download.default_directory\": download_directory,  \n",
    "    \"download.prompt_for_download\": False,\n",
    "    \"download.directory_upgrade\": True,\n",
    "    \"safebrowsing.enabled\": True\n",
    "}\n",
    "chrome_options.add_experimental_option(\"prefs\", prefs)\n",
    "\n",
    "\n",
    "driver = webdriver.Chrome(options=chrome_options)\n",
    "\n",
    "\n",
    "def download_file_for_date(date):\n",
    "    url = f\"https://donneespubliques.meteofrance.fr/?fond=donnee_libre&prefixe=Txt%2FSynop%2FArchive%2Fsynop&extension=csv.gz&date={date}\"\n",
    "    try:\n",
    "        print(f\"Téléchargement pour la date : {date}\")\n",
    "        driver.get(url)\n",
    "        time.sleep(5)\n",
    "\n",
    "    except Exception as e:\n",
    "        print(f\"Erreur lors du téléchargement de {date}: {e}\")\n",
    "\n",
    "for year in range(2002, 2025):  \n",
    "    \n",
    "    for month in range(1, 13):  \n",
    "        \n",
    "\n",
    "print(\"Téléchargement terminé.\")\n",
    "driver.quit()\n"
   ]
  },
  {
   "cell_type": "markdown",
   "metadata": {},
   "source": []
  }
 ],
 "metadata": {
  "kernelspec": {
   "display_name": "venv",
   "language": "python",
   "name": "python3"
  },
  "language_info": {
   "codemirror_mode": {
    "name": "ipython",
    "version": 3
   },
   "file_extension": ".py",
   "mimetype": "text/x-python",
   "name": "python",
   "nbconvert_exporter": "python",
   "pygments_lexer": "ipython3",
   "version": "3.11.2"
  }
 },
 "nbformat": 4,
 "nbformat_minor": 2
}
